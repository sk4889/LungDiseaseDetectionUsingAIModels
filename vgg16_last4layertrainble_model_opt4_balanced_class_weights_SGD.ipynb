{
 "cells": [
  {
   "cell_type": "code",
   "execution_count": 1,
   "id": "2779f38e",
   "metadata": {},
   "outputs": [],
   "source": [
    "from tensorflow.keras.applications.vgg16 import VGG16\n",
    "from tensorflow.keras.applications.vgg16 import preprocess_input\n",
    "from keras.layers import Input\n",
    "from tensorflow.keras.preprocessing.image import ImageDataGenerator"
   ]
  },
  {
   "cell_type": "code",
   "execution_count": 2,
   "id": "5c91e594",
   "metadata": {},
   "outputs": [],
   "source": [
    "train_data_dir = 'D:/Desktopshifted/MTech - PES university/Sem-3/CapstoneProject/Dataset/archive/COVID-19_Radiography_Dataset/SubData4/SubData4Output/train/'\n",
    "test_data_dir = 'D:/Desktopshifted/MTech - PES university/Sem-3/CapstoneProject/Dataset/archive/COVID-19_Radiography_Dataset/SubData4/SubData4Output/test/'\n",
    "val_data_dir = 'D:/Desktopshifted/MTech - PES university/Sem-3/CapstoneProject/Dataset/archive/COVID-19_Radiography_Dataset/SubData4/SubData4Output/val/'"
   ]
  },
  {
   "cell_type": "code",
   "execution_count": 3,
   "id": "cd4a8e0f",
   "metadata": {},
   "outputs": [],
   "source": [
    "input_shape = (224,224,3)\n",
    "input_layer = Input(shape = (224, 224, 3))"
   ]
  },
  {
   "cell_type": "code",
   "execution_count": 4,
   "id": "87ed3df8",
   "metadata": {},
   "outputs": [],
   "source": [
    "img_width , img_height = [224,224]\n",
    "batch_size = 16"
   ]
  },
  {
   "cell_type": "code",
   "execution_count": 6,
   "id": "71ce0e3c",
   "metadata": {},
   "outputs": [],
   "source": [
    "train_datagen = ImageDataGenerator(\n",
    "        rescale=1./255,\n",
    "        rotation_range=10,\n",
    "        width_shift_range=0.1,\n",
    "        height_shift_range=0.1,\n",
    "        shear_range=0.1,\n",
    "        zoom_range=0.1,\n",
    "        horizontal_flip=True,\n",
    "        fill_mode = 'nearest'\n",
    "        )\n",
    "val_datagen = ImageDataGenerator(rescale=1./255)\n",
    "test_datagen = ImageDataGenerator(rescale=1./255)"
   ]
  },
  {
   "cell_type": "code",
   "execution_count": 7,
   "id": "9b7a1f79",
   "metadata": {},
   "outputs": [
    {
     "name": "stdout",
     "output_type": "stream",
     "text": [
      "Found 3702 images belonging to 4 classes.\n"
     ]
    }
   ],
   "source": [
    "train_set = train_datagen.flow_from_directory(\n",
    "    train_data_dir,\n",
    "    target_size=(img_width, img_height),\n",
    "    batch_size=batch_size,\n",
    "    class_mode='categorical',\n",
    "    shuffle = True)"
   ]
  },
  {
   "cell_type": "code",
   "execution_count": 8,
   "id": "6e09900a",
   "metadata": {},
   "outputs": [
    {
     "name": "stdout",
     "output_type": "stream",
     "text": [
      "Found 794 images belonging to 4 classes.\n"
     ]
    }
   ],
   "source": [
    "test_set = test_datagen.flow_from_directory(\n",
    "        test_data_dir,\n",
    "        target_size=(img_width, img_height),\n",
    "        batch_size=batch_size,\n",
    "        class_mode='categorical',\n",
    "       )"
   ]
  },
  {
   "cell_type": "code",
   "execution_count": 9,
   "id": "b594edfc",
   "metadata": {},
   "outputs": [
    {
     "name": "stdout",
     "output_type": "stream",
     "text": [
      "Found 796 images belonging to 4 classes.\n"
     ]
    }
   ],
   "source": [
    "val_set = val_datagen.flow_from_directory(\n",
    "        val_data_dir,\n",
    "        target_size=(img_width, img_height),\n",
    "        batch_size=batch_size,\n",
    "        class_mode='categorical',\n",
    "       )"
   ]
  },
  {
   "cell_type": "code",
   "execution_count": 10,
   "id": "b447b3ea",
   "metadata": {},
   "outputs": [],
   "source": [
    "train_y=train_set.classes\n",
    "test_y=test_set.classes\n",
    "val_y=val_set.classes"
   ]
  },
  {
   "cell_type": "code",
   "execution_count": 15,
   "id": "a509bf8a",
   "metadata": {},
   "outputs": [],
   "source": [
    "from tensorflow.keras.models import load_model"
   ]
  },
  {
   "cell_type": "code",
   "execution_count": 16,
   "id": "d2302524",
   "metadata": {},
   "outputs": [],
   "source": [
    "VGG16_class_weights_balanced_model = load_model('vgg16_last4layertrainble_model_class_opt3_imbalance_class_weights.h5')"
   ]
  },
  {
   "cell_type": "code",
   "execution_count": 17,
   "id": "85a0d522",
   "metadata": {},
   "outputs": [
    {
     "name": "stdout",
     "output_type": "stream",
     "text": [
      "Model: \"model\"\n",
      "_________________________________________________________________\n",
      " Layer (type)                Output Shape              Param #   \n",
      "=================================================================\n",
      " input_3 (InputLayer)        [(None, 224, 224, 3)]     0         \n",
      "                                                                 \n",
      " block1_conv1 (Conv2D)       (None, 224, 224, 64)      1792      \n",
      "                                                                 \n",
      " block1_conv2 (Conv2D)       (None, 224, 224, 64)      36928     \n",
      "                                                                 \n",
      " block1_pool (MaxPooling2D)  (None, 112, 112, 64)      0         \n",
      "                                                                 \n",
      " block2_conv1 (Conv2D)       (None, 112, 112, 128)     73856     \n",
      "                                                                 \n",
      " block2_conv2 (Conv2D)       (None, 112, 112, 128)     147584    \n",
      "                                                                 \n",
      " block2_pool (MaxPooling2D)  (None, 56, 56, 128)       0         \n",
      "                                                                 \n",
      " block3_conv1 (Conv2D)       (None, 56, 56, 256)       295168    \n",
      "                                                                 \n",
      " block3_conv2 (Conv2D)       (None, 56, 56, 256)       590080    \n",
      "                                                                 \n",
      " block3_conv3 (Conv2D)       (None, 56, 56, 256)       590080    \n",
      "                                                                 \n",
      " block3_pool (MaxPooling2D)  (None, 28, 28, 256)       0         \n",
      "                                                                 \n",
      " block4_conv1 (Conv2D)       (None, 28, 28, 512)       1180160   \n",
      "                                                                 \n",
      " block4_conv2 (Conv2D)       (None, 28, 28, 512)       2359808   \n",
      "                                                                 \n",
      " block4_conv3 (Conv2D)       (None, 28, 28, 512)       2359808   \n",
      "                                                                 \n",
      " block4_pool (MaxPooling2D)  (None, 14, 14, 512)       0         \n",
      "                                                                 \n",
      " block5_conv1 (Conv2D)       (None, 14, 14, 512)       2359808   \n",
      "                                                                 \n",
      " block5_conv2 (Conv2D)       (None, 14, 14, 512)       2359808   \n",
      "                                                                 \n",
      " block5_conv3 (Conv2D)       (None, 14, 14, 512)       2359808   \n",
      "                                                                 \n",
      " block5_pool (MaxPooling2D)  (None, 7, 7, 512)         0         \n",
      "                                                                 \n",
      " flatten (Flatten)           (None, 25088)             0         \n",
      "                                                                 \n",
      " batch_normalization (BatchN  (None, 25088)            100352    \n",
      " ormalization)                                                   \n",
      "                                                                 \n",
      " dropout_1 (Dropout)         (None, 25088)             0         \n",
      "                                                                 \n",
      " batch_normalization_1 (Batc  (None, 25088)            100352    \n",
      " hNormalization)                                                 \n",
      "                                                                 \n",
      " dense_3 (Dense)             (None, 128)               3211392   \n",
      "                                                                 \n",
      " dropout_2 (Dropout)         (None, 128)               0         \n",
      "                                                                 \n",
      " dense_4 (Dense)             (None, 4)                 516       \n",
      "                                                                 \n",
      "=================================================================\n",
      "Total params: 18,127,300\n",
      "Trainable params: 10,391,684\n",
      "Non-trainable params: 7,735,616\n",
      "_________________________________________________________________\n"
     ]
    }
   ],
   "source": [
    "VGG16_class_weights_balanced_model.summary()"
   ]
  },
  {
   "cell_type": "code",
   "execution_count": 18,
   "id": "e9af678a",
   "metadata": {},
   "outputs": [],
   "source": [
    "from keras.optimizers import SGD"
   ]
  },
  {
   "cell_type": "code",
   "execution_count": 19,
   "id": "a1bfc3c1",
   "metadata": {},
   "outputs": [],
   "source": [
    "opt = SGD(learning_rate=1e-6, momentum=0.9)"
   ]
  },
  {
   "cell_type": "code",
   "execution_count": 21,
   "id": "b80e9cb0",
   "metadata": {},
   "outputs": [],
   "source": [
    "VGG16_class_weights_balanced_model.compile(optimizer=opt, \n",
    "                  loss='categorical_crossentropy',\n",
    "                  metrics=['accuracy'])"
   ]
  },
  {
   "cell_type": "code",
   "execution_count": 22,
   "id": "bd3f57e7",
   "metadata": {},
   "outputs": [],
   "source": [
    "from keras.callbacks import EarlyStopping,ReduceLROnPlateau, ModelCheckpoint"
   ]
  },
  {
   "cell_type": "code",
   "execution_count": 23,
   "id": "024d3f6a",
   "metadata": {},
   "outputs": [],
   "source": [
    "EarlyStopping = EarlyStopping(monitor='val_accuracy',\n",
    "                              min_delta=.01,\n",
    "                              patience=6,\n",
    "                              verbose=1,\n",
    "                              mode='auto',\n",
    "                              baseline=None,\n",
    "                              restore_best_weights=True)"
   ]
  },
  {
   "cell_type": "code",
   "execution_count": 24,
   "id": "88b365ae",
   "metadata": {},
   "outputs": [],
   "source": [
    "rlr = ReduceLROnPlateau( monitor='val_accuracy',\n",
    "                            factor=0.01,\n",
    "                            patience=6,\n",
    "                            verbose=0,\n",
    "                            mode='max',\n",
    "                            min_delta=0.01)"
   ]
  },
  {
   "cell_type": "code",
   "execution_count": 25,
   "id": "a1c44ca4",
   "metadata": {},
   "outputs": [],
   "source": [
    "model_save = ModelCheckpoint('./vgg16_last4layertrainble_model_SGD.h5',\n",
    "                             save_best_only = True,\n",
    "                             save_weights_only = False,\n",
    "                             monitor = 'val_loss', \n",
    "                             mode = 'min', verbose = 1)"
   ]
  },
  {
   "cell_type": "code",
   "execution_count": 26,
   "id": "07e3d74b",
   "metadata": {},
   "outputs": [],
   "source": [
    "nb_train_samples = 3702 # number of training-samples\n",
    "nb_test_samples = 794 # number of test-samples\n",
    "nb_validation_samples = 796 # number of validation-samples\n",
    "epochs = 10  \n",
    "batch_size  = 16"
   ]
  },
  {
   "cell_type": "code",
   "execution_count": 27,
   "id": "db4d3197",
   "metadata": {},
   "outputs": [
    {
     "name": "stdout",
     "output_type": "stream",
     "text": [
      "Epoch 1/10\n",
      "231/231 [==============================] - ETA: 0s - loss: 0.4150 - accuracy: 0.8437\n",
      "Epoch 1: val_loss improved from inf to 0.37291, saving model to .\\vgg16_last4layertrainble_model_SGD.h5\n",
      "231/231 [==============================] - 873s 4s/step - loss: 0.4150 - accuracy: 0.8437 - val_loss: 0.3729 - val_accuracy: 0.8615 - lr: 1.0000e-06\n",
      "Epoch 2/10\n",
      "231/231 [==============================] - ETA: 0s - loss: 0.4153 - accuracy: 0.8394\n",
      "Epoch 2: val_loss improved from 0.37291 to 0.29062, saving model to .\\vgg16_last4layertrainble_model_SGD.h5\n",
      "231/231 [==============================] - 847s 4s/step - loss: 0.4153 - accuracy: 0.8394 - val_loss: 0.2906 - val_accuracy: 0.8829 - lr: 1.0000e-06\n",
      "Epoch 3/10\n",
      "231/231 [==============================] - ETA: 0s - loss: 0.4140 - accuracy: 0.8351\n",
      "Epoch 3: val_loss improved from 0.29062 to 0.24470, saving model to .\\vgg16_last4layertrainble_model_SGD.h5\n",
      "231/231 [==============================] - 851s 4s/step - loss: 0.4140 - accuracy: 0.8351 - val_loss: 0.2447 - val_accuracy: 0.9005 - lr: 1.0000e-06\n",
      "Epoch 4/10\n",
      "231/231 [==============================] - ETA: 0s - loss: 0.4230 - accuracy: 0.8378\n",
      "Epoch 4: val_loss improved from 0.24470 to 0.23608, saving model to .\\vgg16_last4layertrainble_model_SGD.h5\n",
      "231/231 [==============================] - 866s 4s/step - loss: 0.4230 - accuracy: 0.8378 - val_loss: 0.2361 - val_accuracy: 0.9043 - lr: 1.0000e-06\n",
      "Epoch 5/10\n",
      "231/231 [==============================] - ETA: 0s - loss: 0.4176 - accuracy: 0.8451\n",
      "Epoch 5: val_loss did not improve from 0.23608\n",
      "231/231 [==============================] - 822s 4s/step - loss: 0.4176 - accuracy: 0.8451 - val_loss: 0.2365 - val_accuracy: 0.9068 - lr: 1.0000e-06\n",
      "Epoch 6/10\n",
      "231/231 [==============================] - ETA: 0s - loss: 0.4146 - accuracy: 0.8386\n",
      "Epoch 6: val_loss improved from 0.23608 to 0.23435, saving model to .\\vgg16_last4layertrainble_model_SGD.h5\n",
      "231/231 [==============================] - 821s 4s/step - loss: 0.4146 - accuracy: 0.8386 - val_loss: 0.2344 - val_accuracy: 0.9093 - lr: 1.0000e-06\n",
      "Epoch 7/10\n",
      "231/231 [==============================] - ETA: 0s - loss: 0.3906 - accuracy: 0.8519\n",
      "Epoch 7: val_loss improved from 0.23435 to 0.23388, saving model to .\\vgg16_last4layertrainble_model_SGD.h5\n",
      "231/231 [==============================] - 1263s 5s/step - loss: 0.3906 - accuracy: 0.8519 - val_loss: 0.2339 - val_accuracy: 0.9118 - lr: 1.0000e-06\n",
      "Epoch 8/10\n",
      "231/231 [==============================] - ETA: 0s - loss: 0.4179 - accuracy: 0.8437\n",
      "Epoch 8: val_loss improved from 0.23388 to 0.23116, saving model to .\\vgg16_last4layertrainble_model_SGD.h5\n",
      "231/231 [==============================] - 848s 4s/step - loss: 0.4179 - accuracy: 0.8437 - val_loss: 0.2312 - val_accuracy: 0.9093 - lr: 1.0000e-06\n",
      "Epoch 9/10\n",
      "231/231 [==============================] - ETA: 0s - loss: 0.3985 - accuracy: 0.8554\n",
      "Epoch 9: val_loss did not improve from 0.23116\n",
      "231/231 [==============================] - 835s 4s/step - loss: 0.3985 - accuracy: 0.8554 - val_loss: 0.2316 - val_accuracy: 0.9118 - lr: 1.0000e-06\n",
      "Epoch 10/10\n",
      "231/231 [==============================] - ETA: 0s - loss: 0.4076 - accuracy: 0.8497\n",
      "Epoch 10: val_loss did not improve from 0.23116\n",
      "231/231 [==============================] - 831s 4s/step - loss: 0.4076 - accuracy: 0.8497 - val_loss: 0.2312 - val_accuracy: 0.9081 - lr: 1.0000e-06\n"
     ]
    }
   ],
   "source": [
    "model_history = VGG16_class_weights_balanced_model.fit(train_set,steps_per_epoch = nb_train_samples // batch_size,epochs = epochs,validation_data = test_set,callbacks=[EarlyStopping, model_save,rlr])"
   ]
  },
  {
   "cell_type": "code",
   "execution_count": 28,
   "id": "c493f4f6",
   "metadata": {},
   "outputs": [
    {
     "data": {
      "application/javascript": [
       "\n",
       "        if (window._pyforest_update_imports_cell) { window._pyforest_update_imports_cell('import matplotlib.pyplot as plt'); }\n",
       "    "
      ],
      "text/plain": [
       "<IPython.core.display.Javascript object>"
      ]
     },
     "metadata": {},
     "output_type": "display_data"
    },
    {
     "data": {
      "application/javascript": [
       "\n",
       "        if (window._pyforest_update_imports_cell) { window._pyforest_update_imports_cell('import matplotlib.pyplot as plt'); }\n",
       "    "
      ],
      "text/plain": [
       "<IPython.core.display.Javascript object>"
      ]
     },
     "metadata": {},
     "output_type": "display_data"
    },
    {
     "data": {
      "application/javascript": [
       "\n",
       "        if (window._pyforest_update_imports_cell) { window._pyforest_update_imports_cell('import matplotlib.pyplot as plt'); }\n",
       "    "
      ],
      "text/plain": [
       "<IPython.core.display.Javascript object>"
      ]
     },
     "metadata": {},
     "output_type": "display_data"
    },
    {
     "data": {
      "application/javascript": [
       "\n",
       "        if (window._pyforest_update_imports_cell) { window._pyforest_update_imports_cell('import matplotlib.pyplot as plt'); }\n",
       "    "
      ],
      "text/plain": [
       "<IPython.core.display.Javascript object>"
      ]
     },
     "metadata": {},
     "output_type": "display_data"
    },
    {
     "data": {
      "application/javascript": [
       "\n",
       "        if (window._pyforest_update_imports_cell) { window._pyforest_update_imports_cell('import matplotlib.pyplot as plt'); }\n",
       "    "
      ],
      "text/plain": [
       "<IPython.core.display.Javascript object>"
      ]
     },
     "metadata": {},
     "output_type": "display_data"
    },
    {
     "data": {
      "image/png": "[encoded data removed]",
      "text/plain": [
       "<Figure size 432x288 with 1 Axes>"
      ]
     },
     "metadata": {
      "needs_background": "light"
     },
     "output_type": "display_data"
    }
   ],
   "source": [
    "# accuracies\n",
    "plt.plot(model_history.history['accuracy'], label='train acc')\n",
    "plt.plot(model_history.history['val_accuracy'], label='val acc')\n",
    "plt.legend()\n",
    "plt.savefig('Vgg16-acc-rps-3.png')\n",
    "plt.show()"
   ]
  },
  {
   "cell_type": "code",
   "execution_count": 29,
   "id": "ab7dbc8a",
   "metadata": {},
   "outputs": [
    {
     "data": {
      "application/javascript": [
       "\n",
       "        if (window._pyforest_update_imports_cell) { window._pyforest_update_imports_cell('import matplotlib.pyplot as plt'); }\n",
       "    "
      ],
      "text/plain": [
       "<IPython.core.display.Javascript object>"
      ]
     },
     "metadata": {},
     "output_type": "display_data"
    },
    {
     "data": {
      "application/javascript": [
       "\n",
       "        if (window._pyforest_update_imports_cell) { window._pyforest_update_imports_cell('import matplotlib.pyplot as plt'); }\n",
       "    "
      ],
      "text/plain": [
       "<IPython.core.display.Javascript object>"
      ]
     },
     "metadata": {},
     "output_type": "display_data"
    },
    {
     "data": {
      "application/javascript": [
       "\n",
       "        if (window._pyforest_update_imports_cell) { window._pyforest_update_imports_cell('import matplotlib.pyplot as plt'); }\n",
       "    "
      ],
      "text/plain": [
       "<IPython.core.display.Javascript object>"
      ]
     },
     "metadata": {},
     "output_type": "display_data"
    },
    {
     "data": {
      "application/javascript": [
       "\n",
       "        if (window._pyforest_update_imports_cell) { window._pyforest_update_imports_cell('import matplotlib.pyplot as plt'); }\n",
       "    "
      ],
      "text/plain": [
       "<IPython.core.display.Javascript object>"
      ]
     },
     "metadata": {},
     "output_type": "display_data"
    },
    {
     "data": {
      "application/javascript": [
       "\n",
       "        if (window._pyforest_update_imports_cell) { window._pyforest_update_imports_cell('import matplotlib.pyplot as plt'); }\n",
       "    "
      ],
      "text/plain": [
       "<IPython.core.display.Javascript object>"
      ]
     },
     "metadata": {},
     "output_type": "display_data"
    },
    {
     "data": {
      "image/png": "[encoded data removed]",
      "text/plain": [
       "<Figure size 432x288 with 1 Axes>"
      ]
     },
     "metadata": {
      "needs_background": "light"
     },
     "output_type": "display_data"
    }
   ],
   "source": [
    "# loss\n",
    "plt.plot(model_history.history['loss'], label='train loss')\n",
    "plt.plot(model_history.history['val_loss'], label='val loss')\n",
    "plt.legend()\n",
    "plt.savefig('Vgg16-loss-rps-3.png')\n",
    "plt.show()"
   ]
  },
  {
   "cell_type": "code",
   "execution_count": 30,
   "id": "bcc55681",
   "metadata": {},
   "outputs": [],
   "source": [
    "from sklearn.metrics import classification_report,confusion_matrix"
   ]
  },
  {
   "cell_type": "code",
   "execution_count": 31,
   "id": "025abdc1",
   "metadata": {},
   "outputs": [
    {
     "name": "stderr",
     "output_type": "stream",
     "text": [
      "100%|██████████████████████████████████████████████████████████████████████████████████| 48/48 [00:21<00:00,  2.19it/s]"
     ]
    },
    {
     "name": "stdout",
     "output_type": "stream",
     "text": [
      "(784, 224, 224, 3) (784, 4)\n"
     ]
    },
    {
     "name": "stderr",
     "output_type": "stream",
     "text": [
      "\n"
     ]
    }
   ],
   "source": [
    "import tqdm\n",
    "val_set.reset()\n",
    "X_val, y_val = next(val_set)\n",
    "for i in tqdm.tqdm(range(int(val_set.n/batch_size)-1)): \n",
    "    img, label = next(val_set)\n",
    "    X_val = np.append(X_val, img, axis=0 )\n",
    "    y_val = np.append(y_val, label, axis=0)\n",
    "print(X_val.shape, y_val.shape)"
   ]
  },
  {
   "cell_type": "code",
   "execution_count": 33,
   "id": "b271995d",
   "metadata": {},
   "outputs": [
    {
     "name": "stdout",
     "output_type": "stream",
     "text": [
      "Test Score:  0.2951786518096924\n",
      "Test accuracy:  0.8928571343421936\n"
     ]
    }
   ],
   "source": [
    "score = VGG16_class_weights_balanced_model.evaluate(X_val, y_val, verbose = 0 )\n",
    "print(\"Test Score: \", score[0])\n",
    "print(\"Test accuracy: \", score[1])"
   ]
  },
  {
   "cell_type": "code",
   "execution_count": 35,
   "id": "c2d2a949",
   "metadata": {},
   "outputs": [
    {
     "name": "stdout",
     "output_type": "stream",
     "text": [
      "25/25 [==============================] - 182s 7s/step\n"
     ]
    }
   ],
   "source": [
    "#predict\n",
    "y_pred=VGG16_class_weights_balanced_model.predict(X_val)\n",
    "y_pred_classes=np.argmax(y_pred,axis=1)"
   ]
  },
  {
   "cell_type": "code",
   "execution_count": 36,
   "id": "10baf7ae",
   "metadata": {},
   "outputs": [
    {
     "data": {
      "application/javascript": [
       "\n",
       "        if (window._pyforest_update_imports_cell) { window._pyforest_update_imports_cell('import tensorflow as tf\\nimport matplotlib.pyplot as plt'); }\n",
       "    "
      ],
      "text/plain": [
       "<IPython.core.display.Javascript object>"
      ]
     },
     "metadata": {},
     "output_type": "display_data"
    }
   ],
   "source": [
    "y_pred_classes = tf.keras.utils.to_categorical(y_pred_classes, num_classes=4)"
   ]
  },
  {
   "cell_type": "code",
   "execution_count": 37,
   "id": "e18161b4",
   "metadata": {},
   "outputs": [
    {
     "data": {
      "text/plain": [
       "array([[0., 1., 0., 0.],\n",
       "       [1., 0., 0., 0.],\n",
       "       [0., 0., 1., 0.],\n",
       "       ...,\n",
       "       [0., 1., 0., 0.],\n",
       "       [0., 0., 1., 0.],\n",
       "       [0., 1., 0., 0.]], dtype=float32)"
      ]
     },
     "execution_count": 37,
     "metadata": {},
     "output_type": "execute_result"
    }
   ],
   "source": [
    "y_pred_classes"
   ]
  },
  {
   "cell_type": "code",
   "execution_count": 38,
   "id": "84211ba5",
   "metadata": {},
   "outputs": [
    {
     "name": "stdout",
     "output_type": "stream",
     "text": [
      "              precision    recall  f1-score   support\n",
      "\n",
      "           0       0.90      0.95      0.92       128\n",
      "           1       0.86      0.82      0.84       235\n",
      "           2       0.89      0.91      0.90       372\n",
      "           3       1.00      0.98      0.99        49\n",
      "\n",
      "   micro avg       0.89      0.89      0.89       784\n",
      "   macro avg       0.91      0.91      0.91       784\n",
      "weighted avg       0.89      0.89      0.89       784\n",
      " samples avg       0.89      0.89      0.89       784\n",
      "\n"
     ]
    }
   ],
   "source": [
    "#get classification report\n",
    "print(classification_report(y_pred_classes,y_val))"
   ]
  },
  {
   "cell_type": "code",
   "execution_count": null,
   "id": "3c98ca94",
   "metadata": {},
   "outputs": [],
   "source": []
  }
 ],
 "metadata": {
  "kernelspec": {
   "display_name": "Python 3",
   "language": "python",
   "name": "python3"
  },
  "language_info": {
   "codemirror_mode": {
    "name": "ipython",
    "version": 3
   },
   "file_extension": ".py",
   "mimetype": "text/x-python",
   "name": "python",
   "nbconvert_exporter": "python",
   "pygments_lexer": "ipython3",
   "version": "3.7.5"
  }
 },
 "nbformat": 4,
 "nbformat_minor": 5
}
