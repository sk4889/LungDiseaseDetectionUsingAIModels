{
 "cells": [
  {
   "cell_type": "code",
   "execution_count": 8,
   "id": "99383af5",
   "metadata": {},
   "outputs": [],
   "source": [
    "from tensorflow.keras.applications.vgg16 import VGG16\n",
    "from tensorflow.keras.applications.vgg16 import preprocess_input\n",
    "from keras.layers import Input\n",
    "from tensorflow.keras.preprocessing.image import ImageDataGenerator"
   ]
  },
  {
   "cell_type": "code",
   "execution_count": 17,
   "id": "b546897f",
   "metadata": {},
   "outputs": [],
   "source": [
    "#creating subdataset4"
   ]
  },
  {
   "cell_type": "code",
   "execution_count": 57,
   "id": "10a26627",
   "metadata": {},
   "outputs": [],
   "source": [
    "import os\n",
    "import sys\n",
    "import shutil\n",
    "import random"
   ]
  },
  {
   "cell_type": "code",
   "execution_count": 21,
   "id": "d0d45fa9",
   "metadata": {},
   "outputs": [],
   "source": [
    "covid_main_dir = \"D:/Desktopshifted/MTech - PES university/Sem-3/CapstoneProject/Dataset/archive/COVID-19_Radiography_Dataset/COVID/images/\"\n",
    "opacity_main_dir = \"D:/Desktopshifted/MTech - PES university/Sem-3/CapstoneProject/Dataset/archive/COVID-19_Radiography_Dataset/Lung_Opacity/images/\"\n",
    "normal_main_dir = \"D:/Desktopshifted/MTech - PES university/Sem-3/CapstoneProject/Dataset/archive/COVID-19_Radiography_Dataset/Normal/images/\"\n",
    "pneu_main_dir = \"D:/Desktopshifted/MTech - PES university/Sem-3/CapstoneProject/Dataset/archive/COVID-19_Radiography_Dataset/Viral_Pneumonia/images/\""
   ]
  },
  {
   "cell_type": "code",
   "execution_count": 23,
   "id": "4ee62733",
   "metadata": {},
   "outputs": [],
   "source": [
    "covidFileNames = []"
   ]
  },
  {
   "cell_type": "code",
   "execution_count": 24,
   "id": "af632ae0",
   "metadata": {},
   "outputs": [
    {
     "name": "stdout",
     "output_type": "stream",
     "text": [
      "['COVID-1.png', 'COVID-10.png', 'COVID-100.png', 'COVID-1000.png', 'COVID-1001.png', 'COVID-1002.png', 'COVID-1003.png', 'COVID-1004.png', 'COVID-1005.png', 'COVID-1006.png', 'COVID-1007.png', 'COVID-1008.png', 'COVID-1009.png', 'COVID-101.png', 'COVID-1010.png', 'COVID-1011.png', 'COVID-1012.png', 'COVID-1013.png', 'COVID-1014.png', 'COVID-1015.png', 'COVID-1016.png', 'COVID-1017.png', 'COVID-1018.png', 'COVID-1019.png', 'COVID-102.png', 'COVID-1020.png', 'COVID-1021.png', 'COVID-1022.png', 'COVID-1023.png', 'COVID-1024.png', 'COVID-1025.png', 'COVID-1026.png', 'COVID-1027.png', 'COVID-1028.png', 'COVID-1029.png', 'COVID-103.png', 'COVID-1030.png', 'COVID-1031.png', 'COVID-1032.png', 'COVID-1033.png', 'COVID-1034.png', 'COVID-1035.png', 'COVID-1036.png', 'COVID-1037.png', 'COVID-1038.png', 'COVID-1039.png', 'COVID-104.png', 'COVID-1040.png', 'COVID-1041.png', 'COVID-1042.png', 'COVID-1043.png', 'COVID-1044.png', 'COVID-1045.png', 'COVID-1046.png', 'COVID-1047.png', 'COVID-1048.png', 'COVID-1049.png', 'COVID-105.png', 'COVID-1050.png', 'COVID-1051.png', 'COVID-1052.png', 'COVID-1053.png', 'COVID-1054.png', 'COVID-1055.png', 'COVID-1056.png', 'COVID-1057.png', 'COVID-1058.png', 'COVID-1059.png', 'COVID-106.png', 'COVID-1060.png', 'COVID-1061.png', 'COVID-1062.png', 'COVID-1063.png', 'COVID-1064.png', 'COVID-1065.png', 'COVID-1066.png', 'COVID-1067.png', 'COVID-1068.png', 'COVID-1069.png', 'COVID-107.png', 'COVID-1070.png', 'COVID-1071.png', 'COVID-1072.png', 'COVID-1073.png', 'COVID-1074.png', 'COVID-1075.png', 'COVID-1076.png', 'COVID-1077.png', 'COVID-1078.png', 'COVID-1079.png', 'COVID-108.png', 'COVID-1080.png', 'COVID-1081.png', 'COVID-1082.png', 'COVID-1083.png', 'COVID-1084.png', 'COVID-1085.png', 'COVID-1086.png', 'COVID-1087.png', 'COVID-1088.png', 'COVID-1089.png', 'COVID-109.png', 'COVID-1090.png', 'COVID-1091.png', 'COVID-1092.png', 'COVID-1093.png', 'COVID-1094.png', 'COVID-1095.png', 'COVID-1096.png', 'COVID-1097.png', 'COVID-1098.png', 'COVID-1099.png', 'COVID-11.png', 'COVID-110.png', 'COVID-1100.png', 'COVID-1101.png', 'COVID-1102.png', 'COVID-1103.png', 'COVID-1104.png', 'COVID-1105.png', 'COVID-1106.png', 'COVID-1107.png', 'COVID-1108.png', 'COVID-1109.png', 'COVID-111.png', 'COVID-1110.png', 'COVID-1111.png', 'COVID-1112.png', 'COVID-1113.png', 'COVID-1114.png', 'COVID-1115.png', 'COVID-1116.png', 'COVID-1117.png', 'COVID-1118.png', 'COVID-1119.png', 'COVID-112.png', 'COVID-1120.png', 'COVID-1121.png', 'COVID-1122.png', 'COVID-1123.png', 'COVID-1124.png', 'COVID-1125.png', 'COVID-1126.png', 'COVID-1127.png', 'COVID-1128.png', 'COVID-1129.png', 'COVID-113.png', 'COVID-1130.png', 'COVID-1131.png', 'COVID-1132.png', 'COVID-1133.png', 'COVID-1134.png', 'COVID-1135.png', 'COVID-1136.png', 'COVID-1137.png', 'COVID-1138.png', 'COVID-1139.png', 'COVID-114.png', 'COVID-1140.png', 'COVID-1141.png', 'COVID-1142.png', 'COVID-1143.png', 'COVID-1144.png', 'COVID-1145.png', 'COVID-1146.png', 'COVID-1147.png', 'COVID-1148.png', 'COVID-1149.png', 'COVID-115.png', 'COVID-1150.png', 'COVID-1151.png', 'COVID-1152.png', 'COVID-1153.png', 'COVID-1154.png', 'COVID-1155.png', 'COVID-1156.png', 'COVID-1157.png', 'COVID-1158.png', 'COVID-1159.png', 'COVID-116.png', 'COVID-1160.png', 'COVID-1161.png', 'COVID-1162.png', 'COVID-1163.png', 'COVID-1164.png', 'COVID-1165.png', 'COVID-1166.png', 'COVID-1167.png', 'COVID-1168.png', 'COVID-1169.png', 'COVID-117.png', 'COVID-1170.png', 'COVID-1171.png', 'COVID-1172.png', 'COVID-1173.png', 'COVID-1174.png', 'COVID-1175.png', 'COVID-1176.png', 'COVID-1177.png', 'COVID-1178.png', 'COVID-1179.png', 'COVID-118.png', 'COVID-1180.png', 'COVID-1181.png', 'COVID-1182.png', 'COVID-1183.png', 'COVID-1184.png', 'COVID-1185.png', 'COVID-1186.png', 'COVID-1187.png', 'COVID-1188.png', 'COVID-1189.png', 'COVID-119.png', 'COVID-1190.png', 'COVID-1191.png', 'COVID-1192.png', 'COVID-1193.png', 'COVID-1194.png', 'COVID-1195.png', 'COVID-1196.png', 'COVID-1197.png', 'COVID-1198.png', 'COVID-1199.png', 'COVID-12.png', 'COVID-120.png', 'COVID-1200.png', 'COVID-1201.png', 'COVID-1202.png', 'COVID-1203.png', 'COVID-1204.png', 'COVID-1205.png', 'COVID-1206.png', 'COVID-1207.png', 'COVID-1208.png', 'COVID-1209.png', 'COVID-121.png', 'COVID-1210.png', 'COVID-1211.png', 'COVID-1212.png', 'COVID-1213.png', 'COVID-1214.png', 'COVID-1215.png', 'COVID-1216.png', 'COVID-1217.png', 'COVID-1218.png', 'COVID-1219.png', 'COVID-122.png', 'COVID-1220.png', 'COVID-1221.png', 'COVID-1222.png', 'COVID-1223.png', 'COVID-1224.png', 'COVID-1225.png', 'COVID-1226.png', 'COVID-1227.png', 'COVID-1228.png', 'COVID-1229.png', 'COVID-123.png', 'COVID-1230.png', 'COVID-1231.png', 'COVID-1232.png', 'COVID-1233.png', 'COVID-1234.png', 'COVID-1235.png', 'COVID-1236.png', 'COVID-1237.png', 'COVID-1238.png', 'COVID-1239.png', 'COVID-124.png', 'COVID-1240.png', 'COVID-1241.png', 'COVID-1242.png', 'COVID-1243.png', 'COVID-1244.png', 'COVID-1245.png', 'COVID-1246.png', 'COVID-1247.png', 'COVID-1248.png', 'COVID-1249.png', 'COVID-125.png', 'COVID-1250.png', 'COVID-1251.png', 'COVID-1252.png', 'COVID-1253.png', 'COVID-1254.png', 'COVID-1255.png', 'COVID-1256.png', 'COVID-1257.png', 'COVID-1258.png', 'COVID-1259.png', 'COVID-126.png', 'COVID-1260.png', 'COVID-1261.png', 'COVID-1262.png', 'COVID-1263.png', 'COVID-1264.png', 'COVID-1265.png', 'COVID-1266.png', 'COVID-1267.png', 'COVID-1268.png', 'COVID-1269.png', 'COVID-127.png', 'COVID-1270.png', 'COVID-1271.png', 'COVID-1272.png', 'COVID-1273.png', 'COVID-1274.png', 'COVID-1275.png', 'COVID-1276.png', 'COVID-1277.png', 'COVID-1278.png', 'COVID-1279.png', 'COVID-128.png', 'COVID-1280.png', 'COVID-1281.png', 'COVID-1282.png', 'COVID-1283.png', 'COVID-1284.png', 'COVID-1285.png', 'COVID-1286.png', 'COVID-1287.png', 'COVID-1288.png', 'COVID-1289.png', 'COVID-129.png', 'COVID-1290.png', 'COVID-1291.png', 'COVID-1292.png', 'COVID-1293.png', 'COVID-1294.png', 'COVID-1295.png', 'COVID-1296.png', 'COVID-1297.png', 'COVID-1298.png', 'COVID-1299.png', 'COVID-13.png', 'COVID-130.png', 'COVID-1300.png', 'COVID-1301.png', 'COVID-1302.png', 'COVID-1303.png', 'COVID-1304.png', 'COVID-1305.png', 'COVID-1306.png', 'COVID-1307.png', 'COVID-1308.png', 'COVID-1309.png', 'COVID-131.png', 'COVID-1310.png', 'COVID-1311.png', 'COVID-1312.png', 'COVID-1313.png', 'COVID-1314.png', 'COVID-1315.png', 'COVID-1316.png', 'COVID-1317.png', 'COVID-1318.png', 'COVID-1319.png', 'COVID-132.png', 'COVID-1320.png', 'COVID-1321.png', 'COVID-1322.png', 'COVID-1323.png', 'COVID-1324.png', 'COVID-1325.png', 'COVID-1326.png', 'COVID-1327.png', 'COVID-1328.png', 'COVID-1329.png', 'COVID-133.png', 'COVID-1330.png', 'COVID-1331.png', 'COVID-1332.png', 'COVID-1333.png', 'COVID-1334.png', 'COVID-1335.png', 'COVID-1336.png', 'COVID-1337.png', 'COVID-1338.png', 'COVID-1339.png', 'COVID-134.png', 'COVID-1340.png', 'COVID-1341.png', 'COVID-1342.png', 'COVID-1343.png', 'COVID-1344.png', 'COVID-1345.png', 'COVID-1346.png', 'COVID-1347.png', 'COVID-1348.png', 'COVID-1349.png', 'COVID-135.png', 'COVID-1350.png', 'COVID-1351.png', 'COVID-1352.png', 'COVID-1353.png', 'COVID-1354.png', 'COVID-1355.png', 'COVID-1356.png', 'COVID-1357.png', 'COVID-1358.png', 'COVID-1359.png', 'COVID-136.png', 'COVID-1360.png', 'COVID-1361.png', 'COVID-1362.png', 'COVID-1363.png', 'COVID-1364.png', 'COVID-1365.png', 'COVID-1366.png', 'COVID-1367.png', 'COVID-1368.png', 'COVID-1369.png', 'COVID-137.png', 'COVID-1370.png', 'COVID-1371.png', 'COVID-1372.png', 'COVID-1373.png', 'COVID-1374.png', 'COVID-1375.png', 'COVID-1376.png', 'COVID-1377.png', 'COVID-1378.png', 'COVID-1379.png', 'COVID-138.png', 'COVID-1380.png', 'COVID-1381.png', 'COVID-1382.png', 'COVID-1383.png', 'COVID-1384.png', 'COVID-1385.png', 'COVID-1386.png', 'COVID-1387.png', 'COVID-1388.png', 'COVID-1389.png', 'COVID-139.png', 'COVID-1390.png', 'COVID-1391.png', 'COVID-1392.png', 'COVID-1393.png', 'COVID-1394.png', 'COVID-1395.png', 'COVID-1396.png', 'COVID-1397.png', 'COVID-1398.png', 'COVID-1399.png', 'COVID-14.png', 'COVID-140.png', 'COVID-1400.png', 'COVID-1401.png', 'COVID-1402.png', 'COVID-1403.png', 'COVID-1404.png', 'COVID-1405.png', 'COVID-1406.png', 'COVID-1407.png', 'COVID-1408.png', 'COVID-1409.png', 'COVID-141.png', 'COVID-1410.png', 'COVID-1411.png', 'COVID-1412.png', 'COVID-1413.png', 'COVID-1414.png', 'COVID-1415.png', 'COVID-1416.png', 'COVID-1417.png', 'COVID-1418.png', 'COVID-1419.png', 'COVID-142.png', 'COVID-1420.png', 'COVID-1421.png', 'COVID-1422.png', 'COVID-1423.png', 'COVID-1424.png', 'COVID-1425.png', 'COVID-1426.png', 'COVID-1427.png', 'COVID-1428.png', 'COVID-1429.png', 'COVID-143.png', 'COVID-1430.png', 'COVID-1431.png', 'COVID-1432.png', 'COVID-1433.png', 'COVID-1434.png', 'COVID-1435.png', 'COVID-1436.png', 'COVID-1437.png', 'COVID-1438.png', 'COVID-1439.png', 'COVID-144.png', 'COVID-1440.png', 'COVID-1441.png', 'COVID-1442.png', 'COVID-1443.png', 'COVID-1444.png', 'COVID-1445.png', 'COVID-1446.png', 'COVID-1447.png', 'COVID-1448.png', 'COVID-1449.png', 'COVID-145.png', 'COVID-1450.png', 'COVID-1451.png', 'COVID-1452.png', 'COVID-1453.png', 'COVID-1454.png', 'COVID-1455.png', 'COVID-1456.png', 'COVID-1457.png', 'COVID-1458.png', 'COVID-1459.png', 'COVID-146.png', 'COVID-1460.png', 'COVID-1461.png', 'COVID-1462.png', 'COVID-1463.png', 'COVID-1464.png', 'COVID-1465.png', 'COVID-1466.png', 'COVID-1467.png', 'COVID-1468.png', 'COVID-1469.png', 'COVID-147.png', 'COVID-1470.png', 'COVID-1471.png', 'COVID-1472.png', 'COVID-1473.png', 'COVID-1474.png', 'COVID-1475.png', 'COVID-1476.png', 'COVID-1477.png', 'COVID-1478.png', 'COVID-1479.png', 'COVID-148.png', 'COVID-1480.png', 'COVID-1481.png', 'COVID-1482.png', 'COVID-1483.png', 'COVID-1484.png', 'COVID-1485.png', 'COVID-1486.png', 'COVID-1487.png', 'COVID-1488.png', 'COVID-1489.png', 'COVID-149.png', 'COVID-1490.png', 'COVID-1491.png', 'COVID-1492.png', 'COVID-1493.png', 'COVID-1494.png', 'COVID-1495.png', 'COVID-1496.png', 'COVID-1497.png', 'COVID-1498.png', 'COVID-1499.png', 'COVID-15.png', 'COVID-150.png', 'COVID-1500.png', 'COVID-1501.png', 'COVID-1502.png', 'COVID-1503.png', 'COVID-1504.png', 'COVID-1505.png', 'COVID-1506.png', 'COVID-1507.png', 'COVID-1508.png', 'COVID-1509.png', 'COVID-151.png', 'COVID-1510.png', 'COVID-1511.png', 'COVID-1512.png', 'COVID-1513.png', 'COVID-1514.png', 'COVID-1515.png', 'COVID-1516.png', 'COVID-1517.png', 'COVID-1518.png', 'COVID-1519.png', 'COVID-152.png', 'COVID-1520.png', 'COVID-1521.png', 'COVID-1522.png', 'COVID-1523.png', 'COVID-1524.png', 'COVID-1525.png', 'COVID-1526.png', 'COVID-1527.png', 'COVID-1528.png', 'COVID-1529.png', 'COVID-153.png', 'COVID-1530.png', 'COVID-1531.png', 'COVID-1532.png', 'COVID-1533.png', 'COVID-1534.png', 'COVID-1535.png', 'COVID-1536.png', 'COVID-1537.png', 'COVID-1538.png', 'COVID-1539.png', 'COVID-154.png', 'COVID-1540.png', 'COVID-1541.png', 'COVID-1542.png', 'COVID-1543.png', 'COVID-1544.png', 'COVID-1545.png', 'COVID-1546.png', 'COVID-1547.png', 'COVID-1548.png', 'COVID-1549.png', 'COVID-155.png', 'COVID-1550.png', 'COVID-1551.png', 'COVID-1552.png', 'COVID-1553.png', 'COVID-1554.png', 'COVID-1555.png', 'COVID-1556.png', 'COVID-1557.png', 'COVID-1558.png', 'COVID-1559.png', 'COVID-156.png', 'COVID-1560.png', 'COVID-1561.png', 'COVID-1562.png', 'COVID-1563.png', 'COVID-1564.png', 'COVID-1565.png', 'COVID-1566.png', 'COVID-1567.png', 'COVID-1568.png', 'COVID-1569.png', 'COVID-157.png', 'COVID-1570.png', 'COVID-1571.png', 'COVID-1572.png', 'COVID-1573.png', 'COVID-1574.png', 'COVID-1575.png', 'COVID-1576.png', 'COVID-1577.png', 'COVID-1578.png', 'COVID-1579.png', 'COVID-158.png', 'COVID-1580.png', 'COVID-1581.png', 'COVID-1582.png', 'COVID-1583.png', 'COVID-1584.png', 'COVID-1585.png', 'COVID-1586.png', 'COVID-1587.png', 'COVID-1588.png', 'COVID-1589.png', 'COVID-159.png', 'COVID-1590.png', 'COVID-1591.png', 'COVID-1592.png', 'COVID-1593.png', 'COVID-1594.png', 'COVID-1595.png', 'COVID-1596.png', 'COVID-1597.png', 'COVID-1598.png', 'COVID-1599.png', 'COVID-16.png', 'COVID-160.png', 'COVID-1600.png', 'COVID-1601.png', 'COVID-1602.png', 'COVID-1603.png', 'COVID-1604.png', 'COVID-1605.png', 'COVID-1606.png', 'COVID-1607.png', 'COVID-1608.png', 'COVID-1609.png', 'COVID-161.png', 'COVID-1610.png', 'COVID-1611.png', 'COVID-1612.png', 'COVID-1613.png', 'COVID-1614.png', 'COVID-1615.png', 'COVID-1616.png', 'COVID-1617.png', 'COVID-1618.png', 'COVID-1619.png', 'COVID-162.png', 'COVID-1620.png', 'COVID-1621.png', 'COVID-1622.png', 'COVID-1623.png', 'COVID-1624.png', 'COVID-1625.png', 'COVID-1626.png', 'COVID-1627.png', 'COVID-1628.png', 'COVID-1629.png', 'COVID-163.png', 'COVID-1630.png', 'COVID-1631.png', 'COVID-1632.png', 'COVID-1633.png', 'COVID-1634.png', 'COVID-1635.png', 'COVID-1636.png', 'COVID-1637.png', 'COVID-1638.png', 'COVID-1639.png', 'COVID-164.png', 'COVID-1640.png', 'COVID-1641.png', 'COVID-1642.png', 'COVID-1643.png', 'COVID-1644.png', 'COVID-1645.png', 'COVID-1646.png', 'COVID-1647.png', 'COVID-1648.png', 'COVID-1649.png', 'COVID-165.png', 'COVID-1650.png', 'COVID-1651.png', 'COVID-1652.png', 'COVID-1653.png', 'COVID-1654.png', 'COVID-1655.png', 'COVID-1656.png', 'COVID-1657.png', 'COVID-1658.png', 'COVID-1659.png', 'COVID-166.png', 'COVID-1660.png', 'COVID-1661.png', 'COVID-1662.png', 'COVID-1663.png', 'COVID-1664.png', 'COVID-1665.png', 'COVID-1666.png', 'COVID-1667.png', 'COVID-1668.png', 'COVID-1669.png', 'COVID-167.png', 'COVID-1670.png', 'COVID-1671.png', 'COVID-1672.png', 'COVID-1673.png', 'COVID-1674.png', 'COVID-1675.png', 'COVID-1676.png', 'COVID-1677.png', 'COVID-1678.png', 'COVID-1679.png', 'COVID-168.png', 'COVID-1680.png', 'COVID-1681.png', 'COVID-1682.png', 'COVID-1683.png', 'COVID-1684.png', 'COVID-1685.png', 'COVID-1686.png', 'COVID-1687.png', 'COVID-1688.png', 'COVID-1689.png', 'COVID-169.png', 'COVID-1690.png', 'COVID-1691.png', 'COVID-1692.png', 'COVID-1693.png', 'COVID-1694.png', 'COVID-1695.png', 'COVID-1696.png', 'COVID-1697.png', 'COVID-1698.png', 'COVID-1699.png', 'COVID-17.png', 'COVID-170.png', 'COVID-1700.png', 'COVID-1701.png', 'COVID-1702.png', 'COVID-1703.png', 'COVID-1704.png', 'COVID-1705.png', 'COVID-1706.png', 'COVID-1707.png', 'COVID-1708.png', 'COVID-1709.png', 'COVID-171.png', 'COVID-1710.png', 'COVID-1711.png', 'COVID-1712.png', 'COVID-1713.png', 'COVID-1714.png', 'COVID-1715.png', 'COVID-1716.png', 'COVID-1717.png', 'COVID-1718.png', 'COVID-1719.png', 'COVID-172.png', 'COVID-1720.png', 'COVID-1721.png', 'COVID-1722.png', 'COVID-1723.png', 'COVID-1724.png', 'COVID-1725.png', 'COVID-1726.png', 'COVID-1727.png', 'COVID-1728.png', 'COVID-1729.png', 'COVID-173.png', 'COVID-1730.png', 'COVID-1731.png', 'COVID-1732.png', 'COVID-1733.png', 'COVID-1734.png', 'COVID-1735.png', 'COVID-1736.png', 'COVID-1737.png', 'COVID-1738.png', 'COVID-1739.png', 'COVID-174.png', 'COVID-1740.png', 'COVID-1741.png', 'COVID-1742.png', 'COVID-1743.png', 'COVID-1744.png', 'COVID-1745.png', 'COVID-1746.png', 'COVID-1747.png', 'COVID-1748.png', 'COVID-1749.png', 'COVID-175.png', 'COVID-1750.png', 'COVID-1751.png', 'COVID-1752.png', 'COVID-1753.png', 'COVID-1754.png', 'COVID-1755.png', 'COVID-1756.png', 'COVID-1757.png', 'COVID-1758.png', 'COVID-1759.png', 'COVID-176.png', 'COVID-1760.png', 'COVID-1761.png', 'COVID-1762.png', 'COVID-1763.png', 'COVID-1764.png', 'COVID-1765.png', 'COVID-1766.png', 'COVID-1767.png', 'COVID-1768.png', 'COVID-1769.png', 'COVID-177.png', 'COVID-1770.png', 'COVID-1771.png', 'COVID-1772.png', 'COVID-1773.png', 'COVID-1774.png', 'COVID-1775.png', 'COVID-1776.png', 'COVID-1777.png', 'COVID-1778.png', 'COVID-1779.png', 'COVID-178.png', 'COVID-1780.png', 'COVID-1781.png', 'COVID-1782.png', 'COVID-1783.png', 'COVID-1784.png', 'COVID-1785.png', 'COVID-1786.png', 'COVID-1787.png', 'COVID-1788.png', 'COVID-1789.png', 'COVID-179.png', 'COVID-1790.png', 'COVID-1791.png', 'COVID-1792.png', 'COVID-1793.png', 'COVID-1794.png', 'COVID-1795.png', 'COVID-1796.png', 'COVID-1797.png', 'COVID-1798.png', 'COVID-1799.png', 'COVID-18.png', 'COVID-180.png', 'COVID-1800.png', 'COVID-1801.png', 'COVID-1802.png', 'COVID-1803.png', 'COVID-1804.png', 'COVID-1805.png', 'COVID-1806.png', 'COVID-1807.png', 'COVID-1808.png', 'COVID-1809.png', 'COVID-181.png', 'COVID-1810.png', 'COVID-1811.png', 'COVID-1812.png', 'COVID-1813.png', 'COVID-1814.png', 'COVID-1815.png', 'COVID-1816.png', 'COVID-1817.png', 'COVID-1818.png', 'COVID-1819.png', 'COVID-182.png', 'COVID-1820.png', 'COVID-1821.png', 'COVID-1822.png', 'COVID-1823.png', 'COVID-1824.png', 'COVID-1825.png', 'COVID-1826.png', 'COVID-1827.png', 'COVID-1828.png', 'COVID-1829.png', 'COVID-183.png', 'COVID-1830.png', 'COVID-1831.png', 'COVID-1832.png', 'COVID-1833.png', 'COVID-1834.png', 'COVID-1835.png', 'COVID-1836.png', 'COVID-1837.png', 'COVID-1838.png', 'COVID-1839.png', 'COVID-184.png', 'COVID-1840.png', 'COVID-1841.png', 'COVID-1842.png', 'COVID-1843.png', 'COVID-1844.png', 'COVID-1845.png', 'COVID-1846.png', 'COVID-1847.png', 'COVID-1848.png', 'COVID-1849.png', 'COVID-185.png', 'COVID-1850.png', 'COVID-1851.png', 'COVID-1852.png', 'COVID-1853.png', 'COVID-1854.png', 'COVID-1855.png', 'COVID-1856.png', 'COVID-1857.png', 'COVID-1858.png', 'COVID-1859.png', 'COVID-186.png', 'COVID-1860.png', 'COVID-1861.png', 'COVID-1862.png', 'COVID-1863.png', 'COVID-1864.png', 'COVID-1865.png', 'COVID-1866.png', 'COVID-1867.png', 'COVID-1868.png', 'COVID-1869.png', 'COVID-187.png', 'COVID-1870.png', 'COVID-1871.png', 'COVID-1872.png', 'COVID-1873.png', 'COVID-1874.png', 'COVID-1875.png', 'COVID-1876.png', 'COVID-1877.png', 'COVID-1878.png', 'COVID-1879.png', 'COVID-188.png', 'COVID-1880.png', 'COVID-1881.png', 'COVID-1882.png', 'COVID-1883.png', 'COVID-1884.png', 'COVID-1885.png', 'COVID-1886.png', 'COVID-1887.png', 'COVID-1888.png', 'COVID-1889.png', 'COVID-189.png', 'COVID-1890.png', 'COVID-1891.png', 'COVID-1892.png', 'COVID-1893.png', 'COVID-1894.png', 'COVID-1895.png', 'COVID-1896.png', 'COVID-1897.png', 'COVID-1898.png', 'COVID-1899.png', 'COVID-19.png', 'COVID-190.png', 'COVID-1900.png', 'COVID-1901.png', 'COVID-1902.png', 'COVID-1903.png', 'COVID-1904.png', 'COVID-1905.png', 'COVID-1906.png', 'COVID-1907.png', 'COVID-1908.png', 'COVID-1909.png', 'COVID-191.png', 'COVID-1910.png', 'COVID-1911.png', 'COVID-1912.png', 'COVID-1913.png', 'COVID-1914.png', 'COVID-1915.png', 'COVID-1916.png', 'COVID-1917.png', 'COVID-1918.png', 'COVID-1919.png', 'COVID-192.png', 'COVID-1920.png', 'COVID-1921.png', 'COVID-1922.png', 'COVID-1923.png', 'COVID-1924.png', 'COVID-1925.png', 'COVID-1926.png', 'COVID-1927.png', 'COVID-1928.png', 'COVID-1929.png', 'COVID-193.png', 'COVID-1930.png', 'COVID-1931.png', 'COVID-1932.png', 'COVID-1933.png', 'COVID-1934.png', 'COVID-1935.png', 'COVID-1936.png', 'COVID-1937.png', 'COVID-1938.png', 'COVID-1939.png', 'COVID-194.png', 'COVID-1940.png', 'COVID-1941.png', 'COVID-1942.png', 'COVID-1943.png', 'COVID-1944.png', 'COVID-1945.png', 'COVID-1946.png', 'COVID-1947.png', 'COVID-1948.png', 'COVID-1949.png', 'COVID-195.png', 'COVID-1950.png', 'COVID-1951.png', 'COVID-1952.png', 'COVID-1953.png', 'COVID-1954.png', 'COVID-1955.png', 'COVID-1956.png', 'COVID-1957.png', 'COVID-1958.png', 'COVID-1959.png', 'COVID-196.png', 'COVID-1960.png', 'COVID-1961.png', 'COVID-1962.png', 'COVID-1963.png', 'COVID-1964.png', 'COVID-1965.png', 'COVID-1966.png', 'COVID-1967.png', 'COVID-1968.png', 'COVID-1969.png', 'COVID-197.png', 'COVID-1970.png', 'COVID-1971.png', 'COVID-1972.png', 'COVID-1973.png', 'COVID-1974.png', 'COVID-1975.png', 'COVID-1976.png', 'COVID-1977.png', 'COVID-1978.png', 'COVID-1979.png', 'COVID-198.png', 'COVID-1980.png', 'COVID-1981.png', 'COVID-1982.png', 'COVID-1983.png', 'COVID-1984.png', 'COVID-1985.png', 'COVID-1986.png', 'COVID-1987.png', 'COVID-1988.png', 'COVID-1989.png', 'COVID-199.png', 'COVID-1990.png', 'COVID-1991.png', 'COVID-1992.png', 'COVID-1993.png', 'COVID-1994.png', 'COVID-1995.png', 'COVID-1996.png', 'COVID-1997.png', 'COVID-1998.png', 'COVID-1999.png', 'COVID-2.png', 'COVID-20.png', 'COVID-200.png', 'COVID-2000.png', 'COVID-2001.png', 'COVID-2002.png', 'COVID-2003.png', 'COVID-2004.png', 'COVID-2005.png', 'COVID-2006.png', 'COVID-2007.png', 'COVID-2008.png', 'COVID-2009.png', 'COVID-201.png', 'COVID-2010.png', 'COVID-2011.png', 'COVID-2012.png', 'COVID-2013.png', 'COVID-2014.png', 'COVID-2015.png', 'COVID-2016.png', 'COVID-2017.png', 'COVID-2018.png', 'COVID-2019.png', 'COVID-202.png', 'COVID-2020.png', 'COVID-2021.png', 'COVID-2022.png', 'COVID-2023.png', 'COVID-2024.png', 'COVID-2025.png', 'COVID-2026.png', 'COVID-2027.png', 'COVID-2028.png', 'COVID-2029.png', 'COVID-203.png', 'COVID-2030.png', 'COVID-2031.png', 'COVID-2032.png', 'COVID-2033.png', 'COVID-2034.png', 'COVID-2035.png', 'COVID-2036.png', 'COVID-2037.png', 'COVID-2038.png', 'COVID-2039.png', 'COVID-204.png', 'COVID-2040.png', 'COVID-2041.png', 'COVID-2042.png', 'COVID-2043.png', 'COVID-2044.png', 'COVID-2045.png', 'COVID-2046.png', 'COVID-2047.png', 'COVID-2048.png', 'COVID-2049.png', 'COVID-205.png', 'COVID-2050.png', 'COVID-2051.png', 'COVID-2052.png', 'COVID-2053.png', 'COVID-2054.png', 'COVID-2055.png', 'COVID-2056.png', 'COVID-2057.png', 'COVID-2058.png', 'COVID-2059.png', 'COVID-206.png', 'COVID-2060.png', 'COVID-2061.png', 'COVID-2062.png', 'COVID-2063.png', 'COVID-2064.png', 'COVID-2065.png', 'COVID-2066.png', 'COVID-2067.png', 'COVID-2068.png', 'COVID-2069.png', 'COVID-207.png', 'COVID-2070.png', 'COVID-2071.png', 'COVID-2072.png', 'COVID-2073.png', 'COVID-2074.png', 'COVID-2075.png', 'COVID-2076.png', 'COVID-2077.png', 'COVID-2078.png', 'COVID-2079.png', 'COVID-208.png', 'COVID-2080.png', 'COVID-2081.png', 'COVID-2082.png', 'COVID-2083.png', 'COVID-2084.png', 'COVID-2085.png', 'COVID-2086.png', 'COVID-2087.png', 'COVID-2088.png', 'COVID-2089.png', 'COVID-209.png', 'COVID-2090.png', 'COVID-2091.png', 'COVID-2092.png', 'COVID-2093.png', 'COVID-2094.png', 'COVID-2095.png', 'COVID-2096.png', 'COVID-2097.png', 'COVID-2098.png', 'COVID-2099.png', 'COVID-21.png', 'COVID-210.png', 'COVID-2100.png', 'COVID-2101.png', 'COVID-2102.png', 'COVID-2103.png', 'COVID-2104.png', 'COVID-2105.png', 'COVID-2106.png', 'COVID-2107.png', 'COVID-2108.png', 'COVID-2109.png', 'COVID-211.png', 'COVID-2110.png', 'COVID-2111.png', 'COVID-2112.png', 'COVID-2113.png', 'COVID-2114.png', 'COVID-2115.png', 'COVID-2116.png', 'COVID-2117.png', 'COVID-2118.png', 'COVID-2119.png', 'COVID-212.png', 'COVID-2120.png', 'COVID-2121.png', 'COVID-2122.png', 'COVID-2123.png', 'COVID-2124.png', 'COVID-2125.png', 'COVID-2126.png', 'COVID-2127.png', 'COVID-2128.png', 'COVID-2129.png', 'COVID-213.png', 'COVID-2130.png', 'COVID-2131.png', 'COVID-2132.png', 'COVID-2133.png', 'COVID-2134.png', 'COVID-2135.png', 'COVID-2136.png', 'COVID-2137.png', 'COVID-2138.png', 'COVID-2139.png', 'COVID-214.png', 'COVID-2140.png', 'COVID-2141.png', 'COVID-2142.png', 'COVID-2143.png', 'COVID-2144.png', 'COVID-2145.png', 'COVID-2146.png', 'COVID-2147.png', 'COVID-2148.png', 'COVID-2149.png', 'COVID-215.png', 'COVID-2150.png', 'COVID-2151.png', 'COVID-2152.png', 'COVID-2153.png', 'COVID-2154.png', 'COVID-2155.png', 'COVID-2156.png', 'COVID-2157.png', 'COVID-2158.png', 'COVID-2159.png', 'COVID-216.png', 'COVID-2160.png', 'COVID-2161.png', 'COVID-2162.png', 'COVID-2163.png', 'COVID-2164.png', 'COVID-2165.png', 'COVID-2166.png', 'COVID-2167.png', 'COVID-2168.png', 'COVID-2169.png', 'COVID-217.png', 'COVID-2170.png', 'COVID-2171.png', 'COVID-2172.png', 'COVID-2173.png', 'COVID-2174.png', 'COVID-2175.png', 'COVID-2176.png', 'COVID-2177.png', 'COVID-2178.png', 'COVID-2179.png', 'COVID-218.png', 'COVID-2180.png', 'COVID-2181.png', 'COVID-2182.png', 'COVID-2183.png', 'COVID-2184.png', 'COVID-2185.png', 'COVID-2186.png', 'COVID-2187.png', 'COVID-2188.png', 'COVID-2189.png', 'COVID-219.png', 'COVID-2190.png', 'COVID-2191.png', 'COVID-2192.png', 'COVID-2193.png', 'COVID-2194.png', 'COVID-2195.png', 'COVID-2196.png', 'COVID-2197.png', 'COVID-2198.png', 'COVID-2199.png', 'COVID-22.png', 'COVID-220.png', 'COVID-2200.png', 'COVID-2201.png', 'COVID-2202.png', 'COVID-2203.png', 'COVID-2204.png', 'COVID-2205.png', 'COVID-2206.png', 'COVID-2207.png', 'COVID-2208.png', 'COVID-2209.png', 'COVID-221.png', 'COVID-2210.png', 'COVID-2211.png', 'COVID-2212.png', 'COVID-2213.png', 'COVID-2214.png', 'COVID-2215.png', 'COVID-2216.png', 'COVID-2217.png', 'COVID-2218.png', 'COVID-2219.png', 'COVID-222.png', 'COVID-2220.png', 'COVID-2221.png', 'COVID-2222.png', 'COVID-2223.png', 'COVID-2224.png', 'COVID-2225.png', 'COVID-2226.png', 'COVID-2227.png', 'COVID-2228.png', 'COVID-2229.png', 'COVID-223.png', 'COVID-2230.png', 'COVID-2231.png', 'COVID-2232.png', 'COVID-2233.png', 'COVID-2234.png', 'COVID-2235.png', 'COVID-2236.png', 'COVID-2237.png', 'COVID-2238.png', 'COVID-2239.png', 'COVID-224.png', 'COVID-2240.png', 'COVID-2241.png', 'COVID-2242.png', 'COVID-2243.png', 'COVID-2244.png', 'COVID-2245.png', 'COVID-2246.png', 'COVID-2247.png', 'COVID-2248.png', 'COVID-2249.png', 'COVID-225.png', 'COVID-2250.png', 'COVID-2251.png', 'COVID-2252.png', 'COVID-2253.png', 'COVID-2254.png', 'COVID-2255.png', 'COVID-2256.png', 'COVID-2257.png', 'COVID-2258.png', 'COVID-2259.png', 'COVID-226.png', 'COVID-2260.png', 'COVID-2261.png', 'COVID-2262.png', 'COVID-2263.png', 'COVID-2264.png', 'COVID-2265.png', 'COVID-2266.png', 'COVID-2267.png', 'COVID-2268.png', 'COVID-2269.png', 'COVID-227.png', 'COVID-2270.png', 'COVID-2271.png', 'COVID-2272.png', 'COVID-2273.png', 'COVID-2274.png', 'COVID-2275.png', 'COVID-2276.png', 'COVID-2277.png', 'COVID-2278.png', 'COVID-2279.png', 'COVID-228.png', 'COVID-2280.png', 'COVID-2281.png', 'COVID-2282.png', 'COVID-2283.png', 'COVID-2284.png', 'COVID-2285.png', 'COVID-2286.png', 'COVID-2287.png', 'COVID-2288.png', 'COVID-2289.png', 'COVID-229.png', 'COVID-2290.png', 'COVID-2291.png', 'COVID-2292.png', 'COVID-2293.png', 'COVID-2294.png', 'COVID-2295.png', 'COVID-2296.png', 'COVID-2297.png', 'COVID-2298.png', 'COVID-2299.png', 'COVID-23.png', 'COVID-230.png', 'COVID-2300.png', 'COVID-2301.png', 'COVID-2302.png', 'COVID-2303.png', 'COVID-2304.png', 'COVID-2305.png', 'COVID-2306.png', 'COVID-2307.png', 'COVID-2308.png', 'COVID-2309.png', 'COVID-231.png', 'COVID-2310.png', 'COVID-2311.png', 'COVID-2312.png', 'COVID-2313.png', 'COVID-2314.png', 'COVID-2315.png', 'COVID-2316.png', 'COVID-2317.png', 'COVID-2318.png', 'COVID-2319.png', 'COVID-232.png', 'COVID-2320.png', 'COVID-2321.png', 'COVID-2322.png', 'COVID-2323.png', 'COVID-2324.png', 'COVID-2325.png', 'COVID-2326.png', 'COVID-2327.png', 'COVID-2328.png', 'COVID-2329.png', 'COVID-233.png', 'COVID-2330.png', 'COVID-2331.png', 'COVID-2332.png', 'COVID-2333.png', 'COVID-2334.png', 'COVID-2335.png', 'COVID-2336.png', 'COVID-2337.png', 'COVID-2338.png', 'COVID-2339.png', 'COVID-234.png', 'COVID-2340.png', 'COVID-2341.png', 'COVID-2342.png', 'COVID-2343.png', 'COVID-2344.png', 'COVID-2345.png', 'COVID-2346.png', 'COVID-2347.png', 'COVID-2348.png', 'COVID-2349.png', 'COVID-235.png', 'COVID-2350.png', 'COVID-2351.png', 'COVID-2352.png', 'COVID-2353.png', 'COVID-2354.png', 'COVID-2355.png', 'COVID-2356.png', 'COVID-2357.png', 'COVID-2358.png', 'COVID-2359.png', 'COVID-236.png', 'COVID-2360.png', 'COVID-2361.png', 'COVID-2362.png', 'COVID-2363.png', 'COVID-2364.png', 'COVID-2365.png', 'COVID-2366.png', 'COVID-2367.png', 'COVID-2368.png', 'COVID-2369.png', 'COVID-237.png', 'COVID-2370.png', 'COVID-2371.png', 'COVID-2372.png', 'COVID-2373.png', 'COVID-2374.png', 'COVID-2375.png', 'COVID-2376.png', 'COVID-2377.png', 'COVID-2378.png', 'COVID-2379.png', 'COVID-238.png', 'COVID-2380.png', 'COVID-2381.png', 'COVID-2382.png', 'COVID-2383.png', 'COVID-2384.png', 'COVID-2385.png', 'COVID-2386.png', 'COVID-2387.png', 'COVID-2388.png', 'COVID-2389.png', 'COVID-239.png', 'COVID-2390.png', 'COVID-2391.png', 'COVID-2392.png', 'COVID-2393.png', 'COVID-2394.png', 'COVID-2395.png', 'COVID-2396.png', 'COVID-2397.png', 'COVID-2398.png', 'COVID-2399.png', 'COVID-24.png', 'COVID-240.png', 'COVID-2400.png', 'COVID-2401.png', 'COVID-2402.png', 'COVID-2403.png', 'COVID-2404.png', 'COVID-2405.png', 'COVID-2406.png', 'COVID-2407.png', 'COVID-2408.png', 'COVID-2409.png', 'COVID-241.png', 'COVID-2410.png', 'COVID-2411.png', 'COVID-2412.png', 'COVID-2413.png', 'COVID-2414.png', 'COVID-2415.png', 'COVID-2416.png', 'COVID-2417.png', 'COVID-2418.png', 'COVID-2419.png', 'COVID-242.png', 'COVID-2420.png', 'COVID-2421.png', 'COVID-2422.png', 'COVID-2423.png', 'COVID-2424.png', 'COVID-2425.png', 'COVID-2426.png', 'COVID-2427.png', 'COVID-2428.png', 'COVID-2429.png', 'COVID-243.png', 'COVID-2430.png', 'COVID-2431.png', 'COVID-2432.png', 'COVID-2433.png', 'COVID-2434.png', 'COVID-2435.png', 'COVID-2436.png', 'COVID-2437.png', 'COVID-2438.png', 'COVID-2439.png', 'COVID-244.png', 'COVID-2440.png', 'COVID-2441.png', 'COVID-2442.png', 'COVID-2443.png', 'COVID-2444.png', 'COVID-2445.png', 'COVID-2446.png', 'COVID-2447.png', 'COVID-2448.png', 'COVID-2449.png', 'COVID-245.png', 'COVID-2450.png', 'COVID-2451.png', 'COVID-2452.png', 'COVID-2453.png', 'COVID-2454.png', 'COVID-2455.png', 'COVID-2456.png', 'COVID-2457.png', 'COVID-2458.png', 'COVID-2459.png', 'COVID-246.png', 'COVID-2460.png', 'COVID-2461.png', 'COVID-2462.png', 'COVID-2463.png', 'COVID-2464.png', 'COVID-2465.png', 'COVID-2466.png', 'COVID-2467.png', 'COVID-2468.png', 'COVID-2469.png', 'COVID-247.png', 'COVID-2470.png', 'COVID-2471.png', 'COVID-2472.png', 'COVID-2473.png', 'COVID-2474.png', 'COVID-2475.png', 'COVID-2476.png', 'COVID-2477.png', 'COVID-2478.png', 'COVID-2479.png', 'COVID-248.png', 'COVID-2480.png', 'COVID-2481.png', 'COVID-2482.png', 'COVID-2483.png', 'COVID-2484.png', 'COVID-2485.png', 'COVID-2486.png', 'COVID-2487.png', 'COVID-2488.png', 'COVID-2489.png', 'COVID-249.png', 'COVID-2490.png', 'COVID-2491.png', 'COVID-2492.png', 'COVID-2493.png', 'COVID-2494.png', 'COVID-2495.png', 'COVID-2496.png', 'COVID-2497.png', 'COVID-2498.png', 'COVID-2499.png', 'COVID-25.png', 'COVID-250.png', 'COVID-2500.png', 'COVID-2501.png', 'COVID-2502.png', 'COVID-2503.png', 'COVID-2504.png', 'COVID-2505.png', 'COVID-2506.png', 'COVID-2507.png', 'COVID-2508.png', 'COVID-2509.png', 'COVID-251.png', 'COVID-2510.png', 'COVID-2511.png', 'COVID-2512.png', 'COVID-2513.png', 'COVID-2514.png', 'COVID-2515.png', 'COVID-2516.png', 'COVID-2517.png', 'COVID-2518.png', 'COVID-2519.png', 'COVID-252.png', 'COVID-2520.png', 'COVID-2521.png', 'COVID-2522.png', 'COVID-2523.png', 'COVID-2524.png', 'COVID-2525.png', 'COVID-2526.png', 'COVID-2527.png', 'COVID-2528.png', 'COVID-2529.png', 'COVID-253.png', 'COVID-2530.png', 'COVID-2531.png', 'COVID-2532.png', 'COVID-2533.png', 'COVID-2534.png', 'COVID-2535.png', 'COVID-2536.png', 'COVID-2537.png', 'COVID-2538.png', 'COVID-2539.png', 'COVID-254.png', 'COVID-2540.png', 'COVID-2541.png', 'COVID-2542.png', 'COVID-2543.png', 'COVID-2544.png', 'COVID-2545.png', 'COVID-2546.png', 'COVID-2547.png', 'COVID-2548.png', 'COVID-2549.png', 'COVID-255.png', 'COVID-2550.png', 'COVID-2551.png', 'COVID-2552.png', 'COVID-2553.png', 'COVID-2554.png', 'COVID-2555.png', 'COVID-2556.png', 'COVID-2557.png', 'COVID-2558.png', 'COVID-2559.png', 'COVID-256.png', 'COVID-2560.png', 'COVID-2561.png', 'COVID-2562.png', 'COVID-2563.png', 'COVID-2564.png', 'COVID-2565.png', 'COVID-2566.png', 'COVID-2567.png', 'COVID-2568.png', 'COVID-2569.png', 'COVID-257.png', 'COVID-2570.png', 'COVID-2571.png', 'COVID-2572.png', 'COVID-2573.png', 'COVID-2574.png', 'COVID-2575.png', 'COVID-2576.png', 'COVID-2577.png', 'COVID-2578.png', 'COVID-2579.png', 'COVID-258.png', 'COVID-2580.png', 'COVID-2581.png', 'COVID-2582.png', 'COVID-2583.png', 'COVID-2584.png', 'COVID-2585.png', 'COVID-2586.png', 'COVID-2587.png', 'COVID-2588.png', 'COVID-2589.png', 'COVID-259.png', 'COVID-2590.png', 'COVID-2591.png', 'COVID-2592.png', 'COVID-2593.png', 'COVID-2594.png', 'COVID-2595.png', 'COVID-2596.png', 'COVID-2597.png', 'COVID-2598.png', 'COVID-2599.png', 'COVID-26.png', 'COVID-260.png', 'COVID-2600.png', 'COVID-2601.png', 'COVID-2602.png', 'COVID-2603.png', 'COVID-2604.png', 'COVID-2605.png', 'COVID-2606.png', 'COVID-2607.png', 'COVID-2608.png', 'COVID-2609.png', 'COVID-261.png', 'COVID-2610.png', 'COVID-2611.png', 'COVID-2612.png', 'COVID-2613.png', 'COVID-2614.png', 'COVID-2615.png', 'COVID-2616.png', 'COVID-2617.png', 'COVID-2618.png', 'COVID-2619.png', 'COVID-262.png', 'COVID-2620.png', 'COVID-2621.png', 'COVID-2622.png', 'COVID-2623.png', 'COVID-2624.png', 'COVID-2625.png', 'COVID-2626.png', 'COVID-2627.png', 'COVID-2628.png', 'COVID-2629.png', 'COVID-263.png', 'COVID-2630.png', 'COVID-2631.png', 'COVID-2632.png', 'COVID-2633.png', 'COVID-2634.png', 'COVID-2635.png', 'COVID-2636.png', 'COVID-2637.png', 'COVID-2638.png', 'COVID-2639.png', 'COVID-264.png', 'COVID-2640.png', 'COVID-2641.png', 'COVID-2642.png', 'COVID-2643.png', 'COVID-2644.png', 'COVID-2645.png', 'COVID-2646.png', 'COVID-2647.png', 'COVID-2648.png', 'COVID-2649.png', 'COVID-265.png', 'COVID-2650.png', 'COVID-2651.png', 'COVID-2652.png', 'COVID-2653.png', 'COVID-2654.png', 'COVID-2655.png', 'COVID-2656.png', 'COVID-2657.png', 'COVID-2658.png', 'COVID-2659.png', 'COVID-266.png', 'COVID-2660.png', 'COVID-2661.png', 'COVID-2662.png', 'COVID-2663.png', 'COVID-2664.png', 'COVID-2665.png', 'COVID-2666.png', 'COVID-2667.png', 'COVID-2668.png', 'COVID-2669.png', 'COVID-267.png', 'COVID-2670.png', 'COVID-2671.png', 'COVID-2672.png', 'COVID-2673.png', 'COVID-2674.png', 'COVID-2675.png', 'COVID-2676.png', 'COVID-2677.png', 'COVID-2678.png', 'COVID-2679.png', 'COVID-268.png', 'COVID-2680.png', 'COVID-2681.png', 'COVID-2682.png', 'COVID-2683.png', 'COVID-2684.png', 'COVID-2685.png', 'COVID-2686.png', 'COVID-2687.png', 'COVID-2688.png', 'COVID-2689.png', 'COVID-269.png', 'COVID-2690.png', 'COVID-2691.png', 'COVID-2692.png', 'COVID-2693.png', 'COVID-2694.png', 'COVID-2695.png', 'COVID-2696.png', 'COVID-2697.png', 'COVID-2698.png', 'COVID-2699.png', 'COVID-27.png', 'COVID-270.png', 'COVID-2700.png', 'COVID-2701.png', 'COVID-2702.png', 'COVID-2703.png', 'COVID-2704.png', 'COVID-2705.png', 'COVID-2706.png', 'COVID-2707.png', 'COVID-2708.png', 'COVID-2709.png', 'COVID-271.png', 'COVID-2710.png', 'COVID-2711.png', 'COVID-2712.png', 'COVID-2713.png', 'COVID-2714.png', 'COVID-2715.png', 'COVID-2716.png', 'COVID-2717.png', 'COVID-2718.png', 'COVID-2719.png', 'COVID-272.png', 'COVID-2720.png', 'COVID-2721.png', 'COVID-2722.png', 'COVID-2723.png', 'COVID-2724.png', 'COVID-2725.png', 'COVID-2726.png', 'COVID-2727.png', 'COVID-2728.png', 'COVID-2729.png', 'COVID-273.png', 'COVID-2730.png', 'COVID-2731.png', 'COVID-2732.png', 'COVID-2733.png', 'COVID-2734.png', 'COVID-2735.png', 'COVID-2736.png', 'COVID-2737.png', 'COVID-2738.png', 'COVID-2739.png', 'COVID-274.png', 'COVID-2740.png', 'COVID-2741.png', 'COVID-2742.png', 'COVID-2743.png', 'COVID-2744.png', 'COVID-2745.png', 'COVID-2746.png', 'COVID-2747.png', 'COVID-2748.png', 'COVID-2749.png', 'COVID-275.png', 'COVID-2750.png', 'COVID-2751.png', 'COVID-2752.png', 'COVID-2753.png', 'COVID-2754.png', 'COVID-2755.png', 'COVID-2756.png', 'COVID-2757.png', 'COVID-2758.png', 'COVID-2759.png', 'COVID-276.png', 'COVID-2760.png', 'COVID-2761.png', 'COVID-2762.png', 'COVID-2763.png', 'COVID-2764.png', 'COVID-2765.png', 'COVID-2766.png', 'COVID-2767.png', 'COVID-2768.png', 'COVID-2769.png', 'COVID-277.png', 'COVID-2770.png', 'COVID-2771.png', 'COVID-2772.png', 'COVID-2773.png', 'COVID-2774.png', 'COVID-2775.png', 'COVID-2776.png', 'COVID-2777.png', 'COVID-2778.png', 'COVID-2779.png', 'COVID-278.png', 'COVID-2780.png', 'COVID-2781.png', 'COVID-2782.png', 'COVID-2783.png', 'COVID-2784.png', 'COVID-2785.png', 'COVID-2786.png', 'COVID-2787.png', 'COVID-2788.png', 'COVID-2789.png', 'COVID-279.png', 'COVID-2790.png', 'COVID-2791.png', 'COVID-2792.png', 'COVID-2793.png', 'COVID-2794.png', 'COVID-2795.png', 'COVID-2796.png', 'COVID-2797.png', 'COVID-2798.png', 'COVID-2799.png', 'COVID-28.png', 'COVID-280.png', 'COVID-2800.png', 'COVID-2801.png', 'COVID-2802.png', 'COVID-2803.png', 'COVID-2804.png', 'COVID-2805.png', 'COVID-2806.png', 'COVID-2807.png', 'COVID-2808.png', 'COVID-2809.png', 'COVID-281.png', 'COVID-2810.png', 'COVID-2811.png', 'COVID-2812.png', 'COVID-2813.png', 'COVID-2814.png', 'COVID-2815.png', 'COVID-2816.png', 'COVID-2817.png', 'COVID-2818.png', 'COVID-2819.png', 'COVID-282.png', 'COVID-2820.png', 'COVID-2821.png', 'COVID-2822.png', 'COVID-2823.png', 'COVID-2824.png', 'COVID-2825.png', 'COVID-2826.png', 'COVID-2827.png', 'COVID-2828.png', 'COVID-2829.png', 'COVID-283.png', 'COVID-2830.png', 'COVID-2831.png', 'COVID-2832.png', 'COVID-2833.png', 'COVID-2834.png', 'COVID-2835.png', 'COVID-2836.png', 'COVID-2837.png', 'COVID-2838.png', 'COVID-2839.png', 'COVID-284.png', 'COVID-2840.png', 'COVID-2841.png', 'COVID-2842.png', 'COVID-2843.png', 'COVID-2844.png', 'COVID-2845.png', 'COVID-2846.png', 'COVID-2847.png', 'COVID-2848.png', 'COVID-2849.png', 'COVID-285.png', 'COVID-2850.png', 'COVID-2851.png', 'COVID-2852.png', 'COVID-2853.png', 'COVID-2854.png', 'COVID-2855.png', 'COVID-2856.png', 'COVID-2857.png', 'COVID-2858.png', 'COVID-2859.png', 'COVID-286.png', 'COVID-2860.png', 'COVID-2861.png', 'COVID-2862.png', 'COVID-2863.png', 'COVID-2864.png', 'COVID-2865.png', 'COVID-2866.png', 'COVID-2867.png', 'COVID-2868.png', 'COVID-2869.png', 'COVID-287.png', 'COVID-2870.png', 'COVID-2871.png', 'COVID-2872.png', 'COVID-2873.png', 'COVID-2874.png', 'COVID-2875.png', 'COVID-2876.png', 'COVID-2877.png', 'COVID-2878.png', 'COVID-2879.png', 'COVID-288.png', 'COVID-2880.png', 'COVID-2881.png', 'COVID-2882.png', 'COVID-2883.png', 'COVID-2884.png', 'COVID-2885.png', 'COVID-2886.png', 'COVID-2887.png', 'COVID-2888.png', 'COVID-2889.png', 'COVID-289.png', 'COVID-2890.png', 'COVID-2891.png', 'COVID-2892.png', 'COVID-2893.png', 'COVID-2894.png', 'COVID-2895.png', 'COVID-2896.png', 'COVID-2897.png', 'COVID-2898.png', 'COVID-2899.png', 'COVID-29.png', 'COVID-290.png', 'COVID-2900.png', 'COVID-2901.png', 'COVID-2902.png', 'COVID-2903.png', 'COVID-2904.png', 'COVID-2905.png', 'COVID-2906.png', 'COVID-2907.png', 'COVID-2908.png', 'COVID-2909.png', 'COVID-291.png', 'COVID-2910.png', 'COVID-2911.png', 'COVID-2912.png', 'COVID-2913.png', 'COVID-2914.png', 'COVID-2915.png', 'COVID-2916.png', 'COVID-2917.png', 'COVID-2918.png', 'COVID-2919.png', 'COVID-292.png', 'COVID-2920.png', 'COVID-2921.png', 'COVID-2922.png', 'COVID-2923.png', 'COVID-2924.png', 'COVID-2925.png', 'COVID-2926.png', 'COVID-2927.png', 'COVID-2928.png', 'COVID-2929.png', 'COVID-293.png', 'COVID-2930.png', 'COVID-2931.png', 'COVID-2932.png', 'COVID-2933.png', 'COVID-2934.png', 'COVID-2935.png', 'COVID-2936.png', 'COVID-2937.png', 'COVID-2938.png', 'COVID-2939.png', 'COVID-294.png', 'COVID-2940.png', 'COVID-2941.png', 'COVID-2942.png', 'COVID-2943.png', 'COVID-2944.png', 'COVID-2945.png', 'COVID-2946.png', 'COVID-2947.png', 'COVID-2948.png', 'COVID-2949.png', 'COVID-295.png', 'COVID-2950.png', 'COVID-2951.png', 'COVID-2952.png', 'COVID-2953.png', 'COVID-2954.png', 'COVID-2955.png', 'COVID-2956.png', 'COVID-2957.png', 'COVID-2958.png', 'COVID-2959.png', 'COVID-296.png', 'COVID-2960.png', 'COVID-2961.png', 'COVID-2962.png', 'COVID-2963.png', 'COVID-2964.png', 'COVID-2965.png', 'COVID-2966.png', 'COVID-2967.png', 'COVID-2968.png', 'COVID-2969.png', 'COVID-297.png', 'COVID-2970.png', 'COVID-2971.png', 'COVID-2972.png', 'COVID-2973.png', 'COVID-2974.png', 'COVID-2975.png', 'COVID-2976.png', 'COVID-2977.png', 'COVID-2978.png', 'COVID-2979.png', 'COVID-298.png', 'COVID-2980.png', 'COVID-2981.png', 'COVID-2982.png', 'COVID-2983.png', 'COVID-2984.png', 'COVID-2985.png', 'COVID-2986.png', 'COVID-2987.png', 'COVID-2988.png', 'COVID-2989.png', 'COVID-299.png', 'COVID-2990.png', 'COVID-2991.png', 'COVID-2992.png', 'COVID-2993.png', 'COVID-2994.png', 'COVID-2995.png', 'COVID-2996.png', 'COVID-2997.png', 'COVID-2998.png', 'COVID-2999.png', 'COVID-3.png', 'COVID-30.png', 'COVID-300.png', 'COVID-3000.png', 'COVID-3001.png', 'COVID-3002.png', 'COVID-3003.png', 'COVID-3004.png', 'COVID-3005.png', 'COVID-3006.png', 'COVID-3007.png', 'COVID-3008.png', 'COVID-3009.png', 'COVID-301.png', 'COVID-3010.png', 'COVID-3011.png', 'COVID-3012.png', 'COVID-3013.png', 'COVID-3014.png', 'COVID-3015.png', 'COVID-3016.png', 'COVID-3017.png', 'COVID-3018.png', 'COVID-3019.png', 'COVID-302.png', 'COVID-3020.png', 'COVID-3021.png', 'COVID-3022.png', 'COVID-3023.png', 'COVID-3024.png', 'COVID-3025.png', 'COVID-3026.png', 'COVID-3027.png', 'COVID-3028.png', 'COVID-3029.png', 'COVID-303.png', 'COVID-3030.png', 'COVID-3031.png', 'COVID-3032.png', 'COVID-3033.png', 'COVID-3034.png', 'COVID-3035.png', 'COVID-3036.png', 'COVID-3037.png', 'COVID-3038.png', 'COVID-3039.png', 'COVID-304.png', 'COVID-3040.png', 'COVID-3041.png', 'COVID-3042.png', 'COVID-3043.png', 'COVID-3044.png', 'COVID-3045.png', 'COVID-3046.png', 'COVID-3047.png', 'COVID-3048.png', 'COVID-3049.png', 'COVID-305.png', 'COVID-3050.png', 'COVID-3051.png', 'COVID-3052.png', 'COVID-3053.png', 'COVID-3054.png', 'COVID-3055.png', 'COVID-3056.png', 'COVID-3057.png', 'COVID-3058.png', 'COVID-3059.png', 'COVID-306.png', 'COVID-3060.png', 'COVID-3061.png', 'COVID-3062.png', 'COVID-3063.png', 'COVID-3064.png', 'COVID-3065.png', 'COVID-3066.png', 'COVID-3067.png', 'COVID-3068.png', 'COVID-3069.png', 'COVID-307.png', 'COVID-3070.png', 'COVID-3071.png', 'COVID-3072.png', 'COVID-3073.png', 'COVID-3074.png', 'COVID-3075.png', 'COVID-3076.png', 'COVID-3077.png', 'COVID-3078.png', 'COVID-3079.png', 'COVID-308.png', 'COVID-3080.png', 'COVID-3081.png', 'COVID-3082.png', 'COVID-3083.png', 'COVID-3084.png', 'COVID-3085.png', 'COVID-3086.png', 'COVID-3087.png', 'COVID-3088.png', 'COVID-3089.png', 'COVID-309.png', 'COVID-3090.png', 'COVID-3091.png', 'COVID-3092.png', 'COVID-3093.png', 'COVID-3094.png', 'COVID-3095.png', 'COVID-3096.png', 'COVID-3097.png', 'COVID-3098.png', 'COVID-3099.png', 'COVID-31.png', 'COVID-310.png', 'COVID-3100.png', 'COVID-3101.png', 'COVID-3102.png', 'COVID-3103.png', 'COVID-3104.png', 'COVID-3105.png', 'COVID-3106.png', 'COVID-3107.png', 'COVID-3108.png', 'COVID-3109.png', 'COVID-311.png', 'COVID-3110.png', 'COVID-3111.png', 'COVID-3112.png', 'COVID-3113.png', 'COVID-3114.png', 'COVID-3115.png', 'COVID-3116.png', 'COVID-3117.png', 'COVID-3118.png', 'COVID-3119.png', 'COVID-312.png', 'COVID-3120.png', 'COVID-3121.png', 'COVID-3122.png', 'COVID-3123.png', 'COVID-3124.png', 'COVID-3125.png', 'COVID-3126.png', 'COVID-3127.png', 'COVID-3128.png', 'COVID-3129.png', 'COVID-313.png', 'COVID-3130.png', 'COVID-3131.png', 'COVID-3132.png', 'COVID-3133.png', 'COVID-3134.png', 'COVID-3135.png', 'COVID-3136.png', 'COVID-3137.png', 'COVID-3138.png', 'COVID-3139.png', 'COVID-314.png', 'COVID-3140.png', 'COVID-3141.png', 'COVID-3142.png', 'COVID-3143.png', 'COVID-3144.png', 'COVID-3145.png', 'COVID-3146.png', 'COVID-3147.png', 'COVID-3148.png', 'COVID-3149.png', 'COVID-315.png', 'COVID-3150.png', 'COVID-3151.png', 'COVID-3152.png', 'COVID-3153.png', 'COVID-3154.png', 'COVID-3155.png', 'COVID-3156.png', 'COVID-3157.png', 'COVID-3158.png', 'COVID-3159.png', 'COVID-316.png', 'COVID-3160.png', 'COVID-3161.png', 'COVID-3162.png', 'COVID-3163.png', 'COVID-3164.png', 'COVID-3165.png', 'COVID-3166.png', 'COVID-3167.png', 'COVID-3168.png', 'COVID-3169.png', 'COVID-317.png', 'COVID-3170.png', 'COVID-3171.png', 'COVID-3172.png', 'COVID-3173.png', 'COVID-3174.png', 'COVID-3175.png', 'COVID-3176.png', 'COVID-3177.png', 'COVID-3178.png', 'COVID-3179.png', 'COVID-318.png', 'COVID-3180.png', 'COVID-3181.png', 'COVID-3182.png', 'COVID-3183.png', 'COVID-3184.png', 'COVID-3185.png', 'COVID-3186.png', 'COVID-3187.png', 'COVID-3188.png', 'COVID-3189.png', 'COVID-319.png', 'COVID-3190.png', 'COVID-3191.png', 'COVID-3192.png', 'COVID-3193.png', 'COVID-3194.png', 'COVID-3195.png', 'COVID-3196.png', 'COVID-3197.png', 'COVID-3198.png', 'COVID-3199.png', 'COVID-32.png', 'COVID-320.png', 'COVID-3200.png', 'COVID-3201.png', 'COVID-3202.png', 'COVID-3203.png', 'COVID-3204.png', 'COVID-3205.png', 'COVID-3206.png', 'COVID-3207.png', 'COVID-3208.png', 'COVID-3209.png', 'COVID-321.png', 'COVID-3210.png', 'COVID-3211.png', 'COVID-3212.png', 'COVID-3213.png', 'COVID-3214.png', 'COVID-3215.png', 'COVID-3216.png', 'COVID-3217.png', 'COVID-3218.png', 'COVID-3219.png', 'COVID-322.png', 'COVID-3220.png', 'COVID-3221.png', 'COVID-3222.png', 'COVID-3223.png', 'COVID-3224.png', 'COVID-3225.png', 'COVID-3226.png', 'COVID-3227.png', 'COVID-3228.png', 'COVID-3229.png', 'COVID-323.png', 'COVID-3230.png', 'COVID-3231.png', 'COVID-3232.png', 'COVID-3233.png', 'COVID-3234.png', 'COVID-3235.png', 'COVID-3236.png', 'COVID-3237.png', 'COVID-3238.png', 'COVID-3239.png', 'COVID-324.png', 'COVID-3240.png', 'COVID-3241.png', 'COVID-3242.png', 'COVID-3243.png', 'COVID-3244.png', 'COVID-3245.png', 'COVID-3246.png', 'COVID-3247.png', 'COVID-3248.png', 'COVID-3249.png', 'COVID-325.png', 'COVID-3250.png', 'COVID-3251.png', 'COVID-3252.png', 'COVID-3253.png', 'COVID-3254.png', 'COVID-3255.png', 'COVID-3256.png', 'COVID-3257.png', 'COVID-3258.png', 'COVID-3259.png', 'COVID-326.png', 'COVID-3260.png', 'COVID-3261.png', 'COVID-3262.png', 'COVID-3263.png', 'COVID-3264.png', 'COVID-3265.png', 'COVID-3266.png', 'COVID-3267.png', 'COVID-3268.png', 'COVID-3269.png', 'COVID-327.png', 'COVID-3270.png', 'COVID-3271.png', 'COVID-3272.png', 'COVID-3273.png', 'COVID-3274.png', 'COVID-3275.png', 'COVID-3276.png', 'COVID-3277.png', 'COVID-3278.png', 'COVID-3279.png', 'COVID-328.png', 'COVID-3280.png', 'COVID-3281.png', 'COVID-3282.png', 'COVID-3283.png', 'COVID-3284.png', 'COVID-3285.png', 'COVID-3286.png', 'COVID-3287.png', 'COVID-3288.png', 'COVID-3289.png', 'COVID-329.png', 'COVID-3290.png', 'COVID-3291.png', 'COVID-3292.png', 'COVID-3293.png', 'COVID-3294.png', 'COVID-3295.png', 'COVID-3296.png', 'COVID-3297.png', 'COVID-3298.png', 'COVID-3299.png', 'COVID-33.png', 'COVID-330.png', 'COVID-3300.png', 'COVID-3301.png', 'COVID-3302.png', 'COVID-3303.png', 'COVID-3304.png', 'COVID-3305.png', 'COVID-3306.png', 'COVID-3307.png', 'COVID-3308.png', 'COVID-3309.png', 'COVID-331.png', 'COVID-3310.png', 'COVID-3311.png', 'COVID-3312.png', 'COVID-3313.png', 'COVID-3314.png', 'COVID-3315.png', 'COVID-3316.png', 'COVID-3317.png', 'COVID-3318.png', 'COVID-3319.png', 'COVID-332.png', 'COVID-3320.png', 'COVID-3321.png', 'COVID-3322.png', 'COVID-3323.png', 'COVID-3324.png', 'COVID-3325.png', 'COVID-3326.png', 'COVID-3327.png', 'COVID-3328.png', 'COVID-3329.png', 'COVID-333.png', 'COVID-3330.png', 'COVID-3331.png', 'COVID-3332.png', 'COVID-3333.png', 'COVID-3334.png', 'COVID-3335.png', 'COVID-3336.png', 'COVID-3337.png', 'COVID-3338.png', 'COVID-3339.png', 'COVID-334.png', 'COVID-3340.png', 'COVID-3341.png', 'COVID-3342.png', 'COVID-3343.png', 'COVID-3344.png', 'COVID-3345.png', 'COVID-3346.png', 'COVID-3347.png', 'COVID-3348.png', 'COVID-3349.png', 'COVID-335.png', 'COVID-3350.png', 'COVID-3351.png', 'COVID-3352.png', 'COVID-3353.png', 'COVID-3354.png', 'COVID-3355.png', 'COVID-3356.png', 'COVID-3357.png', 'COVID-3358.png', 'COVID-3359.png', 'COVID-336.png', 'COVID-3360.png', 'COVID-3361.png', 'COVID-3362.png', 'COVID-3363.png', 'COVID-3364.png', 'COVID-3365.png', 'COVID-3366.png', 'COVID-3367.png', 'COVID-3368.png', 'COVID-3369.png', 'COVID-337.png', 'COVID-3370.png', 'COVID-3371.png', 'COVID-3372.png', 'COVID-3373.png', 'COVID-3374.png', 'COVID-3375.png', 'COVID-3376.png', 'COVID-3377.png', 'COVID-3378.png', 'COVID-3379.png', 'COVID-338.png', 'COVID-3380.png', 'COVID-3381.png', 'COVID-3382.png', 'COVID-3383.png', 'COVID-3384.png', 'COVID-3385.png', 'COVID-3386.png', 'COVID-3387.png', 'COVID-3388.png', 'COVID-3389.png', 'COVID-339.png', 'COVID-3390.png', 'COVID-3391.png', 'COVID-3392.png', 'COVID-3393.png', 'COVID-3394.png', 'COVID-3395.png', 'COVID-3396.png', 'COVID-3397.png', 'COVID-3398.png', 'COVID-3399.png', 'COVID-34.png', 'COVID-340.png', 'COVID-3400.png', 'COVID-3401.png', 'COVID-3402.png', 'COVID-3403.png', 'COVID-3404.png', 'COVID-3405.png', 'COVID-3406.png', 'COVID-3407.png', 'COVID-3408.png', 'COVID-3409.png', 'COVID-341.png', 'COVID-3410.png', 'COVID-3411.png', 'COVID-3412.png', 'COVID-3413.png', 'COVID-3414.png', 'COVID-3415.png', 'COVID-3416.png', 'COVID-3417.png', 'COVID-3418.png', 'COVID-3419.png', 'COVID-342.png', 'COVID-3420.png', 'COVID-3421.png', 'COVID-3422.png', 'COVID-3423.png', 'COVID-3424.png', 'COVID-3425.png', 'COVID-3426.png', 'COVID-3427.png', 'COVID-3428.png', 'COVID-3429.png', 'COVID-343.png', 'COVID-3430.png', 'COVID-3431.png', 'COVID-3432.png', 'COVID-3433.png', 'COVID-3434.png', 'COVID-3435.png', 'COVID-3436.png', 'COVID-3437.png', 'COVID-3438.png', 'COVID-3439.png', 'COVID-344.png', 'COVID-3440.png', 'COVID-3441.png', 'COVID-3442.png', 'COVID-3443.png', 'COVID-3444.png', 'COVID-3445.png', 'COVID-3446.png', 'COVID-3447.png', 'COVID-3448.png', 'COVID-3449.png', 'COVID-345.png', 'COVID-3450.png', 'COVID-3451.png', 'COVID-3452.png', 'COVID-3453.png', 'COVID-3454.png', 'COVID-3455.png', 'COVID-3456.png', 'COVID-3457.png', 'COVID-3458.png', 'COVID-3459.png', 'COVID-346.png', 'COVID-3460.png', 'COVID-3461.png', 'COVID-3462.png', 'COVID-3463.png', 'COVID-3464.png', 'COVID-3465.png', 'COVID-3466.png', 'COVID-3467.png', 'COVID-3468.png', 'COVID-3469.png', 'COVID-347.png', 'COVID-3470.png', 'COVID-3471.png', 'COVID-3472.png', 'COVID-3473.png', 'COVID-3474.png', 'COVID-3475.png', 'COVID-3476.png', 'COVID-3477.png', 'COVID-3478.png', 'COVID-3479.png', 'COVID-348.png', 'COVID-3480.png', 'COVID-3481.png', 'COVID-3482.png', 'COVID-3483.png', 'COVID-3484.png', 'COVID-3485.png', 'COVID-3486.png', 'COVID-3487.png', 'COVID-3488.png', 'COVID-3489.png', 'COVID-349.png', 'COVID-3490.png', 'COVID-3491.png', 'COVID-3492.png', 'COVID-3493.png', 'COVID-3494.png', 'COVID-3495.png', 'COVID-3496.png', 'COVID-3497.png', 'COVID-3498.png', 'COVID-3499.png', 'COVID-35.png', 'COVID-350.png', 'COVID-3500.png', 'COVID-3501.png', 'COVID-3502.png', 'COVID-3503.png', 'COVID-3504.png', 'COVID-3505.png', 'COVID-3506.png', 'COVID-3507.png', 'COVID-3508.png', 'COVID-3509.png', 'COVID-351.png', 'COVID-3510.png', 'COVID-3511.png', 'COVID-3512.png', 'COVID-3513.png', 'COVID-3514.png', 'COVID-3515.png', 'COVID-3516.png', 'COVID-3517.png', 'COVID-3518.png', 'COVID-3519.png', 'COVID-352.png', 'COVID-3520.png', 'COVID-3521.png', 'COVID-3522.png', 'COVID-3523.png', 'COVID-3524.png', 'COVID-3525.png', 'COVID-3526.png', 'COVID-3527.png', 'COVID-3528.png', 'COVID-3529.png', 'COVID-353.png', 'COVID-3530.png', 'COVID-3531.png', 'COVID-3532.png', 'COVID-3533.png', 'COVID-3534.png', 'COVID-3535.png', 'COVID-3536.png', 'COVID-3537.png', 'COVID-3538.png', 'COVID-3539.png', 'COVID-354.png', 'COVID-3540.png', 'COVID-3541.png', 'COVID-3542.png', 'COVID-3543.png', 'COVID-3544.png', 'COVID-3545.png', 'COVID-3546.png', 'COVID-3547.png', 'COVID-3548.png', 'COVID-3549.png', 'COVID-355.png', 'COVID-3550.png', 'COVID-3551.png', 'COVID-3552.png', 'COVID-3553.png', 'COVID-3554.png', 'COVID-3555.png', 'COVID-3556.png', 'COVID-3557.png', 'COVID-3558.png', 'COVID-3559.png', 'COVID-356.png', 'COVID-3560.png', 'COVID-3561.png', 'COVID-3562.png', 'COVID-3563.png', 'COVID-3564.png', 'COVID-3565.png', 'COVID-3566.png', 'COVID-3567.png', 'COVID-3568.png', 'COVID-3569.png', 'COVID-357.png', 'COVID-3570.png', 'COVID-3571.png', 'COVID-3572.png', 'COVID-3573.png', 'COVID-3574.png', 'COVID-3575.png', 'COVID-3576.png', 'COVID-3577.png', 'COVID-3578.png', 'COVID-3579.png', 'COVID-358.png', 'COVID-3580.png', 'COVID-3581.png', 'COVID-3582.png', 'COVID-3583.png', 'COVID-3584.png', 'COVID-3585.png', 'COVID-3586.png', 'COVID-3587.png', 'COVID-3588.png', 'COVID-3589.png', 'COVID-359.png', 'COVID-3590.png', 'COVID-3591.png', 'COVID-3592.png', 'COVID-3593.png', 'COVID-3594.png', 'COVID-3595.png', 'COVID-3596.png', 'COVID-3597.png', 'COVID-3598.png', 'COVID-3599.png', 'COVID-36.png', 'COVID-360.png', 'COVID-3600.png', 'COVID-3601.png', 'COVID-3602.png', 'COVID-3603.png', 'COVID-3604.png', 'COVID-3605.png', 'COVID-3606.png', 'COVID-3607.png', 'COVID-3608.png', 'COVID-3609.png', 'COVID-361.png', 'COVID-3610.png', 'COVID-3611.png', 'COVID-3612.png', 'COVID-3613.png', 'COVID-3614.png', 'COVID-3615.png', 'COVID-3616.png', 'COVID-362.png', 'COVID-363.png', 'COVID-364.png', 'COVID-365.png', 'COVID-366.png', 'COVID-367.png', 'COVID-368.png', 'COVID-369.png', 'COVID-37.png', 'COVID-370.png', 'COVID-371.png', 'COVID-372.png', 'COVID-373.png', 'COVID-374.png', 'COVID-375.png', 'COVID-376.png', 'COVID-377.png', 'COVID-378.png', 'COVID-379.png', 'COVID-38.png', 'COVID-380.png', 'COVID-381.png', 'COVID-382.png', 'COVID-383.png', 'COVID-384.png', 'COVID-385.png', 'COVID-386.png', 'COVID-387.png', 'COVID-388.png', 'COVID-389.png', 'COVID-39.png', 'COVID-390.png', 'COVID-391.png', 'COVID-392.png', 'COVID-393.png', 'COVID-394.png', 'COVID-395.png', 'COVID-396.png', 'COVID-397.png', 'COVID-398.png', 'COVID-399.png', 'COVID-4.png', 'COVID-40.png', 'COVID-400.png', 'COVID-401.png', 'COVID-402.png', 'COVID-403.png', 'COVID-404.png', 'COVID-405.png', 'COVID-406.png', 'COVID-407.png', 'COVID-408.png', 'COVID-409.png', 'COVID-41.png', 'COVID-410.png', 'COVID-411.png', 'COVID-412.png', 'COVID-413.png', 'COVID-414.png', 'COVID-415.png', 'COVID-416.png', 'COVID-417.png', 'COVID-418.png', 'COVID-419.png', 'COVID-42.png', 'COVID-420.png', 'COVID-421.png', 'COVID-422.png', 'COVID-423.png', 'COVID-424.png', 'COVID-425.png', 'COVID-426.png', 'COVID-427.png', 'COVID-428.png', 'COVID-429.png', 'COVID-43.png', 'COVID-430.png', 'COVID-431.png', 'COVID-432.png', 'COVID-433.png', 'COVID-434.png', 'COVID-435.png', 'COVID-436.png', 'COVID-437.png', 'COVID-438.png', 'COVID-439.png', 'COVID-44.png', 'COVID-440.png', 'COVID-441.png', 'COVID-442.png', 'COVID-443.png', 'COVID-444.png', 'COVID-445.png', 'COVID-446.png', 'COVID-447.png', 'COVID-448.png', 'COVID-449.png', 'COVID-45.png', 'COVID-450.png', 'COVID-451.png', 'COVID-452.png', 'COVID-453.png', 'COVID-454.png', 'COVID-455.png', 'COVID-456.png', 'COVID-457.png', 'COVID-458.png', 'COVID-459.png', 'COVID-46.png', 'COVID-460.png', 'COVID-461.png', 'COVID-462.png', 'COVID-463.png', 'COVID-464.png', 'COVID-465.png', 'COVID-466.png', 'COVID-467.png', 'COVID-468.png', 'COVID-469.png', 'COVID-47.png', 'COVID-470.png', 'COVID-471.png', 'COVID-472.png', 'COVID-473.png', 'COVID-474.png', 'COVID-475.png', 'COVID-476.png', 'COVID-477.png', 'COVID-478.png', 'COVID-479.png', 'COVID-48.png', 'COVID-480.png', 'COVID-481.png', 'COVID-482.png', 'COVID-483.png', 'COVID-484.png', 'COVID-485.png', 'COVID-486.png', 'COVID-487.png', 'COVID-488.png', 'COVID-489.png', 'COVID-49.png', 'COVID-490.png', 'COVID-491.png', 'COVID-492.png', 'COVID-493.png', 'COVID-494.png', 'COVID-495.png', 'COVID-496.png', 'COVID-497.png', 'COVID-498.png', 'COVID-499.png', 'COVID-5.png', 'COVID-50.png', 'COVID-500.png', 'COVID-501.png', 'COVID-502.png', 'COVID-503.png', 'COVID-504.png', 'COVID-505.png', 'COVID-506.png', 'COVID-507.png', 'COVID-508.png', 'COVID-509.png', 'COVID-51.png', 'COVID-510.png', 'COVID-511.png', 'COVID-512.png', 'COVID-513.png', 'COVID-514.png', 'COVID-515.png', 'COVID-516.png', 'COVID-517.png', 'COVID-518.png', 'COVID-519.png', 'COVID-52.png', 'COVID-520.png', 'COVID-521.png', 'COVID-522.png', 'COVID-523.png', 'COVID-524.png', 'COVID-525.png', 'COVID-526.png', 'COVID-527.png', 'COVID-528.png', 'COVID-529.png', 'COVID-53.png', 'COVID-530.png', 'COVID-531.png', 'COVID-532.png', 'COVID-533.png', 'COVID-534.png', 'COVID-535.png', 'COVID-536.png', 'COVID-537.png', 'COVID-538.png', 'COVID-539.png', 'COVID-54.png', 'COVID-540.png', 'COVID-541.png', 'COVID-542.png', 'COVID-543.png', 'COVID-544.png', 'COVID-545.png', 'COVID-546.png', 'COVID-547.png', 'COVID-548.png', 'COVID-549.png', 'COVID-55.png', 'COVID-550.png', 'COVID-551.png', 'COVID-552.png', 'COVID-553.png', 'COVID-554.png', 'COVID-555.png', 'COVID-556.png', 'COVID-557.png', 'COVID-558.png', 'COVID-559.png', 'COVID-56.png', 'COVID-560.png', 'COVID-561.png', 'COVID-562.png', 'COVID-563.png', 'COVID-564.png', 'COVID-565.png', 'COVID-566.png', 'COVID-567.png', 'COVID-568.png', 'COVID-569.png', 'COVID-57.png', 'COVID-570.png', 'COVID-571.png', 'COVID-572.png', 'COVID-573.png', 'COVID-574.png', 'COVID-575.png', 'COVID-576.png', 'COVID-577.png', 'COVID-578.png', 'COVID-579.png', 'COVID-58.png', 'COVID-580.png', 'COVID-581.png', 'COVID-582.png', 'COVID-583.png', 'COVID-584.png', 'COVID-585.png', 'COVID-586.png', 'COVID-587.png', 'COVID-588.png', 'COVID-589.png', 'COVID-59.png', 'COVID-590.png', 'COVID-591.png', 'COVID-592.png', 'COVID-593.png', 'COVID-594.png', 'COVID-595.png', 'COVID-596.png', 'COVID-597.png', 'COVID-598.png', 'COVID-599.png', 'COVID-6.png', 'COVID-60.png', 'COVID-600.png', 'COVID-601.png', 'COVID-602.png', 'COVID-603.png', 'COVID-604.png', 'COVID-605.png', 'COVID-606.png', 'COVID-607.png', 'COVID-608.png', 'COVID-609.png', 'COVID-61.png', 'COVID-610.png', 'COVID-611.png', 'COVID-612.png', 'COVID-613.png', 'COVID-614.png', 'COVID-615.png', 'COVID-616.png', 'COVID-617.png', 'COVID-618.png', 'COVID-619.png', 'COVID-62.png', 'COVID-620.png', 'COVID-621.png', 'COVID-622.png', 'COVID-623.png', 'COVID-624.png', 'COVID-625.png', 'COVID-626.png', 'COVID-627.png', 'COVID-628.png', 'COVID-629.png', 'COVID-63.png', 'COVID-630.png', 'COVID-631.png', 'COVID-632.png', 'COVID-633.png', 'COVID-634.png', 'COVID-635.png', 'COVID-636.png', 'COVID-637.png', 'COVID-638.png', 'COVID-639.png', 'COVID-64.png', 'COVID-640.png', 'COVID-641.png', 'COVID-642.png', 'COVID-643.png', 'COVID-644.png', 'COVID-645.png', 'COVID-646.png', 'COVID-647.png', 'COVID-648.png', 'COVID-649.png', 'COVID-65.png', 'COVID-650.png', 'COVID-651.png', 'COVID-652.png', 'COVID-653.png', 'COVID-654.png', 'COVID-655.png', 'COVID-656.png', 'COVID-657.png', 'COVID-658.png', 'COVID-659.png', 'COVID-66.png', 'COVID-660.png', 'COVID-661.png', 'COVID-662.png', 'COVID-663.png', 'COVID-664.png', 'COVID-665.png', 'COVID-666.png', 'COVID-667.png', 'COVID-668.png', 'COVID-669.png', 'COVID-67.png', 'COVID-670.png', 'COVID-671.png', 'COVID-672.png', 'COVID-673.png', 'COVID-674.png', 'COVID-675.png', 'COVID-676.png', 'COVID-677.png', 'COVID-678.png', 'COVID-679.png', 'COVID-68.png', 'COVID-680.png', 'COVID-681.png', 'COVID-682.png', 'COVID-683.png', 'COVID-684.png', 'COVID-685.png', 'COVID-686.png', 'COVID-687.png', 'COVID-688.png', 'COVID-689.png', 'COVID-69.png', 'COVID-690.png', 'COVID-691.png', 'COVID-692.png', 'COVID-693.png', 'COVID-694.png', 'COVID-695.png', 'COVID-696.png', 'COVID-697.png', 'COVID-698.png', 'COVID-699.png', 'COVID-7.png', 'COVID-70.png', 'COVID-700.png', 'COVID-701.png', 'COVID-702.png', 'COVID-703.png', 'COVID-704.png', 'COVID-705.png', 'COVID-706.png', 'COVID-707.png', 'COVID-708.png', 'COVID-709.png', 'COVID-71.png', 'COVID-710.png', 'COVID-711.png', 'COVID-712.png', 'COVID-713.png', 'COVID-714.png', 'COVID-715.png', 'COVID-716.png', 'COVID-717.png', 'COVID-718.png', 'COVID-719.png', 'COVID-72.png', 'COVID-720.png', 'COVID-721.png', 'COVID-722.png', 'COVID-723.png', 'COVID-724.png', 'COVID-725.png', 'COVID-726.png', 'COVID-727.png', 'COVID-728.png', 'COVID-729.png', 'COVID-73.png', 'COVID-730.png', 'COVID-731.png', 'COVID-732.png', 'COVID-733.png', 'COVID-734.png', 'COVID-735.png', 'COVID-736.png', 'COVID-737.png', 'COVID-738.png', 'COVID-739.png', 'COVID-74.png', 'COVID-740.png', 'COVID-741.png', 'COVID-742.png', 'COVID-743.png', 'COVID-744.png', 'COVID-745.png', 'COVID-746.png', 'COVID-747.png', 'COVID-748.png', 'COVID-749.png', 'COVID-75.png', 'COVID-750.png', 'COVID-751.png', 'COVID-752.png', 'COVID-753.png', 'COVID-754.png', 'COVID-755.png', 'COVID-756.png', 'COVID-757.png', 'COVID-758.png', 'COVID-759.png', 'COVID-76.png', 'COVID-760.png', 'COVID-761.png', 'COVID-762.png', 'COVID-763.png', 'COVID-764.png', 'COVID-765.png', 'COVID-766.png', 'COVID-767.png', 'COVID-768.png', 'COVID-769.png', 'COVID-77.png', 'COVID-770.png', 'COVID-771.png', 'COVID-772.png', 'COVID-773.png', 'COVID-774.png', 'COVID-775.png', 'COVID-776.png', 'COVID-777.png', 'COVID-778.png', 'COVID-779.png', 'COVID-78.png', 'COVID-780.png', 'COVID-781.png', 'COVID-782.png', 'COVID-783.png', 'COVID-784.png', 'COVID-785.png', 'COVID-786.png', 'COVID-787.png', 'COVID-788.png', 'COVID-789.png', 'COVID-79.png', 'COVID-790.png', 'COVID-791.png', 'COVID-792.png', 'COVID-793.png', 'COVID-794.png', 'COVID-795.png', 'COVID-796.png', 'COVID-797.png', 'COVID-798.png', 'COVID-799.png', 'COVID-8.png', 'COVID-80.png', 'COVID-800.png', 'COVID-801.png', 'COVID-802.png', 'COVID-803.png', 'COVID-804.png', 'COVID-805.png', 'COVID-806.png', 'COVID-807.png', 'COVID-808.png', 'COVID-809.png', 'COVID-81.png', 'COVID-810.png', 'COVID-811.png', 'COVID-812.png', 'COVID-813.png', 'COVID-814.png', 'COVID-815.png', 'COVID-816.png', 'COVID-817.png', 'COVID-818.png', 'COVID-819.png', 'COVID-82.png', 'COVID-820.png', 'COVID-821.png', 'COVID-822.png', 'COVID-823.png', 'COVID-824.png', 'COVID-825.png', 'COVID-826.png', 'COVID-827.png', 'COVID-828.png', 'COVID-829.png', 'COVID-83.png', 'COVID-830.png', 'COVID-831.png', 'COVID-832.png', 'COVID-833.png', 'COVID-834.png', 'COVID-835.png', 'COVID-836.png', 'COVID-837.png', 'COVID-838.png', 'COVID-839.png', 'COVID-84.png', 'COVID-840.png', 'COVID-841.png', 'COVID-842.png', 'COVID-843.png', 'COVID-844.png', 'COVID-845.png', 'COVID-846.png', 'COVID-847.png', 'COVID-848.png', 'COVID-849.png', 'COVID-85.png', 'COVID-850.png', 'COVID-851.png', 'COVID-852.png', 'COVID-853.png', 'COVID-854.png', 'COVID-855.png', 'COVID-856.png', 'COVID-857.png', 'COVID-858.png', 'COVID-859.png', 'COVID-86.png', 'COVID-860.png', 'COVID-861.png', 'COVID-862.png', 'COVID-863.png', 'COVID-864.png', 'COVID-865.png', 'COVID-866.png', 'COVID-867.png', 'COVID-868.png', 'COVID-869.png', 'COVID-87.png', 'COVID-870.png', 'COVID-871.png', 'COVID-872.png', 'COVID-873.png', 'COVID-874.png', 'COVID-875.png', 'COVID-876.png', 'COVID-877.png', 'COVID-878.png', 'COVID-879.png', 'COVID-88.png', 'COVID-880.png', 'COVID-881.png', 'COVID-882.png', 'COVID-883.png', 'COVID-884.png', 'COVID-885.png', 'COVID-886.png', 'COVID-887.png', 'COVID-888.png', 'COVID-889.png', 'COVID-89.png', 'COVID-890.png', 'COVID-891.png', 'COVID-892.png', 'COVID-893.png', 'COVID-894.png', 'COVID-895.png', 'COVID-896.png', 'COVID-897.png', 'COVID-898.png', 'COVID-899.png', 'COVID-9.png', 'COVID-90.png', 'COVID-900.png', 'COVID-901.png', 'COVID-902.png', 'COVID-903.png', 'COVID-904.png', 'COVID-905.png', 'COVID-906.png', 'COVID-907.png', 'COVID-908.png', 'COVID-909.png', 'COVID-91.png', 'COVID-910.png', 'COVID-911.png', 'COVID-912.png', 'COVID-913.png', 'COVID-914.png', 'COVID-915.png', 'COVID-916.png', 'COVID-917.png', 'COVID-918.png', 'COVID-919.png', 'COVID-92.png', 'COVID-920.png', 'COVID-921.png', 'COVID-922.png', 'COVID-923.png', 'COVID-924.png', 'COVID-925.png', 'COVID-926.png', 'COVID-927.png', 'COVID-928.png', 'COVID-929.png', 'COVID-93.png', 'COVID-930.png', 'COVID-931.png', 'COVID-932.png', 'COVID-933.png', 'COVID-934.png', 'COVID-935.png', 'COVID-936.png', 'COVID-937.png', 'COVID-938.png', 'COVID-939.png', 'COVID-94.png', 'COVID-940.png', 'COVID-941.png', 'COVID-942.png', 'COVID-943.png', 'COVID-944.png', 'COVID-945.png', 'COVID-946.png', 'COVID-947.png', 'COVID-948.png', 'COVID-949.png', 'COVID-95.png', 'COVID-950.png', 'COVID-951.png', 'COVID-952.png', 'COVID-953.png', 'COVID-954.png', 'COVID-955.png', 'COVID-956.png', 'COVID-957.png', 'COVID-958.png', 'COVID-959.png', 'COVID-96.png', 'COVID-960.png', 'COVID-961.png', 'COVID-962.png', 'COVID-963.png', 'COVID-964.png', 'COVID-965.png', 'COVID-966.png', 'COVID-967.png', 'COVID-968.png', 'COVID-969.png', 'COVID-97.png', 'COVID-970.png', 'COVID-971.png', 'COVID-972.png', 'COVID-973.png', 'COVID-974.png', 'COVID-975.png', 'COVID-976.png', 'COVID-977.png', 'COVID-978.png', 'COVID-979.png', 'COVID-98.png', 'COVID-980.png', 'COVID-981.png', 'COVID-982.png', 'COVID-983.png', 'COVID-984.png', 'COVID-985.png', 'COVID-986.png', 'COVID-987.png', 'COVID-988.png', 'COVID-989.png', 'COVID-99.png', 'COVID-990.png', 'COVID-991.png', 'COVID-992.png', 'COVID-993.png', 'COVID-994.png', 'COVID-995.png', 'COVID-996.png', 'COVID-997.png', 'COVID-998.png', 'COVID-999.png']\n"
     ]
    }
   ],
   "source": [
    "for path in os.listdir(covid_main_dir):\n",
    "    # check if current path is a file\n",
    "    if os.path.isfile(os.path.join(covid_main_dir, path)):\n",
    "        covidFileNames.append(path)\n",
    "print(covidFileNames)"
   ]
  },
  {
   "cell_type": "code",
   "execution_count": 25,
   "id": "ba10e419",
   "metadata": {},
   "outputs": [],
   "source": [
    "covidFileNames = sorted(covidFileNames, key=lambda x: int(x.split('-')[1].split('.')[0]))"
   ]
  },
  {
   "cell_type": "code",
   "execution_count": 26,
   "id": "35b19d91",
   "metadata": {},
   "outputs": [],
   "source": [
    "covidFileNames4thSet = covidFileNames[int(len(covidFileNames)*0.75):]"
   ]
  },
  {
   "cell_type": "code",
   "execution_count": 28,
   "id": "e56eae0a",
   "metadata": {},
   "outputs": [
    {
     "name": "stdout",
     "output_type": "stream",
     "text": [
      "['COVID-2713.png', 'COVID-2714.png', 'COVID-2715.png', 'COVID-2716.png', 'COVID-2717.png', 'COVID-2718.png', 'COVID-2719.png', 'COVID-2720.png', 'COVID-2721.png', 'COVID-2722.png', 'COVID-2723.png', 'COVID-2724.png', 'COVID-2725.png', 'COVID-2726.png', 'COVID-2727.png', 'COVID-2728.png', 'COVID-2729.png', 'COVID-2730.png', 'COVID-2731.png', 'COVID-2732.png', 'COVID-2733.png', 'COVID-2734.png', 'COVID-2735.png', 'COVID-2736.png', 'COVID-2737.png', 'COVID-2738.png', 'COVID-2739.png', 'COVID-2740.png', 'COVID-2741.png', 'COVID-2742.png', 'COVID-2743.png', 'COVID-2744.png', 'COVID-2745.png', 'COVID-2746.png', 'COVID-2747.png', 'COVID-2748.png', 'COVID-2749.png', 'COVID-2750.png', 'COVID-2751.png', 'COVID-2752.png', 'COVID-2753.png', 'COVID-2754.png', 'COVID-2755.png', 'COVID-2756.png', 'COVID-2757.png', 'COVID-2758.png', 'COVID-2759.png', 'COVID-2760.png', 'COVID-2761.png', 'COVID-2762.png', 'COVID-2763.png', 'COVID-2764.png', 'COVID-2765.png', 'COVID-2766.png', 'COVID-2767.png', 'COVID-2768.png', 'COVID-2769.png', 'COVID-2770.png', 'COVID-2771.png', 'COVID-2772.png', 'COVID-2773.png', 'COVID-2774.png', 'COVID-2775.png', 'COVID-2776.png', 'COVID-2777.png', 'COVID-2778.png', 'COVID-2779.png', 'COVID-2780.png', 'COVID-2781.png', 'COVID-2782.png', 'COVID-2783.png', 'COVID-2784.png', 'COVID-2785.png', 'COVID-2786.png', 'COVID-2787.png', 'COVID-2788.png', 'COVID-2789.png', 'COVID-2790.png', 'COVID-2791.png', 'COVID-2792.png', 'COVID-2793.png', 'COVID-2794.png', 'COVID-2795.png', 'COVID-2796.png', 'COVID-2797.png', 'COVID-2798.png', 'COVID-2799.png', 'COVID-2800.png', 'COVID-2801.png', 'COVID-2802.png', 'COVID-2803.png', 'COVID-2804.png', 'COVID-2805.png', 'COVID-2806.png', 'COVID-2807.png', 'COVID-2808.png', 'COVID-2809.png', 'COVID-2810.png', 'COVID-2811.png', 'COVID-2812.png', 'COVID-2813.png', 'COVID-2814.png', 'COVID-2815.png', 'COVID-2816.png', 'COVID-2817.png', 'COVID-2818.png', 'COVID-2819.png', 'COVID-2820.png', 'COVID-2821.png', 'COVID-2822.png', 'COVID-2823.png', 'COVID-2824.png', 'COVID-2825.png', 'COVID-2826.png', 'COVID-2827.png', 'COVID-2828.png', 'COVID-2829.png', 'COVID-2830.png', 'COVID-2831.png', 'COVID-2832.png', 'COVID-2833.png', 'COVID-2834.png', 'COVID-2835.png', 'COVID-2836.png', 'COVID-2837.png', 'COVID-2838.png', 'COVID-2839.png', 'COVID-2840.png', 'COVID-2841.png', 'COVID-2842.png', 'COVID-2843.png', 'COVID-2844.png', 'COVID-2845.png', 'COVID-2846.png', 'COVID-2847.png', 'COVID-2848.png', 'COVID-2849.png', 'COVID-2850.png', 'COVID-2851.png', 'COVID-2852.png', 'COVID-2853.png', 'COVID-2854.png', 'COVID-2855.png', 'COVID-2856.png', 'COVID-2857.png', 'COVID-2858.png', 'COVID-2859.png', 'COVID-2860.png', 'COVID-2861.png', 'COVID-2862.png', 'COVID-2863.png', 'COVID-2864.png', 'COVID-2865.png', 'COVID-2866.png', 'COVID-2867.png', 'COVID-2868.png', 'COVID-2869.png', 'COVID-2870.png', 'COVID-2871.png', 'COVID-2872.png', 'COVID-2873.png', 'COVID-2874.png', 'COVID-2875.png', 'COVID-2876.png', 'COVID-2877.png', 'COVID-2878.png', 'COVID-2879.png', 'COVID-2880.png', 'COVID-2881.png', 'COVID-2882.png', 'COVID-2883.png', 'COVID-2884.png', 'COVID-2885.png', 'COVID-2886.png', 'COVID-2887.png', 'COVID-2888.png', 'COVID-2889.png', 'COVID-2890.png', 'COVID-2891.png', 'COVID-2892.png', 'COVID-2893.png', 'COVID-2894.png', 'COVID-2895.png', 'COVID-2896.png', 'COVID-2897.png', 'COVID-2898.png', 'COVID-2899.png', 'COVID-2900.png', 'COVID-2901.png', 'COVID-2902.png', 'COVID-2903.png', 'COVID-2904.png', 'COVID-2905.png', 'COVID-2906.png', 'COVID-2907.png', 'COVID-2908.png', 'COVID-2909.png', 'COVID-2910.png', 'COVID-2911.png', 'COVID-2912.png', 'COVID-2913.png', 'COVID-2914.png', 'COVID-2915.png', 'COVID-2916.png', 'COVID-2917.png', 'COVID-2918.png', 'COVID-2919.png', 'COVID-2920.png', 'COVID-2921.png', 'COVID-2922.png', 'COVID-2923.png', 'COVID-2924.png', 'COVID-2925.png', 'COVID-2926.png', 'COVID-2927.png', 'COVID-2928.png', 'COVID-2929.png', 'COVID-2930.png', 'COVID-2931.png', 'COVID-2932.png', 'COVID-2933.png', 'COVID-2934.png', 'COVID-2935.png', 'COVID-2936.png', 'COVID-2937.png', 'COVID-2938.png', 'COVID-2939.png', 'COVID-2940.png', 'COVID-2941.png', 'COVID-2942.png', 'COVID-2943.png', 'COVID-2944.png', 'COVID-2945.png', 'COVID-2946.png', 'COVID-2947.png', 'COVID-2948.png', 'COVID-2949.png', 'COVID-2950.png', 'COVID-2951.png', 'COVID-2952.png', 'COVID-2953.png', 'COVID-2954.png', 'COVID-2955.png', 'COVID-2956.png', 'COVID-2957.png', 'COVID-2958.png', 'COVID-2959.png', 'COVID-2960.png', 'COVID-2961.png', 'COVID-2962.png', 'COVID-2963.png', 'COVID-2964.png', 'COVID-2965.png', 'COVID-2966.png', 'COVID-2967.png', 'COVID-2968.png', 'COVID-2969.png', 'COVID-2970.png', 'COVID-2971.png', 'COVID-2972.png', 'COVID-2973.png', 'COVID-2974.png', 'COVID-2975.png', 'COVID-2976.png', 'COVID-2977.png', 'COVID-2978.png', 'COVID-2979.png', 'COVID-2980.png', 'COVID-2981.png', 'COVID-2982.png', 'COVID-2983.png', 'COVID-2984.png', 'COVID-2985.png', 'COVID-2986.png', 'COVID-2987.png', 'COVID-2988.png', 'COVID-2989.png', 'COVID-2990.png', 'COVID-2991.png', 'COVID-2992.png', 'COVID-2993.png', 'COVID-2994.png', 'COVID-2995.png', 'COVID-2996.png', 'COVID-2997.png', 'COVID-2998.png', 'COVID-2999.png', 'COVID-3000.png', 'COVID-3001.png', 'COVID-3002.png', 'COVID-3003.png', 'COVID-3004.png', 'COVID-3005.png', 'COVID-3006.png', 'COVID-3007.png', 'COVID-3008.png', 'COVID-3009.png', 'COVID-3010.png', 'COVID-3011.png', 'COVID-3012.png', 'COVID-3013.png', 'COVID-3014.png', 'COVID-3015.png', 'COVID-3016.png', 'COVID-3017.png', 'COVID-3018.png', 'COVID-3019.png', 'COVID-3020.png', 'COVID-3021.png', 'COVID-3022.png', 'COVID-3023.png', 'COVID-3024.png', 'COVID-3025.png', 'COVID-3026.png', 'COVID-3027.png', 'COVID-3028.png', 'COVID-3029.png', 'COVID-3030.png', 'COVID-3031.png', 'COVID-3032.png', 'COVID-3033.png', 'COVID-3034.png', 'COVID-3035.png', 'COVID-3036.png', 'COVID-3037.png', 'COVID-3038.png', 'COVID-3039.png', 'COVID-3040.png', 'COVID-3041.png', 'COVID-3042.png', 'COVID-3043.png', 'COVID-3044.png', 'COVID-3045.png', 'COVID-3046.png', 'COVID-3047.png', 'COVID-3048.png', 'COVID-3049.png', 'COVID-3050.png', 'COVID-3051.png', 'COVID-3052.png', 'COVID-3053.png', 'COVID-3054.png', 'COVID-3055.png', 'COVID-3056.png', 'COVID-3057.png', 'COVID-3058.png', 'COVID-3059.png', 'COVID-3060.png', 'COVID-3061.png', 'COVID-3062.png', 'COVID-3063.png', 'COVID-3064.png', 'COVID-3065.png', 'COVID-3066.png', 'COVID-3067.png', 'COVID-3068.png', 'COVID-3069.png', 'COVID-3070.png', 'COVID-3071.png', 'COVID-3072.png', 'COVID-3073.png', 'COVID-3074.png', 'COVID-3075.png', 'COVID-3076.png', 'COVID-3077.png', 'COVID-3078.png', 'COVID-3079.png', 'COVID-3080.png', 'COVID-3081.png', 'COVID-3082.png', 'COVID-3083.png', 'COVID-3084.png', 'COVID-3085.png', 'COVID-3086.png', 'COVID-3087.png', 'COVID-3088.png', 'COVID-3089.png', 'COVID-3090.png', 'COVID-3091.png', 'COVID-3092.png', 'COVID-3093.png', 'COVID-3094.png', 'COVID-3095.png', 'COVID-3096.png', 'COVID-3097.png', 'COVID-3098.png', 'COVID-3099.png', 'COVID-3100.png', 'COVID-3101.png', 'COVID-3102.png', 'COVID-3103.png', 'COVID-3104.png', 'COVID-3105.png', 'COVID-3106.png', 'COVID-3107.png', 'COVID-3108.png', 'COVID-3109.png', 'COVID-3110.png', 'COVID-3111.png', 'COVID-3112.png', 'COVID-3113.png', 'COVID-3114.png', 'COVID-3115.png', 'COVID-3116.png', 'COVID-3117.png', 'COVID-3118.png', 'COVID-3119.png', 'COVID-3120.png', 'COVID-3121.png', 'COVID-3122.png', 'COVID-3123.png', 'COVID-3124.png', 'COVID-3125.png', 'COVID-3126.png', 'COVID-3127.png', 'COVID-3128.png', 'COVID-3129.png', 'COVID-3130.png', 'COVID-3131.png', 'COVID-3132.png', 'COVID-3133.png', 'COVID-3134.png', 'COVID-3135.png', 'COVID-3136.png', 'COVID-3137.png', 'COVID-3138.png', 'COVID-3139.png', 'COVID-3140.png', 'COVID-3141.png', 'COVID-3142.png', 'COVID-3143.png', 'COVID-3144.png', 'COVID-3145.png', 'COVID-3146.png', 'COVID-3147.png', 'COVID-3148.png', 'COVID-3149.png', 'COVID-3150.png', 'COVID-3151.png', 'COVID-3152.png', 'COVID-3153.png', 'COVID-3154.png', 'COVID-3155.png', 'COVID-3156.png', 'COVID-3157.png', 'COVID-3158.png', 'COVID-3159.png', 'COVID-3160.png', 'COVID-3161.png', 'COVID-3162.png', 'COVID-3163.png', 'COVID-3164.png', 'COVID-3165.png', 'COVID-3166.png', 'COVID-3167.png', 'COVID-3168.png', 'COVID-3169.png', 'COVID-3170.png', 'COVID-3171.png', 'COVID-3172.png', 'COVID-3173.png', 'COVID-3174.png', 'COVID-3175.png', 'COVID-3176.png', 'COVID-3177.png', 'COVID-3178.png', 'COVID-3179.png', 'COVID-3180.png', 'COVID-3181.png', 'COVID-3182.png', 'COVID-3183.png', 'COVID-3184.png', 'COVID-3185.png', 'COVID-3186.png', 'COVID-3187.png', 'COVID-3188.png', 'COVID-3189.png', 'COVID-3190.png', 'COVID-3191.png', 'COVID-3192.png', 'COVID-3193.png', 'COVID-3194.png', 'COVID-3195.png', 'COVID-3196.png', 'COVID-3197.png', 'COVID-3198.png', 'COVID-3199.png', 'COVID-3200.png', 'COVID-3201.png', 'COVID-3202.png', 'COVID-3203.png', 'COVID-3204.png', 'COVID-3205.png', 'COVID-3206.png', 'COVID-3207.png', 'COVID-3208.png', 'COVID-3209.png', 'COVID-3210.png', 'COVID-3211.png', 'COVID-3212.png', 'COVID-3213.png', 'COVID-3214.png', 'COVID-3215.png', 'COVID-3216.png', 'COVID-3217.png', 'COVID-3218.png', 'COVID-3219.png', 'COVID-3220.png', 'COVID-3221.png', 'COVID-3222.png', 'COVID-3223.png', 'COVID-3224.png', 'COVID-3225.png', 'COVID-3226.png', 'COVID-3227.png', 'COVID-3228.png', 'COVID-3229.png', 'COVID-3230.png', 'COVID-3231.png', 'COVID-3232.png', 'COVID-3233.png', 'COVID-3234.png', 'COVID-3235.png', 'COVID-3236.png', 'COVID-3237.png', 'COVID-3238.png', 'COVID-3239.png', 'COVID-3240.png', 'COVID-3241.png', 'COVID-3242.png', 'COVID-3243.png', 'COVID-3244.png', 'COVID-3245.png', 'COVID-3246.png', 'COVID-3247.png', 'COVID-3248.png', 'COVID-3249.png', 'COVID-3250.png', 'COVID-3251.png', 'COVID-3252.png', 'COVID-3253.png', 'COVID-3254.png', 'COVID-3255.png', 'COVID-3256.png', 'COVID-3257.png', 'COVID-3258.png', 'COVID-3259.png', 'COVID-3260.png', 'COVID-3261.png', 'COVID-3262.png', 'COVID-3263.png', 'COVID-3264.png', 'COVID-3265.png', 'COVID-3266.png', 'COVID-3267.png', 'COVID-3268.png', 'COVID-3269.png', 'COVID-3270.png', 'COVID-3271.png', 'COVID-3272.png', 'COVID-3273.png', 'COVID-3274.png', 'COVID-3275.png', 'COVID-3276.png', 'COVID-3277.png', 'COVID-3278.png', 'COVID-3279.png', 'COVID-3280.png', 'COVID-3281.png', 'COVID-3282.png', 'COVID-3283.png', 'COVID-3284.png', 'COVID-3285.png', 'COVID-3286.png', 'COVID-3287.png', 'COVID-3288.png', 'COVID-3289.png', 'COVID-3290.png', 'COVID-3291.png', 'COVID-3292.png', 'COVID-3293.png', 'COVID-3294.png', 'COVID-3295.png', 'COVID-3296.png', 'COVID-3297.png', 'COVID-3298.png', 'COVID-3299.png', 'COVID-3300.png', 'COVID-3301.png', 'COVID-3302.png', 'COVID-3303.png', 'COVID-3304.png', 'COVID-3305.png', 'COVID-3306.png', 'COVID-3307.png', 'COVID-3308.png', 'COVID-3309.png', 'COVID-3310.png', 'COVID-3311.png', 'COVID-3312.png', 'COVID-3313.png', 'COVID-3314.png', 'COVID-3315.png', 'COVID-3316.png', 'COVID-3317.png', 'COVID-3318.png', 'COVID-3319.png', 'COVID-3320.png', 'COVID-3321.png', 'COVID-3322.png', 'COVID-3323.png', 'COVID-3324.png', 'COVID-3325.png', 'COVID-3326.png', 'COVID-3327.png', 'COVID-3328.png', 'COVID-3329.png', 'COVID-3330.png', 'COVID-3331.png', 'COVID-3332.png', 'COVID-3333.png', 'COVID-3334.png', 'COVID-3335.png', 'COVID-3336.png', 'COVID-3337.png', 'COVID-3338.png', 'COVID-3339.png', 'COVID-3340.png', 'COVID-3341.png', 'COVID-3342.png', 'COVID-3343.png', 'COVID-3344.png', 'COVID-3345.png', 'COVID-3346.png', 'COVID-3347.png', 'COVID-3348.png', 'COVID-3349.png', 'COVID-3350.png', 'COVID-3351.png', 'COVID-3352.png', 'COVID-3353.png', 'COVID-3354.png', 'COVID-3355.png', 'COVID-3356.png', 'COVID-3357.png', 'COVID-3358.png', 'COVID-3359.png', 'COVID-3360.png', 'COVID-3361.png', 'COVID-3362.png', 'COVID-3363.png', 'COVID-3364.png', 'COVID-3365.png', 'COVID-3366.png', 'COVID-3367.png', 'COVID-3368.png', 'COVID-3369.png', 'COVID-3370.png', 'COVID-3371.png', 'COVID-3372.png', 'COVID-3373.png', 'COVID-3374.png', 'COVID-3375.png', 'COVID-3376.png', 'COVID-3377.png', 'COVID-3378.png', 'COVID-3379.png', 'COVID-3380.png', 'COVID-3381.png', 'COVID-3382.png', 'COVID-3383.png', 'COVID-3384.png', 'COVID-3385.png', 'COVID-3386.png', 'COVID-3387.png', 'COVID-3388.png', 'COVID-3389.png', 'COVID-3390.png', 'COVID-3391.png', 'COVID-3392.png', 'COVID-3393.png', 'COVID-3394.png', 'COVID-3395.png', 'COVID-3396.png', 'COVID-3397.png', 'COVID-3398.png', 'COVID-3399.png', 'COVID-3400.png', 'COVID-3401.png', 'COVID-3402.png', 'COVID-3403.png', 'COVID-3404.png', 'COVID-3405.png', 'COVID-3406.png', 'COVID-3407.png', 'COVID-3408.png', 'COVID-3409.png', 'COVID-3410.png', 'COVID-3411.png', 'COVID-3412.png', 'COVID-3413.png', 'COVID-3414.png', 'COVID-3415.png', 'COVID-3416.png', 'COVID-3417.png', 'COVID-3418.png', 'COVID-3419.png', 'COVID-3420.png', 'COVID-3421.png', 'COVID-3422.png', 'COVID-3423.png', 'COVID-3424.png', 'COVID-3425.png', 'COVID-3426.png', 'COVID-3427.png', 'COVID-3428.png', 'COVID-3429.png', 'COVID-3430.png', 'COVID-3431.png', 'COVID-3432.png', 'COVID-3433.png', 'COVID-3434.png', 'COVID-3435.png', 'COVID-3436.png', 'COVID-3437.png', 'COVID-3438.png', 'COVID-3439.png', 'COVID-3440.png', 'COVID-3441.png', 'COVID-3442.png', 'COVID-3443.png', 'COVID-3444.png', 'COVID-3445.png', 'COVID-3446.png', 'COVID-3447.png', 'COVID-3448.png', 'COVID-3449.png', 'COVID-3450.png', 'COVID-3451.png', 'COVID-3452.png', 'COVID-3453.png', 'COVID-3454.png', 'COVID-3455.png', 'COVID-3456.png', 'COVID-3457.png', 'COVID-3458.png', 'COVID-3459.png', 'COVID-3460.png', 'COVID-3461.png', 'COVID-3462.png', 'COVID-3463.png', 'COVID-3464.png', 'COVID-3465.png', 'COVID-3466.png', 'COVID-3467.png', 'COVID-3468.png', 'COVID-3469.png', 'COVID-3470.png', 'COVID-3471.png', 'COVID-3472.png', 'COVID-3473.png', 'COVID-3474.png', 'COVID-3475.png', 'COVID-3476.png', 'COVID-3477.png', 'COVID-3478.png', 'COVID-3479.png', 'COVID-3480.png', 'COVID-3481.png', 'COVID-3482.png', 'COVID-3483.png', 'COVID-3484.png', 'COVID-3485.png', 'COVID-3486.png', 'COVID-3487.png', 'COVID-3488.png', 'COVID-3489.png', 'COVID-3490.png', 'COVID-3491.png', 'COVID-3492.png', 'COVID-3493.png', 'COVID-3494.png', 'COVID-3495.png', 'COVID-3496.png', 'COVID-3497.png', 'COVID-3498.png', 'COVID-3499.png', 'COVID-3500.png', 'COVID-3501.png', 'COVID-3502.png', 'COVID-3503.png', 'COVID-3504.png', 'COVID-3505.png', 'COVID-3506.png', 'COVID-3507.png', 'COVID-3508.png', 'COVID-3509.png', 'COVID-3510.png', 'COVID-3511.png', 'COVID-3512.png', 'COVID-3513.png', 'COVID-3514.png', 'COVID-3515.png', 'COVID-3516.png', 'COVID-3517.png', 'COVID-3518.png', 'COVID-3519.png', 'COVID-3520.png', 'COVID-3521.png', 'COVID-3522.png', 'COVID-3523.png', 'COVID-3524.png', 'COVID-3525.png', 'COVID-3526.png', 'COVID-3527.png', 'COVID-3528.png', 'COVID-3529.png', 'COVID-3530.png', 'COVID-3531.png', 'COVID-3532.png', 'COVID-3533.png', 'COVID-3534.png', 'COVID-3535.png', 'COVID-3536.png', 'COVID-3537.png', 'COVID-3538.png', 'COVID-3539.png', 'COVID-3540.png', 'COVID-3541.png', 'COVID-3542.png', 'COVID-3543.png', 'COVID-3544.png', 'COVID-3545.png', 'COVID-3546.png', 'COVID-3547.png', 'COVID-3548.png', 'COVID-3549.png', 'COVID-3550.png', 'COVID-3551.png', 'COVID-3552.png', 'COVID-3553.png', 'COVID-3554.png', 'COVID-3555.png', 'COVID-3556.png', 'COVID-3557.png', 'COVID-3558.png', 'COVID-3559.png', 'COVID-3560.png', 'COVID-3561.png', 'COVID-3562.png', 'COVID-3563.png', 'COVID-3564.png', 'COVID-3565.png', 'COVID-3566.png', 'COVID-3567.png', 'COVID-3568.png', 'COVID-3569.png', 'COVID-3570.png', 'COVID-3571.png', 'COVID-3572.png', 'COVID-3573.png', 'COVID-3574.png', 'COVID-3575.png', 'COVID-3576.png', 'COVID-3577.png', 'COVID-3578.png', 'COVID-3579.png', 'COVID-3580.png', 'COVID-3581.png', 'COVID-3582.png', 'COVID-3583.png', 'COVID-3584.png', 'COVID-3585.png', 'COVID-3586.png', 'COVID-3587.png', 'COVID-3588.png', 'COVID-3589.png', 'COVID-3590.png', 'COVID-3591.png', 'COVID-3592.png', 'COVID-3593.png', 'COVID-3594.png', 'COVID-3595.png', 'COVID-3596.png', 'COVID-3597.png', 'COVID-3598.png', 'COVID-3599.png', 'COVID-3600.png', 'COVID-3601.png', 'COVID-3602.png', 'COVID-3603.png', 'COVID-3604.png', 'COVID-3605.png', 'COVID-3606.png', 'COVID-3607.png', 'COVID-3608.png', 'COVID-3609.png', 'COVID-3610.png', 'COVID-3611.png', 'COVID-3612.png', 'COVID-3613.png', 'COVID-3614.png', 'COVID-3615.png', 'COVID-3616.png']\n"
     ]
    }
   ],
   "source": [
    "print(covidFileNames4thSet)"
   ]
  },
  {
   "cell_type": "code",
   "execution_count": 32,
   "id": "7c22e8bb",
   "metadata": {},
   "outputs": [],
   "source": [
    "for i in range(len(covidFileNames4thSet)):\n",
    "    original = r'D:/Desktopshifted/MTech - PES university/Sem-3/CapstoneProject/Dataset/archive/COVID-19_Radiography_Dataset/COVID/images/' + covidFileNames4thSet[i]\n",
    "    target = r'D:/Desktopshifted/MTech - PES university/Sem-3/CapstoneProject/Dataset/archive/COVID-19_Radiography_Dataset/SubData4/COVID/' + covidFileNames4thSet[i]\n",
    "    shutil.copyfile(original, target)"
   ]
  },
  {
   "cell_type": "code",
   "execution_count": 33,
   "id": "ed6ff63e",
   "metadata": {},
   "outputs": [],
   "source": [
    "opacityFileNames=[]"
   ]
  },
  {
   "cell_type": "code",
   "execution_count": 34,
   "id": "87595f5d",
   "metadata": {},
   "outputs": [
    {
     "name": "stdout",
     "output_type": "stream",
     "text": [
      "['Lung_Opacity-1.png', 'Lung_Opacity-10.png', 'Lung_Opacity-100.png', 'Lung_Opacity-1000.png', 'Lung_Opacity-1001.png', 'Lung_Opacity-1002.png', 'Lung_Opacity-1003.png', 'Lung_Opacity-1004.png', 'Lung_Opacity-1005.png', 'Lung_Opacity-1006.png', 'Lung_Opacity-1007.png', 'Lung_Opacity-1008.png', 'Lung_Opacity-1009.png', 'Lung_Opacity-101.png', 'Lung_Opacity-1010.png', 'Lung_Opacity-1011.png', 'Lung_Opacity-1012.png', 'Lung_Opacity-1013.png', 'Lung_Opacity-1014.png', 'Lung_Opacity-1015.png', 'Lung_Opacity-1016.png', 'Lung_Opacity-1017.png', 'Lung_Opacity-1018.png', 'Lung_Opacity-1019.png', 'Lung_Opacity-102.png', 'Lung_Opacity-1020.png', 'Lung_Opacity-1021.png', 'Lung_Opacity-1022.png', 'Lung_Opacity-1023.png', 'Lung_Opacity-1024.png', 'Lung_Opacity-1025.png', 'Lung_Opacity-1026.png', 'Lung_Opacity-1027.png', 'Lung_Opacity-1028.png', 'Lung_Opacity-1029.png', 'Lung_Opacity-103.png', 'Lung_Opacity-1030.png', 'Lung_Opacity-1031.png', 'Lung_Opacity-1032.png', 'Lung_Opacity-1033.png', 'Lung_Opacity-1034.png', 'Lung_Opacity-1035.png', 'Lung_Opacity-1036.png', 'Lung_Opacity-1037.png', 'Lung_Opacity-1038.png', 'Lung_Opacity-1039.png', 'Lung_Opacity-104.png', 'Lung_Opacity-1040.png', 'Lung_Opacity-1041.png', 'Lung_Opacity-1042.png', 'Lung_Opacity-1043.png', 'Lung_Opacity-1044.png', 'Lung_Opacity-1045.png', 'Lung_Opacity-1046.png', 'Lung_Opacity-1047.png', 'Lung_Opacity-1048.png', 'Lung_Opacity-1049.png', 'Lung_Opacity-105.png', 'Lung_Opacity-1050.png', 'Lung_Opacity-1051.png', 'Lung_Opacity-1052.png', 'Lung_Opacity-1053.png', 'Lung_Opacity-1054.png', 'Lung_Opacity-1055.png', 'Lung_Opacity-1056.png', 'Lung_Opacity-1057.png', 'Lung_Opacity-1058.png', 'Lung_Opacity-1059.png', 'Lung_Opacity-106.png', 'Lung_Opacity-1060.png', 'Lung_Opacity-1061.png', 'Lung_Opacity-1062.png', 'Lung_Opacity-1063.png', 'Lung_Opacity-1064.png', 'Lung_Opacity-1065.png', 'Lung_Opacity-1066.png', 'Lung_Opacity-1067.png', 'Lung_Opacity-1068.png', 'Lung_Opacity-1069.png', 'Lung_Opacity-107.png', 'Lung_Opacity-1070.png', 'Lung_Opacity-1071.png', 'Lung_Opacity-1072.png', 'Lung_Opacity-1073.png', 'Lung_Opacity-1074.png', 'Lung_Opacity-1075.png', 'Lung_Opacity-1076.png', 'Lung_Opacity-1077.png', 'Lung_Opacity-1078.png', 'Lung_Opacity-1079.png', 'Lung_Opacity-108.png', 'Lung_Opacity-1080.png', 'Lung_Opacity-1081.png', 'Lung_Opacity-1082.png', 'Lung_Opacity-1083.png', 'Lung_Opacity-1084.png', 'Lung_Opacity-1085.png', 'Lung_Opacity-1086.png', 'Lung_Opacity-1087.png', 'Lung_Opacity-1088.png', 'Lung_Opacity-1089.png', 'Lung_Opacity-109.png', 'Lung_Opacity-1090.png', 'Lung_Opacity-1091.png', 'Lung_Opacity-1092.png', 'Lung_Opacity-1093.png', 'Lung_Opacity-1094.png', 'Lung_Opacity-1095.png', 'Lung_Opacity-1096.png', 'Lung_Opacity-1097.png', 'Lung_Opacity-1098.png', 'Lung_Opacity-1099.png', 'Lung_Opacity-11.png', 'Lung_Opacity-110.png', 'Lung_Opacity-1100.png', 'Lung_Opacity-1101.png', 'Lung_Opacity-1102.png', 'Lung_Opacity-1103.png', 'Lung_Opacity-1104.png', 'Lung_Opacity-1105.png', 'Lung_Opacity-1106.png', 'Lung_Opacity-1107.png', 'Lung_Opacity-1108.png', 'Lung_Opacity-1109.png', 'Lung_Opacity-111.png', 'Lung_Opacity-1110.png', 'Lung_Opacity-1111.png', 'Lung_Opacity-1112.png', 'Lung_Opacity-1113.png', 'Lung_Opacity-1114.png', 'Lung_Opacity-1115.png', 'Lung_Opacity-1116.png', 'Lung_Opacity-1117.png', 'Lung_Opacity-1118.png', 'Lung_Opacity-1119.png', 'Lung_Opacity-112.png', 'Lung_Opacity-1120.png', 'Lung_Opacity-1121.png', 'Lung_Opacity-1122.png', 'Lung_Opacity-1123.png', 'Lung_Opacity-1124.png', 'Lung_Opacity-1125.png', 'Lung_Opacity-1126.png', 'Lung_Opacity-1127.png', 'Lung_Opacity-1128.png', 'Lung_Opacity-1129.png', 'Lung_Opacity-113.png', 'Lung_Opacity-1130.png', 'Lung_Opacity-1131.png', 'Lung_Opacity-1132.png', 'Lung_Opacity-1133.png', 'Lung_Opacity-1134.png', 'Lung_Opacity-1135.png', 'Lung_Opacity-1136.png', 'Lung_Opacity-1137.png', 'Lung_Opacity-1138.png', 'Lung_Opacity-1139.png', 'Lung_Opacity-114.png', 'Lung_Opacity-1140.png', 'Lung_Opacity-1141.png', 'Lung_Opacity-1142.png', 'Lung_Opacity-1143.png', 'Lung_Opacity-1144.png', 'Lung_Opacity-1145.png', 'Lung_Opacity-1146.png', 'Lung_Opacity-1147.png', 'Lung_Opacity-1148.png', 'Lung_Opacity-1149.png', 'Lung_Opacity-115.png', 'Lung_Opacity-1150.png', 'Lung_Opacity-1151.png', 'Lung_Opacity-1152.png', 'Lung_Opacity-1153.png', 'Lung_Opacity-1154.png', 'Lung_Opacity-1155.png', 'Lung_Opacity-1156.png', 'Lung_Opacity-1157.png', 'Lung_Opacity-1158.png', 'Lung_Opacity-1159.png', 'Lung_Opacity-116.png', 'Lung_Opacity-1160.png', 'Lung_Opacity-1161.png', 'Lung_Opacity-1162.png', 'Lung_Opacity-1163.png', 'Lung_Opacity-1164.png', 'Lung_Opacity-1165.png', 'Lung_Opacity-1166.png', 'Lung_Opacity-1167.png', 'Lung_Opacity-1168.png', 'Lung_Opacity-1169.png', 'Lung_Opacity-117.png', 'Lung_Opacity-1170.png', 'Lung_Opacity-1171.png', 'Lung_Opacity-1172.png', 'Lung_Opacity-1173.png', 'Lung_Opacity-1174.png', 'Lung_Opacity-1175.png', 'Lung_Opacity-1176.png', 'Lung_Opacity-1177.png', 'Lung_Opacity-1178.png', 'Lung_Opacity-1179.png', 'Lung_Opacity-118.png', 'Lung_Opacity-1180.png', 'Lung_Opacity-1181.png', 'Lung_Opacity-1182.png', 'Lung_Opacity-1183.png', 'Lung_Opacity-1184.png', 'Lung_Opacity-1185.png', 'Lung_Opacity-1186.png', 'Lung_Opacity-1187.png', 'Lung_Opacity-1188.png', 'Lung_Opacity-1189.png', 'Lung_Opacity-119.png', 'Lung_Opacity-1190.png', 'Lung_Opacity-1191.png', 'Lung_Opacity-1192.png', 'Lung_Opacity-1193.png', 'Lung_Opacity-1194.png', 'Lung_Opacity-1195.png', 'Lung_Opacity-1196.png', 'Lung_Opacity-1197.png', 'Lung_Opacity-1198.png', 'Lung_Opacity-1199.png', 'Lung_Opacity-12.png', 'Lung_Opacity-120.png', 'Lung_Opacity-1200.png', 'Lung_Opacity-1201.png', 'Lung_Opacity-1202.png', 'Lung_Opacity-1203.png', 'Lung_Opacity-1204.png', 'Lung_Opacity-1205.png', 'Lung_Opacity-1206.png', 'Lung_Opacity-1207.png', 'Lung_Opacity-1208.png', 'Lung_Opacity-1209.png', 'Lung_Opacity-121.png', 'Lung_Opacity-1210.png', 'Lung_Opacity-1211.png', 'Lung_Opacity-1212.png', 'Lung_Opacity-1213.png', 'Lung_Opacity-1214.png', 'Lung_Opacity-1215.png', 'Lung_Opacity-1216.png', 'Lung_Opacity-1217.png', 'Lung_Opacity-1218.png', 'Lung_Opacity-1219.png', 'Lung_Opacity-122.png', 'Lung_Opacity-1220.png', 'Lung_Opacity-1221.png', 'Lung_Opacity-1222.png', 'Lung_Opacity-1223.png', 'Lung_Opacity-1224.png', 'Lung_Opacity-1225.png', 'Lung_Opacity-1226.png', 'Lung_Opacity-1227.png', 'Lung_Opacity-1228.png', 'Lung_Opacity-1229.png', 'Lung_Opacity-123.png', 'Lung_Opacity-1230.png', 'Lung_Opacity-1231.png', 'Lung_Opacity-1232.png', 'Lung_Opacity-1233.png', 'Lung_Opacity-1234.png', 'Lung_Opacity-1235.png', 'Lung_Opacity-1236.png', 'Lung_Opacity-1237.png', 'Lung_Opacity-1238.png', 'Lung_Opacity-1239.png', 'Lung_Opacity-124.png', 'Lung_Opacity-1240.png', 'Lung_Opacity-1241.png', 'Lung_Opacity-1242.png', 'Lung_Opacity-1243.png', 'Lung_Opacity-1244.png', 'Lung_Opacity-1245.png', 'Lung_Opacity-1246.png', 'Lung_Opacity-1247.png', 'Lung_Opacity-1248.png', 'Lung_Opacity-1249.png', 'Lung_Opacity-125.png', 'Lung_Opacity-1250.png', 'Lung_Opacity-1251.png', 'Lung_Opacity-1252.png', 'Lung_Opacity-1253.png', 'Lung_Opacity-1254.png', 'Lung_Opacity-1255.png', 'Lung_Opacity-1256.png', 'Lung_Opacity-1257.png', 'Lung_Opacity-1258.png', 'Lung_Opacity-1259.png', 'Lung_Opacity-126.png', 'Lung_Opacity-1260.png', 'Lung_Opacity-1261.png', 'Lung_Opacity-1262.png', 'Lung_Opacity-1263.png', 'Lung_Opacity-1264.png', 'Lung_Opacity-1265.png', 'Lung_Opacity-1266.png', 'Lung_Opacity-1267.png', 'Lung_Opacity-1268.png', 'Lung_Opacity-1269.png', 'Lung_Opacity-127.png', 'Lung_Opacity-1270.png', 'Lung_Opacity-1271.png', 'Lung_Opacity-1272.png', 'Lung_Opacity-1273.png', 'Lung_Opacity-1274.png', 'Lung_Opacity-1275.png', 'Lung_Opacity-1276.png', 'Lung_Opacity-1277.png', 'Lung_Opacity-1278.png', 'Lung_Opacity-1279.png', 'Lung_Opacity-128.png', 'Lung_Opacity-1280.png', 'Lung_Opacity-1281.png', 'Lung_Opacity-1282.png', 'Lung_Opacity-1283.png', 'Lung_Opacity-1284.png', 'Lung_Opacity-1285.png', 'Lung_Opacity-1286.png', 'Lung_Opacity-1287.png', 'Lung_Opacity-1288.png', 'Lung_Opacity-1289.png', 'Lung_Opacity-129.png', 'Lung_Opacity-1290.png', 'Lung_Opacity-1291.png', 'Lung_Opacity-1292.png', 'Lung_Opacity-1293.png', 'Lung_Opacity-1294.png', 'Lung_Opacity-1295.png', 'Lung_Opacity-1296.png', 'Lung_Opacity-1297.png', 'Lung_Opacity-1298.png', 'Lung_Opacity-1299.png', 'Lung_Opacity-13.png', 'Lung_Opacity-130.png', 'Lung_Opacity-1300.png', 'Lung_Opacity-1301.png', 'Lung_Opacity-1302.png', 'Lung_Opacity-1303.png', 'Lung_Opacity-1304.png', 'Lung_Opacity-1305.png', 'Lung_Opacity-1306.png', 'Lung_Opacity-1307.png', 'Lung_Opacity-1308.png', 'Lung_Opacity-1309.png', 'Lung_Opacity-131.png', 'Lung_Opacity-1310.png', 'Lung_Opacity-1311.png', 'Lung_Opacity-1312.png', 'Lung_Opacity-1313.png', 'Lung_Opacity-1314.png', 'Lung_Opacity-1315.png', 'Lung_Opacity-1316.png', 'Lung_Opacity-1317.png', 'Lung_Opacity-1318.png', 'Lung_Opacity-1319.png', 'Lung_Opacity-132.png', 'Lung_Opacity-1320.png', 'Lung_Opacity-1321.png', 'Lung_Opacity-1322.png', 'Lung_Opacity-1323.png', 'Lung_Opacity-1324.png', 'Lung_Opacity-1325.png', 'Lung_Opacity-1326.png', 'Lung_Opacity-1327.png', 'Lung_Opacity-1328.png', 'Lung_Opacity-1329.png', 'Lung_Opacity-133.png', 'Lung_Opacity-1330.png', 'Lung_Opacity-1331.png', 'Lung_Opacity-1332.png', 'Lung_Opacity-1333.png', 'Lung_Opacity-1334.png', 'Lung_Opacity-1335.png', 'Lung_Opacity-1336.png', 'Lung_Opacity-1337.png', 'Lung_Opacity-1338.png', 'Lung_Opacity-1339.png', 'Lung_Opacity-134.png', 'Lung_Opacity-1340.png', 'Lung_Opacity-1341.png', 'Lung_Opacity-1342.png', 'Lung_Opacity-1343.png', 'Lung_Opacity-1344.png', 'Lung_Opacity-1345.png', 'Lung_Opacity-1346.png', 'Lung_Opacity-1347.png', 'Lung_Opacity-1348.png', 'Lung_Opacity-1349.png', 'Lung_Opacity-135.png', 'Lung_Opacity-1350.png', 'Lung_Opacity-1351.png', 'Lung_Opacity-1352.png', 'Lung_Opacity-1353.png', 'Lung_Opacity-1354.png', 'Lung_Opacity-1355.png', 'Lung_Opacity-1356.png', 'Lung_Opacity-1357.png', 'Lung_Opacity-1358.png', 'Lung_Opacity-1359.png', 'Lung_Opacity-136.png', 'Lung_Opacity-1360.png', 'Lung_Opacity-1361.png', 'Lung_Opacity-1362.png', 'Lung_Opacity-1363.png', 'Lung_Opacity-1364.png', 'Lung_Opacity-1365.png', 'Lung_Opacity-1366.png', 'Lung_Opacity-1367.png', 'Lung_Opacity-1368.png', 'Lung_Opacity-1369.png', 'Lung_Opacity-137.png', 'Lung_Opacity-1370.png', 'Lung_Opacity-1371.png', 'Lung_Opacity-1372.png', 'Lung_Opacity-1373.png', 'Lung_Opacity-1374.png', 'Lung_Opacity-1375.png', 'Lung_Opacity-1376.png', 'Lung_Opacity-1377.png', 'Lung_Opacity-1378.png', 'Lung_Opacity-1379.png', 'Lung_Opacity-138.png', 'Lung_Opacity-1380.png', 'Lung_Opacity-1381.png', 'Lung_Opacity-1382.png', 'Lung_Opacity-1383.png', 'Lung_Opacity-1384.png', 'Lung_Opacity-1385.png', 'Lung_Opacity-1386.png', 'Lung_Opacity-1387.png', 'Lung_Opacity-1388.png', 'Lung_Opacity-1389.png', 'Lung_Opacity-139.png', 'Lung_Opacity-1390.png', 'Lung_Opacity-1391.png', 'Lung_Opacity-1392.png', 'Lung_Opacity-1393.png', 'Lung_Opacity-1394.png', 'Lung_Opacity-1395.png', 'Lung_Opacity-1396.png', 'Lung_Opacity-1397.png', 'Lung_Opacity-1398.png', 'Lung_Opacity-1399.png', 'Lung_Opacity-14.png', 'Lung_Opacity-140.png', 'Lung_Opacity-1400.png', 'Lung_Opacity-1401.png', 'Lung_Opacity-1402.png', 'Lung_Opacity-1403.png', 'Lung_Opacity-1404.png', 'Lung_Opacity-1405.png', 'Lung_Opacity-1406.png', 'Lung_Opacity-1407.png', 'Lung_Opacity-1408.png', 'Lung_Opacity-1409.png', 'Lung_Opacity-141.png', 'Lung_Opacity-1410.png', 'Lung_Opacity-1411.png', 'Lung_Opacity-1412.png', 'Lung_Opacity-1413.png', 'Lung_Opacity-1414.png', 'Lung_Opacity-1415.png', 'Lung_Opacity-1416.png', 'Lung_Opacity-1417.png', 'Lung_Opacity-1418.png', 'Lung_Opacity-1419.png', 'Lung_Opacity-142.png', 'Lung_Opacity-1420.png', 'Lung_Opacity-1421.png', 'Lung_Opacity-1422.png', 'Lung_Opacity-1423.png', 'Lung_Opacity-1424.png', 'Lung_Opacity-1425.png', 'Lung_Opacity-1426.png', 'Lung_Opacity-1427.png', 'Lung_Opacity-1428.png', 'Lung_Opacity-1429.png', 'Lung_Opacity-143.png', 'Lung_Opacity-1430.png', 'Lung_Opacity-1431.png', 'Lung_Opacity-1432.png', 'Lung_Opacity-1433.png', 'Lung_Opacity-1434.png', 'Lung_Opacity-1435.png', 'Lung_Opacity-1436.png', 'Lung_Opacity-1437.png', 'Lung_Opacity-1438.png', 'Lung_Opacity-1439.png', 'Lung_Opacity-144.png', 'Lung_Opacity-1440.png', 'Lung_Opacity-1441.png', 'Lung_Opacity-1442.png', 'Lung_Opacity-1443.png', 'Lung_Opacity-1444.png', 'Lung_Opacity-1445.png', 'Lung_Opacity-1446.png', 'Lung_Opacity-1447.png', 'Lung_Opacity-1448.png', 'Lung_Opacity-1449.png', 'Lung_Opacity-145.png', 'Lung_Opacity-1450.png', 'Lung_Opacity-1451.png', 'Lung_Opacity-1452.png', 'Lung_Opacity-1453.png', 'Lung_Opacity-1454.png', 'Lung_Opacity-1455.png', 'Lung_Opacity-1456.png', 'Lung_Opacity-1457.png', 'Lung_Opacity-1458.png', 'Lung_Opacity-1459.png', 'Lung_Opacity-146.png', 'Lung_Opacity-1460.png', 'Lung_Opacity-1461.png', 'Lung_Opacity-1462.png', 'Lung_Opacity-1463.png', 'Lung_Opacity-1464.png', 'Lung_Opacity-1465.png', 'Lung_Opacity-1466.png', 'Lung_Opacity-1467.png', 'Lung_Opacity-1468.png', 'Lung_Opacity-1469.png', 'Lung_Opacity-147.png', 'Lung_Opacity-1470.png', 'Lung_Opacity-1471.png', 'Lung_Opacity-1472.png', 'Lung_Opacity-1473.png', 'Lung_Opacity-1474.png', 'Lung_Opacity-1475.png', 'Lung_Opacity-1476.png', 'Lung_Opacity-1477.png', 'Lung_Opacity-1478.png', 'Lung_Opacity-1479.png', 'Lung_Opacity-148.png', 'Lung_Opacity-1480.png', 'Lung_Opacity-1481.png', 'Lung_Opacity-1482.png', 'Lung_Opacity-1483.png', 'Lung_Opacity-1484.png', 'Lung_Opacity-1485.png', 'Lung_Opacity-1486.png', 'Lung_Opacity-1487.png', 'Lung_Opacity-1488.png', 'Lung_Opacity-1489.png', 'Lung_Opacity-149.png', 'Lung_Opacity-1490.png', 'Lung_Opacity-1491.png', 'Lung_Opacity-1492.png', 'Lung_Opacity-1493.png', 'Lung_Opacity-1494.png', 'Lung_Opacity-1495.png', 'Lung_Opacity-1496.png', 'Lung_Opacity-1497.png', 'Lung_Opacity-1498.png', 'Lung_Opacity-1499.png', 'Lung_Opacity-15.png', 'Lung_Opacity-150.png', 'Lung_Opacity-1500.png', 'Lung_Opacity-1501.png', 'Lung_Opacity-1502.png', 'Lung_Opacity-1503.png', 'Lung_Opacity-1504.png', 'Lung_Opacity-1505.png', 'Lung_Opacity-1506.png', 'Lung_Opacity-1507.png', 'Lung_Opacity-1508.png', 'Lung_Opacity-1509.png', 'Lung_Opacity-151.png', 'Lung_Opacity-1510.png', 'Lung_Opacity-1511.png', 'Lung_Opacity-1512.png', 'Lung_Opacity-1513.png', 'Lung_Opacity-1514.png', 'Lung_Opacity-1515.png', 'Lung_Opacity-1516.png', 'Lung_Opacity-1517.png', 'Lung_Opacity-1518.png', 'Lung_Opacity-1519.png', 'Lung_Opacity-152.png', 'Lung_Opacity-1520.png', 'Lung_Opacity-1521.png', 'Lung_Opacity-1522.png', 'Lung_Opacity-1523.png', 'Lung_Opacity-1524.png', 'Lung_Opacity-1525.png', 'Lung_Opacity-1526.png', 'Lung_Opacity-1527.png', 'Lung_Opacity-1528.png', 'Lung_Opacity-1529.png', 'Lung_Opacity-153.png', 'Lung_Opacity-1530.png', 'Lung_Opacity-1531.png', 'Lung_Opacity-1532.png', 'Lung_Opacity-1533.png', 'Lung_Opacity-1534.png', 'Lung_Opacity-1535.png', 'Lung_Opacity-1536.png', 'Lung_Opacity-1537.png', 'Lung_Opacity-1538.png', 'Lung_Opacity-1539.png', 'Lung_Opacity-154.png', 'Lung_Opacity-1540.png', 'Lung_Opacity-1541.png', 'Lung_Opacity-1542.png', 'Lung_Opacity-1543.png', 'Lung_Opacity-1544.png', 'Lung_Opacity-1545.png', 'Lung_Opacity-1546.png', 'Lung_Opacity-1547.png', 'Lung_Opacity-1548.png', 'Lung_Opacity-1549.png', 'Lung_Opacity-155.png', 'Lung_Opacity-1550.png', 'Lung_Opacity-1551.png', 'Lung_Opacity-1552.png', 'Lung_Opacity-1553.png', 'Lung_Opacity-1554.png', 'Lung_Opacity-1555.png', 'Lung_Opacity-1556.png', 'Lung_Opacity-1557.png', 'Lung_Opacity-1558.png', 'Lung_Opacity-1559.png', 'Lung_Opacity-156.png', 'Lung_Opacity-1560.png', 'Lung_Opacity-1561.png', 'Lung_Opacity-1562.png', 'Lung_Opacity-1563.png', 'Lung_Opacity-1564.png', 'Lung_Opacity-1565.png', 'Lung_Opacity-1566.png', 'Lung_Opacity-1567.png', 'Lung_Opacity-1568.png', 'Lung_Opacity-1569.png', 'Lung_Opacity-157.png', 'Lung_Opacity-1570.png', 'Lung_Opacity-1571.png', 'Lung_Opacity-1572.png', 'Lung_Opacity-1573.png', 'Lung_Opacity-1574.png', 'Lung_Opacity-1575.png', 'Lung_Opacity-1576.png', 'Lung_Opacity-1577.png', 'Lung_Opacity-1578.png', 'Lung_Opacity-1579.png', 'Lung_Opacity-158.png', 'Lung_Opacity-1580.png', 'Lung_Opacity-1581.png', 'Lung_Opacity-1582.png', 'Lung_Opacity-1583.png', 'Lung_Opacity-1584.png', 'Lung_Opacity-1585.png', 'Lung_Opacity-1586.png', 'Lung_Opacity-1587.png', 'Lung_Opacity-1588.png', 'Lung_Opacity-1589.png', 'Lung_Opacity-159.png', 'Lung_Opacity-1590.png', 'Lung_Opacity-1591.png', 'Lung_Opacity-1592.png', 'Lung_Opacity-1593.png', 'Lung_Opacity-1594.png', 'Lung_Opacity-1595.png', 'Lung_Opacity-1596.png', 'Lung_Opacity-1597.png', 'Lung_Opacity-1598.png', 'Lung_Opacity-1599.png', 'Lung_Opacity-16.png', 'Lung_Opacity-160.png', 'Lung_Opacity-1600.png', 'Lung_Opacity-1601.png', 'Lung_Opacity-1602.png', 'Lung_Opacity-1603.png', 'Lung_Opacity-1604.png', 'Lung_Opacity-1605.png', 'Lung_Opacity-1606.png', 'Lung_Opacity-1607.png', 'Lung_Opacity-1608.png', 'Lung_Opacity-1609.png', 'Lung_Opacity-161.png', 'Lung_Opacity-1610.png', 'Lung_Opacity-1611.png', 'Lung_Opacity-1612.png', 'Lung_Opacity-1613.png', 'Lung_Opacity-1614.png', 'Lung_Opacity-1615.png', 'Lung_Opacity-1616.png', 'Lung_Opacity-1617.png', 'Lung_Opacity-1618.png', 'Lung_Opacity-1619.png', 'Lung_Opacity-162.png', 'Lung_Opacity-1620.png', 'Lung_Opacity-1621.png', 'Lung_Opacity-1622.png', 'Lung_Opacity-1623.png', 'Lung_Opacity-1624.png', 'Lung_Opacity-1625.png', 'Lung_Opacity-1626.png', 'Lung_Opacity-1627.png', 'Lung_Opacity-1628.png', 'Lung_Opacity-1629.png', 'Lung_Opacity-163.png', 'Lung_Opacity-1630.png', 'Lung_Opacity-1631.png', 'Lung_Opacity-1632.png', 'Lung_Opacity-1633.png', 'Lung_Opacity-1634.png', 'Lung_Opacity-1635.png', 'Lung_Opacity-1636.png', 'Lung_Opacity-1637.png', 'Lung_Opacity-1638.png', 'Lung_Opacity-1639.png', 'Lung_Opacity-164.png', 'Lung_Opacity-1640.png', 'Lung_Opacity-1641.png', 'Lung_Opacity-1642.png', 'Lung_Opacity-1643.png', 'Lung_Opacity-1644.png', 'Lung_Opacity-1645.png', 'Lung_Opacity-1646.png', 'Lung_Opacity-1647.png', 'Lung_Opacity-1648.png', 'Lung_Opacity-1649.png', 'Lung_Opacity-165.png', 'Lung_Opacity-1650.png', 'Lung_Opacity-1651.png', 'Lung_Opacity-1652.png', 'Lung_Opacity-1653.png', 'Lung_Opacity-1654.png', 'Lung_Opacity-1655.png', 'Lung_Opacity-1656.png', 'Lung_Opacity-1657.png', 'Lung_Opacity-1658.png', 'Lung_Opacity-1659.png', 'Lung_Opacity-166.png', 'Lung_Opacity-1660.png', 'Lung_Opacity-1661.png', 'Lung_Opacity-1662.png', 'Lung_Opacity-1663.png', 'Lung_Opacity-1664.png', 'Lung_Opacity-1665.png', 'Lung_Opacity-1666.png', 'Lung_Opacity-1667.png', 'Lung_Opacity-1668.png', 'Lung_Opacity-1669.png', 'Lung_Opacity-167.png', 'Lung_Opacity-1670.png', 'Lung_Opacity-1671.png', 'Lung_Opacity-1672.png', 'Lung_Opacity-1673.png', 'Lung_Opacity-1674.png', 'Lung_Opacity-1675.png', 'Lung_Opacity-1676.png', 'Lung_Opacity-1677.png', 'Lung_Opacity-1678.png', 'Lung_Opacity-1679.png', 'Lung_Opacity-168.png', 'Lung_Opacity-1680.png', 'Lung_Opacity-1681.png', 'Lung_Opacity-1682.png', 'Lung_Opacity-1683.png', 'Lung_Opacity-1684.png', 'Lung_Opacity-1685.png', 'Lung_Opacity-1686.png', 'Lung_Opacity-1687.png', 'Lung_Opacity-1688.png', 'Lung_Opacity-1689.png', 'Lung_Opacity-169.png', 'Lung_Opacity-1690.png', 'Lung_Opacity-1691.png', 'Lung_Opacity-1692.png', 'Lung_Opacity-1693.png', 'Lung_Opacity-1694.png', 'Lung_Opacity-1695.png', 'Lung_Opacity-1696.png', 'Lung_Opacity-1697.png', 'Lung_Opacity-1698.png', 'Lung_Opacity-1699.png', 'Lung_Opacity-17.png', 'Lung_Opacity-170.png', 'Lung_Opacity-1700.png', 'Lung_Opacity-1701.png', 'Lung_Opacity-1702.png', 'Lung_Opacity-1703.png', 'Lung_Opacity-1704.png', 'Lung_Opacity-1705.png', 'Lung_Opacity-1706.png', 'Lung_Opacity-1707.png', 'Lung_Opacity-1708.png', 'Lung_Opacity-1709.png', 'Lung_Opacity-171.png', 'Lung_Opacity-1710.png', 'Lung_Opacity-1711.png', 'Lung_Opacity-1712.png', 'Lung_Opacity-1713.png', 'Lung_Opacity-1714.png', 'Lung_Opacity-1715.png', 'Lung_Opacity-1716.png', 'Lung_Opacity-1717.png', 'Lung_Opacity-1718.png', 'Lung_Opacity-1719.png', 'Lung_Opacity-172.png', 'Lung_Opacity-1720.png', 'Lung_Opacity-1721.png', 'Lung_Opacity-1722.png', 'Lung_Opacity-1723.png', 'Lung_Opacity-1724.png', 'Lung_Opacity-1725.png', 'Lung_Opacity-1726.png', 'Lung_Opacity-1727.png', 'Lung_Opacity-1728.png', 'Lung_Opacity-1729.png', 'Lung_Opacity-173.png', 'Lung_Opacity-1730.png', 'Lung_Opacity-1731.png', 'Lung_Opacity-1732.png', 'Lung_Opacity-1733.png', 'Lung_Opacity-1734.png', 'Lung_Opacity-1735.png', 'Lung_Opacity-1736.png', 'Lung_Opacity-1737.png', 'Lung_Opacity-1738.png', 'Lung_Opacity-1739.png', 'Lung_Opacity-174.png', 'Lung_Opacity-1740.png', 'Lung_Opacity-1741.png', 'Lung_Opacity-1742.png', 'Lung_Opacity-1743.png', 'Lung_Opacity-1744.png', 'Lung_Opacity-1745.png', 'Lung_Opacity-1746.png', 'Lung_Opacity-1747.png', 'Lung_Opacity-1748.png', 'Lung_Opacity-1749.png', 'Lung_Opacity-175.png', 'Lung_Opacity-1750.png', 'Lung_Opacity-1751.png', 'Lung_Opacity-1752.png', 'Lung_Opacity-1753.png', 'Lung_Opacity-1754.png', 'Lung_Opacity-1755.png', 'Lung_Opacity-1756.png', 'Lung_Opacity-1757.png', 'Lung_Opacity-1758.png', 'Lung_Opacity-1759.png', 'Lung_Opacity-176.png', 'Lung_Opacity-1760.png', 'Lung_Opacity-1761.png', 'Lung_Opacity-1762.png', 'Lung_Opacity-1763.png', 'Lung_Opacity-1764.png', 'Lung_Opacity-1765.png', 'Lung_Opacity-1766.png', 'Lung_Opacity-1767.png', 'Lung_Opacity-1768.png', 'Lung_Opacity-1769.png', 'Lung_Opacity-177.png', 'Lung_Opacity-1770.png', 'Lung_Opacity-1771.png', 'Lung_Opacity-1772.png', 'Lung_Opacity-1773.png', 'Lung_Opacity-1774.png', 'Lung_Opacity-1775.png', 'Lung_Opacity-1776.png', 'Lung_Opacity-1777.png', 'Lung_Opacity-1778.png', 'Lung_Opacity-1779.png', 'Lung_Opacity-178.png', 'Lung_Opacity-1780.png', 'Lung_Opacity-1781.png', 'Lung_Opacity-1782.png', 'Lung_Opacity-1783.png', 'Lung_Opacity-1784.png', 'Lung_Opacity-1785.png', 'Lung_Opacity-1786.png', 'Lung_Opacity-1787.png', 'Lung_Opacity-1788.png', 'Lung_Opacity-1789.png', 'Lung_Opacity-179.png', 'Lung_Opacity-1790.png', 'Lung_Opacity-1791.png', 'Lung_Opacity-1792.png', 'Lung_Opacity-1793.png', 'Lung_Opacity-1794.png', 'Lung_Opacity-1795.png', 'Lung_Opacity-1796.png', 'Lung_Opacity-1797.png', 'Lung_Opacity-1798.png', 'Lung_Opacity-1799.png', 'Lung_Opacity-18.png', 'Lung_Opacity-180.png', 'Lung_Opacity-1800.png', 'Lung_Opacity-1801.png', 'Lung_Opacity-1802.png', 'Lung_Opacity-1803.png', 'Lung_Opacity-1804.png', 'Lung_Opacity-1805.png', 'Lung_Opacity-1806.png', 'Lung_Opacity-1807.png', 'Lung_Opacity-1808.png', 'Lung_Opacity-1809.png', 'Lung_Opacity-181.png', 'Lung_Opacity-1810.png', 'Lung_Opacity-1811.png', 'Lung_Opacity-1812.png', 'Lung_Opacity-1813.png', 'Lung_Opacity-1814.png', 'Lung_Opacity-1815.png', 'Lung_Opacity-1816.png', 'Lung_Opacity-1817.png', 'Lung_Opacity-1818.png', 'Lung_Opacity-1819.png', 'Lung_Opacity-182.png', 'Lung_Opacity-1820.png', 'Lung_Opacity-1821.png', 'Lung_Opacity-1822.png', 'Lung_Opacity-1823.png', 'Lung_Opacity-1824.png', 'Lung_Opacity-1825.png', 'Lung_Opacity-1826.png', 'Lung_Opacity-1827.png', 'Lung_Opacity-1828.png', 'Lung_Opacity-1829.png', 'Lung_Opacity-183.png', 'Lung_Opacity-1830.png', 'Lung_Opacity-1831.png', 'Lung_Opacity-1832.png', 'Lung_Opacity-1833.png', 'Lung_Opacity-1834.png', 'Lung_Opacity-1835.png', 'Lung_Opacity-1836.png', 'Lung_Opacity-1837.png', 'Lung_Opacity-1838.png', 'Lung_Opacity-1839.png', 'Lung_Opacity-184.png', 'Lung_Opacity-1840.png', 'Lung_Opacity-1841.png', 'Lung_Opacity-1842.png', 'Lung_Opacity-1843.png', 'Lung_Opacity-1844.png', 'Lung_Opacity-1845.png', 'Lung_Opacity-1846.png', 'Lung_Opacity-1847.png', 'Lung_Opacity-1848.png', 'Lung_Opacity-1849.png', 'Lung_Opacity-185.png', 'Lung_Opacity-1850.png', 'Lung_Opacity-1851.png', 'Lung_Opacity-1852.png', 'Lung_Opacity-1853.png', 'Lung_Opacity-1854.png', 'Lung_Opacity-1855.png', 'Lung_Opacity-1856.png', 'Lung_Opacity-1857.png', 'Lung_Opacity-1858.png', 'Lung_Opacity-1859.png', 'Lung_Opacity-186.png', 'Lung_Opacity-1860.png', 'Lung_Opacity-1861.png', 'Lung_Opacity-1862.png', 'Lung_Opacity-1863.png', 'Lung_Opacity-1864.png', 'Lung_Opacity-1865.png', 'Lung_Opacity-1866.png', 'Lung_Opacity-1867.png', 'Lung_Opacity-1868.png', 'Lung_Opacity-1869.png', 'Lung_Opacity-187.png', 'Lung_Opacity-1870.png', 'Lung_Opacity-1871.png', 'Lung_Opacity-1872.png', 'Lung_Opacity-1873.png', 'Lung_Opacity-1874.png', 'Lung_Opacity-1875.png', 'Lung_Opacity-1876.png', 'Lung_Opacity-1877.png', 'Lung_Opacity-1878.png', 'Lung_Opacity-1879.png', 'Lung_Opacity-188.png', 'Lung_Opacity-1880.png', 'Lung_Opacity-1881.png', 'Lung_Opacity-1882.png', 'Lung_Opacity-1883.png', 'Lung_Opacity-1884.png', 'Lung_Opacity-1885.png', 'Lung_Opacity-1886.png', 'Lung_Opacity-1887.png', 'Lung_Opacity-1888.png', 'Lung_Opacity-1889.png', 'Lung_Opacity-189.png', 'Lung_Opacity-1890.png', 'Lung_Opacity-1891.png', 'Lung_Opacity-1892.png', 'Lung_Opacity-1893.png', 'Lung_Opacity-1894.png', 'Lung_Opacity-1895.png', 'Lung_Opacity-1896.png', 'Lung_Opacity-1897.png', 'Lung_Opacity-1898.png', 'Lung_Opacity-1899.png', 'Lung_Opacity-19.png', 'Lung_Opacity-190.png', 'Lung_Opacity-1900.png', 'Lung_Opacity-1901.png', 'Lung_Opacity-1902.png', 'Lung_Opacity-1903.png', 'Lung_Opacity-1904.png', 'Lung_Opacity-1905.png', 'Lung_Opacity-1906.png', 'Lung_Opacity-1907.png', 'Lung_Opacity-1908.png', 'Lung_Opacity-1909.png', 'Lung_Opacity-191.png', 'Lung_Opacity-1910.png', 'Lung_Opacity-1911.png', 'Lung_Opacity-1912.png', 'Lung_Opacity-1913.png', 'Lung_Opacity-1914.png', 'Lung_Opacity-1915.png', 'Lung_Opacity-1916.png', 'Lung_Opacity-1917.png', 'Lung_Opacity-1918.png', 'Lung_Opacity-1919.png', 'Lung_Opacity-192.png', 'Lung_Opacity-1920.png', 'Lung_Opacity-1921.png', 'Lung_Opacity-1922.png', 'Lung_Opacity-1923.png', 'Lung_Opacity-1924.png', 'Lung_Opacity-1925.png', 'Lung_Opacity-1926.png', 'Lung_Opacity-1927.png', 'Lung_Opacity-1928.png', 'Lung_Opacity-1929.png', 'Lung_Opacity-193.png', 'Lung_Opacity-1930.png', 'Lung_Opacity-1931.png', 'Lung_Opacity-1932.png', 'Lung_Opacity-1933.png', 'Lung_Opacity-1934.png', 'Lung_Opacity-1935.png', 'Lung_Opacity-1936.png', 'Lung_Opacity-1937.png', 'Lung_Opacity-1938.png', 'Lung_Opacity-1939.png', 'Lung_Opacity-194.png', 'Lung_Opacity-1940.png', 'Lung_Opacity-1941.png', 'Lung_Opacity-1942.png', 'Lung_Opacity-1943.png', 'Lung_Opacity-1944.png', 'Lung_Opacity-1945.png', 'Lung_Opacity-1946.png', 'Lung_Opacity-1947.png', 'Lung_Opacity-1948.png', 'Lung_Opacity-1949.png', 'Lung_Opacity-195.png', 'Lung_Opacity-1950.png', 'Lung_Opacity-1951.png', 'Lung_Opacity-1952.png', 'Lung_Opacity-1953.png', 'Lung_Opacity-1954.png', 'Lung_Opacity-1955.png', 'Lung_Opacity-1956.png', 'Lung_Opacity-1957.png', 'Lung_Opacity-1958.png', 'Lung_Opacity-1959.png', 'Lung_Opacity-196.png', 'Lung_Opacity-1960.png', 'Lung_Opacity-1961.png', 'Lung_Opacity-1962.png', 'Lung_Opacity-1963.png', 'Lung_Opacity-1964.png', 'Lung_Opacity-1965.png', 'Lung_Opacity-1966.png', 'Lung_Opacity-1967.png', 'Lung_Opacity-1968.png', 'Lung_Opacity-1969.png', 'Lung_Opacity-197.png', 'Lung_Opacity-1970.png', 'Lung_Opacity-1971.png', 'Lung_Opacity-1972.png', 'Lung_Opacity-1973.png', 'Lung_Opacity-1974.png', 'Lung_Opacity-1975.png', 'Lung_Opacity-1976.png', 'Lung_Opacity-1977.png', 'Lung_Opacity-1978.png', 'Lung_Opacity-1979.png', 'Lung_Opacity-198.png', 'Lung_Opacity-1980.png', 'Lung_Opacity-1981.png', 'Lung_Opacity-1982.png', 'Lung_Opacity-1983.png', 'Lung_Opacity-1984.png', 'Lung_Opacity-1985.png', 'Lung_Opacity-1986.png', 'Lung_Opacity-1987.png', 'Lung_Opacity-1988.png', 'Lung_Opacity-1989.png', 'Lung_Opacity-199.png', 'Lung_Opacity-1990.png', 'Lung_Opacity-1991.png', 'Lung_Opacity-1992.png', 'Lung_Opacity-1993.png', 'Lung_Opacity-1994.png', 'Lung_Opacity-1995.png', 'Lung_Opacity-1996.png', 'Lung_Opacity-1997.png', 'Lung_Opacity-1998.png', 'Lung_Opacity-1999.png', 'Lung_Opacity-2.png', 'Lung_Opacity-20.png', 'Lung_Opacity-200.png', 'Lung_Opacity-2000.png', 'Lung_Opacity-2001.png', 'Lung_Opacity-2002.png', 'Lung_Opacity-2003.png', 'Lung_Opacity-2004.png', 'Lung_Opacity-2005.png', 'Lung_Opacity-2006.png', 'Lung_Opacity-2007.png', 'Lung_Opacity-2008.png', 'Lung_Opacity-2009.png', 'Lung_Opacity-201.png', 'Lung_Opacity-2010.png', 'Lung_Opacity-2011.png', 'Lung_Opacity-2012.png', 'Lung_Opacity-2013.png', 'Lung_Opacity-2014.png', 'Lung_Opacity-2015.png', 'Lung_Opacity-2016.png', 'Lung_Opacity-2017.png', 'Lung_Opacity-2018.png', 'Lung_Opacity-2019.png', 'Lung_Opacity-202.png', 'Lung_Opacity-2020.png', 'Lung_Opacity-2021.png', 'Lung_Opacity-2022.png', 'Lung_Opacity-2023.png', 'Lung_Opacity-2024.png', 'Lung_Opacity-2025.png', 'Lung_Opacity-2026.png', 'Lung_Opacity-2027.png', 'Lung_Opacity-2028.png', 'Lung_Opacity-2029.png', 'Lung_Opacity-203.png', 'Lung_Opacity-2030.png', 'Lung_Opacity-2031.png', 'Lung_Opacity-2032.png', 'Lung_Opacity-2033.png', 'Lung_Opacity-2034.png', 'Lung_Opacity-2035.png', 'Lung_Opacity-2036.png', 'Lung_Opacity-2037.png', 'Lung_Opacity-2038.png', 'Lung_Opacity-2039.png', 'Lung_Opacity-204.png', 'Lung_Opacity-2040.png', 'Lung_Opacity-2041.png', 'Lung_Opacity-2042.png', 'Lung_Opacity-2043.png', 'Lung_Opacity-2044.png', 'Lung_Opacity-2045.png', 'Lung_Opacity-2046.png', 'Lung_Opacity-2047.png', 'Lung_Opacity-2048.png', 'Lung_Opacity-2049.png', 'Lung_Opacity-205.png', 'Lung_Opacity-2050.png', 'Lung_Opacity-2051.png', 'Lung_Opacity-2052.png', 'Lung_Opacity-2053.png', 'Lung_Opacity-2054.png', 'Lung_Opacity-2055.png', 'Lung_Opacity-2056.png', 'Lung_Opacity-2057.png', 'Lung_Opacity-2058.png', 'Lung_Opacity-2059.png', 'Lung_Opacity-206.png', 'Lung_Opacity-2060.png', 'Lung_Opacity-2061.png', 'Lung_Opacity-2062.png', 'Lung_Opacity-2063.png', 'Lung_Opacity-2064.png', 'Lung_Opacity-2065.png', 'Lung_Opacity-2066.png', 'Lung_Opacity-2067.png', 'Lung_Opacity-2068.png', 'Lung_Opacity-2069.png', 'Lung_Opacity-207.png', 'Lung_Opacity-2070.png', 'Lung_Opacity-2071.png', 'Lung_Opacity-2072.png', 'Lung_Opacity-2073.png', 'Lung_Opacity-2074.png', 'Lung_Opacity-2075.png', 'Lung_Opacity-2076.png', 'Lung_Opacity-2077.png', 'Lung_Opacity-2078.png', 'Lung_Opacity-2079.png', 'Lung_Opacity-208.png', 'Lung_Opacity-2080.png', 'Lung_Opacity-2081.png', 'Lung_Opacity-2082.png', 'Lung_Opacity-2083.png', 'Lung_Opacity-2084.png', 'Lung_Opacity-2085.png', 'Lung_Opacity-2086.png', 'Lung_Opacity-2087.png', 'Lung_Opacity-2088.png', 'Lung_Opacity-2089.png', 'Lung_Opacity-209.png', 'Lung_Opacity-2090.png', 'Lung_Opacity-2091.png', 'Lung_Opacity-2092.png', 'Lung_Opacity-2093.png', 'Lung_Opacity-2094.png', 'Lung_Opacity-2095.png', 'Lung_Opacity-2096.png', 'Lung_Opacity-2097.png', 'Lung_Opacity-2098.png', 'Lung_Opacity-2099.png', 'Lung_Opacity-21.png', 'Lung_Opacity-210.png', 'Lung_Opacity-2100.png', 'Lung_Opacity-2101.png', 'Lung_Opacity-2102.png', 'Lung_Opacity-2103.png', 'Lung_Opacity-2104.png', 'Lung_Opacity-2105.png', 'Lung_Opacity-2106.png', 'Lung_Opacity-2107.png', 'Lung_Opacity-2108.png', 'Lung_Opacity-2109.png', 'Lung_Opacity-211.png', 'Lung_Opacity-2110.png', 'Lung_Opacity-2111.png', 'Lung_Opacity-2112.png', 'Lung_Opacity-2113.png', 'Lung_Opacity-2114.png', 'Lung_Opacity-2115.png', 'Lung_Opacity-2116.png', 'Lung_Opacity-2117.png', 'Lung_Opacity-2118.png', 'Lung_Opacity-2119.png', 'Lung_Opacity-212.png', 'Lung_Opacity-2120.png', 'Lung_Opacity-2121.png', 'Lung_Opacity-2122.png', 'Lung_Opacity-2123.png', 'Lung_Opacity-2124.png', 'Lung_Opacity-2125.png', 'Lung_Opacity-2126.png', 'Lung_Opacity-2127.png', 'Lung_Opacity-2128.png', 'Lung_Opacity-2129.png', 'Lung_Opacity-213.png', 'Lung_Opacity-2130.png', 'Lung_Opacity-2131.png', 'Lung_Opacity-2132.png', 'Lung_Opacity-2133.png', 'Lung_Opacity-2134.png', 'Lung_Opacity-2135.png', 'Lung_Opacity-2136.png', 'Lung_Opacity-2137.png', 'Lung_Opacity-2138.png', 'Lung_Opacity-2139.png', 'Lung_Opacity-214.png', 'Lung_Opacity-2140.png', 'Lung_Opacity-2141.png', 'Lung_Opacity-2142.png', 'Lung_Opacity-2143.png', 'Lung_Opacity-2144.png', 'Lung_Opacity-2145.png', 'Lung_Opacity-2146.png', 'Lung_Opacity-2147.png', 'Lung_Opacity-2148.png', 'Lung_Opacity-2149.png', 'Lung_Opacity-215.png', 'Lung_Opacity-2150.png', 'Lung_Opacity-2151.png', 'Lung_Opacity-2152.png', 'Lung_Opacity-2153.png', 'Lung_Opacity-2154.png', 'Lung_Opacity-2155.png', 'Lung_Opacity-2156.png', 'Lung_Opacity-2157.png', 'Lung_Opacity-2158.png', 'Lung_Opacity-2159.png', 'Lung_Opacity-216.png', 'Lung_Opacity-2160.png', 'Lung_Opacity-2161.png', 'Lung_Opacity-2162.png', 'Lung_Opacity-2163.png', 'Lung_Opacity-2164.png', 'Lung_Opacity-2165.png', 'Lung_Opacity-2166.png', 'Lung_Opacity-2167.png', 'Lung_Opacity-2168.png', 'Lung_Opacity-2169.png', 'Lung_Opacity-217.png', 'Lung_Opacity-2170.png', 'Lung_Opacity-2171.png', 'Lung_Opacity-2172.png', 'Lung_Opacity-2173.png', 'Lung_Opacity-2174.png', 'Lung_Opacity-2175.png', 'Lung_Opacity-2176.png', 'Lung_Opacity-2177.png', 'Lung_Opacity-2178.png', 'Lung_Opacity-2179.png', 'Lung_Opacity-218.png', 'Lung_Opacity-2180.png', 'Lung_Opacity-2181.png', 'Lung_Opacity-2182.png', 'Lung_Opacity-2183.png', 'Lung_Opacity-2184.png', 'Lung_Opacity-2185.png', 'Lung_Opacity-2186.png', 'Lung_Opacity-2187.png', 'Lung_Opacity-2188.png', 'Lung_Opacity-2189.png', 'Lung_Opacity-219.png', 'Lung_Opacity-2190.png', 'Lung_Opacity-2191.png', 'Lung_Opacity-2192.png', 'Lung_Opacity-2193.png', 'Lung_Opacity-2194.png', 'Lung_Opacity-2195.png', 'Lung_Opacity-2196.png', 'Lung_Opacity-2197.png', 'Lung_Opacity-2198.png', 'Lung_Opacity-2199.png', 'Lung_Opacity-22.png', 'Lung_Opacity-220.png', 'Lung_Opacity-2200.png', 'Lung_Opacity-2201.png', 'Lung_Opacity-2202.png', 'Lung_Opacity-2203.png', 'Lung_Opacity-2204.png', 'Lung_Opacity-2205.png', 'Lung_Opacity-2206.png', 'Lung_Opacity-2207.png', 'Lung_Opacity-2208.png', 'Lung_Opacity-2209.png', 'Lung_Opacity-221.png', 'Lung_Opacity-2210.png', 'Lung_Opacity-2211.png', 'Lung_Opacity-2212.png', 'Lung_Opacity-2213.png', 'Lung_Opacity-2214.png', 'Lung_Opacity-2215.png', 'Lung_Opacity-2216.png', 'Lung_Opacity-2217.png', 'Lung_Opacity-2218.png', 'Lung_Opacity-2219.png', 'Lung_Opacity-222.png', 'Lung_Opacity-2220.png', 'Lung_Opacity-2221.png', 'Lung_Opacity-2222.png', 'Lung_Opacity-2223.png', 'Lung_Opacity-2224.png', 'Lung_Opacity-2225.png', 'Lung_Opacity-2226.png', 'Lung_Opacity-2227.png', 'Lung_Opacity-2228.png', 'Lung_Opacity-2229.png', 'Lung_Opacity-223.png', 'Lung_Opacity-2230.png', 'Lung_Opacity-2231.png', 'Lung_Opacity-2232.png', 'Lung_Opacity-2233.png', 'Lung_Opacity-2234.png', 'Lung_Opacity-2235.png', 'Lung_Opacity-2236.png', 'Lung_Opacity-2237.png', 'Lung_Opacity-2238.png', 'Lung_Opacity-2239.png', 'Lung_Opacity-224.png', 'Lung_Opacity-2240.png', 'Lung_Opacity-2241.png', 'Lung_Opacity-2242.png', 'Lung_Opacity-2243.png', 'Lung_Opacity-2244.png', 'Lung_Opacity-2245.png', 'Lung_Opacity-2246.png', 'Lung_Opacity-2247.png', 'Lung_Opacity-2248.png', 'Lung_Opacity-2249.png', 'Lung_Opacity-225.png', 'Lung_Opacity-2250.png', 'Lung_Opacity-2251.png', 'Lung_Opacity-2252.png', 'Lung_Opacity-2253.png', 'Lung_Opacity-2254.png', 'Lung_Opacity-2255.png', 'Lung_Opacity-2256.png', 'Lung_Opacity-2257.png', 'Lung_Opacity-2258.png', 'Lung_Opacity-2259.png', 'Lung_Opacity-226.png', 'Lung_Opacity-2260.png', 'Lung_Opacity-2261.png', 'Lung_Opacity-2262.png', 'Lung_Opacity-2263.png', 'Lung_Opacity-2264.png', 'Lung_Opacity-2265.png', 'Lung_Opacity-2266.png', 'Lung_Opacity-2267.png', 'Lung_Opacity-2268.png', 'Lung_Opacity-2269.png', 'Lung_Opacity-227.png', 'Lung_Opacity-2270.png', 'Lung_Opacity-2271.png', 'Lung_Opacity-2272.png', 'Lung_Opacity-2273.png', 'Lung_Opacity-2274.png', 'Lung_Opacity-2275.png', 'Lung_Opacity-2276.png', 'Lung_Opacity-2277.png', 'Lung_Opacity-2278.png', 'Lung_Opacity-2279.png', 'Lung_Opacity-228.png', 'Lung_Opacity-2280.png', 'Lung_Opacity-2281.png', 'Lung_Opacity-2282.png', 'Lung_Opacity-2283.png', 'Lung_Opacity-2284.png', 'Lung_Opacity-2285.png', 'Lung_Opacity-2286.png', 'Lung_Opacity-2287.png', 'Lung_Opacity-2288.png', 'Lung_Opacity-2289.png', 'Lung_Opacity-229.png', 'Lung_Opacity-2290.png', 'Lung_Opacity-2291.png', 'Lung_Opacity-2292.png', 'Lung_Opacity-2293.png', 'Lung_Opacity-2294.png', 'Lung_Opacity-2295.png', 'Lung_Opacity-2296.png', 'Lung_Opacity-2297.png', 'Lung_Opacity-2298.png', 'Lung_Opacity-2299.png', 'Lung_Opacity-23.png', 'Lung_Opacity-230.png', 'Lung_Opacity-2300.png', 'Lung_Opacity-2301.png', 'Lung_Opacity-2302.png', 'Lung_Opacity-2303.png', 'Lung_Opacity-2304.png', 'Lung_Opacity-2305.png', 'Lung_Opacity-2306.png', 'Lung_Opacity-2307.png', 'Lung_Opacity-2308.png', 'Lung_Opacity-2309.png', 'Lung_Opacity-231.png', 'Lung_Opacity-2310.png', 'Lung_Opacity-2311.png', 'Lung_Opacity-2312.png', 'Lung_Opacity-2313.png', 'Lung_Opacity-2314.png', 'Lung_Opacity-2315.png', 'Lung_Opacity-2316.png', 'Lung_Opacity-2317.png', 'Lung_Opacity-2318.png', 'Lung_Opacity-2319.png', 'Lung_Opacity-232.png', 'Lung_Opacity-2320.png', 'Lung_Opacity-2321.png', 'Lung_Opacity-2322.png', 'Lung_Opacity-2323.png', 'Lung_Opacity-2324.png', 'Lung_Opacity-2325.png', 'Lung_Opacity-2326.png', 'Lung_Opacity-2327.png', 'Lung_Opacity-2328.png', 'Lung_Opacity-2329.png', 'Lung_Opacity-233.png', 'Lung_Opacity-2330.png', 'Lung_Opacity-2331.png', 'Lung_Opacity-2332.png', 'Lung_Opacity-2333.png', 'Lung_Opacity-2334.png', 'Lung_Opacity-2335.png', 'Lung_Opacity-2336.png', 'Lung_Opacity-2337.png', 'Lung_Opacity-2338.png', 'Lung_Opacity-2339.png', 'Lung_Opacity-234.png', 'Lung_Opacity-2340.png', 'Lung_Opacity-2341.png', 'Lung_Opacity-2342.png', 'Lung_Opacity-2343.png', 'Lung_Opacity-2344.png', 'Lung_Opacity-2345.png', 'Lung_Opacity-2346.png', 'Lung_Opacity-2347.png', 'Lung_Opacity-2348.png', 'Lung_Opacity-2349.png', 'Lung_Opacity-235.png', 'Lung_Opacity-2350.png', 'Lung_Opacity-2351.png', 'Lung_Opacity-2352.png', 'Lung_Opacity-2353.png', 'Lung_Opacity-2354.png', 'Lung_Opacity-2355.png', 'Lung_Opacity-2356.png', 'Lung_Opacity-2357.png', 'Lung_Opacity-2358.png', 'Lung_Opacity-2359.png', 'Lung_Opacity-236.png', 'Lung_Opacity-2360.png', 'Lung_Opacity-2361.png', 'Lung_Opacity-2362.png', 'Lung_Opacity-2363.png', 'Lung_Opacity-2364.png', 'Lung_Opacity-2365.png', 'Lung_Opacity-2366.png', 'Lung_Opacity-2367.png', 'Lung_Opacity-2368.png', 'Lung_Opacity-2369.png', 'Lung_Opacity-237.png', 'Lung_Opacity-2370.png', 'Lung_Opacity-2371.png', 'Lung_Opacity-2372.png', 'Lung_Opacity-2373.png', 'Lung_Opacity-2374.png', 'Lung_Opacity-2375.png', 'Lung_Opacity-2376.png', 'Lung_Opacity-2377.png', 'Lung_Opacity-2378.png', 'Lung_Opacity-2379.png', 'Lung_Opacity-238.png', 'Lung_Opacity-2380.png', 'Lung_Opacity-2381.png', 'Lung_Opacity-2382.png', 'Lung_Opacity-2383.png', 'Lung_Opacity-2384.png', 'Lung_Opacity-2385.png', 'Lung_Opacity-2386.png', 'Lung_Opacity-2387.png', 'Lung_Opacity-2388.png', 'Lung_Opacity-2389.png', 'Lung_Opacity-239.png', 'Lung_Opacity-2390.png', 'Lung_Opacity-2391.png', 'Lung_Opacity-2392.png', 'Lung_Opacity-2393.png', 'Lung_Opacity-2394.png', 'Lung_Opacity-2395.png', 'Lung_Opacity-2396.png', 'Lung_Opacity-2397.png', 'Lung_Opacity-2398.png', 'Lung_Opacity-2399.png', 'Lung_Opacity-24.png', 'Lung_Opacity-240.png', 'Lung_Opacity-2400.png', 'Lung_Opacity-2401.png', 'Lung_Opacity-2402.png', 'Lung_Opacity-2403.png', 'Lung_Opacity-2404.png', 'Lung_Opacity-2405.png', 'Lung_Opacity-2406.png', 'Lung_Opacity-2407.png', 'Lung_Opacity-2408.png', 'Lung_Opacity-2409.png', 'Lung_Opacity-241.png', 'Lung_Opacity-2410.png', 'Lung_Opacity-2411.png', 'Lung_Opacity-2412.png', 'Lung_Opacity-2413.png', 'Lung_Opacity-2414.png', 'Lung_Opacity-2415.png', 'Lung_Opacity-2416.png', 'Lung_Opacity-2417.png', 'Lung_Opacity-2418.png', 'Lung_Opacity-2419.png', 'Lung_Opacity-242.png', 'Lung_Opacity-2420.png', 'Lung_Opacity-2421.png', 'Lung_Opacity-2422.png', 'Lung_Opacity-2423.png', 'Lung_Opacity-2424.png', 'Lung_Opacity-2425.png', 'Lung_Opacity-2426.png', 'Lung_Opacity-2427.png', 'Lung_Opacity-2428.png', 'Lung_Opacity-2429.png', 'Lung_Opacity-243.png', 'Lung_Opacity-2430.png', 'Lung_Opacity-2431.png', 'Lung_Opacity-2432.png', 'Lung_Opacity-2433.png', 'Lung_Opacity-2434.png', 'Lung_Opacity-2435.png', 'Lung_Opacity-2436.png', 'Lung_Opacity-2437.png', 'Lung_Opacity-2438.png', 'Lung_Opacity-2439.png', 'Lung_Opacity-244.png', 'Lung_Opacity-2440.png', 'Lung_Opacity-2441.png', 'Lung_Opacity-2442.png', 'Lung_Opacity-2443.png', 'Lung_Opacity-2444.png', 'Lung_Opacity-2445.png', 'Lung_Opacity-2446.png', 'Lung_Opacity-2447.png', 'Lung_Opacity-2448.png', 'Lung_Opacity-2449.png', 'Lung_Opacity-245.png', 'Lung_Opacity-2450.png', 'Lung_Opacity-2451.png', 'Lung_Opacity-2452.png', 'Lung_Opacity-2453.png', 'Lung_Opacity-2454.png', 'Lung_Opacity-2455.png', 'Lung_Opacity-2456.png', 'Lung_Opacity-2457.png', 'Lung_Opacity-2458.png', 'Lung_Opacity-2459.png', 'Lung_Opacity-246.png', 'Lung_Opacity-2460.png', 'Lung_Opacity-2461.png', 'Lung_Opacity-2462.png', 'Lung_Opacity-2463.png', 'Lung_Opacity-2464.png', 'Lung_Opacity-2465.png', 'Lung_Opacity-2466.png', 'Lung_Opacity-2467.png', 'Lung_Opacity-2468.png', 'Lung_Opacity-2469.png', 'Lung_Opacity-247.png', 'Lung_Opacity-2470.png', 'Lung_Opacity-2471.png', 'Lung_Opacity-2472.png', 'Lung_Opacity-2473.png', 'Lung_Opacity-2474.png', 'Lung_Opacity-2475.png', 'Lung_Opacity-2476.png', 'Lung_Opacity-2477.png', 'Lung_Opacity-2478.png', 'Lung_Opacity-2479.png', 'Lung_Opacity-248.png', 'Lung_Opacity-2480.png', 'Lung_Opacity-2481.png', 'Lung_Opacity-2482.png', 'Lung_Opacity-2483.png', 'Lung_Opacity-2484.png', 'Lung_Opacity-2485.png', 'Lung_Opacity-2486.png', 'Lung_Opacity-2487.png', 'Lung_Opacity-2488.png', 'Lung_Opacity-2489.png', 'Lung_Opacity-249.png', 'Lung_Opacity-2490.png', 'Lung_Opacity-2491.png', 'Lung_Opacity-2492.png', 'Lung_Opacity-2493.png', 'Lung_Opacity-2494.png', 'Lung_Opacity-2495.png', 'Lung_Opacity-2496.png', 'Lung_Opacity-2497.png', 'Lung_Opacity-2498.png', 'Lung_Opacity-2499.png', 'Lung_Opacity-25.png', 'Lung_Opacity-250.png', 'Lung_Opacity-2500.png', 'Lung_Opacity-2501.png', 'Lung_Opacity-2502.png', 'Lung_Opacity-2503.png', 'Lung_Opacity-2504.png', 'Lung_Opacity-2505.png', 'Lung_Opacity-2506.png', 'Lung_Opacity-2507.png', 'Lung_Opacity-2508.png', 'Lung_Opacity-2509.png', 'Lung_Opacity-251.png', 'Lung_Opacity-2510.png', 'Lung_Opacity-2511.png', 'Lung_Opacity-2512.png', 'Lung_Opacity-2513.png', 'Lung_Opacity-2514.png', 'Lung_Opacity-2515.png', 'Lung_Opacity-2516.png', 'Lung_Opacity-2517.png', 'Lung_Opacity-2518.png', 'Lung_Opacity-2519.png', 'Lung_Opacity-252.png', 'Lung_Opacity-2520.png', 'Lung_Opacity-2521.png', 'Lung_Opacity-2522.png', 'Lung_Opacity-2523.png', 'Lung_Opacity-2524.png', 'Lung_Opacity-2525.png', 'Lung_Opacity-2526.png', 'Lung_Opacity-2527.png', 'Lung_Opacity-2528.png', 'Lung_Opacity-2529.png', 'Lung_Opacity-253.png', 'Lung_Opacity-2530.png', 'Lung_Opacity-2531.png', 'Lung_Opacity-2532.png', 'Lung_Opacity-2533.png', 'Lung_Opacity-2534.png', 'Lung_Opacity-2535.png', 'Lung_Opacity-2536.png', 'Lung_Opacity-2537.png', 'Lung_Opacity-2538.png', 'Lung_Opacity-2539.png', 'Lung_Opacity-254.png', 'Lung_Opacity-2540.png', 'Lung_Opacity-2541.png', 'Lung_Opacity-2542.png', 'Lung_Opacity-2543.png', 'Lung_Opacity-2544.png', 'Lung_Opacity-2545.png', 'Lung_Opacity-2546.png', 'Lung_Opacity-2547.png', 'Lung_Opacity-2548.png', 'Lung_Opacity-2549.png', 'Lung_Opacity-255.png', 'Lung_Opacity-2550.png', 'Lung_Opacity-2551.png', 'Lung_Opacity-2552.png', 'Lung_Opacity-2553.png', 'Lung_Opacity-2554.png', 'Lung_Opacity-2555.png', 'Lung_Opacity-2556.png', 'Lung_Opacity-2557.png', 'Lung_Opacity-2558.png', 'Lung_Opacity-2559.png', 'Lung_Opacity-256.png', 'Lung_Opacity-2560.png', 'Lung_Opacity-2561.png', 'Lung_Opacity-2562.png', 'Lung_Opacity-2563.png', 'Lung_Opacity-2564.png', 'Lung_Opacity-2565.png', 'Lung_Opacity-2566.png', 'Lung_Opacity-2567.png', 'Lung_Opacity-2568.png', 'Lung_Opacity-2569.png', 'Lung_Opacity-257.png', 'Lung_Opacity-2570.png', 'Lung_Opacity-2571.png', 'Lung_Opacity-2572.png', 'Lung_Opacity-2573.png', 'Lung_Opacity-2574.png', 'Lung_Opacity-2575.png', 'Lung_Opacity-2576.png', 'Lung_Opacity-2577.png', 'Lung_Opacity-2578.png', 'Lung_Opacity-2579.png', 'Lung_Opacity-258.png', 'Lung_Opacity-2580.png', 'Lung_Opacity-2581.png', 'Lung_Opacity-2582.png', 'Lung_Opacity-2583.png', 'Lung_Opacity-2584.png', 'Lung_Opacity-2585.png', 'Lung_Opacity-2586.png', 'Lung_Opacity-2587.png', 'Lung_Opacity-2588.png', 'Lung_Opacity-2589.png', 'Lung_Opacity-259.png', 'Lung_Opacity-2590.png', 'Lung_Opacity-2591.png', 'Lung_Opacity-2592.png', 'Lung_Opacity-2593.png', 'Lung_Opacity-2594.png', 'Lung_Opacity-2595.png', 'Lung_Opacity-2596.png', 'Lung_Opacity-2597.png', 'Lung_Opacity-2598.png', 'Lung_Opacity-2599.png', 'Lung_Opacity-26.png', 'Lung_Opacity-260.png', 'Lung_Opacity-2600.png', 'Lung_Opacity-2601.png', 'Lung_Opacity-2602.png', 'Lung_Opacity-2603.png', 'Lung_Opacity-2604.png', 'Lung_Opacity-2605.png', 'Lung_Opacity-2606.png', 'Lung_Opacity-2607.png', 'Lung_Opacity-2608.png', 'Lung_Opacity-2609.png', 'Lung_Opacity-261.png', 'Lung_Opacity-2610.png', 'Lung_Opacity-2611.png', 'Lung_Opacity-2612.png', 'Lung_Opacity-2613.png', 'Lung_Opacity-2614.png', 'Lung_Opacity-2615.png', 'Lung_Opacity-2616.png', 'Lung_Opacity-2617.png', 'Lung_Opacity-2618.png', 'Lung_Opacity-2619.png', 'Lung_Opacity-262.png', 'Lung_Opacity-2620.png', 'Lung_Opacity-2621.png', 'Lung_Opacity-2622.png', 'Lung_Opacity-2623.png', 'Lung_Opacity-2624.png', 'Lung_Opacity-2625.png', 'Lung_Opacity-2626.png', 'Lung_Opacity-2627.png', 'Lung_Opacity-2628.png', 'Lung_Opacity-2629.png', 'Lung_Opacity-263.png', 'Lung_Opacity-2630.png', 'Lung_Opacity-2631.png', 'Lung_Opacity-2632.png', 'Lung_Opacity-2633.png', 'Lung_Opacity-2634.png', 'Lung_Opacity-2635.png', 'Lung_Opacity-2636.png', 'Lung_Opacity-2637.png', 'Lung_Opacity-2638.png', 'Lung_Opacity-2639.png', 'Lung_Opacity-264.png', 'Lung_Opacity-2640.png', 'Lung_Opacity-2641.png', 'Lung_Opacity-2642.png', 'Lung_Opacity-2643.png', 'Lung_Opacity-2644.png', 'Lung_Opacity-2645.png', 'Lung_Opacity-2646.png', 'Lung_Opacity-2647.png', 'Lung_Opacity-2648.png', 'Lung_Opacity-2649.png', 'Lung_Opacity-265.png', 'Lung_Opacity-2650.png', 'Lung_Opacity-2651.png', 'Lung_Opacity-2652.png', 'Lung_Opacity-2653.png', 'Lung_Opacity-2654.png', 'Lung_Opacity-2655.png', 'Lung_Opacity-2656.png', 'Lung_Opacity-2657.png', 'Lung_Opacity-2658.png', 'Lung_Opacity-2659.png', 'Lung_Opacity-266.png', 'Lung_Opacity-2660.png', 'Lung_Opacity-2661.png', 'Lung_Opacity-2662.png', 'Lung_Opacity-2663.png', 'Lung_Opacity-2664.png', 'Lung_Opacity-2665.png', 'Lung_Opacity-2666.png', 'Lung_Opacity-2667.png', 'Lung_Opacity-2668.png', 'Lung_Opacity-2669.png', 'Lung_Opacity-267.png', 'Lung_Opacity-2670.png', 'Lung_Opacity-2671.png', 'Lung_Opacity-2672.png', 'Lung_Opacity-2673.png', 'Lung_Opacity-2674.png', 'Lung_Opacity-2675.png', 'Lung_Opacity-2676.png', 'Lung_Opacity-2677.png', 'Lung_Opacity-2678.png', 'Lung_Opacity-2679.png', 'Lung_Opacity-268.png', 'Lung_Opacity-2680.png', 'Lung_Opacity-2681.png', 'Lung_Opacity-2682.png', 'Lung_Opacity-2683.png', 'Lung_Opacity-2684.png', 'Lung_Opacity-2685.png', 'Lung_Opacity-2686.png', 'Lung_Opacity-2687.png', 'Lung_Opacity-2688.png', 'Lung_Opacity-2689.png', 'Lung_Opacity-269.png', 'Lung_Opacity-2690.png', 'Lung_Opacity-2691.png', 'Lung_Opacity-2692.png', 'Lung_Opacity-2693.png', 'Lung_Opacity-2694.png', 'Lung_Opacity-2695.png', 'Lung_Opacity-2696.png', 'Lung_Opacity-2697.png', 'Lung_Opacity-2698.png', 'Lung_Opacity-2699.png', 'Lung_Opacity-27.png', 'Lung_Opacity-270.png', 'Lung_Opacity-2700.png', 'Lung_Opacity-2701.png', 'Lung_Opacity-2702.png', 'Lung_Opacity-2703.png', 'Lung_Opacity-2704.png', 'Lung_Opacity-2705.png', 'Lung_Opacity-2706.png', 'Lung_Opacity-2707.png', 'Lung_Opacity-2708.png', 'Lung_Opacity-2709.png', 'Lung_Opacity-271.png', 'Lung_Opacity-2710.png', 'Lung_Opacity-2711.png', 'Lung_Opacity-2712.png', 'Lung_Opacity-2713.png', 'Lung_Opacity-2714.png', 'Lung_Opacity-2715.png', 'Lung_Opacity-2716.png', 'Lung_Opacity-2717.png', 'Lung_Opacity-2718.png', 'Lung_Opacity-2719.png', 'Lung_Opacity-272.png', 'Lung_Opacity-2720.png', 'Lung_Opacity-2721.png', 'Lung_Opacity-2722.png', 'Lung_Opacity-2723.png', 'Lung_Opacity-2724.png', 'Lung_Opacity-2725.png', 'Lung_Opacity-2726.png', 'Lung_Opacity-2727.png', 'Lung_Opacity-2728.png', 'Lung_Opacity-2729.png', 'Lung_Opacity-273.png', 'Lung_Opacity-2730.png', 'Lung_Opacity-2731.png', 'Lung_Opacity-2732.png', 'Lung_Opacity-2733.png', 'Lung_Opacity-2734.png', 'Lung_Opacity-2735.png', 'Lung_Opacity-2736.png', 'Lung_Opacity-2737.png', 'Lung_Opacity-2738.png', 'Lung_Opacity-2739.png', 'Lung_Opacity-274.png', 'Lung_Opacity-2740.png', 'Lung_Opacity-2741.png', 'Lung_Opacity-2742.png', 'Lung_Opacity-2743.png', 'Lung_Opacity-2744.png', 'Lung_Opacity-2745.png', 'Lung_Opacity-2746.png', 'Lung_Opacity-2747.png', 'Lung_Opacity-2748.png', 'Lung_Opacity-2749.png', 'Lung_Opacity-275.png', 'Lung_Opacity-2750.png', 'Lung_Opacity-2751.png', 'Lung_Opacity-2752.png', 'Lung_Opacity-2753.png', 'Lung_Opacity-2754.png', 'Lung_Opacity-2755.png', 'Lung_Opacity-2756.png', 'Lung_Opacity-2757.png', 'Lung_Opacity-2758.png', 'Lung_Opacity-2759.png', 'Lung_Opacity-276.png', 'Lung_Opacity-2760.png', 'Lung_Opacity-2761.png', 'Lung_Opacity-2762.png', 'Lung_Opacity-2763.png', 'Lung_Opacity-2764.png', 'Lung_Opacity-2765.png', 'Lung_Opacity-2766.png', 'Lung_Opacity-2767.png', 'Lung_Opacity-2768.png', 'Lung_Opacity-2769.png', 'Lung_Opacity-277.png', 'Lung_Opacity-2770.png', 'Lung_Opacity-2771.png', 'Lung_Opacity-2772.png', 'Lung_Opacity-2773.png', 'Lung_Opacity-2774.png', 'Lung_Opacity-2775.png', 'Lung_Opacity-2776.png', 'Lung_Opacity-2777.png', 'Lung_Opacity-2778.png', 'Lung_Opacity-2779.png', 'Lung_Opacity-278.png', 'Lung_Opacity-2780.png', 'Lung_Opacity-2781.png', 'Lung_Opacity-2782.png', 'Lung_Opacity-2783.png', 'Lung_Opacity-2784.png', 'Lung_Opacity-2785.png', 'Lung_Opacity-2786.png', 'Lung_Opacity-2787.png', 'Lung_Opacity-2788.png', 'Lung_Opacity-2789.png', 'Lung_Opacity-279.png', 'Lung_Opacity-2790.png', 'Lung_Opacity-2791.png', 'Lung_Opacity-2792.png', 'Lung_Opacity-2793.png', 'Lung_Opacity-2794.png', 'Lung_Opacity-2795.png', 'Lung_Opacity-2796.png', 'Lung_Opacity-2797.png', 'Lung_Opacity-2798.png', 'Lung_Opacity-2799.png', 'Lung_Opacity-28.png', 'Lung_Opacity-280.png', 'Lung_Opacity-2800.png', 'Lung_Opacity-2801.png', 'Lung_Opacity-2802.png', 'Lung_Opacity-2803.png', 'Lung_Opacity-2804.png', 'Lung_Opacity-2805.png', 'Lung_Opacity-2806.png', 'Lung_Opacity-2807.png', 'Lung_Opacity-2808.png', 'Lung_Opacity-2809.png', 'Lung_Opacity-281.png', 'Lung_Opacity-2810.png', 'Lung_Opacity-2811.png', 'Lung_Opacity-2812.png', 'Lung_Opacity-2813.png', 'Lung_Opacity-2814.png', 'Lung_Opacity-2815.png', 'Lung_Opacity-2816.png', 'Lung_Opacity-2817.png', 'Lung_Opacity-2818.png', 'Lung_Opacity-2819.png', 'Lung_Opacity-282.png', 'Lung_Opacity-2820.png', 'Lung_Opacity-2821.png', 'Lung_Opacity-2822.png', 'Lung_Opacity-2823.png', 'Lung_Opacity-2824.png', 'Lung_Opacity-2825.png', 'Lung_Opacity-2826.png', 'Lung_Opacity-2827.png', 'Lung_Opacity-2828.png', 'Lung_Opacity-2829.png', 'Lung_Opacity-283.png', 'Lung_Opacity-2830.png', 'Lung_Opacity-2831.png', 'Lung_Opacity-2832.png', 'Lung_Opacity-2833.png', 'Lung_Opacity-2834.png', 'Lung_Opacity-2835.png', 'Lung_Opacity-2836.png', 'Lung_Opacity-2837.png', 'Lung_Opacity-2838.png', 'Lung_Opacity-2839.png', 'Lung_Opacity-284.png', 'Lung_Opacity-2840.png', 'Lung_Opacity-2841.png', 'Lung_Opacity-2842.png', 'Lung_Opacity-2843.png', 'Lung_Opacity-2844.png', 'Lung_Opacity-2845.png', 'Lung_Opacity-2846.png', 'Lung_Opacity-2847.png', 'Lung_Opacity-2848.png', 'Lung_Opacity-2849.png', 'Lung_Opacity-285.png', 'Lung_Opacity-2850.png', 'Lung_Opacity-2851.png', 'Lung_Opacity-2852.png', 'Lung_Opacity-2853.png', 'Lung_Opacity-2854.png', 'Lung_Opacity-2855.png', 'Lung_Opacity-2856.png', 'Lung_Opacity-2857.png', 'Lung_Opacity-2858.png', 'Lung_Opacity-2859.png', 'Lung_Opacity-286.png', 'Lung_Opacity-2860.png', 'Lung_Opacity-2861.png', 'Lung_Opacity-2862.png', 'Lung_Opacity-2863.png', 'Lung_Opacity-2864.png', 'Lung_Opacity-2865.png', 'Lung_Opacity-2866.png', 'Lung_Opacity-2867.png', 'Lung_Opacity-2868.png', 'Lung_Opacity-2869.png', 'Lung_Opacity-287.png', 'Lung_Opacity-2870.png', 'Lung_Opacity-2871.png', 'Lung_Opacity-2872.png', 'Lung_Opacity-2873.png', 'Lung_Opacity-2874.png', 'Lung_Opacity-2875.png', 'Lung_Opacity-2876.png', 'Lung_Opacity-2877.png', 'Lung_Opacity-2878.png', 'Lung_Opacity-2879.png', 'Lung_Opacity-288.png', 'Lung_Opacity-2880.png', 'Lung_Opacity-2881.png', 'Lung_Opacity-2882.png', 'Lung_Opacity-2883.png', 'Lung_Opacity-2884.png', 'Lung_Opacity-2885.png', 'Lung_Opacity-2886.png', 'Lung_Opacity-2887.png', 'Lung_Opacity-2888.png', 'Lung_Opacity-2889.png', 'Lung_Opacity-289.png', 'Lung_Opacity-2890.png', 'Lung_Opacity-2891.png', 'Lung_Opacity-2892.png', 'Lung_Opacity-2893.png', 'Lung_Opacity-2894.png', 'Lung_Opacity-2895.png', 'Lung_Opacity-2896.png', 'Lung_Opacity-2897.png', 'Lung_Opacity-2898.png', 'Lung_Opacity-2899.png', 'Lung_Opacity-29.png', 'Lung_Opacity-290.png', 'Lung_Opacity-2900.png', 'Lung_Opacity-2901.png', 'Lung_Opacity-2902.png', 'Lung_Opacity-2903.png', 'Lung_Opacity-2904.png', 'Lung_Opacity-2905.png', 'Lung_Opacity-2906.png', 'Lung_Opacity-2907.png', 'Lung_Opacity-2908.png', 'Lung_Opacity-2909.png', 'Lung_Opacity-291.png', 'Lung_Opacity-2910.png', 'Lung_Opacity-2911.png', 'Lung_Opacity-2912.png', 'Lung_Opacity-2913.png', 'Lung_Opacity-2914.png', 'Lung_Opacity-2915.png', 'Lung_Opacity-2916.png', 'Lung_Opacity-2917.png', 'Lung_Opacity-2918.png', 'Lung_Opacity-2919.png', 'Lung_Opacity-292.png', 'Lung_Opacity-2920.png', 'Lung_Opacity-2921.png', 'Lung_Opacity-2922.png', 'Lung_Opacity-2923.png', 'Lung_Opacity-2924.png', 'Lung_Opacity-2925.png', 'Lung_Opacity-2926.png', 'Lung_Opacity-2927.png', 'Lung_Opacity-2928.png', 'Lung_Opacity-2929.png', 'Lung_Opacity-293.png', 'Lung_Opacity-2930.png', 'Lung_Opacity-2931.png', 'Lung_Opacity-2932.png', 'Lung_Opacity-2933.png', 'Lung_Opacity-2934.png', 'Lung_Opacity-2935.png', 'Lung_Opacity-2936.png', 'Lung_Opacity-2937.png', 'Lung_Opacity-2938.png', 'Lung_Opacity-2939.png', 'Lung_Opacity-294.png', 'Lung_Opacity-2940.png', 'Lung_Opacity-2941.png', 'Lung_Opacity-2942.png', 'Lung_Opacity-2943.png', 'Lung_Opacity-2944.png', 'Lung_Opacity-2945.png', 'Lung_Opacity-2946.png', 'Lung_Opacity-2947.png', 'Lung_Opacity-2948.png', 'Lung_Opacity-2949.png', 'Lung_Opacity-295.png', 'Lung_Opacity-2950.png', 'Lung_Opacity-2951.png', 'Lung_Opacity-2952.png', 'Lung_Opacity-2953.png', 'Lung_Opacity-2954.png', 'Lung_Opacity-2955.png', 'Lung_Opacity-2956.png', 'Lung_Opacity-2957.png', 'Lung_Opacity-2958.png', 'Lung_Opacity-2959.png', 'Lung_Opacity-296.png', 'Lung_Opacity-2960.png', 'Lung_Opacity-2961.png', 'Lung_Opacity-2962.png', 'Lung_Opacity-2963.png', 'Lung_Opacity-2964.png', 'Lung_Opacity-2965.png', 'Lung_Opacity-2966.png', 'Lung_Opacity-2967.png', 'Lung_Opacity-2968.png', 'Lung_Opacity-2969.png', 'Lung_Opacity-297.png', 'Lung_Opacity-2970.png', 'Lung_Opacity-2971.png', 'Lung_Opacity-2972.png', 'Lung_Opacity-2973.png', 'Lung_Opacity-2974.png', 'Lung_Opacity-2975.png', 'Lung_Opacity-2976.png', 'Lung_Opacity-2977.png', 'Lung_Opacity-2978.png', 'Lung_Opacity-2979.png', 'Lung_Opacity-298.png', 'Lung_Opacity-2980.png', 'Lung_Opacity-2981.png', 'Lung_Opacity-2982.png', 'Lung_Opacity-2983.png', 'Lung_Opacity-2984.png', 'Lung_Opacity-2985.png', 'Lung_Opacity-2986.png', 'Lung_Opacity-2987.png', 'Lung_Opacity-2988.png', 'Lung_Opacity-2989.png', 'Lung_Opacity-299.png', 'Lung_Opacity-2990.png', 'Lung_Opacity-2991.png', 'Lung_Opacity-2992.png', 'Lung_Opacity-2993.png', 'Lung_Opacity-2994.png', 'Lung_Opacity-2995.png', 'Lung_Opacity-2996.png', 'Lung_Opacity-2997.png', 'Lung_Opacity-2998.png', 'Lung_Opacity-2999.png', 'Lung_Opacity-3.png', 'Lung_Opacity-30.png', 'Lung_Opacity-300.png', 'Lung_Opacity-3000.png', 'Lung_Opacity-3001.png', 'Lung_Opacity-3002.png', 'Lung_Opacity-3003.png', 'Lung_Opacity-3004.png', 'Lung_Opacity-3005.png', 'Lung_Opacity-3006.png', 'Lung_Opacity-3007.png', 'Lung_Opacity-3008.png', 'Lung_Opacity-3009.png', 'Lung_Opacity-301.png', 'Lung_Opacity-3010.png', 'Lung_Opacity-3011.png', 'Lung_Opacity-3012.png', 'Lung_Opacity-3013.png', 'Lung_Opacity-3014.png', 'Lung_Opacity-3015.png', 'Lung_Opacity-3016.png', 'Lung_Opacity-3017.png', 'Lung_Opacity-3018.png', 'Lung_Opacity-3019.png', 'Lung_Opacity-302.png', 'Lung_Opacity-3020.png', 'Lung_Opacity-3021.png', 'Lung_Opacity-3022.png', 'Lung_Opacity-3023.png', 'Lung_Opacity-3024.png', 'Lung_Opacity-3025.png', 'Lung_Opacity-3026.png', 'Lung_Opacity-3027.png', 'Lung_Opacity-3028.png', 'Lung_Opacity-3029.png', 'Lung_Opacity-303.png', 'Lung_Opacity-3030.png', 'Lung_Opacity-3031.png', 'Lung_Opacity-3032.png', 'Lung_Opacity-3033.png', 'Lung_Opacity-3034.png', 'Lung_Opacity-3035.png', 'Lung_Opacity-3036.png', 'Lung_Opacity-3037.png', 'Lung_Opacity-3038.png', 'Lung_Opacity-3039.png', 'Lung_Opacity-304.png', 'Lung_Opacity-3040.png', 'Lung_Opacity-3041.png', 'Lung_Opacity-3042.png', 'Lung_Opacity-3043.png', 'Lung_Opacity-3044.png', 'Lung_Opacity-3045.png', 'Lung_Opacity-3046.png', 'Lung_Opacity-3047.png', 'Lung_Opacity-3048.png', 'Lung_Opacity-3049.png', 'Lung_Opacity-305.png', 'Lung_Opacity-3050.png', 'Lung_Opacity-3051.png', 'Lung_Opacity-3052.png', 'Lung_Opacity-3053.png', 'Lung_Opacity-3054.png', 'Lung_Opacity-3055.png', 'Lung_Opacity-3056.png', 'Lung_Opacity-3057.png', 'Lung_Opacity-3058.png', 'Lung_Opacity-3059.png', 'Lung_Opacity-306.png', 'Lung_Opacity-3060.png', 'Lung_Opacity-3061.png', 'Lung_Opacity-3062.png', 'Lung_Opacity-3063.png', 'Lung_Opacity-3064.png', 'Lung_Opacity-3065.png', 'Lung_Opacity-3066.png', 'Lung_Opacity-3067.png', 'Lung_Opacity-3068.png', 'Lung_Opacity-3069.png', 'Lung_Opacity-307.png', 'Lung_Opacity-3070.png', 'Lung_Opacity-3071.png', 'Lung_Opacity-3072.png', 'Lung_Opacity-3073.png', 'Lung_Opacity-3074.png', 'Lung_Opacity-3075.png', 'Lung_Opacity-3076.png', 'Lung_Opacity-3077.png', 'Lung_Opacity-3078.png', 'Lung_Opacity-3079.png', 'Lung_Opacity-308.png', 'Lung_Opacity-3080.png', 'Lung_Opacity-3081.png', 'Lung_Opacity-3082.png', 'Lung_Opacity-3083.png', 'Lung_Opacity-3084.png', 'Lung_Opacity-3085.png', 'Lung_Opacity-3086.png', 'Lung_Opacity-3087.png', 'Lung_Opacity-3088.png', 'Lung_Opacity-3089.png', 'Lung_Opacity-309.png', 'Lung_Opacity-3090.png', 'Lung_Opacity-3091.png', 'Lung_Opacity-3092.png', 'Lung_Opacity-3093.png', 'Lung_Opacity-3094.png', 'Lung_Opacity-3095.png', 'Lung_Opacity-3096.png', 'Lung_Opacity-3097.png', 'Lung_Opacity-3098.png', 'Lung_Opacity-3099.png', 'Lung_Opacity-31.png', 'Lung_Opacity-310.png', 'Lung_Opacity-3100.png', 'Lung_Opacity-3101.png', 'Lung_Opacity-3102.png', 'Lung_Opacity-3103.png', 'Lung_Opacity-3104.png', 'Lung_Opacity-3105.png', 'Lung_Opacity-3106.png', 'Lung_Opacity-3107.png', 'Lung_Opacity-3108.png', 'Lung_Opacity-3109.png', 'Lung_Opacity-311.png', 'Lung_Opacity-3110.png', 'Lung_Opacity-3111.png', 'Lung_Opacity-3112.png', 'Lung_Opacity-3113.png', 'Lung_Opacity-3114.png', 'Lung_Opacity-3115.png', 'Lung_Opacity-3116.png', 'Lung_Opacity-3117.png', 'Lung_Opacity-3118.png', 'Lung_Opacity-3119.png', 'Lung_Opacity-312.png', 'Lung_Opacity-3120.png', 'Lung_Opacity-3121.png', 'Lung_Opacity-3122.png', 'Lung_Opacity-3123.png', 'Lung_Opacity-3124.png', 'Lung_Opacity-3125.png', 'Lung_Opacity-3126.png', 'Lung_Opacity-3127.png', 'Lung_Opacity-3128.png', 'Lung_Opacity-3129.png', 'Lung_Opacity-313.png', 'Lung_Opacity-3130.png', 'Lung_Opacity-3131.png', 'Lung_Opacity-3132.png', 'Lung_Opacity-3133.png', 'Lung_Opacity-3134.png', 'Lung_Opacity-3135.png', 'Lung_Opacity-3136.png', 'Lung_Opacity-3137.png', 'Lung_Opacity-3138.png', 'Lung_Opacity-3139.png', 'Lung_Opacity-314.png', 'Lung_Opacity-3140.png', 'Lung_Opacity-3141.png', 'Lung_Opacity-3142.png', 'Lung_Opacity-3143.png', 'Lung_Opacity-3144.png', 'Lung_Opacity-3145.png', 'Lung_Opacity-3146.png', 'Lung_Opacity-3147.png', 'Lung_Opacity-3148.png', 'Lung_Opacity-3149.png', 'Lung_Opacity-315.png', 'Lung_Opacity-3150.png', 'Lung_Opacity-3151.png', 'Lung_Opacity-3152.png', 'Lung_Opacity-3153.png', 'Lung_Opacity-3154.png', 'Lung_Opacity-3155.png', 'Lung_Opacity-3156.png', 'Lung_Opacity-3157.png', 'Lung_Opacity-3158.png', 'Lung_Opacity-3159.png', 'Lung_Opacity-316.png', 'Lung_Opacity-3160.png', 'Lung_Opacity-3161.png', 'Lung_Opacity-3162.png', 'Lung_Opacity-3163.png', 'Lung_Opacity-3164.png', 'Lung_Opacity-3165.png', 'Lung_Opacity-3166.png', 'Lung_Opacity-3167.png', 'Lung_Opacity-3168.png', 'Lung_Opacity-3169.png', 'Lung_Opacity-317.png', 'Lung_Opacity-3170.png', 'Lung_Opacity-3171.png', 'Lung_Opacity-3172.png', 'Lung_Opacity-3173.png', 'Lung_Opacity-3174.png', 'Lung_Opacity-3175.png', 'Lung_Opacity-3176.png', 'Lung_Opacity-3177.png', 'Lung_Opacity-3178.png', 'Lung_Opacity-3179.png', 'Lung_Opacity-318.png', 'Lung_Opacity-3180.png', 'Lung_Opacity-3181.png', 'Lung_Opacity-3182.png', 'Lung_Opacity-3183.png', 'Lung_Opacity-3184.png', 'Lung_Opacity-3185.png', 'Lung_Opacity-3186.png', 'Lung_Opacity-3187.png', 'Lung_Opacity-3188.png', 'Lung_Opacity-3189.png', 'Lung_Opacity-319.png', 'Lung_Opacity-3190.png', 'Lung_Opacity-3191.png', 'Lung_Opacity-3192.png', 'Lung_Opacity-3193.png', 'Lung_Opacity-3194.png', 'Lung_Opacity-3195.png', 'Lung_Opacity-3196.png', 'Lung_Opacity-3197.png', 'Lung_Opacity-3198.png', 'Lung_Opacity-3199.png', 'Lung_Opacity-32.png', 'Lung_Opacity-320.png', 'Lung_Opacity-3200.png', 'Lung_Opacity-3201.png', 'Lung_Opacity-3202.png', 'Lung_Opacity-3203.png', 'Lung_Opacity-3204.png', 'Lung_Opacity-3205.png', 'Lung_Opacity-3206.png', 'Lung_Opacity-3207.png', 'Lung_Opacity-3208.png', 'Lung_Opacity-3209.png', 'Lung_Opacity-321.png', 'Lung_Opacity-3210.png', 'Lung_Opacity-3211.png', 'Lung_Opacity-3212.png', 'Lung_Opacity-3213.png', 'Lung_Opacity-3214.png', 'Lung_Opacity-3215.png', 'Lung_Opacity-3216.png', 'Lung_Opacity-3217.png', 'Lung_Opacity-3218.png', 'Lung_Opacity-3219.png', 'Lung_Opacity-322.png', 'Lung_Opacity-3220.png', 'Lung_Opacity-3221.png', 'Lung_Opacity-3222.png', 'Lung_Opacity-3223.png', 'Lung_Opacity-3224.png', 'Lung_Opacity-3225.png', 'Lung_Opacity-3226.png', 'Lung_Opacity-3227.png', 'Lung_Opacity-3228.png', 'Lung_Opacity-3229.png', 'Lung_Opacity-323.png', 'Lung_Opacity-3230.png', 'Lung_Opacity-3231.png', 'Lung_Opacity-3232.png', 'Lung_Opacity-3233.png', 'Lung_Opacity-3234.png', 'Lung_Opacity-3235.png', 'Lung_Opacity-3236.png', 'Lung_Opacity-3237.png', 'Lung_Opacity-3238.png', 'Lung_Opacity-3239.png', 'Lung_Opacity-324.png', 'Lung_Opacity-3240.png', 'Lung_Opacity-3241.png', 'Lung_Opacity-3242.png', 'Lung_Opacity-3243.png', 'Lung_Opacity-3244.png', 'Lung_Opacity-3245.png', 'Lung_Opacity-3246.png', 'Lung_Opacity-3247.png', 'Lung_Opacity-3248.png', 'Lung_Opacity-3249.png', 'Lung_Opacity-325.png', 'Lung_Opacity-3250.png', 'Lung_Opacity-3251.png', 'Lung_Opacity-3252.png', 'Lung_Opacity-3253.png', 'Lung_Opacity-3254.png', 'Lung_Opacity-3255.png', 'Lung_Opacity-3256.png', 'Lung_Opacity-3257.png', 'Lung_Opacity-3258.png', 'Lung_Opacity-3259.png', 'Lung_Opacity-326.png', 'Lung_Opacity-3260.png', 'Lung_Opacity-3261.png', 'Lung_Opacity-3262.png', 'Lung_Opacity-3263.png', 'Lung_Opacity-3264.png', 'Lung_Opacity-3265.png', 'Lung_Opacity-3266.png', 'Lung_Opacity-3267.png', 'Lung_Opacity-3268.png', 'Lung_Opacity-3269.png', 'Lung_Opacity-327.png', 'Lung_Opacity-3270.png', 'Lung_Opacity-3271.png', 'Lung_Opacity-3272.png', 'Lung_Opacity-3273.png', 'Lung_Opacity-3274.png', 'Lung_Opacity-3275.png', 'Lung_Opacity-3276.png', 'Lung_Opacity-3277.png', 'Lung_Opacity-3278.png', 'Lung_Opacity-3279.png', 'Lung_Opacity-328.png', 'Lung_Opacity-3280.png', 'Lung_Opacity-3281.png', 'Lung_Opacity-3282.png', 'Lung_Opacity-3283.png', 'Lung_Opacity-3284.png', 'Lung_Opacity-3285.png', 'Lung_Opacity-3286.png', 'Lung_Opacity-3287.png', 'Lung_Opacity-3288.png', 'Lung_Opacity-3289.png', 'Lung_Opacity-329.png', 'Lung_Opacity-3290.png', 'Lung_Opacity-3291.png', 'Lung_Opacity-3292.png', 'Lung_Opacity-3293.png', 'Lung_Opacity-3294.png', 'Lung_Opacity-3295.png', 'Lung_Opacity-3296.png', 'Lung_Opacity-3297.png', 'Lung_Opacity-3298.png', 'Lung_Opacity-3299.png', 'Lung_Opacity-33.png', 'Lung_Opacity-330.png', 'Lung_Opacity-3300.png', 'Lung_Opacity-3301.png', 'Lung_Opacity-3302.png', 'Lung_Opacity-3303.png', 'Lung_Opacity-3304.png', 'Lung_Opacity-3305.png', 'Lung_Opacity-3306.png', 'Lung_Opacity-3307.png', 'Lung_Opacity-3308.png', 'Lung_Opacity-3309.png', 'Lung_Opacity-331.png', 'Lung_Opacity-3310.png', 'Lung_Opacity-3311.png', 'Lung_Opacity-3312.png', 'Lung_Opacity-3313.png', 'Lung_Opacity-3314.png', 'Lung_Opacity-3315.png', 'Lung_Opacity-3316.png', 'Lung_Opacity-3317.png', 'Lung_Opacity-3318.png', 'Lung_Opacity-3319.png', 'Lung_Opacity-332.png', 'Lung_Opacity-3320.png', 'Lung_Opacity-3321.png', 'Lung_Opacity-3322.png', 'Lung_Opacity-3323.png', 'Lung_Opacity-3324.png', 'Lung_Opacity-3325.png', 'Lung_Opacity-3326.png', 'Lung_Opacity-3327.png', 'Lung_Opacity-3328.png', 'Lung_Opacity-3329.png', 'Lung_Opacity-333.png', 'Lung_Opacity-3330.png', 'Lung_Opacity-3331.png', 'Lung_Opacity-3332.png', 'Lung_Opacity-3333.png', 'Lung_Opacity-3334.png', 'Lung_Opacity-3335.png', 'Lung_Opacity-3336.png', 'Lung_Opacity-3337.png', 'Lung_Opacity-3338.png', 'Lung_Opacity-3339.png', 'Lung_Opacity-334.png', 'Lung_Opacity-3340.png', 'Lung_Opacity-3341.png', 'Lung_Opacity-3342.png', 'Lung_Opacity-3343.png', 'Lung_Opacity-3344.png', 'Lung_Opacity-3345.png', 'Lung_Opacity-3346.png', 'Lung_Opacity-3347.png', 'Lung_Opacity-3348.png', 'Lung_Opacity-3349.png', 'Lung_Opacity-335.png', 'Lung_Opacity-3350.png', 'Lung_Opacity-3351.png', 'Lung_Opacity-3352.png', 'Lung_Opacity-3353.png', 'Lung_Opacity-3354.png', 'Lung_Opacity-3355.png', 'Lung_Opacity-3356.png', 'Lung_Opacity-3357.png', 'Lung_Opacity-3358.png', 'Lung_Opacity-3359.png', 'Lung_Opacity-336.png', 'Lung_Opacity-3360.png', 'Lung_Opacity-3361.png', 'Lung_Opacity-3362.png', 'Lung_Opacity-3363.png', 'Lung_Opacity-3364.png', 'Lung_Opacity-3365.png', 'Lung_Opacity-3366.png', 'Lung_Opacity-3367.png', 'Lung_Opacity-3368.png', 'Lung_Opacity-3369.png', 'Lung_Opacity-337.png', 'Lung_Opacity-3370.png', 'Lung_Opacity-3371.png', 'Lung_Opacity-3372.png', 'Lung_Opacity-3373.png', 'Lung_Opacity-3374.png', 'Lung_Opacity-3375.png', 'Lung_Opacity-3376.png', 'Lung_Opacity-3377.png', 'Lung_Opacity-3378.png', 'Lung_Opacity-3379.png', 'Lung_Opacity-338.png', 'Lung_Opacity-3380.png', 'Lung_Opacity-3381.png', 'Lung_Opacity-3382.png', 'Lung_Opacity-3383.png', 'Lung_Opacity-3384.png', 'Lung_Opacity-3385.png', 'Lung_Opacity-3386.png', 'Lung_Opacity-3387.png', 'Lung_Opacity-3388.png', 'Lung_Opacity-3389.png', 'Lung_Opacity-339.png', 'Lung_Opacity-3390.png', 'Lung_Opacity-3391.png', 'Lung_Opacity-3392.png', 'Lung_Opacity-3393.png', 'Lung_Opacity-3394.png', 'Lung_Opacity-3395.png', 'Lung_Opacity-3396.png', 'Lung_Opacity-3397.png', 'Lung_Opacity-3398.png', 'Lung_Opacity-3399.png', 'Lung_Opacity-34.png', 'Lung_Opacity-340.png', 'Lung_Opacity-3400.png', 'Lung_Opacity-3401.png', 'Lung_Opacity-3402.png', 'Lung_Opacity-3403.png', 'Lung_Opacity-3404.png', 'Lung_Opacity-3405.png', 'Lung_Opacity-3406.png', 'Lung_Opacity-3407.png', 'Lung_Opacity-3408.png', 'Lung_Opacity-3409.png', 'Lung_Opacity-341.png', 'Lung_Opacity-3410.png', 'Lung_Opacity-3411.png', 'Lung_Opacity-3412.png', 'Lung_Opacity-3413.png', 'Lung_Opacity-3414.png', 'Lung_Opacity-3415.png', 'Lung_Opacity-3416.png', 'Lung_Opacity-3417.png', 'Lung_Opacity-3418.png', 'Lung_Opacity-3419.png', 'Lung_Opacity-342.png', 'Lung_Opacity-3420.png', 'Lung_Opacity-3421.png', 'Lung_Opacity-3422.png', 'Lung_Opacity-3423.png', 'Lung_Opacity-3424.png', 'Lung_Opacity-3425.png', 'Lung_Opacity-3426.png', 'Lung_Opacity-3427.png', 'Lung_Opacity-3428.png', 'Lung_Opacity-3429.png', 'Lung_Opacity-343.png', 'Lung_Opacity-3430.png', 'Lung_Opacity-3431.png', 'Lung_Opacity-3432.png', 'Lung_Opacity-3433.png', 'Lung_Opacity-3434.png', 'Lung_Opacity-3435.png', 'Lung_Opacity-3436.png', 'Lung_Opacity-3437.png', 'Lung_Opacity-3438.png', 'Lung_Opacity-3439.png', 'Lung_Opacity-344.png', 'Lung_Opacity-3440.png', 'Lung_Opacity-3441.png', 'Lung_Opacity-3442.png', 'Lung_Opacity-3443.png', 'Lung_Opacity-3444.png', 'Lung_Opacity-3445.png', 'Lung_Opacity-3446.png', 'Lung_Opacity-3447.png', 'Lung_Opacity-3448.png', 'Lung_Opacity-3449.png', 'Lung_Opacity-345.png', 'Lung_Opacity-3450.png', 'Lung_Opacity-3451.png', 'Lung_Opacity-3452.png', 'Lung_Opacity-3453.png', 'Lung_Opacity-3454.png', 'Lung_Opacity-3455.png', 'Lung_Opacity-3456.png', 'Lung_Opacity-3457.png', 'Lung_Opacity-3458.png', 'Lung_Opacity-3459.png', 'Lung_Opacity-346.png', 'Lung_Opacity-3460.png', 'Lung_Opacity-3461.png', 'Lung_Opacity-3462.png', 'Lung_Opacity-3463.png', 'Lung_Opacity-3464.png', 'Lung_Opacity-3465.png', 'Lung_Opacity-3466.png', 'Lung_Opacity-3467.png', 'Lung_Opacity-3468.png', 'Lung_Opacity-3469.png', 'Lung_Opacity-347.png', 'Lung_Opacity-3470.png', 'Lung_Opacity-3471.png', 'Lung_Opacity-3472.png', 'Lung_Opacity-3473.png', 'Lung_Opacity-3474.png', 'Lung_Opacity-3475.png', 'Lung_Opacity-3476.png', 'Lung_Opacity-3477.png', 'Lung_Opacity-3478.png', 'Lung_Opacity-3479.png', 'Lung_Opacity-348.png', 'Lung_Opacity-3480.png', 'Lung_Opacity-3481.png', 'Lung_Opacity-3482.png', 'Lung_Opacity-3483.png', 'Lung_Opacity-3484.png', 'Lung_Opacity-3485.png', 'Lung_Opacity-3486.png', 'Lung_Opacity-3487.png', 'Lung_Opacity-3488.png', 'Lung_Opacity-3489.png', 'Lung_Opacity-349.png', 'Lung_Opacity-3490.png', 'Lung_Opacity-3491.png', 'Lung_Opacity-3492.png', 'Lung_Opacity-3493.png', 'Lung_Opacity-3494.png', 'Lung_Opacity-3495.png', 'Lung_Opacity-3496.png', 'Lung_Opacity-3497.png', 'Lung_Opacity-3498.png', 'Lung_Opacity-3499.png', 'Lung_Opacity-35.png', 'Lung_Opacity-350.png', 'Lung_Opacity-3500.png', 'Lung_Opacity-3501.png', 'Lung_Opacity-3502.png', 'Lung_Opacity-3503.png', 'Lung_Opacity-3504.png', 'Lung_Opacity-3505.png', 'Lung_Opacity-3506.png', 'Lung_Opacity-3507.png', 'Lung_Opacity-3508.png', 'Lung_Opacity-3509.png', 'Lung_Opacity-351.png', 'Lung_Opacity-3510.png', 'Lung_Opacity-3511.png', 'Lung_Opacity-3512.png', 'Lung_Opacity-3513.png', 'Lung_Opacity-3514.png', 'Lung_Opacity-3515.png', 'Lung_Opacity-3516.png', 'Lung_Opacity-3517.png', 'Lung_Opacity-3518.png', 'Lung_Opacity-3519.png', 'Lung_Opacity-352.png', 'Lung_Opacity-3520.png', 'Lung_Opacity-3521.png', 'Lung_Opacity-3522.png', 'Lung_Opacity-3523.png', 'Lung_Opacity-3524.png', 'Lung_Opacity-3525.png', 'Lung_Opacity-3526.png', 'Lung_Opacity-3527.png', 'Lung_Opacity-3528.png', 'Lung_Opacity-3529.png', 'Lung_Opacity-353.png', 'Lung_Opacity-3530.png', 'Lung_Opacity-3531.png', 'Lung_Opacity-3532.png', 'Lung_Opacity-3533.png', 'Lung_Opacity-3534.png', 'Lung_Opacity-3535.png', 'Lung_Opacity-3536.png', 'Lung_Opacity-3537.png', 'Lung_Opacity-3538.png', 'Lung_Opacity-3539.png', 'Lung_Opacity-354.png', 'Lung_Opacity-3540.png', 'Lung_Opacity-3541.png', 'Lung_Opacity-3542.png', 'Lung_Opacity-3543.png', 'Lung_Opacity-3544.png', 'Lung_Opacity-3545.png', 'Lung_Opacity-3546.png', 'Lung_Opacity-3547.png', 'Lung_Opacity-3548.png', 'Lung_Opacity-3549.png', 'Lung_Opacity-355.png', 'Lung_Opacity-3550.png', 'Lung_Opacity-3551.png', 'Lung_Opacity-3552.png', 'Lung_Opacity-3553.png', 'Lung_Opacity-3554.png', 'Lung_Opacity-3555.png', 'Lung_Opacity-3556.png', 'Lung_Opacity-3557.png', 'Lung_Opacity-3558.png', 'Lung_Opacity-3559.png', 'Lung_Opacity-356.png', 'Lung_Opacity-3560.png', 'Lung_Opacity-3561.png', 'Lung_Opacity-3562.png', 'Lung_Opacity-3563.png', 'Lung_Opacity-3564.png', 'Lung_Opacity-3565.png', 'Lung_Opacity-3566.png', 'Lung_Opacity-3567.png', 'Lung_Opacity-3568.png', 'Lung_Opacity-3569.png', 'Lung_Opacity-357.png', 'Lung_Opacity-3570.png', 'Lung_Opacity-3571.png', 'Lung_Opacity-3572.png', 'Lung_Opacity-3573.png', 'Lung_Opacity-3574.png', 'Lung_Opacity-3575.png', 'Lung_Opacity-3576.png', 'Lung_Opacity-3577.png', 'Lung_Opacity-3578.png', 'Lung_Opacity-3579.png', 'Lung_Opacity-358.png', 'Lung_Opacity-3580.png', 'Lung_Opacity-3581.png', 'Lung_Opacity-3582.png', 'Lung_Opacity-3583.png', 'Lung_Opacity-3584.png', 'Lung_Opacity-3585.png', 'Lung_Opacity-3586.png', 'Lung_Opacity-3587.png', 'Lung_Opacity-3588.png', 'Lung_Opacity-3589.png', 'Lung_Opacity-359.png', 'Lung_Opacity-3590.png', 'Lung_Opacity-3591.png', 'Lung_Opacity-3592.png', 'Lung_Opacity-3593.png', 'Lung_Opacity-3594.png', 'Lung_Opacity-3595.png', 'Lung_Opacity-3596.png', 'Lung_Opacity-3597.png', 'Lung_Opacity-3598.png', 'Lung_Opacity-3599.png', 'Lung_Opacity-36.png', 'Lung_Opacity-360.png', 'Lung_Opacity-3600.png', 'Lung_Opacity-3601.png', 'Lung_Opacity-3602.png', 'Lung_Opacity-3603.png', 'Lung_Opacity-3604.png', 'Lung_Opacity-3605.png', 'Lung_Opacity-3606.png', 'Lung_Opacity-3607.png', 'Lung_Opacity-3608.png', 'Lung_Opacity-3609.png', 'Lung_Opacity-361.png', 'Lung_Opacity-3610.png', 'Lung_Opacity-3611.png', 'Lung_Opacity-3612.png', 'Lung_Opacity-3613.png', 'Lung_Opacity-3614.png', 'Lung_Opacity-3615.png', 'Lung_Opacity-3616.png', 'Lung_Opacity-3617.png', 'Lung_Opacity-3618.png', 'Lung_Opacity-3619.png', 'Lung_Opacity-362.png', 'Lung_Opacity-3620.png', 'Lung_Opacity-3621.png', 'Lung_Opacity-3622.png', 'Lung_Opacity-3623.png', 'Lung_Opacity-3624.png', 'Lung_Opacity-3625.png', 'Lung_Opacity-3626.png', 'Lung_Opacity-3627.png', 'Lung_Opacity-3628.png', 'Lung_Opacity-3629.png', 'Lung_Opacity-363.png', 'Lung_Opacity-3630.png', 'Lung_Opacity-3631.png', 'Lung_Opacity-3632.png', 'Lung_Opacity-3633.png', 'Lung_Opacity-3634.png', 'Lung_Opacity-3635.png', 'Lung_Opacity-3636.png', 'Lung_Opacity-3637.png', 'Lung_Opacity-3638.png', 'Lung_Opacity-3639.png', 'Lung_Opacity-364.png', 'Lung_Opacity-3640.png', 'Lung_Opacity-3641.png', 'Lung_Opacity-3642.png', 'Lung_Opacity-3643.png', 'Lung_Opacity-3644.png', 'Lung_Opacity-3645.png', 'Lung_Opacity-3646.png', 'Lung_Opacity-3647.png', 'Lung_Opacity-3648.png', 'Lung_Opacity-3649.png', 'Lung_Opacity-365.png', 'Lung_Opacity-3650.png', 'Lung_Opacity-3651.png', 'Lung_Opacity-3652.png', 'Lung_Opacity-3653.png', 'Lung_Opacity-3654.png', 'Lung_Opacity-3655.png', 'Lung_Opacity-3656.png', 'Lung_Opacity-3657.png', 'Lung_Opacity-3658.png', 'Lung_Opacity-3659.png', 'Lung_Opacity-366.png', 'Lung_Opacity-3660.png', 'Lung_Opacity-3661.png', 'Lung_Opacity-3662.png', 'Lung_Opacity-3663.png', 'Lung_Opacity-3664.png', 'Lung_Opacity-3665.png', 'Lung_Opacity-3666.png', 'Lung_Opacity-3667.png', 'Lung_Opacity-3668.png', 'Lung_Opacity-3669.png', 'Lung_Opacity-367.png', 'Lung_Opacity-3670.png', 'Lung_Opacity-3671.png', 'Lung_Opacity-3672.png', 'Lung_Opacity-3673.png', 'Lung_Opacity-3674.png', 'Lung_Opacity-3675.png', 'Lung_Opacity-3676.png', 'Lung_Opacity-3677.png', 'Lung_Opacity-3678.png', 'Lung_Opacity-3679.png', 'Lung_Opacity-368.png', 'Lung_Opacity-3680.png', 'Lung_Opacity-3681.png', 'Lung_Opacity-3682.png', 'Lung_Opacity-3683.png', 'Lung_Opacity-3684.png', 'Lung_Opacity-3685.png', 'Lung_Opacity-3686.png', 'Lung_Opacity-3687.png', 'Lung_Opacity-3688.png', 'Lung_Opacity-3689.png', 'Lung_Opacity-369.png', 'Lung_Opacity-3690.png', 'Lung_Opacity-3691.png', 'Lung_Opacity-3692.png', 'Lung_Opacity-3693.png', 'Lung_Opacity-3694.png', 'Lung_Opacity-3695.png', 'Lung_Opacity-3696.png', 'Lung_Opacity-3697.png', 'Lung_Opacity-3698.png', 'Lung_Opacity-3699.png', 'Lung_Opacity-37.png', 'Lung_Opacity-370.png', 'Lung_Opacity-3700.png', 'Lung_Opacity-3701.png', 'Lung_Opacity-3702.png', 'Lung_Opacity-3703.png', 'Lung_Opacity-3704.png', 'Lung_Opacity-3705.png', 'Lung_Opacity-3706.png', 'Lung_Opacity-3707.png', 'Lung_Opacity-3708.png', 'Lung_Opacity-3709.png', 'Lung_Opacity-371.png', 'Lung_Opacity-3710.png', 'Lung_Opacity-3711.png', 'Lung_Opacity-3712.png', 'Lung_Opacity-3713.png', 'Lung_Opacity-3714.png', 'Lung_Opacity-3715.png', 'Lung_Opacity-3716.png', 'Lung_Opacity-3717.png', 'Lung_Opacity-3718.png', 'Lung_Opacity-3719.png', 'Lung_Opacity-372.png', 'Lung_Opacity-3720.png', 'Lung_Opacity-3721.png', 'Lung_Opacity-3722.png', 'Lung_Opacity-3723.png', 'Lung_Opacity-3724.png', 'Lung_Opacity-3725.png', 'Lung_Opacity-3726.png', 'Lung_Opacity-3727.png', 'Lung_Opacity-3728.png', 'Lung_Opacity-3729.png', 'Lung_Opacity-373.png', 'Lung_Opacity-3730.png', 'Lung_Opacity-3731.png', 'Lung_Opacity-3732.png', 'Lung_Opacity-3733.png', 'Lung_Opacity-3734.png', 'Lung_Opacity-3735.png', 'Lung_Opacity-3736.png', 'Lung_Opacity-3737.png', 'Lung_Opacity-3738.png', 'Lung_Opacity-3739.png', 'Lung_Opacity-374.png', 'Lung_Opacity-3740.png', 'Lung_Opacity-3741.png', 'Lung_Opacity-3742.png', 'Lung_Opacity-3743.png', 'Lung_Opacity-3744.png', 'Lung_Opacity-3745.png', 'Lung_Opacity-3746.png', 'Lung_Opacity-3747.png', 'Lung_Opacity-3748.png', 'Lung_Opacity-3749.png', 'Lung_Opacity-375.png', 'Lung_Opacity-3750.png', 'Lung_Opacity-3751.png', 'Lung_Opacity-3752.png', 'Lung_Opacity-3753.png', 'Lung_Opacity-3754.png', 'Lung_Opacity-3755.png', 'Lung_Opacity-3756.png', 'Lung_Opacity-3757.png', 'Lung_Opacity-3758.png', 'Lung_Opacity-3759.png', 'Lung_Opacity-376.png', 'Lung_Opacity-3760.png', 'Lung_Opacity-3761.png', 'Lung_Opacity-3762.png', 'Lung_Opacity-3763.png', 'Lung_Opacity-3764.png', 'Lung_Opacity-3765.png', 'Lung_Opacity-3766.png', 'Lung_Opacity-3767.png', 'Lung_Opacity-3768.png', 'Lung_Opacity-3769.png', 'Lung_Opacity-377.png', 'Lung_Opacity-3770.png', 'Lung_Opacity-3771.png', 'Lung_Opacity-3772.png', 'Lung_Opacity-3773.png', 'Lung_Opacity-3774.png', 'Lung_Opacity-3775.png', 'Lung_Opacity-3776.png', 'Lung_Opacity-3777.png', 'Lung_Opacity-3778.png', 'Lung_Opacity-3779.png', 'Lung_Opacity-378.png', 'Lung_Opacity-3780.png', 'Lung_Opacity-3781.png', 'Lung_Opacity-3782.png', 'Lung_Opacity-3783.png', 'Lung_Opacity-3784.png', 'Lung_Opacity-3785.png', 'Lung_Opacity-3786.png', 'Lung_Opacity-3787.png', 'Lung_Opacity-3788.png', 'Lung_Opacity-3789.png', 'Lung_Opacity-379.png', 'Lung_Opacity-3790.png', 'Lung_Opacity-3791.png', 'Lung_Opacity-3792.png', 'Lung_Opacity-3793.png', 'Lung_Opacity-3794.png', 'Lung_Opacity-3795.png', 'Lung_Opacity-3796.png', 'Lung_Opacity-3797.png', 'Lung_Opacity-3798.png', 'Lung_Opacity-3799.png', 'Lung_Opacity-38.png', 'Lung_Opacity-380.png', 'Lung_Opacity-3800.png', 'Lung_Opacity-3801.png', 'Lung_Opacity-3802.png', 'Lung_Opacity-3803.png', 'Lung_Opacity-3804.png', 'Lung_Opacity-3805.png', 'Lung_Opacity-3806.png', 'Lung_Opacity-3807.png', 'Lung_Opacity-3808.png', 'Lung_Opacity-3809.png', 'Lung_Opacity-381.png', 'Lung_Opacity-3810.png', 'Lung_Opacity-3811.png', 'Lung_Opacity-3812.png', 'Lung_Opacity-3813.png', 'Lung_Opacity-3814.png', 'Lung_Opacity-3815.png', 'Lung_Opacity-3816.png', 'Lung_Opacity-3817.png', 'Lung_Opacity-3818.png', 'Lung_Opacity-3819.png', 'Lung_Opacity-382.png', 'Lung_Opacity-3820.png', 'Lung_Opacity-3821.png', 'Lung_Opacity-3822.png', 'Lung_Opacity-3823.png', 'Lung_Opacity-3824.png', 'Lung_Opacity-3825.png', 'Lung_Opacity-3826.png', 'Lung_Opacity-3827.png', 'Lung_Opacity-3828.png', 'Lung_Opacity-3829.png', 'Lung_Opacity-383.png', 'Lung_Opacity-3830.png', 'Lung_Opacity-3831.png', 'Lung_Opacity-3832.png', 'Lung_Opacity-3833.png', 'Lung_Opacity-3834.png', 'Lung_Opacity-3835.png', 'Lung_Opacity-3836.png', 'Lung_Opacity-3837.png', 'Lung_Opacity-3838.png', 'Lung_Opacity-3839.png', 'Lung_Opacity-384.png', 'Lung_Opacity-3840.png', 'Lung_Opacity-3841.png', 'Lung_Opacity-3842.png', 'Lung_Opacity-3843.png', 'Lung_Opacity-3844.png', 'Lung_Opacity-3845.png', 'Lung_Opacity-3846.png', 'Lung_Opacity-3847.png', 'Lung_Opacity-3848.png', 'Lung_Opacity-3849.png', 'Lung_Opacity-385.png', 'Lung_Opacity-3850.png', 'Lung_Opacity-3851.png', 'Lung_Opacity-3852.png', 'Lung_Opacity-3853.png', 'Lung_Opacity-3854.png', 'Lung_Opacity-3855.png', 'Lung_Opacity-3856.png', 'Lung_Opacity-3857.png', 'Lung_Opacity-3858.png', 'Lung_Opacity-3859.png', 'Lung_Opacity-386.png', 'Lung_Opacity-3860.png', 'Lung_Opacity-3861.png', 'Lung_Opacity-3862.png', 'Lung_Opacity-3863.png', 'Lung_Opacity-3864.png', 'Lung_Opacity-3865.png', 'Lung_Opacity-3866.png', 'Lung_Opacity-3867.png', 'Lung_Opacity-3868.png', 'Lung_Opacity-3869.png', 'Lung_Opacity-387.png', 'Lung_Opacity-3870.png', 'Lung_Opacity-3871.png', 'Lung_Opacity-3872.png', 'Lung_Opacity-3873.png', 'Lung_Opacity-3874.png', 'Lung_Opacity-3875.png', 'Lung_Opacity-3876.png', 'Lung_Opacity-3877.png', 'Lung_Opacity-3878.png', 'Lung_Opacity-3879.png', 'Lung_Opacity-388.png', 'Lung_Opacity-3880.png', 'Lung_Opacity-3881.png', 'Lung_Opacity-3882.png', 'Lung_Opacity-3883.png', 'Lung_Opacity-3884.png', 'Lung_Opacity-3885.png', 'Lung_Opacity-3886.png', 'Lung_Opacity-3887.png', 'Lung_Opacity-3888.png', 'Lung_Opacity-3889.png', 'Lung_Opacity-389.png', 'Lung_Opacity-3890.png', 'Lung_Opacity-3891.png', 'Lung_Opacity-3892.png', 'Lung_Opacity-3893.png', 'Lung_Opacity-3894.png', 'Lung_Opacity-3895.png', 'Lung_Opacity-3896.png', 'Lung_Opacity-3897.png', 'Lung_Opacity-3898.png', 'Lung_Opacity-3899.png', 'Lung_Opacity-39.png', 'Lung_Opacity-390.png', 'Lung_Opacity-3900.png', 'Lung_Opacity-3901.png', 'Lung_Opacity-3902.png', 'Lung_Opacity-3903.png', 'Lung_Opacity-3904.png', 'Lung_Opacity-3905.png', 'Lung_Opacity-3906.png', 'Lung_Opacity-3907.png', 'Lung_Opacity-3908.png', 'Lung_Opacity-3909.png', 'Lung_Opacity-391.png', 'Lung_Opacity-3910.png', 'Lung_Opacity-3911.png', 'Lung_Opacity-3912.png', 'Lung_Opacity-3913.png', 'Lung_Opacity-3914.png', 'Lung_Opacity-3915.png', 'Lung_Opacity-3916.png', 'Lung_Opacity-3917.png', 'Lung_Opacity-3918.png', 'Lung_Opacity-3919.png', 'Lung_Opacity-392.png', 'Lung_Opacity-3920.png', 'Lung_Opacity-3921.png', 'Lung_Opacity-3922.png', 'Lung_Opacity-3923.png', 'Lung_Opacity-3924.png', 'Lung_Opacity-3925.png', 'Lung_Opacity-3926.png', 'Lung_Opacity-3927.png', 'Lung_Opacity-3928.png', 'Lung_Opacity-3929.png', 'Lung_Opacity-393.png', 'Lung_Opacity-3930.png', 'Lung_Opacity-3931.png', 'Lung_Opacity-3932.png', 'Lung_Opacity-3933.png', 'Lung_Opacity-3934.png', 'Lung_Opacity-3935.png', 'Lung_Opacity-3936.png', 'Lung_Opacity-3937.png', 'Lung_Opacity-3938.png', 'Lung_Opacity-3939.png', 'Lung_Opacity-394.png', 'Lung_Opacity-3940.png', 'Lung_Opacity-3941.png', 'Lung_Opacity-3942.png', 'Lung_Opacity-3943.png', 'Lung_Opacity-3944.png', 'Lung_Opacity-3945.png', 'Lung_Opacity-3946.png', 'Lung_Opacity-3947.png', 'Lung_Opacity-3948.png', 'Lung_Opacity-3949.png', 'Lung_Opacity-395.png', 'Lung_Opacity-3950.png', 'Lung_Opacity-3951.png', 'Lung_Opacity-3952.png', 'Lung_Opacity-3953.png', 'Lung_Opacity-3954.png', 'Lung_Opacity-3955.png', 'Lung_Opacity-3956.png', 'Lung_Opacity-3957.png', 'Lung_Opacity-3958.png', 'Lung_Opacity-3959.png', 'Lung_Opacity-396.png', 'Lung_Opacity-3960.png', 'Lung_Opacity-3961.png', 'Lung_Opacity-3962.png', 'Lung_Opacity-3963.png', 'Lung_Opacity-3964.png', 'Lung_Opacity-3965.png', 'Lung_Opacity-3966.png', 'Lung_Opacity-3967.png', 'Lung_Opacity-3968.png', 'Lung_Opacity-3969.png', 'Lung_Opacity-397.png', 'Lung_Opacity-3970.png', 'Lung_Opacity-3971.png', 'Lung_Opacity-3972.png', 'Lung_Opacity-3973.png', 'Lung_Opacity-3974.png', 'Lung_Opacity-3975.png', 'Lung_Opacity-3976.png', 'Lung_Opacity-3977.png', 'Lung_Opacity-3978.png', 'Lung_Opacity-3979.png', 'Lung_Opacity-398.png', 'Lung_Opacity-3980.png', 'Lung_Opacity-3981.png', 'Lung_Opacity-3982.png', 'Lung_Opacity-3983.png', 'Lung_Opacity-3984.png', 'Lung_Opacity-3985.png', 'Lung_Opacity-3986.png', 'Lung_Opacity-3987.png', 'Lung_Opacity-3988.png', 'Lung_Opacity-3989.png', 'Lung_Opacity-399.png', 'Lung_Opacity-3990.png', 'Lung_Opacity-3991.png', 'Lung_Opacity-3992.png', 'Lung_Opacity-3993.png', 'Lung_Opacity-3994.png', 'Lung_Opacity-3995.png', 'Lung_Opacity-3996.png', 'Lung_Opacity-3997.png', 'Lung_Opacity-3998.png', 'Lung_Opacity-3999.png', 'Lung_Opacity-4.png', 'Lung_Opacity-40.png', 'Lung_Opacity-400.png', 'Lung_Opacity-4000.png', 'Lung_Opacity-4001.png', 'Lung_Opacity-4002.png', 'Lung_Opacity-4003.png', 'Lung_Opacity-4004.png', 'Lung_Opacity-4005.png', 'Lung_Opacity-4006.png', 'Lung_Opacity-4007.png', 'Lung_Opacity-4008.png', 'Lung_Opacity-4009.png', 'Lung_Opacity-401.png', 'Lung_Opacity-4010.png', 'Lung_Opacity-4011.png', 'Lung_Opacity-4012.png', 'Lung_Opacity-4013.png', 'Lung_Opacity-4014.png', 'Lung_Opacity-4015.png', 'Lung_Opacity-4016.png', 'Lung_Opacity-4017.png', 'Lung_Opacity-4018.png', 'Lung_Opacity-4019.png', 'Lung_Opacity-402.png', 'Lung_Opacity-4020.png', 'Lung_Opacity-4021.png', 'Lung_Opacity-4022.png', 'Lung_Opacity-4023.png', 'Lung_Opacity-4024.png', 'Lung_Opacity-4025.png', 'Lung_Opacity-4026.png', 'Lung_Opacity-4027.png', 'Lung_Opacity-4028.png', 'Lung_Opacity-4029.png', 'Lung_Opacity-403.png', 'Lung_Opacity-4030.png', 'Lung_Opacity-4031.png', 'Lung_Opacity-4032.png', 'Lung_Opacity-4033.png', 'Lung_Opacity-4034.png', 'Lung_Opacity-4035.png', 'Lung_Opacity-4036.png', 'Lung_Opacity-4037.png', 'Lung_Opacity-4038.png', 'Lung_Opacity-4039.png', 'Lung_Opacity-404.png', 'Lung_Opacity-4040.png', 'Lung_Opacity-4041.png', 'Lung_Opacity-4042.png', 'Lung_Opacity-4043.png', 'Lung_Opacity-4044.png', 'Lung_Opacity-4045.png', 'Lung_Opacity-4046.png', 'Lung_Opacity-4047.png', 'Lung_Opacity-4048.png', 'Lung_Opacity-4049.png', 'Lung_Opacity-405.png', 'Lung_Opacity-4050.png', 'Lung_Opacity-4051.png', 'Lung_Opacity-4052.png', 'Lung_Opacity-4053.png', 'Lung_Opacity-4054.png', 'Lung_Opacity-4055.png', 'Lung_Opacity-4056.png', 'Lung_Opacity-4057.png', 'Lung_Opacity-4058.png', 'Lung_Opacity-4059.png', 'Lung_Opacity-406.png', 'Lung_Opacity-4060.png', 'Lung_Opacity-4061.png', 'Lung_Opacity-4062.png', 'Lung_Opacity-4063.png', 'Lung_Opacity-4064.png', 'Lung_Opacity-4065.png', 'Lung_Opacity-4066.png', 'Lung_Opacity-4067.png', 'Lung_Opacity-4068.png', 'Lung_Opacity-4069.png', 'Lung_Opacity-407.png', 'Lung_Opacity-4070.png', 'Lung_Opacity-4071.png', 'Lung_Opacity-4072.png', 'Lung_Opacity-4073.png', 'Lung_Opacity-4074.png', 'Lung_Opacity-4075.png', 'Lung_Opacity-4076.png', 'Lung_Opacity-4077.png', 'Lung_Opacity-4078.png', 'Lung_Opacity-4079.png', 'Lung_Opacity-408.png', 'Lung_Opacity-4080.png', 'Lung_Opacity-4081.png', 'Lung_Opacity-4082.png', 'Lung_Opacity-4083.png', 'Lung_Opacity-4084.png', 'Lung_Opacity-4085.png', 'Lung_Opacity-4086.png', 'Lung_Opacity-4087.png', 'Lung_Opacity-4088.png', 'Lung_Opacity-4089.png', 'Lung_Opacity-409.png', 'Lung_Opacity-4090.png', 'Lung_Opacity-4091.png', 'Lung_Opacity-4092.png', 'Lung_Opacity-4093.png', 'Lung_Opacity-4094.png', 'Lung_Opacity-4095.png', 'Lung_Opacity-4096.png', 'Lung_Opacity-4097.png', 'Lung_Opacity-4098.png', 'Lung_Opacity-4099.png', 'Lung_Opacity-41.png', 'Lung_Opacity-410.png', 'Lung_Opacity-4100.png', 'Lung_Opacity-4101.png', 'Lung_Opacity-4102.png', 'Lung_Opacity-4103.png', 'Lung_Opacity-4104.png', 'Lung_Opacity-4105.png', 'Lung_Opacity-4106.png', 'Lung_Opacity-4107.png', 'Lung_Opacity-4108.png', 'Lung_Opacity-4109.png', 'Lung_Opacity-411.png', 'Lung_Opacity-4110.png', 'Lung_Opacity-4111.png', 'Lung_Opacity-4112.png', 'Lung_Opacity-4113.png', 'Lung_Opacity-4114.png', 'Lung_Opacity-4115.png', 'Lung_Opacity-4116.png', 'Lung_Opacity-4117.png', 'Lung_Opacity-4118.png', 'Lung_Opacity-4119.png', 'Lung_Opacity-412.png', 'Lung_Opacity-4120.png', 'Lung_Opacity-4121.png', 'Lung_Opacity-4122.png', 'Lung_Opacity-4123.png', 'Lung_Opacity-4124.png', 'Lung_Opacity-4125.png', 'Lung_Opacity-4126.png', 'Lung_Opacity-4127.png', 'Lung_Opacity-4128.png', 'Lung_Opacity-4129.png', 'Lung_Opacity-413.png', 'Lung_Opacity-4130.png', 'Lung_Opacity-4131.png', 'Lung_Opacity-4132.png', 'Lung_Opacity-4133.png', 'Lung_Opacity-4134.png', 'Lung_Opacity-4135.png', 'Lung_Opacity-4136.png', 'Lung_Opacity-4137.png', 'Lung_Opacity-4138.png', 'Lung_Opacity-4139.png', 'Lung_Opacity-414.png', 'Lung_Opacity-4140.png', 'Lung_Opacity-4141.png', 'Lung_Opacity-4142.png', 'Lung_Opacity-4143.png', 'Lung_Opacity-4144.png', 'Lung_Opacity-4145.png', 'Lung_Opacity-4146.png', 'Lung_Opacity-4147.png', 'Lung_Opacity-4148.png', 'Lung_Opacity-4149.png', 'Lung_Opacity-415.png', 'Lung_Opacity-4150.png', 'Lung_Opacity-4151.png', 'Lung_Opacity-4152.png', 'Lung_Opacity-4153.png', 'Lung_Opacity-4154.png', 'Lung_Opacity-4155.png', 'Lung_Opacity-4156.png', 'Lung_Opacity-4157.png', 'Lung_Opacity-4158.png', 'Lung_Opacity-4159.png', 'Lung_Opacity-416.png', 'Lung_Opacity-4160.png', 'Lung_Opacity-4161.png', 'Lung_Opacity-4162.png', 'Lung_Opacity-4163.png', 'Lung_Opacity-4164.png', 'Lung_Opacity-4165.png', 'Lung_Opacity-4166.png', 'Lung_Opacity-4167.png', 'Lung_Opacity-4168.png', 'Lung_Opacity-4169.png', 'Lung_Opacity-417.png', 'Lung_Opacity-4170.png', 'Lung_Opacity-4171.png', 'Lung_Opacity-4172.png', 'Lung_Opacity-4173.png', 'Lung_Opacity-4174.png', 'Lung_Opacity-4175.png', 'Lung_Opacity-4176.png', 'Lung_Opacity-4177.png', 'Lung_Opacity-4178.png', 'Lung_Opacity-4179.png', 'Lung_Opacity-418.png', 'Lung_Opacity-4180.png', 'Lung_Opacity-4181.png', 'Lung_Opacity-4182.png', 'Lung_Opacity-4183.png', 'Lung_Opacity-4184.png', 'Lung_Opacity-4185.png', 'Lung_Opacity-4186.png', 'Lung_Opacity-4187.png', 'Lung_Opacity-4188.png', 'Lung_Opacity-4189.png', 'Lung_Opacity-419.png', 'Lung_Opacity-4190.png', 'Lung_Opacity-4191.png', 'Lung_Opacity-4192.png', 'Lung_Opacity-4193.png', 'Lung_Opacity-4194.png', 'Lung_Opacity-4195.png', 'Lung_Opacity-4196.png', 'Lung_Opacity-4197.png', 'Lung_Opacity-4198.png', 'Lung_Opacity-4199.png', 'Lung_Opacity-42.png', 'Lung_Opacity-420.png', 'Lung_Opacity-4200.png', 'Lung_Opacity-4201.png', 'Lung_Opacity-4202.png', 'Lung_Opacity-4203.png', 'Lung_Opacity-4204.png', 'Lung_Opacity-4205.png', 'Lung_Opacity-4206.png', 'Lung_Opacity-4207.png', 'Lung_Opacity-4208.png', 'Lung_Opacity-4209.png', 'Lung_Opacity-421.png', 'Lung_Opacity-4210.png', 'Lung_Opacity-4211.png', 'Lung_Opacity-4212.png', 'Lung_Opacity-4213.png', 'Lung_Opacity-4214.png', 'Lung_Opacity-4215.png', 'Lung_Opacity-4216.png', 'Lung_Opacity-4217.png', 'Lung_Opacity-4218.png', 'Lung_Opacity-4219.png', 'Lung_Opacity-422.png', 'Lung_Opacity-4220.png', 'Lung_Opacity-4221.png', 'Lung_Opacity-4222.png', 'Lung_Opacity-4223.png', 'Lung_Opacity-4224.png', 'Lung_Opacity-4225.png', 'Lung_Opacity-4226.png', 'Lung_Opacity-4227.png', 'Lung_Opacity-4228.png', 'Lung_Opacity-4229.png', 'Lung_Opacity-423.png', 'Lung_Opacity-4230.png', 'Lung_Opacity-4231.png', 'Lung_Opacity-4232.png', 'Lung_Opacity-4233.png', 'Lung_Opacity-4234.png', 'Lung_Opacity-4235.png', 'Lung_Opacity-4236.png', 'Lung_Opacity-4237.png', 'Lung_Opacity-4238.png', 'Lung_Opacity-4239.png', 'Lung_Opacity-424.png', 'Lung_Opacity-4240.png', 'Lung_Opacity-4241.png', 'Lung_Opacity-4242.png', 'Lung_Opacity-4243.png', 'Lung_Opacity-4244.png', 'Lung_Opacity-4245.png', 'Lung_Opacity-4246.png', 'Lung_Opacity-4247.png', 'Lung_Opacity-4248.png', 'Lung_Opacity-4249.png', 'Lung_Opacity-425.png', 'Lung_Opacity-4250.png', 'Lung_Opacity-4251.png', 'Lung_Opacity-4252.png', 'Lung_Opacity-4253.png', 'Lung_Opacity-4254.png', 'Lung_Opacity-4255.png', 'Lung_Opacity-4256.png', 'Lung_Opacity-4257.png', 'Lung_Opacity-4258.png', 'Lung_Opacity-4259.png', 'Lung_Opacity-426.png', 'Lung_Opacity-4260.png', 'Lung_Opacity-4261.png', 'Lung_Opacity-4262.png', 'Lung_Opacity-4263.png', 'Lung_Opacity-4264.png', 'Lung_Opacity-4265.png', 'Lung_Opacity-4266.png', 'Lung_Opacity-4267.png', 'Lung_Opacity-4268.png', 'Lung_Opacity-4269.png', 'Lung_Opacity-427.png', 'Lung_Opacity-4270.png', 'Lung_Opacity-4271.png', 'Lung_Opacity-4272.png', 'Lung_Opacity-4273.png', 'Lung_Opacity-4274.png', 'Lung_Opacity-4275.png', 'Lung_Opacity-4276.png', 'Lung_Opacity-4277.png', 'Lung_Opacity-4278.png', 'Lung_Opacity-4279.png', 'Lung_Opacity-428.png', 'Lung_Opacity-4280.png', 'Lung_Opacity-4281.png', 'Lung_Opacity-4282.png', 'Lung_Opacity-4283.png', 'Lung_Opacity-4284.png', 'Lung_Opacity-4285.png', 'Lung_Opacity-4286.png', 'Lung_Opacity-4287.png', 'Lung_Opacity-4288.png', 'Lung_Opacity-4289.png', 'Lung_Opacity-429.png', 'Lung_Opacity-4290.png', 'Lung_Opacity-4291.png', 'Lung_Opacity-4292.png', 'Lung_Opacity-4293.png', 'Lung_Opacity-4294.png', 'Lung_Opacity-4295.png', 'Lung_Opacity-4296.png', 'Lung_Opacity-4297.png', 'Lung_Opacity-4298.png', 'Lung_Opacity-4299.png', 'Lung_Opacity-43.png', 'Lung_Opacity-430.png', 'Lung_Opacity-4300.png', 'Lung_Opacity-4301.png', 'Lung_Opacity-4302.png', 'Lung_Opacity-4303.png', 'Lung_Opacity-4304.png', 'Lung_Opacity-4305.png', 'Lung_Opacity-4306.png', 'Lung_Opacity-4307.png', 'Lung_Opacity-4308.png', 'Lung_Opacity-4309.png', 'Lung_Opacity-431.png', 'Lung_Opacity-4310.png', 'Lung_Opacity-4311.png', 'Lung_Opacity-4312.png', 'Lung_Opacity-4313.png', 'Lung_Opacity-4314.png', 'Lung_Opacity-4315.png', 'Lung_Opacity-4316.png', 'Lung_Opacity-4317.png', 'Lung_Opacity-4318.png', 'Lung_Opacity-4319.png', 'Lung_Opacity-432.png', 'Lung_Opacity-4320.png', 'Lung_Opacity-4321.png', 'Lung_Opacity-4322.png', 'Lung_Opacity-4323.png', 'Lung_Opacity-4324.png', 'Lung_Opacity-4325.png', 'Lung_Opacity-4326.png', 'Lung_Opacity-4327.png', 'Lung_Opacity-4328.png', 'Lung_Opacity-4329.png', 'Lung_Opacity-433.png', 'Lung_Opacity-4330.png', 'Lung_Opacity-4331.png', 'Lung_Opacity-4332.png', 'Lung_Opacity-4333.png', 'Lung_Opacity-4334.png', 'Lung_Opacity-4335.png', 'Lung_Opacity-4336.png', 'Lung_Opacity-4337.png', 'Lung_Opacity-4338.png', 'Lung_Opacity-4339.png', 'Lung_Opacity-434.png', 'Lung_Opacity-4340.png', 'Lung_Opacity-4341.png', 'Lung_Opacity-4342.png', 'Lung_Opacity-4343.png', 'Lung_Opacity-4344.png', 'Lung_Opacity-4345.png', 'Lung_Opacity-4346.png', 'Lung_Opacity-4347.png', 'Lung_Opacity-4348.png', 'Lung_Opacity-4349.png', 'Lung_Opacity-435.png', 'Lung_Opacity-4350.png', 'Lung_Opacity-4351.png', 'Lung_Opacity-4352.png', 'Lung_Opacity-4353.png', 'Lung_Opacity-4354.png', 'Lung_Opacity-4355.png', 'Lung_Opacity-4356.png', 'Lung_Opacity-4357.png', 'Lung_Opacity-4358.png', 'Lung_Opacity-4359.png', 'Lung_Opacity-436.png', 'Lung_Opacity-4360.png', 'Lung_Opacity-4361.png', 'Lung_Opacity-4362.png', 'Lung_Opacity-4363.png', 'Lung_Opacity-4364.png', 'Lung_Opacity-4365.png', 'Lung_Opacity-4366.png', 'Lung_Opacity-4367.png', 'Lung_Opacity-4368.png', 'Lung_Opacity-4369.png', 'Lung_Opacity-437.png', 'Lung_Opacity-4370.png', 'Lung_Opacity-4371.png', 'Lung_Opacity-4372.png', 'Lung_Opacity-4373.png', 'Lung_Opacity-4374.png', 'Lung_Opacity-4375.png', 'Lung_Opacity-4376.png', 'Lung_Opacity-4377.png', 'Lung_Opacity-4378.png', 'Lung_Opacity-4379.png', 'Lung_Opacity-438.png', 'Lung_Opacity-4380.png', 'Lung_Opacity-4381.png', 'Lung_Opacity-4382.png', 'Lung_Opacity-4383.png', 'Lung_Opacity-4384.png', 'Lung_Opacity-4385.png', 'Lung_Opacity-4386.png', 'Lung_Opacity-4387.png', 'Lung_Opacity-4388.png', 'Lung_Opacity-4389.png', 'Lung_Opacity-439.png', 'Lung_Opacity-4390.png', 'Lung_Opacity-4391.png', 'Lung_Opacity-4392.png', 'Lung_Opacity-4393.png', 'Lung_Opacity-4394.png', 'Lung_Opacity-4395.png', 'Lung_Opacity-4396.png', 'Lung_Opacity-4397.png', 'Lung_Opacity-4398.png', 'Lung_Opacity-4399.png', 'Lung_Opacity-44.png', 'Lung_Opacity-440.png', 'Lung_Opacity-4400.png', 'Lung_Opacity-4401.png', 'Lung_Opacity-4402.png', 'Lung_Opacity-4403.png', 'Lung_Opacity-4404.png', 'Lung_Opacity-4405.png', 'Lung_Opacity-4406.png', 'Lung_Opacity-4407.png', 'Lung_Opacity-4408.png', 'Lung_Opacity-4409.png', 'Lung_Opacity-441.png', 'Lung_Opacity-4410.png', 'Lung_Opacity-4411.png', 'Lung_Opacity-4412.png', 'Lung_Opacity-4413.png', 'Lung_Opacity-4414.png', 'Lung_Opacity-4415.png', 'Lung_Opacity-4416.png', 'Lung_Opacity-4417.png', 'Lung_Opacity-4418.png', 'Lung_Opacity-4419.png', 'Lung_Opacity-442.png', 'Lung_Opacity-4420.png', 'Lung_Opacity-4421.png', 'Lung_Opacity-4422.png', 'Lung_Opacity-4423.png', 'Lung_Opacity-4424.png', 'Lung_Opacity-4425.png', 'Lung_Opacity-4426.png', 'Lung_Opacity-4427.png', 'Lung_Opacity-4428.png', 'Lung_Opacity-4429.png', 'Lung_Opacity-443.png', 'Lung_Opacity-4430.png', 'Lung_Opacity-4431.png', 'Lung_Opacity-4432.png', 'Lung_Opacity-4433.png', 'Lung_Opacity-4434.png', 'Lung_Opacity-4435.png', 'Lung_Opacity-4436.png', 'Lung_Opacity-4437.png', 'Lung_Opacity-4438.png', 'Lung_Opacity-4439.png', 'Lung_Opacity-444.png', 'Lung_Opacity-4440.png', 'Lung_Opacity-4441.png', 'Lung_Opacity-4442.png', 'Lung_Opacity-4443.png', 'Lung_Opacity-4444.png', 'Lung_Opacity-4445.png', 'Lung_Opacity-4446.png', 'Lung_Opacity-4447.png', 'Lung_Opacity-4448.png', 'Lung_Opacity-4449.png', 'Lung_Opacity-445.png', 'Lung_Opacity-4450.png', 'Lung_Opacity-4451.png', 'Lung_Opacity-4452.png', 'Lung_Opacity-4453.png', 'Lung_Opacity-4454.png', 'Lung_Opacity-4455.png', 'Lung_Opacity-4456.png', 'Lung_Opacity-4457.png', 'Lung_Opacity-4458.png', 'Lung_Opacity-4459.png', 'Lung_Opacity-446.png', 'Lung_Opacity-4460.png', 'Lung_Opacity-4461.png', 'Lung_Opacity-4462.png', 'Lung_Opacity-4463.png', 'Lung_Opacity-4464.png', 'Lung_Opacity-4465.png', 'Lung_Opacity-4466.png', 'Lung_Opacity-4467.png', 'Lung_Opacity-4468.png', 'Lung_Opacity-4469.png', 'Lung_Opacity-447.png', 'Lung_Opacity-4470.png', 'Lung_Opacity-4471.png', 'Lung_Opacity-4472.png', 'Lung_Opacity-4473.png', 'Lung_Opacity-4474.png', 'Lung_Opacity-4475.png', 'Lung_Opacity-4476.png', 'Lung_Opacity-4477.png', 'Lung_Opacity-4478.png', 'Lung_Opacity-4479.png', 'Lung_Opacity-448.png', 'Lung_Opacity-4480.png', 'Lung_Opacity-4481.png', 'Lung_Opacity-4482.png', 'Lung_Opacity-4483.png', 'Lung_Opacity-4484.png', 'Lung_Opacity-4485.png', 'Lung_Opacity-4486.png', 'Lung_Opacity-4487.png', 'Lung_Opacity-4488.png', 'Lung_Opacity-4489.png', 'Lung_Opacity-449.png', 'Lung_Opacity-4490.png', 'Lung_Opacity-4491.png', 'Lung_Opacity-4492.png', 'Lung_Opacity-4493.png', 'Lung_Opacity-4494.png', 'Lung_Opacity-4495.png', 'Lung_Opacity-4496.png', 'Lung_Opacity-4497.png', 'Lung_Opacity-4498.png', 'Lung_Opacity-4499.png', 'Lung_Opacity-45.png', 'Lung_Opacity-450.png', 'Lung_Opacity-4500.png', 'Lung_Opacity-4501.png', 'Lung_Opacity-4502.png', 'Lung_Opacity-4503.png', 'Lung_Opacity-4504.png', 'Lung_Opacity-4505.png', 'Lung_Opacity-4506.png', 'Lung_Opacity-4507.png', 'Lung_Opacity-4508.png', 'Lung_Opacity-4509.png', 'Lung_Opacity-451.png', 'Lung_Opacity-4510.png', 'Lung_Opacity-4511.png', 'Lung_Opacity-4512.png', 'Lung_Opacity-4513.png', 'Lung_Opacity-4514.png', 'Lung_Opacity-4515.png', 'Lung_Opacity-4516.png', 'Lung_Opacity-4517.png', 'Lung_Opacity-4518.png', 'Lung_Opacity-4519.png', 'Lung_Opacity-452.png', 'Lung_Opacity-4520.png', 'Lung_Opacity-4521.png', 'Lung_Opacity-4522.png', 'Lung_Opacity-4523.png', 'Lung_Opacity-4524.png', 'Lung_Opacity-4525.png', 'Lung_Opacity-4526.png', 'Lung_Opacity-4527.png', 'Lung_Opacity-4528.png', 'Lung_Opacity-4529.png', 'Lung_Opacity-453.png', 'Lung_Opacity-4530.png', 'Lung_Opacity-4531.png', 'Lung_Opacity-4532.png', 'Lung_Opacity-4533.png', 'Lung_Opacity-4534.png', 'Lung_Opacity-4535.png', 'Lung_Opacity-4536.png', 'Lung_Opacity-4537.png', 'Lung_Opacity-4538.png', 'Lung_Opacity-4539.png', 'Lung_Opacity-454.png', 'Lung_Opacity-4540.png', 'Lung_Opacity-4541.png', 'Lung_Opacity-4542.png', 'Lung_Opacity-4543.png', 'Lung_Opacity-4544.png', 'Lung_Opacity-4545.png', 'Lung_Opacity-4546.png', 'Lung_Opacity-4547.png', 'Lung_Opacity-4548.png', 'Lung_Opacity-4549.png', 'Lung_Opacity-455.png', 'Lung_Opacity-4550.png', 'Lung_Opacity-4551.png', 'Lung_Opacity-4552.png', 'Lung_Opacity-4553.png', 'Lung_Opacity-4554.png', 'Lung_Opacity-4555.png', 'Lung_Opacity-4556.png', 'Lung_Opacity-4557.png', 'Lung_Opacity-4558.png', 'Lung_Opacity-4559.png', 'Lung_Opacity-456.png', 'Lung_Opacity-4560.png', 'Lung_Opacity-4561.png', 'Lung_Opacity-4562.png', 'Lung_Opacity-4563.png', 'Lung_Opacity-4564.png', 'Lung_Opacity-4565.png', 'Lung_Opacity-4566.png', 'Lung_Opacity-4567.png', 'Lung_Opacity-4568.png', 'Lung_Opacity-4569.png', 'Lung_Opacity-457.png', 'Lung_Opacity-4570.png', 'Lung_Opacity-4571.png', 'Lung_Opacity-4572.png', 'Lung_Opacity-4573.png', 'Lung_Opacity-4574.png', 'Lung_Opacity-4575.png', 'Lung_Opacity-4576.png', 'Lung_Opacity-4577.png', 'Lung_Opacity-4578.png', 'Lung_Opacity-4579.png', 'Lung_Opacity-458.png', 'Lung_Opacity-4580.png', 'Lung_Opacity-4581.png', 'Lung_Opacity-4582.png', 'Lung_Opacity-4583.png', 'Lung_Opacity-4584.png', 'Lung_Opacity-4585.png', 'Lung_Opacity-4586.png', 'Lung_Opacity-4587.png', 'Lung_Opacity-4588.png', 'Lung_Opacity-4589.png', 'Lung_Opacity-459.png', 'Lung_Opacity-4590.png', 'Lung_Opacity-4591.png', 'Lung_Opacity-4592.png', 'Lung_Opacity-4593.png', 'Lung_Opacity-4594.png', 'Lung_Opacity-4595.png', 'Lung_Opacity-4596.png', 'Lung_Opacity-4597.png', 'Lung_Opacity-4598.png', 'Lung_Opacity-4599.png', 'Lung_Opacity-46.png', 'Lung_Opacity-460.png', 'Lung_Opacity-4600.png', 'Lung_Opacity-4601.png', 'Lung_Opacity-4602.png', 'Lung_Opacity-4603.png', 'Lung_Opacity-4604.png', 'Lung_Opacity-4605.png', 'Lung_Opacity-4606.png', 'Lung_Opacity-4607.png', 'Lung_Opacity-4608.png', 'Lung_Opacity-4609.png', 'Lung_Opacity-461.png', 'Lung_Opacity-4610.png', 'Lung_Opacity-4611.png', 'Lung_Opacity-4612.png', 'Lung_Opacity-4613.png', 'Lung_Opacity-4614.png', 'Lung_Opacity-4615.png', 'Lung_Opacity-4616.png', 'Lung_Opacity-4617.png', 'Lung_Opacity-4618.png', 'Lung_Opacity-4619.png', 'Lung_Opacity-462.png', 'Lung_Opacity-4620.png', 'Lung_Opacity-4621.png', 'Lung_Opacity-4622.png', 'Lung_Opacity-4623.png', 'Lung_Opacity-4624.png', 'Lung_Opacity-4625.png', 'Lung_Opacity-4626.png', 'Lung_Opacity-4627.png', 'Lung_Opacity-4628.png', 'Lung_Opacity-4629.png', 'Lung_Opacity-463.png', 'Lung_Opacity-4630.png', 'Lung_Opacity-4631.png', 'Lung_Opacity-4632.png', 'Lung_Opacity-4633.png', 'Lung_Opacity-4634.png', 'Lung_Opacity-4635.png', 'Lung_Opacity-4636.png', 'Lung_Opacity-4637.png', 'Lung_Opacity-4638.png', 'Lung_Opacity-4639.png', 'Lung_Opacity-464.png', 'Lung_Opacity-4640.png', 'Lung_Opacity-4641.png', 'Lung_Opacity-4642.png', 'Lung_Opacity-4643.png', 'Lung_Opacity-4644.png', 'Lung_Opacity-4645.png', 'Lung_Opacity-4646.png', 'Lung_Opacity-4647.png', 'Lung_Opacity-4648.png', 'Lung_Opacity-4649.png', 'Lung_Opacity-465.png', 'Lung_Opacity-4650.png', 'Lung_Opacity-4651.png', 'Lung_Opacity-4652.png', 'Lung_Opacity-4653.png', 'Lung_Opacity-4654.png', 'Lung_Opacity-4655.png', 'Lung_Opacity-4656.png', 'Lung_Opacity-4657.png', 'Lung_Opacity-4658.png', 'Lung_Opacity-4659.png', 'Lung_Opacity-466.png', 'Lung_Opacity-4660.png', 'Lung_Opacity-4661.png', 'Lung_Opacity-4662.png', 'Lung_Opacity-4663.png', 'Lung_Opacity-4664.png', 'Lung_Opacity-4665.png', 'Lung_Opacity-4666.png', 'Lung_Opacity-4667.png', 'Lung_Opacity-4668.png', 'Lung_Opacity-4669.png', 'Lung_Opacity-467.png', 'Lung_Opacity-4670.png', 'Lung_Opacity-4671.png', 'Lung_Opacity-4672.png', 'Lung_Opacity-4673.png', 'Lung_Opacity-4674.png', 'Lung_Opacity-4675.png', 'Lung_Opacity-4676.png', 'Lung_Opacity-4677.png', 'Lung_Opacity-4678.png', 'Lung_Opacity-4679.png', 'Lung_Opacity-468.png', 'Lung_Opacity-4680.png', 'Lung_Opacity-4681.png', 'Lung_Opacity-4682.png', 'Lung_Opacity-4683.png', 'Lung_Opacity-4684.png', 'Lung_Opacity-4685.png', 'Lung_Opacity-4686.png', 'Lung_Opacity-4687.png', 'Lung_Opacity-4688.png', 'Lung_Opacity-4689.png', 'Lung_Opacity-469.png', 'Lung_Opacity-4690.png', 'Lung_Opacity-4691.png', 'Lung_Opacity-4692.png', 'Lung_Opacity-4693.png', 'Lung_Opacity-4694.png', 'Lung_Opacity-4695.png', 'Lung_Opacity-4696.png', 'Lung_Opacity-4697.png', 'Lung_Opacity-4698.png', 'Lung_Opacity-4699.png', 'Lung_Opacity-47.png', 'Lung_Opacity-470.png', 'Lung_Opacity-4700.png', 'Lung_Opacity-4701.png', 'Lung_Opacity-4702.png', 'Lung_Opacity-4703.png', 'Lung_Opacity-4704.png', 'Lung_Opacity-4705.png', 'Lung_Opacity-4706.png', 'Lung_Opacity-4707.png', 'Lung_Opacity-4708.png', 'Lung_Opacity-4709.png', 'Lung_Opacity-471.png', 'Lung_Opacity-4710.png', 'Lung_Opacity-4711.png', 'Lung_Opacity-4712.png', 'Lung_Opacity-4713.png', 'Lung_Opacity-4714.png', 'Lung_Opacity-4715.png', 'Lung_Opacity-4716.png', 'Lung_Opacity-4717.png', 'Lung_Opacity-4718.png', 'Lung_Opacity-4719.png', 'Lung_Opacity-472.png', 'Lung_Opacity-4720.png', 'Lung_Opacity-4721.png', 'Lung_Opacity-4722.png', 'Lung_Opacity-4723.png', 'Lung_Opacity-4724.png', 'Lung_Opacity-4725.png', 'Lung_Opacity-4726.png', 'Lung_Opacity-4727.png', 'Lung_Opacity-4728.png', 'Lung_Opacity-4729.png', 'Lung_Opacity-473.png', 'Lung_Opacity-4730.png', 'Lung_Opacity-4731.png', 'Lung_Opacity-4732.png', 'Lung_Opacity-4733.png', 'Lung_Opacity-4734.png', 'Lung_Opacity-4735.png', 'Lung_Opacity-4736.png', 'Lung_Opacity-4737.png', 'Lung_Opacity-4738.png', 'Lung_Opacity-4739.png', 'Lung_Opacity-474.png', 'Lung_Opacity-4740.png', 'Lung_Opacity-4741.png', 'Lung_Opacity-4742.png', 'Lung_Opacity-4743.png', 'Lung_Opacity-4744.png', 'Lung_Opacity-4745.png', 'Lung_Opacity-4746.png', 'Lung_Opacity-4747.png', 'Lung_Opacity-4748.png', 'Lung_Opacity-4749.png', 'Lung_Opacity-475.png', 'Lung_Opacity-4750.png', 'Lung_Opacity-4751.png', 'Lung_Opacity-4752.png', 'Lung_Opacity-4753.png', 'Lung_Opacity-4754.png', 'Lung_Opacity-4755.png', 'Lung_Opacity-4756.png', 'Lung_Opacity-4757.png', 'Lung_Opacity-4758.png', 'Lung_Opacity-4759.png', 'Lung_Opacity-476.png', 'Lung_Opacity-4760.png', 'Lung_Opacity-4761.png', 'Lung_Opacity-4762.png', 'Lung_Opacity-4763.png', 'Lung_Opacity-4764.png', 'Lung_Opacity-4765.png', 'Lung_Opacity-4766.png', 'Lung_Opacity-4767.png', 'Lung_Opacity-4768.png', 'Lung_Opacity-4769.png', 'Lung_Opacity-477.png', 'Lung_Opacity-4770.png', 'Lung_Opacity-4771.png', 'Lung_Opacity-4772.png', 'Lung_Opacity-4773.png', 'Lung_Opacity-4774.png', 'Lung_Opacity-4775.png', 'Lung_Opacity-4776.png', 'Lung_Opacity-4777.png', 'Lung_Opacity-4778.png', 'Lung_Opacity-4779.png', 'Lung_Opacity-478.png', 'Lung_Opacity-4780.png', 'Lung_Opacity-4781.png', 'Lung_Opacity-4782.png', 'Lung_Opacity-4783.png', 'Lung_Opacity-4784.png', 'Lung_Opacity-4785.png', 'Lung_Opacity-4786.png', 'Lung_Opacity-4787.png', 'Lung_Opacity-4788.png', 'Lung_Opacity-4789.png', 'Lung_Opacity-479.png', 'Lung_Opacity-4790.png', 'Lung_Opacity-4791.png', 'Lung_Opacity-4792.png', 'Lung_Opacity-4793.png', 'Lung_Opacity-4794.png', 'Lung_Opacity-4795.png', 'Lung_Opacity-4796.png', 'Lung_Opacity-4797.png', 'Lung_Opacity-4798.png', 'Lung_Opacity-4799.png', 'Lung_Opacity-48.png', 'Lung_Opacity-480.png', 'Lung_Opacity-4800.png', 'Lung_Opacity-4801.png', 'Lung_Opacity-4802.png', 'Lung_Opacity-4803.png', 'Lung_Opacity-4804.png', 'Lung_Opacity-4805.png', 'Lung_Opacity-4806.png', 'Lung_Opacity-4807.png', 'Lung_Opacity-4808.png', 'Lung_Opacity-4809.png', 'Lung_Opacity-481.png', 'Lung_Opacity-4810.png', 'Lung_Opacity-4811.png', 'Lung_Opacity-4812.png', 'Lung_Opacity-4813.png', 'Lung_Opacity-4814.png', 'Lung_Opacity-4815.png', 'Lung_Opacity-4816.png', 'Lung_Opacity-4817.png', 'Lung_Opacity-4818.png', 'Lung_Opacity-4819.png', 'Lung_Opacity-482.png', 'Lung_Opacity-4820.png', 'Lung_Opacity-4821.png', 'Lung_Opacity-4822.png', 'Lung_Opacity-4823.png', 'Lung_Opacity-4824.png', 'Lung_Opacity-4825.png', 'Lung_Opacity-4826.png', 'Lung_Opacity-4827.png', 'Lung_Opacity-4828.png', 'Lung_Opacity-4829.png', 'Lung_Opacity-483.png', 'Lung_Opacity-4830.png', 'Lung_Opacity-4831.png', 'Lung_Opacity-4832.png', 'Lung_Opacity-4833.png', 'Lung_Opacity-4834.png', 'Lung_Opacity-4835.png', 'Lung_Opacity-4836.png', 'Lung_Opacity-4837.png', 'Lung_Opacity-4838.png', 'Lung_Opacity-4839.png', 'Lung_Opacity-484.png', 'Lung_Opacity-4840.png', 'Lung_Opacity-4841.png', 'Lung_Opacity-4842.png', 'Lung_Opacity-4843.png', 'Lung_Opacity-4844.png', 'Lung_Opacity-4845.png', 'Lung_Opacity-4846.png', 'Lung_Opacity-4847.png', 'Lung_Opacity-4848.png', 'Lung_Opacity-4849.png', 'Lung_Opacity-485.png', 'Lung_Opacity-4850.png', 'Lung_Opacity-4851.png', 'Lung_Opacity-4852.png', 'Lung_Opacity-4853.png', 'Lung_Opacity-4854.png', 'Lung_Opacity-4855.png', 'Lung_Opacity-4856.png', 'Lung_Opacity-4857.png', 'Lung_Opacity-4858.png', 'Lung_Opacity-4859.png', 'Lung_Opacity-486.png', 'Lung_Opacity-4860.png', 'Lung_Opacity-4861.png', 'Lung_Opacity-4862.png', 'Lung_Opacity-4863.png', 'Lung_Opacity-4864.png', 'Lung_Opacity-4865.png', 'Lung_Opacity-4866.png', 'Lung_Opacity-4867.png', 'Lung_Opacity-4868.png', 'Lung_Opacity-4869.png', 'Lung_Opacity-487.png', 'Lung_Opacity-4870.png', 'Lung_Opacity-4871.png', 'Lung_Opacity-4872.png', 'Lung_Opacity-4873.png', 'Lung_Opacity-4874.png', 'Lung_Opacity-4875.png', 'Lung_Opacity-4876.png', 'Lung_Opacity-4877.png', 'Lung_Opacity-4878.png', 'Lung_Opacity-4879.png', 'Lung_Opacity-488.png', 'Lung_Opacity-4880.png', 'Lung_Opacity-4881.png', 'Lung_Opacity-4882.png', 'Lung_Opacity-4883.png', 'Lung_Opacity-4884.png', 'Lung_Opacity-4885.png', 'Lung_Opacity-4886.png', 'Lung_Opacity-4887.png', 'Lung_Opacity-4888.png', 'Lung_Opacity-4889.png', 'Lung_Opacity-489.png', 'Lung_Opacity-4890.png', 'Lung_Opacity-4891.png', 'Lung_Opacity-4892.png', 'Lung_Opacity-4893.png', 'Lung_Opacity-4894.png', 'Lung_Opacity-4895.png', 'Lung_Opacity-4896.png', 'Lung_Opacity-4897.png', 'Lung_Opacity-4898.png', 'Lung_Opacity-4899.png', 'Lung_Opacity-49.png', 'Lung_Opacity-490.png', 'Lung_Opacity-4900.png', 'Lung_Opacity-4901.png', 'Lung_Opacity-4902.png', 'Lung_Opacity-4903.png', 'Lung_Opacity-4904.png', 'Lung_Opacity-4905.png', 'Lung_Opacity-4906.png', 'Lung_Opacity-4907.png', 'Lung_Opacity-4908.png', 'Lung_Opacity-4909.png', 'Lung_Opacity-491.png', 'Lung_Opacity-4910.png', 'Lung_Opacity-4911.png', 'Lung_Opacity-4912.png', 'Lung_Opacity-4913.png', 'Lung_Opacity-4914.png', 'Lung_Opacity-4915.png', 'Lung_Opacity-4916.png', 'Lung_Opacity-4917.png', 'Lung_Opacity-4918.png', 'Lung_Opacity-4919.png', 'Lung_Opacity-492.png', 'Lung_Opacity-4920.png', 'Lung_Opacity-4921.png', 'Lung_Opacity-4922.png', 'Lung_Opacity-4923.png', 'Lung_Opacity-4924.png', 'Lung_Opacity-4925.png', 'Lung_Opacity-4926.png', 'Lung_Opacity-4927.png', 'Lung_Opacity-4928.png', 'Lung_Opacity-4929.png', 'Lung_Opacity-493.png', 'Lung_Opacity-4930.png', 'Lung_Opacity-4931.png', 'Lung_Opacity-4932.png', 'Lung_Opacity-4933.png', 'Lung_Opacity-4934.png', 'Lung_Opacity-4935.png', 'Lung_Opacity-4936.png', 'Lung_Opacity-4937.png', 'Lung_Opacity-4938.png', 'Lung_Opacity-4939.png', 'Lung_Opacity-494.png', 'Lung_Opacity-4940.png', 'Lung_Opacity-4941.png', 'Lung_Opacity-4942.png', 'Lung_Opacity-4943.png', 'Lung_Opacity-4944.png', 'Lung_Opacity-4945.png', 'Lung_Opacity-4946.png', 'Lung_Opacity-4947.png', 'Lung_Opacity-4948.png', 'Lung_Opacity-4949.png', 'Lung_Opacity-495.png', 'Lung_Opacity-4950.png', 'Lung_Opacity-4951.png', 'Lung_Opacity-4952.png', 'Lung_Opacity-4953.png', 'Lung_Opacity-4954.png', 'Lung_Opacity-4955.png', 'Lung_Opacity-4956.png', 'Lung_Opacity-4957.png', 'Lung_Opacity-4958.png', 'Lung_Opacity-4959.png', 'Lung_Opacity-496.png', 'Lung_Opacity-4960.png', 'Lung_Opacity-4961.png', 'Lung_Opacity-4962.png', 'Lung_Opacity-4963.png', 'Lung_Opacity-4964.png', 'Lung_Opacity-4965.png', 'Lung_Opacity-4966.png', 'Lung_Opacity-4967.png', 'Lung_Opacity-4968.png', 'Lung_Opacity-4969.png', 'Lung_Opacity-497.png', 'Lung_Opacity-4970.png', 'Lung_Opacity-4971.png', 'Lung_Opacity-4972.png', 'Lung_Opacity-4973.png', 'Lung_Opacity-4974.png', 'Lung_Opacity-4975.png', 'Lung_Opacity-4976.png', 'Lung_Opacity-4977.png', 'Lung_Opacity-4978.png', 'Lung_Opacity-4979.png', 'Lung_Opacity-498.png', 'Lung_Opacity-4980.png', 'Lung_Opacity-4981.png', 'Lung_Opacity-4982.png', 'Lung_Opacity-4983.png', 'Lung_Opacity-4984.png', 'Lung_Opacity-4985.png', 'Lung_Opacity-4986.png', 'Lung_Opacity-4987.png', 'Lung_Opacity-4988.png', 'Lung_Opacity-4989.png', 'Lung_Opacity-499.png', 'Lung_Opacity-4990.png', 'Lung_Opacity-4991.png', 'Lung_Opacity-4992.png', 'Lung_Opacity-4993.png', 'Lung_Opacity-4994.png', 'Lung_Opacity-4995.png', 'Lung_Opacity-4996.png', 'Lung_Opacity-4997.png', 'Lung_Opacity-4998.png', 'Lung_Opacity-4999.png', 'Lung_Opacity-5.png', 'Lung_Opacity-50.png', 'Lung_Opacity-500.png', 'Lung_Opacity-5000.png', 'Lung_Opacity-5001.png', 'Lung_Opacity-5002.png', 'Lung_Opacity-5003.png', 'Lung_Opacity-5004.png', 'Lung_Opacity-5005.png', 'Lung_Opacity-5006.png', 'Lung_Opacity-5007.png', 'Lung_Opacity-5008.png', 'Lung_Opacity-5009.png', 'Lung_Opacity-501.png', 'Lung_Opacity-5010.png', 'Lung_Opacity-5011.png', 'Lung_Opacity-5012.png', 'Lung_Opacity-5013.png', 'Lung_Opacity-5014.png', 'Lung_Opacity-5015.png', 'Lung_Opacity-5016.png', 'Lung_Opacity-5017.png', 'Lung_Opacity-5018.png', 'Lung_Opacity-5019.png', 'Lung_Opacity-502.png', 'Lung_Opacity-5020.png', 'Lung_Opacity-5021.png', 'Lung_Opacity-5022.png', 'Lung_Opacity-5023.png', 'Lung_Opacity-5024.png', 'Lung_Opacity-5025.png', 'Lung_Opacity-5026.png', 'Lung_Opacity-5027.png', 'Lung_Opacity-5028.png', 'Lung_Opacity-5029.png', 'Lung_Opacity-503.png', 'Lung_Opacity-5030.png', 'Lung_Opacity-5031.png', 'Lung_Opacity-5032.png', 'Lung_Opacity-5033.png', 'Lung_Opacity-5034.png', 'Lung_Opacity-5035.png', 'Lung_Opacity-5036.png', 'Lung_Opacity-5037.png', 'Lung_Opacity-5038.png', 'Lung_Opacity-5039.png', 'Lung_Opacity-504.png', 'Lung_Opacity-5040.png', 'Lung_Opacity-5041.png', 'Lung_Opacity-5042.png', 'Lung_Opacity-5043.png', 'Lung_Opacity-5044.png', 'Lung_Opacity-5045.png', 'Lung_Opacity-5046.png', 'Lung_Opacity-5047.png', 'Lung_Opacity-5048.png', 'Lung_Opacity-5049.png', 'Lung_Opacity-505.png', 'Lung_Opacity-5050.png', 'Lung_Opacity-5051.png', 'Lung_Opacity-5052.png', 'Lung_Opacity-5053.png', 'Lung_Opacity-5054.png', 'Lung_Opacity-5055.png', 'Lung_Opacity-5056.png', 'Lung_Opacity-5057.png', 'Lung_Opacity-5058.png', 'Lung_Opacity-5059.png', 'Lung_Opacity-506.png', 'Lung_Opacity-5060.png', 'Lung_Opacity-5061.png', 'Lung_Opacity-5062.png', 'Lung_Opacity-5063.png', 'Lung_Opacity-5064.png', 'Lung_Opacity-5065.png', 'Lung_Opacity-5066.png', 'Lung_Opacity-5067.png', 'Lung_Opacity-5068.png', 'Lung_Opacity-5069.png', 'Lung_Opacity-507.png', 'Lung_Opacity-5070.png', 'Lung_Opacity-5071.png', 'Lung_Opacity-5072.png', 'Lung_Opacity-5073.png', 'Lung_Opacity-5074.png', 'Lung_Opacity-5075.png', 'Lung_Opacity-5076.png', 'Lung_Opacity-5077.png', 'Lung_Opacity-5078.png', 'Lung_Opacity-5079.png', 'Lung_Opacity-508.png', 'Lung_Opacity-5080.png', 'Lung_Opacity-5081.png', 'Lung_Opacity-5082.png', 'Lung_Opacity-5083.png', 'Lung_Opacity-5084.png', 'Lung_Opacity-5085.png', 'Lung_Opacity-5086.png', 'Lung_Opacity-5087.png', 'Lung_Opacity-5088.png', 'Lung_Opacity-5089.png', 'Lung_Opacity-509.png', 'Lung_Opacity-5090.png', 'Lung_Opacity-5091.png', 'Lung_Opacity-5092.png', 'Lung_Opacity-5093.png', 'Lung_Opacity-5094.png', 'Lung_Opacity-5095.png', 'Lung_Opacity-5096.png', 'Lung_Opacity-5097.png', 'Lung_Opacity-5098.png', 'Lung_Opacity-5099.png', 'Lung_Opacity-51.png', 'Lung_Opacity-510.png', 'Lung_Opacity-5100.png', 'Lung_Opacity-5101.png', 'Lung_Opacity-5102.png', 'Lung_Opacity-5103.png', 'Lung_Opacity-5104.png', 'Lung_Opacity-5105.png', 'Lung_Opacity-5106.png', 'Lung_Opacity-5107.png', 'Lung_Opacity-5108.png', 'Lung_Opacity-5109.png', 'Lung_Opacity-511.png', 'Lung_Opacity-5110.png', 'Lung_Opacity-5111.png', 'Lung_Opacity-5112.png', 'Lung_Opacity-5113.png', 'Lung_Opacity-5114.png', 'Lung_Opacity-5115.png', 'Lung_Opacity-5116.png', 'Lung_Opacity-5117.png', 'Lung_Opacity-5118.png', 'Lung_Opacity-5119.png', 'Lung_Opacity-512.png', 'Lung_Opacity-5120.png', 'Lung_Opacity-5121.png', 'Lung_Opacity-5122.png', 'Lung_Opacity-5123.png', 'Lung_Opacity-5124.png', 'Lung_Opacity-5125.png', 'Lung_Opacity-5126.png', 'Lung_Opacity-5127.png', 'Lung_Opacity-5128.png', 'Lung_Opacity-5129.png', 'Lung_Opacity-513.png', 'Lung_Opacity-5130.png', 'Lung_Opacity-5131.png', 'Lung_Opacity-5132.png', 'Lung_Opacity-5133.png', 'Lung_Opacity-5134.png', 'Lung_Opacity-5135.png', 'Lung_Opacity-5136.png', 'Lung_Opacity-5137.png', 'Lung_Opacity-5138.png', 'Lung_Opacity-5139.png', 'Lung_Opacity-514.png', 'Lung_Opacity-5140.png', 'Lung_Opacity-5141.png', 'Lung_Opacity-5142.png', 'Lung_Opacity-5143.png', 'Lung_Opacity-5144.png', 'Lung_Opacity-5145.png', 'Lung_Opacity-5146.png', 'Lung_Opacity-5147.png', 'Lung_Opacity-5148.png', 'Lung_Opacity-5149.png', 'Lung_Opacity-515.png', 'Lung_Opacity-5150.png', 'Lung_Opacity-5151.png', 'Lung_Opacity-5152.png', 'Lung_Opacity-5153.png', 'Lung_Opacity-5154.png', 'Lung_Opacity-5155.png', 'Lung_Opacity-5156.png', 'Lung_Opacity-5157.png', 'Lung_Opacity-5158.png', 'Lung_Opacity-5159.png', 'Lung_Opacity-516.png', 'Lung_Opacity-5160.png', 'Lung_Opacity-5161.png', 'Lung_Opacity-5162.png', 'Lung_Opacity-5163.png', 'Lung_Opacity-5164.png', 'Lung_Opacity-5165.png', 'Lung_Opacity-5166.png', 'Lung_Opacity-5167.png', 'Lung_Opacity-5168.png', 'Lung_Opacity-5169.png', 'Lung_Opacity-517.png', 'Lung_Opacity-5170.png', 'Lung_Opacity-5171.png', 'Lung_Opacity-5172.png', 'Lung_Opacity-5173.png', 'Lung_Opacity-5174.png', 'Lung_Opacity-5175.png', 'Lung_Opacity-5176.png', 'Lung_Opacity-5177.png', 'Lung_Opacity-5178.png', 'Lung_Opacity-5179.png', 'Lung_Opacity-518.png', 'Lung_Opacity-5180.png', 'Lung_Opacity-5181.png', 'Lung_Opacity-5182.png', 'Lung_Opacity-5183.png', 'Lung_Opacity-5184.png', 'Lung_Opacity-5185.png', 'Lung_Opacity-5186.png', 'Lung_Opacity-5187.png', 'Lung_Opacity-5188.png', 'Lung_Opacity-5189.png', 'Lung_Opacity-519.png', 'Lung_Opacity-5190.png', 'Lung_Opacity-5191.png', 'Lung_Opacity-5192.png', 'Lung_Opacity-5193.png', 'Lung_Opacity-5194.png', 'Lung_Opacity-5195.png', 'Lung_Opacity-5196.png', 'Lung_Opacity-5197.png', 'Lung_Opacity-5198.png', 'Lung_Opacity-5199.png', 'Lung_Opacity-52.png', 'Lung_Opacity-520.png', 'Lung_Opacity-5200.png', 'Lung_Opacity-5201.png', 'Lung_Opacity-5202.png', 'Lung_Opacity-5203.png', 'Lung_Opacity-5204.png', 'Lung_Opacity-5205.png', 'Lung_Opacity-5206.png', 'Lung_Opacity-5207.png', 'Lung_Opacity-5208.png', 'Lung_Opacity-5209.png', 'Lung_Opacity-521.png', 'Lung_Opacity-5210.png', 'Lung_Opacity-5211.png', 'Lung_Opacity-5212.png', 'Lung_Opacity-5213.png', 'Lung_Opacity-5214.png', 'Lung_Opacity-5215.png', 'Lung_Opacity-5216.png', 'Lung_Opacity-5217.png', 'Lung_Opacity-5218.png', 'Lung_Opacity-5219.png', 'Lung_Opacity-522.png', 'Lung_Opacity-5220.png', 'Lung_Opacity-5221.png', 'Lung_Opacity-5222.png', 'Lung_Opacity-5223.png', 'Lung_Opacity-5224.png', 'Lung_Opacity-5225.png', 'Lung_Opacity-5226.png', 'Lung_Opacity-5227.png', 'Lung_Opacity-5228.png', 'Lung_Opacity-5229.png', 'Lung_Opacity-523.png', 'Lung_Opacity-5230.png', 'Lung_Opacity-5231.png', 'Lung_Opacity-5232.png', 'Lung_Opacity-5233.png', 'Lung_Opacity-5234.png', 'Lung_Opacity-5235.png', 'Lung_Opacity-5236.png', 'Lung_Opacity-5237.png', 'Lung_Opacity-5238.png', 'Lung_Opacity-5239.png', 'Lung_Opacity-524.png', 'Lung_Opacity-5240.png', 'Lung_Opacity-5241.png', 'Lung_Opacity-5242.png', 'Lung_Opacity-5243.png', 'Lung_Opacity-5244.png', 'Lung_Opacity-5245.png', 'Lung_Opacity-5246.png', 'Lung_Opacity-5247.png', 'Lung_Opacity-5248.png', 'Lung_Opacity-5249.png', 'Lung_Opacity-525.png', 'Lung_Opacity-5250.png', 'Lung_Opacity-5251.png', 'Lung_Opacity-5252.png', 'Lung_Opacity-5253.png', 'Lung_Opacity-5254.png', 'Lung_Opacity-5255.png', 'Lung_Opacity-5256.png', 'Lung_Opacity-5257.png', 'Lung_Opacity-5258.png', 'Lung_Opacity-5259.png', 'Lung_Opacity-526.png', 'Lung_Opacity-5260.png', 'Lung_Opacity-5261.png', 'Lung_Opacity-5262.png', 'Lung_Opacity-5263.png', 'Lung_Opacity-5264.png', 'Lung_Opacity-5265.png', 'Lung_Opacity-5266.png', 'Lung_Opacity-5267.png', 'Lung_Opacity-5268.png', 'Lung_Opacity-5269.png', 'Lung_Opacity-527.png', 'Lung_Opacity-5270.png', 'Lung_Opacity-5271.png', 'Lung_Opacity-5272.png', 'Lung_Opacity-5273.png', 'Lung_Opacity-5274.png', 'Lung_Opacity-5275.png', 'Lung_Opacity-5276.png', 'Lung_Opacity-5277.png', 'Lung_Opacity-5278.png', 'Lung_Opacity-5279.png', 'Lung_Opacity-528.png', 'Lung_Opacity-5280.png', 'Lung_Opacity-5281.png', 'Lung_Opacity-5282.png', 'Lung_Opacity-5283.png', 'Lung_Opacity-5284.png', 'Lung_Opacity-5285.png', 'Lung_Opacity-5286.png', 'Lung_Opacity-5287.png', 'Lung_Opacity-5288.png', 'Lung_Opacity-5289.png', 'Lung_Opacity-529.png', 'Lung_Opacity-5290.png', 'Lung_Opacity-5291.png', 'Lung_Opacity-5292.png', 'Lung_Opacity-5293.png', 'Lung_Opacity-5294.png', 'Lung_Opacity-5295.png', 'Lung_Opacity-5296.png', 'Lung_Opacity-5297.png', 'Lung_Opacity-5298.png', 'Lung_Opacity-5299.png', 'Lung_Opacity-53.png', 'Lung_Opacity-530.png', 'Lung_Opacity-5300.png', 'Lung_Opacity-5301.png', 'Lung_Opacity-5302.png', 'Lung_Opacity-5303.png', 'Lung_Opacity-5304.png', 'Lung_Opacity-5305.png', 'Lung_Opacity-5306.png', 'Lung_Opacity-5307.png', 'Lung_Opacity-5308.png', 'Lung_Opacity-5309.png', 'Lung_Opacity-531.png', 'Lung_Opacity-5310.png', 'Lung_Opacity-5311.png', 'Lung_Opacity-5312.png', 'Lung_Opacity-5313.png', 'Lung_Opacity-5314.png', 'Lung_Opacity-5315.png', 'Lung_Opacity-5316.png', 'Lung_Opacity-5317.png', 'Lung_Opacity-5318.png', 'Lung_Opacity-5319.png', 'Lung_Opacity-532.png', 'Lung_Opacity-5320.png', 'Lung_Opacity-5321.png', 'Lung_Opacity-5322.png', 'Lung_Opacity-5323.png', 'Lung_Opacity-5324.png', 'Lung_Opacity-5325.png', 'Lung_Opacity-5326.png', 'Lung_Opacity-5327.png', 'Lung_Opacity-5328.png', 'Lung_Opacity-5329.png', 'Lung_Opacity-533.png', 'Lung_Opacity-5330.png', 'Lung_Opacity-5331.png', 'Lung_Opacity-5332.png', 'Lung_Opacity-5333.png', 'Lung_Opacity-5334.png', 'Lung_Opacity-5335.png', 'Lung_Opacity-5336.png', 'Lung_Opacity-5337.png', 'Lung_Opacity-5338.png', 'Lung_Opacity-5339.png', 'Lung_Opacity-534.png', 'Lung_Opacity-5340.png', 'Lung_Opacity-5341.png', 'Lung_Opacity-5342.png', 'Lung_Opacity-5343.png', 'Lung_Opacity-5344.png', 'Lung_Opacity-5345.png', 'Lung_Opacity-5346.png', 'Lung_Opacity-5347.png', 'Lung_Opacity-5348.png', 'Lung_Opacity-5349.png', 'Lung_Opacity-535.png', 'Lung_Opacity-5350.png', 'Lung_Opacity-5351.png', 'Lung_Opacity-5352.png', 'Lung_Opacity-5353.png', 'Lung_Opacity-5354.png', 'Lung_Opacity-5355.png', 'Lung_Opacity-5356.png', 'Lung_Opacity-5357.png', 'Lung_Opacity-5358.png', 'Lung_Opacity-5359.png', 'Lung_Opacity-536.png', 'Lung_Opacity-5360.png', 'Lung_Opacity-5361.png', 'Lung_Opacity-5362.png', 'Lung_Opacity-5363.png', 'Lung_Opacity-5364.png', 'Lung_Opacity-5365.png', 'Lung_Opacity-5366.png', 'Lung_Opacity-5367.png', 'Lung_Opacity-5368.png', 'Lung_Opacity-5369.png', 'Lung_Opacity-537.png', 'Lung_Opacity-5370.png', 'Lung_Opacity-5371.png', 'Lung_Opacity-5372.png', 'Lung_Opacity-5373.png', 'Lung_Opacity-5374.png', 'Lung_Opacity-5375.png', 'Lung_Opacity-5376.png', 'Lung_Opacity-5377.png', 'Lung_Opacity-5378.png', 'Lung_Opacity-5379.png', 'Lung_Opacity-538.png', 'Lung_Opacity-5380.png', 'Lung_Opacity-5381.png', 'Lung_Opacity-5382.png', 'Lung_Opacity-5383.png', 'Lung_Opacity-5384.png', 'Lung_Opacity-5385.png', 'Lung_Opacity-5386.png', 'Lung_Opacity-5387.png', 'Lung_Opacity-5388.png', 'Lung_Opacity-5389.png', 'Lung_Opacity-539.png', 'Lung_Opacity-5390.png', 'Lung_Opacity-5391.png', 'Lung_Opacity-5392.png', 'Lung_Opacity-5393.png', 'Lung_Opacity-5394.png', 'Lung_Opacity-5395.png', 'Lung_Opacity-5396.png', 'Lung_Opacity-5397.png', 'Lung_Opacity-5398.png', 'Lung_Opacity-5399.png', 'Lung_Opacity-54.png', 'Lung_Opacity-540.png', 'Lung_Opacity-5400.png', 'Lung_Opacity-5401.png', 'Lung_Opacity-5402.png', 'Lung_Opacity-5403.png', 'Lung_Opacity-5404.png', 'Lung_Opacity-5405.png', 'Lung_Opacity-5406.png', 'Lung_Opacity-5407.png', 'Lung_Opacity-5408.png', 'Lung_Opacity-5409.png', 'Lung_Opacity-541.png', 'Lung_Opacity-5410.png', 'Lung_Opacity-5411.png', 'Lung_Opacity-5412.png', 'Lung_Opacity-5413.png', 'Lung_Opacity-5414.png', 'Lung_Opacity-5415.png', 'Lung_Opacity-5416.png', 'Lung_Opacity-5417.png', 'Lung_Opacity-5418.png', 'Lung_Opacity-5419.png', 'Lung_Opacity-542.png', 'Lung_Opacity-5420.png', 'Lung_Opacity-5421.png', 'Lung_Opacity-5422.png', 'Lung_Opacity-5423.png', 'Lung_Opacity-5424.png', 'Lung_Opacity-5425.png', 'Lung_Opacity-5426.png', 'Lung_Opacity-5427.png', 'Lung_Opacity-5428.png', 'Lung_Opacity-5429.png', 'Lung_Opacity-543.png', 'Lung_Opacity-5430.png', 'Lung_Opacity-5431.png', 'Lung_Opacity-5432.png', 'Lung_Opacity-5433.png', 'Lung_Opacity-5434.png', 'Lung_Opacity-5435.png', 'Lung_Opacity-5436.png', 'Lung_Opacity-5437.png', 'Lung_Opacity-5438.png', 'Lung_Opacity-5439.png', 'Lung_Opacity-544.png', 'Lung_Opacity-5440.png', 'Lung_Opacity-5441.png', 'Lung_Opacity-5442.png', 'Lung_Opacity-5443.png', 'Lung_Opacity-5444.png', 'Lung_Opacity-5445.png', 'Lung_Opacity-5446.png', 'Lung_Opacity-5447.png', 'Lung_Opacity-5448.png', 'Lung_Opacity-5449.png', 'Lung_Opacity-545.png', 'Lung_Opacity-5450.png', 'Lung_Opacity-5451.png', 'Lung_Opacity-5452.png', 'Lung_Opacity-5453.png', 'Lung_Opacity-5454.png', 'Lung_Opacity-5455.png', 'Lung_Opacity-5456.png', 'Lung_Opacity-5457.png', 'Lung_Opacity-5458.png', 'Lung_Opacity-5459.png', 'Lung_Opacity-546.png', 'Lung_Opacity-5460.png', 'Lung_Opacity-5461.png', 'Lung_Opacity-5462.png', 'Lung_Opacity-5463.png', 'Lung_Opacity-5464.png', 'Lung_Opacity-5465.png', 'Lung_Opacity-5466.png', 'Lung_Opacity-5467.png', 'Lung_Opacity-5468.png', 'Lung_Opacity-5469.png', 'Lung_Opacity-547.png', 'Lung_Opacity-5470.png', 'Lung_Opacity-5471.png', 'Lung_Opacity-5472.png', 'Lung_Opacity-5473.png', 'Lung_Opacity-5474.png', 'Lung_Opacity-5475.png', 'Lung_Opacity-5476.png', 'Lung_Opacity-5477.png', 'Lung_Opacity-5478.png', 'Lung_Opacity-5479.png', 'Lung_Opacity-548.png', 'Lung_Opacity-5480.png', 'Lung_Opacity-5481.png', 'Lung_Opacity-5482.png', 'Lung_Opacity-5483.png', 'Lung_Opacity-5484.png', 'Lung_Opacity-5485.png', 'Lung_Opacity-5486.png', 'Lung_Opacity-5487.png', 'Lung_Opacity-5488.png', 'Lung_Opacity-5489.png', 'Lung_Opacity-549.png', 'Lung_Opacity-5490.png', 'Lung_Opacity-5491.png', 'Lung_Opacity-5492.png', 'Lung_Opacity-5493.png', 'Lung_Opacity-5494.png', 'Lung_Opacity-5495.png', 'Lung_Opacity-5496.png', 'Lung_Opacity-5497.png', 'Lung_Opacity-5498.png', 'Lung_Opacity-5499.png', 'Lung_Opacity-55.png', 'Lung_Opacity-550.png', 'Lung_Opacity-5500.png', 'Lung_Opacity-5501.png', 'Lung_Opacity-5502.png', 'Lung_Opacity-5503.png', 'Lung_Opacity-5504.png', 'Lung_Opacity-5505.png', 'Lung_Opacity-5506.png', 'Lung_Opacity-5507.png', 'Lung_Opacity-5508.png', 'Lung_Opacity-5509.png', 'Lung_Opacity-551.png', 'Lung_Opacity-5510.png', 'Lung_Opacity-5511.png', 'Lung_Opacity-5512.png', 'Lung_Opacity-5513.png', 'Lung_Opacity-5514.png', 'Lung_Opacity-5515.png', 'Lung_Opacity-5516.png', 'Lung_Opacity-5517.png', 'Lung_Opacity-5518.png', 'Lung_Opacity-5519.png', 'Lung_Opacity-552.png', 'Lung_Opacity-5520.png', 'Lung_Opacity-5521.png', 'Lung_Opacity-5522.png', 'Lung_Opacity-5523.png', 'Lung_Opacity-5524.png', 'Lung_Opacity-5525.png', 'Lung_Opacity-5526.png', 'Lung_Opacity-5527.png', 'Lung_Opacity-5528.png', 'Lung_Opacity-5529.png', 'Lung_Opacity-553.png', 'Lung_Opacity-5530.png', 'Lung_Opacity-5531.png', 'Lung_Opacity-5532.png', 'Lung_Opacity-5533.png', 'Lung_Opacity-5534.png', 'Lung_Opacity-5535.png', 'Lung_Opacity-5536.png', 'Lung_Opacity-5537.png', 'Lung_Opacity-5538.png', 'Lung_Opacity-5539.png', 'Lung_Opacity-554.png', 'Lung_Opacity-5540.png', 'Lung_Opacity-5541.png', 'Lung_Opacity-5542.png', 'Lung_Opacity-5543.png', 'Lung_Opacity-5544.png', 'Lung_Opacity-5545.png', 'Lung_Opacity-5546.png', 'Lung_Opacity-5547.png', 'Lung_Opacity-5548.png', 'Lung_Opacity-5549.png', 'Lung_Opacity-555.png', 'Lung_Opacity-5550.png', 'Lung_Opacity-5551.png', 'Lung_Opacity-5552.png', 'Lung_Opacity-5553.png', 'Lung_Opacity-5554.png', 'Lung_Opacity-5555.png', 'Lung_Opacity-5556.png', 'Lung_Opacity-5557.png', 'Lung_Opacity-5558.png', 'Lung_Opacity-5559.png', 'Lung_Opacity-556.png', 'Lung_Opacity-5560.png', 'Lung_Opacity-5561.png', 'Lung_Opacity-5562.png', 'Lung_Opacity-5563.png', 'Lung_Opacity-5564.png', 'Lung_Opacity-5565.png', 'Lung_Opacity-5566.png', 'Lung_Opacity-5567.png', 'Lung_Opacity-5568.png', 'Lung_Opacity-5569.png', 'Lung_Opacity-557.png', 'Lung_Opacity-5570.png', 'Lung_Opacity-5571.png', 'Lung_Opacity-5572.png', 'Lung_Opacity-5573.png', 'Lung_Opacity-5574.png', 'Lung_Opacity-5575.png', 'Lung_Opacity-5576.png', 'Lung_Opacity-5577.png', 'Lung_Opacity-5578.png', 'Lung_Opacity-5579.png', 'Lung_Opacity-558.png', 'Lung_Opacity-5580.png', 'Lung_Opacity-5581.png', 'Lung_Opacity-5582.png', 'Lung_Opacity-5583.png', 'Lung_Opacity-5584.png', 'Lung_Opacity-5585.png', 'Lung_Opacity-5586.png', 'Lung_Opacity-5587.png', 'Lung_Opacity-5588.png', 'Lung_Opacity-5589.png', 'Lung_Opacity-559.png', 'Lung_Opacity-5590.png', 'Lung_Opacity-5591.png', 'Lung_Opacity-5592.png', 'Lung_Opacity-5593.png', 'Lung_Opacity-5594.png', 'Lung_Opacity-5595.png', 'Lung_Opacity-5596.png', 'Lung_Opacity-5597.png', 'Lung_Opacity-5598.png', 'Lung_Opacity-5599.png', 'Lung_Opacity-56.png', 'Lung_Opacity-560.png', 'Lung_Opacity-5600.png', 'Lung_Opacity-5601.png', 'Lung_Opacity-5602.png', 'Lung_Opacity-5603.png', 'Lung_Opacity-5604.png', 'Lung_Opacity-5605.png', 'Lung_Opacity-5606.png', 'Lung_Opacity-5607.png', 'Lung_Opacity-5608.png', 'Lung_Opacity-5609.png', 'Lung_Opacity-561.png', 'Lung_Opacity-5610.png', 'Lung_Opacity-5611.png', 'Lung_Opacity-5612.png', 'Lung_Opacity-5613.png', 'Lung_Opacity-5614.png', 'Lung_Opacity-5615.png', 'Lung_Opacity-5616.png', 'Lung_Opacity-5617.png', 'Lung_Opacity-5618.png', 'Lung_Opacity-5619.png', 'Lung_Opacity-562.png', 'Lung_Opacity-5620.png', 'Lung_Opacity-5621.png', 'Lung_Opacity-5622.png', 'Lung_Opacity-5623.png', 'Lung_Opacity-5624.png', 'Lung_Opacity-5625.png', 'Lung_Opacity-5626.png', 'Lung_Opacity-5627.png', 'Lung_Opacity-5628.png', 'Lung_Opacity-5629.png', 'Lung_Opacity-563.png', 'Lung_Opacity-5630.png', 'Lung_Opacity-5631.png', 'Lung_Opacity-5632.png', 'Lung_Opacity-5633.png', 'Lung_Opacity-5634.png', 'Lung_Opacity-5635.png', 'Lung_Opacity-5636.png', 'Lung_Opacity-5637.png', 'Lung_Opacity-5638.png', 'Lung_Opacity-5639.png', 'Lung_Opacity-564.png', 'Lung_Opacity-5640.png', 'Lung_Opacity-5641.png', 'Lung_Opacity-5642.png', 'Lung_Opacity-5643.png', 'Lung_Opacity-5644.png', 'Lung_Opacity-5645.png', 'Lung_Opacity-5646.png', 'Lung_Opacity-5647.png', 'Lung_Opacity-5648.png', 'Lung_Opacity-5649.png', 'Lung_Opacity-565.png', 'Lung_Opacity-5650.png', 'Lung_Opacity-5651.png', 'Lung_Opacity-5652.png', 'Lung_Opacity-5653.png', 'Lung_Opacity-5654.png', 'Lung_Opacity-5655.png', 'Lung_Opacity-5656.png', 'Lung_Opacity-5657.png', 'Lung_Opacity-5658.png', 'Lung_Opacity-5659.png', 'Lung_Opacity-566.png', 'Lung_Opacity-5660.png', 'Lung_Opacity-5661.png', 'Lung_Opacity-5662.png', 'Lung_Opacity-5663.png', 'Lung_Opacity-5664.png', 'Lung_Opacity-5665.png', 'Lung_Opacity-5666.png', 'Lung_Opacity-5667.png', 'Lung_Opacity-5668.png', 'Lung_Opacity-5669.png', 'Lung_Opacity-567.png', 'Lung_Opacity-5670.png', 'Lung_Opacity-5671.png', 'Lung_Opacity-5672.png', 'Lung_Opacity-5673.png', 'Lung_Opacity-5674.png', 'Lung_Opacity-5675.png', 'Lung_Opacity-5676.png', 'Lung_Opacity-5677.png', 'Lung_Opacity-5678.png', 'Lung_Opacity-5679.png', 'Lung_Opacity-568.png', 'Lung_Opacity-5680.png', 'Lung_Opacity-5681.png', 'Lung_Opacity-5682.png', 'Lung_Opacity-5683.png', 'Lung_Opacity-5684.png', 'Lung_Opacity-5685.png', 'Lung_Opacity-5686.png', 'Lung_Opacity-5687.png', 'Lung_Opacity-5688.png', 'Lung_Opacity-5689.png', 'Lung_Opacity-569.png', 'Lung_Opacity-5690.png', 'Lung_Opacity-5691.png', 'Lung_Opacity-5692.png', 'Lung_Opacity-5693.png', 'Lung_Opacity-5694.png', 'Lung_Opacity-5695.png', 'Lung_Opacity-5696.png', 'Lung_Opacity-5697.png', 'Lung_Opacity-5698.png', 'Lung_Opacity-5699.png', 'Lung_Opacity-57.png', 'Lung_Opacity-570.png', 'Lung_Opacity-5700.png', 'Lung_Opacity-5701.png', 'Lung_Opacity-5702.png', 'Lung_Opacity-5703.png', 'Lung_Opacity-5704.png', 'Lung_Opacity-5705.png', 'Lung_Opacity-5706.png', 'Lung_Opacity-5707.png', 'Lung_Opacity-5708.png', 'Lung_Opacity-5709.png', 'Lung_Opacity-571.png', 'Lung_Opacity-5710.png', 'Lung_Opacity-5711.png', 'Lung_Opacity-5712.png', 'Lung_Opacity-5713.png', 'Lung_Opacity-5714.png', 'Lung_Opacity-5715.png', 'Lung_Opacity-5716.png', 'Lung_Opacity-5717.png', 'Lung_Opacity-5718.png', 'Lung_Opacity-5719.png', 'Lung_Opacity-572.png', 'Lung_Opacity-5720.png', 'Lung_Opacity-5721.png', 'Lung_Opacity-5722.png', 'Lung_Opacity-5723.png', 'Lung_Opacity-5724.png', 'Lung_Opacity-5725.png', 'Lung_Opacity-5726.png', 'Lung_Opacity-5727.png', 'Lung_Opacity-5728.png', 'Lung_Opacity-5729.png', 'Lung_Opacity-573.png', 'Lung_Opacity-5730.png', 'Lung_Opacity-5731.png', 'Lung_Opacity-5732.png', 'Lung_Opacity-5733.png', 'Lung_Opacity-5734.png', 'Lung_Opacity-5735.png', 'Lung_Opacity-5736.png', 'Lung_Opacity-5737.png', 'Lung_Opacity-5738.png', 'Lung_Opacity-5739.png', 'Lung_Opacity-574.png', 'Lung_Opacity-5740.png', 'Lung_Opacity-5741.png', 'Lung_Opacity-5742.png', 'Lung_Opacity-5743.png', 'Lung_Opacity-5744.png', 'Lung_Opacity-5745.png', 'Lung_Opacity-5746.png', 'Lung_Opacity-5747.png', 'Lung_Opacity-5748.png', 'Lung_Opacity-5749.png', 'Lung_Opacity-575.png', 'Lung_Opacity-5750.png', 'Lung_Opacity-5751.png', 'Lung_Opacity-5752.png', 'Lung_Opacity-5753.png', 'Lung_Opacity-5754.png', 'Lung_Opacity-5755.png', 'Lung_Opacity-5756.png', 'Lung_Opacity-5757.png', 'Lung_Opacity-5758.png', 'Lung_Opacity-5759.png', 'Lung_Opacity-576.png', 'Lung_Opacity-5760.png', 'Lung_Opacity-5761.png', 'Lung_Opacity-5762.png', 'Lung_Opacity-5763.png', 'Lung_Opacity-5764.png', 'Lung_Opacity-5765.png', 'Lung_Opacity-5766.png', 'Lung_Opacity-5767.png', 'Lung_Opacity-5768.png', 'Lung_Opacity-5769.png', 'Lung_Opacity-577.png', 'Lung_Opacity-5770.png', 'Lung_Opacity-5771.png', 'Lung_Opacity-5772.png', 'Lung_Opacity-5773.png', 'Lung_Opacity-5774.png', 'Lung_Opacity-5775.png', 'Lung_Opacity-5776.png', 'Lung_Opacity-5777.png', 'Lung_Opacity-5778.png', 'Lung_Opacity-5779.png', 'Lung_Opacity-578.png', 'Lung_Opacity-5780.png', 'Lung_Opacity-5781.png', 'Lung_Opacity-5782.png', 'Lung_Opacity-5783.png', 'Lung_Opacity-5784.png', 'Lung_Opacity-5785.png', 'Lung_Opacity-5786.png', 'Lung_Opacity-5787.png', 'Lung_Opacity-5788.png', 'Lung_Opacity-5789.png', 'Lung_Opacity-579.png', 'Lung_Opacity-5790.png', 'Lung_Opacity-5791.png', 'Lung_Opacity-5792.png', 'Lung_Opacity-5793.png', 'Lung_Opacity-5794.png', 'Lung_Opacity-5795.png', 'Lung_Opacity-5796.png', 'Lung_Opacity-5797.png', 'Lung_Opacity-5798.png', 'Lung_Opacity-5799.png', 'Lung_Opacity-58.png', 'Lung_Opacity-580.png', 'Lung_Opacity-5800.png', 'Lung_Opacity-5801.png', 'Lung_Opacity-5802.png', 'Lung_Opacity-5803.png', 'Lung_Opacity-5804.png', 'Lung_Opacity-5805.png', 'Lung_Opacity-5806.png', 'Lung_Opacity-5807.png', 'Lung_Opacity-5808.png', 'Lung_Opacity-5809.png', 'Lung_Opacity-581.png', 'Lung_Opacity-5810.png', 'Lung_Opacity-5811.png', 'Lung_Opacity-5812.png', 'Lung_Opacity-5813.png', 'Lung_Opacity-5814.png', 'Lung_Opacity-5815.png', 'Lung_Opacity-5816.png', 'Lung_Opacity-5817.png', 'Lung_Opacity-5818.png', 'Lung_Opacity-5819.png', 'Lung_Opacity-582.png', 'Lung_Opacity-5820.png', 'Lung_Opacity-5821.png', 'Lung_Opacity-5822.png', 'Lung_Opacity-5823.png', 'Lung_Opacity-5824.png', 'Lung_Opacity-5825.png', 'Lung_Opacity-5826.png', 'Lung_Opacity-5827.png', 'Lung_Opacity-5828.png', 'Lung_Opacity-5829.png', 'Lung_Opacity-583.png', 'Lung_Opacity-5830.png', 'Lung_Opacity-5831.png', 'Lung_Opacity-5832.png', 'Lung_Opacity-5833.png', 'Lung_Opacity-5834.png', 'Lung_Opacity-5835.png', 'Lung_Opacity-5836.png', 'Lung_Opacity-5837.png', 'Lung_Opacity-5838.png', 'Lung_Opacity-5839.png', 'Lung_Opacity-584.png', 'Lung_Opacity-5840.png', 'Lung_Opacity-5841.png', 'Lung_Opacity-5842.png', 'Lung_Opacity-5843.png', 'Lung_Opacity-5844.png', 'Lung_Opacity-5845.png', 'Lung_Opacity-5846.png', 'Lung_Opacity-5847.png', 'Lung_Opacity-5848.png', 'Lung_Opacity-5849.png', 'Lung_Opacity-585.png', 'Lung_Opacity-5850.png', 'Lung_Opacity-5851.png', 'Lung_Opacity-5852.png', 'Lung_Opacity-5853.png', 'Lung_Opacity-5854.png', 'Lung_Opacity-5855.png', 'Lung_Opacity-5856.png', 'Lung_Opacity-5857.png', 'Lung_Opacity-5858.png', 'Lung_Opacity-5859.png', 'Lung_Opacity-586.png', 'Lung_Opacity-5860.png', 'Lung_Opacity-5861.png', 'Lung_Opacity-5862.png', 'Lung_Opacity-5863.png', 'Lung_Opacity-5864.png', 'Lung_Opacity-5865.png', 'Lung_Opacity-5866.png', 'Lung_Opacity-5867.png', 'Lung_Opacity-5868.png', 'Lung_Opacity-5869.png', 'Lung_Opacity-587.png', 'Lung_Opacity-5870.png', 'Lung_Opacity-5871.png', 'Lung_Opacity-5872.png', 'Lung_Opacity-5873.png', 'Lung_Opacity-5874.png', 'Lung_Opacity-5875.png', 'Lung_Opacity-5876.png', 'Lung_Opacity-5877.png', 'Lung_Opacity-5878.png', 'Lung_Opacity-5879.png', 'Lung_Opacity-588.png', 'Lung_Opacity-5880.png', 'Lung_Opacity-5881.png', 'Lung_Opacity-5882.png', 'Lung_Opacity-5883.png', 'Lung_Opacity-5884.png', 'Lung_Opacity-5885.png', 'Lung_Opacity-5886.png', 'Lung_Opacity-5887.png', 'Lung_Opacity-5888.png', 'Lung_Opacity-5889.png', 'Lung_Opacity-589.png', 'Lung_Opacity-5890.png', 'Lung_Opacity-5891.png', 'Lung_Opacity-5892.png', 'Lung_Opacity-5893.png', 'Lung_Opacity-5894.png', 'Lung_Opacity-5895.png', 'Lung_Opacity-5896.png', 'Lung_Opacity-5897.png', 'Lung_Opacity-5898.png', 'Lung_Opacity-5899.png', 'Lung_Opacity-59.png', 'Lung_Opacity-590.png', 'Lung_Opacity-5900.png', 'Lung_Opacity-5901.png', 'Lung_Opacity-5902.png', 'Lung_Opacity-5903.png', 'Lung_Opacity-5904.png', 'Lung_Opacity-5905.png', 'Lung_Opacity-5906.png', 'Lung_Opacity-5907.png', 'Lung_Opacity-5908.png', 'Lung_Opacity-5909.png', 'Lung_Opacity-591.png', 'Lung_Opacity-5910.png', 'Lung_Opacity-5911.png', 'Lung_Opacity-5912.png', 'Lung_Opacity-5913.png', 'Lung_Opacity-5914.png', 'Lung_Opacity-5915.png', 'Lung_Opacity-5916.png', 'Lung_Opacity-5917.png', 'Lung_Opacity-5918.png', 'Lung_Opacity-5919.png', 'Lung_Opacity-592.png', 'Lung_Opacity-5920.png', 'Lung_Opacity-5921.png', 'Lung_Opacity-5922.png', 'Lung_Opacity-5923.png', 'Lung_Opacity-5924.png', 'Lung_Opacity-5925.png', 'Lung_Opacity-5926.png', 'Lung_Opacity-5927.png', 'Lung_Opacity-5928.png', 'Lung_Opacity-5929.png', 'Lung_Opacity-593.png', 'Lung_Opacity-5930.png', 'Lung_Opacity-5931.png', 'Lung_Opacity-5932.png', 'Lung_Opacity-5933.png', 'Lung_Opacity-5934.png', 'Lung_Opacity-5935.png', 'Lung_Opacity-5936.png', 'Lung_Opacity-5937.png', 'Lung_Opacity-5938.png', 'Lung_Opacity-5939.png', 'Lung_Opacity-594.png', 'Lung_Opacity-5940.png', 'Lung_Opacity-5941.png', 'Lung_Opacity-5942.png', 'Lung_Opacity-5943.png', 'Lung_Opacity-5944.png', 'Lung_Opacity-5945.png', 'Lung_Opacity-5946.png', 'Lung_Opacity-5947.png', 'Lung_Opacity-5948.png', 'Lung_Opacity-5949.png', 'Lung_Opacity-595.png', 'Lung_Opacity-5950.png', 'Lung_Opacity-5951.png', 'Lung_Opacity-5952.png', 'Lung_Opacity-5953.png', 'Lung_Opacity-5954.png', 'Lung_Opacity-5955.png', 'Lung_Opacity-5956.png', 'Lung_Opacity-5957.png', 'Lung_Opacity-5958.png', 'Lung_Opacity-5959.png', 'Lung_Opacity-596.png', 'Lung_Opacity-5960.png', 'Lung_Opacity-5961.png', 'Lung_Opacity-5962.png', 'Lung_Opacity-5963.png', 'Lung_Opacity-5964.png', 'Lung_Opacity-5965.png', 'Lung_Opacity-5966.png', 'Lung_Opacity-5967.png', 'Lung_Opacity-5968.png', 'Lung_Opacity-5969.png', 'Lung_Opacity-597.png', 'Lung_Opacity-5970.png', 'Lung_Opacity-5971.png', 'Lung_Opacity-5972.png', 'Lung_Opacity-5973.png', 'Lung_Opacity-5974.png', 'Lung_Opacity-5975.png', 'Lung_Opacity-5976.png', 'Lung_Opacity-5977.png', 'Lung_Opacity-5978.png', 'Lung_Opacity-5979.png', 'Lung_Opacity-598.png', 'Lung_Opacity-5980.png', 'Lung_Opacity-5981.png', 'Lung_Opacity-5982.png', 'Lung_Opacity-5983.png', 'Lung_Opacity-5984.png', 'Lung_Opacity-5985.png', 'Lung_Opacity-5986.png', 'Lung_Opacity-5987.png', 'Lung_Opacity-5988.png', 'Lung_Opacity-5989.png', 'Lung_Opacity-599.png', 'Lung_Opacity-5990.png', 'Lung_Opacity-5991.png', 'Lung_Opacity-5992.png', 'Lung_Opacity-5993.png', 'Lung_Opacity-5994.png', 'Lung_Opacity-5995.png', 'Lung_Opacity-5996.png', 'Lung_Opacity-5997.png', 'Lung_Opacity-5998.png', 'Lung_Opacity-5999.png', 'Lung_Opacity-6.png', 'Lung_Opacity-60.png', 'Lung_Opacity-600.png', 'Lung_Opacity-6000.png', 'Lung_Opacity-6001.png', 'Lung_Opacity-6002.png', 'Lung_Opacity-6003.png', 'Lung_Opacity-6004.png', 'Lung_Opacity-6005.png', 'Lung_Opacity-6006.png', 'Lung_Opacity-6007.png', 'Lung_Opacity-6008.png', 'Lung_Opacity-6009.png', 'Lung_Opacity-601.png', 'Lung_Opacity-6010.png', 'Lung_Opacity-6011.png', 'Lung_Opacity-6012.png', 'Lung_Opacity-602.png', 'Lung_Opacity-603.png', 'Lung_Opacity-604.png', 'Lung_Opacity-605.png', 'Lung_Opacity-606.png', 'Lung_Opacity-607.png', 'Lung_Opacity-608.png', 'Lung_Opacity-609.png', 'Lung_Opacity-61.png', 'Lung_Opacity-610.png', 'Lung_Opacity-611.png', 'Lung_Opacity-612.png', 'Lung_Opacity-613.png', 'Lung_Opacity-614.png', 'Lung_Opacity-615.png', 'Lung_Opacity-616.png', 'Lung_Opacity-617.png', 'Lung_Opacity-618.png', 'Lung_Opacity-619.png', 'Lung_Opacity-62.png', 'Lung_Opacity-620.png', 'Lung_Opacity-621.png', 'Lung_Opacity-622.png', 'Lung_Opacity-623.png', 'Lung_Opacity-624.png', 'Lung_Opacity-625.png', 'Lung_Opacity-626.png', 'Lung_Opacity-627.png', 'Lung_Opacity-628.png', 'Lung_Opacity-629.png', 'Lung_Opacity-63.png', 'Lung_Opacity-630.png', 'Lung_Opacity-631.png', 'Lung_Opacity-632.png', 'Lung_Opacity-633.png', 'Lung_Opacity-634.png', 'Lung_Opacity-635.png', 'Lung_Opacity-636.png', 'Lung_Opacity-637.png', 'Lung_Opacity-638.png', 'Lung_Opacity-639.png', 'Lung_Opacity-64.png', 'Lung_Opacity-640.png', 'Lung_Opacity-641.png', 'Lung_Opacity-642.png', 'Lung_Opacity-643.png', 'Lung_Opacity-644.png', 'Lung_Opacity-645.png', 'Lung_Opacity-646.png', 'Lung_Opacity-647.png', 'Lung_Opacity-648.png', 'Lung_Opacity-649.png', 'Lung_Opacity-65.png', 'Lung_Opacity-650.png', 'Lung_Opacity-651.png', 'Lung_Opacity-652.png', 'Lung_Opacity-653.png', 'Lung_Opacity-654.png', 'Lung_Opacity-655.png', 'Lung_Opacity-656.png', 'Lung_Opacity-657.png', 'Lung_Opacity-658.png', 'Lung_Opacity-659.png', 'Lung_Opacity-66.png', 'Lung_Opacity-660.png', 'Lung_Opacity-661.png', 'Lung_Opacity-662.png', 'Lung_Opacity-663.png', 'Lung_Opacity-664.png', 'Lung_Opacity-665.png', 'Lung_Opacity-666.png', 'Lung_Opacity-667.png', 'Lung_Opacity-668.png', 'Lung_Opacity-669.png', 'Lung_Opacity-67.png', 'Lung_Opacity-670.png', 'Lung_Opacity-671.png', 'Lung_Opacity-672.png', 'Lung_Opacity-673.png', 'Lung_Opacity-674.png', 'Lung_Opacity-675.png', 'Lung_Opacity-676.png', 'Lung_Opacity-677.png', 'Lung_Opacity-678.png', 'Lung_Opacity-679.png', 'Lung_Opacity-68.png', 'Lung_Opacity-680.png', 'Lung_Opacity-681.png', 'Lung_Opacity-682.png', 'Lung_Opacity-683.png', 'Lung_Opacity-684.png', 'Lung_Opacity-685.png', 'Lung_Opacity-686.png', 'Lung_Opacity-687.png', 'Lung_Opacity-688.png', 'Lung_Opacity-689.png', 'Lung_Opacity-69.png', 'Lung_Opacity-690.png', 'Lung_Opacity-691.png', 'Lung_Opacity-692.png', 'Lung_Opacity-693.png', 'Lung_Opacity-694.png', 'Lung_Opacity-695.png', 'Lung_Opacity-696.png', 'Lung_Opacity-697.png', 'Lung_Opacity-698.png', 'Lung_Opacity-699.png', 'Lung_Opacity-7.png', 'Lung_Opacity-70.png', 'Lung_Opacity-700.png', 'Lung_Opacity-701.png', 'Lung_Opacity-702.png', 'Lung_Opacity-703.png', 'Lung_Opacity-704.png', 'Lung_Opacity-705.png', 'Lung_Opacity-706.png', 'Lung_Opacity-707.png', 'Lung_Opacity-708.png', 'Lung_Opacity-709.png', 'Lung_Opacity-71.png', 'Lung_Opacity-710.png', 'Lung_Opacity-711.png', 'Lung_Opacity-712.png', 'Lung_Opacity-713.png', 'Lung_Opacity-714.png', 'Lung_Opacity-715.png', 'Lung_Opacity-716.png', 'Lung_Opacity-717.png', 'Lung_Opacity-718.png', 'Lung_Opacity-719.png', 'Lung_Opacity-72.png', 'Lung_Opacity-720.png', 'Lung_Opacity-721.png', 'Lung_Opacity-722.png', 'Lung_Opacity-723.png', 'Lung_Opacity-724.png', 'Lung_Opacity-725.png', 'Lung_Opacity-726.png', 'Lung_Opacity-727.png', 'Lung_Opacity-728.png', 'Lung_Opacity-729.png', 'Lung_Opacity-73.png', 'Lung_Opacity-730.png', 'Lung_Opacity-731.png', 'Lung_Opacity-732.png', 'Lung_Opacity-733.png', 'Lung_Opacity-734.png', 'Lung_Opacity-735.png', 'Lung_Opacity-736.png', 'Lung_Opacity-737.png', 'Lung_Opacity-738.png', 'Lung_Opacity-739.png', 'Lung_Opacity-74.png', 'Lung_Opacity-740.png', 'Lung_Opacity-741.png', 'Lung_Opacity-742.png', 'Lung_Opacity-743.png', 'Lung_Opacity-744.png', 'Lung_Opacity-745.png', 'Lung_Opacity-746.png', 'Lung_Opacity-747.png', 'Lung_Opacity-748.png', 'Lung_Opacity-749.png', 'Lung_Opacity-75.png', 'Lung_Opacity-750.png', 'Lung_Opacity-751.png', 'Lung_Opacity-752.png', 'Lung_Opacity-753.png', 'Lung_Opacity-754.png', 'Lung_Opacity-755.png', 'Lung_Opacity-756.png', 'Lung_Opacity-757.png', 'Lung_Opacity-758.png', 'Lung_Opacity-759.png', 'Lung_Opacity-76.png', 'Lung_Opacity-760.png', 'Lung_Opacity-761.png', 'Lung_Opacity-762.png', 'Lung_Opacity-763.png', 'Lung_Opacity-764.png', 'Lung_Opacity-765.png', 'Lung_Opacity-766.png', 'Lung_Opacity-767.png', 'Lung_Opacity-768.png', 'Lung_Opacity-769.png', 'Lung_Opacity-77.png', 'Lung_Opacity-770.png', 'Lung_Opacity-771.png', 'Lung_Opacity-772.png', 'Lung_Opacity-773.png', 'Lung_Opacity-774.png', 'Lung_Opacity-775.png', 'Lung_Opacity-776.png', 'Lung_Opacity-777.png', 'Lung_Opacity-778.png', 'Lung_Opacity-779.png', 'Lung_Opacity-78.png', 'Lung_Opacity-780.png', 'Lung_Opacity-781.png', 'Lung_Opacity-782.png', 'Lung_Opacity-783.png', 'Lung_Opacity-784.png', 'Lung_Opacity-785.png', 'Lung_Opacity-786.png', 'Lung_Opacity-787.png', 'Lung_Opacity-788.png', 'Lung_Opacity-789.png', 'Lung_Opacity-79.png', 'Lung_Opacity-790.png', 'Lung_Opacity-791.png', 'Lung_Opacity-792.png', 'Lung_Opacity-793.png', 'Lung_Opacity-794.png', 'Lung_Opacity-795.png', 'Lung_Opacity-796.png', 'Lung_Opacity-797.png', 'Lung_Opacity-798.png', 'Lung_Opacity-799.png', 'Lung_Opacity-8.png', 'Lung_Opacity-80.png', 'Lung_Opacity-800.png', 'Lung_Opacity-801.png', 'Lung_Opacity-802.png', 'Lung_Opacity-803.png', 'Lung_Opacity-804.png', 'Lung_Opacity-805.png', 'Lung_Opacity-806.png', 'Lung_Opacity-807.png', 'Lung_Opacity-808.png', 'Lung_Opacity-809.png', 'Lung_Opacity-81.png', 'Lung_Opacity-810.png', 'Lung_Opacity-811.png', 'Lung_Opacity-812.png', 'Lung_Opacity-813.png', 'Lung_Opacity-814.png', 'Lung_Opacity-815.png', 'Lung_Opacity-816.png', 'Lung_Opacity-817.png', 'Lung_Opacity-818.png', 'Lung_Opacity-819.png', 'Lung_Opacity-82.png', 'Lung_Opacity-820.png', 'Lung_Opacity-821.png', 'Lung_Opacity-822.png', 'Lung_Opacity-823.png', 'Lung_Opacity-824.png', 'Lung_Opacity-825.png', 'Lung_Opacity-826.png', 'Lung_Opacity-827.png', 'Lung_Opacity-828.png', 'Lung_Opacity-829.png', 'Lung_Opacity-83.png', 'Lung_Opacity-830.png', 'Lung_Opacity-831.png', 'Lung_Opacity-832.png', 'Lung_Opacity-833.png', 'Lung_Opacity-834.png', 'Lung_Opacity-835.png', 'Lung_Opacity-836.png', 'Lung_Opacity-837.png', 'Lung_Opacity-838.png', 'Lung_Opacity-839.png', 'Lung_Opacity-84.png', 'Lung_Opacity-840.png', 'Lung_Opacity-841.png', 'Lung_Opacity-842.png', 'Lung_Opacity-843.png', 'Lung_Opacity-844.png', 'Lung_Opacity-845.png', 'Lung_Opacity-846.png', 'Lung_Opacity-847.png', 'Lung_Opacity-848.png', 'Lung_Opacity-849.png', 'Lung_Opacity-85.png', 'Lung_Opacity-850.png', 'Lung_Opacity-851.png', 'Lung_Opacity-852.png', 'Lung_Opacity-853.png', 'Lung_Opacity-854.png', 'Lung_Opacity-855.png', 'Lung_Opacity-856.png', 'Lung_Opacity-857.png', 'Lung_Opacity-858.png', 'Lung_Opacity-859.png', 'Lung_Opacity-86.png', 'Lung_Opacity-860.png', 'Lung_Opacity-861.png', 'Lung_Opacity-862.png', 'Lung_Opacity-863.png', 'Lung_Opacity-864.png', 'Lung_Opacity-865.png', 'Lung_Opacity-866.png', 'Lung_Opacity-867.png', 'Lung_Opacity-868.png', 'Lung_Opacity-869.png', 'Lung_Opacity-87.png', 'Lung_Opacity-870.png', 'Lung_Opacity-871.png', 'Lung_Opacity-872.png', 'Lung_Opacity-873.png', 'Lung_Opacity-874.png', 'Lung_Opacity-875.png', 'Lung_Opacity-876.png', 'Lung_Opacity-877.png', 'Lung_Opacity-878.png', 'Lung_Opacity-879.png', 'Lung_Opacity-88.png', 'Lung_Opacity-880.png', 'Lung_Opacity-881.png', 'Lung_Opacity-882.png', 'Lung_Opacity-883.png', 'Lung_Opacity-884.png', 'Lung_Opacity-885.png', 'Lung_Opacity-886.png', 'Lung_Opacity-887.png', 'Lung_Opacity-888.png', 'Lung_Opacity-889.png', 'Lung_Opacity-89.png', 'Lung_Opacity-890.png', 'Lung_Opacity-891.png', 'Lung_Opacity-892.png', 'Lung_Opacity-893.png', 'Lung_Opacity-894.png', 'Lung_Opacity-895.png', 'Lung_Opacity-896.png', 'Lung_Opacity-897.png', 'Lung_Opacity-898.png', 'Lung_Opacity-899.png', 'Lung_Opacity-9.png', 'Lung_Opacity-90.png', 'Lung_Opacity-900.png', 'Lung_Opacity-901.png', 'Lung_Opacity-902.png', 'Lung_Opacity-903.png', 'Lung_Opacity-904.png', 'Lung_Opacity-905.png', 'Lung_Opacity-906.png', 'Lung_Opacity-907.png', 'Lung_Opacity-908.png', 'Lung_Opacity-909.png', 'Lung_Opacity-91.png', 'Lung_Opacity-910.png', 'Lung_Opacity-911.png', 'Lung_Opacity-912.png', 'Lung_Opacity-913.png', 'Lung_Opacity-914.png', 'Lung_Opacity-915.png', 'Lung_Opacity-916.png', 'Lung_Opacity-917.png', 'Lung_Opacity-918.png', 'Lung_Opacity-919.png', 'Lung_Opacity-92.png', 'Lung_Opacity-920.png', 'Lung_Opacity-921.png', 'Lung_Opacity-922.png', 'Lung_Opacity-923.png', 'Lung_Opacity-924.png', 'Lung_Opacity-925.png', 'Lung_Opacity-926.png', 'Lung_Opacity-927.png', 'Lung_Opacity-928.png', 'Lung_Opacity-929.png', 'Lung_Opacity-93.png', 'Lung_Opacity-930.png', 'Lung_Opacity-931.png', 'Lung_Opacity-932.png', 'Lung_Opacity-933.png', 'Lung_Opacity-934.png', 'Lung_Opacity-935.png', 'Lung_Opacity-936.png', 'Lung_Opacity-937.png', 'Lung_Opacity-938.png', 'Lung_Opacity-939.png', 'Lung_Opacity-94.png', 'Lung_Opacity-940.png', 'Lung_Opacity-941.png', 'Lung_Opacity-942.png', 'Lung_Opacity-943.png', 'Lung_Opacity-944.png', 'Lung_Opacity-945.png', 'Lung_Opacity-946.png', 'Lung_Opacity-947.png', 'Lung_Opacity-948.png', 'Lung_Opacity-949.png', 'Lung_Opacity-95.png', 'Lung_Opacity-950.png', 'Lung_Opacity-951.png', 'Lung_Opacity-952.png', 'Lung_Opacity-953.png', 'Lung_Opacity-954.png', 'Lung_Opacity-955.png', 'Lung_Opacity-956.png', 'Lung_Opacity-957.png', 'Lung_Opacity-958.png', 'Lung_Opacity-959.png', 'Lung_Opacity-96.png', 'Lung_Opacity-960.png', 'Lung_Opacity-961.png', 'Lung_Opacity-962.png', 'Lung_Opacity-963.png', 'Lung_Opacity-964.png', 'Lung_Opacity-965.png', 'Lung_Opacity-966.png', 'Lung_Opacity-967.png', 'Lung_Opacity-968.png', 'Lung_Opacity-969.png', 'Lung_Opacity-97.png', 'Lung_Opacity-970.png', 'Lung_Opacity-971.png', 'Lung_Opacity-972.png', 'Lung_Opacity-973.png', 'Lung_Opacity-974.png', 'Lung_Opacity-975.png', 'Lung_Opacity-976.png', 'Lung_Opacity-977.png', 'Lung_Opacity-978.png', 'Lung_Opacity-979.png', 'Lung_Opacity-98.png', 'Lung_Opacity-980.png', 'Lung_Opacity-981.png', 'Lung_Opacity-982.png', 'Lung_Opacity-983.png', 'Lung_Opacity-984.png', 'Lung_Opacity-985.png', 'Lung_Opacity-986.png', 'Lung_Opacity-987.png', 'Lung_Opacity-988.png', 'Lung_Opacity-989.png', 'Lung_Opacity-99.png', 'Lung_Opacity-990.png', 'Lung_Opacity-991.png', 'Lung_Opacity-992.png', 'Lung_Opacity-993.png', 'Lung_Opacity-994.png', 'Lung_Opacity-995.png', 'Lung_Opacity-996.png', 'Lung_Opacity-997.png', 'Lung_Opacity-998.png', 'Lung_Opacity-999.png']\n"
     ]
    }
   ],
   "source": [
    "for path in os.listdir(opacity_main_dir):\n",
    "    # check if current path is a file\n",
    "    if os.path.isfile(os.path.join(opacity_main_dir, path)):\n",
    "        opacityFileNames.append(path)\n",
    "print(opacityFileNames)"
   ]
  },
  {
   "cell_type": "code",
   "execution_count": 35,
   "id": "01c40771",
   "metadata": {},
   "outputs": [],
   "source": [
    "opacityFileNames = sorted(opacityFileNames, key=lambda x: int(x.split('-')[1].split('.')[0]))"
   ]
  },
  {
   "cell_type": "code",
   "execution_count": 36,
   "id": "be800b0d",
   "metadata": {},
   "outputs": [],
   "source": [
    "opacityFileNames4thset = opacityFileNames[int(len(opacityFileNames)*0.75):]"
   ]
  },
  {
   "cell_type": "code",
   "execution_count": 39,
   "id": "fcc9f820",
   "metadata": {},
   "outputs": [
    {
     "data": {
      "text/plain": [
       "1503"
      ]
     },
     "execution_count": 39,
     "metadata": {},
     "output_type": "execute_result"
    }
   ],
   "source": [
    "len(opacityFileNames4thset)"
   ]
  },
  {
   "cell_type": "code",
   "execution_count": 40,
   "id": "baf689d6",
   "metadata": {},
   "outputs": [],
   "source": [
    "for i in range(len(opacityFileNames4thset)):\n",
    "    original = r'D:/Desktopshifted/MTech - PES university/Sem-3/CapstoneProject/Dataset/archive/COVID-19_Radiography_Dataset/Lung_Opacity/images/' + opacityFileNames4thset[i]\n",
    "    target = r'D:/Desktopshifted/MTech - PES university/Sem-3/CapstoneProject/Dataset/archive/COVID-19_Radiography_Dataset/SubData4/Lung_Opacity/' + opacityFileNames4thset[i]\n",
    "    shutil.copyfile(original, target)"
   ]
  },
  {
   "cell_type": "code",
   "execution_count": 41,
   "id": "6950bf8c",
   "metadata": {},
   "outputs": [],
   "source": [
    "normalFileNames=[]"
   ]
  },
  {
   "cell_type": "code",
   "execution_count": 42,
   "id": "831c17f6",
   "metadata": {},
   "outputs": [
    {
     "name": "stdout",
     "output_type": "stream",
     "text": [
      "['Normal-1.png', 'Normal-10.png', 'Normal-100.png', 'Normal-1000.png', 'Normal-10000.png', 'Normal-10001.png', 'Normal-10002.png', 'Normal-10003.png', 'Normal-10004.png', 'Normal-10005.png', 'Normal-10006.png', 'Normal-10007.png', 'Normal-10008.png', 'Normal-10009.png', 'Normal-1001.png', 'Normal-10010.png', 'Normal-10011.png', 'Normal-10012.png', 'Normal-10013.png', 'Normal-10014.png', 'Normal-10015.png', 'Normal-10016.png', 'Normal-10017.png', 'Normal-10018.png', 'Normal-10019.png', 'Normal-1002.png', 'Normal-10020.png', 'Normal-10021.png', 'Normal-10022.png', 'Normal-10023.png', 'Normal-10024.png', 'Normal-10025.png', 'Normal-10026.png', 'Normal-10027.png', 'Normal-10028.png', 'Normal-10029.png', 'Normal-1003.png', 'Normal-10030.png', 'Normal-10031.png', 'Normal-10032.png', 'Normal-10033.png', 'Normal-10034.png', 'Normal-10035.png', 'Normal-10036.png', 'Normal-10037.png', 'Normal-10038.png', 'Normal-10039.png', 'Normal-1004.png', 'Normal-10040.png', 'Normal-10041.png', 'Normal-10042.png', 'Normal-10043.png', 'Normal-10044.png', 'Normal-10045.png', 'Normal-10046.png', 'Normal-10047.png', 'Normal-10048.png', 'Normal-10049.png', 'Normal-1005.png', 'Normal-10050.png', 'Normal-10051.png', 'Normal-10052.png', 'Normal-10053.png', 'Normal-10054.png', 'Normal-10055.png', 'Normal-10056.png', 'Normal-10057.png', 'Normal-10058.png', 'Normal-10059.png', 'Normal-1006.png', 'Normal-10060.png', 'Normal-10061.png', 'Normal-10062.png', 'Normal-10063.png', 'Normal-10064.png', 'Normal-10065.png', 'Normal-10066.png', 'Normal-10067.png', 'Normal-10068.png', 'Normal-10069.png', 'Normal-1007.png', 'Normal-10070.png', 'Normal-10071.png', 'Normal-10072.png', 'Normal-10073.png', 'Normal-10074.png', 'Normal-10075.png', 'Normal-10076.png', 'Normal-10077.png', 'Normal-10078.png', 'Normal-10079.png', 'Normal-1008.png', 'Normal-10080.png', 'Normal-10081.png', 'Normal-10082.png', 'Normal-10083.png', 'Normal-10084.png', 'Normal-10085.png', 'Normal-10086.png', 'Normal-10087.png', 'Normal-10088.png', 'Normal-10089.png', 'Normal-1009.png', 'Normal-10090.png', 'Normal-10091.png', 'Normal-10092.png', 'Normal-10093.png', 'Normal-10094.png', 'Normal-10095.png', 'Normal-10096.png', 'Normal-10097.png', 'Normal-10098.png', 'Normal-10099.png', 'Normal-101.png', 'Normal-1010.png', 'Normal-10100.png', 'Normal-10101.png', 'Normal-10102.png', 'Normal-10103.png', 'Normal-10104.png', 'Normal-10105.png', 'Normal-10106.png', 'Normal-10107.png', 'Normal-10108.png', 'Normal-10109.png', 'Normal-1011.png', 'Normal-10110.png', 'Normal-10111.png', 'Normal-10112.png', 'Normal-10113.png', 'Normal-10114.png', 'Normal-10115.png', 'Normal-10116.png', 'Normal-10117.png', 'Normal-10118.png', 'Normal-10119.png', 'Normal-1012.png', 'Normal-10120.png', 'Normal-10121.png', 'Normal-10122.png', 'Normal-10123.png', 'Normal-10124.png', 'Normal-10125.png', 'Normal-10126.png', 'Normal-10127.png', 'Normal-10128.png', 'Normal-10129.png', 'Normal-1013.png', 'Normal-10130.png', 'Normal-10131.png', 'Normal-10132.png', 'Normal-10133.png', 'Normal-10134.png', 'Normal-10135.png', 'Normal-10136.png', 'Normal-10137.png', 'Normal-10138.png', 'Normal-10139.png', 'Normal-1014.png', 'Normal-10140.png', 'Normal-10141.png', 'Normal-10142.png', 'Normal-10143.png', 'Normal-10144.png', 'Normal-10145.png', 'Normal-10146.png', 'Normal-10147.png', 'Normal-10148.png', 'Normal-10149.png', 'Normal-1015.png', 'Normal-10150.png', 'Normal-10151.png', 'Normal-10152.png', 'Normal-10153.png', 'Normal-10154.png', 'Normal-10155.png', 'Normal-10156.png', 'Normal-10157.png', 'Normal-10158.png', 'Normal-10159.png', 'Normal-1016.png', 'Normal-10160.png', 'Normal-10161.png', 'Normal-10162.png', 'Normal-10163.png', 'Normal-10164.png', 'Normal-10165.png', 'Normal-10166.png', 'Normal-10167.png', 'Normal-10168.png', 'Normal-10169.png', 'Normal-1017.png', 'Normal-10170.png', 'Normal-10171.png', 'Normal-10172.png', 'Normal-10173.png', 'Normal-10174.png', 'Normal-10175.png', 'Normal-10176.png', 'Normal-10177.png', 'Normal-10178.png', 'Normal-10179.png', 'Normal-1018.png', 'Normal-10180.png', 'Normal-10181.png', 'Normal-10182.png', 'Normal-10183.png', 'Normal-10184.png', 'Normal-10185.png', 'Normal-10186.png', 'Normal-10187.png', 'Normal-10188.png', 'Normal-10189.png', 'Normal-1019.png', 'Normal-10190.png', 'Normal-10191.png', 'Normal-10192.png', 'Normal-102.png', 'Normal-1020.png', 'Normal-1021.png', 'Normal-1022.png', 'Normal-1023.png', 'Normal-1024.png', 'Normal-1025.png', 'Normal-1026.png', 'Normal-1027.png', 'Normal-1028.png', 'Normal-1029.png', 'Normal-103.png', 'Normal-1030.png', 'Normal-1031.png', 'Normal-1032.png', 'Normal-1033.png', 'Normal-1034.png', 'Normal-1035.png', 'Normal-1036.png', 'Normal-1037.png', 'Normal-1038.png', 'Normal-1039.png', 'Normal-104.png', 'Normal-1040.png', 'Normal-1041.png', 'Normal-1042.png', 'Normal-1043.png', 'Normal-1044.png', 'Normal-1045.png', 'Normal-1046.png', 'Normal-1047.png', 'Normal-1048.png', 'Normal-1049.png', 'Normal-105.png', 'Normal-1050.png', 'Normal-1051.png', 'Normal-1052.png', 'Normal-1053.png', 'Normal-1054.png', 'Normal-1055.png', 'Normal-1056.png', 'Normal-1057.png', 'Normal-1058.png', 'Normal-1059.png', 'Normal-106.png', 'Normal-1060.png', 'Normal-1061.png', 'Normal-1062.png', 'Normal-1063.png', 'Normal-1064.png', 'Normal-1065.png', 'Normal-1066.png', 'Normal-1067.png', 'Normal-1068.png', 'Normal-1069.png', 'Normal-107.png', 'Normal-1070.png', 'Normal-1071.png', 'Normal-1072.png', 'Normal-1073.png', 'Normal-1074.png', 'Normal-1075.png', 'Normal-1076.png', 'Normal-1077.png', 'Normal-1078.png', 'Normal-1079.png', 'Normal-108.png', 'Normal-1080.png', 'Normal-1081.png', 'Normal-1082.png', 'Normal-1083.png', 'Normal-1084.png', 'Normal-1085.png', 'Normal-1086.png', 'Normal-1087.png', 'Normal-1088.png', 'Normal-1089.png', 'Normal-109.png', 'Normal-1090.png', 'Normal-1091.png', 'Normal-1092.png', 'Normal-1093.png', 'Normal-1094.png', 'Normal-1095.png', 'Normal-1096.png', 'Normal-1097.png', 'Normal-1098.png', 'Normal-1099.png', 'Normal-11.png', 'Normal-110.png', 'Normal-1100.png', 'Normal-1101.png', 'Normal-1102.png', 'Normal-1103.png', 'Normal-1104.png', 'Normal-1105.png', 'Normal-1106.png', 'Normal-1107.png', 'Normal-1108.png', 'Normal-1109.png', 'Normal-111.png', 'Normal-1110.png', 'Normal-1111.png', 'Normal-1112.png', 'Normal-1113.png', 'Normal-1114.png', 'Normal-1115.png', 'Normal-1116.png', 'Normal-1117.png', 'Normal-1118.png', 'Normal-1119.png', 'Normal-112.png', 'Normal-1120.png', 'Normal-1121.png', 'Normal-1122.png', 'Normal-1123.png', 'Normal-1124.png', 'Normal-1125.png', 'Normal-1126.png', 'Normal-1127.png', 'Normal-1128.png', 'Normal-1129.png', 'Normal-113.png', 'Normal-1130.png', 'Normal-1131.png', 'Normal-1132.png', 'Normal-1133.png', 'Normal-1134.png', 'Normal-1135.png', 'Normal-1136.png', 'Normal-1137.png', 'Normal-1138.png', 'Normal-1139.png', 'Normal-114.png', 'Normal-1140.png', 'Normal-1141.png', 'Normal-1142.png', 'Normal-1143.png', 'Normal-1144.png', 'Normal-1145.png', 'Normal-1146.png', 'Normal-1147.png', 'Normal-1148.png', 'Normal-1149.png', 'Normal-115.png', 'Normal-1150.png', 'Normal-1151.png', 'Normal-1152.png', 'Normal-1153.png', 'Normal-1154.png', 'Normal-1155.png', 'Normal-1156.png', 'Normal-1157.png', 'Normal-1158.png', 'Normal-1159.png', 'Normal-116.png', 'Normal-1160.png', 'Normal-1161.png', 'Normal-1162.png', 'Normal-1163.png', 'Normal-1164.png', 'Normal-1165.png', 'Normal-1166.png', 'Normal-1167.png', 'Normal-1168.png', 'Normal-1169.png', 'Normal-117.png', 'Normal-1170.png', 'Normal-1171.png', 'Normal-1172.png', 'Normal-1173.png', 'Normal-1174.png', 'Normal-1175.png', 'Normal-1176.png', 'Normal-1177.png', 'Normal-1178.png', 'Normal-1179.png', 'Normal-118.png', 'Normal-1180.png', 'Normal-1181.png', 'Normal-1182.png', 'Normal-1183.png', 'Normal-1184.png', 'Normal-1185.png', 'Normal-1186.png', 'Normal-1187.png', 'Normal-1188.png', 'Normal-1189.png', 'Normal-119.png', 'Normal-1190.png', 'Normal-1191.png', 'Normal-1192.png', 'Normal-1193.png', 'Normal-1194.png', 'Normal-1195.png', 'Normal-1196.png', 'Normal-1197.png', 'Normal-1198.png', 'Normal-1199.png', 'Normal-12.png', 'Normal-120.png', 'Normal-1200.png', 'Normal-1201.png', 'Normal-1202.png', 'Normal-1203.png', 'Normal-1204.png', 'Normal-1205.png', 'Normal-1206.png', 'Normal-1207.png', 'Normal-1208.png', 'Normal-1209.png', 'Normal-121.png', 'Normal-1210.png', 'Normal-1211.png', 'Normal-1212.png', 'Normal-1213.png', 'Normal-1214.png', 'Normal-1215.png', 'Normal-1216.png', 'Normal-1217.png', 'Normal-1218.png', 'Normal-1219.png', 'Normal-122.png', 'Normal-1220.png', 'Normal-1221.png', 'Normal-1222.png', 'Normal-1223.png', 'Normal-1224.png', 'Normal-1225.png', 'Normal-1226.png', 'Normal-1227.png', 'Normal-1228.png', 'Normal-1229.png', 'Normal-123.png', 'Normal-1230.png', 'Normal-1231.png', 'Normal-1232.png', 'Normal-1233.png', 'Normal-1234.png', 'Normal-1235.png', 'Normal-1236.png', 'Normal-1237.png', 'Normal-1238.png', 'Normal-1239.png', 'Normal-124.png', 'Normal-1240.png', 'Normal-1241.png', 'Normal-1242.png', 'Normal-1243.png', 'Normal-1244.png', 'Normal-1245.png', 'Normal-1246.png', 'Normal-1247.png', 'Normal-1248.png', 'Normal-1249.png', 'Normal-125.png', 'Normal-1250.png', 'Normal-1251.png', 'Normal-1252.png', 'Normal-1253.png', 'Normal-1254.png', 'Normal-1255.png', 'Normal-1256.png', 'Normal-1257.png', 'Normal-1258.png', 'Normal-1259.png', 'Normal-126.png', 'Normal-1260.png', 'Normal-1261.png', 'Normal-1262.png', 'Normal-1263.png', 'Normal-1264.png', 'Normal-1265.png', 'Normal-1266.png', 'Normal-1267.png', 'Normal-1268.png', 'Normal-1269.png', 'Normal-127.png', 'Normal-1270.png', 'Normal-1271.png', 'Normal-1272.png', 'Normal-1273.png', 'Normal-1274.png', 'Normal-1275.png', 'Normal-1276.png', 'Normal-1277.png', 'Normal-1278.png', 'Normal-1279.png', 'Normal-128.png', 'Normal-1280.png', 'Normal-1281.png', 'Normal-1282.png', 'Normal-1283.png', 'Normal-1284.png', 'Normal-1285.png', 'Normal-1286.png', 'Normal-1287.png', 'Normal-1288.png', 'Normal-1289.png', 'Normal-129.png', 'Normal-1290.png', 'Normal-1291.png', 'Normal-1292.png', 'Normal-1293.png', 'Normal-1294.png', 'Normal-1295.png', 'Normal-1296.png', 'Normal-1297.png', 'Normal-1298.png', 'Normal-1299.png', 'Normal-13.png', 'Normal-130.png', 'Normal-1300.png', 'Normal-1301.png', 'Normal-1302.png', 'Normal-1303.png', 'Normal-1304.png', 'Normal-1305.png', 'Normal-1306.png', 'Normal-1307.png', 'Normal-1308.png', 'Normal-1309.png', 'Normal-131.png', 'Normal-1310.png', 'Normal-1311.png', 'Normal-1312.png', 'Normal-1313.png', 'Normal-1314.png', 'Normal-1315.png', 'Normal-1316.png', 'Normal-1317.png', 'Normal-1318.png', 'Normal-1319.png', 'Normal-132.png', 'Normal-1320.png', 'Normal-1321.png', 'Normal-1322.png', 'Normal-1323.png', 'Normal-1324.png', 'Normal-1325.png', 'Normal-1326.png', 'Normal-1327.png', 'Normal-1328.png', 'Normal-1329.png', 'Normal-133.png', 'Normal-1330.png', 'Normal-1331.png', 'Normal-1332.png', 'Normal-1333.png', 'Normal-1334.png', 'Normal-1335.png', 'Normal-1336.png', 'Normal-1337.png', 'Normal-1338.png', 'Normal-1339.png', 'Normal-134.png', 'Normal-1340.png', 'Normal-1341.png', 'Normal-1342.png', 'Normal-1343.png', 'Normal-1344.png', 'Normal-1345.png', 'Normal-1346.png', 'Normal-1347.png', 'Normal-1348.png', 'Normal-1349.png', 'Normal-135.png', 'Normal-1350.png', 'Normal-1351.png', 'Normal-1352.png', 'Normal-1353.png', 'Normal-1354.png', 'Normal-1355.png', 'Normal-1356.png', 'Normal-1357.png', 'Normal-1358.png', 'Normal-1359.png', 'Normal-136.png', 'Normal-1360.png', 'Normal-1361.png', 'Normal-1362.png', 'Normal-1363.png', 'Normal-1364.png', 'Normal-1365.png', 'Normal-1366.png', 'Normal-1367.png', 'Normal-1368.png', 'Normal-1369.png', 'Normal-137.png', 'Normal-1370.png', 'Normal-1371.png', 'Normal-1372.png', 'Normal-1373.png', 'Normal-1374.png', 'Normal-1375.png', 'Normal-1376.png', 'Normal-1377.png', 'Normal-1378.png', 'Normal-1379.png', 'Normal-138.png', 'Normal-1380.png', 'Normal-1381.png', 'Normal-1382.png', 'Normal-1383.png', 'Normal-1384.png', 'Normal-1385.png', 'Normal-1386.png', 'Normal-1387.png', 'Normal-1388.png', 'Normal-1389.png', 'Normal-139.png', 'Normal-1390.png', 'Normal-1391.png', 'Normal-1392.png', 'Normal-1393.png', 'Normal-1394.png', 'Normal-1395.png', 'Normal-1396.png', 'Normal-1397.png', 'Normal-1398.png', 'Normal-1399.png', 'Normal-14.png', 'Normal-140.png', 'Normal-1400.png', 'Normal-1401.png', 'Normal-1402.png', 'Normal-1403.png', 'Normal-1404.png', 'Normal-1405.png', 'Normal-1406.png', 'Normal-1407.png', 'Normal-1408.png', 'Normal-1409.png', 'Normal-141.png', 'Normal-1410.png', 'Normal-1411.png', 'Normal-1412.png', 'Normal-1413.png', 'Normal-1414.png', 'Normal-1415.png', 'Normal-1416.png', 'Normal-1417.png', 'Normal-1418.png', 'Normal-1419.png', 'Normal-142.png', 'Normal-1420.png', 'Normal-1421.png', 'Normal-1422.png', 'Normal-1423.png', 'Normal-1424.png', 'Normal-1425.png', 'Normal-1426.png', 'Normal-1427.png', 'Normal-1428.png', 'Normal-1429.png', 'Normal-143.png', 'Normal-1430.png', 'Normal-1431.png', 'Normal-1432.png', 'Normal-1433.png', 'Normal-1434.png', 'Normal-1435.png', 'Normal-1436.png', 'Normal-1437.png', 'Normal-1438.png', 'Normal-1439.png', 'Normal-144.png', 'Normal-1440.png', 'Normal-1441.png', 'Normal-1442.png', 'Normal-1443.png', 'Normal-1444.png', 'Normal-1445.png', 'Normal-1446.png', 'Normal-1447.png', 'Normal-1448.png', 'Normal-1449.png', 'Normal-145.png', 'Normal-1450.png', 'Normal-1451.png', 'Normal-1452.png', 'Normal-1453.png', 'Normal-1454.png', 'Normal-1455.png', 'Normal-1456.png', 'Normal-1457.png', 'Normal-1458.png', 'Normal-1459.png', 'Normal-146.png', 'Normal-1460.png', 'Normal-1461.png', 'Normal-1462.png', 'Normal-1463.png', 'Normal-1464.png', 'Normal-1465.png', 'Normal-1466.png', 'Normal-1467.png', 'Normal-1468.png', 'Normal-1469.png', 'Normal-147.png', 'Normal-1470.png', 'Normal-1471.png', 'Normal-1472.png', 'Normal-1473.png', 'Normal-1474.png', 'Normal-1475.png', 'Normal-1476.png', 'Normal-1477.png', 'Normal-1478.png', 'Normal-1479.png', 'Normal-148.png', 'Normal-1480.png', 'Normal-1481.png', 'Normal-1482.png', 'Normal-1483.png', 'Normal-1484.png', 'Normal-1485.png', 'Normal-1486.png', 'Normal-1487.png', 'Normal-1488.png', 'Normal-1489.png', 'Normal-149.png', 'Normal-1490.png', 'Normal-1491.png', 'Normal-1492.png', 'Normal-1493.png', 'Normal-1494.png', 'Normal-1495.png', 'Normal-1496.png', 'Normal-1497.png', 'Normal-1498.png', 'Normal-1499.png', 'Normal-15.png', 'Normal-150.png', 'Normal-1500.png', 'Normal-1501.png', 'Normal-1502.png', 'Normal-1503.png', 'Normal-1504.png', 'Normal-1505.png', 'Normal-1506.png', 'Normal-1507.png', 'Normal-1508.png', 'Normal-1509.png', 'Normal-151.png', 'Normal-1510.png', 'Normal-1511.png', 'Normal-1512.png', 'Normal-1513.png', 'Normal-1514.png', 'Normal-1515.png', 'Normal-1516.png', 'Normal-1517.png', 'Normal-1518.png', 'Normal-1519.png', 'Normal-152.png', 'Normal-1520.png', 'Normal-1521.png', 'Normal-1522.png', 'Normal-1523.png', 'Normal-1524.png', 'Normal-1525.png', 'Normal-1526.png', 'Normal-1527.png', 'Normal-1528.png', 'Normal-1529.png', 'Normal-153.png', 'Normal-1530.png', 'Normal-1531.png', 'Normal-1532.png', 'Normal-1533.png', 'Normal-1534.png', 'Normal-1535.png', 'Normal-1536.png', 'Normal-1537.png', 'Normal-1538.png', 'Normal-1539.png', 'Normal-154.png', 'Normal-1540.png', 'Normal-1541.png', 'Normal-1542.png', 'Normal-1543.png', 'Normal-1544.png', 'Normal-1545.png', 'Normal-1546.png', 'Normal-1547.png', 'Normal-1548.png', 'Normal-1549.png', 'Normal-155.png', 'Normal-1550.png', 'Normal-1551.png', 'Normal-1552.png', 'Normal-1553.png', 'Normal-1554.png', 'Normal-1555.png', 'Normal-1556.png', 'Normal-1557.png', 'Normal-1558.png', 'Normal-1559.png', 'Normal-156.png', 'Normal-1560.png', 'Normal-1561.png', 'Normal-1562.png', 'Normal-1563.png', 'Normal-1564.png', 'Normal-1565.png', 'Normal-1566.png', 'Normal-1567.png', 'Normal-1568.png', 'Normal-1569.png', 'Normal-157.png', 'Normal-1570.png', 'Normal-1571.png', 'Normal-1572.png', 'Normal-1573.png', 'Normal-1574.png', 'Normal-1575.png', 'Normal-1576.png', 'Normal-1577.png', 'Normal-1578.png', 'Normal-1579.png', 'Normal-158.png', 'Normal-1580.png', 'Normal-1581.png', 'Normal-1582.png', 'Normal-1583.png', 'Normal-1584.png', 'Normal-1585.png', 'Normal-1586.png', 'Normal-1587.png', 'Normal-1588.png', 'Normal-1589.png', 'Normal-159.png', 'Normal-1590.png', 'Normal-1591.png', 'Normal-1592.png', 'Normal-1593.png', 'Normal-1594.png', 'Normal-1595.png', 'Normal-1596.png', 'Normal-1597.png', 'Normal-1598.png', 'Normal-1599.png', 'Normal-16.png', 'Normal-160.png', 'Normal-1600.png', 'Normal-1601.png', 'Normal-1602.png', 'Normal-1603.png', 'Normal-1604.png', 'Normal-1605.png', 'Normal-1606.png', 'Normal-1607.png', 'Normal-1608.png', 'Normal-1609.png', 'Normal-161.png', 'Normal-1610.png', 'Normal-1611.png', 'Normal-1612.png', 'Normal-1613.png', 'Normal-1614.png', 'Normal-1615.png', 'Normal-1616.png', 'Normal-1617.png', 'Normal-1618.png', 'Normal-1619.png', 'Normal-162.png', 'Normal-1620.png', 'Normal-1621.png', 'Normal-1622.png', 'Normal-1623.png', 'Normal-1624.png', 'Normal-1625.png', 'Normal-1626.png', 'Normal-1627.png', 'Normal-1628.png', 'Normal-1629.png', 'Normal-163.png', 'Normal-1630.png', 'Normal-1631.png', 'Normal-1632.png', 'Normal-1633.png', 'Normal-1634.png', 'Normal-1635.png', 'Normal-1636.png', 'Normal-1637.png', 'Normal-1638.png', 'Normal-1639.png', 'Normal-164.png', 'Normal-1640.png', 'Normal-1641.png', 'Normal-1642.png', 'Normal-1643.png', 'Normal-1644.png', 'Normal-1645.png', 'Normal-1646.png', 'Normal-1647.png', 'Normal-1648.png', 'Normal-1649.png', 'Normal-165.png', 'Normal-1650.png', 'Normal-1651.png', 'Normal-1652.png', 'Normal-1653.png', 'Normal-1654.png', 'Normal-1655.png', 'Normal-1656.png', 'Normal-1657.png', 'Normal-1658.png', 'Normal-1659.png', 'Normal-166.png', 'Normal-1660.png', 'Normal-1661.png', 'Normal-1662.png', 'Normal-1663.png', 'Normal-1664.png', 'Normal-1665.png', 'Normal-1666.png', 'Normal-1667.png', 'Normal-1668.png', 'Normal-1669.png', 'Normal-167.png', 'Normal-1670.png', 'Normal-1671.png', 'Normal-1672.png', 'Normal-1673.png', 'Normal-1674.png', 'Normal-1675.png', 'Normal-1676.png', 'Normal-1677.png', 'Normal-1678.png', 'Normal-1679.png', 'Normal-168.png', 'Normal-1680.png', 'Normal-1681.png', 'Normal-1682.png', 'Normal-1683.png', 'Normal-1684.png', 'Normal-1685.png', 'Normal-1686.png', 'Normal-1687.png', 'Normal-1688.png', 'Normal-1689.png', 'Normal-169.png', 'Normal-1690.png', 'Normal-1691.png', 'Normal-1692.png', 'Normal-1693.png', 'Normal-1694.png', 'Normal-1695.png', 'Normal-1696.png', 'Normal-1697.png', 'Normal-1698.png', 'Normal-1699.png', 'Normal-17.png', 'Normal-170.png', 'Normal-1700.png', 'Normal-1701.png', 'Normal-1702.png', 'Normal-1703.png', 'Normal-1704.png', 'Normal-1705.png', 'Normal-1706.png', 'Normal-1707.png', 'Normal-1708.png', 'Normal-1709.png', 'Normal-171.png', 'Normal-1710.png', 'Normal-1711.png', 'Normal-1712.png', 'Normal-1713.png', 'Normal-1714.png', 'Normal-1715.png', 'Normal-1716.png', 'Normal-1717.png', 'Normal-1718.png', 'Normal-1719.png', 'Normal-172.png', 'Normal-1720.png', 'Normal-1721.png', 'Normal-1722.png', 'Normal-1723.png', 'Normal-1724.png', 'Normal-1725.png', 'Normal-1726.png', 'Normal-1727.png', 'Normal-1728.png', 'Normal-1729.png', 'Normal-173.png', 'Normal-1730.png', 'Normal-1731.png', 'Normal-1732.png', 'Normal-1733.png', 'Normal-1734.png', 'Normal-1735.png', 'Normal-1736.png', 'Normal-1737.png', 'Normal-1738.png', 'Normal-1739.png', 'Normal-174.png', 'Normal-1740.png', 'Normal-1741.png', 'Normal-1742.png', 'Normal-1743.png', 'Normal-1744.png', 'Normal-1745.png', 'Normal-1746.png', 'Normal-1747.png', 'Normal-1748.png', 'Normal-1749.png', 'Normal-175.png', 'Normal-1750.png', 'Normal-1751.png', 'Normal-1752.png', 'Normal-1753.png', 'Normal-1754.png', 'Normal-1755.png', 'Normal-1756.png', 'Normal-1757.png', 'Normal-1758.png', 'Normal-1759.png', 'Normal-176.png', 'Normal-1760.png', 'Normal-1761.png', 'Normal-1762.png', 'Normal-1763.png', 'Normal-1764.png', 'Normal-1765.png', 'Normal-1766.png', 'Normal-1767.png', 'Normal-1768.png', 'Normal-1769.png', 'Normal-177.png', 'Normal-1770.png', 'Normal-1771.png', 'Normal-1772.png', 'Normal-1773.png', 'Normal-1774.png', 'Normal-1775.png', 'Normal-1776.png', 'Normal-1777.png', 'Normal-1778.png', 'Normal-1779.png', 'Normal-178.png', 'Normal-1780.png', 'Normal-1781.png', 'Normal-1782.png', 'Normal-1783.png', 'Normal-1784.png', 'Normal-1785.png', 'Normal-1786.png', 'Normal-1787.png', 'Normal-1788.png', 'Normal-1789.png', 'Normal-179.png', 'Normal-1790.png', 'Normal-1791.png', 'Normal-1792.png', 'Normal-1793.png', 'Normal-1794.png', 'Normal-1795.png', 'Normal-1796.png', 'Normal-1797.png', 'Normal-1798.png', 'Normal-1799.png', 'Normal-18.png', 'Normal-180.png', 'Normal-1800.png', 'Normal-1801.png', 'Normal-1802.png', 'Normal-1803.png', 'Normal-1804.png', 'Normal-1805.png', 'Normal-1806.png', 'Normal-1807.png', 'Normal-1808.png', 'Normal-1809.png', 'Normal-181.png', 'Normal-1810.png', 'Normal-1811.png', 'Normal-1812.png', 'Normal-1813.png', 'Normal-1814.png', 'Normal-1815.png', 'Normal-1816.png', 'Normal-1817.png', 'Normal-1818.png', 'Normal-1819.png', 'Normal-182.png', 'Normal-1820.png', 'Normal-1821.png', 'Normal-1822.png', 'Normal-1823.png', 'Normal-1824.png', 'Normal-1825.png', 'Normal-1826.png', 'Normal-1827.png', 'Normal-1828.png', 'Normal-1829.png', 'Normal-183.png', 'Normal-1830.png', 'Normal-1831.png', 'Normal-1832.png', 'Normal-1833.png', 'Normal-1834.png', 'Normal-1835.png', 'Normal-1836.png', 'Normal-1837.png', 'Normal-1838.png', 'Normal-1839.png', 'Normal-184.png', 'Normal-1840.png', 'Normal-1841.png', 'Normal-1842.png', 'Normal-1843.png', 'Normal-1844.png', 'Normal-1845.png', 'Normal-1846.png', 'Normal-1847.png', 'Normal-1848.png', 'Normal-1849.png', 'Normal-185.png', 'Normal-1850.png', 'Normal-1851.png', 'Normal-1852.png', 'Normal-1853.png', 'Normal-1854.png', 'Normal-1855.png', 'Normal-1856.png', 'Normal-1857.png', 'Normal-1858.png', 'Normal-1859.png', 'Normal-186.png', 'Normal-1860.png', 'Normal-1861.png', 'Normal-1862.png', 'Normal-1863.png', 'Normal-1864.png', 'Normal-1865.png', 'Normal-1866.png', 'Normal-1867.png', 'Normal-1868.png', 'Normal-1869.png', 'Normal-187.png', 'Normal-1870.png', 'Normal-1871.png', 'Normal-1872.png', 'Normal-1873.png', 'Normal-1874.png', 'Normal-1875.png', 'Normal-1876.png', 'Normal-1877.png', 'Normal-1878.png', 'Normal-1879.png', 'Normal-188.png', 'Normal-1880.png', 'Normal-1881.png', 'Normal-1882.png', 'Normal-1883.png', 'Normal-1884.png', 'Normal-1885.png', 'Normal-1886.png', 'Normal-1887.png', 'Normal-1888.png', 'Normal-1889.png', 'Normal-189.png', 'Normal-1890.png', 'Normal-1891.png', 'Normal-1892.png', 'Normal-1893.png', 'Normal-1894.png', 'Normal-1895.png', 'Normal-1896.png', 'Normal-1897.png', 'Normal-1898.png', 'Normal-1899.png', 'Normal-19.png', 'Normal-190.png', 'Normal-1900.png', 'Normal-1901.png', 'Normal-1902.png', 'Normal-1903.png', 'Normal-1904.png', 'Normal-1905.png', 'Normal-1906.png', 'Normal-1907.png', 'Normal-1908.png', 'Normal-1909.png', 'Normal-191.png', 'Normal-1910.png', 'Normal-1911.png', 'Normal-1912.png', 'Normal-1913.png', 'Normal-1914.png', 'Normal-1915.png', 'Normal-1916.png', 'Normal-1917.png', 'Normal-1918.png', 'Normal-1919.png', 'Normal-192.png', 'Normal-1920.png', 'Normal-1921.png', 'Normal-1922.png', 'Normal-1923.png', 'Normal-1924.png', 'Normal-1925.png', 'Normal-1926.png', 'Normal-1927.png', 'Normal-1928.png', 'Normal-1929.png', 'Normal-193.png', 'Normal-1930.png', 'Normal-1931.png', 'Normal-1932.png', 'Normal-1933.png', 'Normal-1934.png', 'Normal-1935.png', 'Normal-1936.png', 'Normal-1937.png', 'Normal-1938.png', 'Normal-1939.png', 'Normal-194.png', 'Normal-1940.png', 'Normal-1941.png', 'Normal-1942.png', 'Normal-1943.png', 'Normal-1944.png', 'Normal-1945.png', 'Normal-1946.png', 'Normal-1947.png', 'Normal-1948.png', 'Normal-1949.png', 'Normal-195.png', 'Normal-1950.png', 'Normal-1951.png', 'Normal-1952.png', 'Normal-1953.png', 'Normal-1954.png', 'Normal-1955.png', 'Normal-1956.png', 'Normal-1957.png', 'Normal-1958.png', 'Normal-1959.png', 'Normal-196.png', 'Normal-1960.png', 'Normal-1961.png', 'Normal-1962.png', 'Normal-1963.png', 'Normal-1964.png', 'Normal-1965.png', 'Normal-1966.png', 'Normal-1967.png', 'Normal-1968.png', 'Normal-1969.png', 'Normal-197.png', 'Normal-1970.png', 'Normal-1971.png', 'Normal-1972.png', 'Normal-1973.png', 'Normal-1974.png', 'Normal-1975.png', 'Normal-1976.png', 'Normal-1977.png', 'Normal-1978.png', 'Normal-1979.png', 'Normal-198.png', 'Normal-1980.png', 'Normal-1981.png', 'Normal-1982.png', 'Normal-1983.png', 'Normal-1984.png', 'Normal-1985.png', 'Normal-1986.png', 'Normal-1987.png', 'Normal-1988.png', 'Normal-1989.png', 'Normal-199.png', 'Normal-1990.png', 'Normal-1991.png', 'Normal-1992.png', 'Normal-1993.png', 'Normal-1994.png', 'Normal-1995.png', 'Normal-1996.png', 'Normal-1997.png', 'Normal-1998.png', 'Normal-1999.png', 'Normal-2.png', 'Normal-20.png', 'Normal-200.png', 'Normal-2000.png', 'Normal-2001.png', 'Normal-2002.png', 'Normal-2003.png', 'Normal-2004.png', 'Normal-2005.png', 'Normal-2006.png', 'Normal-2007.png', 'Normal-2008.png', 'Normal-2009.png', 'Normal-201.png', 'Normal-2010.png', 'Normal-2011.png', 'Normal-2012.png', 'Normal-2013.png', 'Normal-2014.png', 'Normal-2015.png', 'Normal-2016.png', 'Normal-2017.png', 'Normal-2018.png', 'Normal-2019.png', 'Normal-202.png', 'Normal-2020.png', 'Normal-2021.png', 'Normal-2022.png', 'Normal-2023.png', 'Normal-2024.png', 'Normal-2025.png', 'Normal-2026.png', 'Normal-2027.png', 'Normal-2028.png', 'Normal-2029.png', 'Normal-203.png', 'Normal-2030.png', 'Normal-2031.png', 'Normal-2032.png', 'Normal-2033.png', 'Normal-2034.png', 'Normal-2035.png', 'Normal-2036.png', 'Normal-2037.png', 'Normal-2038.png', 'Normal-2039.png', 'Normal-204.png', 'Normal-2040.png', 'Normal-2041.png', 'Normal-2042.png', 'Normal-2043.png', 'Normal-2044.png', 'Normal-2045.png', 'Normal-2046.png', 'Normal-2047.png', 'Normal-2048.png', 'Normal-2049.png', 'Normal-205.png', 'Normal-2050.png', 'Normal-2051.png', 'Normal-2052.png', 'Normal-2053.png', 'Normal-2054.png', 'Normal-2055.png', 'Normal-2056.png', 'Normal-2057.png', 'Normal-2058.png', 'Normal-2059.png', 'Normal-206.png', 'Normal-2060.png', 'Normal-2061.png', 'Normal-2062.png', 'Normal-2063.png', 'Normal-2064.png', 'Normal-2065.png', 'Normal-2066.png', 'Normal-2067.png', 'Normal-2068.png', 'Normal-2069.png', 'Normal-207.png', 'Normal-2070.png', 'Normal-2071.png', 'Normal-2072.png', 'Normal-2073.png', 'Normal-2074.png', 'Normal-2075.png', 'Normal-2076.png', 'Normal-2077.png', 'Normal-2078.png', 'Normal-2079.png', 'Normal-208.png', 'Normal-2080.png', 'Normal-2081.png', 'Normal-2082.png', 'Normal-2083.png', 'Normal-2084.png', 'Normal-2085.png', 'Normal-2086.png', 'Normal-2087.png', 'Normal-2088.png', 'Normal-2089.png', 'Normal-209.png', 'Normal-2090.png', 'Normal-2091.png', 'Normal-2092.png', 'Normal-2093.png', 'Normal-2094.png', 'Normal-2095.png', 'Normal-2096.png', 'Normal-2097.png', 'Normal-2098.png', 'Normal-2099.png', 'Normal-21.png', 'Normal-210.png', 'Normal-2100.png', 'Normal-2101.png', 'Normal-2102.png', 'Normal-2103.png', 'Normal-2104.png', 'Normal-2105.png', 'Normal-2106.png', 'Normal-2107.png', 'Normal-2108.png', 'Normal-2109.png', 'Normal-211.png', 'Normal-2110.png', 'Normal-2111.png', 'Normal-2112.png', 'Normal-2113.png', 'Normal-2114.png', 'Normal-2115.png', 'Normal-2116.png', 'Normal-2117.png', 'Normal-2118.png', 'Normal-2119.png', 'Normal-212.png', 'Normal-2120.png', 'Normal-2121.png', 'Normal-2122.png', 'Normal-2123.png', 'Normal-2124.png', 'Normal-2125.png', 'Normal-2126.png', 'Normal-2127.png', 'Normal-2128.png', 'Normal-2129.png', 'Normal-213.png', 'Normal-2130.png', 'Normal-2131.png', 'Normal-2132.png', 'Normal-2133.png', 'Normal-2134.png', 'Normal-2135.png', 'Normal-2136.png', 'Normal-2137.png', 'Normal-2138.png', 'Normal-2139.png', 'Normal-214.png', 'Normal-2140.png', 'Normal-2141.png', 'Normal-2142.png', 'Normal-2143.png', 'Normal-2144.png', 'Normal-2145.png', 'Normal-2146.png', 'Normal-2147.png', 'Normal-2148.png', 'Normal-2149.png', 'Normal-215.png', 'Normal-2150.png', 'Normal-2151.png', 'Normal-2152.png', 'Normal-2153.png', 'Normal-2154.png', 'Normal-2155.png', 'Normal-2156.png', 'Normal-2157.png', 'Normal-2158.png', 'Normal-2159.png', 'Normal-216.png', 'Normal-2160.png', 'Normal-2161.png', 'Normal-2162.png', 'Normal-2163.png', 'Normal-2164.png', 'Normal-2165.png', 'Normal-2166.png', 'Normal-2167.png', 'Normal-2168.png', 'Normal-2169.png', 'Normal-217.png', 'Normal-2170.png', 'Normal-2171.png', 'Normal-2172.png', 'Normal-2173.png', 'Normal-2174.png', 'Normal-2175.png', 'Normal-2176.png', 'Normal-2177.png', 'Normal-2178.png', 'Normal-2179.png', 'Normal-218.png', 'Normal-2180.png', 'Normal-2181.png', 'Normal-2182.png', 'Normal-2183.png', 'Normal-2184.png', 'Normal-2185.png', 'Normal-2186.png', 'Normal-2187.png', 'Normal-2188.png', 'Normal-2189.png', 'Normal-219.png', 'Normal-2190.png', 'Normal-2191.png', 'Normal-2192.png', 'Normal-2193.png', 'Normal-2194.png', 'Normal-2195.png', 'Normal-2196.png', 'Normal-2197.png', 'Normal-2198.png', 'Normal-2199.png', 'Normal-22.png', 'Normal-220.png', 'Normal-2200.png', 'Normal-2201.png', 'Normal-2202.png', 'Normal-2203.png', 'Normal-2204.png', 'Normal-2205.png', 'Normal-2206.png', 'Normal-2207.png', 'Normal-2208.png', 'Normal-2209.png', 'Normal-221.png', 'Normal-2210.png', 'Normal-2211.png', 'Normal-2212.png', 'Normal-2213.png', 'Normal-2214.png', 'Normal-2215.png', 'Normal-2216.png', 'Normal-2217.png', 'Normal-2218.png', 'Normal-2219.png', 'Normal-222.png', 'Normal-2220.png', 'Normal-2221.png', 'Normal-2222.png', 'Normal-2223.png', 'Normal-2224.png', 'Normal-2225.png', 'Normal-2226.png', 'Normal-2227.png', 'Normal-2228.png', 'Normal-2229.png', 'Normal-223.png', 'Normal-2230.png', 'Normal-2231.png', 'Normal-2232.png', 'Normal-2233.png', 'Normal-2234.png', 'Normal-2235.png', 'Normal-2236.png', 'Normal-2237.png', 'Normal-2238.png', 'Normal-2239.png', 'Normal-224.png', 'Normal-2240.png', 'Normal-2241.png', 'Normal-2242.png', 'Normal-2243.png', 'Normal-2244.png', 'Normal-2245.png', 'Normal-2246.png', 'Normal-2247.png', 'Normal-2248.png', 'Normal-2249.png', 'Normal-225.png', 'Normal-2250.png', 'Normal-2251.png', 'Normal-2252.png', 'Normal-2253.png', 'Normal-2254.png', 'Normal-2255.png', 'Normal-2256.png', 'Normal-2257.png', 'Normal-2258.png', 'Normal-2259.png', 'Normal-226.png', 'Normal-2260.png', 'Normal-2261.png', 'Normal-2262.png', 'Normal-2263.png', 'Normal-2264.png', 'Normal-2265.png', 'Normal-2266.png', 'Normal-2267.png', 'Normal-2268.png', 'Normal-2269.png', 'Normal-227.png', 'Normal-2270.png', 'Normal-2271.png', 'Normal-2272.png', 'Normal-2273.png', 'Normal-2274.png', 'Normal-2275.png', 'Normal-2276.png', 'Normal-2277.png', 'Normal-2278.png', 'Normal-2279.png', 'Normal-228.png', 'Normal-2280.png', 'Normal-2281.png', 'Normal-2282.png', 'Normal-2283.png', 'Normal-2284.png', 'Normal-2285.png', 'Normal-2286.png', 'Normal-2287.png', 'Normal-2288.png', 'Normal-2289.png', 'Normal-229.png', 'Normal-2290.png', 'Normal-2291.png', 'Normal-2292.png', 'Normal-2293.png', 'Normal-2294.png', 'Normal-2295.png', 'Normal-2296.png', 'Normal-2297.png', 'Normal-2298.png', 'Normal-2299.png', 'Normal-23.png', 'Normal-230.png', 'Normal-2300.png', 'Normal-2301.png', 'Normal-2302.png', 'Normal-2303.png', 'Normal-2304.png', 'Normal-2305.png', 'Normal-2306.png', 'Normal-2307.png', 'Normal-2308.png', 'Normal-2309.png', 'Normal-231.png', 'Normal-2310.png', 'Normal-2311.png', 'Normal-2312.png', 'Normal-2313.png', 'Normal-2314.png', 'Normal-2315.png', 'Normal-2316.png', 'Normal-2317.png', 'Normal-2318.png', 'Normal-2319.png', 'Normal-232.png', 'Normal-2320.png', 'Normal-2321.png', 'Normal-2322.png', 'Normal-2323.png', 'Normal-2324.png', 'Normal-2325.png', 'Normal-2326.png', 'Normal-2327.png', 'Normal-2328.png', 'Normal-2329.png', 'Normal-233.png', 'Normal-2330.png', 'Normal-2331.png', 'Normal-2332.png', 'Normal-2333.png', 'Normal-2334.png', 'Normal-2335.png', 'Normal-2336.png', 'Normal-2337.png', 'Normal-2338.png', 'Normal-2339.png', 'Normal-234.png', 'Normal-2340.png', 'Normal-2341.png', 'Normal-2342.png', 'Normal-2343.png', 'Normal-2344.png', 'Normal-2345.png', 'Normal-2346.png', 'Normal-2347.png', 'Normal-2348.png', 'Normal-2349.png', 'Normal-235.png', 'Normal-2350.png', 'Normal-2351.png', 'Normal-2352.png', 'Normal-2353.png', 'Normal-2354.png', 'Normal-2355.png', 'Normal-2356.png', 'Normal-2357.png', 'Normal-2358.png', 'Normal-2359.png', 'Normal-236.png', 'Normal-2360.png', 'Normal-2361.png', 'Normal-2362.png', 'Normal-2363.png', 'Normal-2364.png', 'Normal-2365.png', 'Normal-2366.png', 'Normal-2367.png', 'Normal-2368.png', 'Normal-2369.png', 'Normal-237.png', 'Normal-2370.png', 'Normal-2371.png', 'Normal-2372.png', 'Normal-2373.png', 'Normal-2374.png', 'Normal-2375.png', 'Normal-2376.png', 'Normal-2377.png', 'Normal-2378.png', 'Normal-2379.png', 'Normal-238.png', 'Normal-2380.png', 'Normal-2381.png', 'Normal-2382.png', 'Normal-2383.png', 'Normal-2384.png', 'Normal-2385.png', 'Normal-2386.png', 'Normal-2387.png', 'Normal-2388.png', 'Normal-2389.png', 'Normal-239.png', 'Normal-2390.png', 'Normal-2391.png', 'Normal-2392.png', 'Normal-2393.png', 'Normal-2394.png', 'Normal-2395.png', 'Normal-2396.png', 'Normal-2397.png', 'Normal-2398.png', 'Normal-2399.png', 'Normal-24.png', 'Normal-240.png', 'Normal-2400.png', 'Normal-2401.png', 'Normal-2402.png', 'Normal-2403.png', 'Normal-2404.png', 'Normal-2405.png', 'Normal-2406.png', 'Normal-2407.png', 'Normal-2408.png', 'Normal-2409.png', 'Normal-241.png', 'Normal-2410.png', 'Normal-2411.png', 'Normal-2412.png', 'Normal-2413.png', 'Normal-2414.png', 'Normal-2415.png', 'Normal-2416.png', 'Normal-2417.png', 'Normal-2418.png', 'Normal-2419.png', 'Normal-242.png', 'Normal-2420.png', 'Normal-2421.png', 'Normal-2422.png', 'Normal-2423.png', 'Normal-2424.png', 'Normal-2425.png', 'Normal-2426.png', 'Normal-2427.png', 'Normal-2428.png', 'Normal-2429.png', 'Normal-243.png', 'Normal-2430.png', 'Normal-2431.png', 'Normal-2432.png', 'Normal-2433.png', 'Normal-2434.png', 'Normal-2435.png', 'Normal-2436.png', 'Normal-2437.png', 'Normal-2438.png', 'Normal-2439.png', 'Normal-244.png', 'Normal-2440.png', 'Normal-2441.png', 'Normal-2442.png', 'Normal-2443.png', 'Normal-2444.png', 'Normal-2445.png', 'Normal-2446.png', 'Normal-2447.png', 'Normal-2448.png', 'Normal-2449.png', 'Normal-245.png', 'Normal-2450.png', 'Normal-2451.png', 'Normal-2452.png', 'Normal-2453.png', 'Normal-2454.png', 'Normal-2455.png', 'Normal-2456.png', 'Normal-2457.png', 'Normal-2458.png', 'Normal-2459.png', 'Normal-246.png', 'Normal-2460.png', 'Normal-2461.png', 'Normal-2462.png', 'Normal-2463.png', 'Normal-2464.png', 'Normal-2465.png', 'Normal-2466.png', 'Normal-2467.png', 'Normal-2468.png', 'Normal-2469.png', 'Normal-247.png', 'Normal-2470.png', 'Normal-2471.png', 'Normal-2472.png', 'Normal-2473.png', 'Normal-2474.png', 'Normal-2475.png', 'Normal-2476.png', 'Normal-2477.png', 'Normal-2478.png', 'Normal-2479.png', 'Normal-248.png', 'Normal-2480.png', 'Normal-2481.png', 'Normal-2482.png', 'Normal-2483.png', 'Normal-2484.png', 'Normal-2485.png', 'Normal-2486.png', 'Normal-2487.png', 'Normal-2488.png', 'Normal-2489.png', 'Normal-249.png', 'Normal-2490.png', 'Normal-2491.png', 'Normal-2492.png', 'Normal-2493.png', 'Normal-2494.png', 'Normal-2495.png', 'Normal-2496.png', 'Normal-2497.png', 'Normal-2498.png', 'Normal-2499.png', 'Normal-25.png', 'Normal-250.png', 'Normal-2500.png', 'Normal-2501.png', 'Normal-2502.png', 'Normal-2503.png', 'Normal-2504.png', 'Normal-2505.png', 'Normal-2506.png', 'Normal-2507.png', 'Normal-2508.png', 'Normal-2509.png', 'Normal-251.png', 'Normal-2510.png', 'Normal-2511.png', 'Normal-2512.png', 'Normal-2513.png', 'Normal-2514.png', 'Normal-2515.png', 'Normal-2516.png', 'Normal-2517.png', 'Normal-2518.png', 'Normal-2519.png', 'Normal-252.png', 'Normal-2520.png', 'Normal-2521.png', 'Normal-2522.png', 'Normal-2523.png', 'Normal-2524.png', 'Normal-2525.png', 'Normal-2526.png', 'Normal-2527.png', 'Normal-2528.png', 'Normal-2529.png', 'Normal-253.png', 'Normal-2530.png', 'Normal-2531.png', 'Normal-2532.png', 'Normal-2533.png', 'Normal-2534.png', 'Normal-2535.png', 'Normal-2536.png', 'Normal-2537.png', 'Normal-2538.png', 'Normal-2539.png', 'Normal-254.png', 'Normal-2540.png', 'Normal-2541.png', 'Normal-2542.png', 'Normal-2543.png', 'Normal-2544.png', 'Normal-2545.png', 'Normal-2546.png', 'Normal-2547.png', 'Normal-2548.png', 'Normal-2549.png', 'Normal-255.png', 'Normal-2550.png', 'Normal-2551.png', 'Normal-2552.png', 'Normal-2553.png', 'Normal-2554.png', 'Normal-2555.png', 'Normal-2556.png', 'Normal-2557.png', 'Normal-2558.png', 'Normal-2559.png', 'Normal-256.png', 'Normal-2560.png', 'Normal-2561.png', 'Normal-2562.png', 'Normal-2563.png', 'Normal-2564.png', 'Normal-2565.png', 'Normal-2566.png', 'Normal-2567.png', 'Normal-2568.png', 'Normal-2569.png', 'Normal-257.png', 'Normal-2570.png', 'Normal-2571.png', 'Normal-2572.png', 'Normal-2573.png', 'Normal-2574.png', 'Normal-2575.png', 'Normal-2576.png', 'Normal-2577.png', 'Normal-2578.png', 'Normal-2579.png', 'Normal-258.png', 'Normal-2580.png', 'Normal-2581.png', 'Normal-2582.png', 'Normal-2583.png', 'Normal-2584.png', 'Normal-2585.png', 'Normal-2586.png', 'Normal-2587.png', 'Normal-2588.png', 'Normal-2589.png', 'Normal-259.png', 'Normal-2590.png', 'Normal-2591.png', 'Normal-2592.png', 'Normal-2593.png', 'Normal-2594.png', 'Normal-2595.png', 'Normal-2596.png', 'Normal-2597.png', 'Normal-2598.png', 'Normal-2599.png', 'Normal-26.png', 'Normal-260.png', 'Normal-2600.png', 'Normal-2601.png', 'Normal-2602.png', 'Normal-2603.png', 'Normal-2604.png', 'Normal-2605.png', 'Normal-2606.png', 'Normal-2607.png', 'Normal-2608.png', 'Normal-2609.png', 'Normal-261.png', 'Normal-2610.png', 'Normal-2611.png', 'Normal-2612.png', 'Normal-2613.png', 'Normal-2614.png', 'Normal-2615.png', 'Normal-2616.png', 'Normal-2617.png', 'Normal-2618.png', 'Normal-2619.png', 'Normal-262.png', 'Normal-2620.png', 'Normal-2621.png', 'Normal-2622.png', 'Normal-2623.png', 'Normal-2624.png', 'Normal-2625.png', 'Normal-2626.png', 'Normal-2627.png', 'Normal-2628.png', 'Normal-2629.png', 'Normal-263.png', 'Normal-2630.png', 'Normal-2631.png', 'Normal-2632.png', 'Normal-2633.png', 'Normal-2634.png', 'Normal-2635.png', 'Normal-2636.png', 'Normal-2637.png', 'Normal-2638.png', 'Normal-2639.png', 'Normal-264.png', 'Normal-2640.png', 'Normal-2641.png', 'Normal-2642.png', 'Normal-2643.png', 'Normal-2644.png', 'Normal-2645.png', 'Normal-2646.png', 'Normal-2647.png', 'Normal-2648.png', 'Normal-2649.png', 'Normal-265.png', 'Normal-2650.png', 'Normal-2651.png', 'Normal-2652.png', 'Normal-2653.png', 'Normal-2654.png', 'Normal-2655.png', 'Normal-2656.png', 'Normal-2657.png', 'Normal-2658.png', 'Normal-2659.png', 'Normal-266.png', 'Normal-2660.png', 'Normal-2661.png', 'Normal-2662.png', 'Normal-2663.png', 'Normal-2664.png', 'Normal-2665.png', 'Normal-2666.png', 'Normal-2667.png', 'Normal-2668.png', 'Normal-2669.png', 'Normal-267.png', 'Normal-2670.png', 'Normal-2671.png', 'Normal-2672.png', 'Normal-2673.png', 'Normal-2674.png', 'Normal-2675.png', 'Normal-2676.png', 'Normal-2677.png', 'Normal-2678.png', 'Normal-2679.png', 'Normal-268.png', 'Normal-2680.png', 'Normal-2681.png', 'Normal-2682.png', 'Normal-2683.png', 'Normal-2684.png', 'Normal-2685.png', 'Normal-2686.png', 'Normal-2687.png', 'Normal-2688.png', 'Normal-2689.png', 'Normal-269.png', 'Normal-2690.png', 'Normal-2691.png', 'Normal-2692.png', 'Normal-2693.png', 'Normal-2694.png', 'Normal-2695.png', 'Normal-2696.png', 'Normal-2697.png', 'Normal-2698.png', 'Normal-2699.png', 'Normal-27.png', 'Normal-270.png', 'Normal-2700.png', 'Normal-2701.png', 'Normal-2702.png', 'Normal-2703.png', 'Normal-2704.png', 'Normal-2705.png', 'Normal-2706.png', 'Normal-2707.png', 'Normal-2708.png', 'Normal-2709.png', 'Normal-271.png', 'Normal-2710.png', 'Normal-2711.png', 'Normal-2712.png', 'Normal-2713.png', 'Normal-2714.png', 'Normal-2715.png', 'Normal-2716.png', 'Normal-2717.png', 'Normal-2718.png', 'Normal-2719.png', 'Normal-272.png', 'Normal-2720.png', 'Normal-2721.png', 'Normal-2722.png', 'Normal-2723.png', 'Normal-2724.png', 'Normal-2725.png', 'Normal-2726.png', 'Normal-2727.png', 'Normal-2728.png', 'Normal-2729.png', 'Normal-273.png', 'Normal-2730.png', 'Normal-2731.png', 'Normal-2732.png', 'Normal-2733.png', 'Normal-2734.png', 'Normal-2735.png', 'Normal-2736.png', 'Normal-2737.png', 'Normal-2738.png', 'Normal-2739.png', 'Normal-274.png', 'Normal-2740.png', 'Normal-2741.png', 'Normal-2742.png', 'Normal-2743.png', 'Normal-2744.png', 'Normal-2745.png', 'Normal-2746.png', 'Normal-2747.png', 'Normal-2748.png', 'Normal-2749.png', 'Normal-275.png', 'Normal-2750.png', 'Normal-2751.png', 'Normal-2752.png', 'Normal-2753.png', 'Normal-2754.png', 'Normal-2755.png', 'Normal-2756.png', 'Normal-2757.png', 'Normal-2758.png', 'Normal-2759.png', 'Normal-276.png', 'Normal-2760.png', 'Normal-2761.png', 'Normal-2762.png', 'Normal-2763.png', 'Normal-2764.png', 'Normal-2765.png', 'Normal-2766.png', 'Normal-2767.png', 'Normal-2768.png', 'Normal-2769.png', 'Normal-277.png', 'Normal-2770.png', 'Normal-2771.png', 'Normal-2772.png', 'Normal-2773.png', 'Normal-2774.png', 'Normal-2775.png', 'Normal-2776.png', 'Normal-2777.png', 'Normal-2778.png', 'Normal-2779.png', 'Normal-278.png', 'Normal-2780.png', 'Normal-2781.png', 'Normal-2782.png', 'Normal-2783.png', 'Normal-2784.png', 'Normal-2785.png', 'Normal-2786.png', 'Normal-2787.png', 'Normal-2788.png', 'Normal-2789.png', 'Normal-279.png', 'Normal-2790.png', 'Normal-2791.png', 'Normal-2792.png', 'Normal-2793.png', 'Normal-2794.png', 'Normal-2795.png', 'Normal-2796.png', 'Normal-2797.png', 'Normal-2798.png', 'Normal-2799.png', 'Normal-28.png', 'Normal-280.png', 'Normal-2800.png', 'Normal-2801.png', 'Normal-2802.png', 'Normal-2803.png', 'Normal-2804.png', 'Normal-2805.png', 'Normal-2806.png', 'Normal-2807.png', 'Normal-2808.png', 'Normal-2809.png', 'Normal-281.png', 'Normal-2810.png', 'Normal-2811.png', 'Normal-2812.png', 'Normal-2813.png', 'Normal-2814.png', 'Normal-2815.png', 'Normal-2816.png', 'Normal-2817.png', 'Normal-2818.png', 'Normal-2819.png', 'Normal-282.png', 'Normal-2820.png', 'Normal-2821.png', 'Normal-2822.png', 'Normal-2823.png', 'Normal-2824.png', 'Normal-2825.png', 'Normal-2826.png', 'Normal-2827.png', 'Normal-2828.png', 'Normal-2829.png', 'Normal-283.png', 'Normal-2830.png', 'Normal-2831.png', 'Normal-2832.png', 'Normal-2833.png', 'Normal-2834.png', 'Normal-2835.png', 'Normal-2836.png', 'Normal-2837.png', 'Normal-2838.png', 'Normal-2839.png', 'Normal-284.png', 'Normal-2840.png', 'Normal-2841.png', 'Normal-2842.png', 'Normal-2843.png', 'Normal-2844.png', 'Normal-2845.png', 'Normal-2846.png', 'Normal-2847.png', 'Normal-2848.png', 'Normal-2849.png', 'Normal-285.png', 'Normal-2850.png', 'Normal-2851.png', 'Normal-2852.png', 'Normal-2853.png', 'Normal-2854.png', 'Normal-2855.png', 'Normal-2856.png', 'Normal-2857.png', 'Normal-2858.png', 'Normal-2859.png', 'Normal-286.png', 'Normal-2860.png', 'Normal-2861.png', 'Normal-2862.png', 'Normal-2863.png', 'Normal-2864.png', 'Normal-2865.png', 'Normal-2866.png', 'Normal-2867.png', 'Normal-2868.png', 'Normal-2869.png', 'Normal-287.png', 'Normal-2870.png', 'Normal-2871.png', 'Normal-2872.png', 'Normal-2873.png', 'Normal-2874.png', 'Normal-2875.png', 'Normal-2876.png', 'Normal-2877.png', 'Normal-2878.png', 'Normal-2879.png', 'Normal-288.png', 'Normal-2880.png', 'Normal-2881.png', 'Normal-2882.png', 'Normal-2883.png', 'Normal-2884.png', 'Normal-2885.png', 'Normal-2886.png', 'Normal-2887.png', 'Normal-2888.png', 'Normal-2889.png', 'Normal-289.png', 'Normal-2890.png', 'Normal-2891.png', 'Normal-2892.png', 'Normal-2893.png', 'Normal-2894.png', 'Normal-2895.png', 'Normal-2896.png', 'Normal-2897.png', 'Normal-2898.png', 'Normal-2899.png', 'Normal-29.png', 'Normal-290.png', 'Normal-2900.png', 'Normal-2901.png', 'Normal-2902.png', 'Normal-2903.png', 'Normal-2904.png', 'Normal-2905.png', 'Normal-2906.png', 'Normal-2907.png', 'Normal-2908.png', 'Normal-2909.png', 'Normal-291.png', 'Normal-2910.png', 'Normal-2911.png', 'Normal-2912.png', 'Normal-2913.png', 'Normal-2914.png', 'Normal-2915.png', 'Normal-2916.png', 'Normal-2917.png', 'Normal-2918.png', 'Normal-2919.png', 'Normal-292.png', 'Normal-2920.png', 'Normal-2921.png', 'Normal-2922.png', 'Normal-2923.png', 'Normal-2924.png', 'Normal-2925.png', 'Normal-2926.png', 'Normal-2927.png', 'Normal-2928.png', 'Normal-2929.png', 'Normal-293.png', 'Normal-2930.png', 'Normal-2931.png', 'Normal-2932.png', 'Normal-2933.png', 'Normal-2934.png', 'Normal-2935.png', 'Normal-2936.png', 'Normal-2937.png', 'Normal-2938.png', 'Normal-2939.png', 'Normal-294.png', 'Normal-2940.png', 'Normal-2941.png', 'Normal-2942.png', 'Normal-2943.png', 'Normal-2944.png', 'Normal-2945.png', 'Normal-2946.png', 'Normal-2947.png', 'Normal-2948.png', 'Normal-2949.png', 'Normal-295.png', 'Normal-2950.png', 'Normal-2951.png', 'Normal-2952.png', 'Normal-2953.png', 'Normal-2954.png', 'Normal-2955.png', 'Normal-2956.png', 'Normal-2957.png', 'Normal-2958.png', 'Normal-2959.png', 'Normal-296.png', 'Normal-2960.png', 'Normal-2961.png', 'Normal-2962.png', 'Normal-2963.png', 'Normal-2964.png', 'Normal-2965.png', 'Normal-2966.png', 'Normal-2967.png', 'Normal-2968.png', 'Normal-2969.png', 'Normal-297.png', 'Normal-2970.png', 'Normal-2971.png', 'Normal-2972.png', 'Normal-2973.png', 'Normal-2974.png', 'Normal-2975.png', 'Normal-2976.png', 'Normal-2977.png', 'Normal-2978.png', 'Normal-2979.png', 'Normal-298.png', 'Normal-2980.png', 'Normal-2981.png', 'Normal-2982.png', 'Normal-2983.png', 'Normal-2984.png', 'Normal-2985.png', 'Normal-2986.png', 'Normal-2987.png', 'Normal-2988.png', 'Normal-2989.png', 'Normal-299.png', 'Normal-2990.png', 'Normal-2991.png', 'Normal-2992.png', 'Normal-2993.png', 'Normal-2994.png', 'Normal-2995.png', 'Normal-2996.png', 'Normal-2997.png', 'Normal-2998.png', 'Normal-2999.png', 'Normal-3.png', 'Normal-30.png', 'Normal-300.png', 'Normal-3000.png', 'Normal-3001.png', 'Normal-3002.png', 'Normal-3003.png', 'Normal-3004.png', 'Normal-3005.png', 'Normal-3006.png', 'Normal-3007.png', 'Normal-3008.png', 'Normal-3009.png', 'Normal-301.png', 'Normal-3010.png', 'Normal-3011.png', 'Normal-3012.png', 'Normal-3013.png', 'Normal-3014.png', 'Normal-3015.png', 'Normal-3016.png', 'Normal-3017.png', 'Normal-3018.png', 'Normal-3019.png', 'Normal-302.png', 'Normal-3020.png', 'Normal-3021.png', 'Normal-3022.png', 'Normal-3023.png', 'Normal-3024.png', 'Normal-3025.png', 'Normal-3026.png', 'Normal-3027.png', 'Normal-3028.png', 'Normal-3029.png', 'Normal-303.png', 'Normal-3030.png', 'Normal-3031.png', 'Normal-3032.png', 'Normal-3033.png', 'Normal-3034.png', 'Normal-3035.png', 'Normal-3036.png', 'Normal-3037.png', 'Normal-3038.png', 'Normal-3039.png', 'Normal-304.png', 'Normal-3040.png', 'Normal-3041.png', 'Normal-3042.png', 'Normal-3043.png', 'Normal-3044.png', 'Normal-3045.png', 'Normal-3046.png', 'Normal-3047.png', 'Normal-3048.png', 'Normal-3049.png', 'Normal-305.png', 'Normal-3050.png', 'Normal-3051.png', 'Normal-3052.png', 'Normal-3053.png', 'Normal-3054.png', 'Normal-3055.png', 'Normal-3056.png', 'Normal-3057.png', 'Normal-3058.png', 'Normal-3059.png', 'Normal-306.png', 'Normal-3060.png', 'Normal-3061.png', 'Normal-3062.png', 'Normal-3063.png', 'Normal-3064.png', 'Normal-3065.png', 'Normal-3066.png', 'Normal-3067.png', 'Normal-3068.png', 'Normal-3069.png', 'Normal-307.png', 'Normal-3070.png', 'Normal-3071.png', 'Normal-3072.png', 'Normal-3073.png', 'Normal-3074.png', 'Normal-3075.png', 'Normal-3076.png', 'Normal-3077.png', 'Normal-3078.png', 'Normal-3079.png', 'Normal-308.png', 'Normal-3080.png', 'Normal-3081.png', 'Normal-3082.png', 'Normal-3083.png', 'Normal-3084.png', 'Normal-3085.png', 'Normal-3086.png', 'Normal-3087.png', 'Normal-3088.png', 'Normal-3089.png', 'Normal-309.png', 'Normal-3090.png', 'Normal-3091.png', 'Normal-3092.png', 'Normal-3093.png', 'Normal-3094.png', 'Normal-3095.png', 'Normal-3096.png', 'Normal-3097.png', 'Normal-3098.png', 'Normal-3099.png', 'Normal-31.png', 'Normal-310.png', 'Normal-3100.png', 'Normal-3101.png', 'Normal-3102.png', 'Normal-3103.png', 'Normal-3104.png', 'Normal-3105.png', 'Normal-3106.png', 'Normal-3107.png', 'Normal-3108.png', 'Normal-3109.png', 'Normal-311.png', 'Normal-3110.png', 'Normal-3111.png', 'Normal-3112.png', 'Normal-3113.png', 'Normal-3114.png', 'Normal-3115.png', 'Normal-3116.png', 'Normal-3117.png', 'Normal-3118.png', 'Normal-3119.png', 'Normal-312.png', 'Normal-3120.png', 'Normal-3121.png', 'Normal-3122.png', 'Normal-3123.png', 'Normal-3124.png', 'Normal-3125.png', 'Normal-3126.png', 'Normal-3127.png', 'Normal-3128.png', 'Normal-3129.png', 'Normal-313.png', 'Normal-3130.png', 'Normal-3131.png', 'Normal-3132.png', 'Normal-3133.png', 'Normal-3134.png', 'Normal-3135.png', 'Normal-3136.png', 'Normal-3137.png', 'Normal-3138.png', 'Normal-3139.png', 'Normal-314.png', 'Normal-3140.png', 'Normal-3141.png', 'Normal-3142.png', 'Normal-3143.png', 'Normal-3144.png', 'Normal-3145.png', 'Normal-3146.png', 'Normal-3147.png', 'Normal-3148.png', 'Normal-3149.png', 'Normal-315.png', 'Normal-3150.png', 'Normal-3151.png', 'Normal-3152.png', 'Normal-3153.png', 'Normal-3154.png', 'Normal-3155.png', 'Normal-3156.png', 'Normal-3157.png', 'Normal-3158.png', 'Normal-3159.png', 'Normal-316.png', 'Normal-3160.png', 'Normal-3161.png', 'Normal-3162.png', 'Normal-3163.png', 'Normal-3164.png', 'Normal-3165.png', 'Normal-3166.png', 'Normal-3167.png', 'Normal-3168.png', 'Normal-3169.png', 'Normal-317.png', 'Normal-3170.png', 'Normal-3171.png', 'Normal-3172.png', 'Normal-3173.png', 'Normal-3174.png', 'Normal-3175.png', 'Normal-3176.png', 'Normal-3177.png', 'Normal-3178.png', 'Normal-3179.png', 'Normal-318.png', 'Normal-3180.png', 'Normal-3181.png', 'Normal-3182.png', 'Normal-3183.png', 'Normal-3184.png', 'Normal-3185.png', 'Normal-3186.png', 'Normal-3187.png', 'Normal-3188.png', 'Normal-3189.png', 'Normal-319.png', 'Normal-3190.png', 'Normal-3191.png', 'Normal-3192.png', 'Normal-3193.png', 'Normal-3194.png', 'Normal-3195.png', 'Normal-3196.png', 'Normal-3197.png', 'Normal-3198.png', 'Normal-3199.png', 'Normal-32.png', 'Normal-320.png', 'Normal-3200.png', 'Normal-3201.png', 'Normal-3202.png', 'Normal-3203.png', 'Normal-3204.png', 'Normal-3205.png', 'Normal-3206.png', 'Normal-3207.png', 'Normal-3208.png', 'Normal-3209.png', 'Normal-321.png', 'Normal-3210.png', 'Normal-3211.png', 'Normal-3212.png', 'Normal-3213.png', 'Normal-3214.png', 'Normal-3215.png', 'Normal-3216.png', 'Normal-3217.png', 'Normal-3218.png', 'Normal-3219.png', 'Normal-322.png', 'Normal-3220.png', 'Normal-3221.png', 'Normal-3222.png', 'Normal-3223.png', 'Normal-3224.png', 'Normal-3225.png', 'Normal-3226.png', 'Normal-3227.png', 'Normal-3228.png', 'Normal-3229.png', 'Normal-323.png', 'Normal-3230.png', 'Normal-3231.png', 'Normal-3232.png', 'Normal-3233.png', 'Normal-3234.png', 'Normal-3235.png', 'Normal-3236.png', 'Normal-3237.png', 'Normal-3238.png', 'Normal-3239.png', 'Normal-324.png', 'Normal-3240.png', 'Normal-3241.png', 'Normal-3242.png', 'Normal-3243.png', 'Normal-3244.png', 'Normal-3245.png', 'Normal-3246.png', 'Normal-3247.png', 'Normal-3248.png', 'Normal-3249.png', 'Normal-325.png', 'Normal-3250.png', 'Normal-3251.png', 'Normal-3252.png', 'Normal-3253.png', 'Normal-3254.png', 'Normal-3255.png', 'Normal-3256.png', 'Normal-3257.png', 'Normal-3258.png', 'Normal-3259.png', 'Normal-326.png', 'Normal-3260.png', 'Normal-3261.png', 'Normal-3262.png', 'Normal-3263.png', 'Normal-3264.png', 'Normal-3265.png', 'Normal-3266.png', 'Normal-3267.png', 'Normal-3268.png', 'Normal-3269.png', 'Normal-327.png', 'Normal-3270.png', 'Normal-3271.png', 'Normal-3272.png', 'Normal-3273.png', 'Normal-3274.png', 'Normal-3275.png', 'Normal-3276.png', 'Normal-3277.png', 'Normal-3278.png', 'Normal-3279.png', 'Normal-328.png', 'Normal-3280.png', 'Normal-3281.png', 'Normal-3282.png', 'Normal-3283.png', 'Normal-3284.png', 'Normal-3285.png', 'Normal-3286.png', 'Normal-3287.png', 'Normal-3288.png', 'Normal-3289.png', 'Normal-329.png', 'Normal-3290.png', 'Normal-3291.png', 'Normal-3292.png', 'Normal-3293.png', 'Normal-3294.png', 'Normal-3295.png', 'Normal-3296.png', 'Normal-3297.png', 'Normal-3298.png', 'Normal-3299.png', 'Normal-33.png', 'Normal-330.png', 'Normal-3300.png', 'Normal-3301.png', 'Normal-3302.png', 'Normal-3303.png', 'Normal-3304.png', 'Normal-3305.png', 'Normal-3306.png', 'Normal-3307.png', 'Normal-3308.png', 'Normal-3309.png', 'Normal-331.png', 'Normal-3310.png', 'Normal-3311.png', 'Normal-3312.png', 'Normal-3313.png', 'Normal-3314.png', 'Normal-3315.png', 'Normal-3316.png', 'Normal-3317.png', 'Normal-3318.png', 'Normal-3319.png', 'Normal-332.png', 'Normal-3320.png', 'Normal-3321.png', 'Normal-3322.png', 'Normal-3323.png', 'Normal-3324.png', 'Normal-3325.png', 'Normal-3326.png', 'Normal-3327.png', 'Normal-3328.png', 'Normal-3329.png', 'Normal-333.png', 'Normal-3330.png', 'Normal-3331.png', 'Normal-3332.png', 'Normal-3333.png', 'Normal-3334.png', 'Normal-3335.png', 'Normal-3336.png', 'Normal-3337.png', 'Normal-3338.png', 'Normal-3339.png', 'Normal-334.png', 'Normal-3340.png', 'Normal-3341.png', 'Normal-3342.png', 'Normal-3343.png', 'Normal-3344.png', 'Normal-3345.png', 'Normal-3346.png', 'Normal-3347.png', 'Normal-3348.png', 'Normal-3349.png', 'Normal-335.png', 'Normal-3350.png', 'Normal-3351.png', 'Normal-3352.png', 'Normal-3353.png', 'Normal-3354.png', 'Normal-3355.png', 'Normal-3356.png', 'Normal-3357.png', 'Normal-3358.png', 'Normal-3359.png', 'Normal-336.png', 'Normal-3360.png', 'Normal-3361.png', 'Normal-3362.png', 'Normal-3363.png', 'Normal-3364.png', 'Normal-3365.png', 'Normal-3366.png', 'Normal-3367.png', 'Normal-3368.png', 'Normal-3369.png', 'Normal-337.png', 'Normal-3370.png', 'Normal-3371.png', 'Normal-3372.png', 'Normal-3373.png', 'Normal-3374.png', 'Normal-3375.png', 'Normal-3376.png', 'Normal-3377.png', 'Normal-3378.png', 'Normal-3379.png', 'Normal-338.png', 'Normal-3380.png', 'Normal-3381.png', 'Normal-3382.png', 'Normal-3383.png', 'Normal-3384.png', 'Normal-3385.png', 'Normal-3386.png', 'Normal-3387.png', 'Normal-3388.png', 'Normal-3389.png', 'Normal-339.png', 'Normal-3390.png', 'Normal-3391.png', 'Normal-3392.png', 'Normal-3393.png', 'Normal-3394.png', 'Normal-3395.png', 'Normal-3396.png', 'Normal-3397.png', 'Normal-3398.png', 'Normal-3399.png', 'Normal-34.png', 'Normal-340.png', 'Normal-3400.png', 'Normal-3401.png', 'Normal-3402.png', 'Normal-3403.png', 'Normal-3404.png', 'Normal-3405.png', 'Normal-3406.png', 'Normal-3407.png', 'Normal-3408.png', 'Normal-3409.png', 'Normal-341.png', 'Normal-3410.png', 'Normal-3411.png', 'Normal-3412.png', 'Normal-3413.png', 'Normal-3414.png', 'Normal-3415.png', 'Normal-3416.png', 'Normal-3417.png', 'Normal-3418.png', 'Normal-3419.png', 'Normal-342.png', 'Normal-3420.png', 'Normal-3421.png', 'Normal-3422.png', 'Normal-3423.png', 'Normal-3424.png', 'Normal-3425.png', 'Normal-3426.png', 'Normal-3427.png', 'Normal-3428.png', 'Normal-3429.png', 'Normal-343.png', 'Normal-3430.png', 'Normal-3431.png', 'Normal-3432.png', 'Normal-3433.png', 'Normal-3434.png', 'Normal-3435.png', 'Normal-3436.png', 'Normal-3437.png', 'Normal-3438.png', 'Normal-3439.png', 'Normal-344.png', 'Normal-3440.png', 'Normal-3441.png', 'Normal-3442.png', 'Normal-3443.png', 'Normal-3444.png', 'Normal-3445.png', 'Normal-3446.png', 'Normal-3447.png', 'Normal-3448.png', 'Normal-3449.png', 'Normal-345.png', 'Normal-3450.png', 'Normal-3451.png', 'Normal-3452.png', 'Normal-3453.png', 'Normal-3454.png', 'Normal-3455.png', 'Normal-3456.png', 'Normal-3457.png', 'Normal-3458.png', 'Normal-3459.png', 'Normal-346.png', 'Normal-3460.png', 'Normal-3461.png', 'Normal-3462.png', 'Normal-3463.png', 'Normal-3464.png', 'Normal-3465.png', 'Normal-3466.png', 'Normal-3467.png', 'Normal-3468.png', 'Normal-3469.png', 'Normal-347.png', 'Normal-3470.png', 'Normal-3471.png', 'Normal-3472.png', 'Normal-3473.png', 'Normal-3474.png', 'Normal-3475.png', 'Normal-3476.png', 'Normal-3477.png', 'Normal-3478.png', 'Normal-3479.png', 'Normal-348.png', 'Normal-3480.png', 'Normal-3481.png', 'Normal-3482.png', 'Normal-3483.png', 'Normal-3484.png', 'Normal-3485.png', 'Normal-3486.png', 'Normal-3487.png', 'Normal-3488.png', 'Normal-3489.png', 'Normal-349.png', 'Normal-3490.png', 'Normal-3491.png', 'Normal-3492.png', 'Normal-3493.png', 'Normal-3494.png', 'Normal-3495.png', 'Normal-3496.png', 'Normal-3497.png', 'Normal-3498.png', 'Normal-3499.png', 'Normal-35.png', 'Normal-350.png', 'Normal-3500.png', 'Normal-3501.png', 'Normal-3502.png', 'Normal-3503.png', 'Normal-3504.png', 'Normal-3505.png', 'Normal-3506.png', 'Normal-3507.png', 'Normal-3508.png', 'Normal-3509.png', 'Normal-351.png', 'Normal-3510.png', 'Normal-3511.png', 'Normal-3512.png', 'Normal-3513.png', 'Normal-3514.png', 'Normal-3515.png', 'Normal-3516.png', 'Normal-3517.png', 'Normal-3518.png', 'Normal-3519.png', 'Normal-352.png', 'Normal-3520.png', 'Normal-3521.png', 'Normal-3522.png', 'Normal-3523.png', 'Normal-3524.png', 'Normal-3525.png', 'Normal-3526.png', 'Normal-3527.png', 'Normal-3528.png', 'Normal-3529.png', 'Normal-353.png', 'Normal-3530.png', 'Normal-3531.png', 'Normal-3532.png', 'Normal-3533.png', 'Normal-3534.png', 'Normal-3535.png', 'Normal-3536.png', 'Normal-3537.png', 'Normal-3538.png', 'Normal-3539.png', 'Normal-354.png', 'Normal-3540.png', 'Normal-3541.png', 'Normal-3542.png', 'Normal-3543.png', 'Normal-3544.png', 'Normal-3545.png', 'Normal-3546.png', 'Normal-3547.png', 'Normal-3548.png', 'Normal-3549.png', 'Normal-355.png', 'Normal-3550.png', 'Normal-3551.png', 'Normal-3552.png', 'Normal-3553.png', 'Normal-3554.png', 'Normal-3555.png', 'Normal-3556.png', 'Normal-3557.png', 'Normal-3558.png', 'Normal-3559.png', 'Normal-356.png', 'Normal-3560.png', 'Normal-3561.png', 'Normal-3562.png', 'Normal-3563.png', 'Normal-3564.png', 'Normal-3565.png', 'Normal-3566.png', 'Normal-3567.png', 'Normal-3568.png', 'Normal-3569.png', 'Normal-357.png', 'Normal-3570.png', 'Normal-3571.png', 'Normal-3572.png', 'Normal-3573.png', 'Normal-3574.png', 'Normal-3575.png', 'Normal-3576.png', 'Normal-3577.png', 'Normal-3578.png', 'Normal-3579.png', 'Normal-358.png', 'Normal-3580.png', 'Normal-3581.png', 'Normal-3582.png', 'Normal-3583.png', 'Normal-3584.png', 'Normal-3585.png', 'Normal-3586.png', 'Normal-3587.png', 'Normal-3588.png', 'Normal-3589.png', 'Normal-359.png', 'Normal-3590.png', 'Normal-3591.png', 'Normal-3592.png', 'Normal-3593.png', 'Normal-3594.png', 'Normal-3595.png', 'Normal-3596.png', 'Normal-3597.png', 'Normal-3598.png', 'Normal-3599.png', 'Normal-36.png', 'Normal-360.png', 'Normal-3600.png', 'Normal-3601.png', 'Normal-3602.png', 'Normal-3603.png', 'Normal-3604.png', 'Normal-3605.png', 'Normal-3606.png', 'Normal-3607.png', 'Normal-3608.png', 'Normal-3609.png', 'Normal-361.png', 'Normal-3610.png', 'Normal-3611.png', 'Normal-3612.png', 'Normal-3613.png', 'Normal-3614.png', 'Normal-3615.png', 'Normal-3616.png', 'Normal-3617.png', 'Normal-3618.png', 'Normal-3619.png', 'Normal-362.png', 'Normal-3620.png', 'Normal-3621.png', 'Normal-3622.png', 'Normal-3623.png', 'Normal-3624.png', 'Normal-3625.png', 'Normal-3626.png', 'Normal-3627.png', 'Normal-3628.png', 'Normal-3629.png', 'Normal-363.png', 'Normal-3630.png', 'Normal-3631.png', 'Normal-3632.png', 'Normal-3633.png', 'Normal-3634.png', 'Normal-3635.png', 'Normal-3636.png', 'Normal-3637.png', 'Normal-3638.png', 'Normal-3639.png', 'Normal-364.png', 'Normal-3640.png', 'Normal-3641.png', 'Normal-3642.png', 'Normal-3643.png', 'Normal-3644.png', 'Normal-3645.png', 'Normal-3646.png', 'Normal-3647.png', 'Normal-3648.png', 'Normal-3649.png', 'Normal-365.png', 'Normal-3650.png', 'Normal-3651.png', 'Normal-3652.png', 'Normal-3653.png', 'Normal-3654.png', 'Normal-3655.png', 'Normal-3656.png', 'Normal-3657.png', 'Normal-3658.png', 'Normal-3659.png', 'Normal-366.png', 'Normal-3660.png', 'Normal-3661.png', 'Normal-3662.png', 'Normal-3663.png', 'Normal-3664.png', 'Normal-3665.png', 'Normal-3666.png', 'Normal-3667.png', 'Normal-3668.png', 'Normal-3669.png', 'Normal-367.png', 'Normal-3670.png', 'Normal-3671.png', 'Normal-3672.png', 'Normal-3673.png', 'Normal-3674.png', 'Normal-3675.png', 'Normal-3676.png', 'Normal-3677.png', 'Normal-3678.png', 'Normal-3679.png', 'Normal-368.png', 'Normal-3680.png', 'Normal-3681.png', 'Normal-3682.png', 'Normal-3683.png', 'Normal-3684.png', 'Normal-3685.png', 'Normal-3686.png', 'Normal-3687.png', 'Normal-3688.png', 'Normal-3689.png', 'Normal-369.png', 'Normal-3690.png', 'Normal-3691.png', 'Normal-3692.png', 'Normal-3693.png', 'Normal-3694.png', 'Normal-3695.png', 'Normal-3696.png', 'Normal-3697.png', 'Normal-3698.png', 'Normal-3699.png', 'Normal-37.png', 'Normal-370.png', 'Normal-3700.png', 'Normal-3701.png', 'Normal-3702.png', 'Normal-3703.png', 'Normal-3704.png', 'Normal-3705.png', 'Normal-3706.png', 'Normal-3707.png', 'Normal-3708.png', 'Normal-3709.png', 'Normal-371.png', 'Normal-3710.png', 'Normal-3711.png', 'Normal-3712.png', 'Normal-3713.png', 'Normal-3714.png', 'Normal-3715.png', 'Normal-3716.png', 'Normal-3717.png', 'Normal-3718.png', 'Normal-3719.png', 'Normal-372.png', 'Normal-3720.png', 'Normal-3721.png', 'Normal-3722.png', 'Normal-3723.png', 'Normal-3724.png', 'Normal-3725.png', 'Normal-3726.png', 'Normal-3727.png', 'Normal-3728.png', 'Normal-3729.png', 'Normal-373.png', 'Normal-3730.png', 'Normal-3731.png', 'Normal-3732.png', 'Normal-3733.png', 'Normal-3734.png', 'Normal-3735.png', 'Normal-3736.png', 'Normal-3737.png', 'Normal-3738.png', 'Normal-3739.png', 'Normal-374.png', 'Normal-3740.png', 'Normal-3741.png', 'Normal-3742.png', 'Normal-3743.png', 'Normal-3744.png', 'Normal-3745.png', 'Normal-3746.png', 'Normal-3747.png', 'Normal-3748.png', 'Normal-3749.png', 'Normal-375.png', 'Normal-3750.png', 'Normal-3751.png', 'Normal-3752.png', 'Normal-3753.png', 'Normal-3754.png', 'Normal-3755.png', 'Normal-3756.png', 'Normal-3757.png', 'Normal-3758.png', 'Normal-3759.png', 'Normal-376.png', 'Normal-3760.png', 'Normal-3761.png', 'Normal-3762.png', 'Normal-3763.png', 'Normal-3764.png', 'Normal-3765.png', 'Normal-3766.png', 'Normal-3767.png', 'Normal-3768.png', 'Normal-3769.png', 'Normal-377.png', 'Normal-3770.png', 'Normal-3771.png', 'Normal-3772.png', 'Normal-3773.png', 'Normal-3774.png', 'Normal-3775.png', 'Normal-3776.png', 'Normal-3777.png', 'Normal-3778.png', 'Normal-3779.png', 'Normal-378.png', 'Normal-3780.png', 'Normal-3781.png', 'Normal-3782.png', 'Normal-3783.png', 'Normal-3784.png', 'Normal-3785.png', 'Normal-3786.png', 'Normal-3787.png', 'Normal-3788.png', 'Normal-3789.png', 'Normal-379.png', 'Normal-3790.png', 'Normal-3791.png', 'Normal-3792.png', 'Normal-3793.png', 'Normal-3794.png', 'Normal-3795.png', 'Normal-3796.png', 'Normal-3797.png', 'Normal-3798.png', 'Normal-3799.png', 'Normal-38.png', 'Normal-380.png', 'Normal-3800.png', 'Normal-3801.png', 'Normal-3802.png', 'Normal-3803.png', 'Normal-3804.png', 'Normal-3805.png', 'Normal-3806.png', 'Normal-3807.png', 'Normal-3808.png', 'Normal-3809.png', 'Normal-381.png', 'Normal-3810.png', 'Normal-3811.png', 'Normal-3812.png', 'Normal-3813.png', 'Normal-3814.png', 'Normal-3815.png', 'Normal-3816.png', 'Normal-3817.png', 'Normal-3818.png', 'Normal-3819.png', 'Normal-382.png', 'Normal-3820.png', 'Normal-3821.png', 'Normal-3822.png', 'Normal-3823.png', 'Normal-3824.png', 'Normal-3825.png', 'Normal-3826.png', 'Normal-3827.png', 'Normal-3828.png', 'Normal-3829.png', 'Normal-383.png', 'Normal-3830.png', 'Normal-3831.png', 'Normal-3832.png', 'Normal-3833.png', 'Normal-3834.png', 'Normal-3835.png', 'Normal-3836.png', 'Normal-3837.png', 'Normal-3838.png', 'Normal-3839.png', 'Normal-384.png', 'Normal-3840.png', 'Normal-3841.png', 'Normal-3842.png', 'Normal-3843.png', 'Normal-3844.png', 'Normal-3845.png', 'Normal-3846.png', 'Normal-3847.png', 'Normal-3848.png', 'Normal-3849.png', 'Normal-385.png', 'Normal-3850.png', 'Normal-3851.png', 'Normal-3852.png', 'Normal-3853.png', 'Normal-3854.png', 'Normal-3855.png', 'Normal-3856.png', 'Normal-3857.png', 'Normal-3858.png', 'Normal-3859.png', 'Normal-386.png', 'Normal-3860.png', 'Normal-3861.png', 'Normal-3862.png', 'Normal-3863.png', 'Normal-3864.png', 'Normal-3865.png', 'Normal-3866.png', 'Normal-3867.png', 'Normal-3868.png', 'Normal-3869.png', 'Normal-387.png', 'Normal-3870.png', 'Normal-3871.png', 'Normal-3872.png', 'Normal-3873.png', 'Normal-3874.png', 'Normal-3875.png', 'Normal-3876.png', 'Normal-3877.png', 'Normal-3878.png', 'Normal-3879.png', 'Normal-388.png', 'Normal-3880.png', 'Normal-3881.png', 'Normal-3882.png', 'Normal-3883.png', 'Normal-3884.png', 'Normal-3885.png', 'Normal-3886.png', 'Normal-3887.png', 'Normal-3888.png', 'Normal-3889.png', 'Normal-389.png', 'Normal-3890.png', 'Normal-3891.png', 'Normal-3892.png', 'Normal-3893.png', 'Normal-3894.png', 'Normal-3895.png', 'Normal-3896.png', 'Normal-3897.png', 'Normal-3898.png', 'Normal-3899.png', 'Normal-39.png', 'Normal-390.png', 'Normal-3900.png', 'Normal-3901.png', 'Normal-3902.png', 'Normal-3903.png', 'Normal-3904.png', 'Normal-3905.png', 'Normal-3906.png', 'Normal-3907.png', 'Normal-3908.png', 'Normal-3909.png', 'Normal-391.png', 'Normal-3910.png', 'Normal-3911.png', 'Normal-3912.png', 'Normal-3913.png', 'Normal-3914.png', 'Normal-3915.png', 'Normal-3916.png', 'Normal-3917.png', 'Normal-3918.png', 'Normal-3919.png', 'Normal-392.png', 'Normal-3920.png', 'Normal-3921.png', 'Normal-3922.png', 'Normal-3923.png', 'Normal-3924.png', 'Normal-3925.png', 'Normal-3926.png', 'Normal-3927.png', 'Normal-3928.png', 'Normal-3929.png', 'Normal-393.png', 'Normal-3930.png', 'Normal-3931.png', 'Normal-3932.png', 'Normal-3933.png', 'Normal-3934.png', 'Normal-3935.png', 'Normal-3936.png', 'Normal-3937.png', 'Normal-3938.png', 'Normal-3939.png', 'Normal-394.png', 'Normal-3940.png', 'Normal-3941.png', 'Normal-3942.png', 'Normal-3943.png', 'Normal-3944.png', 'Normal-3945.png', 'Normal-3946.png', 'Normal-3947.png', 'Normal-3948.png', 'Normal-3949.png', 'Normal-395.png', 'Normal-3950.png', 'Normal-3951.png', 'Normal-3952.png', 'Normal-3953.png', 'Normal-3954.png', 'Normal-3955.png', 'Normal-3956.png', 'Normal-3957.png', 'Normal-3958.png', 'Normal-3959.png', 'Normal-396.png', 'Normal-3960.png', 'Normal-3961.png', 'Normal-3962.png', 'Normal-3963.png', 'Normal-3964.png', 'Normal-3965.png', 'Normal-3966.png', 'Normal-3967.png', 'Normal-3968.png', 'Normal-3969.png', 'Normal-397.png', 'Normal-3970.png', 'Normal-3971.png', 'Normal-3972.png', 'Normal-3973.png', 'Normal-3974.png', 'Normal-3975.png', 'Normal-3976.png', 'Normal-3977.png', 'Normal-3978.png', 'Normal-3979.png', 'Normal-398.png', 'Normal-3980.png', 'Normal-3981.png', 'Normal-3982.png', 'Normal-3983.png', 'Normal-3984.png', 'Normal-3985.png', 'Normal-3986.png', 'Normal-3987.png', 'Normal-3988.png', 'Normal-3989.png', 'Normal-399.png', 'Normal-3990.png', 'Normal-3991.png', 'Normal-3992.png', 'Normal-3993.png', 'Normal-3994.png', 'Normal-3995.png', 'Normal-3996.png', 'Normal-3997.png', 'Normal-3998.png', 'Normal-3999.png', 'Normal-4.png', 'Normal-40.png', 'Normal-400.png', 'Normal-4000.png', 'Normal-4001.png', 'Normal-4002.png', 'Normal-4003.png', 'Normal-4004.png', 'Normal-4005.png', 'Normal-4006.png', 'Normal-4007.png', 'Normal-4008.png', 'Normal-4009.png', 'Normal-401.png', 'Normal-4010.png', 'Normal-4011.png', 'Normal-4012.png', 'Normal-4013.png', 'Normal-4014.png', 'Normal-4015.png', 'Normal-4016.png', 'Normal-4017.png', 'Normal-4018.png', 'Normal-4019.png', 'Normal-402.png', 'Normal-4020.png', 'Normal-4021.png', 'Normal-4022.png', 'Normal-4023.png', 'Normal-4024.png', 'Normal-4025.png', 'Normal-4026.png', 'Normal-4027.png', 'Normal-4028.png', 'Normal-4029.png', 'Normal-403.png', 'Normal-4030.png', 'Normal-4031.png', 'Normal-4032.png', 'Normal-4033.png', 'Normal-4034.png', 'Normal-4035.png', 'Normal-4036.png', 'Normal-4037.png', 'Normal-4038.png', 'Normal-4039.png', 'Normal-404.png', 'Normal-4040.png', 'Normal-4041.png', 'Normal-4042.png', 'Normal-4043.png', 'Normal-4044.png', 'Normal-4045.png', 'Normal-4046.png', 'Normal-4047.png', 'Normal-4048.png', 'Normal-4049.png', 'Normal-405.png', 'Normal-4050.png', 'Normal-4051.png', 'Normal-4052.png', 'Normal-4053.png', 'Normal-4054.png', 'Normal-4055.png', 'Normal-4056.png', 'Normal-4057.png', 'Normal-4058.png', 'Normal-4059.png', 'Normal-406.png', 'Normal-4060.png', 'Normal-4061.png', 'Normal-4062.png', 'Normal-4063.png', 'Normal-4064.png', 'Normal-4065.png', 'Normal-4066.png', 'Normal-4067.png', 'Normal-4068.png', 'Normal-4069.png', 'Normal-407.png', 'Normal-4070.png', 'Normal-4071.png', 'Normal-4072.png', 'Normal-4073.png', 'Normal-4074.png', 'Normal-4075.png', 'Normal-4076.png', 'Normal-4077.png', 'Normal-4078.png', 'Normal-4079.png', 'Normal-408.png', 'Normal-4080.png', 'Normal-4081.png', 'Normal-4082.png', 'Normal-4083.png', 'Normal-4084.png', 'Normal-4085.png', 'Normal-4086.png', 'Normal-4087.png', 'Normal-4088.png', 'Normal-4089.png', 'Normal-409.png', 'Normal-4090.png', 'Normal-4091.png', 'Normal-4092.png', 'Normal-4093.png', 'Normal-4094.png', 'Normal-4095.png', 'Normal-4096.png', 'Normal-4097.png', 'Normal-4098.png', 'Normal-4099.png', 'Normal-41.png', 'Normal-410.png', 'Normal-4100.png', 'Normal-4101.png', 'Normal-4102.png', 'Normal-4103.png', 'Normal-4104.png', 'Normal-4105.png', 'Normal-4106.png', 'Normal-4107.png', 'Normal-4108.png', 'Normal-4109.png', 'Normal-411.png', 'Normal-4110.png', 'Normal-4111.png', 'Normal-4112.png', 'Normal-4113.png', 'Normal-4114.png', 'Normal-4115.png', 'Normal-4116.png', 'Normal-4117.png', 'Normal-4118.png', 'Normal-4119.png', 'Normal-412.png', 'Normal-4120.png', 'Normal-4121.png', 'Normal-4122.png', 'Normal-4123.png', 'Normal-4124.png', 'Normal-4125.png', 'Normal-4126.png', 'Normal-4127.png', 'Normal-4128.png', 'Normal-4129.png', 'Normal-413.png', 'Normal-4130.png', 'Normal-4131.png', 'Normal-4132.png', 'Normal-4133.png', 'Normal-4134.png', 'Normal-4135.png', 'Normal-4136.png', 'Normal-4137.png', 'Normal-4138.png', 'Normal-4139.png', 'Normal-414.png', 'Normal-4140.png', 'Normal-4141.png', 'Normal-4142.png', 'Normal-4143.png', 'Normal-4144.png', 'Normal-4145.png', 'Normal-4146.png', 'Normal-4147.png', 'Normal-4148.png', 'Normal-4149.png', 'Normal-415.png', 'Normal-4150.png', 'Normal-4151.png', 'Normal-4152.png', 'Normal-4153.png', 'Normal-4154.png', 'Normal-4155.png', 'Normal-4156.png', 'Normal-4157.png', 'Normal-4158.png', 'Normal-4159.png', 'Normal-416.png', 'Normal-4160.png', 'Normal-4161.png', 'Normal-4162.png', 'Normal-4163.png', 'Normal-4164.png', 'Normal-4165.png', 'Normal-4166.png', 'Normal-4167.png', 'Normal-4168.png', 'Normal-4169.png', 'Normal-417.png', 'Normal-4170.png', 'Normal-4171.png', 'Normal-4172.png', 'Normal-4173.png', 'Normal-4174.png', 'Normal-4175.png', 'Normal-4176.png', 'Normal-4177.png', 'Normal-4178.png', 'Normal-4179.png', 'Normal-418.png', 'Normal-4180.png', 'Normal-4181.png', 'Normal-4182.png', 'Normal-4183.png', 'Normal-4184.png', 'Normal-4185.png', 'Normal-4186.png', 'Normal-4187.png', 'Normal-4188.png', 'Normal-4189.png', 'Normal-419.png', 'Normal-4190.png', 'Normal-4191.png', 'Normal-4192.png', 'Normal-4193.png', 'Normal-4194.png', 'Normal-4195.png', 'Normal-4196.png', 'Normal-4197.png', 'Normal-4198.png', 'Normal-4199.png', 'Normal-42.png', 'Normal-420.png', 'Normal-4200.png', 'Normal-4201.png', 'Normal-4202.png', 'Normal-4203.png', 'Normal-4204.png', 'Normal-4205.png', 'Normal-4206.png', 'Normal-4207.png', 'Normal-4208.png', 'Normal-4209.png', 'Normal-421.png', 'Normal-4210.png', 'Normal-4211.png', 'Normal-4212.png', 'Normal-4213.png', 'Normal-4214.png', 'Normal-4215.png', 'Normal-4216.png', 'Normal-4217.png', 'Normal-4218.png', 'Normal-4219.png', 'Normal-422.png', 'Normal-4220.png', 'Normal-4221.png', 'Normal-4222.png', 'Normal-4223.png', 'Normal-4224.png', 'Normal-4225.png', 'Normal-4226.png', 'Normal-4227.png', 'Normal-4228.png', 'Normal-4229.png', 'Normal-423.png', 'Normal-4230.png', 'Normal-4231.png', 'Normal-4232.png', 'Normal-4233.png', 'Normal-4234.png', 'Normal-4235.png', 'Normal-4236.png', 'Normal-4237.png', 'Normal-4238.png', 'Normal-4239.png', 'Normal-424.png', 'Normal-4240.png', 'Normal-4241.png', 'Normal-4242.png', 'Normal-4243.png', 'Normal-4244.png', 'Normal-4245.png', 'Normal-4246.png', 'Normal-4247.png', 'Normal-4248.png', 'Normal-4249.png', 'Normal-425.png', 'Normal-4250.png', 'Normal-4251.png', 'Normal-4252.png', 'Normal-4253.png', 'Normal-4254.png', 'Normal-4255.png', 'Normal-4256.png', 'Normal-4257.png', 'Normal-4258.png', 'Normal-4259.png', 'Normal-426.png', 'Normal-4260.png', 'Normal-4261.png', 'Normal-4262.png', 'Normal-4263.png', 'Normal-4264.png', 'Normal-4265.png', 'Normal-4266.png', 'Normal-4267.png', 'Normal-4268.png', 'Normal-4269.png', 'Normal-427.png', 'Normal-4270.png', 'Normal-4271.png', 'Normal-4272.png', 'Normal-4273.png', 'Normal-4274.png', 'Normal-4275.png', 'Normal-4276.png', 'Normal-4277.png', 'Normal-4278.png', 'Normal-4279.png', 'Normal-428.png', 'Normal-4280.png', 'Normal-4281.png', 'Normal-4282.png', 'Normal-4283.png', 'Normal-4284.png', 'Normal-4285.png', 'Normal-4286.png', 'Normal-4287.png', 'Normal-4288.png', 'Normal-4289.png', 'Normal-429.png', 'Normal-4290.png', 'Normal-4291.png', 'Normal-4292.png', 'Normal-4293.png', 'Normal-4294.png', 'Normal-4295.png', 'Normal-4296.png', 'Normal-4297.png', 'Normal-4298.png', 'Normal-4299.png', 'Normal-43.png', 'Normal-430.png', 'Normal-4300.png', 'Normal-4301.png', 'Normal-4302.png', 'Normal-4303.png', 'Normal-4304.png', 'Normal-4305.png', 'Normal-4306.png', 'Normal-4307.png', 'Normal-4308.png', 'Normal-4309.png', 'Normal-431.png', 'Normal-4310.png', 'Normal-4311.png', 'Normal-4312.png', 'Normal-4313.png', 'Normal-4314.png', 'Normal-4315.png', 'Normal-4316.png', 'Normal-4317.png', 'Normal-4318.png', 'Normal-4319.png', 'Normal-432.png', 'Normal-4320.png', 'Normal-4321.png', 'Normal-4322.png', 'Normal-4323.png', 'Normal-4324.png', 'Normal-4325.png', 'Normal-4326.png', 'Normal-4327.png', 'Normal-4328.png', 'Normal-4329.png', 'Normal-433.png', 'Normal-4330.png', 'Normal-4331.png', 'Normal-4332.png', 'Normal-4333.png', 'Normal-4334.png', 'Normal-4335.png', 'Normal-4336.png', 'Normal-4337.png', 'Normal-4338.png', 'Normal-4339.png', 'Normal-434.png', 'Normal-4340.png', 'Normal-4341.png', 'Normal-4342.png', 'Normal-4343.png', 'Normal-4344.png', 'Normal-4345.png', 'Normal-4346.png', 'Normal-4347.png', 'Normal-4348.png', 'Normal-4349.png', 'Normal-435.png', 'Normal-4350.png', 'Normal-4351.png', 'Normal-4352.png', 'Normal-4353.png', 'Normal-4354.png', 'Normal-4355.png', 'Normal-4356.png', 'Normal-4357.png', 'Normal-4358.png', 'Normal-4359.png', 'Normal-436.png', 'Normal-4360.png', 'Normal-4361.png', 'Normal-4362.png', 'Normal-4363.png', 'Normal-4364.png', 'Normal-4365.png', 'Normal-4366.png', 'Normal-4367.png', 'Normal-4368.png', 'Normal-4369.png', 'Normal-437.png', 'Normal-4370.png', 'Normal-4371.png', 'Normal-4372.png', 'Normal-4373.png', 'Normal-4374.png', 'Normal-4375.png', 'Normal-4376.png', 'Normal-4377.png', 'Normal-4378.png', 'Normal-4379.png', 'Normal-438.png', 'Normal-4380.png', 'Normal-4381.png', 'Normal-4382.png', 'Normal-4383.png', 'Normal-4384.png', 'Normal-4385.png', 'Normal-4386.png', 'Normal-4387.png', 'Normal-4388.png', 'Normal-4389.png', 'Normal-439.png', 'Normal-4390.png', 'Normal-4391.png', 'Normal-4392.png', 'Normal-4393.png', 'Normal-4394.png', 'Normal-4395.png', 'Normal-4396.png', 'Normal-4397.png', 'Normal-4398.png', 'Normal-4399.png', 'Normal-44.png', 'Normal-440.png', 'Normal-4400.png', 'Normal-4401.png', 'Normal-4402.png', 'Normal-4403.png', 'Normal-4404.png', 'Normal-4405.png', 'Normal-4406.png', 'Normal-4407.png', 'Normal-4408.png', 'Normal-4409.png', 'Normal-441.png', 'Normal-4410.png', 'Normal-4411.png', 'Normal-4412.png', 'Normal-4413.png', 'Normal-4414.png', 'Normal-4415.png', 'Normal-4416.png', 'Normal-4417.png', 'Normal-4418.png', 'Normal-4419.png', 'Normal-442.png', 'Normal-4420.png', 'Normal-4421.png', 'Normal-4422.png', 'Normal-4423.png', 'Normal-4424.png', 'Normal-4425.png', 'Normal-4426.png', 'Normal-4427.png', 'Normal-4428.png', 'Normal-4429.png', 'Normal-443.png', 'Normal-4430.png', 'Normal-4431.png', 'Normal-4432.png', 'Normal-4433.png', 'Normal-4434.png', 'Normal-4435.png', 'Normal-4436.png', 'Normal-4437.png', 'Normal-4438.png', 'Normal-4439.png', 'Normal-444.png', 'Normal-4440.png', 'Normal-4441.png', 'Normal-4442.png', 'Normal-4443.png', 'Normal-4444.png', 'Normal-4445.png', 'Normal-4446.png', 'Normal-4447.png', 'Normal-4448.png', 'Normal-4449.png', 'Normal-445.png', 'Normal-4450.png', 'Normal-4451.png', 'Normal-4452.png', 'Normal-4453.png', 'Normal-4454.png', 'Normal-4455.png', 'Normal-4456.png', 'Normal-4457.png', 'Normal-4458.png', 'Normal-4459.png', 'Normal-446.png', 'Normal-4460.png', 'Normal-4461.png', 'Normal-4462.png', 'Normal-4463.png', 'Normal-4464.png', 'Normal-4465.png', 'Normal-4466.png', 'Normal-4467.png', 'Normal-4468.png', 'Normal-4469.png', 'Normal-447.png', 'Normal-4470.png', 'Normal-4471.png', 'Normal-4472.png', 'Normal-4473.png', 'Normal-4474.png', 'Normal-4475.png', 'Normal-4476.png', 'Normal-4477.png', 'Normal-4478.png', 'Normal-4479.png', 'Normal-448.png', 'Normal-4480.png', 'Normal-4481.png', 'Normal-4482.png', 'Normal-4483.png', 'Normal-4484.png', 'Normal-4485.png', 'Normal-4486.png', 'Normal-4487.png', 'Normal-4488.png', 'Normal-4489.png', 'Normal-449.png', 'Normal-4490.png', 'Normal-4491.png', 'Normal-4492.png', 'Normal-4493.png', 'Normal-4494.png', 'Normal-4495.png', 'Normal-4496.png', 'Normal-4497.png', 'Normal-4498.png', 'Normal-4499.png', 'Normal-45.png', 'Normal-450.png', 'Normal-4500.png', 'Normal-4501.png', 'Normal-4502.png', 'Normal-4503.png', 'Normal-4504.png', 'Normal-4505.png', 'Normal-4506.png', 'Normal-4507.png', 'Normal-4508.png', 'Normal-4509.png', 'Normal-451.png', 'Normal-4510.png', 'Normal-4511.png', 'Normal-4512.png', 'Normal-4513.png', 'Normal-4514.png', 'Normal-4515.png', 'Normal-4516.png', 'Normal-4517.png', 'Normal-4518.png', 'Normal-4519.png', 'Normal-452.png', 'Normal-4520.png', 'Normal-4521.png', 'Normal-4522.png', 'Normal-4523.png', 'Normal-4524.png', 'Normal-4525.png', 'Normal-4526.png', 'Normal-4527.png', 'Normal-4528.png', 'Normal-4529.png', 'Normal-453.png', 'Normal-4530.png', 'Normal-4531.png', 'Normal-4532.png', 'Normal-4533.png', 'Normal-4534.png', 'Normal-4535.png', 'Normal-4536.png', 'Normal-4537.png', 'Normal-4538.png', 'Normal-4539.png', 'Normal-454.png', 'Normal-4540.png', 'Normal-4541.png', 'Normal-4542.png', 'Normal-4543.png', 'Normal-4544.png', 'Normal-4545.png', 'Normal-4546.png', 'Normal-4547.png', 'Normal-4548.png', 'Normal-4549.png', 'Normal-455.png', 'Normal-4550.png', 'Normal-4551.png', 'Normal-4552.png', 'Normal-4553.png', 'Normal-4554.png', 'Normal-4555.png', 'Normal-4556.png', 'Normal-4557.png', 'Normal-4558.png', 'Normal-4559.png', 'Normal-456.png', 'Normal-4560.png', 'Normal-4561.png', 'Normal-4562.png', 'Normal-4563.png', 'Normal-4564.png', 'Normal-4565.png', 'Normal-4566.png', 'Normal-4567.png', 'Normal-4568.png', 'Normal-4569.png', 'Normal-457.png', 'Normal-4570.png', 'Normal-4571.png', 'Normal-4572.png', 'Normal-4573.png', 'Normal-4574.png', 'Normal-4575.png', 'Normal-4576.png', 'Normal-4577.png', 'Normal-4578.png', 'Normal-4579.png', 'Normal-458.png', 'Normal-4580.png', 'Normal-4581.png', 'Normal-4582.png', 'Normal-4583.png', 'Normal-4584.png', 'Normal-4585.png', 'Normal-4586.png', 'Normal-4587.png', 'Normal-4588.png', 'Normal-4589.png', 'Normal-459.png', 'Normal-4590.png', 'Normal-4591.png', 'Normal-4592.png', 'Normal-4593.png', 'Normal-4594.png', 'Normal-4595.png', 'Normal-4596.png', 'Normal-4597.png', 'Normal-4598.png', 'Normal-4599.png', 'Normal-46.png', 'Normal-460.png', 'Normal-4600.png', 'Normal-4601.png', 'Normal-4602.png', 'Normal-4603.png', 'Normal-4604.png', 'Normal-4605.png', 'Normal-4606.png', 'Normal-4607.png', 'Normal-4608.png', 'Normal-4609.png', 'Normal-461.png', 'Normal-4610.png', 'Normal-4611.png', 'Normal-4612.png', 'Normal-4613.png', 'Normal-4614.png', 'Normal-4615.png', 'Normal-4616.png', 'Normal-4617.png', 'Normal-4618.png', 'Normal-4619.png', 'Normal-462.png', 'Normal-4620.png', 'Normal-4621.png', 'Normal-4622.png', 'Normal-4623.png', 'Normal-4624.png', 'Normal-4625.png', 'Normal-4626.png', 'Normal-4627.png', 'Normal-4628.png', 'Normal-4629.png', 'Normal-463.png', 'Normal-4630.png', 'Normal-4631.png', 'Normal-4632.png', 'Normal-4633.png', 'Normal-4634.png', 'Normal-4635.png', 'Normal-4636.png', 'Normal-4637.png', 'Normal-4638.png', 'Normal-4639.png', 'Normal-464.png', 'Normal-4640.png', 'Normal-4641.png', 'Normal-4642.png', 'Normal-4643.png', 'Normal-4644.png', 'Normal-4645.png', 'Normal-4646.png', 'Normal-4647.png', 'Normal-4648.png', 'Normal-4649.png', 'Normal-465.png', 'Normal-4650.png', 'Normal-4651.png', 'Normal-4652.png', 'Normal-4653.png', 'Normal-4654.png', 'Normal-4655.png', 'Normal-4656.png', 'Normal-4657.png', 'Normal-4658.png', 'Normal-4659.png', 'Normal-466.png', 'Normal-4660.png', 'Normal-4661.png', 'Normal-4662.png', 'Normal-4663.png', 'Normal-4664.png', 'Normal-4665.png', 'Normal-4666.png', 'Normal-4667.png', 'Normal-4668.png', 'Normal-4669.png', 'Normal-467.png', 'Normal-4670.png', 'Normal-4671.png', 'Normal-4672.png', 'Normal-4673.png', 'Normal-4674.png', 'Normal-4675.png', 'Normal-4676.png', 'Normal-4677.png', 'Normal-4678.png', 'Normal-4679.png', 'Normal-468.png', 'Normal-4680.png', 'Normal-4681.png', 'Normal-4682.png', 'Normal-4683.png', 'Normal-4684.png', 'Normal-4685.png', 'Normal-4686.png', 'Normal-4687.png', 'Normal-4688.png', 'Normal-4689.png', 'Normal-469.png', 'Normal-4690.png', 'Normal-4691.png', 'Normal-4692.png', 'Normal-4693.png', 'Normal-4694.png', 'Normal-4695.png', 'Normal-4696.png', 'Normal-4697.png', 'Normal-4698.png', 'Normal-4699.png', 'Normal-47.png', 'Normal-470.png', 'Normal-4700.png', 'Normal-4701.png', 'Normal-4702.png', 'Normal-4703.png', 'Normal-4704.png', 'Normal-4705.png', 'Normal-4706.png', 'Normal-4707.png', 'Normal-4708.png', 'Normal-4709.png', 'Normal-471.png', 'Normal-4710.png', 'Normal-4711.png', 'Normal-4712.png', 'Normal-4713.png', 'Normal-4714.png', 'Normal-4715.png', 'Normal-4716.png', 'Normal-4717.png', 'Normal-4718.png', 'Normal-4719.png', 'Normal-472.png', 'Normal-4720.png', 'Normal-4721.png', 'Normal-4722.png', 'Normal-4723.png', 'Normal-4724.png', 'Normal-4725.png', 'Normal-4726.png', 'Normal-4727.png', 'Normal-4728.png', 'Normal-4729.png', 'Normal-473.png', 'Normal-4730.png', 'Normal-4731.png', 'Normal-4732.png', 'Normal-4733.png', 'Normal-4734.png', 'Normal-4735.png', 'Normal-4736.png', 'Normal-4737.png', 'Normal-4738.png', 'Normal-4739.png', 'Normal-474.png', 'Normal-4740.png', 'Normal-4741.png', 'Normal-4742.png', 'Normal-4743.png', 'Normal-4744.png', 'Normal-4745.png', 'Normal-4746.png', 'Normal-4747.png', 'Normal-4748.png', 'Normal-4749.png', 'Normal-475.png', 'Normal-4750.png', 'Normal-4751.png', 'Normal-4752.png', 'Normal-4753.png', 'Normal-4754.png', 'Normal-4755.png', 'Normal-4756.png', 'Normal-4757.png', 'Normal-4758.png', 'Normal-4759.png', 'Normal-476.png', 'Normal-4760.png', 'Normal-4761.png', 'Normal-4762.png', 'Normal-4763.png', 'Normal-4764.png', 'Normal-4765.png', 'Normal-4766.png', 'Normal-4767.png', 'Normal-4768.png', 'Normal-4769.png', 'Normal-477.png', 'Normal-4770.png', 'Normal-4771.png', 'Normal-4772.png', 'Normal-4773.png', 'Normal-4774.png', 'Normal-4775.png', 'Normal-4776.png', 'Normal-4777.png', 'Normal-4778.png', 'Normal-4779.png', 'Normal-478.png', 'Normal-4780.png', 'Normal-4781.png', 'Normal-4782.png', 'Normal-4783.png', 'Normal-4784.png', 'Normal-4785.png', 'Normal-4786.png', 'Normal-4787.png', 'Normal-4788.png', 'Normal-4789.png', 'Normal-479.png', 'Normal-4790.png', 'Normal-4791.png', 'Normal-4792.png', 'Normal-4793.png', 'Normal-4794.png', 'Normal-4795.png', 'Normal-4796.png', 'Normal-4797.png', 'Normal-4798.png', 'Normal-4799.png', 'Normal-48.png', 'Normal-480.png', 'Normal-4800.png', 'Normal-4801.png', 'Normal-4802.png', 'Normal-4803.png', 'Normal-4804.png', 'Normal-4805.png', 'Normal-4806.png', 'Normal-4807.png', 'Normal-4808.png', 'Normal-4809.png', 'Normal-481.png', 'Normal-4810.png', 'Normal-4811.png', 'Normal-4812.png', 'Normal-4813.png', 'Normal-4814.png', 'Normal-4815.png', 'Normal-4816.png', 'Normal-4817.png', 'Normal-4818.png', 'Normal-4819.png', 'Normal-482.png', 'Normal-4820.png', 'Normal-4821.png', 'Normal-4822.png', 'Normal-4823.png', 'Normal-4824.png', 'Normal-4825.png', 'Normal-4826.png', 'Normal-4827.png', 'Normal-4828.png', 'Normal-4829.png', 'Normal-483.png', 'Normal-4830.png', 'Normal-4831.png', 'Normal-4832.png', 'Normal-4833.png', 'Normal-4834.png', 'Normal-4835.png', 'Normal-4836.png', 'Normal-4837.png', 'Normal-4838.png', 'Normal-4839.png', 'Normal-484.png', 'Normal-4840.png', 'Normal-4841.png', 'Normal-4842.png', 'Normal-4843.png', 'Normal-4844.png', 'Normal-4845.png', 'Normal-4846.png', 'Normal-4847.png', 'Normal-4848.png', 'Normal-4849.png', 'Normal-485.png', 'Normal-4850.png', 'Normal-4851.png', 'Normal-4852.png', 'Normal-4853.png', 'Normal-4854.png', 'Normal-4855.png', 'Normal-4856.png', 'Normal-4857.png', 'Normal-4858.png', 'Normal-4859.png', 'Normal-486.png', 'Normal-4860.png', 'Normal-4861.png', 'Normal-4862.png', 'Normal-4863.png', 'Normal-4864.png', 'Normal-4865.png', 'Normal-4866.png', 'Normal-4867.png', 'Normal-4868.png', 'Normal-4869.png', 'Normal-487.png', 'Normal-4870.png', 'Normal-4871.png', 'Normal-4872.png', 'Normal-4873.png', 'Normal-4874.png', 'Normal-4875.png', 'Normal-4876.png', 'Normal-4877.png', 'Normal-4878.png', 'Normal-4879.png', 'Normal-488.png', 'Normal-4880.png', 'Normal-4881.png', 'Normal-4882.png', 'Normal-4883.png', 'Normal-4884.png', 'Normal-4885.png', 'Normal-4886.png', 'Normal-4887.png', 'Normal-4888.png', 'Normal-4889.png', 'Normal-489.png', 'Normal-4890.png', 'Normal-4891.png', 'Normal-4892.png', 'Normal-4893.png', 'Normal-4894.png', 'Normal-4895.png', 'Normal-4896.png', 'Normal-4897.png', 'Normal-4898.png', 'Normal-4899.png', 'Normal-49.png', 'Normal-490.png', 'Normal-4900.png', 'Normal-4901.png', 'Normal-4902.png', 'Normal-4903.png', 'Normal-4904.png', 'Normal-4905.png', 'Normal-4906.png', 'Normal-4907.png', 'Normal-4908.png', 'Normal-4909.png', 'Normal-491.png', 'Normal-4910.png', 'Normal-4911.png', 'Normal-4912.png', 'Normal-4913.png', 'Normal-4914.png', 'Normal-4915.png', 'Normal-4916.png', 'Normal-4917.png', 'Normal-4918.png', 'Normal-4919.png', 'Normal-492.png', 'Normal-4920.png', 'Normal-4921.png', 'Normal-4922.png', 'Normal-4923.png', 'Normal-4924.png', 'Normal-4925.png', 'Normal-4926.png', 'Normal-4927.png', 'Normal-4928.png', 'Normal-4929.png', 'Normal-493.png', 'Normal-4930.png', 'Normal-4931.png', 'Normal-4932.png', 'Normal-4933.png', 'Normal-4934.png', 'Normal-4935.png', 'Normal-4936.png', 'Normal-4937.png', 'Normal-4938.png', 'Normal-4939.png', 'Normal-494.png', 'Normal-4940.png', 'Normal-4941.png', 'Normal-4942.png', 'Normal-4943.png', 'Normal-4944.png', 'Normal-4945.png', 'Normal-4946.png', 'Normal-4947.png', 'Normal-4948.png', 'Normal-4949.png', 'Normal-495.png', 'Normal-4950.png', 'Normal-4951.png', 'Normal-4952.png', 'Normal-4953.png', 'Normal-4954.png', 'Normal-4955.png', 'Normal-4956.png', 'Normal-4957.png', 'Normal-4958.png', 'Normal-4959.png', 'Normal-496.png', 'Normal-4960.png', 'Normal-4961.png', 'Normal-4962.png', 'Normal-4963.png', 'Normal-4964.png', 'Normal-4965.png', 'Normal-4966.png', 'Normal-4967.png', 'Normal-4968.png', 'Normal-4969.png', 'Normal-497.png', 'Normal-4970.png', 'Normal-4971.png', 'Normal-4972.png', 'Normal-4973.png', 'Normal-4974.png', 'Normal-4975.png', 'Normal-4976.png', 'Normal-4977.png', 'Normal-4978.png', 'Normal-4979.png', 'Normal-498.png', 'Normal-4980.png', 'Normal-4981.png', 'Normal-4982.png', 'Normal-4983.png', 'Normal-4984.png', 'Normal-4985.png', 'Normal-4986.png', 'Normal-4987.png', 'Normal-4988.png', 'Normal-4989.png', 'Normal-499.png', 'Normal-4990.png', 'Normal-4991.png', 'Normal-4992.png', 'Normal-4993.png', 'Normal-4994.png', 'Normal-4995.png', 'Normal-4996.png', 'Normal-4997.png', 'Normal-4998.png', 'Normal-4999.png', 'Normal-5.png', 'Normal-50.png', 'Normal-500.png', 'Normal-5000.png', 'Normal-5001.png', 'Normal-5002.png', 'Normal-5003.png', 'Normal-5004.png', 'Normal-5005.png', 'Normal-5006.png', 'Normal-5007.png', 'Normal-5008.png', 'Normal-5009.png', 'Normal-501.png', 'Normal-5010.png', 'Normal-5011.png', 'Normal-5012.png', 'Normal-5013.png', 'Normal-5014.png', 'Normal-5015.png', 'Normal-5016.png', 'Normal-5017.png', 'Normal-5018.png', 'Normal-5019.png', 'Normal-502.png', 'Normal-5020.png', 'Normal-5021.png', 'Normal-5022.png', 'Normal-5023.png', 'Normal-5024.png', 'Normal-5025.png', 'Normal-5026.png', 'Normal-5027.png', 'Normal-5028.png', 'Normal-5029.png', 'Normal-503.png', 'Normal-5030.png', 'Normal-5031.png', 'Normal-5032.png', 'Normal-5033.png', 'Normal-5034.png', 'Normal-5035.png', 'Normal-5036.png', 'Normal-5037.png', 'Normal-5038.png', 'Normal-5039.png', 'Normal-504.png', 'Normal-5040.png', 'Normal-5041.png', 'Normal-5042.png', 'Normal-5043.png', 'Normal-5044.png', 'Normal-5045.png', 'Normal-5046.png', 'Normal-5047.png', 'Normal-5048.png', 'Normal-5049.png', 'Normal-505.png', 'Normal-5050.png', 'Normal-5051.png', 'Normal-5052.png', 'Normal-5053.png', 'Normal-5054.png', 'Normal-5055.png', 'Normal-5056.png', 'Normal-5057.png', 'Normal-5058.png', 'Normal-5059.png', 'Normal-506.png', 'Normal-5060.png', 'Normal-5061.png', 'Normal-5062.png', 'Normal-5063.png', 'Normal-5064.png', 'Normal-5065.png', 'Normal-5066.png', 'Normal-5067.png', 'Normal-5068.png', 'Normal-5069.png', 'Normal-507.png', 'Normal-5070.png', 'Normal-5071.png', 'Normal-5072.png', 'Normal-5073.png', 'Normal-5074.png', 'Normal-5075.png', 'Normal-5076.png', 'Normal-5077.png', 'Normal-5078.png', 'Normal-5079.png', 'Normal-508.png', 'Normal-5080.png', 'Normal-5081.png', 'Normal-5082.png', 'Normal-5083.png', 'Normal-5084.png', 'Normal-5085.png', 'Normal-5086.png', 'Normal-5087.png', 'Normal-5088.png', 'Normal-5089.png', 'Normal-509.png', 'Normal-5090.png', 'Normal-5091.png', 'Normal-5092.png', 'Normal-5093.png', 'Normal-5094.png', 'Normal-5095.png', 'Normal-5096.png', 'Normal-5097.png', 'Normal-5098.png', 'Normal-5099.png', 'Normal-51.png', 'Normal-510.png', 'Normal-5100.png', 'Normal-5101.png', 'Normal-5102.png', 'Normal-5103.png', 'Normal-5104.png', 'Normal-5105.png', 'Normal-5106.png', 'Normal-5107.png', 'Normal-5108.png', 'Normal-5109.png', 'Normal-511.png', 'Normal-5110.png', 'Normal-5111.png', 'Normal-5112.png', 'Normal-5113.png', 'Normal-5114.png', 'Normal-5115.png', 'Normal-5116.png', 'Normal-5117.png', 'Normal-5118.png', 'Normal-5119.png', 'Normal-512.png', 'Normal-5120.png', 'Normal-5121.png', 'Normal-5122.png', 'Normal-5123.png', 'Normal-5124.png', 'Normal-5125.png', 'Normal-5126.png', 'Normal-5127.png', 'Normal-5128.png', 'Normal-5129.png', 'Normal-513.png', 'Normal-5130.png', 'Normal-5131.png', 'Normal-5132.png', 'Normal-5133.png', 'Normal-5134.png', 'Normal-5135.png', 'Normal-5136.png', 'Normal-5137.png', 'Normal-5138.png', 'Normal-5139.png', 'Normal-514.png', 'Normal-5140.png', 'Normal-5141.png', 'Normal-5142.png', 'Normal-5143.png', 'Normal-5144.png', 'Normal-5145.png', 'Normal-5146.png', 'Normal-5147.png', 'Normal-5148.png', 'Normal-5149.png', 'Normal-515.png', 'Normal-5150.png', 'Normal-5151.png', 'Normal-5152.png', 'Normal-5153.png', 'Normal-5154.png', 'Normal-5155.png', 'Normal-5156.png', 'Normal-5157.png', 'Normal-5158.png', 'Normal-5159.png', 'Normal-516.png', 'Normal-5160.png', 'Normal-5161.png', 'Normal-5162.png', 'Normal-5163.png', 'Normal-5164.png', 'Normal-5165.png', 'Normal-5166.png', 'Normal-5167.png', 'Normal-5168.png', 'Normal-5169.png', 'Normal-517.png', 'Normal-5170.png', 'Normal-5171.png', 'Normal-5172.png', 'Normal-5173.png', 'Normal-5174.png', 'Normal-5175.png', 'Normal-5176.png', 'Normal-5177.png', 'Normal-5178.png', 'Normal-5179.png', 'Normal-518.png', 'Normal-5180.png', 'Normal-5181.png', 'Normal-5182.png', 'Normal-5183.png', 'Normal-5184.png', 'Normal-5185.png', 'Normal-5186.png', 'Normal-5187.png', 'Normal-5188.png', 'Normal-5189.png', 'Normal-519.png', 'Normal-5190.png', 'Normal-5191.png', 'Normal-5192.png', 'Normal-5193.png', 'Normal-5194.png', 'Normal-5195.png', 'Normal-5196.png', 'Normal-5197.png', 'Normal-5198.png', 'Normal-5199.png', 'Normal-52.png', 'Normal-520.png', 'Normal-5200.png', 'Normal-5201.png', 'Normal-5202.png', 'Normal-5203.png', 'Normal-5204.png', 'Normal-5205.png', 'Normal-5206.png', 'Normal-5207.png', 'Normal-5208.png', 'Normal-5209.png', 'Normal-521.png', 'Normal-5210.png', 'Normal-5211.png', 'Normal-5212.png', 'Normal-5213.png', 'Normal-5214.png', 'Normal-5215.png', 'Normal-5216.png', 'Normal-5217.png', 'Normal-5218.png', 'Normal-5219.png', 'Normal-522.png', 'Normal-5220.png', 'Normal-5221.png', 'Normal-5222.png', 'Normal-5223.png', 'Normal-5224.png', 'Normal-5225.png', 'Normal-5226.png', 'Normal-5227.png', 'Normal-5228.png', 'Normal-5229.png', 'Normal-523.png', 'Normal-5230.png', 'Normal-5231.png', 'Normal-5232.png', 'Normal-5233.png', 'Normal-5234.png', 'Normal-5235.png', 'Normal-5236.png', 'Normal-5237.png', 'Normal-5238.png', 'Normal-5239.png', 'Normal-524.png', 'Normal-5240.png', 'Normal-5241.png', 'Normal-5242.png', 'Normal-5243.png', 'Normal-5244.png', 'Normal-5245.png', 'Normal-5246.png', 'Normal-5247.png', 'Normal-5248.png', 'Normal-5249.png', 'Normal-525.png', 'Normal-5250.png', 'Normal-5251.png', 'Normal-5252.png', 'Normal-5253.png', 'Normal-5254.png', 'Normal-5255.png', 'Normal-5256.png', 'Normal-5257.png', 'Normal-5258.png', 'Normal-5259.png', 'Normal-526.png', 'Normal-5260.png', 'Normal-5261.png', 'Normal-5262.png', 'Normal-5263.png', 'Normal-5264.png', 'Normal-5265.png', 'Normal-5266.png', 'Normal-5267.png', 'Normal-5268.png', 'Normal-5269.png', 'Normal-527.png', 'Normal-5270.png', 'Normal-5271.png', 'Normal-5272.png', 'Normal-5273.png', 'Normal-5274.png', 'Normal-5275.png', 'Normal-5276.png', 'Normal-5277.png', 'Normal-5278.png', 'Normal-5279.png', 'Normal-528.png', 'Normal-5280.png', 'Normal-5281.png', 'Normal-5282.png', 'Normal-5283.png', 'Normal-5284.png', 'Normal-5285.png', 'Normal-5286.png', 'Normal-5287.png', 'Normal-5288.png', 'Normal-5289.png', 'Normal-529.png', 'Normal-5290.png', 'Normal-5291.png', 'Normal-5292.png', 'Normal-5293.png', 'Normal-5294.png', 'Normal-5295.png', 'Normal-5296.png', 'Normal-5297.png', 'Normal-5298.png', 'Normal-5299.png', 'Normal-53.png', 'Normal-530.png', 'Normal-5300.png', 'Normal-5301.png', 'Normal-5302.png', 'Normal-5303.png', 'Normal-5304.png', 'Normal-5305.png', 'Normal-5306.png', 'Normal-5307.png', 'Normal-5308.png', 'Normal-5309.png', 'Normal-531.png', 'Normal-5310.png', 'Normal-5311.png', 'Normal-5312.png', 'Normal-5313.png', 'Normal-5314.png', 'Normal-5315.png', 'Normal-5316.png', 'Normal-5317.png', 'Normal-5318.png', 'Normal-5319.png', 'Normal-532.png', 'Normal-5320.png', 'Normal-5321.png', 'Normal-5322.png', 'Normal-5323.png', 'Normal-5324.png', 'Normal-5325.png', 'Normal-5326.png', 'Normal-5327.png', 'Normal-5328.png', 'Normal-5329.png', 'Normal-533.png', 'Normal-5330.png', 'Normal-5331.png', 'Normal-5332.png', 'Normal-5333.png', 'Normal-5334.png', 'Normal-5335.png', 'Normal-5336.png', 'Normal-5337.png', 'Normal-5338.png', 'Normal-5339.png', 'Normal-534.png', 'Normal-5340.png', 'Normal-5341.png', 'Normal-5342.png', 'Normal-5343.png', 'Normal-5344.png', 'Normal-5345.png', 'Normal-5346.png', 'Normal-5347.png', 'Normal-5348.png', 'Normal-5349.png', 'Normal-535.png', 'Normal-5350.png', 'Normal-5351.png', 'Normal-5352.png', 'Normal-5353.png', 'Normal-5354.png', 'Normal-5355.png', 'Normal-5356.png', 'Normal-5357.png', 'Normal-5358.png', 'Normal-5359.png', 'Normal-536.png', 'Normal-5360.png', 'Normal-5361.png', 'Normal-5362.png', 'Normal-5363.png', 'Normal-5364.png', 'Normal-5365.png', 'Normal-5366.png', 'Normal-5367.png', 'Normal-5368.png', 'Normal-5369.png', 'Normal-537.png', 'Normal-5370.png', 'Normal-5371.png', 'Normal-5372.png', 'Normal-5373.png', 'Normal-5374.png', 'Normal-5375.png', 'Normal-5376.png', 'Normal-5377.png', 'Normal-5378.png', 'Normal-5379.png', 'Normal-538.png', 'Normal-5380.png', 'Normal-5381.png', 'Normal-5382.png', 'Normal-5383.png', 'Normal-5384.png', 'Normal-5385.png', 'Normal-5386.png', 'Normal-5387.png', 'Normal-5388.png', 'Normal-5389.png', 'Normal-539.png', 'Normal-5390.png', 'Normal-5391.png', 'Normal-5392.png', 'Normal-5393.png', 'Normal-5394.png', 'Normal-5395.png', 'Normal-5396.png', 'Normal-5397.png', 'Normal-5398.png', 'Normal-5399.png', 'Normal-54.png', 'Normal-540.png', 'Normal-5400.png', 'Normal-5401.png', 'Normal-5402.png', 'Normal-5403.png', 'Normal-5404.png', 'Normal-5405.png', 'Normal-5406.png', 'Normal-5407.png', 'Normal-5408.png', 'Normal-5409.png', 'Normal-541.png', 'Normal-5410.png', 'Normal-5411.png', 'Normal-5412.png', 'Normal-5413.png', 'Normal-5414.png', 'Normal-5415.png', 'Normal-5416.png', 'Normal-5417.png', 'Normal-5418.png', 'Normal-5419.png', 'Normal-542.png', 'Normal-5420.png', 'Normal-5421.png', 'Normal-5422.png', 'Normal-5423.png', 'Normal-5424.png', 'Normal-5425.png', 'Normal-5426.png', 'Normal-5427.png', 'Normal-5428.png', 'Normal-5429.png', 'Normal-543.png', 'Normal-5430.png', 'Normal-5431.png', 'Normal-5432.png', 'Normal-5433.png', 'Normal-5434.png', 'Normal-5435.png', 'Normal-5436.png', 'Normal-5437.png', 'Normal-5438.png', 'Normal-5439.png', 'Normal-544.png', 'Normal-5440.png', 'Normal-5441.png', 'Normal-5442.png', 'Normal-5443.png', 'Normal-5444.png', 'Normal-5445.png', 'Normal-5446.png', 'Normal-5447.png', 'Normal-5448.png', 'Normal-5449.png', 'Normal-545.png', 'Normal-5450.png', 'Normal-5451.png', 'Normal-5452.png', 'Normal-5453.png', 'Normal-5454.png', 'Normal-5455.png', 'Normal-5456.png', 'Normal-5457.png', 'Normal-5458.png', 'Normal-5459.png', 'Normal-546.png', 'Normal-5460.png', 'Normal-5461.png', 'Normal-5462.png', 'Normal-5463.png', 'Normal-5464.png', 'Normal-5465.png', 'Normal-5466.png', 'Normal-5467.png', 'Normal-5468.png', 'Normal-5469.png', 'Normal-547.png', 'Normal-5470.png', 'Normal-5471.png', 'Normal-5472.png', 'Normal-5473.png', 'Normal-5474.png', 'Normal-5475.png', 'Normal-5476.png', 'Normal-5477.png', 'Normal-5478.png', 'Normal-5479.png', 'Normal-548.png', 'Normal-5480.png', 'Normal-5481.png', 'Normal-5482.png', 'Normal-5483.png', 'Normal-5484.png', 'Normal-5485.png', 'Normal-5486.png', 'Normal-5487.png', 'Normal-5488.png', 'Normal-5489.png', 'Normal-549.png', 'Normal-5490.png', 'Normal-5491.png', 'Normal-5492.png', 'Normal-5493.png', 'Normal-5494.png', 'Normal-5495.png', 'Normal-5496.png', 'Normal-5497.png', 'Normal-5498.png', 'Normal-5499.png', 'Normal-55.png', 'Normal-550.png', 'Normal-5500.png', 'Normal-5501.png', 'Normal-5502.png', 'Normal-5503.png', 'Normal-5504.png', 'Normal-5505.png', 'Normal-5506.png', 'Normal-5507.png', 'Normal-5508.png', 'Normal-5509.png', 'Normal-551.png', 'Normal-5510.png', 'Normal-5511.png', 'Normal-5512.png', 'Normal-5513.png', 'Normal-5514.png', 'Normal-5515.png', 'Normal-5516.png', 'Normal-5517.png', 'Normal-5518.png', 'Normal-5519.png', 'Normal-552.png', 'Normal-5520.png', 'Normal-5521.png', 'Normal-5522.png', 'Normal-5523.png', 'Normal-5524.png', 'Normal-5525.png', 'Normal-5526.png', 'Normal-5527.png', 'Normal-5528.png', 'Normal-5529.png', 'Normal-553.png', 'Normal-5530.png', 'Normal-5531.png', 'Normal-5532.png', 'Normal-5533.png', 'Normal-5534.png', 'Normal-5535.png', 'Normal-5536.png', 'Normal-5537.png', 'Normal-5538.png', 'Normal-5539.png', 'Normal-554.png', 'Normal-5540.png', 'Normal-5541.png', 'Normal-5542.png', 'Normal-5543.png', 'Normal-5544.png', 'Normal-5545.png', 'Normal-5546.png', 'Normal-5547.png', 'Normal-5548.png', 'Normal-5549.png', 'Normal-555.png', 'Normal-5550.png', 'Normal-5551.png', 'Normal-5552.png', 'Normal-5553.png', 'Normal-5554.png', 'Normal-5555.png', 'Normal-5556.png', 'Normal-5557.png', 'Normal-5558.png', 'Normal-5559.png', 'Normal-556.png', 'Normal-5560.png', 'Normal-5561.png', 'Normal-5562.png', 'Normal-5563.png', 'Normal-5564.png', 'Normal-5565.png', 'Normal-5566.png', 'Normal-5567.png', 'Normal-5568.png', 'Normal-5569.png', 'Normal-557.png', 'Normal-5570.png', 'Normal-5571.png', 'Normal-5572.png', 'Normal-5573.png', 'Normal-5574.png', 'Normal-5575.png', 'Normal-5576.png', 'Normal-5577.png', 'Normal-5578.png', 'Normal-5579.png', 'Normal-558.png', 'Normal-5580.png', 'Normal-5581.png', 'Normal-5582.png', 'Normal-5583.png', 'Normal-5584.png', 'Normal-5585.png', 'Normal-5586.png', 'Normal-5587.png', 'Normal-5588.png', 'Normal-5589.png', 'Normal-559.png', 'Normal-5590.png', 'Normal-5591.png', 'Normal-5592.png', 'Normal-5593.png', 'Normal-5594.png', 'Normal-5595.png', 'Normal-5596.png', 'Normal-5597.png', 'Normal-5598.png', 'Normal-5599.png', 'Normal-56.png', 'Normal-560.png', 'Normal-5600.png', 'Normal-5601.png', 'Normal-5602.png', 'Normal-5603.png', 'Normal-5604.png', 'Normal-5605.png', 'Normal-5606.png', 'Normal-5607.png', 'Normal-5608.png', 'Normal-5609.png', 'Normal-561.png', 'Normal-5610.png', 'Normal-5611.png', 'Normal-5612.png', 'Normal-5613.png', 'Normal-5614.png', 'Normal-5615.png', 'Normal-5616.png', 'Normal-5617.png', 'Normal-5618.png', 'Normal-5619.png', 'Normal-562.png', 'Normal-5620.png', 'Normal-5621.png', 'Normal-5622.png', 'Normal-5623.png', 'Normal-5624.png', 'Normal-5625.png', 'Normal-5626.png', 'Normal-5627.png', 'Normal-5628.png', 'Normal-5629.png', 'Normal-563.png', 'Normal-5630.png', 'Normal-5631.png', 'Normal-5632.png', 'Normal-5633.png', 'Normal-5634.png', 'Normal-5635.png', 'Normal-5636.png', 'Normal-5637.png', 'Normal-5638.png', 'Normal-5639.png', 'Normal-564.png', 'Normal-5640.png', 'Normal-5641.png', 'Normal-5642.png', 'Normal-5643.png', 'Normal-5644.png', 'Normal-5645.png', 'Normal-5646.png', 'Normal-5647.png', 'Normal-5648.png', 'Normal-5649.png', 'Normal-565.png', 'Normal-5650.png', 'Normal-5651.png', 'Normal-5652.png', 'Normal-5653.png', 'Normal-5654.png', 'Normal-5655.png', 'Normal-5656.png', 'Normal-5657.png', 'Normal-5658.png', 'Normal-5659.png', 'Normal-566.png', 'Normal-5660.png', 'Normal-5661.png', 'Normal-5662.png', 'Normal-5663.png', 'Normal-5664.png', 'Normal-5665.png', 'Normal-5666.png', 'Normal-5667.png', 'Normal-5668.png', 'Normal-5669.png', 'Normal-567.png', 'Normal-5670.png', 'Normal-5671.png', 'Normal-5672.png', 'Normal-5673.png', 'Normal-5674.png', 'Normal-5675.png', 'Normal-5676.png', 'Normal-5677.png', 'Normal-5678.png', 'Normal-5679.png', 'Normal-568.png', 'Normal-5680.png', 'Normal-5681.png', 'Normal-5682.png', 'Normal-5683.png', 'Normal-5684.png', 'Normal-5685.png', 'Normal-5686.png', 'Normal-5687.png', 'Normal-5688.png', 'Normal-5689.png', 'Normal-569.png', 'Normal-5690.png', 'Normal-5691.png', 'Normal-5692.png', 'Normal-5693.png', 'Normal-5694.png', 'Normal-5695.png', 'Normal-5696.png', 'Normal-5697.png', 'Normal-5698.png', 'Normal-5699.png', 'Normal-57.png', 'Normal-570.png', 'Normal-5700.png', 'Normal-5701.png', 'Normal-5702.png', 'Normal-5703.png', 'Normal-5704.png', 'Normal-5705.png', 'Normal-5706.png', 'Normal-5707.png', 'Normal-5708.png', 'Normal-5709.png', 'Normal-571.png', 'Normal-5710.png', 'Normal-5711.png', 'Normal-5712.png', 'Normal-5713.png', 'Normal-5714.png', 'Normal-5715.png', 'Normal-5716.png', 'Normal-5717.png', 'Normal-5718.png', 'Normal-5719.png', 'Normal-572.png', 'Normal-5720.png', 'Normal-5721.png', 'Normal-5722.png', 'Normal-5723.png', 'Normal-5724.png', 'Normal-5725.png', 'Normal-5726.png', 'Normal-5727.png', 'Normal-5728.png', 'Normal-5729.png', 'Normal-573.png', 'Normal-5730.png', 'Normal-5731.png', 'Normal-5732.png', 'Normal-5733.png', 'Normal-5734.png', 'Normal-5735.png', 'Normal-5736.png', 'Normal-5737.png', 'Normal-5738.png', 'Normal-5739.png', 'Normal-574.png', 'Normal-5740.png', 'Normal-5741.png', 'Normal-5742.png', 'Normal-5743.png', 'Normal-5744.png', 'Normal-5745.png', 'Normal-5746.png', 'Normal-5747.png', 'Normal-5748.png', 'Normal-5749.png', 'Normal-575.png', 'Normal-5750.png', 'Normal-5751.png', 'Normal-5752.png', 'Normal-5753.png', 'Normal-5754.png', 'Normal-5755.png', 'Normal-5756.png', 'Normal-5757.png', 'Normal-5758.png', 'Normal-5759.png', 'Normal-576.png', 'Normal-5760.png', 'Normal-5761.png', 'Normal-5762.png', 'Normal-5763.png', 'Normal-5764.png', 'Normal-5765.png', 'Normal-5766.png', 'Normal-5767.png', 'Normal-5768.png', 'Normal-5769.png', 'Normal-577.png', 'Normal-5770.png', 'Normal-5771.png', 'Normal-5772.png', 'Normal-5773.png', 'Normal-5774.png', 'Normal-5775.png', 'Normal-5776.png', 'Normal-5777.png', 'Normal-5778.png', 'Normal-5779.png', 'Normal-578.png', 'Normal-5780.png', 'Normal-5781.png', 'Normal-5782.png', 'Normal-5783.png', 'Normal-5784.png', 'Normal-5785.png', 'Normal-5786.png', 'Normal-5787.png', 'Normal-5788.png', 'Normal-5789.png', 'Normal-579.png', 'Normal-5790.png', 'Normal-5791.png', 'Normal-5792.png', 'Normal-5793.png', 'Normal-5794.png', 'Normal-5795.png', 'Normal-5796.png', 'Normal-5797.png', 'Normal-5798.png', 'Normal-5799.png', 'Normal-58.png', 'Normal-580.png', 'Normal-5800.png', 'Normal-5801.png', 'Normal-5802.png', 'Normal-5803.png', 'Normal-5804.png', 'Normal-5805.png', 'Normal-5806.png', 'Normal-5807.png', 'Normal-5808.png', 'Normal-5809.png', 'Normal-581.png', 'Normal-5810.png', 'Normal-5811.png', 'Normal-5812.png', 'Normal-5813.png', 'Normal-5814.png', 'Normal-5815.png', 'Normal-5816.png', 'Normal-5817.png', 'Normal-5818.png', 'Normal-5819.png', 'Normal-582.png', 'Normal-5820.png', 'Normal-5821.png', 'Normal-5822.png', 'Normal-5823.png', 'Normal-5824.png', 'Normal-5825.png', 'Normal-5826.png', 'Normal-5827.png', 'Normal-5828.png', 'Normal-5829.png', 'Normal-583.png', 'Normal-5830.png', 'Normal-5831.png', 'Normal-5832.png', 'Normal-5833.png', 'Normal-5834.png', 'Normal-5835.png', 'Normal-5836.png', 'Normal-5837.png', 'Normal-5838.png', 'Normal-5839.png', 'Normal-584.png', 'Normal-5840.png', 'Normal-5841.png', 'Normal-5842.png', 'Normal-5843.png', 'Normal-5844.png', 'Normal-5845.png', 'Normal-5846.png', 'Normal-5847.png', 'Normal-5848.png', 'Normal-5849.png', 'Normal-585.png', 'Normal-5850.png', 'Normal-5851.png', 'Normal-5852.png', 'Normal-5853.png', 'Normal-5854.png', 'Normal-5855.png', 'Normal-5856.png', 'Normal-5857.png', 'Normal-5858.png', 'Normal-5859.png', 'Normal-586.png', 'Normal-5860.png', 'Normal-5861.png', 'Normal-5862.png', 'Normal-5863.png', 'Normal-5864.png', 'Normal-5865.png', 'Normal-5866.png', 'Normal-5867.png', 'Normal-5868.png', 'Normal-5869.png', 'Normal-587.png', 'Normal-5870.png', 'Normal-5871.png', 'Normal-5872.png', 'Normal-5873.png', 'Normal-5874.png', 'Normal-5875.png', 'Normal-5876.png', 'Normal-5877.png', 'Normal-5878.png', 'Normal-5879.png', 'Normal-588.png', 'Normal-5880.png', 'Normal-5881.png', 'Normal-5882.png', 'Normal-5883.png', 'Normal-5884.png', 'Normal-5885.png', 'Normal-5886.png', 'Normal-5887.png', 'Normal-5888.png', 'Normal-5889.png', 'Normal-589.png', 'Normal-5890.png', 'Normal-5891.png', 'Normal-5892.png', 'Normal-5893.png', 'Normal-5894.png', 'Normal-5895.png', 'Normal-5896.png', 'Normal-5897.png', 'Normal-5898.png', 'Normal-5899.png', 'Normal-59.png', 'Normal-590.png', 'Normal-5900.png', 'Normal-5901.png', 'Normal-5902.png', 'Normal-5903.png', 'Normal-5904.png', 'Normal-5905.png', 'Normal-5906.png', 'Normal-5907.png', 'Normal-5908.png', 'Normal-5909.png', 'Normal-591.png', 'Normal-5910.png', 'Normal-5911.png', 'Normal-5912.png', 'Normal-5913.png', 'Normal-5914.png', 'Normal-5915.png', 'Normal-5916.png', 'Normal-5917.png', 'Normal-5918.png', 'Normal-5919.png', 'Normal-592.png', 'Normal-5920.png', 'Normal-5921.png', 'Normal-5922.png', 'Normal-5923.png', 'Normal-5924.png', 'Normal-5925.png', 'Normal-5926.png', 'Normal-5927.png', 'Normal-5928.png', 'Normal-5929.png', 'Normal-593.png', 'Normal-5930.png', 'Normal-5931.png', 'Normal-5932.png', 'Normal-5933.png', 'Normal-5934.png', 'Normal-5935.png', 'Normal-5936.png', 'Normal-5937.png', 'Normal-5938.png', 'Normal-5939.png', 'Normal-594.png', 'Normal-5940.png', 'Normal-5941.png', 'Normal-5942.png', 'Normal-5943.png', 'Normal-5944.png', 'Normal-5945.png', 'Normal-5946.png', 'Normal-5947.png', 'Normal-5948.png', 'Normal-5949.png', 'Normal-595.png', 'Normal-5950.png', 'Normal-5951.png', 'Normal-5952.png', 'Normal-5953.png', 'Normal-5954.png', 'Normal-5955.png', 'Normal-5956.png', 'Normal-5957.png', 'Normal-5958.png', 'Normal-5959.png', 'Normal-596.png', 'Normal-5960.png', 'Normal-5961.png', 'Normal-5962.png', 'Normal-5963.png', 'Normal-5964.png', 'Normal-5965.png', 'Normal-5966.png', 'Normal-5967.png', 'Normal-5968.png', 'Normal-5969.png', 'Normal-597.png', 'Normal-5970.png', 'Normal-5971.png', 'Normal-5972.png', 'Normal-5973.png', 'Normal-5974.png', 'Normal-5975.png', 'Normal-5976.png', 'Normal-5977.png', 'Normal-5978.png', 'Normal-5979.png', 'Normal-598.png', 'Normal-5980.png', 'Normal-5981.png', 'Normal-5982.png', 'Normal-5983.png', 'Normal-5984.png', 'Normal-5985.png', 'Normal-5986.png', 'Normal-5987.png', 'Normal-5988.png', 'Normal-5989.png', 'Normal-599.png', 'Normal-5990.png', 'Normal-5991.png', 'Normal-5992.png', 'Normal-5993.png', 'Normal-5994.png', 'Normal-5995.png', 'Normal-5996.png', 'Normal-5997.png', 'Normal-5998.png', 'Normal-5999.png', 'Normal-6.png', 'Normal-60.png', 'Normal-600.png', 'Normal-6000.png', 'Normal-6001.png', 'Normal-6002.png', 'Normal-6003.png', 'Normal-6004.png', 'Normal-6005.png', 'Normal-6006.png', 'Normal-6007.png', 'Normal-6008.png', 'Normal-6009.png', 'Normal-601.png', 'Normal-6010.png', 'Normal-6011.png', 'Normal-6012.png', 'Normal-6013.png', 'Normal-6014.png', 'Normal-6015.png', 'Normal-6016.png', 'Normal-6017.png', 'Normal-6018.png', 'Normal-6019.png', 'Normal-602.png', 'Normal-6020.png', 'Normal-6021.png', 'Normal-6022.png', 'Normal-6023.png', 'Normal-6024.png', 'Normal-6025.png', 'Normal-6026.png', 'Normal-6027.png', 'Normal-6028.png', 'Normal-6029.png', 'Normal-603.png', 'Normal-6030.png', 'Normal-6031.png', 'Normal-6032.png', 'Normal-6033.png', 'Normal-6034.png', 'Normal-6035.png', 'Normal-6036.png', 'Normal-6037.png', 'Normal-6038.png', 'Normal-6039.png', 'Normal-604.png', 'Normal-6040.png', 'Normal-6041.png', 'Normal-6042.png', 'Normal-6043.png', 'Normal-6044.png', 'Normal-6045.png', 'Normal-6046.png', 'Normal-6047.png', 'Normal-6048.png', 'Normal-6049.png', 'Normal-605.png', 'Normal-6050.png', 'Normal-6051.png', 'Normal-6052.png', 'Normal-6053.png', 'Normal-6054.png', 'Normal-6055.png', 'Normal-6056.png', 'Normal-6057.png', 'Normal-6058.png', 'Normal-6059.png', 'Normal-606.png', 'Normal-6060.png', 'Normal-6061.png', 'Normal-6062.png', 'Normal-6063.png', 'Normal-6064.png', 'Normal-6065.png', 'Normal-6066.png', 'Normal-6067.png', 'Normal-6068.png', 'Normal-6069.png', 'Normal-607.png', 'Normal-6070.png', 'Normal-6071.png', 'Normal-6072.png', 'Normal-6073.png', 'Normal-6074.png', 'Normal-6075.png', 'Normal-6076.png', 'Normal-6077.png', 'Normal-6078.png', 'Normal-6079.png', 'Normal-608.png', 'Normal-6080.png', 'Normal-6081.png', 'Normal-6082.png', 'Normal-6083.png', 'Normal-6084.png', 'Normal-6085.png', 'Normal-6086.png', 'Normal-6087.png', 'Normal-6088.png', 'Normal-6089.png', 'Normal-609.png', 'Normal-6090.png', 'Normal-6091.png', 'Normal-6092.png', 'Normal-6093.png', 'Normal-6094.png', 'Normal-6095.png', 'Normal-6096.png', 'Normal-6097.png', 'Normal-6098.png', 'Normal-6099.png', 'Normal-61.png', 'Normal-610.png', 'Normal-6100.png', 'Normal-6101.png', 'Normal-6102.png', 'Normal-6103.png', 'Normal-6104.png', 'Normal-6105.png', 'Normal-6106.png', 'Normal-6107.png', 'Normal-6108.png', 'Normal-6109.png', 'Normal-611.png', 'Normal-6110.png', 'Normal-6111.png', 'Normal-6112.png', 'Normal-6113.png', 'Normal-6114.png', 'Normal-6115.png', 'Normal-6116.png', 'Normal-6117.png', 'Normal-6118.png', 'Normal-6119.png', 'Normal-612.png', 'Normal-6120.png', 'Normal-6121.png', 'Normal-6122.png', 'Normal-6123.png', 'Normal-6124.png', 'Normal-6125.png', 'Normal-6126.png', 'Normal-6127.png', 'Normal-6128.png', 'Normal-6129.png', 'Normal-613.png', 'Normal-6130.png', 'Normal-6131.png', 'Normal-6132.png', 'Normal-6133.png', 'Normal-6134.png', 'Normal-6135.png', 'Normal-6136.png', 'Normal-6137.png', 'Normal-6138.png', 'Normal-6139.png', 'Normal-614.png', 'Normal-6140.png', 'Normal-6141.png', 'Normal-6142.png', 'Normal-6143.png', 'Normal-6144.png', 'Normal-6145.png', 'Normal-6146.png', 'Normal-6147.png', 'Normal-6148.png', 'Normal-6149.png', 'Normal-615.png', 'Normal-6150.png', 'Normal-6151.png', 'Normal-6152.png', 'Normal-6153.png', 'Normal-6154.png', 'Normal-6155.png', 'Normal-6156.png', 'Normal-6157.png', 'Normal-6158.png', 'Normal-6159.png', 'Normal-616.png', 'Normal-6160.png', 'Normal-6161.png', 'Normal-6162.png', 'Normal-6163.png', 'Normal-6164.png', 'Normal-6165.png', 'Normal-6166.png', 'Normal-6167.png', 'Normal-6168.png', 'Normal-6169.png', 'Normal-617.png', 'Normal-6170.png', 'Normal-6171.png', 'Normal-6172.png', 'Normal-6173.png', 'Normal-6174.png', 'Normal-6175.png', 'Normal-6176.png', 'Normal-6177.png', 'Normal-6178.png', 'Normal-6179.png', 'Normal-618.png', 'Normal-6180.png', 'Normal-6181.png', 'Normal-6182.png', 'Normal-6183.png', 'Normal-6184.png', 'Normal-6185.png', 'Normal-6186.png', 'Normal-6187.png', 'Normal-6188.png', 'Normal-6189.png', 'Normal-619.png', 'Normal-6190.png', 'Normal-6191.png', 'Normal-6192.png', 'Normal-6193.png', 'Normal-6194.png', 'Normal-6195.png', 'Normal-6196.png', 'Normal-6197.png', 'Normal-6198.png', 'Normal-6199.png', 'Normal-62.png', 'Normal-620.png', 'Normal-6200.png', 'Normal-6201.png', 'Normal-6202.png', 'Normal-6203.png', 'Normal-6204.png', 'Normal-6205.png', 'Normal-6206.png', 'Normal-6207.png', 'Normal-6208.png', 'Normal-6209.png', 'Normal-621.png', 'Normal-6210.png', 'Normal-6211.png', 'Normal-6212.png', 'Normal-6213.png', 'Normal-6214.png', 'Normal-6215.png', 'Normal-6216.png', 'Normal-6217.png', 'Normal-6218.png', 'Normal-6219.png', 'Normal-622.png', 'Normal-6220.png', 'Normal-6221.png', 'Normal-6222.png', 'Normal-6223.png', 'Normal-6224.png', 'Normal-6225.png', 'Normal-6226.png', 'Normal-6227.png', 'Normal-6228.png', 'Normal-6229.png', 'Normal-623.png', 'Normal-6230.png', 'Normal-6231.png', 'Normal-6232.png', 'Normal-6233.png', 'Normal-6234.png', 'Normal-6235.png', 'Normal-6236.png', 'Normal-6237.png', 'Normal-6238.png', 'Normal-6239.png', 'Normal-624.png', 'Normal-6240.png', 'Normal-6241.png', 'Normal-6242.png', 'Normal-6243.png', 'Normal-6244.png', 'Normal-6245.png', 'Normal-6246.png', 'Normal-6247.png', 'Normal-6248.png', 'Normal-6249.png', 'Normal-625.png', 'Normal-6250.png', 'Normal-6251.png', 'Normal-6252.png', 'Normal-6253.png', 'Normal-6254.png', 'Normal-6255.png', 'Normal-6256.png', 'Normal-6257.png', 'Normal-6258.png', 'Normal-6259.png', 'Normal-626.png', 'Normal-6260.png', 'Normal-6261.png', 'Normal-6262.png', 'Normal-6263.png', 'Normal-6264.png', 'Normal-6265.png', 'Normal-6266.png', 'Normal-6267.png', 'Normal-6268.png', 'Normal-6269.png', 'Normal-627.png', 'Normal-6270.png', 'Normal-6271.png', 'Normal-6272.png', 'Normal-6273.png', 'Normal-6274.png', 'Normal-6275.png', 'Normal-6276.png', 'Normal-6277.png', 'Normal-6278.png', 'Normal-6279.png', 'Normal-628.png', 'Normal-6280.png', 'Normal-6281.png', 'Normal-6282.png', 'Normal-6283.png', 'Normal-6284.png', 'Normal-6285.png', 'Normal-6286.png', 'Normal-6287.png', 'Normal-6288.png', 'Normal-6289.png', 'Normal-629.png', 'Normal-6290.png', 'Normal-6291.png', 'Normal-6292.png', 'Normal-6293.png', 'Normal-6294.png', 'Normal-6295.png', 'Normal-6296.png', 'Normal-6297.png', 'Normal-6298.png', 'Normal-6299.png', 'Normal-63.png', 'Normal-630.png', 'Normal-6300.png', 'Normal-6301.png', 'Normal-6302.png', 'Normal-6303.png', 'Normal-6304.png', 'Normal-6305.png', 'Normal-6306.png', 'Normal-6307.png', 'Normal-6308.png', 'Normal-6309.png', 'Normal-631.png', 'Normal-6310.png', 'Normal-6311.png', 'Normal-6312.png', 'Normal-6313.png', 'Normal-6314.png', 'Normal-6315.png', 'Normal-6316.png', 'Normal-6317.png', 'Normal-6318.png', 'Normal-6319.png', 'Normal-632.png', 'Normal-6320.png', 'Normal-6321.png', 'Normal-6322.png', 'Normal-6323.png', 'Normal-6324.png', 'Normal-6325.png', 'Normal-6326.png', 'Normal-6327.png', 'Normal-6328.png', 'Normal-6329.png', 'Normal-633.png', 'Normal-6330.png', 'Normal-6331.png', 'Normal-6332.png', 'Normal-6333.png', 'Normal-6334.png', 'Normal-6335.png', 'Normal-6336.png', 'Normal-6337.png', 'Normal-6338.png', 'Normal-6339.png', 'Normal-634.png', 'Normal-6340.png', 'Normal-6341.png', 'Normal-6342.png', 'Normal-6343.png', 'Normal-6344.png', 'Normal-6345.png', 'Normal-6346.png', 'Normal-6347.png', 'Normal-6348.png', 'Normal-6349.png', 'Normal-635.png', 'Normal-6350.png', 'Normal-6351.png', 'Normal-6352.png', 'Normal-6353.png', 'Normal-6354.png', 'Normal-6355.png', 'Normal-6356.png', 'Normal-6357.png', 'Normal-6358.png', 'Normal-6359.png', 'Normal-636.png', 'Normal-6360.png', 'Normal-6361.png', 'Normal-6362.png', 'Normal-6363.png', 'Normal-6364.png', 'Normal-6365.png', 'Normal-6366.png', 'Normal-6367.png', 'Normal-6368.png', 'Normal-6369.png', 'Normal-637.png', 'Normal-6370.png', 'Normal-6371.png', 'Normal-6372.png', 'Normal-6373.png', 'Normal-6374.png', 'Normal-6375.png', 'Normal-6376.png', 'Normal-6377.png', 'Normal-6378.png', 'Normal-6379.png', 'Normal-638.png', 'Normal-6380.png', 'Normal-6381.png', 'Normal-6382.png', 'Normal-6383.png', 'Normal-6384.png', 'Normal-6385.png', 'Normal-6386.png', 'Normal-6387.png', 'Normal-6388.png', 'Normal-6389.png', 'Normal-639.png', 'Normal-6390.png', 'Normal-6391.png', 'Normal-6392.png', 'Normal-6393.png', 'Normal-6394.png', 'Normal-6395.png', 'Normal-6396.png', 'Normal-6397.png', 'Normal-6398.png', 'Normal-6399.png', 'Normal-64.png', 'Normal-640.png', 'Normal-6400.png', 'Normal-6401.png', 'Normal-6402.png', 'Normal-6403.png', 'Normal-6404.png', 'Normal-6405.png', 'Normal-6406.png', 'Normal-6407.png', 'Normal-6408.png', 'Normal-6409.png', 'Normal-641.png', 'Normal-6410.png', 'Normal-6411.png', 'Normal-6412.png', 'Normal-6413.png', 'Normal-6414.png', 'Normal-6415.png', 'Normal-6416.png', 'Normal-6417.png', 'Normal-6418.png', 'Normal-6419.png', 'Normal-642.png', 'Normal-6420.png', 'Normal-6421.png', 'Normal-6422.png', 'Normal-6423.png', 'Normal-6424.png', 'Normal-6425.png', 'Normal-6426.png', 'Normal-6427.png', 'Normal-6428.png', 'Normal-6429.png', 'Normal-643.png', 'Normal-6430.png', 'Normal-6431.png', 'Normal-6432.png', 'Normal-6433.png', 'Normal-6434.png', 'Normal-6435.png', 'Normal-6436.png', 'Normal-6437.png', 'Normal-6438.png', 'Normal-6439.png', 'Normal-644.png', 'Normal-6440.png', 'Normal-6441.png', 'Normal-6442.png', 'Normal-6443.png', 'Normal-6444.png', 'Normal-6445.png', 'Normal-6446.png', 'Normal-6447.png', 'Normal-6448.png', 'Normal-6449.png', 'Normal-645.png', 'Normal-6450.png', 'Normal-6451.png', 'Normal-6452.png', 'Normal-6453.png', 'Normal-6454.png', 'Normal-6455.png', 'Normal-6456.png', 'Normal-6457.png', 'Normal-6458.png', 'Normal-6459.png', 'Normal-646.png', 'Normal-6460.png', 'Normal-6461.png', 'Normal-6462.png', 'Normal-6463.png', 'Normal-6464.png', 'Normal-6465.png', 'Normal-6466.png', 'Normal-6467.png', 'Normal-6468.png', 'Normal-6469.png', 'Normal-647.png', 'Normal-6470.png', 'Normal-6471.png', 'Normal-6472.png', 'Normal-6473.png', 'Normal-6474.png', 'Normal-6475.png', 'Normal-6476.png', 'Normal-6477.png', 'Normal-6478.png', 'Normal-6479.png', 'Normal-648.png', 'Normal-6480.png', 'Normal-6481.png', 'Normal-6482.png', 'Normal-6483.png', 'Normal-6484.png', 'Normal-6485.png', 'Normal-6486.png', 'Normal-6487.png', 'Normal-6488.png', 'Normal-6489.png', 'Normal-649.png', 'Normal-6490.png', 'Normal-6491.png', 'Normal-6492.png', 'Normal-6493.png', 'Normal-6494.png', 'Normal-6495.png', 'Normal-6496.png', 'Normal-6497.png', 'Normal-6498.png', 'Normal-6499.png', 'Normal-65.png', 'Normal-650.png', 'Normal-6500.png', 'Normal-6501.png', 'Normal-6502.png', 'Normal-6503.png', 'Normal-6504.png', 'Normal-6505.png', 'Normal-6506.png', 'Normal-6507.png', 'Normal-6508.png', 'Normal-6509.png', 'Normal-651.png', 'Normal-6510.png', 'Normal-6511.png', 'Normal-6512.png', 'Normal-6513.png', 'Normal-6514.png', 'Normal-6515.png', 'Normal-6516.png', 'Normal-6517.png', 'Normal-6518.png', 'Normal-6519.png', 'Normal-652.png', 'Normal-6520.png', 'Normal-6521.png', 'Normal-6522.png', 'Normal-6523.png', 'Normal-6524.png', 'Normal-6525.png', 'Normal-6526.png', 'Normal-6527.png', 'Normal-6528.png', 'Normal-6529.png', 'Normal-653.png', 'Normal-6530.png', 'Normal-6531.png', 'Normal-6532.png', 'Normal-6533.png', 'Normal-6534.png', 'Normal-6535.png', 'Normal-6536.png', 'Normal-6537.png', 'Normal-6538.png', 'Normal-6539.png', 'Normal-654.png', 'Normal-6540.png', 'Normal-6541.png', 'Normal-6542.png', 'Normal-6543.png', 'Normal-6544.png', 'Normal-6545.png', 'Normal-6546.png', 'Normal-6547.png', 'Normal-6548.png', 'Normal-6549.png', 'Normal-655.png', 'Normal-6550.png', 'Normal-6551.png', 'Normal-6552.png', 'Normal-6553.png', 'Normal-6554.png', 'Normal-6555.png', 'Normal-6556.png', 'Normal-6557.png', 'Normal-6558.png', 'Normal-6559.png', 'Normal-656.png', 'Normal-6560.png', 'Normal-6561.png', 'Normal-6562.png', 'Normal-6563.png', 'Normal-6564.png', 'Normal-6565.png', 'Normal-6566.png', 'Normal-6567.png', 'Normal-6568.png', 'Normal-6569.png', 'Normal-657.png', 'Normal-6570.png', 'Normal-6571.png', 'Normal-6572.png', 'Normal-6573.png', 'Normal-6574.png', 'Normal-6575.png', 'Normal-6576.png', 'Normal-6577.png', 'Normal-6578.png', 'Normal-6579.png', 'Normal-658.png', 'Normal-6580.png', 'Normal-6581.png', 'Normal-6582.png', 'Normal-6583.png', 'Normal-6584.png', 'Normal-6585.png', 'Normal-6586.png', 'Normal-6587.png', 'Normal-6588.png', 'Normal-6589.png', 'Normal-659.png', 'Normal-6590.png', 'Normal-6591.png', 'Normal-6592.png', 'Normal-6593.png', 'Normal-6594.png', 'Normal-6595.png', 'Normal-6596.png', 'Normal-6597.png', 'Normal-6598.png', 'Normal-6599.png', 'Normal-66.png', 'Normal-660.png', 'Normal-6600.png', 'Normal-6601.png', 'Normal-6602.png', 'Normal-6603.png', 'Normal-6604.png', 'Normal-6605.png', 'Normal-6606.png', 'Normal-6607.png', 'Normal-6608.png', 'Normal-6609.png', 'Normal-661.png', 'Normal-6610.png', 'Normal-6611.png', 'Normal-6612.png', 'Normal-6613.png', 'Normal-6614.png', 'Normal-6615.png', 'Normal-6616.png', 'Normal-6617.png', 'Normal-6618.png', 'Normal-6619.png', 'Normal-662.png', 'Normal-6620.png', 'Normal-6621.png', 'Normal-6622.png', 'Normal-6623.png', 'Normal-6624.png', 'Normal-6625.png', 'Normal-6626.png', 'Normal-6627.png', 'Normal-6628.png', 'Normal-6629.png', 'Normal-663.png', 'Normal-6630.png', 'Normal-6631.png', 'Normal-6632.png', 'Normal-6633.png', 'Normal-6634.png', 'Normal-6635.png', 'Normal-6636.png', 'Normal-6637.png', 'Normal-6638.png', 'Normal-6639.png', 'Normal-664.png', 'Normal-6640.png', 'Normal-6641.png', 'Normal-6642.png', 'Normal-6643.png', 'Normal-6644.png', 'Normal-6645.png', 'Normal-6646.png', 'Normal-6647.png', 'Normal-6648.png', 'Normal-6649.png', 'Normal-665.png', 'Normal-6650.png', 'Normal-6651.png', 'Normal-6652.png', 'Normal-6653.png', 'Normal-6654.png', 'Normal-6655.png', 'Normal-6656.png', 'Normal-6657.png', 'Normal-6658.png', 'Normal-6659.png', 'Normal-666.png', 'Normal-6660.png', 'Normal-6661.png', 'Normal-6662.png', 'Normal-6663.png', 'Normal-6664.png', 'Normal-6665.png', 'Normal-6666.png', 'Normal-6667.png', 'Normal-6668.png', 'Normal-6669.png', 'Normal-667.png', 'Normal-6670.png', 'Normal-6671.png', 'Normal-6672.png', 'Normal-6673.png', 'Normal-6674.png', 'Normal-6675.png', 'Normal-6676.png', 'Normal-6677.png', 'Normal-6678.png', 'Normal-6679.png', 'Normal-668.png', 'Normal-6680.png', 'Normal-6681.png', 'Normal-6682.png', 'Normal-6683.png', 'Normal-6684.png', 'Normal-6685.png', 'Normal-6686.png', 'Normal-6687.png', 'Normal-6688.png', 'Normal-6689.png', 'Normal-669.png', 'Normal-6690.png', 'Normal-6691.png', 'Normal-6692.png', 'Normal-6693.png', 'Normal-6694.png', 'Normal-6695.png', 'Normal-6696.png', 'Normal-6697.png', 'Normal-6698.png', 'Normal-6699.png', 'Normal-67.png', 'Normal-670.png', 'Normal-6700.png', 'Normal-6701.png', 'Normal-6702.png', 'Normal-6703.png', 'Normal-6704.png', 'Normal-6705.png', 'Normal-6706.png', 'Normal-6707.png', 'Normal-6708.png', 'Normal-6709.png', 'Normal-671.png', 'Normal-6710.png', 'Normal-6711.png', 'Normal-6712.png', 'Normal-6713.png', 'Normal-6714.png', 'Normal-6715.png', 'Normal-6716.png', 'Normal-6717.png', 'Normal-6718.png', 'Normal-6719.png', 'Normal-672.png', 'Normal-6720.png', 'Normal-6721.png', 'Normal-6722.png', 'Normal-6723.png', 'Normal-6724.png', 'Normal-6725.png', 'Normal-6726.png', 'Normal-6727.png', 'Normal-6728.png', 'Normal-6729.png', 'Normal-673.png', 'Normal-6730.png', 'Normal-6731.png', 'Normal-6732.png', 'Normal-6733.png', 'Normal-6734.png', 'Normal-6735.png', 'Normal-6736.png', 'Normal-6737.png', 'Normal-6738.png', 'Normal-6739.png', 'Normal-674.png', 'Normal-6740.png', 'Normal-6741.png', 'Normal-6742.png', 'Normal-6743.png', 'Normal-6744.png', 'Normal-6745.png', 'Normal-6746.png', 'Normal-6747.png', 'Normal-6748.png', 'Normal-6749.png', 'Normal-675.png', 'Normal-6750.png', 'Normal-6751.png', 'Normal-6752.png', 'Normal-6753.png', 'Normal-6754.png', 'Normal-6755.png', 'Normal-6756.png', 'Normal-6757.png', 'Normal-6758.png', 'Normal-6759.png', 'Normal-676.png', 'Normal-6760.png', 'Normal-6761.png', 'Normal-6762.png', 'Normal-6763.png', 'Normal-6764.png', 'Normal-6765.png', 'Normal-6766.png', 'Normal-6767.png', 'Normal-6768.png', 'Normal-6769.png', 'Normal-677.png', 'Normal-6770.png', 'Normal-6771.png', 'Normal-6772.png', 'Normal-6773.png', 'Normal-6774.png', 'Normal-6775.png', 'Normal-6776.png', 'Normal-6777.png', 'Normal-6778.png', 'Normal-6779.png', 'Normal-678.png', 'Normal-6780.png', 'Normal-6781.png', 'Normal-6782.png', 'Normal-6783.png', 'Normal-6784.png', 'Normal-6785.png', 'Normal-6786.png', 'Normal-6787.png', 'Normal-6788.png', 'Normal-6789.png', 'Normal-679.png', 'Normal-6790.png', 'Normal-6791.png', 'Normal-6792.png', 'Normal-6793.png', 'Normal-6794.png', 'Normal-6795.png', 'Normal-6796.png', 'Normal-6797.png', 'Normal-6798.png', 'Normal-6799.png', 'Normal-68.png', 'Normal-680.png', 'Normal-6800.png', 'Normal-6801.png', 'Normal-6802.png', 'Normal-6803.png', 'Normal-6804.png', 'Normal-6805.png', 'Normal-6806.png', 'Normal-6807.png', 'Normal-6808.png', 'Normal-6809.png', 'Normal-681.png', 'Normal-6810.png', 'Normal-6811.png', 'Normal-6812.png', 'Normal-6813.png', 'Normal-6814.png', 'Normal-6815.png', 'Normal-6816.png', 'Normal-6817.png', 'Normal-6818.png', 'Normal-6819.png', 'Normal-682.png', 'Normal-6820.png', 'Normal-6821.png', 'Normal-6822.png', 'Normal-6823.png', 'Normal-6824.png', 'Normal-6825.png', 'Normal-6826.png', 'Normal-6827.png', 'Normal-6828.png', 'Normal-6829.png', 'Normal-683.png', 'Normal-6830.png', 'Normal-6831.png', 'Normal-6832.png', 'Normal-6833.png', 'Normal-6834.png', 'Normal-6835.png', 'Normal-6836.png', 'Normal-6837.png', 'Normal-6838.png', 'Normal-6839.png', 'Normal-684.png', 'Normal-6840.png', 'Normal-6841.png', 'Normal-6842.png', 'Normal-6843.png', 'Normal-6844.png', 'Normal-6845.png', 'Normal-6846.png', 'Normal-6847.png', 'Normal-6848.png', 'Normal-6849.png', 'Normal-685.png', 'Normal-6850.png', 'Normal-6851.png', 'Normal-6852.png', 'Normal-6853.png', 'Normal-6854.png', 'Normal-6855.png', 'Normal-6856.png', 'Normal-6857.png', 'Normal-6858.png', 'Normal-6859.png', 'Normal-686.png', 'Normal-6860.png', 'Normal-6861.png', 'Normal-6862.png', 'Normal-6863.png', 'Normal-6864.png', 'Normal-6865.png', 'Normal-6866.png', 'Normal-6867.png', 'Normal-6868.png', 'Normal-6869.png', 'Normal-687.png', 'Normal-6870.png', 'Normal-6871.png', 'Normal-6872.png', 'Normal-6873.png', 'Normal-6874.png', 'Normal-6875.png', 'Normal-6876.png', 'Normal-6877.png', 'Normal-6878.png', 'Normal-6879.png', 'Normal-688.png', 'Normal-6880.png', 'Normal-6881.png', 'Normal-6882.png', 'Normal-6883.png', 'Normal-6884.png', 'Normal-6885.png', 'Normal-6886.png', 'Normal-6887.png', 'Normal-6888.png', 'Normal-6889.png', 'Normal-689.png', 'Normal-6890.png', 'Normal-6891.png', 'Normal-6892.png', 'Normal-6893.png', 'Normal-6894.png', 'Normal-6895.png', 'Normal-6896.png', 'Normal-6897.png', 'Normal-6898.png', 'Normal-6899.png', 'Normal-69.png', 'Normal-690.png', 'Normal-6900.png', 'Normal-6901.png', 'Normal-6902.png', 'Normal-6903.png', 'Normal-6904.png', 'Normal-6905.png', 'Normal-6906.png', 'Normal-6907.png', 'Normal-6908.png', 'Normal-6909.png', 'Normal-691.png', 'Normal-6910.png', 'Normal-6911.png', 'Normal-6912.png', 'Normal-6913.png', 'Normal-6914.png', 'Normal-6915.png', 'Normal-6916.png', 'Normal-6917.png', 'Normal-6918.png', 'Normal-6919.png', 'Normal-692.png', 'Normal-6920.png', 'Normal-6921.png', 'Normal-6922.png', 'Normal-6923.png', 'Normal-6924.png', 'Normal-6925.png', 'Normal-6926.png', 'Normal-6927.png', 'Normal-6928.png', 'Normal-6929.png', 'Normal-693.png', 'Normal-6930.png', 'Normal-6931.png', 'Normal-6932.png', 'Normal-6933.png', 'Normal-6934.png', 'Normal-6935.png', 'Normal-6936.png', 'Normal-6937.png', 'Normal-6938.png', 'Normal-6939.png', 'Normal-694.png', 'Normal-6940.png', 'Normal-6941.png', 'Normal-6942.png', 'Normal-6943.png', 'Normal-6944.png', 'Normal-6945.png', 'Normal-6946.png', 'Normal-6947.png', 'Normal-6948.png', 'Normal-6949.png', 'Normal-695.png', 'Normal-6950.png', 'Normal-6951.png', 'Normal-6952.png', 'Normal-6953.png', 'Normal-6954.png', 'Normal-6955.png', 'Normal-6956.png', 'Normal-6957.png', 'Normal-6958.png', 'Normal-6959.png', 'Normal-696.png', 'Normal-6960.png', 'Normal-6961.png', 'Normal-6962.png', 'Normal-6963.png', 'Normal-6964.png', 'Normal-6965.png', 'Normal-6966.png', 'Normal-6967.png', 'Normal-6968.png', 'Normal-6969.png', 'Normal-697.png', 'Normal-6970.png', 'Normal-6971.png', 'Normal-6972.png', 'Normal-6973.png', 'Normal-6974.png', 'Normal-6975.png', 'Normal-6976.png', 'Normal-6977.png', 'Normal-6978.png', 'Normal-6979.png', 'Normal-698.png', 'Normal-6980.png', 'Normal-6981.png', 'Normal-6982.png', 'Normal-6983.png', 'Normal-6984.png', 'Normal-6985.png', 'Normal-6986.png', 'Normal-6987.png', 'Normal-6988.png', 'Normal-6989.png', 'Normal-699.png', 'Normal-6990.png', 'Normal-6991.png', 'Normal-6992.png', 'Normal-6993.png', 'Normal-6994.png', 'Normal-6995.png', 'Normal-6996.png', 'Normal-6997.png', 'Normal-6998.png', 'Normal-6999.png', 'Normal-7.png', 'Normal-70.png', 'Normal-700.png', 'Normal-7000.png', 'Normal-7001.png', 'Normal-7002.png', 'Normal-7003.png', 'Normal-7004.png', 'Normal-7005.png', 'Normal-7006.png', 'Normal-7007.png', 'Normal-7008.png', 'Normal-7009.png', 'Normal-701.png', 'Normal-7010.png', 'Normal-7011.png', 'Normal-7012.png', 'Normal-7013.png', 'Normal-7014.png', 'Normal-7015.png', 'Normal-7016.png', 'Normal-7017.png', 'Normal-7018.png', 'Normal-7019.png', 'Normal-702.png', 'Normal-7020.png', 'Normal-7021.png', 'Normal-7022.png', 'Normal-7023.png', 'Normal-7024.png', 'Normal-7025.png', 'Normal-7026.png', 'Normal-7027.png', 'Normal-7028.png', 'Normal-7029.png', 'Normal-703.png', 'Normal-7030.png', 'Normal-7031.png', 'Normal-7032.png', 'Normal-7033.png', 'Normal-7034.png', 'Normal-7035.png', 'Normal-7036.png', 'Normal-7037.png', 'Normal-7038.png', 'Normal-7039.png', 'Normal-704.png', 'Normal-7040.png', 'Normal-7041.png', 'Normal-7042.png', 'Normal-7043.png', 'Normal-7044.png', 'Normal-7045.png', 'Normal-7046.png', 'Normal-7047.png', 'Normal-7048.png', 'Normal-7049.png', 'Normal-705.png', 'Normal-7050.png', 'Normal-7051.png', 'Normal-7052.png', 'Normal-7053.png', 'Normal-7054.png', 'Normal-7055.png', 'Normal-7056.png', 'Normal-7057.png', 'Normal-7058.png', 'Normal-7059.png', 'Normal-706.png', 'Normal-7060.png', 'Normal-7061.png', 'Normal-7062.png', 'Normal-7063.png', 'Normal-7064.png', 'Normal-7065.png', 'Normal-7066.png', 'Normal-7067.png', 'Normal-7068.png', 'Normal-7069.png', 'Normal-707.png', 'Normal-7070.png', 'Normal-7071.png', 'Normal-7072.png', 'Normal-7073.png', 'Normal-7074.png', 'Normal-7075.png', 'Normal-7076.png', 'Normal-7077.png', 'Normal-7078.png', 'Normal-7079.png', 'Normal-708.png', 'Normal-7080.png', 'Normal-7081.png', 'Normal-7082.png', 'Normal-7083.png', 'Normal-7084.png', 'Normal-7085.png', 'Normal-7086.png', 'Normal-7087.png', 'Normal-7088.png', 'Normal-7089.png', 'Normal-709.png', 'Normal-7090.png', 'Normal-7091.png', 'Normal-7092.png', 'Normal-7093.png', 'Normal-7094.png', 'Normal-7095.png', 'Normal-7096.png', 'Normal-7097.png', 'Normal-7098.png', 'Normal-7099.png', 'Normal-71.png', 'Normal-710.png', 'Normal-7100.png', 'Normal-7101.png', 'Normal-7102.png', 'Normal-7103.png', 'Normal-7104.png', 'Normal-7105.png', 'Normal-7106.png', 'Normal-7107.png', 'Normal-7108.png', 'Normal-7109.png', 'Normal-711.png', 'Normal-7110.png', 'Normal-7111.png', 'Normal-7112.png', 'Normal-7113.png', 'Normal-7114.png', 'Normal-7115.png', 'Normal-7116.png', 'Normal-7117.png', 'Normal-7118.png', 'Normal-7119.png', 'Normal-712.png', 'Normal-7120.png', 'Normal-7121.png', 'Normal-7122.png', 'Normal-7123.png', 'Normal-7124.png', 'Normal-7125.png', 'Normal-7126.png', 'Normal-7127.png', 'Normal-7128.png', 'Normal-7129.png', 'Normal-713.png', 'Normal-7130.png', 'Normal-7131.png', 'Normal-7132.png', 'Normal-7133.png', 'Normal-7134.png', 'Normal-7135.png', 'Normal-7136.png', 'Normal-7137.png', 'Normal-7138.png', 'Normal-7139.png', 'Normal-714.png', 'Normal-7140.png', 'Normal-7141.png', 'Normal-7142.png', 'Normal-7143.png', 'Normal-7144.png', 'Normal-7145.png', 'Normal-7146.png', 'Normal-7147.png', 'Normal-7148.png', 'Normal-7149.png', 'Normal-715.png', 'Normal-7150.png', 'Normal-7151.png', 'Normal-7152.png', 'Normal-7153.png', 'Normal-7154.png', 'Normal-7155.png', 'Normal-7156.png', 'Normal-7157.png', 'Normal-7158.png', 'Normal-7159.png', 'Normal-716.png', 'Normal-7160.png', 'Normal-7161.png', 'Normal-7162.png', 'Normal-7163.png', 'Normal-7164.png', 'Normal-7165.png', 'Normal-7166.png', 'Normal-7167.png', 'Normal-7168.png', 'Normal-7169.png', 'Normal-717.png', 'Normal-7170.png', 'Normal-7171.png', 'Normal-7172.png', 'Normal-7173.png', 'Normal-7174.png', 'Normal-7175.png', 'Normal-7176.png', 'Normal-7177.png', 'Normal-7178.png', 'Normal-7179.png', 'Normal-718.png', 'Normal-7180.png', 'Normal-7181.png', 'Normal-7182.png', 'Normal-7183.png', 'Normal-7184.png', 'Normal-7185.png', 'Normal-7186.png', 'Normal-7187.png', 'Normal-7188.png', 'Normal-7189.png', 'Normal-719.png', 'Normal-7190.png', 'Normal-7191.png', 'Normal-7192.png', 'Normal-7193.png', 'Normal-7194.png', 'Normal-7195.png', 'Normal-7196.png', 'Normal-7197.png', 'Normal-7198.png', 'Normal-7199.png', 'Normal-72.png', 'Normal-720.png', 'Normal-7200.png', 'Normal-7201.png', 'Normal-7202.png', 'Normal-7203.png', 'Normal-7204.png', 'Normal-7205.png', 'Normal-7206.png', 'Normal-7207.png', 'Normal-7208.png', 'Normal-7209.png', 'Normal-721.png', 'Normal-7210.png', 'Normal-7211.png', 'Normal-7212.png', 'Normal-7213.png', 'Normal-7214.png', 'Normal-7215.png', 'Normal-7216.png', 'Normal-7217.png', 'Normal-7218.png', 'Normal-7219.png', 'Normal-722.png', 'Normal-7220.png', 'Normal-7221.png', 'Normal-7222.png', 'Normal-7223.png', 'Normal-7224.png', 'Normal-7225.png', 'Normal-7226.png', 'Normal-7227.png', 'Normal-7228.png', 'Normal-7229.png', 'Normal-723.png', 'Normal-7230.png', 'Normal-7231.png', 'Normal-7232.png', 'Normal-7233.png', 'Normal-7234.png', 'Normal-7235.png', 'Normal-7236.png', 'Normal-7237.png', 'Normal-7238.png', 'Normal-7239.png', 'Normal-724.png', 'Normal-7240.png', 'Normal-7241.png', 'Normal-7242.png', 'Normal-7243.png', 'Normal-7244.png', 'Normal-7245.png', 'Normal-7246.png', 'Normal-7247.png', 'Normal-7248.png', 'Normal-7249.png', 'Normal-725.png', 'Normal-7250.png', 'Normal-7251.png', 'Normal-7252.png', 'Normal-7253.png', 'Normal-7254.png', 'Normal-7255.png', 'Normal-7256.png', 'Normal-7257.png', 'Normal-7258.png', 'Normal-7259.png', 'Normal-726.png', 'Normal-7260.png', 'Normal-7261.png', 'Normal-7262.png', 'Normal-7263.png', 'Normal-7264.png', 'Normal-7265.png', 'Normal-7266.png', 'Normal-7267.png', 'Normal-7268.png', 'Normal-7269.png', 'Normal-727.png', 'Normal-7270.png', 'Normal-7271.png', 'Normal-7272.png', 'Normal-7273.png', 'Normal-7274.png', 'Normal-7275.png', 'Normal-7276.png', 'Normal-7277.png', 'Normal-7278.png', 'Normal-7279.png', 'Normal-728.png', 'Normal-7280.png', 'Normal-7281.png', 'Normal-7282.png', 'Normal-7283.png', 'Normal-7284.png', 'Normal-7285.png', 'Normal-7286.png', 'Normal-7287.png', 'Normal-7288.png', 'Normal-7289.png', 'Normal-729.png', 'Normal-7290.png', 'Normal-7291.png', 'Normal-7292.png', 'Normal-7293.png', 'Normal-7294.png', 'Normal-7295.png', 'Normal-7296.png', 'Normal-7297.png', 'Normal-7298.png', 'Normal-7299.png', 'Normal-73.png', 'Normal-730.png', 'Normal-7300.png', 'Normal-7301.png', 'Normal-7302.png', 'Normal-7303.png', 'Normal-7304.png', 'Normal-7305.png', 'Normal-7306.png', 'Normal-7307.png', 'Normal-7308.png', 'Normal-7309.png', 'Normal-731.png', 'Normal-7310.png', 'Normal-7311.png', 'Normal-7312.png', 'Normal-7313.png', 'Normal-7314.png', 'Normal-7315.png', 'Normal-7316.png', 'Normal-7317.png', 'Normal-7318.png', 'Normal-7319.png', 'Normal-732.png', 'Normal-7320.png', 'Normal-7321.png', 'Normal-7322.png', 'Normal-7323.png', 'Normal-7324.png', 'Normal-7325.png', 'Normal-7326.png', 'Normal-7327.png', 'Normal-7328.png', 'Normal-7329.png', 'Normal-733.png', 'Normal-7330.png', 'Normal-7331.png', 'Normal-7332.png', 'Normal-7333.png', 'Normal-7334.png', 'Normal-7335.png', 'Normal-7336.png', 'Normal-7337.png', 'Normal-7338.png', 'Normal-7339.png', 'Normal-734.png', 'Normal-7340.png', 'Normal-7341.png', 'Normal-7342.png', 'Normal-7343.png', 'Normal-7344.png', 'Normal-7345.png', 'Normal-7346.png', 'Normal-7347.png', 'Normal-7348.png', 'Normal-7349.png', 'Normal-735.png', 'Normal-7350.png', 'Normal-7351.png', 'Normal-7352.png', 'Normal-7353.png', 'Normal-7354.png', 'Normal-7355.png', 'Normal-7356.png', 'Normal-7357.png', 'Normal-7358.png', 'Normal-7359.png', 'Normal-736.png', 'Normal-7360.png', 'Normal-7361.png', 'Normal-7362.png', 'Normal-7363.png', 'Normal-7364.png', 'Normal-7365.png', 'Normal-7366.png', 'Normal-7367.png', 'Normal-7368.png', 'Normal-7369.png', 'Normal-737.png', 'Normal-7370.png', 'Normal-7371.png', 'Normal-7372.png', 'Normal-7373.png', 'Normal-7374.png', 'Normal-7375.png', 'Normal-7376.png', 'Normal-7377.png', 'Normal-7378.png', 'Normal-7379.png', 'Normal-738.png', 'Normal-7380.png', 'Normal-7381.png', 'Normal-7382.png', 'Normal-7383.png', 'Normal-7384.png', 'Normal-7385.png', 'Normal-7386.png', 'Normal-7387.png', 'Normal-7388.png', 'Normal-7389.png', 'Normal-739.png', 'Normal-7390.png', 'Normal-7391.png', 'Normal-7392.png', 'Normal-7393.png', 'Normal-7394.png', 'Normal-7395.png', 'Normal-7396.png', 'Normal-7397.png', 'Normal-7398.png', 'Normal-7399.png', 'Normal-74.png', 'Normal-740.png', 'Normal-7400.png', 'Normal-7401.png', 'Normal-7402.png', 'Normal-7403.png', 'Normal-7404.png', 'Normal-7405.png', 'Normal-7406.png', 'Normal-7407.png', 'Normal-7408.png', 'Normal-7409.png', 'Normal-741.png', 'Normal-7410.png', 'Normal-7411.png', 'Normal-7412.png', 'Normal-7413.png', 'Normal-7414.png', 'Normal-7415.png', 'Normal-7416.png', 'Normal-7417.png', 'Normal-7418.png', 'Normal-7419.png', 'Normal-742.png', 'Normal-7420.png', 'Normal-7421.png', 'Normal-7422.png', 'Normal-7423.png', 'Normal-7424.png', 'Normal-7425.png', 'Normal-7426.png', 'Normal-7427.png', 'Normal-7428.png', 'Normal-7429.png', 'Normal-743.png', 'Normal-7430.png', 'Normal-7431.png', 'Normal-7432.png', 'Normal-7433.png', 'Normal-7434.png', 'Normal-7435.png', 'Normal-7436.png', 'Normal-7437.png', 'Normal-7438.png', 'Normal-7439.png', 'Normal-744.png', 'Normal-7440.png', 'Normal-7441.png', 'Normal-7442.png', 'Normal-7443.png', 'Normal-7444.png', 'Normal-7445.png', 'Normal-7446.png', 'Normal-7447.png', 'Normal-7448.png', 'Normal-7449.png', 'Normal-745.png', 'Normal-7450.png', 'Normal-7451.png', 'Normal-7452.png', 'Normal-7453.png', 'Normal-7454.png', 'Normal-7455.png', 'Normal-7456.png', 'Normal-7457.png', 'Normal-7458.png', 'Normal-7459.png', 'Normal-746.png', 'Normal-7460.png', 'Normal-7461.png', 'Normal-7462.png', 'Normal-7463.png', 'Normal-7464.png', 'Normal-7465.png', 'Normal-7466.png', 'Normal-7467.png', 'Normal-7468.png', 'Normal-7469.png', 'Normal-747.png', 'Normal-7470.png', 'Normal-7471.png', 'Normal-7472.png', 'Normal-7473.png', 'Normal-7474.png', 'Normal-7475.png', 'Normal-7476.png', 'Normal-7477.png', 'Normal-7478.png', 'Normal-7479.png', 'Normal-748.png', 'Normal-7480.png', 'Normal-7481.png', 'Normal-7482.png', 'Normal-7483.png', 'Normal-7484.png', 'Normal-7485.png', 'Normal-7486.png', 'Normal-7487.png', 'Normal-7488.png', 'Normal-7489.png', 'Normal-749.png', 'Normal-7490.png', 'Normal-7491.png', 'Normal-7492.png', 'Normal-7493.png', 'Normal-7494.png', 'Normal-7495.png', 'Normal-7496.png', 'Normal-7497.png', 'Normal-7498.png', 'Normal-7499.png', 'Normal-75.png', 'Normal-750.png', 'Normal-7500.png', 'Normal-7501.png', 'Normal-7502.png', 'Normal-7503.png', 'Normal-7504.png', 'Normal-7505.png', 'Normal-7506.png', 'Normal-7507.png', 'Normal-7508.png', 'Normal-7509.png', 'Normal-751.png', 'Normal-7510.png', 'Normal-7511.png', 'Normal-7512.png', 'Normal-7513.png', 'Normal-7514.png', 'Normal-7515.png', 'Normal-7516.png', 'Normal-7517.png', 'Normal-7518.png', 'Normal-7519.png', 'Normal-752.png', 'Normal-7520.png', 'Normal-7521.png', 'Normal-7522.png', 'Normal-7523.png', 'Normal-7524.png', 'Normal-7525.png', 'Normal-7526.png', 'Normal-7527.png', 'Normal-7528.png', 'Normal-7529.png', 'Normal-753.png', 'Normal-7530.png', 'Normal-7531.png', 'Normal-7532.png', 'Normal-7533.png', 'Normal-7534.png', 'Normal-7535.png', 'Normal-7536.png', 'Normal-7537.png', 'Normal-7538.png', 'Normal-7539.png', 'Normal-754.png', 'Normal-7540.png', 'Normal-7541.png', 'Normal-7542.png', 'Normal-7543.png', 'Normal-7544.png', 'Normal-7545.png', 'Normal-7546.png', 'Normal-7547.png', 'Normal-7548.png', 'Normal-7549.png', 'Normal-755.png', 'Normal-7550.png', 'Normal-7551.png', 'Normal-7552.png', 'Normal-7553.png', 'Normal-7554.png', 'Normal-7555.png', 'Normal-7556.png', 'Normal-7557.png', 'Normal-7558.png', 'Normal-7559.png', 'Normal-756.png', 'Normal-7560.png', 'Normal-7561.png', 'Normal-7562.png', 'Normal-7563.png', 'Normal-7564.png', 'Normal-7565.png', 'Normal-7566.png', 'Normal-7567.png', 'Normal-7568.png', 'Normal-7569.png', 'Normal-757.png', 'Normal-7570.png', 'Normal-7571.png', 'Normal-7572.png', 'Normal-7573.png', 'Normal-7574.png', 'Normal-7575.png', 'Normal-7576.png', 'Normal-7577.png', 'Normal-7578.png', 'Normal-7579.png', 'Normal-758.png', 'Normal-7580.png', 'Normal-7581.png', 'Normal-7582.png', 'Normal-7583.png', 'Normal-7584.png', 'Normal-7585.png', 'Normal-7586.png', 'Normal-7587.png', 'Normal-7588.png', 'Normal-7589.png', 'Normal-759.png', 'Normal-7590.png', 'Normal-7591.png', 'Normal-7592.png', 'Normal-7593.png', 'Normal-7594.png', 'Normal-7595.png', 'Normal-7596.png', 'Normal-7597.png', 'Normal-7598.png', 'Normal-7599.png', 'Normal-76.png', 'Normal-760.png', 'Normal-7600.png', 'Normal-7601.png', 'Normal-7602.png', 'Normal-7603.png', 'Normal-7604.png', 'Normal-7605.png', 'Normal-7606.png', 'Normal-7607.png', 'Normal-7608.png', 'Normal-7609.png', 'Normal-761.png', 'Normal-7610.png', 'Normal-7611.png', 'Normal-7612.png', 'Normal-7613.png', 'Normal-7614.png', 'Normal-7615.png', 'Normal-7616.png', 'Normal-7617.png', 'Normal-7618.png', 'Normal-7619.png', 'Normal-762.png', 'Normal-7620.png', 'Normal-7621.png', 'Normal-7622.png', 'Normal-7623.png', 'Normal-7624.png', 'Normal-7625.png', 'Normal-7626.png', 'Normal-7627.png', 'Normal-7628.png', 'Normal-7629.png', 'Normal-763.png', 'Normal-7630.png', 'Normal-7631.png', 'Normal-7632.png', 'Normal-7633.png', 'Normal-7634.png', 'Normal-7635.png', 'Normal-7636.png', 'Normal-7637.png', 'Normal-7638.png', 'Normal-7639.png', 'Normal-764.png', 'Normal-7640.png', 'Normal-7641.png', 'Normal-7642.png', 'Normal-7643.png', 'Normal-7644.png', 'Normal-7645.png', 'Normal-7646.png', 'Normal-7647.png', 'Normal-7648.png', 'Normal-7649.png', 'Normal-765.png', 'Normal-7650.png', 'Normal-7651.png', 'Normal-7652.png', 'Normal-7653.png', 'Normal-7654.png', 'Normal-7655.png', 'Normal-7656.png', 'Normal-7657.png', 'Normal-7658.png', 'Normal-7659.png', 'Normal-766.png', 'Normal-7660.png', 'Normal-7661.png', 'Normal-7662.png', 'Normal-7663.png', 'Normal-7664.png', 'Normal-7665.png', 'Normal-7666.png', 'Normal-7667.png', 'Normal-7668.png', 'Normal-7669.png', 'Normal-767.png', 'Normal-7670.png', 'Normal-7671.png', 'Normal-7672.png', 'Normal-7673.png', 'Normal-7674.png', 'Normal-7675.png', 'Normal-7676.png', 'Normal-7677.png', 'Normal-7678.png', 'Normal-7679.png', 'Normal-768.png', 'Normal-7680.png', 'Normal-7681.png', 'Normal-7682.png', 'Normal-7683.png', 'Normal-7684.png', 'Normal-7685.png', 'Normal-7686.png', 'Normal-7687.png', 'Normal-7688.png', 'Normal-7689.png', 'Normal-769.png', 'Normal-7690.png', 'Normal-7691.png', 'Normal-7692.png', 'Normal-7693.png', 'Normal-7694.png', 'Normal-7695.png', 'Normal-7696.png', 'Normal-7697.png', 'Normal-7698.png', 'Normal-7699.png', 'Normal-77.png', 'Normal-770.png', 'Normal-7700.png', 'Normal-7701.png', 'Normal-7702.png', 'Normal-7703.png', 'Normal-7704.png', 'Normal-7705.png', 'Normal-7706.png', 'Normal-7707.png', 'Normal-7708.png', 'Normal-7709.png', 'Normal-771.png', 'Normal-7710.png', 'Normal-7711.png', 'Normal-7712.png', 'Normal-7713.png', 'Normal-7714.png', 'Normal-7715.png', 'Normal-7716.png', 'Normal-7717.png', 'Normal-7718.png', 'Normal-7719.png', 'Normal-772.png', 'Normal-7720.png', 'Normal-7721.png', 'Normal-7722.png', 'Normal-7723.png', 'Normal-7724.png', 'Normal-7725.png', 'Normal-7726.png', 'Normal-7727.png', 'Normal-7728.png', 'Normal-7729.png', 'Normal-773.png', 'Normal-7730.png', 'Normal-7731.png', 'Normal-7732.png', 'Normal-7733.png', 'Normal-7734.png', 'Normal-7735.png', 'Normal-7736.png', 'Normal-7737.png', 'Normal-7738.png', 'Normal-7739.png', 'Normal-774.png', 'Normal-7740.png', 'Normal-7741.png', 'Normal-7742.png', 'Normal-7743.png', 'Normal-7744.png', 'Normal-7745.png', 'Normal-7746.png', 'Normal-7747.png', 'Normal-7748.png', 'Normal-7749.png', 'Normal-775.png', 'Normal-7750.png', 'Normal-7751.png', 'Normal-7752.png', 'Normal-7753.png', 'Normal-7754.png', 'Normal-7755.png', 'Normal-7756.png', 'Normal-7757.png', 'Normal-7758.png', 'Normal-7759.png', 'Normal-776.png', 'Normal-7760.png', 'Normal-7761.png', 'Normal-7762.png', 'Normal-7763.png', 'Normal-7764.png', 'Normal-7765.png', 'Normal-7766.png', 'Normal-7767.png', 'Normal-7768.png', 'Normal-7769.png', 'Normal-777.png', 'Normal-7770.png', 'Normal-7771.png', 'Normal-7772.png', 'Normal-7773.png', 'Normal-7774.png', 'Normal-7775.png', 'Normal-7776.png', 'Normal-7777.png', 'Normal-7778.png', 'Normal-7779.png', 'Normal-778.png', 'Normal-7780.png', 'Normal-7781.png', 'Normal-7782.png', 'Normal-7783.png', 'Normal-7784.png', 'Normal-7785.png', 'Normal-7786.png', 'Normal-7787.png', 'Normal-7788.png', 'Normal-7789.png', 'Normal-779.png', 'Normal-7790.png', 'Normal-7791.png', 'Normal-7792.png', 'Normal-7793.png', 'Normal-7794.png', 'Normal-7795.png', 'Normal-7796.png', 'Normal-7797.png', 'Normal-7798.png', 'Normal-7799.png', 'Normal-78.png', 'Normal-780.png', 'Normal-7800.png', 'Normal-7801.png', 'Normal-7802.png', 'Normal-7803.png', 'Normal-7804.png', 'Normal-7805.png', 'Normal-7806.png', 'Normal-7807.png', 'Normal-7808.png', 'Normal-7809.png', 'Normal-781.png', 'Normal-7810.png', 'Normal-7811.png', 'Normal-7812.png', 'Normal-7813.png', 'Normal-7814.png', 'Normal-7815.png', 'Normal-7816.png', 'Normal-7817.png', 'Normal-7818.png', 'Normal-7819.png', 'Normal-782.png', 'Normal-7820.png', 'Normal-7821.png', 'Normal-7822.png', 'Normal-7823.png', 'Normal-7824.png', 'Normal-7825.png', 'Normal-7826.png', 'Normal-7827.png', 'Normal-7828.png', 'Normal-7829.png', 'Normal-783.png', 'Normal-7830.png', 'Normal-7831.png', 'Normal-7832.png', 'Normal-7833.png', 'Normal-7834.png', 'Normal-7835.png', 'Normal-7836.png', 'Normal-7837.png', 'Normal-7838.png', 'Normal-7839.png', 'Normal-784.png', 'Normal-7840.png', 'Normal-7841.png', 'Normal-7842.png', 'Normal-7843.png', 'Normal-7844.png', 'Normal-7845.png', 'Normal-7846.png', 'Normal-7847.png', 'Normal-7848.png', 'Normal-7849.png', 'Normal-785.png', 'Normal-7850.png', 'Normal-7851.png', 'Normal-7852.png', 'Normal-7853.png', 'Normal-7854.png', 'Normal-7855.png', 'Normal-7856.png', 'Normal-7857.png', 'Normal-7858.png', 'Normal-7859.png', 'Normal-786.png', 'Normal-7860.png', 'Normal-7861.png', 'Normal-7862.png', 'Normal-7863.png', 'Normal-7864.png', 'Normal-7865.png', 'Normal-7866.png', 'Normal-7867.png', 'Normal-7868.png', 'Normal-7869.png', 'Normal-787.png', 'Normal-7870.png', 'Normal-7871.png', 'Normal-7872.png', 'Normal-7873.png', 'Normal-7874.png', 'Normal-7875.png', 'Normal-7876.png', 'Normal-7877.png', 'Normal-7878.png', 'Normal-7879.png', 'Normal-788.png', 'Normal-7880.png', 'Normal-7881.png', 'Normal-7882.png', 'Normal-7883.png', 'Normal-7884.png', 'Normal-7885.png', 'Normal-7886.png', 'Normal-7887.png', 'Normal-7888.png', 'Normal-7889.png', 'Normal-789.png', 'Normal-7890.png', 'Normal-7891.png', 'Normal-7892.png', 'Normal-7893.png', 'Normal-7894.png', 'Normal-7895.png', 'Normal-7896.png', 'Normal-7897.png', 'Normal-7898.png', 'Normal-7899.png', 'Normal-79.png', 'Normal-790.png', 'Normal-7900.png', 'Normal-7901.png', 'Normal-7902.png', 'Normal-7903.png', 'Normal-7904.png', 'Normal-7905.png', 'Normal-7906.png', 'Normal-7907.png', 'Normal-7908.png', 'Normal-7909.png', 'Normal-791.png', 'Normal-7910.png', 'Normal-7911.png', 'Normal-7912.png', 'Normal-7913.png', 'Normal-7914.png', 'Normal-7915.png', 'Normal-7916.png', 'Normal-7917.png', 'Normal-7918.png', 'Normal-7919.png', 'Normal-792.png', 'Normal-7920.png', 'Normal-7921.png', 'Normal-7922.png', 'Normal-7923.png', 'Normal-7924.png', 'Normal-7925.png', 'Normal-7926.png', 'Normal-7927.png', 'Normal-7928.png', 'Normal-7929.png', 'Normal-793.png', 'Normal-7930.png', 'Normal-7931.png', 'Normal-7932.png', 'Normal-7933.png', 'Normal-7934.png', 'Normal-7935.png', 'Normal-7936.png', 'Normal-7937.png', 'Normal-7938.png', 'Normal-7939.png', 'Normal-794.png', 'Normal-7940.png', 'Normal-7941.png', 'Normal-7942.png', 'Normal-7943.png', 'Normal-7944.png', 'Normal-7945.png', 'Normal-7946.png', 'Normal-7947.png', 'Normal-7948.png', 'Normal-7949.png', 'Normal-795.png', 'Normal-7950.png', 'Normal-7951.png', 'Normal-7952.png', 'Normal-7953.png', 'Normal-7954.png', 'Normal-7955.png', 'Normal-7956.png', 'Normal-7957.png', 'Normal-7958.png', 'Normal-7959.png', 'Normal-796.png', 'Normal-7960.png', 'Normal-7961.png', 'Normal-7962.png', 'Normal-7963.png', 'Normal-7964.png', 'Normal-7965.png', 'Normal-7966.png', 'Normal-7967.png', 'Normal-7968.png', 'Normal-7969.png', 'Normal-797.png', 'Normal-7970.png', 'Normal-7971.png', 'Normal-7972.png', 'Normal-7973.png', 'Normal-7974.png', 'Normal-7975.png', 'Normal-7976.png', 'Normal-7977.png', 'Normal-7978.png', 'Normal-7979.png', 'Normal-798.png', 'Normal-7980.png', 'Normal-7981.png', 'Normal-7982.png', 'Normal-7983.png', 'Normal-7984.png', 'Normal-7985.png', 'Normal-7986.png', 'Normal-7987.png', 'Normal-7988.png', 'Normal-7989.png', 'Normal-799.png', 'Normal-7990.png', 'Normal-7991.png', 'Normal-7992.png', 'Normal-7993.png', 'Normal-7994.png', 'Normal-7995.png', 'Normal-7996.png', 'Normal-7997.png', 'Normal-7998.png', 'Normal-7999.png', 'Normal-8.png', 'Normal-80.png', 'Normal-800.png', 'Normal-8000.png', 'Normal-8001.png', 'Normal-8002.png', 'Normal-8003.png', 'Normal-8004.png', 'Normal-8005.png', 'Normal-8006.png', 'Normal-8007.png', 'Normal-8008.png', 'Normal-8009.png', 'Normal-801.png', 'Normal-8010.png', 'Normal-8011.png', 'Normal-8012.png', 'Normal-8013.png', 'Normal-8014.png', 'Normal-8015.png', 'Normal-8016.png', 'Normal-8017.png', 'Normal-8018.png', 'Normal-8019.png', 'Normal-802.png', 'Normal-8020.png', 'Normal-8021.png', 'Normal-8022.png', 'Normal-8023.png', 'Normal-8024.png', 'Normal-8025.png', 'Normal-8026.png', 'Normal-8027.png', 'Normal-8028.png', 'Normal-8029.png', 'Normal-803.png', 'Normal-8030.png', 'Normal-8031.png', 'Normal-8032.png', 'Normal-8033.png', 'Normal-8034.png', 'Normal-8035.png', 'Normal-8036.png', 'Normal-8037.png', 'Normal-8038.png', 'Normal-8039.png', 'Normal-804.png', 'Normal-8040.png', 'Normal-8041.png', 'Normal-8042.png', 'Normal-8043.png', 'Normal-8044.png', 'Normal-8045.png', 'Normal-8046.png', 'Normal-8047.png', 'Normal-8048.png', 'Normal-8049.png', 'Normal-805.png', 'Normal-8050.png', 'Normal-8051.png', 'Normal-8052.png', 'Normal-8053.png', 'Normal-8054.png', 'Normal-8055.png', 'Normal-8056.png', 'Normal-8057.png', 'Normal-8058.png', 'Normal-8059.png', 'Normal-806.png', 'Normal-8060.png', 'Normal-8061.png', 'Normal-8062.png', 'Normal-8063.png', 'Normal-8064.png', 'Normal-8065.png', 'Normal-8066.png', 'Normal-8067.png', 'Normal-8068.png', 'Normal-8069.png', 'Normal-807.png', 'Normal-8070.png', 'Normal-8071.png', 'Normal-8072.png', 'Normal-8073.png', 'Normal-8074.png', 'Normal-8075.png', 'Normal-8076.png', 'Normal-8077.png', 'Normal-8078.png', 'Normal-8079.png', 'Normal-808.png', 'Normal-8080.png', 'Normal-8081.png', 'Normal-8082.png', 'Normal-8083.png', 'Normal-8084.png', 'Normal-8085.png', 'Normal-8086.png', 'Normal-8087.png', 'Normal-8088.png', 'Normal-8089.png', 'Normal-809.png', 'Normal-8090.png', 'Normal-8091.png', 'Normal-8092.png', 'Normal-8093.png', 'Normal-8094.png', 'Normal-8095.png', 'Normal-8096.png', 'Normal-8097.png', 'Normal-8098.png', 'Normal-8099.png', 'Normal-81.png', 'Normal-810.png', 'Normal-8100.png', 'Normal-8101.png', 'Normal-8102.png', 'Normal-8103.png', 'Normal-8104.png', 'Normal-8105.png', 'Normal-8106.png', 'Normal-8107.png', 'Normal-8108.png', 'Normal-8109.png', 'Normal-811.png', 'Normal-8110.png', 'Normal-8111.png', 'Normal-8112.png', 'Normal-8113.png', 'Normal-8114.png', 'Normal-8115.png', 'Normal-8116.png', 'Normal-8117.png', 'Normal-8118.png', 'Normal-8119.png', 'Normal-812.png', 'Normal-8120.png', 'Normal-8121.png', 'Normal-8122.png', 'Normal-8123.png', 'Normal-8124.png', 'Normal-8125.png', 'Normal-8126.png', 'Normal-8127.png', 'Normal-8128.png', 'Normal-8129.png', 'Normal-813.png', 'Normal-8130.png', 'Normal-8131.png', 'Normal-8132.png', 'Normal-8133.png', 'Normal-8134.png', 'Normal-8135.png', 'Normal-8136.png', 'Normal-8137.png', 'Normal-8138.png', 'Normal-8139.png', 'Normal-814.png', 'Normal-8140.png', 'Normal-8141.png', 'Normal-8142.png', 'Normal-8143.png', 'Normal-8144.png', 'Normal-8145.png', 'Normal-8146.png', 'Normal-8147.png', 'Normal-8148.png', 'Normal-8149.png', 'Normal-815.png', 'Normal-8150.png', 'Normal-8151.png', 'Normal-8152.png', 'Normal-8153.png', 'Normal-8154.png', 'Normal-8155.png', 'Normal-8156.png', 'Normal-8157.png', 'Normal-8158.png', 'Normal-8159.png', 'Normal-816.png', 'Normal-8160.png', 'Normal-8161.png', 'Normal-8162.png', 'Normal-8163.png', 'Normal-8164.png', 'Normal-8165.png', 'Normal-8166.png', 'Normal-8167.png', 'Normal-8168.png', 'Normal-8169.png', 'Normal-817.png', 'Normal-8170.png', 'Normal-8171.png', 'Normal-8172.png', 'Normal-8173.png', 'Normal-8174.png', 'Normal-8175.png', 'Normal-8176.png', 'Normal-8177.png', 'Normal-8178.png', 'Normal-8179.png', 'Normal-818.png', 'Normal-8180.png', 'Normal-8181.png', 'Normal-8182.png', 'Normal-8183.png', 'Normal-8184.png', 'Normal-8185.png', 'Normal-8186.png', 'Normal-8187.png', 'Normal-8188.png', 'Normal-8189.png', 'Normal-819.png', 'Normal-8190.png', 'Normal-8191.png', 'Normal-8192.png', 'Normal-8193.png', 'Normal-8194.png', 'Normal-8195.png', 'Normal-8196.png', 'Normal-8197.png', 'Normal-8198.png', 'Normal-8199.png', 'Normal-82.png', 'Normal-820.png', 'Normal-8200.png', 'Normal-8201.png', 'Normal-8202.png', 'Normal-8203.png', 'Normal-8204.png', 'Normal-8205.png', 'Normal-8206.png', 'Normal-8207.png', 'Normal-8208.png', 'Normal-8209.png', 'Normal-821.png', 'Normal-8210.png', 'Normal-8211.png', 'Normal-8212.png', 'Normal-8213.png', 'Normal-8214.png', 'Normal-8215.png', 'Normal-8216.png', 'Normal-8217.png', 'Normal-8218.png', 'Normal-8219.png', 'Normal-822.png', 'Normal-8220.png', 'Normal-8221.png', 'Normal-8222.png', 'Normal-8223.png', 'Normal-8224.png', 'Normal-8225.png', 'Normal-8226.png', 'Normal-8227.png', 'Normal-8228.png', 'Normal-8229.png', 'Normal-823.png', 'Normal-8230.png', 'Normal-8231.png', 'Normal-8232.png', 'Normal-8233.png', 'Normal-8234.png', 'Normal-8235.png', 'Normal-8236.png', 'Normal-8237.png', 'Normal-8238.png', 'Normal-8239.png', 'Normal-824.png', 'Normal-8240.png', 'Normal-8241.png', 'Normal-8242.png', 'Normal-8243.png', 'Normal-8244.png', 'Normal-8245.png', 'Normal-8246.png', 'Normal-8247.png', 'Normal-8248.png', 'Normal-8249.png', 'Normal-825.png', 'Normal-8250.png', 'Normal-8251.png', 'Normal-8252.png', 'Normal-8253.png', 'Normal-8254.png', 'Normal-8255.png', 'Normal-8256.png', 'Normal-8257.png', 'Normal-8258.png', 'Normal-8259.png', 'Normal-826.png', 'Normal-8260.png', 'Normal-8261.png', 'Normal-8262.png', 'Normal-8263.png', 'Normal-8264.png', 'Normal-8265.png', 'Normal-8266.png', 'Normal-8267.png', 'Normal-8268.png', 'Normal-8269.png', 'Normal-827.png', 'Normal-8270.png', 'Normal-8271.png', 'Normal-8272.png', 'Normal-8273.png', 'Normal-8274.png', 'Normal-8275.png', 'Normal-8276.png', 'Normal-8277.png', 'Normal-8278.png', 'Normal-8279.png', 'Normal-828.png', 'Normal-8280.png', 'Normal-8281.png', 'Normal-8282.png', 'Normal-8283.png', 'Normal-8284.png', 'Normal-8285.png', 'Normal-8286.png', 'Normal-8287.png', 'Normal-8288.png', 'Normal-8289.png', 'Normal-829.png', 'Normal-8290.png', 'Normal-8291.png', 'Normal-8292.png', 'Normal-8293.png', 'Normal-8294.png', 'Normal-8295.png', 'Normal-8296.png', 'Normal-8297.png', 'Normal-8298.png', 'Normal-8299.png', 'Normal-83.png', 'Normal-830.png', 'Normal-8300.png', 'Normal-8301.png', 'Normal-8302.png', 'Normal-8303.png', 'Normal-8304.png', 'Normal-8305.png', 'Normal-8306.png', 'Normal-8307.png', 'Normal-8308.png', 'Normal-8309.png', 'Normal-831.png', 'Normal-8310.png', 'Normal-8311.png', 'Normal-8312.png', 'Normal-8313.png', 'Normal-8314.png', 'Normal-8315.png', 'Normal-8316.png', 'Normal-8317.png', 'Normal-8318.png', 'Normal-8319.png', 'Normal-832.png', 'Normal-8320.png', 'Normal-8321.png', 'Normal-8322.png', 'Normal-8323.png', 'Normal-8324.png', 'Normal-8325.png', 'Normal-8326.png', 'Normal-8327.png', 'Normal-8328.png', 'Normal-8329.png', 'Normal-833.png', 'Normal-8330.png', 'Normal-8331.png', 'Normal-8332.png', 'Normal-8333.png', 'Normal-8334.png', 'Normal-8335.png', 'Normal-8336.png', 'Normal-8337.png', 'Normal-8338.png', 'Normal-8339.png', 'Normal-834.png', 'Normal-8340.png', 'Normal-8341.png', 'Normal-8342.png', 'Normal-8343.png', 'Normal-8344.png', 'Normal-8345.png', 'Normal-8346.png', 'Normal-8347.png', 'Normal-8348.png', 'Normal-8349.png', 'Normal-835.png', 'Normal-8350.png', 'Normal-8351.png', 'Normal-8352.png', 'Normal-8353.png', 'Normal-8354.png', 'Normal-8355.png', 'Normal-8356.png', 'Normal-8357.png', 'Normal-8358.png', 'Normal-8359.png', 'Normal-836.png', 'Normal-8360.png', 'Normal-8361.png', 'Normal-8362.png', 'Normal-8363.png', 'Normal-8364.png', 'Normal-8365.png', 'Normal-8366.png', 'Normal-8367.png', 'Normal-8368.png', 'Normal-8369.png', 'Normal-837.png', 'Normal-8370.png', 'Normal-8371.png', 'Normal-8372.png', 'Normal-8373.png', 'Normal-8374.png', 'Normal-8375.png', 'Normal-8376.png', 'Normal-8377.png', 'Normal-8378.png', 'Normal-8379.png', 'Normal-838.png', 'Normal-8380.png', 'Normal-8381.png', 'Normal-8382.png', 'Normal-8383.png', 'Normal-8384.png', 'Normal-8385.png', 'Normal-8386.png', 'Normal-8387.png', 'Normal-8388.png', 'Normal-8389.png', 'Normal-839.png', 'Normal-8390.png', 'Normal-8391.png', 'Normal-8392.png', 'Normal-8393.png', 'Normal-8394.png', 'Normal-8395.png', 'Normal-8396.png', 'Normal-8397.png', 'Normal-8398.png', 'Normal-8399.png', 'Normal-84.png', 'Normal-840.png', 'Normal-8400.png', 'Normal-8401.png', 'Normal-8402.png', 'Normal-8403.png', 'Normal-8404.png', 'Normal-8405.png', 'Normal-8406.png', 'Normal-8407.png', 'Normal-8408.png', 'Normal-8409.png', 'Normal-841.png', 'Normal-8410.png', 'Normal-8411.png', 'Normal-8412.png', 'Normal-8413.png', 'Normal-8414.png', 'Normal-8415.png', 'Normal-8416.png', 'Normal-8417.png', 'Normal-8418.png', 'Normal-8419.png', 'Normal-842.png', 'Normal-8420.png', 'Normal-8421.png', 'Normal-8422.png', 'Normal-8423.png', 'Normal-8424.png', 'Normal-8425.png', 'Normal-8426.png', 'Normal-8427.png', 'Normal-8428.png', 'Normal-8429.png', 'Normal-843.png', 'Normal-8430.png', 'Normal-8431.png', 'Normal-8432.png', 'Normal-8433.png', 'Normal-8434.png', 'Normal-8435.png', 'Normal-8436.png', 'Normal-8437.png', 'Normal-8438.png', 'Normal-8439.png', 'Normal-844.png', 'Normal-8440.png', 'Normal-8441.png', 'Normal-8442.png', 'Normal-8443.png', 'Normal-8444.png', 'Normal-8445.png', 'Normal-8446.png', 'Normal-8447.png', 'Normal-8448.png', 'Normal-8449.png', 'Normal-845.png', 'Normal-8450.png', 'Normal-8451.png', 'Normal-8452.png', 'Normal-8453.png', 'Normal-8454.png', 'Normal-8455.png', 'Normal-8456.png', 'Normal-8457.png', 'Normal-8458.png', 'Normal-8459.png', 'Normal-846.png', 'Normal-8460.png', 'Normal-8461.png', 'Normal-8462.png', 'Normal-8463.png', 'Normal-8464.png', 'Normal-8465.png', 'Normal-8466.png', 'Normal-8467.png', 'Normal-8468.png', 'Normal-8469.png', 'Normal-847.png', 'Normal-8470.png', 'Normal-8471.png', 'Normal-8472.png', 'Normal-8473.png', 'Normal-8474.png', 'Normal-8475.png', 'Normal-8476.png', 'Normal-8477.png', 'Normal-8478.png', 'Normal-8479.png', 'Normal-848.png', 'Normal-8480.png', 'Normal-8481.png', 'Normal-8482.png', 'Normal-8483.png', 'Normal-8484.png', 'Normal-8485.png', 'Normal-8486.png', 'Normal-8487.png', 'Normal-8488.png', 'Normal-8489.png', 'Normal-849.png', 'Normal-8490.png', 'Normal-8491.png', 'Normal-8492.png', 'Normal-8493.png', 'Normal-8494.png', 'Normal-8495.png', 'Normal-8496.png', 'Normal-8497.png', 'Normal-8498.png', 'Normal-8499.png', 'Normal-85.png', 'Normal-850.png', 'Normal-8500.png', 'Normal-8501.png', 'Normal-8502.png', 'Normal-8503.png', 'Normal-8504.png', 'Normal-8505.png', 'Normal-8506.png', 'Normal-8507.png', 'Normal-8508.png', 'Normal-8509.png', 'Normal-851.png', 'Normal-8510.png', 'Normal-8511.png', 'Normal-8512.png', 'Normal-8513.png', 'Normal-8514.png', 'Normal-8515.png', 'Normal-8516.png', 'Normal-8517.png', 'Normal-8518.png', 'Normal-8519.png', 'Normal-852.png', 'Normal-8520.png', 'Normal-8521.png', 'Normal-8522.png', 'Normal-8523.png', 'Normal-8524.png', 'Normal-8525.png', 'Normal-8526.png', 'Normal-8527.png', 'Normal-8528.png', 'Normal-8529.png', 'Normal-853.png', 'Normal-8530.png', 'Normal-8531.png', 'Normal-8532.png', 'Normal-8533.png', 'Normal-8534.png', 'Normal-8535.png', 'Normal-8536.png', 'Normal-8537.png', 'Normal-8538.png', 'Normal-8539.png', 'Normal-854.png', 'Normal-8540.png', 'Normal-8541.png', 'Normal-8542.png', 'Normal-8543.png', 'Normal-8544.png', 'Normal-8545.png', 'Normal-8546.png', 'Normal-8547.png', 'Normal-8548.png', 'Normal-8549.png', 'Normal-855.png', 'Normal-8550.png', 'Normal-8551.png', 'Normal-8552.png', 'Normal-8553.png', 'Normal-8554.png', 'Normal-8555.png', 'Normal-8556.png', 'Normal-8557.png', 'Normal-8558.png', 'Normal-8559.png', 'Normal-856.png', 'Normal-8560.png', 'Normal-8561.png', 'Normal-8562.png', 'Normal-8563.png', 'Normal-8564.png', 'Normal-8565.png', 'Normal-8566.png', 'Normal-8567.png', 'Normal-8568.png', 'Normal-8569.png', 'Normal-857.png', 'Normal-8570.png', 'Normal-8571.png', 'Normal-8572.png', 'Normal-8573.png', 'Normal-8574.png', 'Normal-8575.png', 'Normal-8576.png', 'Normal-8577.png', 'Normal-8578.png', 'Normal-8579.png', 'Normal-858.png', 'Normal-8580.png', 'Normal-8581.png', 'Normal-8582.png', 'Normal-8583.png', 'Normal-8584.png', 'Normal-8585.png', 'Normal-8586.png', 'Normal-8587.png', 'Normal-8588.png', 'Normal-8589.png', 'Normal-859.png', 'Normal-8590.png', 'Normal-8591.png', 'Normal-8592.png', 'Normal-8593.png', 'Normal-8594.png', 'Normal-8595.png', 'Normal-8596.png', 'Normal-8597.png', 'Normal-8598.png', 'Normal-8599.png', 'Normal-86.png', 'Normal-860.png', 'Normal-8600.png', 'Normal-8601.png', 'Normal-8602.png', 'Normal-8603.png', 'Normal-8604.png', 'Normal-8605.png', 'Normal-8606.png', 'Normal-8607.png', 'Normal-8608.png', 'Normal-8609.png', 'Normal-861.png', 'Normal-8610.png', 'Normal-8611.png', 'Normal-8612.png', 'Normal-8613.png', 'Normal-8614.png', 'Normal-8615.png', 'Normal-8616.png', 'Normal-8617.png', 'Normal-8618.png', 'Normal-8619.png', 'Normal-862.png', 'Normal-8620.png', 'Normal-8621.png', 'Normal-8622.png', 'Normal-8623.png', 'Normal-8624.png', 'Normal-8625.png', 'Normal-8626.png', 'Normal-8627.png', 'Normal-8628.png', 'Normal-8629.png', 'Normal-863.png', 'Normal-8630.png', 'Normal-8631.png', 'Normal-8632.png', 'Normal-8633.png', 'Normal-8634.png', 'Normal-8635.png', 'Normal-8636.png', 'Normal-8637.png', 'Normal-8638.png', 'Normal-8639.png', 'Normal-864.png', 'Normal-8640.png', 'Normal-8641.png', 'Normal-8642.png', 'Normal-8643.png', 'Normal-8644.png', 'Normal-8645.png', 'Normal-8646.png', 'Normal-8647.png', 'Normal-8648.png', 'Normal-8649.png', 'Normal-865.png', 'Normal-8650.png', 'Normal-8651.png', 'Normal-8652.png', 'Normal-8653.png', 'Normal-8654.png', 'Normal-8655.png', 'Normal-8656.png', 'Normal-8657.png', 'Normal-8658.png', 'Normal-8659.png', 'Normal-866.png', 'Normal-8660.png', 'Normal-8661.png', 'Normal-8662.png', 'Normal-8663.png', 'Normal-8664.png', 'Normal-8665.png', 'Normal-8666.png', 'Normal-8667.png', 'Normal-8668.png', 'Normal-8669.png', 'Normal-867.png', 'Normal-8670.png', 'Normal-8671.png', 'Normal-8672.png', 'Normal-8673.png', 'Normal-8674.png', 'Normal-8675.png', 'Normal-8676.png', 'Normal-8677.png', 'Normal-8678.png', 'Normal-8679.png', 'Normal-868.png', 'Normal-8680.png', 'Normal-8681.png', 'Normal-8682.png', 'Normal-8683.png', 'Normal-8684.png', 'Normal-8685.png', 'Normal-8686.png', 'Normal-8687.png', 'Normal-8688.png', 'Normal-8689.png', 'Normal-869.png', 'Normal-8690.png', 'Normal-8691.png', 'Normal-8692.png', 'Normal-8693.png', 'Normal-8694.png', 'Normal-8695.png', 'Normal-8696.png', 'Normal-8697.png', 'Normal-8698.png', 'Normal-8699.png', 'Normal-87.png', 'Normal-870.png', 'Normal-8700.png', 'Normal-8701.png', 'Normal-8702.png', 'Normal-8703.png', 'Normal-8704.png', 'Normal-8705.png', 'Normal-8706.png', 'Normal-8707.png', 'Normal-8708.png', 'Normal-8709.png', 'Normal-871.png', 'Normal-8710.png', 'Normal-8711.png', 'Normal-8712.png', 'Normal-8713.png', 'Normal-8714.png', 'Normal-8715.png', 'Normal-8716.png', 'Normal-8717.png', 'Normal-8718.png', 'Normal-8719.png', 'Normal-872.png', 'Normal-8720.png', 'Normal-8721.png', 'Normal-8722.png', 'Normal-8723.png', 'Normal-8724.png', 'Normal-8725.png', 'Normal-8726.png', 'Normal-8727.png', 'Normal-8728.png', 'Normal-8729.png', 'Normal-873.png', 'Normal-8730.png', 'Normal-8731.png', 'Normal-8732.png', 'Normal-8733.png', 'Normal-8734.png', 'Normal-8735.png', 'Normal-8736.png', 'Normal-8737.png', 'Normal-8738.png', 'Normal-8739.png', 'Normal-874.png', 'Normal-8740.png', 'Normal-8741.png', 'Normal-8742.png', 'Normal-8743.png', 'Normal-8744.png', 'Normal-8745.png', 'Normal-8746.png', 'Normal-8747.png', 'Normal-8748.png', 'Normal-8749.png', 'Normal-875.png', 'Normal-8750.png', 'Normal-8751.png', 'Normal-8752.png', 'Normal-8753.png', 'Normal-8754.png', 'Normal-8755.png', 'Normal-8756.png', 'Normal-8757.png', 'Normal-8758.png', 'Normal-8759.png', 'Normal-876.png', 'Normal-8760.png', 'Normal-8761.png', 'Normal-8762.png', 'Normal-8763.png', 'Normal-8764.png', 'Normal-8765.png', 'Normal-8766.png', 'Normal-8767.png', 'Normal-8768.png', 'Normal-8769.png', 'Normal-877.png', 'Normal-8770.png', 'Normal-8771.png', 'Normal-8772.png', 'Normal-8773.png', 'Normal-8774.png', 'Normal-8775.png', 'Normal-8776.png', 'Normal-8777.png', 'Normal-8778.png', 'Normal-8779.png', 'Normal-878.png', 'Normal-8780.png', 'Normal-8781.png', 'Normal-8782.png', 'Normal-8783.png', 'Normal-8784.png', 'Normal-8785.png', 'Normal-8786.png', 'Normal-8787.png', 'Normal-8788.png', 'Normal-8789.png', 'Normal-879.png', 'Normal-8790.png', 'Normal-8791.png', 'Normal-8792.png', 'Normal-8793.png', 'Normal-8794.png', 'Normal-8795.png', 'Normal-8796.png', 'Normal-8797.png', 'Normal-8798.png', 'Normal-8799.png', 'Normal-88.png', 'Normal-880.png', 'Normal-8800.png', 'Normal-8801.png', 'Normal-8802.png', 'Normal-8803.png', 'Normal-8804.png', 'Normal-8805.png', 'Normal-8806.png', 'Normal-8807.png', 'Normal-8808.png', 'Normal-8809.png', 'Normal-881.png', 'Normal-8810.png', 'Normal-8811.png', 'Normal-8812.png', 'Normal-8813.png', 'Normal-8814.png', 'Normal-8815.png', 'Normal-8816.png', 'Normal-8817.png', 'Normal-8818.png', 'Normal-8819.png', 'Normal-882.png', 'Normal-8820.png', 'Normal-8821.png', 'Normal-8822.png', 'Normal-8823.png', 'Normal-8824.png', 'Normal-8825.png', 'Normal-8826.png', 'Normal-8827.png', 'Normal-8828.png', 'Normal-8829.png', 'Normal-883.png', 'Normal-8830.png', 'Normal-8831.png', 'Normal-8832.png', 'Normal-8833.png', 'Normal-8834.png', 'Normal-8835.png', 'Normal-8836.png', 'Normal-8837.png', 'Normal-8838.png', 'Normal-8839.png', 'Normal-884.png', 'Normal-8840.png', 'Normal-8841.png', 'Normal-8842.png', 'Normal-8843.png', 'Normal-8844.png', 'Normal-8845.png', 'Normal-8846.png', 'Normal-8847.png', 'Normal-8848.png', 'Normal-8849.png', 'Normal-885.png', 'Normal-8850.png', 'Normal-8851.png', 'Normal-8852.png', 'Normal-8853.png', 'Normal-8854.png', 'Normal-8855.png', 'Normal-8856.png', 'Normal-8857.png', 'Normal-8858.png', 'Normal-8859.png', 'Normal-886.png', 'Normal-8860.png', 'Normal-8861.png', 'Normal-8862.png', 'Normal-8863.png', 'Normal-8864.png', 'Normal-8865.png', 'Normal-8866.png', 'Normal-8867.png', 'Normal-8868.png', 'Normal-8869.png', 'Normal-887.png', 'Normal-8870.png', 'Normal-8871.png', 'Normal-8872.png', 'Normal-8873.png', 'Normal-8874.png', 'Normal-8875.png', 'Normal-8876.png', 'Normal-8877.png', 'Normal-8878.png', 'Normal-8879.png', 'Normal-888.png', 'Normal-8880.png', 'Normal-8881.png', 'Normal-8882.png', 'Normal-8883.png', 'Normal-8884.png', 'Normal-8885.png', 'Normal-8886.png', 'Normal-8887.png', 'Normal-8888.png', 'Normal-8889.png', 'Normal-889.png', 'Normal-8890.png', 'Normal-8891.png', 'Normal-8892.png', 'Normal-8893.png', 'Normal-8894.png', 'Normal-8895.png', 'Normal-8896.png', 'Normal-8897.png', 'Normal-8898.png', 'Normal-8899.png', 'Normal-89.png', 'Normal-890.png', 'Normal-8900.png', 'Normal-8901.png', 'Normal-8902.png', 'Normal-8903.png', 'Normal-8904.png', 'Normal-8905.png', 'Normal-8906.png', 'Normal-8907.png', 'Normal-8908.png', 'Normal-8909.png', 'Normal-891.png', 'Normal-8910.png', 'Normal-8911.png', 'Normal-8912.png', 'Normal-8913.png', 'Normal-8914.png', 'Normal-8915.png', 'Normal-8916.png', 'Normal-8917.png', 'Normal-8918.png', 'Normal-8919.png', 'Normal-892.png', 'Normal-8920.png', 'Normal-8921.png', 'Normal-8922.png', 'Normal-8923.png', 'Normal-8924.png', 'Normal-8925.png', 'Normal-8926.png', 'Normal-8927.png', 'Normal-8928.png', 'Normal-8929.png', 'Normal-893.png', 'Normal-8930.png', 'Normal-8931.png', 'Normal-8932.png', 'Normal-8933.png', 'Normal-8934.png', 'Normal-8935.png', 'Normal-8936.png', 'Normal-8937.png', 'Normal-8938.png', 'Normal-8939.png', 'Normal-894.png', 'Normal-8940.png', 'Normal-8941.png', 'Normal-8942.png', 'Normal-8943.png', 'Normal-8944.png', 'Normal-8945.png', 'Normal-8946.png', 'Normal-8947.png', 'Normal-8948.png', 'Normal-8949.png', 'Normal-895.png', 'Normal-8950.png', 'Normal-8951.png', 'Normal-8952.png', 'Normal-8953.png', 'Normal-8954.png', 'Normal-8955.png', 'Normal-8956.png', 'Normal-8957.png', 'Normal-8958.png', 'Normal-8959.png', 'Normal-896.png', 'Normal-8960.png', 'Normal-8961.png', 'Normal-8962.png', 'Normal-8963.png', 'Normal-8964.png', 'Normal-8965.png', 'Normal-8966.png', 'Normal-8967.png', 'Normal-8968.png', 'Normal-8969.png', 'Normal-897.png', 'Normal-8970.png', 'Normal-8971.png', 'Normal-8972.png', 'Normal-8973.png', 'Normal-8974.png', 'Normal-8975.png', 'Normal-8976.png', 'Normal-8977.png', 'Normal-8978.png', 'Normal-8979.png', 'Normal-898.png', 'Normal-8980.png', 'Normal-8981.png', 'Normal-8982.png', 'Normal-8983.png', 'Normal-8984.png', 'Normal-8985.png', 'Normal-8986.png', 'Normal-8987.png', 'Normal-8988.png', 'Normal-8989.png', 'Normal-899.png', 'Normal-8990.png', 'Normal-8991.png', 'Normal-8992.png', 'Normal-8993.png', 'Normal-8994.png', 'Normal-8995.png', 'Normal-8996.png', 'Normal-8997.png', 'Normal-8998.png', 'Normal-8999.png', 'Normal-9.png', 'Normal-90.png', 'Normal-900.png', 'Normal-9000.png', 'Normal-9001.png', 'Normal-9002.png', 'Normal-9003.png', 'Normal-9004.png', 'Normal-9005.png', 'Normal-9006.png', 'Normal-9007.png', 'Normal-9008.png', 'Normal-9009.png', 'Normal-901.png', 'Normal-9010.png', 'Normal-9011.png', 'Normal-9012.png', 'Normal-9013.png', 'Normal-9014.png', 'Normal-9015.png', 'Normal-9016.png', 'Normal-9017.png', 'Normal-9018.png', 'Normal-9019.png', 'Normal-902.png', 'Normal-9020.png', 'Normal-9021.png', 'Normal-9022.png', 'Normal-9023.png', 'Normal-9024.png', 'Normal-9025.png', 'Normal-9026.png', 'Normal-9027.png', 'Normal-9028.png', 'Normal-9029.png', 'Normal-903.png', 'Normal-9030.png', 'Normal-9031.png', 'Normal-9032.png', 'Normal-9033.png', 'Normal-9034.png', 'Normal-9035.png', 'Normal-9036.png', 'Normal-9037.png', 'Normal-9038.png', 'Normal-9039.png', 'Normal-904.png', 'Normal-9040.png', 'Normal-9041.png', 'Normal-9042.png', 'Normal-9043.png', 'Normal-9044.png', 'Normal-9045.png', 'Normal-9046.png', 'Normal-9047.png', 'Normal-9048.png', 'Normal-9049.png', 'Normal-905.png', 'Normal-9050.png', 'Normal-9051.png', 'Normal-9052.png', 'Normal-9053.png', 'Normal-9054.png', 'Normal-9055.png', 'Normal-9056.png', 'Normal-9057.png', 'Normal-9058.png', 'Normal-9059.png', 'Normal-906.png', 'Normal-9060.png', 'Normal-9061.png', 'Normal-9062.png', 'Normal-9063.png', 'Normal-9064.png', 'Normal-9065.png', 'Normal-9066.png', 'Normal-9067.png', 'Normal-9068.png', 'Normal-9069.png', 'Normal-907.png', 'Normal-9070.png', 'Normal-9071.png', 'Normal-9072.png', 'Normal-9073.png', 'Normal-9074.png', 'Normal-9075.png', 'Normal-9076.png', 'Normal-9077.png', 'Normal-9078.png', 'Normal-9079.png', 'Normal-908.png', 'Normal-9080.png', 'Normal-9081.png', 'Normal-9082.png', 'Normal-9083.png', 'Normal-9084.png', 'Normal-9085.png', 'Normal-9086.png', 'Normal-9087.png', 'Normal-9088.png', 'Normal-9089.png', 'Normal-909.png', 'Normal-9090.png', 'Normal-9091.png', 'Normal-9092.png', 'Normal-9093.png', 'Normal-9094.png', 'Normal-9095.png', 'Normal-9096.png', 'Normal-9097.png', 'Normal-9098.png', 'Normal-9099.png', 'Normal-91.png', 'Normal-910.png', 'Normal-9100.png', 'Normal-9101.png', 'Normal-9102.png', 'Normal-9103.png', 'Normal-9104.png', 'Normal-9105.png', 'Normal-9106.png', 'Normal-9107.png', 'Normal-9108.png', 'Normal-9109.png', 'Normal-911.png', 'Normal-9110.png', 'Normal-9111.png', 'Normal-9112.png', 'Normal-9113.png', 'Normal-9114.png', 'Normal-9115.png', 'Normal-9116.png', 'Normal-9117.png', 'Normal-9118.png', 'Normal-9119.png', 'Normal-912.png', 'Normal-9120.png', 'Normal-9121.png', 'Normal-9122.png', 'Normal-9123.png', 'Normal-9124.png', 'Normal-9125.png', 'Normal-9126.png', 'Normal-9127.png', 'Normal-9128.png', 'Normal-9129.png', 'Normal-913.png', 'Normal-9130.png', 'Normal-9131.png', 'Normal-9132.png', 'Normal-9133.png', 'Normal-9134.png', 'Normal-9135.png', 'Normal-9136.png', 'Normal-9137.png', 'Normal-9138.png', 'Normal-9139.png', 'Normal-914.png', 'Normal-9140.png', 'Normal-9141.png', 'Normal-9142.png', 'Normal-9143.png', 'Normal-9144.png', 'Normal-9145.png', 'Normal-9146.png', 'Normal-9147.png', 'Normal-9148.png', 'Normal-9149.png', 'Normal-915.png', 'Normal-9150.png', 'Normal-9151.png', 'Normal-9152.png', 'Normal-9153.png', 'Normal-9154.png', 'Normal-9155.png', 'Normal-9156.png', 'Normal-9157.png', 'Normal-9158.png', 'Normal-9159.png', 'Normal-916.png', 'Normal-9160.png', 'Normal-9161.png', 'Normal-9162.png', 'Normal-9163.png', 'Normal-9164.png', 'Normal-9165.png', 'Normal-9166.png', 'Normal-9167.png', 'Normal-9168.png', 'Normal-9169.png', 'Normal-917.png', 'Normal-9170.png', 'Normal-9171.png', 'Normal-9172.png', 'Normal-9173.png', 'Normal-9174.png', 'Normal-9175.png', 'Normal-9176.png', 'Normal-9177.png', 'Normal-9178.png', 'Normal-9179.png', 'Normal-918.png', 'Normal-9180.png', 'Normal-9181.png', 'Normal-9182.png', 'Normal-9183.png', 'Normal-9184.png', 'Normal-9185.png', 'Normal-9186.png', 'Normal-9187.png', 'Normal-9188.png', 'Normal-9189.png', 'Normal-919.png', 'Normal-9190.png', 'Normal-9191.png', 'Normal-9192.png', 'Normal-9193.png', 'Normal-9194.png', 'Normal-9195.png', 'Normal-9196.png', 'Normal-9197.png', 'Normal-9198.png', 'Normal-9199.png', 'Normal-92.png', 'Normal-920.png', 'Normal-9200.png', 'Normal-9201.png', 'Normal-9202.png', 'Normal-9203.png', 'Normal-9204.png', 'Normal-9205.png', 'Normal-9206.png', 'Normal-9207.png', 'Normal-9208.png', 'Normal-9209.png', 'Normal-921.png', 'Normal-9210.png', 'Normal-9211.png', 'Normal-9212.png', 'Normal-9213.png', 'Normal-9214.png', 'Normal-9215.png', 'Normal-9216.png', 'Normal-9217.png', 'Normal-9218.png', 'Normal-9219.png', 'Normal-922.png', 'Normal-9220.png', 'Normal-9221.png', 'Normal-9222.png', 'Normal-9223.png', 'Normal-9224.png', 'Normal-9225.png', 'Normal-9226.png', 'Normal-9227.png', 'Normal-9228.png', 'Normal-9229.png', 'Normal-923.png', 'Normal-9230.png', 'Normal-9231.png', 'Normal-9232.png', 'Normal-9233.png', 'Normal-9234.png', 'Normal-9235.png', 'Normal-9236.png', 'Normal-9237.png', 'Normal-9238.png', 'Normal-9239.png', 'Normal-924.png', 'Normal-9240.png', 'Normal-9241.png', 'Normal-9242.png', 'Normal-9243.png', 'Normal-9244.png', 'Normal-9245.png', 'Normal-9246.png', 'Normal-9247.png', 'Normal-9248.png', 'Normal-9249.png', 'Normal-925.png', 'Normal-9250.png', 'Normal-9251.png', 'Normal-9252.png', 'Normal-9253.png', 'Normal-9254.png', 'Normal-9255.png', 'Normal-9256.png', 'Normal-9257.png', 'Normal-9258.png', 'Normal-9259.png', 'Normal-926.png', 'Normal-9260.png', 'Normal-9261.png', 'Normal-9262.png', 'Normal-9263.png', 'Normal-9264.png', 'Normal-9265.png', 'Normal-9266.png', 'Normal-9267.png', 'Normal-9268.png', 'Normal-9269.png', 'Normal-927.png', 'Normal-9270.png', 'Normal-9271.png', 'Normal-9272.png', 'Normal-9273.png', 'Normal-9274.png', 'Normal-9275.png', 'Normal-9276.png', 'Normal-9277.png', 'Normal-9278.png', 'Normal-9279.png', 'Normal-928.png', 'Normal-9280.png', 'Normal-9281.png', 'Normal-9282.png', 'Normal-9283.png', 'Normal-9284.png', 'Normal-9285.png', 'Normal-9286.png', 'Normal-9287.png', 'Normal-9288.png', 'Normal-9289.png', 'Normal-929.png', 'Normal-9290.png', 'Normal-9291.png', 'Normal-9292.png', 'Normal-9293.png', 'Normal-9294.png', 'Normal-9295.png', 'Normal-9296.png', 'Normal-9297.png', 'Normal-9298.png', 'Normal-9299.png', 'Normal-93.png', 'Normal-930.png', 'Normal-9300.png', 'Normal-9301.png', 'Normal-9302.png', 'Normal-9303.png', 'Normal-9304.png', 'Normal-9305.png', 'Normal-9306.png', 'Normal-9307.png', 'Normal-9308.png', 'Normal-9309.png', 'Normal-931.png', 'Normal-9310.png', 'Normal-9311.png', 'Normal-9312.png', 'Normal-9313.png', 'Normal-9314.png', 'Normal-9315.png', 'Normal-9316.png', 'Normal-9317.png', 'Normal-9318.png', 'Normal-9319.png', 'Normal-932.png', 'Normal-9320.png', 'Normal-9321.png', 'Normal-9322.png', 'Normal-9323.png', 'Normal-9324.png', 'Normal-9325.png', 'Normal-9326.png', 'Normal-9327.png', 'Normal-9328.png', 'Normal-9329.png', 'Normal-933.png', 'Normal-9330.png', 'Normal-9331.png', 'Normal-9332.png', 'Normal-9333.png', 'Normal-9334.png', 'Normal-9335.png', 'Normal-9336.png', 'Normal-9337.png', 'Normal-9338.png', 'Normal-9339.png', 'Normal-934.png', 'Normal-9340.png', 'Normal-9341.png', 'Normal-9342.png', 'Normal-9343.png', 'Normal-9344.png', 'Normal-9345.png', 'Normal-9346.png', 'Normal-9347.png', 'Normal-9348.png', 'Normal-9349.png', 'Normal-935.png', 'Normal-9350.png', 'Normal-9351.png', 'Normal-9352.png', 'Normal-9353.png', 'Normal-9354.png', 'Normal-9355.png', 'Normal-9356.png', 'Normal-9357.png', 'Normal-9358.png', 'Normal-9359.png', 'Normal-936.png', 'Normal-9360.png', 'Normal-9361.png', 'Normal-9362.png', 'Normal-9363.png', 'Normal-9364.png', 'Normal-9365.png', 'Normal-9366.png', 'Normal-9367.png', 'Normal-9368.png', 'Normal-9369.png', 'Normal-937.png', 'Normal-9370.png', 'Normal-9371.png', 'Normal-9372.png', 'Normal-9373.png', 'Normal-9374.png', 'Normal-9375.png', 'Normal-9376.png', 'Normal-9377.png', 'Normal-9378.png', 'Normal-9379.png', 'Normal-938.png', 'Normal-9380.png', 'Normal-9381.png', 'Normal-9382.png', 'Normal-9383.png', 'Normal-9384.png', 'Normal-9385.png', 'Normal-9386.png', 'Normal-9387.png', 'Normal-9388.png', 'Normal-9389.png', 'Normal-939.png', 'Normal-9390.png', 'Normal-9391.png', 'Normal-9392.png', 'Normal-9393.png', 'Normal-9394.png', 'Normal-9395.png', 'Normal-9396.png', 'Normal-9397.png', 'Normal-9398.png', 'Normal-9399.png', 'Normal-94.png', 'Normal-940.png', 'Normal-9400.png', 'Normal-9401.png', 'Normal-9402.png', 'Normal-9403.png', 'Normal-9404.png', 'Normal-9405.png', 'Normal-9406.png', 'Normal-9407.png', 'Normal-9408.png', 'Normal-9409.png', 'Normal-941.png', 'Normal-9410.png', 'Normal-9411.png', 'Normal-9412.png', 'Normal-9413.png', 'Normal-9414.png', 'Normal-9415.png', 'Normal-9416.png', 'Normal-9417.png', 'Normal-9418.png', 'Normal-9419.png', 'Normal-942.png', 'Normal-9420.png', 'Normal-9421.png', 'Normal-9422.png', 'Normal-9423.png', 'Normal-9424.png', 'Normal-9425.png', 'Normal-9426.png', 'Normal-9427.png', 'Normal-9428.png', 'Normal-9429.png', 'Normal-943.png', 'Normal-9430.png', 'Normal-9431.png', 'Normal-9432.png', 'Normal-9433.png', 'Normal-9434.png', 'Normal-9435.png', 'Normal-9436.png', 'Normal-9437.png', 'Normal-9438.png', 'Normal-9439.png', 'Normal-944.png', 'Normal-9440.png', 'Normal-9441.png', 'Normal-9442.png', 'Normal-9443.png', 'Normal-9444.png', 'Normal-9445.png', 'Normal-9446.png', 'Normal-9447.png', 'Normal-9448.png', 'Normal-9449.png', 'Normal-945.png', 'Normal-9450.png', 'Normal-9451.png', 'Normal-9452.png', 'Normal-9453.png', 'Normal-9454.png', 'Normal-9455.png', 'Normal-9456.png', 'Normal-9457.png', 'Normal-9458.png', 'Normal-9459.png', 'Normal-946.png', 'Normal-9460.png', 'Normal-9461.png', 'Normal-9462.png', 'Normal-9463.png', 'Normal-9464.png', 'Normal-9465.png', 'Normal-9466.png', 'Normal-9467.png', 'Normal-9468.png', 'Normal-9469.png', 'Normal-947.png', 'Normal-9470.png', 'Normal-9471.png', 'Normal-9472.png', 'Normal-9473.png', 'Normal-9474.png', 'Normal-9475.png', 'Normal-9476.png', 'Normal-9477.png', 'Normal-9478.png', 'Normal-9479.png', 'Normal-948.png', 'Normal-9480.png', 'Normal-9481.png', 'Normal-9482.png', 'Normal-9483.png', 'Normal-9484.png', 'Normal-9485.png', 'Normal-9486.png', 'Normal-9487.png', 'Normal-9488.png', 'Normal-9489.png', 'Normal-949.png', 'Normal-9490.png', 'Normal-9491.png', 'Normal-9492.png', 'Normal-9493.png', 'Normal-9494.png', 'Normal-9495.png', 'Normal-9496.png', 'Normal-9497.png', 'Normal-9498.png', 'Normal-9499.png', 'Normal-95.png', 'Normal-950.png', 'Normal-9500.png', 'Normal-9501.png', 'Normal-9502.png', 'Normal-9503.png', 'Normal-9504.png', 'Normal-9505.png', 'Normal-9506.png', 'Normal-9507.png', 'Normal-9508.png', 'Normal-9509.png', 'Normal-951.png', 'Normal-9510.png', 'Normal-9511.png', 'Normal-9512.png', 'Normal-9513.png', 'Normal-9514.png', 'Normal-9515.png', 'Normal-9516.png', 'Normal-9517.png', 'Normal-9518.png', 'Normal-9519.png', 'Normal-952.png', 'Normal-9520.png', 'Normal-9521.png', 'Normal-9522.png', 'Normal-9523.png', 'Normal-9524.png', 'Normal-9525.png', 'Normal-9526.png', 'Normal-9527.png', 'Normal-9528.png', 'Normal-9529.png', 'Normal-953.png', 'Normal-9530.png', 'Normal-9531.png', 'Normal-9532.png', 'Normal-9533.png', 'Normal-9534.png', 'Normal-9535.png', 'Normal-9536.png', 'Normal-9537.png', 'Normal-9538.png', 'Normal-9539.png', 'Normal-954.png', 'Normal-9540.png', 'Normal-9541.png', 'Normal-9542.png', 'Normal-9543.png', 'Normal-9544.png', 'Normal-9545.png', 'Normal-9546.png', 'Normal-9547.png', 'Normal-9548.png', 'Normal-9549.png', 'Normal-955.png', 'Normal-9550.png', 'Normal-9551.png', 'Normal-9552.png', 'Normal-9553.png', 'Normal-9554.png', 'Normal-9555.png', 'Normal-9556.png', 'Normal-9557.png', 'Normal-9558.png', 'Normal-9559.png', 'Normal-956.png', 'Normal-9560.png', 'Normal-9561.png', 'Normal-9562.png', 'Normal-9563.png', 'Normal-9564.png', 'Normal-9565.png', 'Normal-9566.png', 'Normal-9567.png', 'Normal-9568.png', 'Normal-9569.png', 'Normal-957.png', 'Normal-9570.png', 'Normal-9571.png', 'Normal-9572.png', 'Normal-9573.png', 'Normal-9574.png', 'Normal-9575.png', 'Normal-9576.png', 'Normal-9577.png', 'Normal-9578.png', 'Normal-9579.png', 'Normal-958.png', 'Normal-9580.png', 'Normal-9581.png', 'Normal-9582.png', 'Normal-9583.png', 'Normal-9584.png', 'Normal-9585.png', 'Normal-9586.png', 'Normal-9587.png', 'Normal-9588.png', 'Normal-9589.png', 'Normal-959.png', 'Normal-9590.png', 'Normal-9591.png', 'Normal-9592.png', 'Normal-9593.png', 'Normal-9594.png', 'Normal-9595.png', 'Normal-9596.png', 'Normal-9597.png', 'Normal-9598.png', 'Normal-9599.png', 'Normal-96.png', 'Normal-960.png', 'Normal-9600.png', 'Normal-9601.png', 'Normal-9602.png', 'Normal-9603.png', 'Normal-9604.png', 'Normal-9605.png', 'Normal-9606.png', 'Normal-9607.png', 'Normal-9608.png', 'Normal-9609.png', 'Normal-961.png', 'Normal-9610.png', 'Normal-9611.png', 'Normal-9612.png', 'Normal-9613.png', 'Normal-9614.png', 'Normal-9615.png', 'Normal-9616.png', 'Normal-9617.png', 'Normal-9618.png', 'Normal-9619.png', 'Normal-962.png', 'Normal-9620.png', 'Normal-9621.png', 'Normal-9622.png', 'Normal-9623.png', 'Normal-9624.png', 'Normal-9625.png', 'Normal-9626.png', 'Normal-9627.png', 'Normal-9628.png', 'Normal-9629.png', 'Normal-963.png', 'Normal-9630.png', 'Normal-9631.png', 'Normal-9632.png', 'Normal-9633.png', 'Normal-9634.png', 'Normal-9635.png', 'Normal-9636.png', 'Normal-9637.png', 'Normal-9638.png', 'Normal-9639.png', 'Normal-964.png', 'Normal-9640.png', 'Normal-9641.png', 'Normal-9642.png', 'Normal-9643.png', 'Normal-9644.png', 'Normal-9645.png', 'Normal-9646.png', 'Normal-9647.png', 'Normal-9648.png', 'Normal-9649.png', 'Normal-965.png', 'Normal-9650.png', 'Normal-9651.png', 'Normal-9652.png', 'Normal-9653.png', 'Normal-9654.png', 'Normal-9655.png', 'Normal-9656.png', 'Normal-9657.png', 'Normal-9658.png', 'Normal-9659.png', 'Normal-966.png', 'Normal-9660.png', 'Normal-9661.png', 'Normal-9662.png', 'Normal-9663.png', 'Normal-9664.png', 'Normal-9665.png', 'Normal-9666.png', 'Normal-9667.png', 'Normal-9668.png', 'Normal-9669.png', 'Normal-967.png', 'Normal-9670.png', 'Normal-9671.png', 'Normal-9672.png', 'Normal-9673.png', 'Normal-9674.png', 'Normal-9675.png', 'Normal-9676.png', 'Normal-9677.png', 'Normal-9678.png', 'Normal-9679.png', 'Normal-968.png', 'Normal-9680.png', 'Normal-9681.png', 'Normal-9682.png', 'Normal-9683.png', 'Normal-9684.png', 'Normal-9685.png', 'Normal-9686.png', 'Normal-9687.png', 'Normal-9688.png', 'Normal-9689.png', 'Normal-969.png', 'Normal-9690.png', 'Normal-9691.png', 'Normal-9692.png', 'Normal-9693.png', 'Normal-9694.png', 'Normal-9695.png', 'Normal-9696.png', 'Normal-9697.png', 'Normal-9698.png', 'Normal-9699.png', 'Normal-97.png', 'Normal-970.png', 'Normal-9700.png', 'Normal-9701.png', 'Normal-9702.png', 'Normal-9703.png', 'Normal-9704.png', 'Normal-9705.png', 'Normal-9706.png', 'Normal-9707.png', 'Normal-9708.png', 'Normal-9709.png', 'Normal-971.png', 'Normal-9710.png', 'Normal-9711.png', 'Normal-9712.png', 'Normal-9713.png', 'Normal-9714.png', 'Normal-9715.png', 'Normal-9716.png', 'Normal-9717.png', 'Normal-9718.png', 'Normal-9719.png', 'Normal-972.png', 'Normal-9720.png', 'Normal-9721.png', 'Normal-9722.png', 'Normal-9723.png', 'Normal-9724.png', 'Normal-9725.png', 'Normal-9726.png', 'Normal-9727.png', 'Normal-9728.png', 'Normal-9729.png', 'Normal-973.png', 'Normal-9730.png', 'Normal-9731.png', 'Normal-9732.png', 'Normal-9733.png', 'Normal-9734.png', 'Normal-9735.png', 'Normal-9736.png', 'Normal-9737.png', 'Normal-9738.png', 'Normal-9739.png', 'Normal-974.png', 'Normal-9740.png', 'Normal-9741.png', 'Normal-9742.png', 'Normal-9743.png', 'Normal-9744.png', 'Normal-9745.png', 'Normal-9746.png', 'Normal-9747.png', 'Normal-9748.png', 'Normal-9749.png', 'Normal-975.png', 'Normal-9750.png', 'Normal-9751.png', 'Normal-9752.png', 'Normal-9753.png', 'Normal-9754.png', 'Normal-9755.png', 'Normal-9756.png', 'Normal-9757.png', 'Normal-9758.png', 'Normal-9759.png', 'Normal-976.png', 'Normal-9760.png', 'Normal-9761.png', 'Normal-9762.png', 'Normal-9763.png', 'Normal-9764.png', 'Normal-9765.png', 'Normal-9766.png', 'Normal-9767.png', 'Normal-9768.png', 'Normal-9769.png', 'Normal-977.png', 'Normal-9770.png', 'Normal-9771.png', 'Normal-9772.png', 'Normal-9773.png', 'Normal-9774.png', 'Normal-9775.png', 'Normal-9776.png', 'Normal-9777.png', 'Normal-9778.png', 'Normal-9779.png', 'Normal-978.png', 'Normal-9780.png', 'Normal-9781.png', 'Normal-9782.png', 'Normal-9783.png', 'Normal-9784.png', 'Normal-9785.png', 'Normal-9786.png', 'Normal-9787.png', 'Normal-9788.png', 'Normal-9789.png', 'Normal-979.png', 'Normal-9790.png', 'Normal-9791.png', 'Normal-9792.png', 'Normal-9793.png', 'Normal-9794.png', 'Normal-9795.png', 'Normal-9796.png', 'Normal-9797.png', 'Normal-9798.png', 'Normal-9799.png', 'Normal-98.png', 'Normal-980.png', 'Normal-9800.png', 'Normal-9801.png', 'Normal-9802.png', 'Normal-9803.png', 'Normal-9804.png', 'Normal-9805.png', 'Normal-9806.png', 'Normal-9807.png', 'Normal-9808.png', 'Normal-9809.png', 'Normal-981.png', 'Normal-9810.png', 'Normal-9811.png', 'Normal-9812.png', 'Normal-9813.png', 'Normal-9814.png', 'Normal-9815.png', 'Normal-9816.png', 'Normal-9817.png', 'Normal-9818.png', 'Normal-9819.png', 'Normal-982.png', 'Normal-9820.png', 'Normal-9821.png', 'Normal-9822.png', 'Normal-9823.png', 'Normal-9824.png', 'Normal-9825.png', 'Normal-9826.png', 'Normal-9827.png', 'Normal-9828.png', 'Normal-9829.png', 'Normal-983.png', 'Normal-9830.png', 'Normal-9831.png', 'Normal-9832.png', 'Normal-9833.png', 'Normal-9834.png', 'Normal-9835.png', 'Normal-9836.png', 'Normal-9837.png', 'Normal-9838.png', 'Normal-9839.png', 'Normal-984.png', 'Normal-9840.png', 'Normal-9841.png', 'Normal-9842.png', 'Normal-9843.png', 'Normal-9844.png', 'Normal-9845.png', 'Normal-9846.png', 'Normal-9847.png', 'Normal-9848.png', 'Normal-9849.png', 'Normal-985.png', 'Normal-9850.png', 'Normal-9851.png', 'Normal-9852.png', 'Normal-9853.png', 'Normal-9854.png', 'Normal-9855.png', 'Normal-9856.png', 'Normal-9857.png', 'Normal-9858.png', 'Normal-9859.png', 'Normal-986.png', 'Normal-9860.png', 'Normal-9861.png', 'Normal-9862.png', 'Normal-9863.png', 'Normal-9864.png', 'Normal-9865.png', 'Normal-9866.png', 'Normal-9867.png', 'Normal-9868.png', 'Normal-9869.png', 'Normal-987.png', 'Normal-9870.png', 'Normal-9871.png', 'Normal-9872.png', 'Normal-9873.png', 'Normal-9874.png', 'Normal-9875.png', 'Normal-9876.png', 'Normal-9877.png', 'Normal-9878.png', 'Normal-9879.png', 'Normal-988.png', 'Normal-9880.png', 'Normal-9881.png', 'Normal-9882.png', 'Normal-9883.png', 'Normal-9884.png', 'Normal-9885.png', 'Normal-9886.png', 'Normal-9887.png', 'Normal-9888.png', 'Normal-9889.png', 'Normal-989.png', 'Normal-9890.png', 'Normal-9891.png', 'Normal-9892.png', 'Normal-9893.png', 'Normal-9894.png', 'Normal-9895.png', 'Normal-9896.png', 'Normal-9897.png', 'Normal-9898.png', 'Normal-9899.png', 'Normal-99.png', 'Normal-990.png', 'Normal-9900.png', 'Normal-9901.png', 'Normal-9902.png', 'Normal-9903.png', 'Normal-9904.png', 'Normal-9905.png', 'Normal-9906.png', 'Normal-9907.png', 'Normal-9908.png', 'Normal-9909.png', 'Normal-991.png', 'Normal-9910.png', 'Normal-9911.png', 'Normal-9912.png', 'Normal-9913.png', 'Normal-9914.png', 'Normal-9915.png', 'Normal-9916.png', 'Normal-9917.png', 'Normal-9918.png', 'Normal-9919.png', 'Normal-992.png', 'Normal-9920.png', 'Normal-9921.png', 'Normal-9922.png', 'Normal-9923.png', 'Normal-9924.png', 'Normal-9925.png', 'Normal-9926.png', 'Normal-9927.png', 'Normal-9928.png', 'Normal-9929.png', 'Normal-993.png', 'Normal-9930.png', 'Normal-9931.png', 'Normal-9932.png', 'Normal-9933.png', 'Normal-9934.png', 'Normal-9935.png', 'Normal-9936.png', 'Normal-9937.png', 'Normal-9938.png', 'Normal-9939.png', 'Normal-994.png', 'Normal-9940.png', 'Normal-9941.png', 'Normal-9942.png', 'Normal-9943.png', 'Normal-9944.png', 'Normal-9945.png', 'Normal-9946.png', 'Normal-9947.png', 'Normal-9948.png', 'Normal-9949.png', 'Normal-995.png', 'Normal-9950.png', 'Normal-9951.png', 'Normal-9952.png', 'Normal-9953.png', 'Normal-9954.png', 'Normal-9955.png', 'Normal-9956.png', 'Normal-9957.png', 'Normal-9958.png', 'Normal-9959.png', 'Normal-996.png', 'Normal-9960.png', 'Normal-9961.png', 'Normal-9962.png', 'Normal-9963.png', 'Normal-9964.png', 'Normal-9965.png', 'Normal-9966.png', 'Normal-9967.png', 'Normal-9968.png', 'Normal-9969.png', 'Normal-997.png', 'Normal-9970.png', 'Normal-9971.png', 'Normal-9972.png', 'Normal-9973.png', 'Normal-9974.png', 'Normal-9975.png', 'Normal-9976.png', 'Normal-9977.png', 'Normal-9978.png', 'Normal-9979.png', 'Normal-998.png', 'Normal-9980.png', 'Normal-9981.png', 'Normal-9982.png', 'Normal-9983.png', 'Normal-9984.png', 'Normal-9985.png', 'Normal-9986.png', 'Normal-9987.png', 'Normal-9988.png', 'Normal-9989.png', 'Normal-999.png', 'Normal-9990.png', 'Normal-9991.png', 'Normal-9992.png', 'Normal-9993.png', 'Normal-9994.png', 'Normal-9995.png', 'Normal-9996.png', 'Normal-9997.png', 'Normal-9998.png', 'Normal-9999.png']\n"
     ]
    }
   ],
   "source": [
    "for path in os.listdir(normal_main_dir):\n",
    "    # check if current path is a file\n",
    "    if os.path.isfile(os.path.join(normal_main_dir, path)):\n",
    "        normalFileNames.append(path)\n",
    "print(normalFileNames)"
   ]
  },
  {
   "cell_type": "code",
   "execution_count": 43,
   "id": "5c779515",
   "metadata": {},
   "outputs": [],
   "source": [
    "normalFileNames = sorted(normalFileNames, key=lambda x: int(x.split('-')[1].split('.')[0]))"
   ]
  },
  {
   "cell_type": "code",
   "execution_count": 44,
   "id": "dbc7fc5c",
   "metadata": {},
   "outputs": [],
   "source": [
    "normalFileNames4thset = normalFileNames[int(len(normalFileNames)*0.75):]"
   ]
  },
  {
   "cell_type": "code",
   "execution_count": 45,
   "id": "552ed5f6",
   "metadata": {},
   "outputs": [
    {
     "data": {
      "text/plain": [
       "2548"
      ]
     },
     "execution_count": 45,
     "metadata": {},
     "output_type": "execute_result"
    }
   ],
   "source": [
    "len(normalFileNames4thset)"
   ]
  },
  {
   "cell_type": "code",
   "execution_count": 46,
   "id": "3c9e80d7",
   "metadata": {},
   "outputs": [
    {
     "name": "stdout",
     "output_type": "stream",
     "text": [
      "['Normal-7645.png', 'Normal-7646.png', 'Normal-7647.png', 'Normal-7648.png', 'Normal-7649.png', 'Normal-7650.png', 'Normal-7651.png', 'Normal-7652.png', 'Normal-7653.png', 'Normal-7654.png', 'Normal-7655.png', 'Normal-7656.png', 'Normal-7657.png', 'Normal-7658.png', 'Normal-7659.png', 'Normal-7660.png', 'Normal-7661.png', 'Normal-7662.png', 'Normal-7663.png', 'Normal-7664.png', 'Normal-7665.png', 'Normal-7666.png', 'Normal-7667.png', 'Normal-7668.png', 'Normal-7669.png', 'Normal-7670.png', 'Normal-7671.png', 'Normal-7672.png', 'Normal-7673.png', 'Normal-7674.png', 'Normal-7675.png', 'Normal-7676.png', 'Normal-7677.png', 'Normal-7678.png', 'Normal-7679.png', 'Normal-7680.png', 'Normal-7681.png', 'Normal-7682.png', 'Normal-7683.png', 'Normal-7684.png', 'Normal-7685.png', 'Normal-7686.png', 'Normal-7687.png', 'Normal-7688.png', 'Normal-7689.png', 'Normal-7690.png', 'Normal-7691.png', 'Normal-7692.png', 'Normal-7693.png', 'Normal-7694.png', 'Normal-7695.png', 'Normal-7696.png', 'Normal-7697.png', 'Normal-7698.png', 'Normal-7699.png', 'Normal-7700.png', 'Normal-7701.png', 'Normal-7702.png', 'Normal-7703.png', 'Normal-7704.png', 'Normal-7705.png', 'Normal-7706.png', 'Normal-7707.png', 'Normal-7708.png', 'Normal-7709.png', 'Normal-7710.png', 'Normal-7711.png', 'Normal-7712.png', 'Normal-7713.png', 'Normal-7714.png', 'Normal-7715.png', 'Normal-7716.png', 'Normal-7717.png', 'Normal-7718.png', 'Normal-7719.png', 'Normal-7720.png', 'Normal-7721.png', 'Normal-7722.png', 'Normal-7723.png', 'Normal-7724.png', 'Normal-7725.png', 'Normal-7726.png', 'Normal-7727.png', 'Normal-7728.png', 'Normal-7729.png', 'Normal-7730.png', 'Normal-7731.png', 'Normal-7732.png', 'Normal-7733.png', 'Normal-7734.png', 'Normal-7735.png', 'Normal-7736.png', 'Normal-7737.png', 'Normal-7738.png', 'Normal-7739.png', 'Normal-7740.png', 'Normal-7741.png', 'Normal-7742.png', 'Normal-7743.png', 'Normal-7744.png', 'Normal-7745.png', 'Normal-7746.png', 'Normal-7747.png', 'Normal-7748.png', 'Normal-7749.png', 'Normal-7750.png', 'Normal-7751.png', 'Normal-7752.png', 'Normal-7753.png', 'Normal-7754.png', 'Normal-7755.png', 'Normal-7756.png', 'Normal-7757.png', 'Normal-7758.png', 'Normal-7759.png', 'Normal-7760.png', 'Normal-7761.png', 'Normal-7762.png', 'Normal-7763.png', 'Normal-7764.png', 'Normal-7765.png', 'Normal-7766.png', 'Normal-7767.png', 'Normal-7768.png', 'Normal-7769.png', 'Normal-7770.png', 'Normal-7771.png', 'Normal-7772.png', 'Normal-7773.png', 'Normal-7774.png', 'Normal-7775.png', 'Normal-7776.png', 'Normal-7777.png', 'Normal-7778.png', 'Normal-7779.png', 'Normal-7780.png', 'Normal-7781.png', 'Normal-7782.png', 'Normal-7783.png', 'Normal-7784.png', 'Normal-7785.png', 'Normal-7786.png', 'Normal-7787.png', 'Normal-7788.png', 'Normal-7789.png', 'Normal-7790.png', 'Normal-7791.png', 'Normal-7792.png', 'Normal-7793.png', 'Normal-7794.png', 'Normal-7795.png', 'Normal-7796.png', 'Normal-7797.png', 'Normal-7798.png', 'Normal-7799.png', 'Normal-7800.png', 'Normal-7801.png', 'Normal-7802.png', 'Normal-7803.png', 'Normal-7804.png', 'Normal-7805.png', 'Normal-7806.png', 'Normal-7807.png', 'Normal-7808.png', 'Normal-7809.png', 'Normal-7810.png', 'Normal-7811.png', 'Normal-7812.png', 'Normal-7813.png', 'Normal-7814.png', 'Normal-7815.png', 'Normal-7816.png', 'Normal-7817.png', 'Normal-7818.png', 'Normal-7819.png', 'Normal-7820.png', 'Normal-7821.png', 'Normal-7822.png', 'Normal-7823.png', 'Normal-7824.png', 'Normal-7825.png', 'Normal-7826.png', 'Normal-7827.png', 'Normal-7828.png', 'Normal-7829.png', 'Normal-7830.png', 'Normal-7831.png', 'Normal-7832.png', 'Normal-7833.png', 'Normal-7834.png', 'Normal-7835.png', 'Normal-7836.png', 'Normal-7837.png', 'Normal-7838.png', 'Normal-7839.png', 'Normal-7840.png', 'Normal-7841.png', 'Normal-7842.png', 'Normal-7843.png', 'Normal-7844.png', 'Normal-7845.png', 'Normal-7846.png', 'Normal-7847.png', 'Normal-7848.png', 'Normal-7849.png', 'Normal-7850.png', 'Normal-7851.png', 'Normal-7852.png', 'Normal-7853.png', 'Normal-7854.png', 'Normal-7855.png', 'Normal-7856.png', 'Normal-7857.png', 'Normal-7858.png', 'Normal-7859.png', 'Normal-7860.png', 'Normal-7861.png', 'Normal-7862.png', 'Normal-7863.png', 'Normal-7864.png', 'Normal-7865.png', 'Normal-7866.png', 'Normal-7867.png', 'Normal-7868.png', 'Normal-7869.png', 'Normal-7870.png', 'Normal-7871.png', 'Normal-7872.png', 'Normal-7873.png', 'Normal-7874.png', 'Normal-7875.png', 'Normal-7876.png', 'Normal-7877.png', 'Normal-7878.png', 'Normal-7879.png', 'Normal-7880.png', 'Normal-7881.png', 'Normal-7882.png', 'Normal-7883.png', 'Normal-7884.png', 'Normal-7885.png', 'Normal-7886.png', 'Normal-7887.png', 'Normal-7888.png', 'Normal-7889.png', 'Normal-7890.png', 'Normal-7891.png', 'Normal-7892.png', 'Normal-7893.png', 'Normal-7894.png', 'Normal-7895.png', 'Normal-7896.png', 'Normal-7897.png', 'Normal-7898.png', 'Normal-7899.png', 'Normal-7900.png', 'Normal-7901.png', 'Normal-7902.png', 'Normal-7903.png', 'Normal-7904.png', 'Normal-7905.png', 'Normal-7906.png', 'Normal-7907.png', 'Normal-7908.png', 'Normal-7909.png', 'Normal-7910.png', 'Normal-7911.png', 'Normal-7912.png', 'Normal-7913.png', 'Normal-7914.png', 'Normal-7915.png', 'Normal-7916.png', 'Normal-7917.png', 'Normal-7918.png', 'Normal-7919.png', 'Normal-7920.png', 'Normal-7921.png', 'Normal-7922.png', 'Normal-7923.png', 'Normal-7924.png', 'Normal-7925.png', 'Normal-7926.png', 'Normal-7927.png', 'Normal-7928.png', 'Normal-7929.png', 'Normal-7930.png', 'Normal-7931.png', 'Normal-7932.png', 'Normal-7933.png', 'Normal-7934.png', 'Normal-7935.png', 'Normal-7936.png', 'Normal-7937.png', 'Normal-7938.png', 'Normal-7939.png', 'Normal-7940.png', 'Normal-7941.png', 'Normal-7942.png', 'Normal-7943.png', 'Normal-7944.png', 'Normal-7945.png', 'Normal-7946.png', 'Normal-7947.png', 'Normal-7948.png', 'Normal-7949.png', 'Normal-7950.png', 'Normal-7951.png', 'Normal-7952.png', 'Normal-7953.png', 'Normal-7954.png', 'Normal-7955.png', 'Normal-7956.png', 'Normal-7957.png', 'Normal-7958.png', 'Normal-7959.png', 'Normal-7960.png', 'Normal-7961.png', 'Normal-7962.png', 'Normal-7963.png', 'Normal-7964.png', 'Normal-7965.png', 'Normal-7966.png', 'Normal-7967.png', 'Normal-7968.png', 'Normal-7969.png', 'Normal-7970.png', 'Normal-7971.png', 'Normal-7972.png', 'Normal-7973.png', 'Normal-7974.png', 'Normal-7975.png', 'Normal-7976.png', 'Normal-7977.png', 'Normal-7978.png', 'Normal-7979.png', 'Normal-7980.png', 'Normal-7981.png', 'Normal-7982.png', 'Normal-7983.png', 'Normal-7984.png', 'Normal-7985.png', 'Normal-7986.png', 'Normal-7987.png', 'Normal-7988.png', 'Normal-7989.png', 'Normal-7990.png', 'Normal-7991.png', 'Normal-7992.png', 'Normal-7993.png', 'Normal-7994.png', 'Normal-7995.png', 'Normal-7996.png', 'Normal-7997.png', 'Normal-7998.png', 'Normal-7999.png', 'Normal-8000.png', 'Normal-8001.png', 'Normal-8002.png', 'Normal-8003.png', 'Normal-8004.png', 'Normal-8005.png', 'Normal-8006.png', 'Normal-8007.png', 'Normal-8008.png', 'Normal-8009.png', 'Normal-8010.png', 'Normal-8011.png', 'Normal-8012.png', 'Normal-8013.png', 'Normal-8014.png', 'Normal-8015.png', 'Normal-8016.png', 'Normal-8017.png', 'Normal-8018.png', 'Normal-8019.png', 'Normal-8020.png', 'Normal-8021.png', 'Normal-8022.png', 'Normal-8023.png', 'Normal-8024.png', 'Normal-8025.png', 'Normal-8026.png', 'Normal-8027.png', 'Normal-8028.png', 'Normal-8029.png', 'Normal-8030.png', 'Normal-8031.png', 'Normal-8032.png', 'Normal-8033.png', 'Normal-8034.png', 'Normal-8035.png', 'Normal-8036.png', 'Normal-8037.png', 'Normal-8038.png', 'Normal-8039.png', 'Normal-8040.png', 'Normal-8041.png', 'Normal-8042.png', 'Normal-8043.png', 'Normal-8044.png', 'Normal-8045.png', 'Normal-8046.png', 'Normal-8047.png', 'Normal-8048.png', 'Normal-8049.png', 'Normal-8050.png', 'Normal-8051.png', 'Normal-8052.png', 'Normal-8053.png', 'Normal-8054.png', 'Normal-8055.png', 'Normal-8056.png', 'Normal-8057.png', 'Normal-8058.png', 'Normal-8059.png', 'Normal-8060.png', 'Normal-8061.png', 'Normal-8062.png', 'Normal-8063.png', 'Normal-8064.png', 'Normal-8065.png', 'Normal-8066.png', 'Normal-8067.png', 'Normal-8068.png', 'Normal-8069.png', 'Normal-8070.png', 'Normal-8071.png', 'Normal-8072.png', 'Normal-8073.png', 'Normal-8074.png', 'Normal-8075.png', 'Normal-8076.png', 'Normal-8077.png', 'Normal-8078.png', 'Normal-8079.png', 'Normal-8080.png', 'Normal-8081.png', 'Normal-8082.png', 'Normal-8083.png', 'Normal-8084.png', 'Normal-8085.png', 'Normal-8086.png', 'Normal-8087.png', 'Normal-8088.png', 'Normal-8089.png', 'Normal-8090.png', 'Normal-8091.png', 'Normal-8092.png', 'Normal-8093.png', 'Normal-8094.png', 'Normal-8095.png', 'Normal-8096.png', 'Normal-8097.png', 'Normal-8098.png', 'Normal-8099.png', 'Normal-8100.png', 'Normal-8101.png', 'Normal-8102.png', 'Normal-8103.png', 'Normal-8104.png', 'Normal-8105.png', 'Normal-8106.png', 'Normal-8107.png', 'Normal-8108.png', 'Normal-8109.png', 'Normal-8110.png', 'Normal-8111.png', 'Normal-8112.png', 'Normal-8113.png', 'Normal-8114.png', 'Normal-8115.png', 'Normal-8116.png', 'Normal-8117.png', 'Normal-8118.png', 'Normal-8119.png', 'Normal-8120.png', 'Normal-8121.png', 'Normal-8122.png', 'Normal-8123.png', 'Normal-8124.png', 'Normal-8125.png', 'Normal-8126.png', 'Normal-8127.png', 'Normal-8128.png', 'Normal-8129.png', 'Normal-8130.png', 'Normal-8131.png', 'Normal-8132.png', 'Normal-8133.png', 'Normal-8134.png', 'Normal-8135.png', 'Normal-8136.png', 'Normal-8137.png', 'Normal-8138.png', 'Normal-8139.png', 'Normal-8140.png', 'Normal-8141.png', 'Normal-8142.png', 'Normal-8143.png', 'Normal-8144.png', 'Normal-8145.png', 'Normal-8146.png', 'Normal-8147.png', 'Normal-8148.png', 'Normal-8149.png', 'Normal-8150.png', 'Normal-8151.png', 'Normal-8152.png', 'Normal-8153.png', 'Normal-8154.png', 'Normal-8155.png', 'Normal-8156.png', 'Normal-8157.png', 'Normal-8158.png', 'Normal-8159.png', 'Normal-8160.png', 'Normal-8161.png', 'Normal-8162.png', 'Normal-8163.png', 'Normal-8164.png', 'Normal-8165.png', 'Normal-8166.png', 'Normal-8167.png', 'Normal-8168.png', 'Normal-8169.png', 'Normal-8170.png', 'Normal-8171.png', 'Normal-8172.png', 'Normal-8173.png', 'Normal-8174.png', 'Normal-8175.png', 'Normal-8176.png', 'Normal-8177.png', 'Normal-8178.png', 'Normal-8179.png', 'Normal-8180.png', 'Normal-8181.png', 'Normal-8182.png', 'Normal-8183.png', 'Normal-8184.png', 'Normal-8185.png', 'Normal-8186.png', 'Normal-8187.png', 'Normal-8188.png', 'Normal-8189.png', 'Normal-8190.png', 'Normal-8191.png', 'Normal-8192.png', 'Normal-8193.png', 'Normal-8194.png', 'Normal-8195.png', 'Normal-8196.png', 'Normal-8197.png', 'Normal-8198.png', 'Normal-8199.png', 'Normal-8200.png', 'Normal-8201.png', 'Normal-8202.png', 'Normal-8203.png', 'Normal-8204.png', 'Normal-8205.png', 'Normal-8206.png', 'Normal-8207.png', 'Normal-8208.png', 'Normal-8209.png', 'Normal-8210.png', 'Normal-8211.png', 'Normal-8212.png', 'Normal-8213.png', 'Normal-8214.png', 'Normal-8215.png', 'Normal-8216.png', 'Normal-8217.png', 'Normal-8218.png', 'Normal-8219.png', 'Normal-8220.png', 'Normal-8221.png', 'Normal-8222.png', 'Normal-8223.png', 'Normal-8224.png', 'Normal-8225.png', 'Normal-8226.png', 'Normal-8227.png', 'Normal-8228.png', 'Normal-8229.png', 'Normal-8230.png', 'Normal-8231.png', 'Normal-8232.png', 'Normal-8233.png', 'Normal-8234.png', 'Normal-8235.png', 'Normal-8236.png', 'Normal-8237.png', 'Normal-8238.png', 'Normal-8239.png', 'Normal-8240.png', 'Normal-8241.png', 'Normal-8242.png', 'Normal-8243.png', 'Normal-8244.png', 'Normal-8245.png', 'Normal-8246.png', 'Normal-8247.png', 'Normal-8248.png', 'Normal-8249.png', 'Normal-8250.png', 'Normal-8251.png', 'Normal-8252.png', 'Normal-8253.png', 'Normal-8254.png', 'Normal-8255.png', 'Normal-8256.png', 'Normal-8257.png', 'Normal-8258.png', 'Normal-8259.png', 'Normal-8260.png', 'Normal-8261.png', 'Normal-8262.png', 'Normal-8263.png', 'Normal-8264.png', 'Normal-8265.png', 'Normal-8266.png', 'Normal-8267.png', 'Normal-8268.png', 'Normal-8269.png', 'Normal-8270.png', 'Normal-8271.png', 'Normal-8272.png', 'Normal-8273.png', 'Normal-8274.png', 'Normal-8275.png', 'Normal-8276.png', 'Normal-8277.png', 'Normal-8278.png', 'Normal-8279.png', 'Normal-8280.png', 'Normal-8281.png', 'Normal-8282.png', 'Normal-8283.png', 'Normal-8284.png', 'Normal-8285.png', 'Normal-8286.png', 'Normal-8287.png', 'Normal-8288.png', 'Normal-8289.png', 'Normal-8290.png', 'Normal-8291.png', 'Normal-8292.png', 'Normal-8293.png', 'Normal-8294.png', 'Normal-8295.png', 'Normal-8296.png', 'Normal-8297.png', 'Normal-8298.png', 'Normal-8299.png', 'Normal-8300.png', 'Normal-8301.png', 'Normal-8302.png', 'Normal-8303.png', 'Normal-8304.png', 'Normal-8305.png', 'Normal-8306.png', 'Normal-8307.png', 'Normal-8308.png', 'Normal-8309.png', 'Normal-8310.png', 'Normal-8311.png', 'Normal-8312.png', 'Normal-8313.png', 'Normal-8314.png', 'Normal-8315.png', 'Normal-8316.png', 'Normal-8317.png', 'Normal-8318.png', 'Normal-8319.png', 'Normal-8320.png', 'Normal-8321.png', 'Normal-8322.png', 'Normal-8323.png', 'Normal-8324.png', 'Normal-8325.png', 'Normal-8326.png', 'Normal-8327.png', 'Normal-8328.png', 'Normal-8329.png', 'Normal-8330.png', 'Normal-8331.png', 'Normal-8332.png', 'Normal-8333.png', 'Normal-8334.png', 'Normal-8335.png', 'Normal-8336.png', 'Normal-8337.png', 'Normal-8338.png', 'Normal-8339.png', 'Normal-8340.png', 'Normal-8341.png', 'Normal-8342.png', 'Normal-8343.png', 'Normal-8344.png', 'Normal-8345.png', 'Normal-8346.png', 'Normal-8347.png', 'Normal-8348.png', 'Normal-8349.png', 'Normal-8350.png', 'Normal-8351.png', 'Normal-8352.png', 'Normal-8353.png', 'Normal-8354.png', 'Normal-8355.png', 'Normal-8356.png', 'Normal-8357.png', 'Normal-8358.png', 'Normal-8359.png', 'Normal-8360.png', 'Normal-8361.png', 'Normal-8362.png', 'Normal-8363.png', 'Normal-8364.png', 'Normal-8365.png', 'Normal-8366.png', 'Normal-8367.png', 'Normal-8368.png', 'Normal-8369.png', 'Normal-8370.png', 'Normal-8371.png', 'Normal-8372.png', 'Normal-8373.png', 'Normal-8374.png', 'Normal-8375.png', 'Normal-8376.png', 'Normal-8377.png', 'Normal-8378.png', 'Normal-8379.png', 'Normal-8380.png', 'Normal-8381.png', 'Normal-8382.png', 'Normal-8383.png', 'Normal-8384.png', 'Normal-8385.png', 'Normal-8386.png', 'Normal-8387.png', 'Normal-8388.png', 'Normal-8389.png', 'Normal-8390.png', 'Normal-8391.png', 'Normal-8392.png', 'Normal-8393.png', 'Normal-8394.png', 'Normal-8395.png', 'Normal-8396.png', 'Normal-8397.png', 'Normal-8398.png', 'Normal-8399.png', 'Normal-8400.png', 'Normal-8401.png', 'Normal-8402.png', 'Normal-8403.png', 'Normal-8404.png', 'Normal-8405.png', 'Normal-8406.png', 'Normal-8407.png', 'Normal-8408.png', 'Normal-8409.png', 'Normal-8410.png', 'Normal-8411.png', 'Normal-8412.png', 'Normal-8413.png', 'Normal-8414.png', 'Normal-8415.png', 'Normal-8416.png', 'Normal-8417.png', 'Normal-8418.png', 'Normal-8419.png', 'Normal-8420.png', 'Normal-8421.png', 'Normal-8422.png', 'Normal-8423.png', 'Normal-8424.png', 'Normal-8425.png', 'Normal-8426.png', 'Normal-8427.png', 'Normal-8428.png', 'Normal-8429.png', 'Normal-8430.png', 'Normal-8431.png', 'Normal-8432.png', 'Normal-8433.png', 'Normal-8434.png', 'Normal-8435.png', 'Normal-8436.png', 'Normal-8437.png', 'Normal-8438.png', 'Normal-8439.png', 'Normal-8440.png', 'Normal-8441.png', 'Normal-8442.png', 'Normal-8443.png', 'Normal-8444.png', 'Normal-8445.png', 'Normal-8446.png', 'Normal-8447.png', 'Normal-8448.png', 'Normal-8449.png', 'Normal-8450.png', 'Normal-8451.png', 'Normal-8452.png', 'Normal-8453.png', 'Normal-8454.png', 'Normal-8455.png', 'Normal-8456.png', 'Normal-8457.png', 'Normal-8458.png', 'Normal-8459.png', 'Normal-8460.png', 'Normal-8461.png', 'Normal-8462.png', 'Normal-8463.png', 'Normal-8464.png', 'Normal-8465.png', 'Normal-8466.png', 'Normal-8467.png', 'Normal-8468.png', 'Normal-8469.png', 'Normal-8470.png', 'Normal-8471.png', 'Normal-8472.png', 'Normal-8473.png', 'Normal-8474.png', 'Normal-8475.png', 'Normal-8476.png', 'Normal-8477.png', 'Normal-8478.png', 'Normal-8479.png', 'Normal-8480.png', 'Normal-8481.png', 'Normal-8482.png', 'Normal-8483.png', 'Normal-8484.png', 'Normal-8485.png', 'Normal-8486.png', 'Normal-8487.png', 'Normal-8488.png', 'Normal-8489.png', 'Normal-8490.png', 'Normal-8491.png', 'Normal-8492.png', 'Normal-8493.png', 'Normal-8494.png', 'Normal-8495.png', 'Normal-8496.png', 'Normal-8497.png', 'Normal-8498.png', 'Normal-8499.png', 'Normal-8500.png', 'Normal-8501.png', 'Normal-8502.png', 'Normal-8503.png', 'Normal-8504.png', 'Normal-8505.png', 'Normal-8506.png', 'Normal-8507.png', 'Normal-8508.png', 'Normal-8509.png', 'Normal-8510.png', 'Normal-8511.png', 'Normal-8512.png', 'Normal-8513.png', 'Normal-8514.png', 'Normal-8515.png', 'Normal-8516.png', 'Normal-8517.png', 'Normal-8518.png', 'Normal-8519.png', 'Normal-8520.png', 'Normal-8521.png', 'Normal-8522.png', 'Normal-8523.png', 'Normal-8524.png', 'Normal-8525.png', 'Normal-8526.png', 'Normal-8527.png', 'Normal-8528.png', 'Normal-8529.png', 'Normal-8530.png', 'Normal-8531.png', 'Normal-8532.png', 'Normal-8533.png', 'Normal-8534.png', 'Normal-8535.png', 'Normal-8536.png', 'Normal-8537.png', 'Normal-8538.png', 'Normal-8539.png', 'Normal-8540.png', 'Normal-8541.png', 'Normal-8542.png', 'Normal-8543.png', 'Normal-8544.png', 'Normal-8545.png', 'Normal-8546.png', 'Normal-8547.png', 'Normal-8548.png', 'Normal-8549.png', 'Normal-8550.png', 'Normal-8551.png', 'Normal-8552.png', 'Normal-8553.png', 'Normal-8554.png', 'Normal-8555.png', 'Normal-8556.png', 'Normal-8557.png', 'Normal-8558.png', 'Normal-8559.png', 'Normal-8560.png', 'Normal-8561.png', 'Normal-8562.png', 'Normal-8563.png', 'Normal-8564.png', 'Normal-8565.png', 'Normal-8566.png', 'Normal-8567.png', 'Normal-8568.png', 'Normal-8569.png', 'Normal-8570.png', 'Normal-8571.png', 'Normal-8572.png', 'Normal-8573.png', 'Normal-8574.png', 'Normal-8575.png', 'Normal-8576.png', 'Normal-8577.png', 'Normal-8578.png', 'Normal-8579.png', 'Normal-8580.png', 'Normal-8581.png', 'Normal-8582.png', 'Normal-8583.png', 'Normal-8584.png', 'Normal-8585.png', 'Normal-8586.png', 'Normal-8587.png', 'Normal-8588.png', 'Normal-8589.png', 'Normal-8590.png', 'Normal-8591.png', 'Normal-8592.png', 'Normal-8593.png', 'Normal-8594.png', 'Normal-8595.png', 'Normal-8596.png', 'Normal-8597.png', 'Normal-8598.png', 'Normal-8599.png', 'Normal-8600.png', 'Normal-8601.png', 'Normal-8602.png', 'Normal-8603.png', 'Normal-8604.png', 'Normal-8605.png', 'Normal-8606.png', 'Normal-8607.png', 'Normal-8608.png', 'Normal-8609.png', 'Normal-8610.png', 'Normal-8611.png', 'Normal-8612.png', 'Normal-8613.png', 'Normal-8614.png', 'Normal-8615.png', 'Normal-8616.png', 'Normal-8617.png', 'Normal-8618.png', 'Normal-8619.png', 'Normal-8620.png', 'Normal-8621.png', 'Normal-8622.png', 'Normal-8623.png', 'Normal-8624.png', 'Normal-8625.png', 'Normal-8626.png', 'Normal-8627.png', 'Normal-8628.png', 'Normal-8629.png', 'Normal-8630.png', 'Normal-8631.png', 'Normal-8632.png', 'Normal-8633.png', 'Normal-8634.png', 'Normal-8635.png', 'Normal-8636.png', 'Normal-8637.png', 'Normal-8638.png', 'Normal-8639.png', 'Normal-8640.png', 'Normal-8641.png', 'Normal-8642.png', 'Normal-8643.png', 'Normal-8644.png', 'Normal-8645.png', 'Normal-8646.png', 'Normal-8647.png', 'Normal-8648.png', 'Normal-8649.png', 'Normal-8650.png', 'Normal-8651.png', 'Normal-8652.png', 'Normal-8653.png', 'Normal-8654.png', 'Normal-8655.png', 'Normal-8656.png', 'Normal-8657.png', 'Normal-8658.png', 'Normal-8659.png', 'Normal-8660.png', 'Normal-8661.png', 'Normal-8662.png', 'Normal-8663.png', 'Normal-8664.png', 'Normal-8665.png', 'Normal-8666.png', 'Normal-8667.png', 'Normal-8668.png', 'Normal-8669.png', 'Normal-8670.png', 'Normal-8671.png', 'Normal-8672.png', 'Normal-8673.png', 'Normal-8674.png', 'Normal-8675.png', 'Normal-8676.png', 'Normal-8677.png', 'Normal-8678.png', 'Normal-8679.png', 'Normal-8680.png', 'Normal-8681.png', 'Normal-8682.png', 'Normal-8683.png', 'Normal-8684.png', 'Normal-8685.png', 'Normal-8686.png', 'Normal-8687.png', 'Normal-8688.png', 'Normal-8689.png', 'Normal-8690.png', 'Normal-8691.png', 'Normal-8692.png', 'Normal-8693.png', 'Normal-8694.png', 'Normal-8695.png', 'Normal-8696.png', 'Normal-8697.png', 'Normal-8698.png', 'Normal-8699.png', 'Normal-8700.png', 'Normal-8701.png', 'Normal-8702.png', 'Normal-8703.png', 'Normal-8704.png', 'Normal-8705.png', 'Normal-8706.png', 'Normal-8707.png', 'Normal-8708.png', 'Normal-8709.png', 'Normal-8710.png', 'Normal-8711.png', 'Normal-8712.png', 'Normal-8713.png', 'Normal-8714.png', 'Normal-8715.png', 'Normal-8716.png', 'Normal-8717.png', 'Normal-8718.png', 'Normal-8719.png', 'Normal-8720.png', 'Normal-8721.png', 'Normal-8722.png', 'Normal-8723.png', 'Normal-8724.png', 'Normal-8725.png', 'Normal-8726.png', 'Normal-8727.png', 'Normal-8728.png', 'Normal-8729.png', 'Normal-8730.png', 'Normal-8731.png', 'Normal-8732.png', 'Normal-8733.png', 'Normal-8734.png', 'Normal-8735.png', 'Normal-8736.png', 'Normal-8737.png', 'Normal-8738.png', 'Normal-8739.png', 'Normal-8740.png', 'Normal-8741.png', 'Normal-8742.png', 'Normal-8743.png', 'Normal-8744.png', 'Normal-8745.png', 'Normal-8746.png', 'Normal-8747.png', 'Normal-8748.png', 'Normal-8749.png', 'Normal-8750.png', 'Normal-8751.png', 'Normal-8752.png', 'Normal-8753.png', 'Normal-8754.png', 'Normal-8755.png', 'Normal-8756.png', 'Normal-8757.png', 'Normal-8758.png', 'Normal-8759.png', 'Normal-8760.png', 'Normal-8761.png', 'Normal-8762.png', 'Normal-8763.png', 'Normal-8764.png', 'Normal-8765.png', 'Normal-8766.png', 'Normal-8767.png', 'Normal-8768.png', 'Normal-8769.png', 'Normal-8770.png', 'Normal-8771.png', 'Normal-8772.png', 'Normal-8773.png', 'Normal-8774.png', 'Normal-8775.png', 'Normal-8776.png', 'Normal-8777.png', 'Normal-8778.png', 'Normal-8779.png', 'Normal-8780.png', 'Normal-8781.png', 'Normal-8782.png', 'Normal-8783.png', 'Normal-8784.png', 'Normal-8785.png', 'Normal-8786.png', 'Normal-8787.png', 'Normal-8788.png', 'Normal-8789.png', 'Normal-8790.png', 'Normal-8791.png', 'Normal-8792.png', 'Normal-8793.png', 'Normal-8794.png', 'Normal-8795.png', 'Normal-8796.png', 'Normal-8797.png', 'Normal-8798.png', 'Normal-8799.png', 'Normal-8800.png', 'Normal-8801.png', 'Normal-8802.png', 'Normal-8803.png', 'Normal-8804.png', 'Normal-8805.png', 'Normal-8806.png', 'Normal-8807.png', 'Normal-8808.png', 'Normal-8809.png', 'Normal-8810.png', 'Normal-8811.png', 'Normal-8812.png', 'Normal-8813.png', 'Normal-8814.png', 'Normal-8815.png', 'Normal-8816.png', 'Normal-8817.png', 'Normal-8818.png', 'Normal-8819.png', 'Normal-8820.png', 'Normal-8821.png', 'Normal-8822.png', 'Normal-8823.png', 'Normal-8824.png', 'Normal-8825.png', 'Normal-8826.png', 'Normal-8827.png', 'Normal-8828.png', 'Normal-8829.png', 'Normal-8830.png', 'Normal-8831.png', 'Normal-8832.png', 'Normal-8833.png', 'Normal-8834.png', 'Normal-8835.png', 'Normal-8836.png', 'Normal-8837.png', 'Normal-8838.png', 'Normal-8839.png', 'Normal-8840.png', 'Normal-8841.png', 'Normal-8842.png', 'Normal-8843.png', 'Normal-8844.png', 'Normal-8845.png', 'Normal-8846.png', 'Normal-8847.png', 'Normal-8848.png', 'Normal-8849.png', 'Normal-8850.png', 'Normal-8851.png', 'Normal-8852.png', 'Normal-8853.png', 'Normal-8854.png', 'Normal-8855.png', 'Normal-8856.png', 'Normal-8857.png', 'Normal-8858.png', 'Normal-8859.png', 'Normal-8860.png', 'Normal-8861.png', 'Normal-8862.png', 'Normal-8863.png', 'Normal-8864.png', 'Normal-8865.png', 'Normal-8866.png', 'Normal-8867.png', 'Normal-8868.png', 'Normal-8869.png', 'Normal-8870.png', 'Normal-8871.png', 'Normal-8872.png', 'Normal-8873.png', 'Normal-8874.png', 'Normal-8875.png', 'Normal-8876.png', 'Normal-8877.png', 'Normal-8878.png', 'Normal-8879.png', 'Normal-8880.png', 'Normal-8881.png', 'Normal-8882.png', 'Normal-8883.png', 'Normal-8884.png', 'Normal-8885.png', 'Normal-8886.png', 'Normal-8887.png', 'Normal-8888.png', 'Normal-8889.png', 'Normal-8890.png', 'Normal-8891.png', 'Normal-8892.png', 'Normal-8893.png', 'Normal-8894.png', 'Normal-8895.png', 'Normal-8896.png', 'Normal-8897.png', 'Normal-8898.png', 'Normal-8899.png', 'Normal-8900.png', 'Normal-8901.png', 'Normal-8902.png', 'Normal-8903.png', 'Normal-8904.png', 'Normal-8905.png', 'Normal-8906.png', 'Normal-8907.png', 'Normal-8908.png', 'Normal-8909.png', 'Normal-8910.png', 'Normal-8911.png', 'Normal-8912.png', 'Normal-8913.png', 'Normal-8914.png', 'Normal-8915.png', 'Normal-8916.png', 'Normal-8917.png', 'Normal-8918.png', 'Normal-8919.png', 'Normal-8920.png', 'Normal-8921.png', 'Normal-8922.png', 'Normal-8923.png', 'Normal-8924.png', 'Normal-8925.png', 'Normal-8926.png', 'Normal-8927.png', 'Normal-8928.png', 'Normal-8929.png', 'Normal-8930.png', 'Normal-8931.png', 'Normal-8932.png', 'Normal-8933.png', 'Normal-8934.png', 'Normal-8935.png', 'Normal-8936.png', 'Normal-8937.png', 'Normal-8938.png', 'Normal-8939.png', 'Normal-8940.png', 'Normal-8941.png', 'Normal-8942.png', 'Normal-8943.png', 'Normal-8944.png', 'Normal-8945.png', 'Normal-8946.png', 'Normal-8947.png', 'Normal-8948.png', 'Normal-8949.png', 'Normal-8950.png', 'Normal-8951.png', 'Normal-8952.png', 'Normal-8953.png', 'Normal-8954.png', 'Normal-8955.png', 'Normal-8956.png', 'Normal-8957.png', 'Normal-8958.png', 'Normal-8959.png', 'Normal-8960.png', 'Normal-8961.png', 'Normal-8962.png', 'Normal-8963.png', 'Normal-8964.png', 'Normal-8965.png', 'Normal-8966.png', 'Normal-8967.png', 'Normal-8968.png', 'Normal-8969.png', 'Normal-8970.png', 'Normal-8971.png', 'Normal-8972.png', 'Normal-8973.png', 'Normal-8974.png', 'Normal-8975.png', 'Normal-8976.png', 'Normal-8977.png', 'Normal-8978.png', 'Normal-8979.png', 'Normal-8980.png', 'Normal-8981.png', 'Normal-8982.png', 'Normal-8983.png', 'Normal-8984.png', 'Normal-8985.png', 'Normal-8986.png', 'Normal-8987.png', 'Normal-8988.png', 'Normal-8989.png', 'Normal-8990.png', 'Normal-8991.png', 'Normal-8992.png', 'Normal-8993.png', 'Normal-8994.png', 'Normal-8995.png', 'Normal-8996.png', 'Normal-8997.png', 'Normal-8998.png', 'Normal-8999.png', 'Normal-9000.png', 'Normal-9001.png', 'Normal-9002.png', 'Normal-9003.png', 'Normal-9004.png', 'Normal-9005.png', 'Normal-9006.png', 'Normal-9007.png', 'Normal-9008.png', 'Normal-9009.png', 'Normal-9010.png', 'Normal-9011.png', 'Normal-9012.png', 'Normal-9013.png', 'Normal-9014.png', 'Normal-9015.png', 'Normal-9016.png', 'Normal-9017.png', 'Normal-9018.png', 'Normal-9019.png', 'Normal-9020.png', 'Normal-9021.png', 'Normal-9022.png', 'Normal-9023.png', 'Normal-9024.png', 'Normal-9025.png', 'Normal-9026.png', 'Normal-9027.png', 'Normal-9028.png', 'Normal-9029.png', 'Normal-9030.png', 'Normal-9031.png', 'Normal-9032.png', 'Normal-9033.png', 'Normal-9034.png', 'Normal-9035.png', 'Normal-9036.png', 'Normal-9037.png', 'Normal-9038.png', 'Normal-9039.png', 'Normal-9040.png', 'Normal-9041.png', 'Normal-9042.png', 'Normal-9043.png', 'Normal-9044.png', 'Normal-9045.png', 'Normal-9046.png', 'Normal-9047.png', 'Normal-9048.png', 'Normal-9049.png', 'Normal-9050.png', 'Normal-9051.png', 'Normal-9052.png', 'Normal-9053.png', 'Normal-9054.png', 'Normal-9055.png', 'Normal-9056.png', 'Normal-9057.png', 'Normal-9058.png', 'Normal-9059.png', 'Normal-9060.png', 'Normal-9061.png', 'Normal-9062.png', 'Normal-9063.png', 'Normal-9064.png', 'Normal-9065.png', 'Normal-9066.png', 'Normal-9067.png', 'Normal-9068.png', 'Normal-9069.png', 'Normal-9070.png', 'Normal-9071.png', 'Normal-9072.png', 'Normal-9073.png', 'Normal-9074.png', 'Normal-9075.png', 'Normal-9076.png', 'Normal-9077.png', 'Normal-9078.png', 'Normal-9079.png', 'Normal-9080.png', 'Normal-9081.png', 'Normal-9082.png', 'Normal-9083.png', 'Normal-9084.png', 'Normal-9085.png', 'Normal-9086.png', 'Normal-9087.png', 'Normal-9088.png', 'Normal-9089.png', 'Normal-9090.png', 'Normal-9091.png', 'Normal-9092.png', 'Normal-9093.png', 'Normal-9094.png', 'Normal-9095.png', 'Normal-9096.png', 'Normal-9097.png', 'Normal-9098.png', 'Normal-9099.png', 'Normal-9100.png', 'Normal-9101.png', 'Normal-9102.png', 'Normal-9103.png', 'Normal-9104.png', 'Normal-9105.png', 'Normal-9106.png', 'Normal-9107.png', 'Normal-9108.png', 'Normal-9109.png', 'Normal-9110.png', 'Normal-9111.png', 'Normal-9112.png', 'Normal-9113.png', 'Normal-9114.png', 'Normal-9115.png', 'Normal-9116.png', 'Normal-9117.png', 'Normal-9118.png', 'Normal-9119.png', 'Normal-9120.png', 'Normal-9121.png', 'Normal-9122.png', 'Normal-9123.png', 'Normal-9124.png', 'Normal-9125.png', 'Normal-9126.png', 'Normal-9127.png', 'Normal-9128.png', 'Normal-9129.png', 'Normal-9130.png', 'Normal-9131.png', 'Normal-9132.png', 'Normal-9133.png', 'Normal-9134.png', 'Normal-9135.png', 'Normal-9136.png', 'Normal-9137.png', 'Normal-9138.png', 'Normal-9139.png', 'Normal-9140.png', 'Normal-9141.png', 'Normal-9142.png', 'Normal-9143.png', 'Normal-9144.png', 'Normal-9145.png', 'Normal-9146.png', 'Normal-9147.png', 'Normal-9148.png', 'Normal-9149.png', 'Normal-9150.png', 'Normal-9151.png', 'Normal-9152.png', 'Normal-9153.png', 'Normal-9154.png', 'Normal-9155.png', 'Normal-9156.png', 'Normal-9157.png', 'Normal-9158.png', 'Normal-9159.png', 'Normal-9160.png', 'Normal-9161.png', 'Normal-9162.png', 'Normal-9163.png', 'Normal-9164.png', 'Normal-9165.png', 'Normal-9166.png', 'Normal-9167.png', 'Normal-9168.png', 'Normal-9169.png', 'Normal-9170.png', 'Normal-9171.png', 'Normal-9172.png', 'Normal-9173.png', 'Normal-9174.png', 'Normal-9175.png', 'Normal-9176.png', 'Normal-9177.png', 'Normal-9178.png', 'Normal-9179.png', 'Normal-9180.png', 'Normal-9181.png', 'Normal-9182.png', 'Normal-9183.png', 'Normal-9184.png', 'Normal-9185.png', 'Normal-9186.png', 'Normal-9187.png', 'Normal-9188.png', 'Normal-9189.png', 'Normal-9190.png', 'Normal-9191.png', 'Normal-9192.png', 'Normal-9193.png', 'Normal-9194.png', 'Normal-9195.png', 'Normal-9196.png', 'Normal-9197.png', 'Normal-9198.png', 'Normal-9199.png', 'Normal-9200.png', 'Normal-9201.png', 'Normal-9202.png', 'Normal-9203.png', 'Normal-9204.png', 'Normal-9205.png', 'Normal-9206.png', 'Normal-9207.png', 'Normal-9208.png', 'Normal-9209.png', 'Normal-9210.png', 'Normal-9211.png', 'Normal-9212.png', 'Normal-9213.png', 'Normal-9214.png', 'Normal-9215.png', 'Normal-9216.png', 'Normal-9217.png', 'Normal-9218.png', 'Normal-9219.png', 'Normal-9220.png', 'Normal-9221.png', 'Normal-9222.png', 'Normal-9223.png', 'Normal-9224.png', 'Normal-9225.png', 'Normal-9226.png', 'Normal-9227.png', 'Normal-9228.png', 'Normal-9229.png', 'Normal-9230.png', 'Normal-9231.png', 'Normal-9232.png', 'Normal-9233.png', 'Normal-9234.png', 'Normal-9235.png', 'Normal-9236.png', 'Normal-9237.png', 'Normal-9238.png', 'Normal-9239.png', 'Normal-9240.png', 'Normal-9241.png', 'Normal-9242.png', 'Normal-9243.png', 'Normal-9244.png', 'Normal-9245.png', 'Normal-9246.png', 'Normal-9247.png', 'Normal-9248.png', 'Normal-9249.png', 'Normal-9250.png', 'Normal-9251.png', 'Normal-9252.png', 'Normal-9253.png', 'Normal-9254.png', 'Normal-9255.png', 'Normal-9256.png', 'Normal-9257.png', 'Normal-9258.png', 'Normal-9259.png', 'Normal-9260.png', 'Normal-9261.png', 'Normal-9262.png', 'Normal-9263.png', 'Normal-9264.png', 'Normal-9265.png', 'Normal-9266.png', 'Normal-9267.png', 'Normal-9268.png', 'Normal-9269.png', 'Normal-9270.png', 'Normal-9271.png', 'Normal-9272.png', 'Normal-9273.png', 'Normal-9274.png', 'Normal-9275.png', 'Normal-9276.png', 'Normal-9277.png', 'Normal-9278.png', 'Normal-9279.png', 'Normal-9280.png', 'Normal-9281.png', 'Normal-9282.png', 'Normal-9283.png', 'Normal-9284.png', 'Normal-9285.png', 'Normal-9286.png', 'Normal-9287.png', 'Normal-9288.png', 'Normal-9289.png', 'Normal-9290.png', 'Normal-9291.png', 'Normal-9292.png', 'Normal-9293.png', 'Normal-9294.png', 'Normal-9295.png', 'Normal-9296.png', 'Normal-9297.png', 'Normal-9298.png', 'Normal-9299.png', 'Normal-9300.png', 'Normal-9301.png', 'Normal-9302.png', 'Normal-9303.png', 'Normal-9304.png', 'Normal-9305.png', 'Normal-9306.png', 'Normal-9307.png', 'Normal-9308.png', 'Normal-9309.png', 'Normal-9310.png', 'Normal-9311.png', 'Normal-9312.png', 'Normal-9313.png', 'Normal-9314.png', 'Normal-9315.png', 'Normal-9316.png', 'Normal-9317.png', 'Normal-9318.png', 'Normal-9319.png', 'Normal-9320.png', 'Normal-9321.png', 'Normal-9322.png', 'Normal-9323.png', 'Normal-9324.png', 'Normal-9325.png', 'Normal-9326.png', 'Normal-9327.png', 'Normal-9328.png', 'Normal-9329.png', 'Normal-9330.png', 'Normal-9331.png', 'Normal-9332.png', 'Normal-9333.png', 'Normal-9334.png', 'Normal-9335.png', 'Normal-9336.png', 'Normal-9337.png', 'Normal-9338.png', 'Normal-9339.png', 'Normal-9340.png', 'Normal-9341.png', 'Normal-9342.png', 'Normal-9343.png', 'Normal-9344.png', 'Normal-9345.png', 'Normal-9346.png', 'Normal-9347.png', 'Normal-9348.png', 'Normal-9349.png', 'Normal-9350.png', 'Normal-9351.png', 'Normal-9352.png', 'Normal-9353.png', 'Normal-9354.png', 'Normal-9355.png', 'Normal-9356.png', 'Normal-9357.png', 'Normal-9358.png', 'Normal-9359.png', 'Normal-9360.png', 'Normal-9361.png', 'Normal-9362.png', 'Normal-9363.png', 'Normal-9364.png', 'Normal-9365.png', 'Normal-9366.png', 'Normal-9367.png', 'Normal-9368.png', 'Normal-9369.png', 'Normal-9370.png', 'Normal-9371.png', 'Normal-9372.png', 'Normal-9373.png', 'Normal-9374.png', 'Normal-9375.png', 'Normal-9376.png', 'Normal-9377.png', 'Normal-9378.png', 'Normal-9379.png', 'Normal-9380.png', 'Normal-9381.png', 'Normal-9382.png', 'Normal-9383.png', 'Normal-9384.png', 'Normal-9385.png', 'Normal-9386.png', 'Normal-9387.png', 'Normal-9388.png', 'Normal-9389.png', 'Normal-9390.png', 'Normal-9391.png', 'Normal-9392.png', 'Normal-9393.png', 'Normal-9394.png', 'Normal-9395.png', 'Normal-9396.png', 'Normal-9397.png', 'Normal-9398.png', 'Normal-9399.png', 'Normal-9400.png', 'Normal-9401.png', 'Normal-9402.png', 'Normal-9403.png', 'Normal-9404.png', 'Normal-9405.png', 'Normal-9406.png', 'Normal-9407.png', 'Normal-9408.png', 'Normal-9409.png', 'Normal-9410.png', 'Normal-9411.png', 'Normal-9412.png', 'Normal-9413.png', 'Normal-9414.png', 'Normal-9415.png', 'Normal-9416.png', 'Normal-9417.png', 'Normal-9418.png', 'Normal-9419.png', 'Normal-9420.png', 'Normal-9421.png', 'Normal-9422.png', 'Normal-9423.png', 'Normal-9424.png', 'Normal-9425.png', 'Normal-9426.png', 'Normal-9427.png', 'Normal-9428.png', 'Normal-9429.png', 'Normal-9430.png', 'Normal-9431.png', 'Normal-9432.png', 'Normal-9433.png', 'Normal-9434.png', 'Normal-9435.png', 'Normal-9436.png', 'Normal-9437.png', 'Normal-9438.png', 'Normal-9439.png', 'Normal-9440.png', 'Normal-9441.png', 'Normal-9442.png', 'Normal-9443.png', 'Normal-9444.png', 'Normal-9445.png', 'Normal-9446.png', 'Normal-9447.png', 'Normal-9448.png', 'Normal-9449.png', 'Normal-9450.png', 'Normal-9451.png', 'Normal-9452.png', 'Normal-9453.png', 'Normal-9454.png', 'Normal-9455.png', 'Normal-9456.png', 'Normal-9457.png', 'Normal-9458.png', 'Normal-9459.png', 'Normal-9460.png', 'Normal-9461.png', 'Normal-9462.png', 'Normal-9463.png', 'Normal-9464.png', 'Normal-9465.png', 'Normal-9466.png', 'Normal-9467.png', 'Normal-9468.png', 'Normal-9469.png', 'Normal-9470.png', 'Normal-9471.png', 'Normal-9472.png', 'Normal-9473.png', 'Normal-9474.png', 'Normal-9475.png', 'Normal-9476.png', 'Normal-9477.png', 'Normal-9478.png', 'Normal-9479.png', 'Normal-9480.png', 'Normal-9481.png', 'Normal-9482.png', 'Normal-9483.png', 'Normal-9484.png', 'Normal-9485.png', 'Normal-9486.png', 'Normal-9487.png', 'Normal-9488.png', 'Normal-9489.png', 'Normal-9490.png', 'Normal-9491.png', 'Normal-9492.png', 'Normal-9493.png', 'Normal-9494.png', 'Normal-9495.png', 'Normal-9496.png', 'Normal-9497.png', 'Normal-9498.png', 'Normal-9499.png', 'Normal-9500.png', 'Normal-9501.png', 'Normal-9502.png', 'Normal-9503.png', 'Normal-9504.png', 'Normal-9505.png', 'Normal-9506.png', 'Normal-9507.png', 'Normal-9508.png', 'Normal-9509.png', 'Normal-9510.png', 'Normal-9511.png', 'Normal-9512.png', 'Normal-9513.png', 'Normal-9514.png', 'Normal-9515.png', 'Normal-9516.png', 'Normal-9517.png', 'Normal-9518.png', 'Normal-9519.png', 'Normal-9520.png', 'Normal-9521.png', 'Normal-9522.png', 'Normal-9523.png', 'Normal-9524.png', 'Normal-9525.png', 'Normal-9526.png', 'Normal-9527.png', 'Normal-9528.png', 'Normal-9529.png', 'Normal-9530.png', 'Normal-9531.png', 'Normal-9532.png', 'Normal-9533.png', 'Normal-9534.png', 'Normal-9535.png', 'Normal-9536.png', 'Normal-9537.png', 'Normal-9538.png', 'Normal-9539.png', 'Normal-9540.png', 'Normal-9541.png', 'Normal-9542.png', 'Normal-9543.png', 'Normal-9544.png', 'Normal-9545.png', 'Normal-9546.png', 'Normal-9547.png', 'Normal-9548.png', 'Normal-9549.png', 'Normal-9550.png', 'Normal-9551.png', 'Normal-9552.png', 'Normal-9553.png', 'Normal-9554.png', 'Normal-9555.png', 'Normal-9556.png', 'Normal-9557.png', 'Normal-9558.png', 'Normal-9559.png', 'Normal-9560.png', 'Normal-9561.png', 'Normal-9562.png', 'Normal-9563.png', 'Normal-9564.png', 'Normal-9565.png', 'Normal-9566.png', 'Normal-9567.png', 'Normal-9568.png', 'Normal-9569.png', 'Normal-9570.png', 'Normal-9571.png', 'Normal-9572.png', 'Normal-9573.png', 'Normal-9574.png', 'Normal-9575.png', 'Normal-9576.png', 'Normal-9577.png', 'Normal-9578.png', 'Normal-9579.png', 'Normal-9580.png', 'Normal-9581.png', 'Normal-9582.png', 'Normal-9583.png', 'Normal-9584.png', 'Normal-9585.png', 'Normal-9586.png', 'Normal-9587.png', 'Normal-9588.png', 'Normal-9589.png', 'Normal-9590.png', 'Normal-9591.png', 'Normal-9592.png', 'Normal-9593.png', 'Normal-9594.png', 'Normal-9595.png', 'Normal-9596.png', 'Normal-9597.png', 'Normal-9598.png', 'Normal-9599.png', 'Normal-9600.png', 'Normal-9601.png', 'Normal-9602.png', 'Normal-9603.png', 'Normal-9604.png', 'Normal-9605.png', 'Normal-9606.png', 'Normal-9607.png', 'Normal-9608.png', 'Normal-9609.png', 'Normal-9610.png', 'Normal-9611.png', 'Normal-9612.png', 'Normal-9613.png', 'Normal-9614.png', 'Normal-9615.png', 'Normal-9616.png', 'Normal-9617.png', 'Normal-9618.png', 'Normal-9619.png', 'Normal-9620.png', 'Normal-9621.png', 'Normal-9622.png', 'Normal-9623.png', 'Normal-9624.png', 'Normal-9625.png', 'Normal-9626.png', 'Normal-9627.png', 'Normal-9628.png', 'Normal-9629.png', 'Normal-9630.png', 'Normal-9631.png', 'Normal-9632.png', 'Normal-9633.png', 'Normal-9634.png', 'Normal-9635.png', 'Normal-9636.png', 'Normal-9637.png', 'Normal-9638.png', 'Normal-9639.png', 'Normal-9640.png', 'Normal-9641.png', 'Normal-9642.png', 'Normal-9643.png', 'Normal-9644.png', 'Normal-9645.png', 'Normal-9646.png', 'Normal-9647.png', 'Normal-9648.png', 'Normal-9649.png', 'Normal-9650.png', 'Normal-9651.png', 'Normal-9652.png', 'Normal-9653.png', 'Normal-9654.png', 'Normal-9655.png', 'Normal-9656.png', 'Normal-9657.png', 'Normal-9658.png', 'Normal-9659.png', 'Normal-9660.png', 'Normal-9661.png', 'Normal-9662.png', 'Normal-9663.png', 'Normal-9664.png', 'Normal-9665.png', 'Normal-9666.png', 'Normal-9667.png', 'Normal-9668.png', 'Normal-9669.png', 'Normal-9670.png', 'Normal-9671.png', 'Normal-9672.png', 'Normal-9673.png', 'Normal-9674.png', 'Normal-9675.png', 'Normal-9676.png', 'Normal-9677.png', 'Normal-9678.png', 'Normal-9679.png', 'Normal-9680.png', 'Normal-9681.png', 'Normal-9682.png', 'Normal-9683.png', 'Normal-9684.png', 'Normal-9685.png', 'Normal-9686.png', 'Normal-9687.png', 'Normal-9688.png', 'Normal-9689.png', 'Normal-9690.png', 'Normal-9691.png', 'Normal-9692.png', 'Normal-9693.png', 'Normal-9694.png', 'Normal-9695.png', 'Normal-9696.png', 'Normal-9697.png', 'Normal-9698.png', 'Normal-9699.png', 'Normal-9700.png', 'Normal-9701.png', 'Normal-9702.png', 'Normal-9703.png', 'Normal-9704.png', 'Normal-9705.png', 'Normal-9706.png', 'Normal-9707.png', 'Normal-9708.png', 'Normal-9709.png', 'Normal-9710.png', 'Normal-9711.png', 'Normal-9712.png', 'Normal-9713.png', 'Normal-9714.png', 'Normal-9715.png', 'Normal-9716.png', 'Normal-9717.png', 'Normal-9718.png', 'Normal-9719.png', 'Normal-9720.png', 'Normal-9721.png', 'Normal-9722.png', 'Normal-9723.png', 'Normal-9724.png', 'Normal-9725.png', 'Normal-9726.png', 'Normal-9727.png', 'Normal-9728.png', 'Normal-9729.png', 'Normal-9730.png', 'Normal-9731.png', 'Normal-9732.png', 'Normal-9733.png', 'Normal-9734.png', 'Normal-9735.png', 'Normal-9736.png', 'Normal-9737.png', 'Normal-9738.png', 'Normal-9739.png', 'Normal-9740.png', 'Normal-9741.png', 'Normal-9742.png', 'Normal-9743.png', 'Normal-9744.png', 'Normal-9745.png', 'Normal-9746.png', 'Normal-9747.png', 'Normal-9748.png', 'Normal-9749.png', 'Normal-9750.png', 'Normal-9751.png', 'Normal-9752.png', 'Normal-9753.png', 'Normal-9754.png', 'Normal-9755.png', 'Normal-9756.png', 'Normal-9757.png', 'Normal-9758.png', 'Normal-9759.png', 'Normal-9760.png', 'Normal-9761.png', 'Normal-9762.png', 'Normal-9763.png', 'Normal-9764.png', 'Normal-9765.png', 'Normal-9766.png', 'Normal-9767.png', 'Normal-9768.png', 'Normal-9769.png', 'Normal-9770.png', 'Normal-9771.png', 'Normal-9772.png', 'Normal-9773.png', 'Normal-9774.png', 'Normal-9775.png', 'Normal-9776.png', 'Normal-9777.png', 'Normal-9778.png', 'Normal-9779.png', 'Normal-9780.png', 'Normal-9781.png', 'Normal-9782.png', 'Normal-9783.png', 'Normal-9784.png', 'Normal-9785.png', 'Normal-9786.png', 'Normal-9787.png', 'Normal-9788.png', 'Normal-9789.png', 'Normal-9790.png', 'Normal-9791.png', 'Normal-9792.png', 'Normal-9793.png', 'Normal-9794.png', 'Normal-9795.png', 'Normal-9796.png', 'Normal-9797.png', 'Normal-9798.png', 'Normal-9799.png', 'Normal-9800.png', 'Normal-9801.png', 'Normal-9802.png', 'Normal-9803.png', 'Normal-9804.png', 'Normal-9805.png', 'Normal-9806.png', 'Normal-9807.png', 'Normal-9808.png', 'Normal-9809.png', 'Normal-9810.png', 'Normal-9811.png', 'Normal-9812.png', 'Normal-9813.png', 'Normal-9814.png', 'Normal-9815.png', 'Normal-9816.png', 'Normal-9817.png', 'Normal-9818.png', 'Normal-9819.png', 'Normal-9820.png', 'Normal-9821.png', 'Normal-9822.png', 'Normal-9823.png', 'Normal-9824.png', 'Normal-9825.png', 'Normal-9826.png', 'Normal-9827.png', 'Normal-9828.png', 'Normal-9829.png', 'Normal-9830.png', 'Normal-9831.png', 'Normal-9832.png', 'Normal-9833.png', 'Normal-9834.png', 'Normal-9835.png', 'Normal-9836.png', 'Normal-9837.png', 'Normal-9838.png', 'Normal-9839.png', 'Normal-9840.png', 'Normal-9841.png', 'Normal-9842.png', 'Normal-9843.png', 'Normal-9844.png', 'Normal-9845.png', 'Normal-9846.png', 'Normal-9847.png', 'Normal-9848.png', 'Normal-9849.png', 'Normal-9850.png', 'Normal-9851.png', 'Normal-9852.png', 'Normal-9853.png', 'Normal-9854.png', 'Normal-9855.png', 'Normal-9856.png', 'Normal-9857.png', 'Normal-9858.png', 'Normal-9859.png', 'Normal-9860.png', 'Normal-9861.png', 'Normal-9862.png', 'Normal-9863.png', 'Normal-9864.png', 'Normal-9865.png', 'Normal-9866.png', 'Normal-9867.png', 'Normal-9868.png', 'Normal-9869.png', 'Normal-9870.png', 'Normal-9871.png', 'Normal-9872.png', 'Normal-9873.png', 'Normal-9874.png', 'Normal-9875.png', 'Normal-9876.png', 'Normal-9877.png', 'Normal-9878.png', 'Normal-9879.png', 'Normal-9880.png', 'Normal-9881.png', 'Normal-9882.png', 'Normal-9883.png', 'Normal-9884.png', 'Normal-9885.png', 'Normal-9886.png', 'Normal-9887.png', 'Normal-9888.png', 'Normal-9889.png', 'Normal-9890.png', 'Normal-9891.png', 'Normal-9892.png', 'Normal-9893.png', 'Normal-9894.png', 'Normal-9895.png', 'Normal-9896.png', 'Normal-9897.png', 'Normal-9898.png', 'Normal-9899.png', 'Normal-9900.png', 'Normal-9901.png', 'Normal-9902.png', 'Normal-9903.png', 'Normal-9904.png', 'Normal-9905.png', 'Normal-9906.png', 'Normal-9907.png', 'Normal-9908.png', 'Normal-9909.png', 'Normal-9910.png', 'Normal-9911.png', 'Normal-9912.png', 'Normal-9913.png', 'Normal-9914.png', 'Normal-9915.png', 'Normal-9916.png', 'Normal-9917.png', 'Normal-9918.png', 'Normal-9919.png', 'Normal-9920.png', 'Normal-9921.png', 'Normal-9922.png', 'Normal-9923.png', 'Normal-9924.png', 'Normal-9925.png', 'Normal-9926.png', 'Normal-9927.png', 'Normal-9928.png', 'Normal-9929.png', 'Normal-9930.png', 'Normal-9931.png', 'Normal-9932.png', 'Normal-9933.png', 'Normal-9934.png', 'Normal-9935.png', 'Normal-9936.png', 'Normal-9937.png', 'Normal-9938.png', 'Normal-9939.png', 'Normal-9940.png', 'Normal-9941.png', 'Normal-9942.png', 'Normal-9943.png', 'Normal-9944.png', 'Normal-9945.png', 'Normal-9946.png', 'Normal-9947.png', 'Normal-9948.png', 'Normal-9949.png', 'Normal-9950.png', 'Normal-9951.png', 'Normal-9952.png', 'Normal-9953.png', 'Normal-9954.png', 'Normal-9955.png', 'Normal-9956.png', 'Normal-9957.png', 'Normal-9958.png', 'Normal-9959.png', 'Normal-9960.png', 'Normal-9961.png', 'Normal-9962.png', 'Normal-9963.png', 'Normal-9964.png', 'Normal-9965.png', 'Normal-9966.png', 'Normal-9967.png', 'Normal-9968.png', 'Normal-9969.png', 'Normal-9970.png', 'Normal-9971.png', 'Normal-9972.png', 'Normal-9973.png', 'Normal-9974.png', 'Normal-9975.png', 'Normal-9976.png', 'Normal-9977.png', 'Normal-9978.png', 'Normal-9979.png', 'Normal-9980.png', 'Normal-9981.png', 'Normal-9982.png', 'Normal-9983.png', 'Normal-9984.png', 'Normal-9985.png', 'Normal-9986.png', 'Normal-9987.png', 'Normal-9988.png', 'Normal-9989.png', 'Normal-9990.png', 'Normal-9991.png', 'Normal-9992.png', 'Normal-9993.png', 'Normal-9994.png', 'Normal-9995.png', 'Normal-9996.png', 'Normal-9997.png', 'Normal-9998.png', 'Normal-9999.png', 'Normal-10000.png', 'Normal-10001.png', 'Normal-10002.png', 'Normal-10003.png', 'Normal-10004.png', 'Normal-10005.png', 'Normal-10006.png', 'Normal-10007.png', 'Normal-10008.png', 'Normal-10009.png', 'Normal-10010.png', 'Normal-10011.png', 'Normal-10012.png', 'Normal-10013.png', 'Normal-10014.png', 'Normal-10015.png', 'Normal-10016.png', 'Normal-10017.png', 'Normal-10018.png', 'Normal-10019.png', 'Normal-10020.png', 'Normal-10021.png', 'Normal-10022.png', 'Normal-10023.png', 'Normal-10024.png', 'Normal-10025.png', 'Normal-10026.png', 'Normal-10027.png', 'Normal-10028.png', 'Normal-10029.png', 'Normal-10030.png', 'Normal-10031.png', 'Normal-10032.png', 'Normal-10033.png', 'Normal-10034.png', 'Normal-10035.png', 'Normal-10036.png', 'Normal-10037.png', 'Normal-10038.png', 'Normal-10039.png', 'Normal-10040.png', 'Normal-10041.png', 'Normal-10042.png', 'Normal-10043.png', 'Normal-10044.png', 'Normal-10045.png', 'Normal-10046.png', 'Normal-10047.png', 'Normal-10048.png', 'Normal-10049.png', 'Normal-10050.png', 'Normal-10051.png', 'Normal-10052.png', 'Normal-10053.png', 'Normal-10054.png', 'Normal-10055.png', 'Normal-10056.png', 'Normal-10057.png', 'Normal-10058.png', 'Normal-10059.png', 'Normal-10060.png', 'Normal-10061.png', 'Normal-10062.png', 'Normal-10063.png', 'Normal-10064.png', 'Normal-10065.png', 'Normal-10066.png', 'Normal-10067.png', 'Normal-10068.png', 'Normal-10069.png', 'Normal-10070.png', 'Normal-10071.png', 'Normal-10072.png', 'Normal-10073.png', 'Normal-10074.png', 'Normal-10075.png', 'Normal-10076.png', 'Normal-10077.png', 'Normal-10078.png', 'Normal-10079.png', 'Normal-10080.png', 'Normal-10081.png', 'Normal-10082.png', 'Normal-10083.png', 'Normal-10084.png', 'Normal-10085.png', 'Normal-10086.png', 'Normal-10087.png', 'Normal-10088.png', 'Normal-10089.png', 'Normal-10090.png', 'Normal-10091.png', 'Normal-10092.png', 'Normal-10093.png', 'Normal-10094.png', 'Normal-10095.png', 'Normal-10096.png', 'Normal-10097.png', 'Normal-10098.png', 'Normal-10099.png', 'Normal-10100.png', 'Normal-10101.png', 'Normal-10102.png', 'Normal-10103.png', 'Normal-10104.png', 'Normal-10105.png', 'Normal-10106.png', 'Normal-10107.png', 'Normal-10108.png', 'Normal-10109.png', 'Normal-10110.png', 'Normal-10111.png', 'Normal-10112.png', 'Normal-10113.png', 'Normal-10114.png', 'Normal-10115.png', 'Normal-10116.png', 'Normal-10117.png', 'Normal-10118.png', 'Normal-10119.png', 'Normal-10120.png', 'Normal-10121.png', 'Normal-10122.png', 'Normal-10123.png', 'Normal-10124.png', 'Normal-10125.png', 'Normal-10126.png', 'Normal-10127.png', 'Normal-10128.png', 'Normal-10129.png', 'Normal-10130.png', 'Normal-10131.png', 'Normal-10132.png', 'Normal-10133.png', 'Normal-10134.png', 'Normal-10135.png', 'Normal-10136.png', 'Normal-10137.png', 'Normal-10138.png', 'Normal-10139.png', 'Normal-10140.png', 'Normal-10141.png', 'Normal-10142.png', 'Normal-10143.png', 'Normal-10144.png', 'Normal-10145.png', 'Normal-10146.png', 'Normal-10147.png', 'Normal-10148.png', 'Normal-10149.png', 'Normal-10150.png', 'Normal-10151.png', 'Normal-10152.png', 'Normal-10153.png', 'Normal-10154.png', 'Normal-10155.png', 'Normal-10156.png', 'Normal-10157.png', 'Normal-10158.png', 'Normal-10159.png', 'Normal-10160.png', 'Normal-10161.png', 'Normal-10162.png', 'Normal-10163.png', 'Normal-10164.png', 'Normal-10165.png', 'Normal-10166.png', 'Normal-10167.png', 'Normal-10168.png', 'Normal-10169.png', 'Normal-10170.png', 'Normal-10171.png', 'Normal-10172.png', 'Normal-10173.png', 'Normal-10174.png', 'Normal-10175.png', 'Normal-10176.png', 'Normal-10177.png', 'Normal-10178.png', 'Normal-10179.png', 'Normal-10180.png', 'Normal-10181.png', 'Normal-10182.png', 'Normal-10183.png', 'Normal-10184.png', 'Normal-10185.png', 'Normal-10186.png', 'Normal-10187.png', 'Normal-10188.png', 'Normal-10189.png', 'Normal-10190.png', 'Normal-10191.png', 'Normal-10192.png']\n"
     ]
    }
   ],
   "source": [
    "print(normalFileNames4thset)"
   ]
  },
  {
   "cell_type": "code",
   "execution_count": 47,
   "id": "1aae90fa",
   "metadata": {},
   "outputs": [],
   "source": [
    "for i in range(len(normalFileNames4thset)):\n",
    "    original = r'D:/Desktopshifted/MTech - PES university/Sem-3/CapstoneProject/Dataset/archive/COVID-19_Radiography_Dataset/Normal/images/' + normalFileNames4thset[i]\n",
    "    target = r'D:/Desktopshifted/MTech - PES university/Sem-3/CapstoneProject/Dataset/archive/COVID-19_Radiography_Dataset/SubData4/Normal/' + normalFileNames4thset[i]\n",
    "    shutil.copyfile(original, target)"
   ]
  },
  {
   "cell_type": "code",
   "execution_count": 48,
   "id": "23d8514c",
   "metadata": {},
   "outputs": [],
   "source": [
    "pneuFileNames=[]"
   ]
  },
  {
   "cell_type": "code",
   "execution_count": 49,
   "id": "9df20c5b",
   "metadata": {},
   "outputs": [
    {
     "name": "stdout",
     "output_type": "stream",
     "text": [
      "['Viral Pneumonia-1.png', 'Viral Pneumonia-10.png', 'Viral Pneumonia-100.png', 'Viral Pneumonia-1000.png', 'Viral Pneumonia-1001.png', 'Viral Pneumonia-1002.png', 'Viral Pneumonia-1003.png', 'Viral Pneumonia-1004.png', 'Viral Pneumonia-1005.png', 'Viral Pneumonia-1006.png', 'Viral Pneumonia-1007.png', 'Viral Pneumonia-1008.png', 'Viral Pneumonia-1009.png', 'Viral Pneumonia-101.png', 'Viral Pneumonia-1010.png', 'Viral Pneumonia-1011.png', 'Viral Pneumonia-1012.png', 'Viral Pneumonia-1013.png', 'Viral Pneumonia-1014.png', 'Viral Pneumonia-1015.png', 'Viral Pneumonia-1016.png', 'Viral Pneumonia-1017.png', 'Viral Pneumonia-1018.png', 'Viral Pneumonia-1019.png', 'Viral Pneumonia-102.png', 'Viral Pneumonia-1020.png', 'Viral Pneumonia-1021.png', 'Viral Pneumonia-1022.png', 'Viral Pneumonia-1023.png', 'Viral Pneumonia-1024.png', 'Viral Pneumonia-1025.png', 'Viral Pneumonia-1026.png', 'Viral Pneumonia-1027.png', 'Viral Pneumonia-1028.png', 'Viral Pneumonia-1029.png', 'Viral Pneumonia-103.png', 'Viral Pneumonia-1030.png', 'Viral Pneumonia-1031.png', 'Viral Pneumonia-1032.png', 'Viral Pneumonia-1033.png', 'Viral Pneumonia-1034.png', 'Viral Pneumonia-1035.png', 'Viral Pneumonia-1036.png', 'Viral Pneumonia-1037.png', 'Viral Pneumonia-1038.png', 'Viral Pneumonia-1039.png', 'Viral Pneumonia-104.png', 'Viral Pneumonia-1040.png', 'Viral Pneumonia-1041.png', 'Viral Pneumonia-1042.png', 'Viral Pneumonia-1043.png', 'Viral Pneumonia-1044.png', 'Viral Pneumonia-1045.png', 'Viral Pneumonia-1046.png', 'Viral Pneumonia-1047.png', 'Viral Pneumonia-1048.png', 'Viral Pneumonia-1049.png', 'Viral Pneumonia-105.png', 'Viral Pneumonia-1050.png', 'Viral Pneumonia-1051.png', 'Viral Pneumonia-1052.png', 'Viral Pneumonia-1053.png', 'Viral Pneumonia-1054.png', 'Viral Pneumonia-1055.png', 'Viral Pneumonia-1056.png', 'Viral Pneumonia-1057.png', 'Viral Pneumonia-1058.png', 'Viral Pneumonia-1059.png', 'Viral Pneumonia-106.png', 'Viral Pneumonia-1060.png', 'Viral Pneumonia-1061.png', 'Viral Pneumonia-1062.png', 'Viral Pneumonia-1063.png', 'Viral Pneumonia-1064.png', 'Viral Pneumonia-1065.png', 'Viral Pneumonia-1066.png', 'Viral Pneumonia-1067.png', 'Viral Pneumonia-1068.png', 'Viral Pneumonia-1069.png', 'Viral Pneumonia-107.png', 'Viral Pneumonia-1070.png', 'Viral Pneumonia-1071.png', 'Viral Pneumonia-1072.png', 'Viral Pneumonia-1073.png', 'Viral Pneumonia-1074.png', 'Viral Pneumonia-1075.png', 'Viral Pneumonia-1076.png', 'Viral Pneumonia-1077.png', 'Viral Pneumonia-1078.png', 'Viral Pneumonia-1079.png', 'Viral Pneumonia-108.png', 'Viral Pneumonia-1080.png', 'Viral Pneumonia-1081.png', 'Viral Pneumonia-1082.png', 'Viral Pneumonia-1083.png', 'Viral Pneumonia-1084.png', 'Viral Pneumonia-1085.png', 'Viral Pneumonia-1086.png', 'Viral Pneumonia-1087.png', 'Viral Pneumonia-1088.png', 'Viral Pneumonia-1089.png', 'Viral Pneumonia-109.png', 'Viral Pneumonia-1090.png', 'Viral Pneumonia-1091.png', 'Viral Pneumonia-1092.png', 'Viral Pneumonia-1093.png', 'Viral Pneumonia-1094.png', 'Viral Pneumonia-1095.png', 'Viral Pneumonia-1096.png', 'Viral Pneumonia-1097.png', 'Viral Pneumonia-1098.png', 'Viral Pneumonia-1099.png', 'Viral Pneumonia-11.png', 'Viral Pneumonia-110.png', 'Viral Pneumonia-1100.png', 'Viral Pneumonia-1101.png', 'Viral Pneumonia-1102.png', 'Viral Pneumonia-1103.png', 'Viral Pneumonia-1104.png', 'Viral Pneumonia-1105.png', 'Viral Pneumonia-1106.png', 'Viral Pneumonia-1107.png', 'Viral Pneumonia-1108.png', 'Viral Pneumonia-1109.png', 'Viral Pneumonia-111.png', 'Viral Pneumonia-1110.png', 'Viral Pneumonia-1111.png', 'Viral Pneumonia-1112.png', 'Viral Pneumonia-1113.png', 'Viral Pneumonia-1114.png', 'Viral Pneumonia-1115.png', 'Viral Pneumonia-1116.png', 'Viral Pneumonia-1117.png', 'Viral Pneumonia-1118.png', 'Viral Pneumonia-1119.png', 'Viral Pneumonia-112.png', 'Viral Pneumonia-1120.png', 'Viral Pneumonia-1121.png', 'Viral Pneumonia-1122.png', 'Viral Pneumonia-1123.png', 'Viral Pneumonia-1124.png', 'Viral Pneumonia-1125.png', 'Viral Pneumonia-1126.png', 'Viral Pneumonia-1127.png', 'Viral Pneumonia-1128.png', 'Viral Pneumonia-1129.png', 'Viral Pneumonia-113.png', 'Viral Pneumonia-1130.png', 'Viral Pneumonia-1131.png', 'Viral Pneumonia-1132.png', 'Viral Pneumonia-1133.png', 'Viral Pneumonia-1134.png', 'Viral Pneumonia-1135.png', 'Viral Pneumonia-1136.png', 'Viral Pneumonia-1137.png', 'Viral Pneumonia-1138.png', 'Viral Pneumonia-1139.png', 'Viral Pneumonia-114.png', 'Viral Pneumonia-1140.png', 'Viral Pneumonia-1141.png', 'Viral Pneumonia-1142.png', 'Viral Pneumonia-1143.png', 'Viral Pneumonia-1144.png', 'Viral Pneumonia-1145.png', 'Viral Pneumonia-1146.png', 'Viral Pneumonia-1147.png', 'Viral Pneumonia-1148.png', 'Viral Pneumonia-1149.png', 'Viral Pneumonia-115.png', 'Viral Pneumonia-1150.png', 'Viral Pneumonia-1151.png', 'Viral Pneumonia-1152.png', 'Viral Pneumonia-1153.png', 'Viral Pneumonia-1154.png', 'Viral Pneumonia-1155.png', 'Viral Pneumonia-1156.png', 'Viral Pneumonia-1157.png', 'Viral Pneumonia-1158.png', 'Viral Pneumonia-1159.png', 'Viral Pneumonia-116.png', 'Viral Pneumonia-1160.png', 'Viral Pneumonia-1161.png', 'Viral Pneumonia-1162.png', 'Viral Pneumonia-1163.png', 'Viral Pneumonia-1164.png', 'Viral Pneumonia-1165.png', 'Viral Pneumonia-1166.png', 'Viral Pneumonia-1167.png', 'Viral Pneumonia-1168.png', 'Viral Pneumonia-1169.png', 'Viral Pneumonia-117.png', 'Viral Pneumonia-1170.png', 'Viral Pneumonia-1171.png', 'Viral Pneumonia-1172.png', 'Viral Pneumonia-1173.png', 'Viral Pneumonia-1174.png', 'Viral Pneumonia-1175.png', 'Viral Pneumonia-1176.png', 'Viral Pneumonia-1177.png', 'Viral Pneumonia-1178.png', 'Viral Pneumonia-1179.png', 'Viral Pneumonia-118.png', 'Viral Pneumonia-1180.png', 'Viral Pneumonia-1181.png', 'Viral Pneumonia-1182.png', 'Viral Pneumonia-1183.png', 'Viral Pneumonia-1184.png', 'Viral Pneumonia-1185.png', 'Viral Pneumonia-1186.png', 'Viral Pneumonia-1187.png', 'Viral Pneumonia-1188.png', 'Viral Pneumonia-1189.png', 'Viral Pneumonia-119.png', 'Viral Pneumonia-1190.png', 'Viral Pneumonia-1191.png', 'Viral Pneumonia-1192.png', 'Viral Pneumonia-1193.png', 'Viral Pneumonia-1194.png', 'Viral Pneumonia-1195.png', 'Viral Pneumonia-1196.png', 'Viral Pneumonia-1197.png', 'Viral Pneumonia-1198.png', 'Viral Pneumonia-1199.png', 'Viral Pneumonia-12.png', 'Viral Pneumonia-120.png', 'Viral Pneumonia-1200.png', 'Viral Pneumonia-1201.png', 'Viral Pneumonia-1202.png', 'Viral Pneumonia-1203.png', 'Viral Pneumonia-1204.png', 'Viral Pneumonia-1205.png', 'Viral Pneumonia-1206.png', 'Viral Pneumonia-1207.png', 'Viral Pneumonia-1208.png', 'Viral Pneumonia-1209.png', 'Viral Pneumonia-121.png', 'Viral Pneumonia-1210.png', 'Viral Pneumonia-1211.png', 'Viral Pneumonia-1212.png', 'Viral Pneumonia-1213.png', 'Viral Pneumonia-1214.png', 'Viral Pneumonia-1215.png', 'Viral Pneumonia-1216.png', 'Viral Pneumonia-1217.png', 'Viral Pneumonia-1218.png', 'Viral Pneumonia-1219.png', 'Viral Pneumonia-122.png', 'Viral Pneumonia-1220.png', 'Viral Pneumonia-1221.png', 'Viral Pneumonia-1222.png', 'Viral Pneumonia-1223.png', 'Viral Pneumonia-1224.png', 'Viral Pneumonia-1225.png', 'Viral Pneumonia-1226.png', 'Viral Pneumonia-1227.png', 'Viral Pneumonia-1228.png', 'Viral Pneumonia-1229.png', 'Viral Pneumonia-123.png', 'Viral Pneumonia-1230.png', 'Viral Pneumonia-1231.png', 'Viral Pneumonia-1232.png', 'Viral Pneumonia-1233.png', 'Viral Pneumonia-1234.png', 'Viral Pneumonia-1235.png', 'Viral Pneumonia-1236.png', 'Viral Pneumonia-1237.png', 'Viral Pneumonia-1238.png', 'Viral Pneumonia-1239.png', 'Viral Pneumonia-124.png', 'Viral Pneumonia-1240.png', 'Viral Pneumonia-1241.png', 'Viral Pneumonia-1242.png', 'Viral Pneumonia-1243.png', 'Viral Pneumonia-1244.png', 'Viral Pneumonia-1245.png', 'Viral Pneumonia-1246.png', 'Viral Pneumonia-1247.png', 'Viral Pneumonia-1248.png', 'Viral Pneumonia-1249.png', 'Viral Pneumonia-125.png', 'Viral Pneumonia-1250.png', 'Viral Pneumonia-1251.png', 'Viral Pneumonia-1252.png', 'Viral Pneumonia-1253.png', 'Viral Pneumonia-1254.png', 'Viral Pneumonia-1255.png', 'Viral Pneumonia-1256.png', 'Viral Pneumonia-1257.png', 'Viral Pneumonia-1258.png', 'Viral Pneumonia-1259.png', 'Viral Pneumonia-126.png', 'Viral Pneumonia-1260.png', 'Viral Pneumonia-1261.png', 'Viral Pneumonia-1262.png', 'Viral Pneumonia-1263.png', 'Viral Pneumonia-1264.png', 'Viral Pneumonia-1265.png', 'Viral Pneumonia-1266.png', 'Viral Pneumonia-1267.png', 'Viral Pneumonia-1268.png', 'Viral Pneumonia-1269.png', 'Viral Pneumonia-127.png', 'Viral Pneumonia-1270.png', 'Viral Pneumonia-1271.png', 'Viral Pneumonia-1272.png', 'Viral Pneumonia-1273.png', 'Viral Pneumonia-1274.png', 'Viral Pneumonia-1275.png', 'Viral Pneumonia-1276.png', 'Viral Pneumonia-1277.png', 'Viral Pneumonia-1278.png', 'Viral Pneumonia-1279.png', 'Viral Pneumonia-128.png', 'Viral Pneumonia-1280.png', 'Viral Pneumonia-1281.png', 'Viral Pneumonia-1282.png', 'Viral Pneumonia-1283.png', 'Viral Pneumonia-1284.png', 'Viral Pneumonia-1285.png', 'Viral Pneumonia-1286.png', 'Viral Pneumonia-1287.png', 'Viral Pneumonia-1288.png', 'Viral Pneumonia-1289.png', 'Viral Pneumonia-129.png', 'Viral Pneumonia-1290.png', 'Viral Pneumonia-1291.png', 'Viral Pneumonia-1292.png', 'Viral Pneumonia-1293.png', 'Viral Pneumonia-1294.png', 'Viral Pneumonia-1295.png', 'Viral Pneumonia-1296.png', 'Viral Pneumonia-1297.png', 'Viral Pneumonia-1298.png', 'Viral Pneumonia-1299.png', 'Viral Pneumonia-13.png', 'Viral Pneumonia-130.png', 'Viral Pneumonia-1300.png', 'Viral Pneumonia-1301.png', 'Viral Pneumonia-1302.png', 'Viral Pneumonia-1303.png', 'Viral Pneumonia-1304.png', 'Viral Pneumonia-1305.png', 'Viral Pneumonia-1306.png', 'Viral Pneumonia-1307.png', 'Viral Pneumonia-1308.png', 'Viral Pneumonia-1309.png', 'Viral Pneumonia-131.png', 'Viral Pneumonia-1310.png', 'Viral Pneumonia-1311.png', 'Viral Pneumonia-1312.png', 'Viral Pneumonia-1313.png', 'Viral Pneumonia-1314.png', 'Viral Pneumonia-1315.png', 'Viral Pneumonia-1316.png', 'Viral Pneumonia-1317.png', 'Viral Pneumonia-1318.png', 'Viral Pneumonia-1319.png', 'Viral Pneumonia-132.png', 'Viral Pneumonia-1320.png', 'Viral Pneumonia-1321.png', 'Viral Pneumonia-1322.png', 'Viral Pneumonia-1323.png', 'Viral Pneumonia-1324.png', 'Viral Pneumonia-1325.png', 'Viral Pneumonia-1326.png', 'Viral Pneumonia-1327.png', 'Viral Pneumonia-1328.png', 'Viral Pneumonia-1329.png', 'Viral Pneumonia-133.png', 'Viral Pneumonia-1330.png', 'Viral Pneumonia-1331.png', 'Viral Pneumonia-1332.png', 'Viral Pneumonia-1333.png', 'Viral Pneumonia-1334.png', 'Viral Pneumonia-1335.png', 'Viral Pneumonia-1336.png', 'Viral Pneumonia-1337.png', 'Viral Pneumonia-1338.png', 'Viral Pneumonia-1339.png', 'Viral Pneumonia-134.png', 'Viral Pneumonia-1340.png', 'Viral Pneumonia-1341.png', 'Viral Pneumonia-1342.png', 'Viral Pneumonia-1343.png', 'Viral Pneumonia-1344.png', 'Viral Pneumonia-1345.png', 'Viral Pneumonia-135.png', 'Viral Pneumonia-136.png', 'Viral Pneumonia-137.png', 'Viral Pneumonia-138.png', 'Viral Pneumonia-139.png', 'Viral Pneumonia-14.png', 'Viral Pneumonia-140.png', 'Viral Pneumonia-141.png', 'Viral Pneumonia-142.png', 'Viral Pneumonia-143.png', 'Viral Pneumonia-144.png', 'Viral Pneumonia-145.png', 'Viral Pneumonia-146.png', 'Viral Pneumonia-147.png', 'Viral Pneumonia-148.png', 'Viral Pneumonia-149.png', 'Viral Pneumonia-15.png', 'Viral Pneumonia-150.png', 'Viral Pneumonia-151.png', 'Viral Pneumonia-152.png', 'Viral Pneumonia-153.png', 'Viral Pneumonia-154.png', 'Viral Pneumonia-155.png', 'Viral Pneumonia-156.png', 'Viral Pneumonia-157.png', 'Viral Pneumonia-158.png', 'Viral Pneumonia-159.png', 'Viral Pneumonia-16.png', 'Viral Pneumonia-160.png', 'Viral Pneumonia-161.png', 'Viral Pneumonia-162.png', 'Viral Pneumonia-163.png', 'Viral Pneumonia-164.png', 'Viral Pneumonia-165.png', 'Viral Pneumonia-166.png', 'Viral Pneumonia-167.png', 'Viral Pneumonia-168.png', 'Viral Pneumonia-169.png', 'Viral Pneumonia-17.png', 'Viral Pneumonia-170.png', 'Viral Pneumonia-171.png', 'Viral Pneumonia-172.png', 'Viral Pneumonia-173.png', 'Viral Pneumonia-174.png', 'Viral Pneumonia-175.png', 'Viral Pneumonia-176.png', 'Viral Pneumonia-177.png', 'Viral Pneumonia-178.png', 'Viral Pneumonia-179.png', 'Viral Pneumonia-18.png', 'Viral Pneumonia-180.png', 'Viral Pneumonia-181.png', 'Viral Pneumonia-182.png', 'Viral Pneumonia-183.png', 'Viral Pneumonia-184.png', 'Viral Pneumonia-185.png', 'Viral Pneumonia-186.png', 'Viral Pneumonia-187.png', 'Viral Pneumonia-188.png', 'Viral Pneumonia-189.png', 'Viral Pneumonia-19.png', 'Viral Pneumonia-190.png', 'Viral Pneumonia-191.png', 'Viral Pneumonia-192.png', 'Viral Pneumonia-193.png', 'Viral Pneumonia-194.png', 'Viral Pneumonia-195.png', 'Viral Pneumonia-196.png', 'Viral Pneumonia-197.png', 'Viral Pneumonia-198.png', 'Viral Pneumonia-199.png', 'Viral Pneumonia-2.png', 'Viral Pneumonia-20.png', 'Viral Pneumonia-200.png', 'Viral Pneumonia-201.png', 'Viral Pneumonia-202.png', 'Viral Pneumonia-203.png', 'Viral Pneumonia-204.png', 'Viral Pneumonia-205.png', 'Viral Pneumonia-206.png', 'Viral Pneumonia-207.png', 'Viral Pneumonia-208.png', 'Viral Pneumonia-209.png', 'Viral Pneumonia-21.png', 'Viral Pneumonia-210.png', 'Viral Pneumonia-211.png', 'Viral Pneumonia-212.png', 'Viral Pneumonia-213.png', 'Viral Pneumonia-214.png', 'Viral Pneumonia-215.png', 'Viral Pneumonia-216.png', 'Viral Pneumonia-217.png', 'Viral Pneumonia-218.png', 'Viral Pneumonia-219.png', 'Viral Pneumonia-22.png', 'Viral Pneumonia-220.png', 'Viral Pneumonia-221.png', 'Viral Pneumonia-222.png', 'Viral Pneumonia-223.png', 'Viral Pneumonia-224.png', 'Viral Pneumonia-225.png', 'Viral Pneumonia-226.png', 'Viral Pneumonia-227.png', 'Viral Pneumonia-228.png', 'Viral Pneumonia-229.png', 'Viral Pneumonia-23.png', 'Viral Pneumonia-230.png', 'Viral Pneumonia-231.png', 'Viral Pneumonia-232.png', 'Viral Pneumonia-233.png', 'Viral Pneumonia-234.png', 'Viral Pneumonia-235.png', 'Viral Pneumonia-236.png', 'Viral Pneumonia-237.png', 'Viral Pneumonia-238.png', 'Viral Pneumonia-239.png', 'Viral Pneumonia-24.png', 'Viral Pneumonia-240.png', 'Viral Pneumonia-241.png', 'Viral Pneumonia-242.png', 'Viral Pneumonia-243.png', 'Viral Pneumonia-244.png', 'Viral Pneumonia-245.png', 'Viral Pneumonia-246.png', 'Viral Pneumonia-247.png', 'Viral Pneumonia-248.png', 'Viral Pneumonia-249.png', 'Viral Pneumonia-25.png', 'Viral Pneumonia-250.png', 'Viral Pneumonia-251.png', 'Viral Pneumonia-252.png', 'Viral Pneumonia-253.png', 'Viral Pneumonia-254.png', 'Viral Pneumonia-255.png', 'Viral Pneumonia-256.png', 'Viral Pneumonia-257.png', 'Viral Pneumonia-258.png', 'Viral Pneumonia-259.png', 'Viral Pneumonia-26.png', 'Viral Pneumonia-260.png', 'Viral Pneumonia-261.png', 'Viral Pneumonia-262.png', 'Viral Pneumonia-263.png', 'Viral Pneumonia-264.png', 'Viral Pneumonia-265.png', 'Viral Pneumonia-266.png', 'Viral Pneumonia-267.png', 'Viral Pneumonia-268.png', 'Viral Pneumonia-269.png', 'Viral Pneumonia-27.png', 'Viral Pneumonia-270.png', 'Viral Pneumonia-271.png', 'Viral Pneumonia-272.png', 'Viral Pneumonia-273.png', 'Viral Pneumonia-274.png', 'Viral Pneumonia-275.png', 'Viral Pneumonia-276.png', 'Viral Pneumonia-277.png', 'Viral Pneumonia-278.png', 'Viral Pneumonia-279.png', 'Viral Pneumonia-28.png', 'Viral Pneumonia-280.png', 'Viral Pneumonia-281.png', 'Viral Pneumonia-282.png', 'Viral Pneumonia-283.png', 'Viral Pneumonia-284.png', 'Viral Pneumonia-285.png', 'Viral Pneumonia-286.png', 'Viral Pneumonia-287.png', 'Viral Pneumonia-288.png', 'Viral Pneumonia-289.png', 'Viral Pneumonia-29.png', 'Viral Pneumonia-290.png', 'Viral Pneumonia-291.png', 'Viral Pneumonia-292.png', 'Viral Pneumonia-293.png', 'Viral Pneumonia-294.png', 'Viral Pneumonia-295.png', 'Viral Pneumonia-296.png', 'Viral Pneumonia-297.png', 'Viral Pneumonia-298.png', 'Viral Pneumonia-299.png', 'Viral Pneumonia-3.png', 'Viral Pneumonia-30.png', 'Viral Pneumonia-300.png', 'Viral Pneumonia-301.png', 'Viral Pneumonia-302.png', 'Viral Pneumonia-303.png', 'Viral Pneumonia-304.png', 'Viral Pneumonia-305.png', 'Viral Pneumonia-306.png', 'Viral Pneumonia-307.png', 'Viral Pneumonia-308.png', 'Viral Pneumonia-309.png', 'Viral Pneumonia-31.png', 'Viral Pneumonia-310.png', 'Viral Pneumonia-311.png', 'Viral Pneumonia-312.png', 'Viral Pneumonia-313.png', 'Viral Pneumonia-314.png', 'Viral Pneumonia-315.png', 'Viral Pneumonia-316.png', 'Viral Pneumonia-317.png', 'Viral Pneumonia-318.png', 'Viral Pneumonia-319.png', 'Viral Pneumonia-32.png', 'Viral Pneumonia-320.png', 'Viral Pneumonia-321.png', 'Viral Pneumonia-322.png', 'Viral Pneumonia-323.png', 'Viral Pneumonia-324.png', 'Viral Pneumonia-325.png', 'Viral Pneumonia-326.png', 'Viral Pneumonia-327.png', 'Viral Pneumonia-328.png', 'Viral Pneumonia-329.png', 'Viral Pneumonia-33.png', 'Viral Pneumonia-330.png', 'Viral Pneumonia-331.png', 'Viral Pneumonia-332.png', 'Viral Pneumonia-333.png', 'Viral Pneumonia-334.png', 'Viral Pneumonia-335.png', 'Viral Pneumonia-336.png', 'Viral Pneumonia-337.png', 'Viral Pneumonia-338.png', 'Viral Pneumonia-339.png', 'Viral Pneumonia-34.png', 'Viral Pneumonia-340.png', 'Viral Pneumonia-341.png', 'Viral Pneumonia-342.png', 'Viral Pneumonia-343.png', 'Viral Pneumonia-344.png', 'Viral Pneumonia-345.png', 'Viral Pneumonia-346.png', 'Viral Pneumonia-347.png', 'Viral Pneumonia-348.png', 'Viral Pneumonia-349.png', 'Viral Pneumonia-35.png', 'Viral Pneumonia-350.png', 'Viral Pneumonia-351.png', 'Viral Pneumonia-352.png', 'Viral Pneumonia-353.png', 'Viral Pneumonia-354.png', 'Viral Pneumonia-355.png', 'Viral Pneumonia-356.png', 'Viral Pneumonia-357.png', 'Viral Pneumonia-358.png', 'Viral Pneumonia-359.png', 'Viral Pneumonia-36.png', 'Viral Pneumonia-360.png', 'Viral Pneumonia-361.png', 'Viral Pneumonia-362.png', 'Viral Pneumonia-363.png', 'Viral Pneumonia-364.png', 'Viral Pneumonia-365.png', 'Viral Pneumonia-366.png', 'Viral Pneumonia-367.png', 'Viral Pneumonia-368.png', 'Viral Pneumonia-369.png', 'Viral Pneumonia-37.png', 'Viral Pneumonia-370.png', 'Viral Pneumonia-371.png', 'Viral Pneumonia-372.png', 'Viral Pneumonia-373.png', 'Viral Pneumonia-374.png', 'Viral Pneumonia-375.png', 'Viral Pneumonia-376.png', 'Viral Pneumonia-377.png', 'Viral Pneumonia-378.png', 'Viral Pneumonia-379.png', 'Viral Pneumonia-38.png', 'Viral Pneumonia-380.png', 'Viral Pneumonia-381.png', 'Viral Pneumonia-382.png', 'Viral Pneumonia-383.png', 'Viral Pneumonia-384.png', 'Viral Pneumonia-385.png', 'Viral Pneumonia-386.png', 'Viral Pneumonia-387.png', 'Viral Pneumonia-388.png', 'Viral Pneumonia-389.png', 'Viral Pneumonia-39.png', 'Viral Pneumonia-390.png', 'Viral Pneumonia-391.png', 'Viral Pneumonia-392.png', 'Viral Pneumonia-393.png', 'Viral Pneumonia-394.png', 'Viral Pneumonia-395.png', 'Viral Pneumonia-396.png', 'Viral Pneumonia-397.png', 'Viral Pneumonia-398.png', 'Viral Pneumonia-399.png', 'Viral Pneumonia-4.png', 'Viral Pneumonia-40.png', 'Viral Pneumonia-400.png', 'Viral Pneumonia-401.png', 'Viral Pneumonia-402.png', 'Viral Pneumonia-403.png', 'Viral Pneumonia-404.png', 'Viral Pneumonia-405.png', 'Viral Pneumonia-406.png', 'Viral Pneumonia-407.png', 'Viral Pneumonia-408.png', 'Viral Pneumonia-409.png', 'Viral Pneumonia-41.png', 'Viral Pneumonia-410.png', 'Viral Pneumonia-411.png', 'Viral Pneumonia-412.png', 'Viral Pneumonia-413.png', 'Viral Pneumonia-414.png', 'Viral Pneumonia-415.png', 'Viral Pneumonia-416.png', 'Viral Pneumonia-417.png', 'Viral Pneumonia-418.png', 'Viral Pneumonia-419.png', 'Viral Pneumonia-42.png', 'Viral Pneumonia-420.png', 'Viral Pneumonia-421.png', 'Viral Pneumonia-422.png', 'Viral Pneumonia-423.png', 'Viral Pneumonia-424.png', 'Viral Pneumonia-425.png', 'Viral Pneumonia-426.png', 'Viral Pneumonia-427.png', 'Viral Pneumonia-428.png', 'Viral Pneumonia-429.png', 'Viral Pneumonia-43.png', 'Viral Pneumonia-430.png', 'Viral Pneumonia-431.png', 'Viral Pneumonia-432.png', 'Viral Pneumonia-433.png', 'Viral Pneumonia-434.png', 'Viral Pneumonia-435.png', 'Viral Pneumonia-436.png', 'Viral Pneumonia-437.png', 'Viral Pneumonia-438.png', 'Viral Pneumonia-439.png', 'Viral Pneumonia-44.png', 'Viral Pneumonia-440.png', 'Viral Pneumonia-441.png', 'Viral Pneumonia-442.png', 'Viral Pneumonia-443.png', 'Viral Pneumonia-444.png', 'Viral Pneumonia-445.png', 'Viral Pneumonia-446.png', 'Viral Pneumonia-447.png', 'Viral Pneumonia-448.png', 'Viral Pneumonia-449.png', 'Viral Pneumonia-45.png', 'Viral Pneumonia-450.png', 'Viral Pneumonia-451.png', 'Viral Pneumonia-452.png', 'Viral Pneumonia-453.png', 'Viral Pneumonia-454.png', 'Viral Pneumonia-455.png', 'Viral Pneumonia-456.png', 'Viral Pneumonia-457.png', 'Viral Pneumonia-458.png', 'Viral Pneumonia-459.png', 'Viral Pneumonia-46.png', 'Viral Pneumonia-460.png', 'Viral Pneumonia-461.png', 'Viral Pneumonia-462.png', 'Viral Pneumonia-463.png', 'Viral Pneumonia-464.png', 'Viral Pneumonia-465.png', 'Viral Pneumonia-466.png', 'Viral Pneumonia-467.png', 'Viral Pneumonia-468.png', 'Viral Pneumonia-469.png', 'Viral Pneumonia-47.png', 'Viral Pneumonia-470.png', 'Viral Pneumonia-471.png', 'Viral Pneumonia-472.png', 'Viral Pneumonia-473.png', 'Viral Pneumonia-474.png', 'Viral Pneumonia-475.png', 'Viral Pneumonia-476.png', 'Viral Pneumonia-477.png', 'Viral Pneumonia-478.png', 'Viral Pneumonia-479.png', 'Viral Pneumonia-48.png', 'Viral Pneumonia-480.png', 'Viral Pneumonia-481.png', 'Viral Pneumonia-482.png', 'Viral Pneumonia-483.png', 'Viral Pneumonia-484.png', 'Viral Pneumonia-485.png', 'Viral Pneumonia-486.png', 'Viral Pneumonia-487.png', 'Viral Pneumonia-488.png', 'Viral Pneumonia-489.png', 'Viral Pneumonia-49.png', 'Viral Pneumonia-490.png', 'Viral Pneumonia-491.png', 'Viral Pneumonia-492.png', 'Viral Pneumonia-493.png', 'Viral Pneumonia-494.png', 'Viral Pneumonia-495.png', 'Viral Pneumonia-496.png', 'Viral Pneumonia-497.png', 'Viral Pneumonia-498.png', 'Viral Pneumonia-499.png', 'Viral Pneumonia-5.png', 'Viral Pneumonia-50.png', 'Viral Pneumonia-500.png', 'Viral Pneumonia-501.png', 'Viral Pneumonia-502.png', 'Viral Pneumonia-503.png', 'Viral Pneumonia-504.png', 'Viral Pneumonia-505.png', 'Viral Pneumonia-506.png', 'Viral Pneumonia-507.png', 'Viral Pneumonia-508.png', 'Viral Pneumonia-509.png', 'Viral Pneumonia-51.png', 'Viral Pneumonia-510.png', 'Viral Pneumonia-511.png', 'Viral Pneumonia-512.png', 'Viral Pneumonia-513.png', 'Viral Pneumonia-514.png', 'Viral Pneumonia-515.png', 'Viral Pneumonia-516.png', 'Viral Pneumonia-517.png', 'Viral Pneumonia-518.png', 'Viral Pneumonia-519.png', 'Viral Pneumonia-52.png', 'Viral Pneumonia-520.png', 'Viral Pneumonia-521.png', 'Viral Pneumonia-522.png', 'Viral Pneumonia-523.png', 'Viral Pneumonia-524.png', 'Viral Pneumonia-525.png', 'Viral Pneumonia-526.png', 'Viral Pneumonia-527.png', 'Viral Pneumonia-528.png', 'Viral Pneumonia-529.png', 'Viral Pneumonia-53.png', 'Viral Pneumonia-530.png', 'Viral Pneumonia-531.png', 'Viral Pneumonia-532.png', 'Viral Pneumonia-533.png', 'Viral Pneumonia-534.png', 'Viral Pneumonia-535.png', 'Viral Pneumonia-536.png', 'Viral Pneumonia-537.png', 'Viral Pneumonia-538.png', 'Viral Pneumonia-539.png', 'Viral Pneumonia-54.png', 'Viral Pneumonia-540.png', 'Viral Pneumonia-541.png', 'Viral Pneumonia-542.png', 'Viral Pneumonia-543.png', 'Viral Pneumonia-544.png', 'Viral Pneumonia-545.png', 'Viral Pneumonia-546.png', 'Viral Pneumonia-547.png', 'Viral Pneumonia-548.png', 'Viral Pneumonia-549.png', 'Viral Pneumonia-55.png', 'Viral Pneumonia-550.png', 'Viral Pneumonia-551.png', 'Viral Pneumonia-552.png', 'Viral Pneumonia-553.png', 'Viral Pneumonia-554.png', 'Viral Pneumonia-555.png', 'Viral Pneumonia-556.png', 'Viral Pneumonia-557.png', 'Viral Pneumonia-558.png', 'Viral Pneumonia-559.png', 'Viral Pneumonia-56.png', 'Viral Pneumonia-560.png', 'Viral Pneumonia-561.png', 'Viral Pneumonia-562.png', 'Viral Pneumonia-563.png', 'Viral Pneumonia-564.png', 'Viral Pneumonia-565.png', 'Viral Pneumonia-566.png', 'Viral Pneumonia-567.png', 'Viral Pneumonia-568.png', 'Viral Pneumonia-569.png', 'Viral Pneumonia-57.png', 'Viral Pneumonia-570.png', 'Viral Pneumonia-571.png', 'Viral Pneumonia-572.png', 'Viral Pneumonia-573.png', 'Viral Pneumonia-574.png', 'Viral Pneumonia-575.png', 'Viral Pneumonia-576.png', 'Viral Pneumonia-577.png', 'Viral Pneumonia-578.png', 'Viral Pneumonia-579.png', 'Viral Pneumonia-58.png', 'Viral Pneumonia-580.png', 'Viral Pneumonia-581.png', 'Viral Pneumonia-582.png', 'Viral Pneumonia-583.png', 'Viral Pneumonia-584.png', 'Viral Pneumonia-585.png', 'Viral Pneumonia-586.png', 'Viral Pneumonia-587.png', 'Viral Pneumonia-588.png', 'Viral Pneumonia-589.png', 'Viral Pneumonia-59.png', 'Viral Pneumonia-590.png', 'Viral Pneumonia-591.png', 'Viral Pneumonia-592.png', 'Viral Pneumonia-593.png', 'Viral Pneumonia-594.png', 'Viral Pneumonia-595.png', 'Viral Pneumonia-596.png', 'Viral Pneumonia-597.png', 'Viral Pneumonia-598.png', 'Viral Pneumonia-599.png', 'Viral Pneumonia-6.png', 'Viral Pneumonia-60.png', 'Viral Pneumonia-600.png', 'Viral Pneumonia-601.png', 'Viral Pneumonia-602.png', 'Viral Pneumonia-603.png', 'Viral Pneumonia-604.png', 'Viral Pneumonia-605.png', 'Viral Pneumonia-606.png', 'Viral Pneumonia-607.png', 'Viral Pneumonia-608.png', 'Viral Pneumonia-609.png', 'Viral Pneumonia-61.png', 'Viral Pneumonia-610.png', 'Viral Pneumonia-611.png', 'Viral Pneumonia-612.png', 'Viral Pneumonia-613.png', 'Viral Pneumonia-614.png', 'Viral Pneumonia-615.png', 'Viral Pneumonia-616.png', 'Viral Pneumonia-617.png', 'Viral Pneumonia-618.png', 'Viral Pneumonia-619.png', 'Viral Pneumonia-62.png', 'Viral Pneumonia-620.png', 'Viral Pneumonia-621.png', 'Viral Pneumonia-622.png', 'Viral Pneumonia-623.png', 'Viral Pneumonia-624.png', 'Viral Pneumonia-625.png', 'Viral Pneumonia-626.png', 'Viral Pneumonia-627.png', 'Viral Pneumonia-628.png', 'Viral Pneumonia-629.png', 'Viral Pneumonia-63.png', 'Viral Pneumonia-630.png', 'Viral Pneumonia-631.png', 'Viral Pneumonia-632.png', 'Viral Pneumonia-633.png', 'Viral Pneumonia-634.png', 'Viral Pneumonia-635.png', 'Viral Pneumonia-636.png', 'Viral Pneumonia-637.png', 'Viral Pneumonia-638.png', 'Viral Pneumonia-639.png', 'Viral Pneumonia-64.png', 'Viral Pneumonia-640.png', 'Viral Pneumonia-641.png', 'Viral Pneumonia-642.png', 'Viral Pneumonia-643.png', 'Viral Pneumonia-644.png', 'Viral Pneumonia-645.png', 'Viral Pneumonia-646.png', 'Viral Pneumonia-647.png', 'Viral Pneumonia-648.png', 'Viral Pneumonia-649.png', 'Viral Pneumonia-65.png', 'Viral Pneumonia-650.png', 'Viral Pneumonia-651.png', 'Viral Pneumonia-652.png', 'Viral Pneumonia-653.png', 'Viral Pneumonia-654.png', 'Viral Pneumonia-655.png', 'Viral Pneumonia-656.png', 'Viral Pneumonia-657.png', 'Viral Pneumonia-658.png', 'Viral Pneumonia-659.png', 'Viral Pneumonia-66.png', 'Viral Pneumonia-660.png', 'Viral Pneumonia-661.png', 'Viral Pneumonia-662.png', 'Viral Pneumonia-663.png', 'Viral Pneumonia-664.png', 'Viral Pneumonia-665.png', 'Viral Pneumonia-666.png', 'Viral Pneumonia-667.png', 'Viral Pneumonia-668.png', 'Viral Pneumonia-669.png', 'Viral Pneumonia-67.png', 'Viral Pneumonia-670.png', 'Viral Pneumonia-671.png', 'Viral Pneumonia-672.png', 'Viral Pneumonia-673.png', 'Viral Pneumonia-674.png', 'Viral Pneumonia-675.png', 'Viral Pneumonia-676.png', 'Viral Pneumonia-677.png', 'Viral Pneumonia-678.png', 'Viral Pneumonia-679.png', 'Viral Pneumonia-68.png', 'Viral Pneumonia-680.png', 'Viral Pneumonia-681.png', 'Viral Pneumonia-682.png', 'Viral Pneumonia-683.png', 'Viral Pneumonia-684.png', 'Viral Pneumonia-685.png', 'Viral Pneumonia-686.png', 'Viral Pneumonia-687.png', 'Viral Pneumonia-688.png', 'Viral Pneumonia-689.png', 'Viral Pneumonia-69.png', 'Viral Pneumonia-690.png', 'Viral Pneumonia-691.png', 'Viral Pneumonia-692.png', 'Viral Pneumonia-693.png', 'Viral Pneumonia-694.png', 'Viral Pneumonia-695.png', 'Viral Pneumonia-696.png', 'Viral Pneumonia-697.png', 'Viral Pneumonia-698.png', 'Viral Pneumonia-699.png', 'Viral Pneumonia-7.png', 'Viral Pneumonia-70.png', 'Viral Pneumonia-700.png', 'Viral Pneumonia-701.png', 'Viral Pneumonia-702.png', 'Viral Pneumonia-703.png', 'Viral Pneumonia-704.png', 'Viral Pneumonia-705.png', 'Viral Pneumonia-706.png', 'Viral Pneumonia-707.png', 'Viral Pneumonia-708.png', 'Viral Pneumonia-709.png', 'Viral Pneumonia-71.png', 'Viral Pneumonia-710.png', 'Viral Pneumonia-711.png', 'Viral Pneumonia-712.png', 'Viral Pneumonia-713.png', 'Viral Pneumonia-714.png', 'Viral Pneumonia-715.png', 'Viral Pneumonia-716.png', 'Viral Pneumonia-717.png', 'Viral Pneumonia-718.png', 'Viral Pneumonia-719.png', 'Viral Pneumonia-72.png', 'Viral Pneumonia-720.png', 'Viral Pneumonia-721.png', 'Viral Pneumonia-722.png', 'Viral Pneumonia-723.png', 'Viral Pneumonia-724.png', 'Viral Pneumonia-725.png', 'Viral Pneumonia-726.png', 'Viral Pneumonia-727.png', 'Viral Pneumonia-728.png', 'Viral Pneumonia-729.png', 'Viral Pneumonia-73.png', 'Viral Pneumonia-730.png', 'Viral Pneumonia-731.png', 'Viral Pneumonia-732.png', 'Viral Pneumonia-733.png', 'Viral Pneumonia-734.png', 'Viral Pneumonia-735.png', 'Viral Pneumonia-736.png', 'Viral Pneumonia-737.png', 'Viral Pneumonia-738.png', 'Viral Pneumonia-739.png', 'Viral Pneumonia-74.png', 'Viral Pneumonia-740.png', 'Viral Pneumonia-741.png', 'Viral Pneumonia-742.png', 'Viral Pneumonia-743.png', 'Viral Pneumonia-744.png', 'Viral Pneumonia-745.png', 'Viral Pneumonia-746.png', 'Viral Pneumonia-747.png', 'Viral Pneumonia-748.png', 'Viral Pneumonia-749.png', 'Viral Pneumonia-75.png', 'Viral Pneumonia-750.png', 'Viral Pneumonia-751.png', 'Viral Pneumonia-752.png', 'Viral Pneumonia-753.png', 'Viral Pneumonia-754.png', 'Viral Pneumonia-755.png', 'Viral Pneumonia-756.png', 'Viral Pneumonia-757.png', 'Viral Pneumonia-758.png', 'Viral Pneumonia-759.png', 'Viral Pneumonia-76.png', 'Viral Pneumonia-760.png', 'Viral Pneumonia-761.png', 'Viral Pneumonia-762.png', 'Viral Pneumonia-763.png', 'Viral Pneumonia-764.png', 'Viral Pneumonia-765.png', 'Viral Pneumonia-766.png', 'Viral Pneumonia-767.png', 'Viral Pneumonia-768.png', 'Viral Pneumonia-769.png', 'Viral Pneumonia-77.png', 'Viral Pneumonia-770.png', 'Viral Pneumonia-771.png', 'Viral Pneumonia-772.png', 'Viral Pneumonia-773.png', 'Viral Pneumonia-774.png', 'Viral Pneumonia-775.png', 'Viral Pneumonia-776.png', 'Viral Pneumonia-777.png', 'Viral Pneumonia-778.png', 'Viral Pneumonia-779.png', 'Viral Pneumonia-78.png', 'Viral Pneumonia-780.png', 'Viral Pneumonia-781.png', 'Viral Pneumonia-782.png', 'Viral Pneumonia-783.png', 'Viral Pneumonia-784.png', 'Viral Pneumonia-785.png', 'Viral Pneumonia-786.png', 'Viral Pneumonia-787.png', 'Viral Pneumonia-788.png', 'Viral Pneumonia-789.png', 'Viral Pneumonia-79.png', 'Viral Pneumonia-790.png', 'Viral Pneumonia-791.png', 'Viral Pneumonia-792.png', 'Viral Pneumonia-793.png', 'Viral Pneumonia-794.png', 'Viral Pneumonia-795.png', 'Viral Pneumonia-796.png', 'Viral Pneumonia-797.png', 'Viral Pneumonia-798.png', 'Viral Pneumonia-799.png', 'Viral Pneumonia-8.png', 'Viral Pneumonia-80.png', 'Viral Pneumonia-800.png', 'Viral Pneumonia-801.png', 'Viral Pneumonia-802.png', 'Viral Pneumonia-803.png', 'Viral Pneumonia-804.png', 'Viral Pneumonia-805.png', 'Viral Pneumonia-806.png', 'Viral Pneumonia-807.png', 'Viral Pneumonia-808.png', 'Viral Pneumonia-809.png', 'Viral Pneumonia-81.png', 'Viral Pneumonia-810.png', 'Viral Pneumonia-811.png', 'Viral Pneumonia-812.png', 'Viral Pneumonia-813.png', 'Viral Pneumonia-814.png', 'Viral Pneumonia-815.png', 'Viral Pneumonia-816.png', 'Viral Pneumonia-817.png', 'Viral Pneumonia-818.png', 'Viral Pneumonia-819.png', 'Viral Pneumonia-82.png', 'Viral Pneumonia-820.png', 'Viral Pneumonia-821.png', 'Viral Pneumonia-822.png', 'Viral Pneumonia-823.png', 'Viral Pneumonia-824.png', 'Viral Pneumonia-825.png', 'Viral Pneumonia-826.png', 'Viral Pneumonia-827.png', 'Viral Pneumonia-828.png', 'Viral Pneumonia-829.png', 'Viral Pneumonia-83.png', 'Viral Pneumonia-830.png', 'Viral Pneumonia-831.png', 'Viral Pneumonia-832.png', 'Viral Pneumonia-833.png', 'Viral Pneumonia-834.png', 'Viral Pneumonia-835.png', 'Viral Pneumonia-836.png', 'Viral Pneumonia-837.png', 'Viral Pneumonia-838.png', 'Viral Pneumonia-839.png', 'Viral Pneumonia-84.png', 'Viral Pneumonia-840.png', 'Viral Pneumonia-841.png', 'Viral Pneumonia-842.png', 'Viral Pneumonia-843.png', 'Viral Pneumonia-844.png', 'Viral Pneumonia-845.png', 'Viral Pneumonia-846.png', 'Viral Pneumonia-847.png', 'Viral Pneumonia-848.png', 'Viral Pneumonia-849.png', 'Viral Pneumonia-85.png', 'Viral Pneumonia-850.png', 'Viral Pneumonia-851.png', 'Viral Pneumonia-852.png', 'Viral Pneumonia-853.png', 'Viral Pneumonia-854.png', 'Viral Pneumonia-855.png', 'Viral Pneumonia-856.png', 'Viral Pneumonia-857.png', 'Viral Pneumonia-858.png', 'Viral Pneumonia-859.png', 'Viral Pneumonia-86.png', 'Viral Pneumonia-860.png', 'Viral Pneumonia-861.png', 'Viral Pneumonia-862.png', 'Viral Pneumonia-863.png', 'Viral Pneumonia-864.png', 'Viral Pneumonia-865.png', 'Viral Pneumonia-866.png', 'Viral Pneumonia-867.png', 'Viral Pneumonia-868.png', 'Viral Pneumonia-869.png', 'Viral Pneumonia-87.png', 'Viral Pneumonia-870.png', 'Viral Pneumonia-871.png', 'Viral Pneumonia-872.png', 'Viral Pneumonia-873.png', 'Viral Pneumonia-874.png', 'Viral Pneumonia-875.png', 'Viral Pneumonia-876.png', 'Viral Pneumonia-877.png', 'Viral Pneumonia-878.png', 'Viral Pneumonia-879.png', 'Viral Pneumonia-88.png', 'Viral Pneumonia-880.png', 'Viral Pneumonia-881.png', 'Viral Pneumonia-882.png', 'Viral Pneumonia-883.png', 'Viral Pneumonia-884.png', 'Viral Pneumonia-885.png', 'Viral Pneumonia-886.png', 'Viral Pneumonia-887.png', 'Viral Pneumonia-888.png', 'Viral Pneumonia-889.png', 'Viral Pneumonia-89.png', 'Viral Pneumonia-890.png', 'Viral Pneumonia-891.png', 'Viral Pneumonia-892.png', 'Viral Pneumonia-893.png', 'Viral Pneumonia-894.png', 'Viral Pneumonia-895.png', 'Viral Pneumonia-896.png', 'Viral Pneumonia-897.png', 'Viral Pneumonia-898.png', 'Viral Pneumonia-899.png', 'Viral Pneumonia-9.png', 'Viral Pneumonia-90.png', 'Viral Pneumonia-900.png', 'Viral Pneumonia-901.png', 'Viral Pneumonia-902.png', 'Viral Pneumonia-903.png', 'Viral Pneumonia-904.png', 'Viral Pneumonia-905.png', 'Viral Pneumonia-906.png', 'Viral Pneumonia-907.png', 'Viral Pneumonia-908.png', 'Viral Pneumonia-909.png', 'Viral Pneumonia-91.png', 'Viral Pneumonia-910.png', 'Viral Pneumonia-911.png', 'Viral Pneumonia-912.png', 'Viral Pneumonia-913.png', 'Viral Pneumonia-914.png', 'Viral Pneumonia-915.png', 'Viral Pneumonia-916.png', 'Viral Pneumonia-917.png', 'Viral Pneumonia-918.png', 'Viral Pneumonia-919.png', 'Viral Pneumonia-92.png', 'Viral Pneumonia-920.png', 'Viral Pneumonia-921.png', 'Viral Pneumonia-922.png', 'Viral Pneumonia-923.png', 'Viral Pneumonia-924.png', 'Viral Pneumonia-925.png', 'Viral Pneumonia-926.png', 'Viral Pneumonia-927.png', 'Viral Pneumonia-928.png', 'Viral Pneumonia-929.png', 'Viral Pneumonia-93.png', 'Viral Pneumonia-930.png', 'Viral Pneumonia-931.png', 'Viral Pneumonia-932.png', 'Viral Pneumonia-933.png', 'Viral Pneumonia-934.png', 'Viral Pneumonia-935.png', 'Viral Pneumonia-936.png', 'Viral Pneumonia-937.png', 'Viral Pneumonia-938.png', 'Viral Pneumonia-939.png', 'Viral Pneumonia-94.png', 'Viral Pneumonia-940.png', 'Viral Pneumonia-941.png', 'Viral Pneumonia-942.png', 'Viral Pneumonia-943.png', 'Viral Pneumonia-944.png', 'Viral Pneumonia-945.png', 'Viral Pneumonia-946.png', 'Viral Pneumonia-947.png', 'Viral Pneumonia-948.png', 'Viral Pneumonia-949.png', 'Viral Pneumonia-95.png', 'Viral Pneumonia-950.png', 'Viral Pneumonia-951.png', 'Viral Pneumonia-952.png', 'Viral Pneumonia-953.png', 'Viral Pneumonia-954.png', 'Viral Pneumonia-955.png', 'Viral Pneumonia-956.png', 'Viral Pneumonia-957.png', 'Viral Pneumonia-958.png', 'Viral Pneumonia-959.png', 'Viral Pneumonia-96.png', 'Viral Pneumonia-960.png', 'Viral Pneumonia-961.png', 'Viral Pneumonia-962.png', 'Viral Pneumonia-963.png', 'Viral Pneumonia-964.png', 'Viral Pneumonia-965.png', 'Viral Pneumonia-966.png', 'Viral Pneumonia-967.png', 'Viral Pneumonia-968.png', 'Viral Pneumonia-969.png', 'Viral Pneumonia-97.png', 'Viral Pneumonia-970.png', 'Viral Pneumonia-971.png', 'Viral Pneumonia-972.png', 'Viral Pneumonia-973.png', 'Viral Pneumonia-974.png', 'Viral Pneumonia-975.png', 'Viral Pneumonia-976.png', 'Viral Pneumonia-977.png', 'Viral Pneumonia-978.png', 'Viral Pneumonia-979.png', 'Viral Pneumonia-98.png', 'Viral Pneumonia-980.png', 'Viral Pneumonia-981.png', 'Viral Pneumonia-982.png', 'Viral Pneumonia-983.png', 'Viral Pneumonia-984.png', 'Viral Pneumonia-985.png', 'Viral Pneumonia-986.png', 'Viral Pneumonia-987.png', 'Viral Pneumonia-988.png', 'Viral Pneumonia-989.png', 'Viral Pneumonia-99.png', 'Viral Pneumonia-990.png', 'Viral Pneumonia-991.png', 'Viral Pneumonia-992.png', 'Viral Pneumonia-993.png', 'Viral Pneumonia-994.png', 'Viral Pneumonia-995.png', 'Viral Pneumonia-996.png', 'Viral Pneumonia-997.png', 'Viral Pneumonia-998.png', 'Viral Pneumonia-999.png']\n"
     ]
    }
   ],
   "source": [
    "for path in os.listdir(pneu_main_dir):\n",
    "    # check if current path is a file\n",
    "    if os.path.isfile(os.path.join(pneu_main_dir, path)):\n",
    "        pneuFileNames.append(path)\n",
    "print(pneuFileNames)"
   ]
  },
  {
   "cell_type": "code",
   "execution_count": 50,
   "id": "e0d6ada2",
   "metadata": {},
   "outputs": [],
   "source": [
    "pneuFileNames = sorted(pneuFileNames, key=lambda x: int(x.split('-')[1].split('.')[0]))"
   ]
  },
  {
   "cell_type": "code",
   "execution_count": 51,
   "id": "fd84928c",
   "metadata": {},
   "outputs": [],
   "source": [
    "pneuFileNames4thset = pneuFileNames[int(len(pneuFileNames)*0.75):]"
   ]
  },
  {
   "cell_type": "code",
   "execution_count": 52,
   "id": "b39aff29",
   "metadata": {},
   "outputs": [
    {
     "data": {
      "text/plain": [
       "337"
      ]
     },
     "execution_count": 52,
     "metadata": {},
     "output_type": "execute_result"
    }
   ],
   "source": [
    "len(pneuFileNames4thset)"
   ]
  },
  {
   "cell_type": "code",
   "execution_count": 53,
   "id": "99ad2447",
   "metadata": {},
   "outputs": [
    {
     "name": "stdout",
     "output_type": "stream",
     "text": [
      "['Viral Pneumonia-1009.png', 'Viral Pneumonia-1010.png', 'Viral Pneumonia-1011.png', 'Viral Pneumonia-1012.png', 'Viral Pneumonia-1013.png', 'Viral Pneumonia-1014.png', 'Viral Pneumonia-1015.png', 'Viral Pneumonia-1016.png', 'Viral Pneumonia-1017.png', 'Viral Pneumonia-1018.png', 'Viral Pneumonia-1019.png', 'Viral Pneumonia-1020.png', 'Viral Pneumonia-1021.png', 'Viral Pneumonia-1022.png', 'Viral Pneumonia-1023.png', 'Viral Pneumonia-1024.png', 'Viral Pneumonia-1025.png', 'Viral Pneumonia-1026.png', 'Viral Pneumonia-1027.png', 'Viral Pneumonia-1028.png', 'Viral Pneumonia-1029.png', 'Viral Pneumonia-1030.png', 'Viral Pneumonia-1031.png', 'Viral Pneumonia-1032.png', 'Viral Pneumonia-1033.png', 'Viral Pneumonia-1034.png', 'Viral Pneumonia-1035.png', 'Viral Pneumonia-1036.png', 'Viral Pneumonia-1037.png', 'Viral Pneumonia-1038.png', 'Viral Pneumonia-1039.png', 'Viral Pneumonia-1040.png', 'Viral Pneumonia-1041.png', 'Viral Pneumonia-1042.png', 'Viral Pneumonia-1043.png', 'Viral Pneumonia-1044.png', 'Viral Pneumonia-1045.png', 'Viral Pneumonia-1046.png', 'Viral Pneumonia-1047.png', 'Viral Pneumonia-1048.png', 'Viral Pneumonia-1049.png', 'Viral Pneumonia-1050.png', 'Viral Pneumonia-1051.png', 'Viral Pneumonia-1052.png', 'Viral Pneumonia-1053.png', 'Viral Pneumonia-1054.png', 'Viral Pneumonia-1055.png', 'Viral Pneumonia-1056.png', 'Viral Pneumonia-1057.png', 'Viral Pneumonia-1058.png', 'Viral Pneumonia-1059.png', 'Viral Pneumonia-1060.png', 'Viral Pneumonia-1061.png', 'Viral Pneumonia-1062.png', 'Viral Pneumonia-1063.png', 'Viral Pneumonia-1064.png', 'Viral Pneumonia-1065.png', 'Viral Pneumonia-1066.png', 'Viral Pneumonia-1067.png', 'Viral Pneumonia-1068.png', 'Viral Pneumonia-1069.png', 'Viral Pneumonia-1070.png', 'Viral Pneumonia-1071.png', 'Viral Pneumonia-1072.png', 'Viral Pneumonia-1073.png', 'Viral Pneumonia-1074.png', 'Viral Pneumonia-1075.png', 'Viral Pneumonia-1076.png', 'Viral Pneumonia-1077.png', 'Viral Pneumonia-1078.png', 'Viral Pneumonia-1079.png', 'Viral Pneumonia-1080.png', 'Viral Pneumonia-1081.png', 'Viral Pneumonia-1082.png', 'Viral Pneumonia-1083.png', 'Viral Pneumonia-1084.png', 'Viral Pneumonia-1085.png', 'Viral Pneumonia-1086.png', 'Viral Pneumonia-1087.png', 'Viral Pneumonia-1088.png', 'Viral Pneumonia-1089.png', 'Viral Pneumonia-1090.png', 'Viral Pneumonia-1091.png', 'Viral Pneumonia-1092.png', 'Viral Pneumonia-1093.png', 'Viral Pneumonia-1094.png', 'Viral Pneumonia-1095.png', 'Viral Pneumonia-1096.png', 'Viral Pneumonia-1097.png', 'Viral Pneumonia-1098.png', 'Viral Pneumonia-1099.png', 'Viral Pneumonia-1100.png', 'Viral Pneumonia-1101.png', 'Viral Pneumonia-1102.png', 'Viral Pneumonia-1103.png', 'Viral Pneumonia-1104.png', 'Viral Pneumonia-1105.png', 'Viral Pneumonia-1106.png', 'Viral Pneumonia-1107.png', 'Viral Pneumonia-1108.png', 'Viral Pneumonia-1109.png', 'Viral Pneumonia-1110.png', 'Viral Pneumonia-1111.png', 'Viral Pneumonia-1112.png', 'Viral Pneumonia-1113.png', 'Viral Pneumonia-1114.png', 'Viral Pneumonia-1115.png', 'Viral Pneumonia-1116.png', 'Viral Pneumonia-1117.png', 'Viral Pneumonia-1118.png', 'Viral Pneumonia-1119.png', 'Viral Pneumonia-1120.png', 'Viral Pneumonia-1121.png', 'Viral Pneumonia-1122.png', 'Viral Pneumonia-1123.png', 'Viral Pneumonia-1124.png', 'Viral Pneumonia-1125.png', 'Viral Pneumonia-1126.png', 'Viral Pneumonia-1127.png', 'Viral Pneumonia-1128.png', 'Viral Pneumonia-1129.png', 'Viral Pneumonia-1130.png', 'Viral Pneumonia-1131.png', 'Viral Pneumonia-1132.png', 'Viral Pneumonia-1133.png', 'Viral Pneumonia-1134.png', 'Viral Pneumonia-1135.png', 'Viral Pneumonia-1136.png', 'Viral Pneumonia-1137.png', 'Viral Pneumonia-1138.png', 'Viral Pneumonia-1139.png', 'Viral Pneumonia-1140.png', 'Viral Pneumonia-1141.png', 'Viral Pneumonia-1142.png', 'Viral Pneumonia-1143.png', 'Viral Pneumonia-1144.png', 'Viral Pneumonia-1145.png', 'Viral Pneumonia-1146.png', 'Viral Pneumonia-1147.png', 'Viral Pneumonia-1148.png', 'Viral Pneumonia-1149.png', 'Viral Pneumonia-1150.png', 'Viral Pneumonia-1151.png', 'Viral Pneumonia-1152.png', 'Viral Pneumonia-1153.png', 'Viral Pneumonia-1154.png', 'Viral Pneumonia-1155.png', 'Viral Pneumonia-1156.png', 'Viral Pneumonia-1157.png', 'Viral Pneumonia-1158.png', 'Viral Pneumonia-1159.png', 'Viral Pneumonia-1160.png', 'Viral Pneumonia-1161.png', 'Viral Pneumonia-1162.png', 'Viral Pneumonia-1163.png', 'Viral Pneumonia-1164.png', 'Viral Pneumonia-1165.png', 'Viral Pneumonia-1166.png', 'Viral Pneumonia-1167.png', 'Viral Pneumonia-1168.png', 'Viral Pneumonia-1169.png', 'Viral Pneumonia-1170.png', 'Viral Pneumonia-1171.png', 'Viral Pneumonia-1172.png', 'Viral Pneumonia-1173.png', 'Viral Pneumonia-1174.png', 'Viral Pneumonia-1175.png', 'Viral Pneumonia-1176.png', 'Viral Pneumonia-1177.png', 'Viral Pneumonia-1178.png', 'Viral Pneumonia-1179.png', 'Viral Pneumonia-1180.png', 'Viral Pneumonia-1181.png', 'Viral Pneumonia-1182.png', 'Viral Pneumonia-1183.png', 'Viral Pneumonia-1184.png', 'Viral Pneumonia-1185.png', 'Viral Pneumonia-1186.png', 'Viral Pneumonia-1187.png', 'Viral Pneumonia-1188.png', 'Viral Pneumonia-1189.png', 'Viral Pneumonia-1190.png', 'Viral Pneumonia-1191.png', 'Viral Pneumonia-1192.png', 'Viral Pneumonia-1193.png', 'Viral Pneumonia-1194.png', 'Viral Pneumonia-1195.png', 'Viral Pneumonia-1196.png', 'Viral Pneumonia-1197.png', 'Viral Pneumonia-1198.png', 'Viral Pneumonia-1199.png', 'Viral Pneumonia-1200.png', 'Viral Pneumonia-1201.png', 'Viral Pneumonia-1202.png', 'Viral Pneumonia-1203.png', 'Viral Pneumonia-1204.png', 'Viral Pneumonia-1205.png', 'Viral Pneumonia-1206.png', 'Viral Pneumonia-1207.png', 'Viral Pneumonia-1208.png', 'Viral Pneumonia-1209.png', 'Viral Pneumonia-1210.png', 'Viral Pneumonia-1211.png', 'Viral Pneumonia-1212.png', 'Viral Pneumonia-1213.png', 'Viral Pneumonia-1214.png', 'Viral Pneumonia-1215.png', 'Viral Pneumonia-1216.png', 'Viral Pneumonia-1217.png', 'Viral Pneumonia-1218.png', 'Viral Pneumonia-1219.png', 'Viral Pneumonia-1220.png', 'Viral Pneumonia-1221.png', 'Viral Pneumonia-1222.png', 'Viral Pneumonia-1223.png', 'Viral Pneumonia-1224.png', 'Viral Pneumonia-1225.png', 'Viral Pneumonia-1226.png', 'Viral Pneumonia-1227.png', 'Viral Pneumonia-1228.png', 'Viral Pneumonia-1229.png', 'Viral Pneumonia-1230.png', 'Viral Pneumonia-1231.png', 'Viral Pneumonia-1232.png', 'Viral Pneumonia-1233.png', 'Viral Pneumonia-1234.png', 'Viral Pneumonia-1235.png', 'Viral Pneumonia-1236.png', 'Viral Pneumonia-1237.png', 'Viral Pneumonia-1238.png', 'Viral Pneumonia-1239.png', 'Viral Pneumonia-1240.png', 'Viral Pneumonia-1241.png', 'Viral Pneumonia-1242.png', 'Viral Pneumonia-1243.png', 'Viral Pneumonia-1244.png', 'Viral Pneumonia-1245.png', 'Viral Pneumonia-1246.png', 'Viral Pneumonia-1247.png', 'Viral Pneumonia-1248.png', 'Viral Pneumonia-1249.png', 'Viral Pneumonia-1250.png', 'Viral Pneumonia-1251.png', 'Viral Pneumonia-1252.png', 'Viral Pneumonia-1253.png', 'Viral Pneumonia-1254.png', 'Viral Pneumonia-1255.png', 'Viral Pneumonia-1256.png', 'Viral Pneumonia-1257.png', 'Viral Pneumonia-1258.png', 'Viral Pneumonia-1259.png', 'Viral Pneumonia-1260.png', 'Viral Pneumonia-1261.png', 'Viral Pneumonia-1262.png', 'Viral Pneumonia-1263.png', 'Viral Pneumonia-1264.png', 'Viral Pneumonia-1265.png', 'Viral Pneumonia-1266.png', 'Viral Pneumonia-1267.png', 'Viral Pneumonia-1268.png', 'Viral Pneumonia-1269.png', 'Viral Pneumonia-1270.png', 'Viral Pneumonia-1271.png', 'Viral Pneumonia-1272.png', 'Viral Pneumonia-1273.png', 'Viral Pneumonia-1274.png', 'Viral Pneumonia-1275.png', 'Viral Pneumonia-1276.png', 'Viral Pneumonia-1277.png', 'Viral Pneumonia-1278.png', 'Viral Pneumonia-1279.png', 'Viral Pneumonia-1280.png', 'Viral Pneumonia-1281.png', 'Viral Pneumonia-1282.png', 'Viral Pneumonia-1283.png', 'Viral Pneumonia-1284.png', 'Viral Pneumonia-1285.png', 'Viral Pneumonia-1286.png', 'Viral Pneumonia-1287.png', 'Viral Pneumonia-1288.png', 'Viral Pneumonia-1289.png', 'Viral Pneumonia-1290.png', 'Viral Pneumonia-1291.png', 'Viral Pneumonia-1292.png', 'Viral Pneumonia-1293.png', 'Viral Pneumonia-1294.png', 'Viral Pneumonia-1295.png', 'Viral Pneumonia-1296.png', 'Viral Pneumonia-1297.png', 'Viral Pneumonia-1298.png', 'Viral Pneumonia-1299.png', 'Viral Pneumonia-1300.png', 'Viral Pneumonia-1301.png', 'Viral Pneumonia-1302.png', 'Viral Pneumonia-1303.png', 'Viral Pneumonia-1304.png', 'Viral Pneumonia-1305.png', 'Viral Pneumonia-1306.png', 'Viral Pneumonia-1307.png', 'Viral Pneumonia-1308.png', 'Viral Pneumonia-1309.png', 'Viral Pneumonia-1310.png', 'Viral Pneumonia-1311.png', 'Viral Pneumonia-1312.png', 'Viral Pneumonia-1313.png', 'Viral Pneumonia-1314.png', 'Viral Pneumonia-1315.png', 'Viral Pneumonia-1316.png', 'Viral Pneumonia-1317.png', 'Viral Pneumonia-1318.png', 'Viral Pneumonia-1319.png', 'Viral Pneumonia-1320.png', 'Viral Pneumonia-1321.png', 'Viral Pneumonia-1322.png', 'Viral Pneumonia-1323.png', 'Viral Pneumonia-1324.png', 'Viral Pneumonia-1325.png', 'Viral Pneumonia-1326.png', 'Viral Pneumonia-1327.png', 'Viral Pneumonia-1328.png', 'Viral Pneumonia-1329.png', 'Viral Pneumonia-1330.png', 'Viral Pneumonia-1331.png', 'Viral Pneumonia-1332.png', 'Viral Pneumonia-1333.png', 'Viral Pneumonia-1334.png', 'Viral Pneumonia-1335.png', 'Viral Pneumonia-1336.png', 'Viral Pneumonia-1337.png', 'Viral Pneumonia-1338.png', 'Viral Pneumonia-1339.png', 'Viral Pneumonia-1340.png', 'Viral Pneumonia-1341.png', 'Viral Pneumonia-1342.png', 'Viral Pneumonia-1343.png', 'Viral Pneumonia-1344.png', 'Viral Pneumonia-1345.png']\n"
     ]
    }
   ],
   "source": [
    "print(pneuFileNames4thset)"
   ]
  },
  {
   "cell_type": "code",
   "execution_count": 54,
   "id": "faddc0e1",
   "metadata": {},
   "outputs": [],
   "source": [
    "for i in range(len(pneuFileNames4thset)):\n",
    "    original = r'D:/Desktopshifted/MTech - PES university/Sem-3/CapstoneProject/Dataset/archive/COVID-19_Radiography_Dataset/Viral_Pneumonia/images/' + pneuFileNames4thset[i]\n",
    "    target = r'D:/Desktopshifted/MTech - PES university/Sem-3/CapstoneProject/Dataset/archive/COVID-19_Radiography_Dataset/SubData4/Viral_Pneumonia/' + pneuFileNames4thset[i]\n",
    "    shutil.copyfile(original, target)"
   ]
  },
  {
   "cell_type": "code",
   "execution_count": 55,
   "id": "99d7e8ba",
   "metadata": {},
   "outputs": [],
   "source": [
    "#moving images to train, validation and test"
   ]
  },
  {
   "cell_type": "code",
   "execution_count": 56,
   "id": "a0c0c56a",
   "metadata": {},
   "outputs": [],
   "source": [
    "train_file_names = []"
   ]
  },
  {
   "cell_type": "code",
   "execution_count": 58,
   "id": "75141a3d",
   "metadata": {},
   "outputs": [],
   "source": [
    "def split(files):\n",
    "    random.shuffle(files)\n",
    "    k = len(files)*0.7\n",
    "    trainset = files[:int(k)]\n",
    "    testset = files[int(k):int(k*0.85/0.7)]\n",
    "    valset = files[int(k*0.85/0.7):]\n",
    "    return trainset,testset,valset"
   ]
  },
  {
   "cell_type": "code",
   "execution_count": 59,
   "id": "dcf72c24",
   "metadata": {},
   "outputs": [],
   "source": [
    "covidtrain,covidtest,covidval =  split(covidFileNames4thSet)"
   ]
  },
  {
   "cell_type": "code",
   "execution_count": 60,
   "id": "22629c21",
   "metadata": {},
   "outputs": [
    {
     "data": {
      "text/plain": [
       "(632, 136, 136)"
      ]
     },
     "execution_count": 60,
     "metadata": {},
     "output_type": "execute_result"
    }
   ],
   "source": [
    "len(covidtrain),len(covidtest),len(covidval)"
   ]
  },
  {
   "cell_type": "code",
   "execution_count": 62,
   "id": "bd335c74",
   "metadata": {},
   "outputs": [],
   "source": [
    "opacitytrain,opacitytest,opacityval = split(opacityFileNames4thset)"
   ]
  },
  {
   "cell_type": "code",
   "execution_count": 63,
   "id": "2fd0a0ec",
   "metadata": {},
   "outputs": [
    {
     "data": {
      "text/plain": [
       "(1052, 225, 226)"
      ]
     },
     "execution_count": 63,
     "metadata": {},
     "output_type": "execute_result"
    }
   ],
   "source": [
    "len(opacitytrain),len(opacitytest),len(opacityval)"
   ]
  },
  {
   "cell_type": "code",
   "execution_count": 64,
   "id": "c3209e9c",
   "metadata": {},
   "outputs": [],
   "source": [
    "normaltrain,normaltest,normalval = split(normalFileNames4thset)"
   ]
  },
  {
   "cell_type": "code",
   "execution_count": 65,
   "id": "dd736bc3",
   "metadata": {},
   "outputs": [
    {
     "data": {
      "text/plain": [
       "(1783, 382, 383)"
      ]
     },
     "execution_count": 65,
     "metadata": {},
     "output_type": "execute_result"
    }
   ],
   "source": [
    "len(normaltrain),len(normaltest),len(normalval)"
   ]
  },
  {
   "cell_type": "code",
   "execution_count": 66,
   "id": "6e27fa8c",
   "metadata": {},
   "outputs": [],
   "source": [
    "pneutrain,pneutest,pneuval = split(pneuFileNames4thset)"
   ]
  },
  {
   "cell_type": "code",
   "execution_count": 67,
   "id": "0fb4ce48",
   "metadata": {},
   "outputs": [
    {
     "data": {
      "text/plain": [
       "(235, 51, 51)"
      ]
     },
     "execution_count": 67,
     "metadata": {},
     "output_type": "execute_result"
    }
   ],
   "source": [
    "len(pneutrain),len(pneutest),len(pneuval)"
   ]
  },
  {
   "cell_type": "code",
   "execution_count": 70,
   "id": "f2bfe2dd",
   "metadata": {},
   "outputs": [],
   "source": [
    "for i in range(len(covidtrain)):\n",
    "    original = r'D:/Desktopshifted/MTech - PES university/Sem-3/CapstoneProject/Dataset/archive/COVID-19_Radiography_Dataset/SubData4/COVID/' + covidtrain[i]\n",
    "    target = r'D:/Desktopshifted/MTech - PES university/Sem-3/CapstoneProject/Dataset/archive/COVID-19_Radiography_Dataset/SubData4/SubData4Output/train/COVID' + covidtrain[i]\n",
    "    shutil.copyfile(original, target)"
   ]
  },
  {
   "cell_type": "code",
   "execution_count": 71,
   "id": "70ce16cd",
   "metadata": {},
   "outputs": [],
   "source": [
    "for i in range(len(covidtest)):\n",
    "    original = r'D:/Desktopshifted/MTech - PES university/Sem-3/CapstoneProject/Dataset/archive/COVID-19_Radiography_Dataset/SubData4/COVID/' + covidtest[i]\n",
    "    target = r'D:/Desktopshifted/MTech - PES university/Sem-3/CapstoneProject/Dataset/archive/COVID-19_Radiography_Dataset/SubData4/SubData4Output/test/COVID/' + covidtest[i]\n",
    "    shutil.copyfile(original, target)"
   ]
  },
  {
   "cell_type": "code",
   "execution_count": 72,
   "id": "14e08836",
   "metadata": {},
   "outputs": [],
   "source": [
    "for i in range(len(covidval)):\n",
    "    original = r'D:/Desktopshifted/MTech - PES university/Sem-3/CapstoneProject/Dataset/archive/COVID-19_Radiography_Dataset/SubData4/COVID/' + covidval[i]\n",
    "    target = r'D:/Desktopshifted/MTech - PES university/Sem-3/CapstoneProject/Dataset/archive/COVID-19_Radiography_Dataset/SubData4/SubData4Output/val/COVID/' + covidval[i]\n",
    "    shutil.copyfile(original, target)"
   ]
  },
  {
   "cell_type": "code",
   "execution_count": 73,
   "id": "94c3b395",
   "metadata": {},
   "outputs": [],
   "source": [
    "for i in range(len(opacitytrain)):\n",
    "    original = r'D:/Desktopshifted/MTech - PES university/Sem-3/CapstoneProject/Dataset/archive/COVID-19_Radiography_Dataset/SubData4/Lung_Opacity/' + opacitytrain[i]\n",
    "    target = r'D:/Desktopshifted/MTech - PES university/Sem-3/CapstoneProject/Dataset/archive/COVID-19_Radiography_Dataset/SubData4/SubData4Output/train/Lung_Opacity/' + opacitytrain[i]\n",
    "    shutil.copyfile(original, target)"
   ]
  },
  {
   "cell_type": "code",
   "execution_count": 74,
   "id": "3971d4d6",
   "metadata": {},
   "outputs": [],
   "source": [
    "for i in range(len(opacitytest)):\n",
    "    original = r'D:/Desktopshifted/MTech - PES university/Sem-3/CapstoneProject/Dataset/archive/COVID-19_Radiography_Dataset/SubData4/Lung_Opacity/' + opacitytest[i]\n",
    "    target = r'D:/Desktopshifted/MTech - PES university/Sem-3/CapstoneProject/Dataset/archive/COVID-19_Radiography_Dataset/SubData4/SubData4Output/test/Lung_Opacity/' + opacitytest[i]\n",
    "    shutil.copyfile(original, target)"
   ]
  },
  {
   "cell_type": "code",
   "execution_count": 75,
   "id": "936b0757",
   "metadata": {},
   "outputs": [],
   "source": [
    "for i in range(len(opacityval)):\n",
    "    original = r'D:/Desktopshifted/MTech - PES university/Sem-3/CapstoneProject/Dataset/archive/COVID-19_Radiography_Dataset/SubData4/Lung_Opacity/' + opacityval[i]\n",
    "    target = r'D:/Desktopshifted/MTech - PES university/Sem-3/CapstoneProject/Dataset/archive/COVID-19_Radiography_Dataset/SubData4/SubData4Output/val/Lung_Opacity/' + opacityval[i]\n",
    "    shutil.copyfile(original, target)"
   ]
  },
  {
   "cell_type": "code",
   "execution_count": 76,
   "id": "302264f8",
   "metadata": {},
   "outputs": [],
   "source": [
    "for i in range(len(normaltrain)):\n",
    "    original = r'D:/Desktopshifted/MTech - PES university/Sem-3/CapstoneProject/Dataset/archive/COVID-19_Radiography_Dataset/SubData4/Normal/' + normaltrain[i]\n",
    "    target = r'D:/Desktopshifted/MTech - PES university/Sem-3/CapstoneProject/Dataset/archive/COVID-19_Radiography_Dataset/SubData4/SubData4Output/train/Normal/' + normaltrain[i]\n",
    "    shutil.copyfile(original, target)"
   ]
  },
  {
   "cell_type": "code",
   "execution_count": 77,
   "id": "53b38d76",
   "metadata": {},
   "outputs": [],
   "source": [
    "for i in range(len(normaltest)):\n",
    "    original = r'D:/Desktopshifted/MTech - PES university/Sem-3/CapstoneProject/Dataset/archive/COVID-19_Radiography_Dataset/SubData4/Normal/' + normaltest[i]\n",
    "    target = r'D:/Desktopshifted/MTech - PES university/Sem-3/CapstoneProject/Dataset/archive/COVID-19_Radiography_Dataset/SubData4/SubData4Output/test/Normal/' + normaltest[i]\n",
    "    shutil.copyfile(original, target)"
   ]
  },
  {
   "cell_type": "code",
   "execution_count": 78,
   "id": "0caa4460",
   "metadata": {},
   "outputs": [],
   "source": [
    "for i in range(len(normalval)):\n",
    "    original = r'D:/Desktopshifted/MTech - PES university/Sem-3/CapstoneProject/Dataset/archive/COVID-19_Radiography_Dataset/SubData4/Normal/' + normalval[i]\n",
    "    target = r'D:/Desktopshifted/MTech - PES university/Sem-3/CapstoneProject/Dataset/archive/COVID-19_Radiography_Dataset/SubData4/SubData4Output/val/Normal/' + normalval[i]\n",
    "    shutil.copyfile(original, target)"
   ]
  },
  {
   "cell_type": "code",
   "execution_count": 79,
   "id": "9dbe1131",
   "metadata": {},
   "outputs": [],
   "source": [
    "for i in range(len(pneutrain)):\n",
    "    original = r'D:/Desktopshifted/MTech - PES university/Sem-3/CapstoneProject/Dataset/archive/COVID-19_Radiography_Dataset/SubData4/Viral_Pneumonia/' + pneutrain[i]\n",
    "    target = r'D:/Desktopshifted/MTech - PES university/Sem-3/CapstoneProject/Dataset/archive/COVID-19_Radiography_Dataset/SubData4/SubData4Output/train/Viral_Pneumonia/' + pneutrain[i]\n",
    "    shutil.copyfile(original, target)"
   ]
  },
  {
   "cell_type": "code",
   "execution_count": 80,
   "id": "34f212cc",
   "metadata": {},
   "outputs": [],
   "source": [
    "for i in range(len(pneutest)):\n",
    "    original = r'D:/Desktopshifted/MTech - PES university/Sem-3/CapstoneProject/Dataset/archive/COVID-19_Radiography_Dataset/SubData4/Viral_Pneumonia/' + pneutest[i]\n",
    "    target = r'D:/Desktopshifted/MTech - PES university/Sem-3/CapstoneProject/Dataset/archive/COVID-19_Radiography_Dataset/SubData4/SubData4Output/test/Viral_Pneumonia/' + pneutest[i]\n",
    "    shutil.copyfile(original, target)"
   ]
  },
  {
   "cell_type": "code",
   "execution_count": 81,
   "id": "5194477a",
   "metadata": {},
   "outputs": [],
   "source": [
    "for i in range(len(pneuval)):\n",
    "    original = r'D:/Desktopshifted/MTech - PES university/Sem-3/CapstoneProject/Dataset/archive/COVID-19_Radiography_Dataset/SubData4/Viral_Pneumonia/' + pneuval[i]\n",
    "    target = r'D:/Desktopshifted/MTech - PES university/Sem-3/CapstoneProject/Dataset/archive/COVID-19_Radiography_Dataset/SubData4/SubData4Output/val/Viral_Pneumonia/' + pneuval[i]\n",
    "    shutil.copyfile(original, target)"
   ]
  },
  {
   "cell_type": "code",
   "execution_count": 82,
   "id": "937a3a32",
   "metadata": {},
   "outputs": [],
   "source": [
    "train_data_dir = 'D:/Desktopshifted/MTech - PES university/Sem-3/CapstoneProject/Dataset/archive/COVID-19_Radiography_Dataset/SubData4/SubData4Output/train/'\n",
    "test_data_dir = 'D:/Desktopshifted/MTech - PES university/Sem-3/CapstoneProject/Dataset/archive/COVID-19_Radiography_Dataset/SubData4/SubData4Output/test/'\n",
    "val_data_dir = 'D:/Desktopshifted/MTech - PES university/Sem-3/CapstoneProject/Dataset/archive/COVID-19_Radiography_Dataset/SubData4/SubData4Output/val/'"
   ]
  },
  {
   "cell_type": "code",
   "execution_count": 83,
   "id": "b18a0272",
   "metadata": {},
   "outputs": [],
   "source": [
    "input_shape = (224,224,3)\n",
    "input_layer = Input(shape = (224, 224, 3))"
   ]
  },
  {
   "cell_type": "code",
   "execution_count": 84,
   "id": "8c99e1e4",
   "metadata": {},
   "outputs": [],
   "source": [
    "img_width , img_height = [224,224]\n",
    "batch_size = 16"
   ]
  },
  {
   "cell_type": "code",
   "execution_count": 87,
   "id": "e1c335e0",
   "metadata": {},
   "outputs": [],
   "source": [
    "train_datagen = ImageDataGenerator(\n",
    "        rescale=1./255,\n",
    "        shear_range=0.2,\n",
    "        zoom_range=0.2,\n",
    "        horizontal_flip=True)\n",
    "val_datagen = ImageDataGenerator(rescale=1./255)\n",
    "test_datagen = ImageDataGenerator(rescale=1./255)"
   ]
  },
  {
   "cell_type": "code",
   "execution_count": 88,
   "id": "66133ba6",
   "metadata": {},
   "outputs": [
    {
     "name": "stdout",
     "output_type": "stream",
     "text": [
      "Found 3702 images belonging to 4 classes.\n"
     ]
    }
   ],
   "source": [
    "train_set = train_datagen.flow_from_directory(\n",
    "    train_data_dir,\n",
    "    target_size=(img_width, img_height),\n",
    "    batch_size=batch_size,\n",
    "    class_mode='categorical',\n",
    "    shuffle = True)"
   ]
  },
  {
   "cell_type": "code",
   "execution_count": 90,
   "id": "e7c22add",
   "metadata": {},
   "outputs": [
    {
     "name": "stdout",
     "output_type": "stream",
     "text": [
      "Found 794 images belonging to 4 classes.\n"
     ]
    }
   ],
   "source": [
    "test_set = test_datagen.flow_from_directory(\n",
    "        test_data_dir,\n",
    "        target_size=(img_width, img_height),\n",
    "        batch_size=batch_size,\n",
    "        class_mode='categorical',\n",
    "       )"
   ]
  },
  {
   "cell_type": "code",
   "execution_count": 91,
   "id": "5efc47ea",
   "metadata": {},
   "outputs": [
    {
     "name": "stdout",
     "output_type": "stream",
     "text": [
      "Found 796 images belonging to 4 classes.\n"
     ]
    }
   ],
   "source": [
    "val_set = val_datagen.flow_from_directory(\n",
    "        validation_data_dir,\n",
    "        target_size=(img_width, img_height),\n",
    "        batch_size=batch_size,\n",
    "        class_mode='categorical',\n",
    "       )"
   ]
  },
  {
   "cell_type": "code",
   "execution_count": 92,
   "id": "5c176ea9",
   "metadata": {},
   "outputs": [],
   "source": [
    "train_y=train_set.classes\n",
    "test_y=test_set.classes\n",
    "val_y=val_set.classes"
   ]
  },
  {
   "cell_type": "code",
   "execution_count": 93,
   "id": "60437425",
   "metadata": {},
   "outputs": [
    {
     "data": {
      "text/plain": [
       "{'COVID': 0, 'Lung_Opacity': 1, 'Normal': 2, 'Viral_Pneumonia': 3}"
      ]
     },
     "execution_count": 93,
     "metadata": {},
     "output_type": "execute_result"
    }
   ],
   "source": [
    "train_set.class_indices"
   ]
  },
  {
   "cell_type": "code",
   "execution_count": 94,
   "id": "40e510c5",
   "metadata": {},
   "outputs": [
    {
     "data": {
      "text/plain": [
       "((3702,), (794,), (796,))"
      ]
     },
     "execution_count": 94,
     "metadata": {},
     "output_type": "execute_result"
    }
   ],
   "source": [
    "train_y.shape,test_y.shape,val_y.shape"
   ]
  },
  {
   "cell_type": "code",
   "execution_count": 95,
   "id": "196e4d29",
   "metadata": {},
   "outputs": [
    {
     "name": "stdout",
     "output_type": "stream",
     "text": [
      "Downloading data from https://storage.googleapis.com/tensorflow/keras-applications/vgg16/vgg16_weights_tf_dim_ordering_tf_kernels_notop.h5\n",
      "58889256/58889256 [==============================] - 5s 0us/step\n"
     ]
    }
   ],
   "source": [
    "VGG16_base = VGG16(weights = 'imagenet',input_shape = input_shape,include_top = False)"
   ]
  },
  {
   "cell_type": "code",
   "execution_count": 96,
   "id": "2be80cb5",
   "metadata": {},
   "outputs": [
    {
     "data": {
      "text/plain": [
       "[<keras.engine.input_layer.InputLayer at 0x19cf00e5808>,\n",
       " <keras.layers.convolutional.conv2d.Conv2D at 0x19cefbb4f88>,\n",
       " <keras.layers.convolutional.conv2d.Conv2D at 0x19cf00e5588>,\n",
       " <keras.layers.pooling.max_pooling2d.MaxPooling2D at 0x19cefd37748>,\n",
       " <keras.layers.convolutional.conv2d.Conv2D at 0x19cefbf5a48>,\n",
       " <keras.layers.convolutional.conv2d.Conv2D at 0x19cf00e4fc8>,\n",
       " <keras.layers.pooling.max_pooling2d.MaxPooling2D at 0x19cf031dfc8>,\n",
       " <keras.layers.convolutional.conv2d.Conv2D at 0x19cf00d3708>,\n",
       " <keras.layers.convolutional.conv2d.Conv2D at 0x19cf0385e08>,\n",
       " <keras.layers.convolutional.conv2d.Conv2D at 0x19cf038fc88>,\n",
       " <keras.layers.pooling.max_pooling2d.MaxPooling2D at 0x19cf03338c8>,\n",
       " <keras.layers.convolutional.conv2d.Conv2D at 0x19cf038fe08>,\n",
       " <keras.layers.convolutional.conv2d.Conv2D at 0x19cf0389ec8>,\n",
       " <keras.layers.convolutional.conv2d.Conv2D at 0x19cf033ccc8>,\n",
       " <keras.layers.pooling.max_pooling2d.MaxPooling2D at 0x19cf0341208>,\n",
       " <keras.layers.convolutional.conv2d.Conv2D at 0x19cf033cdc8>,\n",
       " <keras.layers.convolutional.conv2d.Conv2D at 0x19cf0345d88>,\n",
       " <keras.layers.convolutional.conv2d.Conv2D at 0x19cf0321f88>,\n",
       " <keras.layers.pooling.max_pooling2d.MaxPooling2D at 0x19cf031ed08>]"
      ]
     },
     "execution_count": 96,
     "metadata": {},
     "output_type": "execute_result"
    }
   ],
   "source": [
    "VGG16_base.layers"
   ]
  },
  {
   "cell_type": "code",
   "execution_count": 101,
   "id": "2d018f79",
   "metadata": {},
   "outputs": [],
   "source": [
    "for layer in VGG16_base.layers:\n",
    "    layer.trainable =  False"
   ]
  },
  {
   "cell_type": "code",
   "execution_count": 103,
   "id": "d0175d60",
   "metadata": {},
   "outputs": [],
   "source": [
    "VGG16_base.layers[15].trainable = True\n",
    "VGG16_base.layers[16].trainable = True\n",
    "VGG16_base.layers[17].trainable = True\n",
    "VGG16_base.layers[18].trainable = True"
   ]
  },
  {
   "cell_type": "code",
   "execution_count": 107,
   "id": "48a33c09",
   "metadata": {},
   "outputs": [
    {
     "name": "stdout",
     "output_type": "stream",
     "text": [
      "Model: \"vgg16\"\n",
      "_________________________________________________________________\n",
      " Layer (type)                Output Shape              Param #   \n",
      "=================================================================\n",
      " input_3 (InputLayer)        [(None, 224, 224, 3)]     0         \n",
      "                                                                 \n",
      " block1_conv1 (Conv2D)       (None, 224, 224, 64)      1792      \n",
      "                                                                 \n",
      " block1_conv2 (Conv2D)       (None, 224, 224, 64)      36928     \n",
      "                                                                 \n",
      " block1_pool (MaxPooling2D)  (None, 112, 112, 64)      0         \n",
      "                                                                 \n",
      " block2_conv1 (Conv2D)       (None, 112, 112, 128)     73856     \n",
      "                                                                 \n",
      " block2_conv2 (Conv2D)       (None, 112, 112, 128)     147584    \n",
      "                                                                 \n",
      " block2_pool (MaxPooling2D)  (None, 56, 56, 128)       0         \n",
      "                                                                 \n",
      " block3_conv1 (Conv2D)       (None, 56, 56, 256)       295168    \n",
      "                                                                 \n",
      " block3_conv2 (Conv2D)       (None, 56, 56, 256)       590080    \n",
      "                                                                 \n",
      " block3_conv3 (Conv2D)       (None, 56, 56, 256)       590080    \n",
      "                                                                 \n",
      " block3_pool (MaxPooling2D)  (None, 28, 28, 256)       0         \n",
      "                                                                 \n",
      " block4_conv1 (Conv2D)       (None, 28, 28, 512)       1180160   \n",
      "                                                                 \n",
      " block4_conv2 (Conv2D)       (None, 28, 28, 512)       2359808   \n",
      "                                                                 \n",
      " block4_conv3 (Conv2D)       (None, 28, 28, 512)       2359808   \n",
      "                                                                 \n",
      " block4_pool (MaxPooling2D)  (None, 14, 14, 512)       0         \n",
      "                                                                 \n",
      " block5_conv1 (Conv2D)       (None, 14, 14, 512)       2359808   \n",
      "                                                                 \n",
      " block5_conv2 (Conv2D)       (None, 14, 14, 512)       2359808   \n",
      "                                                                 \n",
      " block5_conv3 (Conv2D)       (None, 14, 14, 512)       2359808   \n",
      "                                                                 \n",
      " block5_pool (MaxPooling2D)  (None, 7, 7, 512)         0         \n",
      "                                                                 \n",
      "=================================================================\n",
      "Total params: 14,714,688\n",
      "Trainable params: 7,079,424\n",
      "Non-trainable params: 7,635,264\n",
      "_________________________________________________________________\n"
     ]
    }
   ],
   "source": [
    "VGG16_base.summary()"
   ]
  },
  {
   "cell_type": "code",
   "execution_count": 129,
   "id": "a6dd02e5",
   "metadata": {},
   "outputs": [],
   "source": [
    "top_model = VGG16_base.output"
   ]
  },
  {
   "cell_type": "code",
   "execution_count": 133,
   "id": "a0533285",
   "metadata": {},
   "outputs": [],
   "source": [
    "from keras.layers import Dense, Dropout, Flatten,BatchNormalization"
   ]
  },
  {
   "cell_type": "code",
   "execution_count": 131,
   "id": "d99b9252",
   "metadata": {},
   "outputs": [],
   "source": [
    "top_model = Flatten(name=\"flatten\")(top_model)"
   ]
  },
  {
   "cell_type": "code",
   "execution_count": 134,
   "id": "efddea52",
   "metadata": {},
   "outputs": [],
   "source": [
    "top_model = BatchNormalization()(top_model)"
   ]
  },
  {
   "cell_type": "code",
   "execution_count": 112,
   "id": "cc288048",
   "metadata": {},
   "outputs": [],
   "source": [
    "top_model = Dense(256, activation='relu')(top_model)"
   ]
  },
  {
   "cell_type": "code",
   "execution_count": 135,
   "id": "b6afa400",
   "metadata": {},
   "outputs": [],
   "source": [
    "top_model = Dropout(0.5)(top_model)"
   ]
  },
  {
   "cell_type": "code",
   "execution_count": 136,
   "id": "f890ce4d",
   "metadata": {},
   "outputs": [],
   "source": [
    "top_model = BatchNormalization()(top_model)"
   ]
  },
  {
   "cell_type": "code",
   "execution_count": 137,
   "id": "a5e1e4f2",
   "metadata": {},
   "outputs": [],
   "source": [
    "top_model = Dense(128, activation='relu')(top_model)"
   ]
  },
  {
   "cell_type": "code",
   "execution_count": 138,
   "id": "197354a1",
   "metadata": {},
   "outputs": [],
   "source": [
    "top_model = Dropout(0.5)(top_model)"
   ]
  },
  {
   "cell_type": "code",
   "execution_count": 139,
   "id": "821dcff9",
   "metadata": {},
   "outputs": [],
   "source": [
    "output_layer = Dense(4, activation='softmax')(top_model)"
   ]
  },
  {
   "cell_type": "code",
   "execution_count": 117,
   "id": "056c4228",
   "metadata": {},
   "outputs": [],
   "source": [
    "from keras.models import Model"
   ]
  },
  {
   "cell_type": "code",
   "execution_count": 140,
   "id": "0b2c2c80",
   "metadata": {},
   "outputs": [],
   "source": [
    "model = Model(inputs=VGG16_base.input, outputs=output_layer)"
   ]
  },
  {
   "cell_type": "code",
   "execution_count": 141,
   "id": "7ec39b66",
   "metadata": {},
   "outputs": [],
   "source": [
    "lr = 0.0001"
   ]
  },
  {
   "cell_type": "code",
   "execution_count": 142,
   "id": "bba044b2",
   "metadata": {},
   "outputs": [],
   "source": [
    "optimizer = 'adam'"
   ]
  },
  {
   "cell_type": "code",
   "execution_count": 143,
   "id": "3bac3d83",
   "metadata": {},
   "outputs": [],
   "source": [
    "from tensorflow.keras.optimizers import Adam, Adamax"
   ]
  },
  {
   "cell_type": "code",
   "execution_count": 144,
   "id": "2a11eb35",
   "metadata": {},
   "outputs": [],
   "source": [
    "optm = Adam(learning_rate=0.0001)"
   ]
  },
  {
   "cell_type": "code",
   "execution_count": 145,
   "id": "e2d4bf10",
   "metadata": {},
   "outputs": [],
   "source": [
    "model.compile(optimizer=optm, \n",
    "                  loss='categorical_crossentropy',\n",
    "                  metrics=['accuracy'])"
   ]
  },
  {
   "cell_type": "code",
   "execution_count": 146,
   "id": "b26dc03b",
   "metadata": {},
   "outputs": [
    {
     "name": "stdout",
     "output_type": "stream",
     "text": [
      "Model: \"model_1\"\n",
      "_________________________________________________________________\n",
      " Layer (type)                Output Shape              Param #   \n",
      "=================================================================\n",
      " input_3 (InputLayer)        [(None, 224, 224, 3)]     0         \n",
      "                                                                 \n",
      " block1_conv1 (Conv2D)       (None, 224, 224, 64)      1792      \n",
      "                                                                 \n",
      " block1_conv2 (Conv2D)       (None, 224, 224, 64)      36928     \n",
      "                                                                 \n",
      " block1_pool (MaxPooling2D)  (None, 112, 112, 64)      0         \n",
      "                                                                 \n",
      " block2_conv1 (Conv2D)       (None, 112, 112, 128)     73856     \n",
      "                                                                 \n",
      " block2_conv2 (Conv2D)       (None, 112, 112, 128)     147584    \n",
      "                                                                 \n",
      " block2_pool (MaxPooling2D)  (None, 56, 56, 128)       0         \n",
      "                                                                 \n",
      " block3_conv1 (Conv2D)       (None, 56, 56, 256)       295168    \n",
      "                                                                 \n",
      " block3_conv2 (Conv2D)       (None, 56, 56, 256)       590080    \n",
      "                                                                 \n",
      " block3_conv3 (Conv2D)       (None, 56, 56, 256)       590080    \n",
      "                                                                 \n",
      " block3_pool (MaxPooling2D)  (None, 28, 28, 256)       0         \n",
      "                                                                 \n",
      " block4_conv1 (Conv2D)       (None, 28, 28, 512)       1180160   \n",
      "                                                                 \n",
      " block4_conv2 (Conv2D)       (None, 28, 28, 512)       2359808   \n",
      "                                                                 \n",
      " block4_conv3 (Conv2D)       (None, 28, 28, 512)       2359808   \n",
      "                                                                 \n",
      " block4_pool (MaxPooling2D)  (None, 14, 14, 512)       0         \n",
      "                                                                 \n",
      " block5_conv1 (Conv2D)       (None, 14, 14, 512)       2359808   \n",
      "                                                                 \n",
      " block5_conv2 (Conv2D)       (None, 14, 14, 512)       2359808   \n",
      "                                                                 \n",
      " block5_conv3 (Conv2D)       (None, 14, 14, 512)       2359808   \n",
      "                                                                 \n",
      " block5_pool (MaxPooling2D)  (None, 7, 7, 512)         0         \n",
      "                                                                 \n",
      " flatten (Flatten)           (None, 25088)             0         \n",
      "                                                                 \n",
      " batch_normalization (BatchN  (None, 25088)            100352    \n",
      " ormalization)                                                   \n",
      "                                                                 \n",
      " dropout_1 (Dropout)         (None, 25088)             0         \n",
      "                                                                 \n",
      " batch_normalization_1 (Batc  (None, 25088)            100352    \n",
      " hNormalization)                                                 \n",
      "                                                                 \n",
      " dense_3 (Dense)             (None, 128)               3211392   \n",
      "                                                                 \n",
      " dropout_2 (Dropout)         (None, 128)               0         \n",
      "                                                                 \n",
      " dense_4 (Dense)             (None, 4)                 516       \n",
      "                                                                 \n",
      "=================================================================\n",
      "Total params: 18,127,300\n",
      "Trainable params: 10,391,684\n",
      "Non-trainable params: 7,735,616\n",
      "_________________________________________________________________\n"
     ]
    }
   ],
   "source": [
    "model.summary()"
   ]
  },
  {
   "cell_type": "code",
   "execution_count": 147,
   "id": "69367053",
   "metadata": {},
   "outputs": [],
   "source": [
    "from keras.callbacks import EarlyStopping,ReduceLROnPlateau, ModelCheckpoint"
   ]
  },
  {
   "cell_type": "code",
   "execution_count": 148,
   "id": "de14fc7b",
   "metadata": {},
   "outputs": [],
   "source": [
    "EarlyStopping = EarlyStopping(monitor='val_accuracy',\n",
    "                              min_delta=.01,\n",
    "                              patience=6,\n",
    "                              verbose=1,\n",
    "                              mode='auto',\n",
    "                              baseline=None,\n",
    "                              restore_best_weights=True)"
   ]
  },
  {
   "cell_type": "code",
   "execution_count": 149,
   "id": "ffc3c397",
   "metadata": {},
   "outputs": [],
   "source": [
    "rlr = ReduceLROnPlateau( monitor='val_accuracy',\n",
    "                            factor=0.01,\n",
    "                            patience=6,\n",
    "                            verbose=0,\n",
    "                            mode='max',\n",
    "                            min_delta=0.01)"
   ]
  },
  {
   "cell_type": "code",
   "execution_count": 150,
   "id": "932ed220",
   "metadata": {},
   "outputs": [],
   "source": [
    "model_save = ModelCheckpoint('./vgg16_last4layertrainble_model.h5',\n",
    "                             save_best_only = True,\n",
    "                             save_weights_only = False,\n",
    "                             monitor = 'val_loss', \n",
    "                             mode = 'min', verbose = 1)"
   ]
  },
  {
   "cell_type": "code",
   "execution_count": 151,
   "id": "97d232cb",
   "metadata": {},
   "outputs": [],
   "source": [
    "nb_train_samples = 3702 # number of training-samples\n",
    "nb_test_samples = 794 # number of test-samples\n",
    "nb_validation_samples = 796 # number of validation-samples\n",
    "epochs = 20  \n",
    "batch_size  = 16"
   ]
  },
  {
   "cell_type": "code",
   "execution_count": 152,
   "id": "9caf2e9b",
   "metadata": {},
   "outputs": [
    {
     "name": "stdout",
     "output_type": "stream",
     "text": [
      "Epoch 1/20\n",
      "231/231 [==============================] - ETA: 0s - loss: 0.8655 - accuracy: 0.6706\n",
      "Epoch 1: val_loss improved from inf to 0.92876, saving model to .\\vgg16_last4layertrainble_model.h5\n",
      "231/231 [==============================] - 770s 3s/step - loss: 0.8655 - accuracy: 0.6706 - val_loss: 0.9288 - val_accuracy: 0.6625 - lr: 1.0000e-04\n",
      "Epoch 2/20\n",
      "231/231 [==============================] - ETA: 0s - loss: 0.5581 - accuracy: 0.7916\n",
      "Epoch 2: val_loss improved from 0.92876 to 0.56089, saving model to .\\vgg16_last4layertrainble_model.h5\n",
      "231/231 [==============================] - 1131s 5s/step - loss: 0.5581 - accuracy: 0.7916 - val_loss: 0.5609 - val_accuracy: 0.8023 - lr: 1.0000e-04\n",
      "Epoch 3/20\n",
      "231/231 [==============================] - ETA: 0s - loss: 0.4724 - accuracy: 0.8272\n",
      "Epoch 3: val_loss did not improve from 0.56089\n",
      "231/231 [==============================] - 1198s 5s/step - loss: 0.4724 - accuracy: 0.8272 - val_loss: 3.6987 - val_accuracy: 0.2355 - lr: 1.0000e-04\n",
      "Epoch 4/20\n",
      "231/231 [==============================] - ETA: 0s - loss: 0.4354 - accuracy: 0.8407\n",
      "Epoch 4: val_loss improved from 0.56089 to 0.46640, saving model to .\\vgg16_last4layertrainble_model.h5\n",
      "231/231 [==============================] - 1195s 5s/step - loss: 0.4354 - accuracy: 0.8407 - val_loss: 0.4664 - val_accuracy: 0.8338 - lr: 1.0000e-04\n",
      "Epoch 5/20\n",
      "231/231 [==============================] - ETA: 0s - loss: 0.3792 - accuracy: 0.8608\n",
      "Epoch 5: val_loss improved from 0.46640 to 0.31755, saving model to .\\vgg16_last4layertrainble_model.h5\n",
      "231/231 [==============================] - 946s 4s/step - loss: 0.3792 - accuracy: 0.8608 - val_loss: 0.3176 - val_accuracy: 0.9043 - lr: 1.0000e-04\n",
      "Epoch 6/20\n",
      "231/231 [==============================] - ETA: 0s - loss: 0.3588 - accuracy: 0.8649\n",
      "Epoch 6: val_loss did not improve from 0.31755\n",
      "231/231 [==============================] - 756s 3s/step - loss: 0.3588 - accuracy: 0.8649 - val_loss: 1.0308 - val_accuracy: 0.6385 - lr: 1.0000e-04\n",
      "Epoch 7/20\n",
      "231/231 [==============================] - ETA: 0s - loss: 0.3384 - accuracy: 0.8768\n",
      "Epoch 7: val_loss did not improve from 0.31755\n",
      "231/231 [==============================] - 764s 3s/step - loss: 0.3384 - accuracy: 0.8768 - val_loss: 7.0019 - val_accuracy: 0.1889 - lr: 1.0000e-04\n",
      "Epoch 8/20\n",
      "231/231 [==============================] - ETA: 0s - loss: 0.3303 - accuracy: 0.8839\n",
      "Epoch 8: val_loss did not improve from 0.31755\n",
      "231/231 [==============================] - 764s 3s/step - loss: 0.3303 - accuracy: 0.8839 - val_loss: 0.8490 - val_accuracy: 0.7242 - lr: 1.0000e-04\n",
      "Epoch 9/20\n",
      "231/231 [==============================] - ETA: 0s - loss: 0.3168 - accuracy: 0.8871\n",
      "Epoch 9: val_loss did not improve from 0.31755\n",
      "231/231 [==============================] - 762s 3s/step - loss: 0.3168 - accuracy: 0.8871 - val_loss: 0.5332 - val_accuracy: 0.8149 - lr: 1.0000e-04\n",
      "Epoch 10/20\n",
      "231/231 [==============================] - ETA: 0s - loss: 0.3297 - accuracy: 0.8785\n",
      "Epoch 10: val_loss did not improve from 0.31755\n",
      "231/231 [==============================] - 763s 3s/step - loss: 0.3297 - accuracy: 0.8785 - val_loss: 1.2509 - val_accuracy: 0.6952 - lr: 1.0000e-04\n",
      "Epoch 11/20\n",
      "231/231 [==============================] - ETA: 0s - loss: 0.2807 - accuracy: 0.9023Restoring model weights from the end of the best epoch: 5.\n",
      "\n",
      "Epoch 11: val_loss did not improve from 0.31755\n",
      "231/231 [==============================] - 761s 3s/step - loss: 0.2807 - accuracy: 0.9023 - val_loss: 1.9636 - val_accuracy: 0.5088 - lr: 1.0000e-04\n",
      "Epoch 11: early stopping\n"
     ]
    }
   ],
   "source": [
    "model_history = model.fit(train_set,steps_per_epoch = nb_train_samples // batch_size,epochs = 20,validation_data = test_set,callbacks=[EarlyStopping, model_save,rlr])"
   ]
  },
  {
   "cell_type": "code",
   "execution_count": 154,
   "id": "c0d0b87f",
   "metadata": {},
   "outputs": [
    {
     "data": {
      "application/javascript": [
       "\n",
       "        if (window._pyforest_update_imports_cell) { window._pyforest_update_imports_cell('import matplotlib.pyplot as plt'); }\n",
       "    "
      ],
      "text/plain": [
       "<IPython.core.display.Javascript object>"
      ]
     },
     "metadata": {},
     "output_type": "display_data"
    },
    {
     "data": {
      "application/javascript": [
       "\n",
       "        if (window._pyforest_update_imports_cell) { window._pyforest_update_imports_cell('import matplotlib.pyplot as plt'); }\n",
       "    "
      ],
      "text/plain": [
       "<IPython.core.display.Javascript object>"
      ]
     },
     "metadata": {},
     "output_type": "display_data"
    },
    {
     "data": {
      "application/javascript": [
       "\n",
       "        if (window._pyforest_update_imports_cell) { window._pyforest_update_imports_cell('import matplotlib.pyplot as plt'); }\n",
       "    "
      ],
      "text/plain": [
       "<IPython.core.display.Javascript object>"
      ]
     },
     "metadata": {},
     "output_type": "display_data"
    },
    {
     "data": {
      "application/javascript": [
       "\n",
       "        if (window._pyforest_update_imports_cell) { window._pyforest_update_imports_cell('import matplotlib.pyplot as plt'); }\n",
       "    "
      ],
      "text/plain": [
       "<IPython.core.display.Javascript object>"
      ]
     },
     "metadata": {},
     "output_type": "display_data"
    },
    {
     "data": {
      "application/javascript": [
       "\n",
       "        if (window._pyforest_update_imports_cell) { window._pyforest_update_imports_cell('import matplotlib.pyplot as plt'); }\n",
       "    "
      ],
      "text/plain": [
       "<IPython.core.display.Javascript object>"
      ]
     },
     "metadata": {},
     "output_type": "display_data"
    },
    {
     "data": {
      "image/png": "[encoded data removed]",
      "text/plain": [
       "<Figure size 432x288 with 1 Axes>"
      ]
     },
     "metadata": {
      "needs_background": "light"
     },
     "output_type": "display_data"
    }
   ],
   "source": [
    "# accuracies\n",
    "plt.plot(model_history.history['accuracy'], label='train acc')\n",
    "plt.plot(model_history.history['val_accuracy'], label='val acc')\n",
    "plt.legend()\n",
    "plt.savefig('Vgg16-acc-rps-1.png')\n",
    "plt.show()"
   ]
  },
  {
   "cell_type": "code",
   "execution_count": 155,
   "id": "d373aea0",
   "metadata": {},
   "outputs": [
    {
     "data": {
      "application/javascript": [
       "\n",
       "        if (window._pyforest_update_imports_cell) { window._pyforest_update_imports_cell('import matplotlib.pyplot as plt'); }\n",
       "    "
      ],
      "text/plain": [
       "<IPython.core.display.Javascript object>"
      ]
     },
     "metadata": {},
     "output_type": "display_data"
    },
    {
     "data": {
      "application/javascript": [
       "\n",
       "        if (window._pyforest_update_imports_cell) { window._pyforest_update_imports_cell('import matplotlib.pyplot as plt'); }\n",
       "    "
      ],
      "text/plain": [
       "<IPython.core.display.Javascript object>"
      ]
     },
     "metadata": {},
     "output_type": "display_data"
    },
    {
     "data": {
      "application/javascript": [
       "\n",
       "        if (window._pyforest_update_imports_cell) { window._pyforest_update_imports_cell('import matplotlib.pyplot as plt'); }\n",
       "    "
      ],
      "text/plain": [
       "<IPython.core.display.Javascript object>"
      ]
     },
     "metadata": {},
     "output_type": "display_data"
    },
    {
     "data": {
      "application/javascript": [
       "\n",
       "        if (window._pyforest_update_imports_cell) { window._pyforest_update_imports_cell('import matplotlib.pyplot as plt'); }\n",
       "    "
      ],
      "text/plain": [
       "<IPython.core.display.Javascript object>"
      ]
     },
     "metadata": {},
     "output_type": "display_data"
    },
    {
     "data": {
      "application/javascript": [
       "\n",
       "        if (window._pyforest_update_imports_cell) { window._pyforest_update_imports_cell('import matplotlib.pyplot as plt'); }\n",
       "    "
      ],
      "text/plain": [
       "<IPython.core.display.Javascript object>"
      ]
     },
     "metadata": {},
     "output_type": "display_data"
    },
    {
     "data": {
      "image/png": "[encoded data removed]",
      "text/plain": [
       "<Figure size 432x288 with 1 Axes>"
      ]
     },
     "metadata": {
      "needs_background": "light"
     },
     "output_type": "display_data"
    }
   ],
   "source": [
    "# loss\n",
    "plt.plot(model_history.history['loss'], label='train loss')\n",
    "plt.plot(model_history.history['val_loss'], label='val loss')\n",
    "plt.legend()\n",
    "plt.savefig('Vgg16-loss-rps-1.png')\n",
    "plt.show()"
   ]
  },
  {
   "cell_type": "code",
   "execution_count": 156,
   "id": "d5541ecd",
   "metadata": {},
   "outputs": [],
   "source": [
    "from sklearn.metrics import classification_report,confusion_matrix"
   ]
  },
  {
   "cell_type": "code",
   "execution_count": 157,
   "id": "9811b3d0",
   "metadata": {},
   "outputs": [
    {
     "name": "stderr",
     "output_type": "stream",
     "text": [
      "\r",
      "  0%|                                                                                           | 0/48 [00:00<?, ?it/s]"
     ]
    },
    {
     "data": {
      "application/javascript": [
       "\n",
       "        if (window._pyforest_update_imports_cell) { window._pyforest_update_imports_cell('import matplotlib.pyplot as plt\\nimport numpy as np'); }\n",
       "    "
      ],
      "text/plain": [
       "<IPython.core.display.Javascript object>"
      ]
     },
     "metadata": {},
     "output_type": "display_data"
    },
    {
     "data": {
      "application/javascript": [
       "\n",
       "        if (window._pyforest_update_imports_cell) { window._pyforest_update_imports_cell('import matplotlib.pyplot as plt\\nimport numpy as np'); }\n",
       "    "
      ],
      "text/plain": [
       "<IPython.core.display.Javascript object>"
      ]
     },
     "metadata": {},
     "output_type": "display_data"
    },
    {
     "name": "stderr",
     "output_type": "stream",
     "text": [
      "\r",
      "  2%|█▋                                                                                 | 1/48 [00:00<00:09,  5.05it/s]"
     ]
    },
    {
     "data": {
      "application/javascript": [
       "\n",
       "        if (window._pyforest_update_imports_cell) { window._pyforest_update_imports_cell('import matplotlib.pyplot as plt\\nimport numpy as np'); }\n",
       "    "
      ],
      "text/plain": [
       "<IPython.core.display.Javascript object>"
      ]
     },
     "metadata": {},
     "output_type": "display_data"
    },
    {
     "data": {
      "application/javascript": [
       "\n",
       "        if (window._pyforest_update_imports_cell) { window._pyforest_update_imports_cell('import matplotlib.pyplot as plt\\nimport numpy as np'); }\n",
       "    "
      ],
      "text/plain": [
       "<IPython.core.display.Javascript object>"
      ]
     },
     "metadata": {},
     "output_type": "display_data"
    },
    {
     "name": "stderr",
     "output_type": "stream",
     "text": [
      "\r",
      "  4%|███▍                                                                               | 2/48 [00:00<00:06,  6.95it/s]"
     ]
    },
    {
     "data": {
      "application/javascript": [
       "\n",
       "        if (window._pyforest_update_imports_cell) { window._pyforest_update_imports_cell('import matplotlib.pyplot as plt\\nimport numpy as np'); }\n",
       "    "
      ],
      "text/plain": [
       "<IPython.core.display.Javascript object>"
      ]
     },
     "metadata": {},
     "output_type": "display_data"
    },
    {
     "data": {
      "application/javascript": [
       "\n",
       "        if (window._pyforest_update_imports_cell) { window._pyforest_update_imports_cell('import matplotlib.pyplot as plt\\nimport numpy as np'); }\n",
       "    "
      ],
      "text/plain": [
       "<IPython.core.display.Javascript object>"
      ]
     },
     "metadata": {},
     "output_type": "display_data"
    },
    {
     "name": "stderr",
     "output_type": "stream",
     "text": [
      "\r",
      "  6%|█████▏                                                                             | 3/48 [00:00<00:08,  5.42it/s]"
     ]
    },
    {
     "data": {
      "application/javascript": [
       "\n",
       "        if (window._pyforest_update_imports_cell) { window._pyforest_update_imports_cell('import matplotlib.pyplot as plt\\nimport numpy as np'); }\n",
       "    "
      ],
      "text/plain": [
       "<IPython.core.display.Javascript object>"
      ]
     },
     "metadata": {},
     "output_type": "display_data"
    },
    {
     "data": {
      "application/javascript": [
       "\n",
       "        if (window._pyforest_update_imports_cell) { window._pyforest_update_imports_cell('import matplotlib.pyplot as plt\\nimport numpy as np'); }\n",
       "    "
      ],
      "text/plain": [
       "<IPython.core.display.Javascript object>"
      ]
     },
     "metadata": {},
     "output_type": "display_data"
    },
    {
     "name": "stderr",
     "output_type": "stream",
     "text": [
      "\r",
      "  8%|██████▉                                                                            | 4/48 [00:00<00:08,  5.31it/s]"
     ]
    },
    {
     "data": {
      "application/javascript": [
       "\n",
       "        if (window._pyforest_update_imports_cell) { window._pyforest_update_imports_cell('import matplotlib.pyplot as plt\\nimport numpy as np'); }\n",
       "    "
      ],
      "text/plain": [
       "<IPython.core.display.Javascript object>"
      ]
     },
     "metadata": {},
     "output_type": "display_data"
    },
    {
     "data": {
      "application/javascript": [
       "\n",
       "        if (window._pyforest_update_imports_cell) { window._pyforest_update_imports_cell('import matplotlib.pyplot as plt\\nimport numpy as np'); }\n",
       "    "
      ],
      "text/plain": [
       "<IPython.core.display.Javascript object>"
      ]
     },
     "metadata": {},
     "output_type": "display_data"
    },
    {
     "name": "stderr",
     "output_type": "stream",
     "text": [
      "\r",
      " 10%|████████▋                                                                          | 5/48 [00:00<00:08,  5.36it/s]"
     ]
    },
    {
     "data": {
      "application/javascript": [
       "\n",
       "        if (window._pyforest_update_imports_cell) { window._pyforest_update_imports_cell('import matplotlib.pyplot as plt\\nimport numpy as np'); }\n",
       "    "
      ],
      "text/plain": [
       "<IPython.core.display.Javascript object>"
      ]
     },
     "metadata": {},
     "output_type": "display_data"
    },
    {
     "data": {
      "application/javascript": [
       "\n",
       "        if (window._pyforest_update_imports_cell) { window._pyforest_update_imports_cell('import matplotlib.pyplot as plt\\nimport numpy as np'); }\n",
       "    "
      ],
      "text/plain": [
       "<IPython.core.display.Javascript object>"
      ]
     },
     "metadata": {},
     "output_type": "display_data"
    },
    {
     "name": "stderr",
     "output_type": "stream",
     "text": [
      "\r",
      " 12%|██████████▍                                                                        | 6/48 [00:01<00:07,  5.59it/s]"
     ]
    },
    {
     "data": {
      "application/javascript": [
       "\n",
       "        if (window._pyforest_update_imports_cell) { window._pyforest_update_imports_cell('import matplotlib.pyplot as plt\\nimport numpy as np'); }\n",
       "    "
      ],
      "text/plain": [
       "<IPython.core.display.Javascript object>"
      ]
     },
     "metadata": {},
     "output_type": "display_data"
    },
    {
     "data": {
      "application/javascript": [
       "\n",
       "        if (window._pyforest_update_imports_cell) { window._pyforest_update_imports_cell('import matplotlib.pyplot as plt\\nimport numpy as np'); }\n",
       "    "
      ],
      "text/plain": [
       "<IPython.core.display.Javascript object>"
      ]
     },
     "metadata": {},
     "output_type": "display_data"
    },
    {
     "name": "stderr",
     "output_type": "stream",
     "text": [
      "\r",
      " 15%|████████████                                                                       | 7/48 [00:01<00:07,  5.69it/s]"
     ]
    },
    {
     "data": {
      "application/javascript": [
       "\n",
       "        if (window._pyforest_update_imports_cell) { window._pyforest_update_imports_cell('import matplotlib.pyplot as plt\\nimport numpy as np'); }\n",
       "    "
      ],
      "text/plain": [
       "<IPython.core.display.Javascript object>"
      ]
     },
     "metadata": {},
     "output_type": "display_data"
    },
    {
     "data": {
      "application/javascript": [
       "\n",
       "        if (window._pyforest_update_imports_cell) { window._pyforest_update_imports_cell('import matplotlib.pyplot as plt\\nimport numpy as np'); }\n",
       "    "
      ],
      "text/plain": [
       "<IPython.core.display.Javascript object>"
      ]
     },
     "metadata": {},
     "output_type": "display_data"
    },
    {
     "name": "stderr",
     "output_type": "stream",
     "text": [
      "\r",
      " 17%|█████████████▊                                                                     | 8/48 [00:01<00:06,  5.96it/s]"
     ]
    },
    {
     "data": {
      "application/javascript": [
       "\n",
       "        if (window._pyforest_update_imports_cell) { window._pyforest_update_imports_cell('import matplotlib.pyplot as plt\\nimport numpy as np'); }\n",
       "    "
      ],
      "text/plain": [
       "<IPython.core.display.Javascript object>"
      ]
     },
     "metadata": {},
     "output_type": "display_data"
    },
    {
     "data": {
      "application/javascript": [
       "\n",
       "        if (window._pyforest_update_imports_cell) { window._pyforest_update_imports_cell('import matplotlib.pyplot as plt\\nimport numpy as np'); }\n",
       "    "
      ],
      "text/plain": [
       "<IPython.core.display.Javascript object>"
      ]
     },
     "metadata": {},
     "output_type": "display_data"
    },
    {
     "name": "stderr",
     "output_type": "stream",
     "text": [
      "\r",
      " 19%|███████████████▌                                                                   | 9/48 [00:01<00:06,  5.79it/s]"
     ]
    },
    {
     "data": {
      "application/javascript": [
       "\n",
       "        if (window._pyforest_update_imports_cell) { window._pyforest_update_imports_cell('import matplotlib.pyplot as plt\\nimport numpy as np'); }\n",
       "    "
      ],
      "text/plain": [
       "<IPython.core.display.Javascript object>"
      ]
     },
     "metadata": {},
     "output_type": "display_data"
    },
    {
     "data": {
      "application/javascript": [
       "\n",
       "        if (window._pyforest_update_imports_cell) { window._pyforest_update_imports_cell('import matplotlib.pyplot as plt\\nimport numpy as np'); }\n",
       "    "
      ],
      "text/plain": [
       "<IPython.core.display.Javascript object>"
      ]
     },
     "metadata": {},
     "output_type": "display_data"
    },
    {
     "name": "stderr",
     "output_type": "stream",
     "text": [
      "\r",
      " 21%|█████████████████                                                                 | 10/48 [00:01<00:06,  5.71it/s]"
     ]
    },
    {
     "data": {
      "application/javascript": [
       "\n",
       "        if (window._pyforest_update_imports_cell) { window._pyforest_update_imports_cell('import matplotlib.pyplot as plt\\nimport numpy as np'); }\n",
       "    "
      ],
      "text/plain": [
       "<IPython.core.display.Javascript object>"
      ]
     },
     "metadata": {},
     "output_type": "display_data"
    },
    {
     "data": {
      "application/javascript": [
       "\n",
       "        if (window._pyforest_update_imports_cell) { window._pyforest_update_imports_cell('import matplotlib.pyplot as plt\\nimport numpy as np'); }\n",
       "    "
      ],
      "text/plain": [
       "<IPython.core.display.Javascript object>"
      ]
     },
     "metadata": {},
     "output_type": "display_data"
    },
    {
     "name": "stderr",
     "output_type": "stream",
     "text": [
      "\r",
      " 23%|██████████████████▊                                                               | 11/48 [00:01<00:06,  5.93it/s]"
     ]
    },
    {
     "data": {
      "application/javascript": [
       "\n",
       "        if (window._pyforest_update_imports_cell) { window._pyforest_update_imports_cell('import matplotlib.pyplot as plt\\nimport numpy as np'); }\n",
       "    "
      ],
      "text/plain": [
       "<IPython.core.display.Javascript object>"
      ]
     },
     "metadata": {},
     "output_type": "display_data"
    },
    {
     "data": {
      "application/javascript": [
       "\n",
       "        if (window._pyforest_update_imports_cell) { window._pyforest_update_imports_cell('import matplotlib.pyplot as plt\\nimport numpy as np'); }\n",
       "    "
      ],
      "text/plain": [
       "<IPython.core.display.Javascript object>"
      ]
     },
     "metadata": {},
     "output_type": "display_data"
    },
    {
     "name": "stderr",
     "output_type": "stream",
     "text": [
      "\r",
      " 25%|████████████████████▌                                                             | 12/48 [00:02<00:05,  6.18it/s]"
     ]
    },
    {
     "data": {
      "application/javascript": [
       "\n",
       "        if (window._pyforest_update_imports_cell) { window._pyforest_update_imports_cell('import matplotlib.pyplot as plt\\nimport numpy as np'); }\n",
       "    "
      ],
      "text/plain": [
       "<IPython.core.display.Javascript object>"
      ]
     },
     "metadata": {},
     "output_type": "display_data"
    },
    {
     "data": {
      "application/javascript": [
       "\n",
       "        if (window._pyforest_update_imports_cell) { window._pyforest_update_imports_cell('import matplotlib.pyplot as plt\\nimport numpy as np'); }\n",
       "    "
      ],
      "text/plain": [
       "<IPython.core.display.Javascript object>"
      ]
     },
     "metadata": {},
     "output_type": "display_data"
    },
    {
     "name": "stderr",
     "output_type": "stream",
     "text": [
      "\r",
      " 27%|██████████████████████▏                                                           | 13/48 [00:02<00:06,  5.51it/s]"
     ]
    },
    {
     "data": {
      "application/javascript": [
       "\n",
       "        if (window._pyforest_update_imports_cell) { window._pyforest_update_imports_cell('import matplotlib.pyplot as plt\\nimport numpy as np'); }\n",
       "    "
      ],
      "text/plain": [
       "<IPython.core.display.Javascript object>"
      ]
     },
     "metadata": {},
     "output_type": "display_data"
    },
    {
     "data": {
      "application/javascript": [
       "\n",
       "        if (window._pyforest_update_imports_cell) { window._pyforest_update_imports_cell('import matplotlib.pyplot as plt\\nimport numpy as np'); }\n",
       "    "
      ],
      "text/plain": [
       "<IPython.core.display.Javascript object>"
      ]
     },
     "metadata": {},
     "output_type": "display_data"
    },
    {
     "name": "stderr",
     "output_type": "stream",
     "text": [
      "\r",
      " 29%|███████████████████████▉                                                          | 14/48 [00:02<00:06,  5.45it/s]"
     ]
    },
    {
     "data": {
      "application/javascript": [
       "\n",
       "        if (window._pyforest_update_imports_cell) { window._pyforest_update_imports_cell('import matplotlib.pyplot as plt\\nimport numpy as np'); }\n",
       "    "
      ],
      "text/plain": [
       "<IPython.core.display.Javascript object>"
      ]
     },
     "metadata": {},
     "output_type": "display_data"
    },
    {
     "data": {
      "application/javascript": [
       "\n",
       "        if (window._pyforest_update_imports_cell) { window._pyforest_update_imports_cell('import matplotlib.pyplot as plt\\nimport numpy as np'); }\n",
       "    "
      ],
      "text/plain": [
       "<IPython.core.display.Javascript object>"
      ]
     },
     "metadata": {},
     "output_type": "display_data"
    },
    {
     "name": "stderr",
     "output_type": "stream",
     "text": [
      "\r",
      " 31%|█████████████████████████▋                                                        | 15/48 [00:02<00:06,  5.37it/s]"
     ]
    },
    {
     "data": {
      "application/javascript": [
       "\n",
       "        if (window._pyforest_update_imports_cell) { window._pyforest_update_imports_cell('import matplotlib.pyplot as plt\\nimport numpy as np'); }\n",
       "    "
      ],
      "text/plain": [
       "<IPython.core.display.Javascript object>"
      ]
     },
     "metadata": {},
     "output_type": "display_data"
    },
    {
     "data": {
      "application/javascript": [
       "\n",
       "        if (window._pyforest_update_imports_cell) { window._pyforest_update_imports_cell('import matplotlib.pyplot as plt\\nimport numpy as np'); }\n",
       "    "
      ],
      "text/plain": [
       "<IPython.core.display.Javascript object>"
      ]
     },
     "metadata": {},
     "output_type": "display_data"
    },
    {
     "name": "stderr",
     "output_type": "stream",
     "text": [
      "\r",
      " 33%|███████████████████████████▎                                                      | 16/48 [00:02<00:05,  5.54it/s]"
     ]
    },
    {
     "data": {
      "application/javascript": [
       "\n",
       "        if (window._pyforest_update_imports_cell) { window._pyforest_update_imports_cell('import matplotlib.pyplot as plt\\nimport numpy as np'); }\n",
       "    "
      ],
      "text/plain": [
       "<IPython.core.display.Javascript object>"
      ]
     },
     "metadata": {},
     "output_type": "display_data"
    },
    {
     "data": {
      "application/javascript": [
       "\n",
       "        if (window._pyforest_update_imports_cell) { window._pyforest_update_imports_cell('import matplotlib.pyplot as plt\\nimport numpy as np'); }\n",
       "    "
      ],
      "text/plain": [
       "<IPython.core.display.Javascript object>"
      ]
     },
     "metadata": {},
     "output_type": "display_data"
    },
    {
     "name": "stderr",
     "output_type": "stream",
     "text": [
      "\r",
      " 35%|█████████████████████████████                                                     | 17/48 [00:03<00:06,  4.67it/s]"
     ]
    },
    {
     "data": {
      "application/javascript": [
       "\n",
       "        if (window._pyforest_update_imports_cell) { window._pyforest_update_imports_cell('import matplotlib.pyplot as plt\\nimport numpy as np'); }\n",
       "    "
      ],
      "text/plain": [
       "<IPython.core.display.Javascript object>"
      ]
     },
     "metadata": {},
     "output_type": "display_data"
    },
    {
     "data": {
      "application/javascript": [
       "\n",
       "        if (window._pyforest_update_imports_cell) { window._pyforest_update_imports_cell('import matplotlib.pyplot as plt\\nimport numpy as np'); }\n",
       "    "
      ],
      "text/plain": [
       "<IPython.core.display.Javascript object>"
      ]
     },
     "metadata": {},
     "output_type": "display_data"
    },
    {
     "name": "stderr",
     "output_type": "stream",
     "text": [
      "\r",
      " 38%|██████████████████████████████▊                                                   | 18/48 [00:03<00:06,  4.80it/s]"
     ]
    },
    {
     "data": {
      "application/javascript": [
       "\n",
       "        if (window._pyforest_update_imports_cell) { window._pyforest_update_imports_cell('import matplotlib.pyplot as plt\\nimport numpy as np'); }\n",
       "    "
      ],
      "text/plain": [
       "<IPython.core.display.Javascript object>"
      ]
     },
     "metadata": {},
     "output_type": "display_data"
    },
    {
     "data": {
      "application/javascript": [
       "\n",
       "        if (window._pyforest_update_imports_cell) { window._pyforest_update_imports_cell('import matplotlib.pyplot as plt\\nimport numpy as np'); }\n",
       "    "
      ],
      "text/plain": [
       "<IPython.core.display.Javascript object>"
      ]
     },
     "metadata": {},
     "output_type": "display_data"
    },
    {
     "name": "stderr",
     "output_type": "stream",
     "text": [
      "\r",
      " 40%|████████████████████████████████▍                                                 | 19/48 [00:03<00:05,  5.12it/s]"
     ]
    },
    {
     "data": {
      "application/javascript": [
       "\n",
       "        if (window._pyforest_update_imports_cell) { window._pyforest_update_imports_cell('import matplotlib.pyplot as plt\\nimport numpy as np'); }\n",
       "    "
      ],
      "text/plain": [
       "<IPython.core.display.Javascript object>"
      ]
     },
     "metadata": {},
     "output_type": "display_data"
    },
    {
     "data": {
      "application/javascript": [
       "\n",
       "        if (window._pyforest_update_imports_cell) { window._pyforest_update_imports_cell('import matplotlib.pyplot as plt\\nimport numpy as np'); }\n",
       "    "
      ],
      "text/plain": [
       "<IPython.core.display.Javascript object>"
      ]
     },
     "metadata": {},
     "output_type": "display_data"
    },
    {
     "name": "stderr",
     "output_type": "stream",
     "text": [
      "\r",
      " 42%|██████████████████████████████████▏                                               | 20/48 [00:03<00:05,  5.23it/s]"
     ]
    },
    {
     "data": {
      "application/javascript": [
       "\n",
       "        if (window._pyforest_update_imports_cell) { window._pyforest_update_imports_cell('import matplotlib.pyplot as plt\\nimport numpy as np'); }\n",
       "    "
      ],
      "text/plain": [
       "<IPython.core.display.Javascript object>"
      ]
     },
     "metadata": {},
     "output_type": "display_data"
    },
    {
     "data": {
      "application/javascript": [
       "\n",
       "        if (window._pyforest_update_imports_cell) { window._pyforest_update_imports_cell('import matplotlib.pyplot as plt\\nimport numpy as np'); }\n",
       "    "
      ],
      "text/plain": [
       "<IPython.core.display.Javascript object>"
      ]
     },
     "metadata": {},
     "output_type": "display_data"
    },
    {
     "name": "stderr",
     "output_type": "stream",
     "text": [
      "\r",
      " 44%|███████████████████████████████████▉                                              | 21/48 [00:03<00:04,  5.52it/s]"
     ]
    },
    {
     "data": {
      "application/javascript": [
       "\n",
       "        if (window._pyforest_update_imports_cell) { window._pyforest_update_imports_cell('import matplotlib.pyplot as plt\\nimport numpy as np'); }\n",
       "    "
      ],
      "text/plain": [
       "<IPython.core.display.Javascript object>"
      ]
     },
     "metadata": {},
     "output_type": "display_data"
    },
    {
     "data": {
      "application/javascript": [
       "\n",
       "        if (window._pyforest_update_imports_cell) { window._pyforest_update_imports_cell('import matplotlib.pyplot as plt\\nimport numpy as np'); }\n",
       "    "
      ],
      "text/plain": [
       "<IPython.core.display.Javascript object>"
      ]
     },
     "metadata": {},
     "output_type": "display_data"
    },
    {
     "name": "stderr",
     "output_type": "stream",
     "text": [
      "\r",
      " 46%|█████████████████████████████████████▌                                            | 22/48 [00:03<00:04,  5.91it/s]"
     ]
    },
    {
     "data": {
      "application/javascript": [
       "\n",
       "        if (window._pyforest_update_imports_cell) { window._pyforest_update_imports_cell('import matplotlib.pyplot as plt\\nimport numpy as np'); }\n",
       "    "
      ],
      "text/plain": [
       "<IPython.core.display.Javascript object>"
      ]
     },
     "metadata": {},
     "output_type": "display_data"
    },
    {
     "data": {
      "application/javascript": [
       "\n",
       "        if (window._pyforest_update_imports_cell) { window._pyforest_update_imports_cell('import matplotlib.pyplot as plt\\nimport numpy as np'); }\n",
       "    "
      ],
      "text/plain": [
       "<IPython.core.display.Javascript object>"
      ]
     },
     "metadata": {},
     "output_type": "display_data"
    },
    {
     "name": "stderr",
     "output_type": "stream",
     "text": [
      "\r",
      " 48%|███████████████████████████████████████▎                                          | 23/48 [00:04<00:04,  5.74it/s]"
     ]
    },
    {
     "data": {
      "application/javascript": [
       "\n",
       "        if (window._pyforest_update_imports_cell) { window._pyforest_update_imports_cell('import matplotlib.pyplot as plt\\nimport numpy as np'); }\n",
       "    "
      ],
      "text/plain": [
       "<IPython.core.display.Javascript object>"
      ]
     },
     "metadata": {},
     "output_type": "display_data"
    },
    {
     "data": {
      "application/javascript": [
       "\n",
       "        if (window._pyforest_update_imports_cell) { window._pyforest_update_imports_cell('import matplotlib.pyplot as plt\\nimport numpy as np'); }\n",
       "    "
      ],
      "text/plain": [
       "<IPython.core.display.Javascript object>"
      ]
     },
     "metadata": {},
     "output_type": "display_data"
    },
    {
     "name": "stderr",
     "output_type": "stream",
     "text": [
      "\r",
      " 50%|█████████████████████████████████████████                                         | 24/48 [00:04<00:04,  5.45it/s]"
     ]
    },
    {
     "data": {
      "application/javascript": [
       "\n",
       "        if (window._pyforest_update_imports_cell) { window._pyforest_update_imports_cell('import matplotlib.pyplot as plt\\nimport numpy as np'); }\n",
       "    "
      ],
      "text/plain": [
       "<IPython.core.display.Javascript object>"
      ]
     },
     "metadata": {},
     "output_type": "display_data"
    },
    {
     "data": {
      "application/javascript": [
       "\n",
       "        if (window._pyforest_update_imports_cell) { window._pyforest_update_imports_cell('import matplotlib.pyplot as plt\\nimport numpy as np'); }\n",
       "    "
      ],
      "text/plain": [
       "<IPython.core.display.Javascript object>"
      ]
     },
     "metadata": {},
     "output_type": "display_data"
    },
    {
     "name": "stderr",
     "output_type": "stream",
     "text": [
      "\r",
      " 52%|██████████████████████████████████████████▋                                       | 25/48 [00:04<00:04,  5.44it/s]"
     ]
    },
    {
     "data": {
      "application/javascript": [
       "\n",
       "        if (window._pyforest_update_imports_cell) { window._pyforest_update_imports_cell('import matplotlib.pyplot as plt\\nimport numpy as np'); }\n",
       "    "
      ],
      "text/plain": [
       "<IPython.core.display.Javascript object>"
      ]
     },
     "metadata": {},
     "output_type": "display_data"
    },
    {
     "data": {
      "application/javascript": [
       "\n",
       "        if (window._pyforest_update_imports_cell) { window._pyforest_update_imports_cell('import matplotlib.pyplot as plt\\nimport numpy as np'); }\n",
       "    "
      ],
      "text/plain": [
       "<IPython.core.display.Javascript object>"
      ]
     },
     "metadata": {},
     "output_type": "display_data"
    },
    {
     "name": "stderr",
     "output_type": "stream",
     "text": [
      "\r",
      " 54%|████████████████████████████████████████████▍                                     | 26/48 [00:04<00:03,  5.51it/s]"
     ]
    },
    {
     "data": {
      "application/javascript": [
       "\n",
       "        if (window._pyforest_update_imports_cell) { window._pyforest_update_imports_cell('import matplotlib.pyplot as plt\\nimport numpy as np'); }\n",
       "    "
      ],
      "text/plain": [
       "<IPython.core.display.Javascript object>"
      ]
     },
     "metadata": {},
     "output_type": "display_data"
    },
    {
     "data": {
      "application/javascript": [
       "\n",
       "        if (window._pyforest_update_imports_cell) { window._pyforest_update_imports_cell('import matplotlib.pyplot as plt\\nimport numpy as np'); }\n",
       "    "
      ],
      "text/plain": [
       "<IPython.core.display.Javascript object>"
      ]
     },
     "metadata": {},
     "output_type": "display_data"
    },
    {
     "name": "stderr",
     "output_type": "stream",
     "text": [
      "\r",
      " 56%|██████████████████████████████████████████████▏                                   | 27/48 [00:04<00:03,  5.38it/s]"
     ]
    },
    {
     "data": {
      "application/javascript": [
       "\n",
       "        if (window._pyforest_update_imports_cell) { window._pyforest_update_imports_cell('import matplotlib.pyplot as plt\\nimport numpy as np'); }\n",
       "    "
      ],
      "text/plain": [
       "<IPython.core.display.Javascript object>"
      ]
     },
     "metadata": {},
     "output_type": "display_data"
    },
    {
     "data": {
      "application/javascript": [
       "\n",
       "        if (window._pyforest_update_imports_cell) { window._pyforest_update_imports_cell('import matplotlib.pyplot as plt\\nimport numpy as np'); }\n",
       "    "
      ],
      "text/plain": [
       "<IPython.core.display.Javascript object>"
      ]
     },
     "metadata": {},
     "output_type": "display_data"
    },
    {
     "name": "stderr",
     "output_type": "stream",
     "text": [
      "\r",
      " 58%|███████████████████████████████████████████████▊                                  | 28/48 [00:05<00:03,  5.34it/s]"
     ]
    },
    {
     "data": {
      "application/javascript": [
       "\n",
       "        if (window._pyforest_update_imports_cell) { window._pyforest_update_imports_cell('import matplotlib.pyplot as plt\\nimport numpy as np'); }\n",
       "    "
      ],
      "text/plain": [
       "<IPython.core.display.Javascript object>"
      ]
     },
     "metadata": {},
     "output_type": "display_data"
    },
    {
     "data": {
      "application/javascript": [
       "\n",
       "        if (window._pyforest_update_imports_cell) { window._pyforest_update_imports_cell('import matplotlib.pyplot as plt\\nimport numpy as np'); }\n",
       "    "
      ],
      "text/plain": [
       "<IPython.core.display.Javascript object>"
      ]
     },
     "metadata": {},
     "output_type": "display_data"
    },
    {
     "name": "stderr",
     "output_type": "stream",
     "text": [
      "\r",
      " 60%|█████████████████████████████████████████████████▌                                | 29/48 [00:05<00:03,  5.11it/s]"
     ]
    },
    {
     "data": {
      "application/javascript": [
       "\n",
       "        if (window._pyforest_update_imports_cell) { window._pyforest_update_imports_cell('import matplotlib.pyplot as plt\\nimport numpy as np'); }\n",
       "    "
      ],
      "text/plain": [
       "<IPython.core.display.Javascript object>"
      ]
     },
     "metadata": {},
     "output_type": "display_data"
    },
    {
     "data": {
      "application/javascript": [
       "\n",
       "        if (window._pyforest_update_imports_cell) { window._pyforest_update_imports_cell('import matplotlib.pyplot as plt\\nimport numpy as np'); }\n",
       "    "
      ],
      "text/plain": [
       "<IPython.core.display.Javascript object>"
      ]
     },
     "metadata": {},
     "output_type": "display_data"
    },
    {
     "name": "stderr",
     "output_type": "stream",
     "text": [
      "\r",
      " 62%|███████████████████████████████████████████████████▎                              | 30/48 [00:05<00:03,  4.91it/s]"
     ]
    },
    {
     "data": {
      "application/javascript": [
       "\n",
       "        if (window._pyforest_update_imports_cell) { window._pyforest_update_imports_cell('import matplotlib.pyplot as plt\\nimport numpy as np'); }\n",
       "    "
      ],
      "text/plain": [
       "<IPython.core.display.Javascript object>"
      ]
     },
     "metadata": {},
     "output_type": "display_data"
    },
    {
     "data": {
      "application/javascript": [
       "\n",
       "        if (window._pyforest_update_imports_cell) { window._pyforest_update_imports_cell('import matplotlib.pyplot as plt\\nimport numpy as np'); }\n",
       "    "
      ],
      "text/plain": [
       "<IPython.core.display.Javascript object>"
      ]
     },
     "metadata": {},
     "output_type": "display_data"
    },
    {
     "name": "stderr",
     "output_type": "stream",
     "text": [
      "\r",
      " 65%|████████████████████████████████████████████████████▉                             | 31/48 [00:05<00:03,  5.07it/s]"
     ]
    },
    {
     "data": {
      "application/javascript": [
       "\n",
       "        if (window._pyforest_update_imports_cell) { window._pyforest_update_imports_cell('import matplotlib.pyplot as plt\\nimport numpy as np'); }\n",
       "    "
      ],
      "text/plain": [
       "<IPython.core.display.Javascript object>"
      ]
     },
     "metadata": {},
     "output_type": "display_data"
    },
    {
     "data": {
      "application/javascript": [
       "\n",
       "        if (window._pyforest_update_imports_cell) { window._pyforest_update_imports_cell('import matplotlib.pyplot as plt\\nimport numpy as np'); }\n",
       "    "
      ],
      "text/plain": [
       "<IPython.core.display.Javascript object>"
      ]
     },
     "metadata": {},
     "output_type": "display_data"
    },
    {
     "name": "stderr",
     "output_type": "stream",
     "text": [
      "\r",
      " 67%|██████████████████████████████████████████████████████▋                           | 32/48 [00:05<00:03,  5.02it/s]"
     ]
    },
    {
     "data": {
      "application/javascript": [
       "\n",
       "        if (window._pyforest_update_imports_cell) { window._pyforest_update_imports_cell('import matplotlib.pyplot as plt\\nimport numpy as np'); }\n",
       "    "
      ],
      "text/plain": [
       "<IPython.core.display.Javascript object>"
      ]
     },
     "metadata": {},
     "output_type": "display_data"
    },
    {
     "data": {
      "application/javascript": [
       "\n",
       "        if (window._pyforest_update_imports_cell) { window._pyforest_update_imports_cell('import matplotlib.pyplot as plt\\nimport numpy as np'); }\n",
       "    "
      ],
      "text/plain": [
       "<IPython.core.display.Javascript object>"
      ]
     },
     "metadata": {},
     "output_type": "display_data"
    },
    {
     "name": "stderr",
     "output_type": "stream",
     "text": [
      "\r",
      " 69%|████████████████████████████████████████████████████████▍                         | 33/48 [00:06<00:03,  4.46it/s]"
     ]
    },
    {
     "data": {
      "application/javascript": [
       "\n",
       "        if (window._pyforest_update_imports_cell) { window._pyforest_update_imports_cell('import matplotlib.pyplot as plt\\nimport numpy as np'); }\n",
       "    "
      ],
      "text/plain": [
       "<IPython.core.display.Javascript object>"
      ]
     },
     "metadata": {},
     "output_type": "display_data"
    },
    {
     "data": {
      "application/javascript": [
       "\n",
       "        if (window._pyforest_update_imports_cell) { window._pyforest_update_imports_cell('import matplotlib.pyplot as plt\\nimport numpy as np'); }\n",
       "    "
      ],
      "text/plain": [
       "<IPython.core.display.Javascript object>"
      ]
     },
     "metadata": {},
     "output_type": "display_data"
    },
    {
     "name": "stderr",
     "output_type": "stream",
     "text": [
      "\r",
      " 71%|██████████████████████████████████████████████████████████                        | 34/48 [00:06<00:03,  4.39it/s]"
     ]
    },
    {
     "data": {
      "application/javascript": [
       "\n",
       "        if (window._pyforest_update_imports_cell) { window._pyforest_update_imports_cell('import matplotlib.pyplot as plt\\nimport numpy as np'); }\n",
       "    "
      ],
      "text/plain": [
       "<IPython.core.display.Javascript object>"
      ]
     },
     "metadata": {},
     "output_type": "display_data"
    },
    {
     "data": {
      "application/javascript": [
       "\n",
       "        if (window._pyforest_update_imports_cell) { window._pyforest_update_imports_cell('import matplotlib.pyplot as plt\\nimport numpy as np'); }\n",
       "    "
      ],
      "text/plain": [
       "<IPython.core.display.Javascript object>"
      ]
     },
     "metadata": {},
     "output_type": "display_data"
    },
    {
     "name": "stderr",
     "output_type": "stream",
     "text": [
      "\r",
      " 73%|███████████████████████████████████████████████████████████▊                      | 35/48 [00:06<00:02,  4.73it/s]"
     ]
    },
    {
     "data": {
      "application/javascript": [
       "\n",
       "        if (window._pyforest_update_imports_cell) { window._pyforest_update_imports_cell('import matplotlib.pyplot as plt\\nimport numpy as np'); }\n",
       "    "
      ],
      "text/plain": [
       "<IPython.core.display.Javascript object>"
      ]
     },
     "metadata": {},
     "output_type": "display_data"
    },
    {
     "data": {
      "application/javascript": [
       "\n",
       "        if (window._pyforest_update_imports_cell) { window._pyforest_update_imports_cell('import matplotlib.pyplot as plt\\nimport numpy as np'); }\n",
       "    "
      ],
      "text/plain": [
       "<IPython.core.display.Javascript object>"
      ]
     },
     "metadata": {},
     "output_type": "display_data"
    },
    {
     "name": "stderr",
     "output_type": "stream",
     "text": [
      "\r",
      " 75%|█████████████████████████████████████████████████████████████▌                    | 36/48 [00:06<00:02,  4.81it/s]"
     ]
    },
    {
     "data": {
      "application/javascript": [
       "\n",
       "        if (window._pyforest_update_imports_cell) { window._pyforest_update_imports_cell('import matplotlib.pyplot as plt\\nimport numpy as np'); }\n",
       "    "
      ],
      "text/plain": [
       "<IPython.core.display.Javascript object>"
      ]
     },
     "metadata": {},
     "output_type": "display_data"
    },
    {
     "data": {
      "application/javascript": [
       "\n",
       "        if (window._pyforest_update_imports_cell) { window._pyforest_update_imports_cell('import matplotlib.pyplot as plt\\nimport numpy as np'); }\n",
       "    "
      ],
      "text/plain": [
       "<IPython.core.display.Javascript object>"
      ]
     },
     "metadata": {},
     "output_type": "display_data"
    },
    {
     "name": "stderr",
     "output_type": "stream",
     "text": [
      "\r",
      " 77%|███████████████████████████████████████████████████████████████▏                  | 37/48 [00:07<00:02,  4.53it/s]"
     ]
    },
    {
     "data": {
      "application/javascript": [
       "\n",
       "        if (window._pyforest_update_imports_cell) { window._pyforest_update_imports_cell('import matplotlib.pyplot as plt\\nimport numpy as np'); }\n",
       "    "
      ],
      "text/plain": [
       "<IPython.core.display.Javascript object>"
      ]
     },
     "metadata": {},
     "output_type": "display_data"
    },
    {
     "data": {
      "application/javascript": [
       "\n",
       "        if (window._pyforest_update_imports_cell) { window._pyforest_update_imports_cell('import matplotlib.pyplot as plt\\nimport numpy as np'); }\n",
       "    "
      ],
      "text/plain": [
       "<IPython.core.display.Javascript object>"
      ]
     },
     "metadata": {},
     "output_type": "display_data"
    },
    {
     "name": "stderr",
     "output_type": "stream",
     "text": [
      "\r",
      " 79%|████████████████████████████████████████████████████████████████▉                 | 38/48 [00:07<00:02,  4.64it/s]"
     ]
    },
    {
     "data": {
      "application/javascript": [
       "\n",
       "        if (window._pyforest_update_imports_cell) { window._pyforest_update_imports_cell('import matplotlib.pyplot as plt\\nimport numpy as np'); }\n",
       "    "
      ],
      "text/plain": [
       "<IPython.core.display.Javascript object>"
      ]
     },
     "metadata": {},
     "output_type": "display_data"
    },
    {
     "data": {
      "application/javascript": [
       "\n",
       "        if (window._pyforest_update_imports_cell) { window._pyforest_update_imports_cell('import matplotlib.pyplot as plt\\nimport numpy as np'); }\n",
       "    "
      ],
      "text/plain": [
       "<IPython.core.display.Javascript object>"
      ]
     },
     "metadata": {},
     "output_type": "display_data"
    },
    {
     "name": "stderr",
     "output_type": "stream",
     "text": [
      "\r",
      " 81%|██████████████████████████████████████████████████████████████████▋               | 39/48 [00:07<00:01,  4.53it/s]"
     ]
    },
    {
     "data": {
      "application/javascript": [
       "\n",
       "        if (window._pyforest_update_imports_cell) { window._pyforest_update_imports_cell('import matplotlib.pyplot as plt\\nimport numpy as np'); }\n",
       "    "
      ],
      "text/plain": [
       "<IPython.core.display.Javascript object>"
      ]
     },
     "metadata": {},
     "output_type": "display_data"
    },
    {
     "data": {
      "application/javascript": [
       "\n",
       "        if (window._pyforest_update_imports_cell) { window._pyforest_update_imports_cell('import matplotlib.pyplot as plt\\nimport numpy as np'); }\n",
       "    "
      ],
      "text/plain": [
       "<IPython.core.display.Javascript object>"
      ]
     },
     "metadata": {},
     "output_type": "display_data"
    },
    {
     "name": "stderr",
     "output_type": "stream",
     "text": [
      "\r",
      " 83%|████████████████████████████████████████████████████████████████████▎             | 40/48 [00:07<00:01,  4.11it/s]"
     ]
    },
    {
     "data": {
      "application/javascript": [
       "\n",
       "        if (window._pyforest_update_imports_cell) { window._pyforest_update_imports_cell('import matplotlib.pyplot as plt\\nimport numpy as np'); }\n",
       "    "
      ],
      "text/plain": [
       "<IPython.core.display.Javascript object>"
      ]
     },
     "metadata": {},
     "output_type": "display_data"
    },
    {
     "data": {
      "application/javascript": [
       "\n",
       "        if (window._pyforest_update_imports_cell) { window._pyforest_update_imports_cell('import matplotlib.pyplot as plt\\nimport numpy as np'); }\n",
       "    "
      ],
      "text/plain": [
       "<IPython.core.display.Javascript object>"
      ]
     },
     "metadata": {},
     "output_type": "display_data"
    },
    {
     "name": "stderr",
     "output_type": "stream",
     "text": [
      "\r",
      " 85%|██████████████████████████████████████████████████████████████████████            | 41/48 [00:08<00:01,  4.14it/s]"
     ]
    },
    {
     "data": {
      "application/javascript": [
       "\n",
       "        if (window._pyforest_update_imports_cell) { window._pyforest_update_imports_cell('import matplotlib.pyplot as plt\\nimport numpy as np'); }\n",
       "    "
      ],
      "text/plain": [
       "<IPython.core.display.Javascript object>"
      ]
     },
     "metadata": {},
     "output_type": "display_data"
    },
    {
     "data": {
      "application/javascript": [
       "\n",
       "        if (window._pyforest_update_imports_cell) { window._pyforest_update_imports_cell('import matplotlib.pyplot as plt\\nimport numpy as np'); }\n",
       "    "
      ],
      "text/plain": [
       "<IPython.core.display.Javascript object>"
      ]
     },
     "metadata": {},
     "output_type": "display_data"
    },
    {
     "name": "stderr",
     "output_type": "stream",
     "text": [
      "\r",
      " 88%|███████████████████████████████████████████████████████████████████████▊          | 42/48 [00:08<00:01,  3.97it/s]"
     ]
    },
    {
     "data": {
      "application/javascript": [
       "\n",
       "        if (window._pyforest_update_imports_cell) { window._pyforest_update_imports_cell('import matplotlib.pyplot as plt\\nimport numpy as np'); }\n",
       "    "
      ],
      "text/plain": [
       "<IPython.core.display.Javascript object>"
      ]
     },
     "metadata": {},
     "output_type": "display_data"
    },
    {
     "data": {
      "application/javascript": [
       "\n",
       "        if (window._pyforest_update_imports_cell) { window._pyforest_update_imports_cell('import matplotlib.pyplot as plt\\nimport numpy as np'); }\n",
       "    "
      ],
      "text/plain": [
       "<IPython.core.display.Javascript object>"
      ]
     },
     "metadata": {},
     "output_type": "display_data"
    },
    {
     "name": "stderr",
     "output_type": "stream",
     "text": [
      "\r",
      " 90%|█████████████████████████████████████████████████████████████████████████▍        | 43/48 [00:08<00:01,  3.78it/s]"
     ]
    },
    {
     "data": {
      "application/javascript": [
       "\n",
       "        if (window._pyforest_update_imports_cell) { window._pyforest_update_imports_cell('import matplotlib.pyplot as plt\\nimport numpy as np'); }\n",
       "    "
      ],
      "text/plain": [
       "<IPython.core.display.Javascript object>"
      ]
     },
     "metadata": {},
     "output_type": "display_data"
    },
    {
     "data": {
      "application/javascript": [
       "\n",
       "        if (window._pyforest_update_imports_cell) { window._pyforest_update_imports_cell('import matplotlib.pyplot as plt\\nimport numpy as np'); }\n",
       "    "
      ],
      "text/plain": [
       "<IPython.core.display.Javascript object>"
      ]
     },
     "metadata": {},
     "output_type": "display_data"
    },
    {
     "name": "stderr",
     "output_type": "stream",
     "text": [
      "\r",
      " 92%|███████████████████████████████████████████████████████████████████████████▏      | 44/48 [00:08<00:01,  3.91it/s]"
     ]
    },
    {
     "data": {
      "application/javascript": [
       "\n",
       "        if (window._pyforest_update_imports_cell) { window._pyforest_update_imports_cell('import matplotlib.pyplot as plt\\nimport numpy as np'); }\n",
       "    "
      ],
      "text/plain": [
       "<IPython.core.display.Javascript object>"
      ]
     },
     "metadata": {},
     "output_type": "display_data"
    },
    {
     "data": {
      "application/javascript": [
       "\n",
       "        if (window._pyforest_update_imports_cell) { window._pyforest_update_imports_cell('import matplotlib.pyplot as plt\\nimport numpy as np'); }\n",
       "    "
      ],
      "text/plain": [
       "<IPython.core.display.Javascript object>"
      ]
     },
     "metadata": {},
     "output_type": "display_data"
    },
    {
     "name": "stderr",
     "output_type": "stream",
     "text": [
      "\r",
      " 94%|████████████████████████████████████████████████████████████████████████████▉     | 45/48 [00:09<00:00,  3.63it/s]"
     ]
    },
    {
     "data": {
      "application/javascript": [
       "\n",
       "        if (window._pyforest_update_imports_cell) { window._pyforest_update_imports_cell('import matplotlib.pyplot as plt\\nimport numpy as np'); }\n",
       "    "
      ],
      "text/plain": [
       "<IPython.core.display.Javascript object>"
      ]
     },
     "metadata": {},
     "output_type": "display_data"
    },
    {
     "data": {
      "application/javascript": [
       "\n",
       "        if (window._pyforest_update_imports_cell) { window._pyforest_update_imports_cell('import matplotlib.pyplot as plt\\nimport numpy as np'); }\n",
       "    "
      ],
      "text/plain": [
       "<IPython.core.display.Javascript object>"
      ]
     },
     "metadata": {},
     "output_type": "display_data"
    },
    {
     "name": "stderr",
     "output_type": "stream",
     "text": [
      "\r",
      " 96%|██████████████████████████████████████████████████████████████████████████████▌   | 46/48 [00:09<00:00,  3.61it/s]"
     ]
    },
    {
     "data": {
      "application/javascript": [
       "\n",
       "        if (window._pyforest_update_imports_cell) { window._pyforest_update_imports_cell('import matplotlib.pyplot as plt\\nimport numpy as np'); }\n",
       "    "
      ],
      "text/plain": [
       "<IPython.core.display.Javascript object>"
      ]
     },
     "metadata": {},
     "output_type": "display_data"
    },
    {
     "data": {
      "application/javascript": [
       "\n",
       "        if (window._pyforest_update_imports_cell) { window._pyforest_update_imports_cell('import matplotlib.pyplot as plt\\nimport numpy as np'); }\n",
       "    "
      ],
      "text/plain": [
       "<IPython.core.display.Javascript object>"
      ]
     },
     "metadata": {},
     "output_type": "display_data"
    },
    {
     "name": "stderr",
     "output_type": "stream",
     "text": [
      "\r",
      " 98%|████████████████████████████████████████████████████████████████████████████████▎ | 47/48 [00:09<00:00,  3.73it/s]"
     ]
    },
    {
     "data": {
      "application/javascript": [
       "\n",
       "        if (window._pyforest_update_imports_cell) { window._pyforest_update_imports_cell('import matplotlib.pyplot as plt\\nimport numpy as np'); }\n",
       "    "
      ],
      "text/plain": [
       "<IPython.core.display.Javascript object>"
      ]
     },
     "metadata": {},
     "output_type": "display_data"
    },
    {
     "data": {
      "application/javascript": [
       "\n",
       "        if (window._pyforest_update_imports_cell) { window._pyforest_update_imports_cell('import matplotlib.pyplot as plt\\nimport numpy as np'); }\n",
       "    "
      ],
      "text/plain": [
       "<IPython.core.display.Javascript object>"
      ]
     },
     "metadata": {},
     "output_type": "display_data"
    },
    {
     "name": "stderr",
     "output_type": "stream",
     "text": [
      "100%|██████████████████████████████████████████████████████████████████████████████████| 48/48 [00:09<00:00,  4.82it/s]"
     ]
    },
    {
     "name": "stdout",
     "output_type": "stream",
     "text": [
      "(784, 224, 224, 3) (784, 4)\n"
     ]
    },
    {
     "name": "stderr",
     "output_type": "stream",
     "text": [
      "\n"
     ]
    }
   ],
   "source": [
    "import tqdm\n",
    "val_set.reset()\n",
    "X_val, y_val = next(val_set)\n",
    "for i in tqdm.tqdm(range(int(val_set.n/batch_size)-1)): \n",
    "    img, label = next(val_set)\n",
    "    X_val = np.append(X_val, img, axis=0 )\n",
    "    y_val = np.append(y_val, label, axis=0)\n",
    "print(X_val.shape, y_val.shape)"
   ]
  },
  {
   "cell_type": "code",
   "execution_count": 159,
   "id": "e6bcb1d1",
   "metadata": {},
   "outputs": [
    {
     "name": "stdout",
     "output_type": "stream",
     "text": [
      "Test Score:  0.5112626552581787\n",
      "Test accuracy:  0.831632673740387\n"
     ]
    }
   ],
   "source": [
    "score = model.evaluate(X_val, y_val, verbose = 0 )\n",
    "print(\"Test Score: \", score[0])\n",
    "print(\"Test accuracy: \", score[1])"
   ]
  },
  {
   "cell_type": "code",
   "execution_count": 160,
   "id": "2076cdbd",
   "metadata": {},
   "outputs": [
    {
     "name": "stdout",
     "output_type": "stream",
     "text": [
      "25/25 [==============================] - 111s 4s/step\n"
     ]
    },
    {
     "data": {
      "application/javascript": [
       "\n",
       "        if (window._pyforest_update_imports_cell) { window._pyforest_update_imports_cell('import matplotlib.pyplot as plt\\nimport numpy as np'); }\n",
       "    "
      ],
      "text/plain": [
       "<IPython.core.display.Javascript object>"
      ]
     },
     "metadata": {},
     "output_type": "display_data"
    }
   ],
   "source": [
    "#predict\n",
    "y_pred=model.predict(X_val)\n",
    "y_pred_classes=np.argmax(y_pred,axis=1)"
   ]
  },
  {
   "cell_type": "code",
   "execution_count": 161,
   "id": "18a82469",
   "metadata": {},
   "outputs": [
    {
     "data": {
      "application/javascript": [
       "\n",
       "        if (window._pyforest_update_imports_cell) { window._pyforest_update_imports_cell('import matplotlib.pyplot as plt\\nimport numpy as np\\nimport tensorflow as tf'); }\n",
       "    "
      ],
      "text/plain": [
       "<IPython.core.display.Javascript object>"
      ]
     },
     "metadata": {},
     "output_type": "display_data"
    }
   ],
   "source": [
    "y_pred_classes = tf.keras.utils.to_categorical(y_pred_classes, num_classes=4)"
   ]
  },
  {
   "cell_type": "code",
   "execution_count": 162,
   "id": "f79a6695",
   "metadata": {},
   "outputs": [
    {
     "data": {
      "text/plain": [
       "array([[0., 0., 1., 0.],\n",
       "       [0., 0., 1., 0.],\n",
       "       [0., 1., 0., 0.],\n",
       "       ...,\n",
       "       [0., 0., 1., 0.],\n",
       "       [0., 1., 0., 0.],\n",
       "       [1., 0., 0., 0.]], dtype=float32)"
      ]
     },
     "execution_count": 162,
     "metadata": {},
     "output_type": "execute_result"
    }
   ],
   "source": [
    "y_pred_classes"
   ]
  },
  {
   "cell_type": "code",
   "execution_count": 163,
   "id": "732f9d89",
   "metadata": {},
   "outputs": [
    {
     "name": "stdout",
     "output_type": "stream",
     "text": [
      "              precision    recall  f1-score   support\n",
      "\n",
      "           0       0.58      0.85      0.69        93\n",
      "           1       0.77      0.81      0.79       212\n",
      "           2       0.93      0.84      0.89       417\n",
      "           3       1.00      0.82      0.90        62\n",
      "\n",
      "   micro avg       0.83      0.83      0.83       784\n",
      "   macro avg       0.82      0.83      0.82       784\n",
      "weighted avg       0.85      0.83      0.84       784\n",
      " samples avg       0.83      0.83      0.83       784\n",
      "\n"
     ]
    }
   ],
   "source": [
    "#get classification report\n",
    "print(classification_report(y_pred_classes,y_val))"
   ]
  },
  {
   "cell_type": "code",
   "execution_count": null,
   "id": "8910bf86",
   "metadata": {},
   "outputs": [],
   "source": []
  },
  {
   "cell_type": "code",
   "execution_count": null,
   "id": "2a1c7641",
   "metadata": {},
   "outputs": [],
   "source": []
  },
  {
   "cell_type": "code",
   "execution_count": null,
   "id": "98db8fd1",
   "metadata": {},
   "outputs": [],
   "source": []
  },
  {
   "cell_type": "code",
   "execution_count": null,
   "id": "75ee5600",
   "metadata": {},
   "outputs": [],
   "source": []
  }
 ],
 "metadata": {
  "kernelspec": {
   "display_name": "Python 3",
   "language": "python",
   "name": "python3"
  },
  "language_info": {
   "codemirror_mode": {
    "name": "ipython",
    "version": 3
   },
   "file_extension": ".py",
   "mimetype": "text/x-python",
   "name": "python",
   "nbconvert_exporter": "python",
   "pygments_lexer": "ipython3",
   "version": "3.7.5"
  }
 },
 "nbformat": 4,
 "nbformat_minor": 5
}
